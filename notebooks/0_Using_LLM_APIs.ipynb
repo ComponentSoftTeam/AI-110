{
  "cells": [
    {
      "cell_type": "markdown",
      "metadata": {
        "id": "view-in-github",
        "colab_type": "text"
      },
      "source": [
        "<a href=\"https://colab.research.google.com/github/ComponentSoftTeam/AI-110/blob/main/notebooks/0_Using_LLM_APIs.ipynb\" target=\"_parent\"><img src=\"https://colab.research.google.com/assets/colab-badge.svg\" alt=\"Open In Colab\"/></a>"
      ]
    },
    {
      "cell_type": "markdown",
      "source": [
        "## API example"
      ],
      "metadata": {
        "id": "zFVQhmwAA-3z"
      },
      "id": "zFVQhmwAA-3z"
    },
    {
      "cell_type": "code",
      "execution_count": 1,
      "id": "bdfba6c5",
      "metadata": {
        "id": "bdfba6c5"
      },
      "outputs": [],
      "source": [
        "%%capture\n",
        "pip install -U -q gradio-client==0.6.1"
      ]
    },
    {
      "cell_type": "code",
      "source": [
        "from gradio_client import Client\n",
        "client = Client(\"https://componentsoft-kubewizard.hf.space/\")"
      ],
      "metadata": {
        "id": "_VldG25V_aIc",
        "outputId": "84e69a66-4b48-40a4-c10c-6e029b783f37",
        "colab": {
          "base_uri": "https://localhost:8080/"
        }
      },
      "id": "_VldG25V_aIc",
      "execution_count": 2,
      "outputs": [
        {
          "output_type": "stream",
          "name": "stdout",
          "text": [
            "Loaded as API: https://componentsoft-kubewizard.hf.space/ ✔\n"
          ]
        }
      ]
    },
    {
      "cell_type": "code",
      "source": [],
      "metadata": {
        "id": "YRJV14mxuS0V"
      },
      "id": "YRJV14mxuS0V",
      "execution_count": null,
      "outputs": []
    },
    {
      "cell_type": "code",
      "source": [
        "result = client.predict(\n",
        "\t\tFalse,\t# bool  in 'Non Verbose' Checkbox component\n",
        "\t\t\"What is the capital of Hungary?\",\t# str  in 'Prompt' Textbox component\n",
        "\t\tapi_name=\"/predict\"\n",
        ")\n",
        "print(result)"
      ],
      "metadata": {
        "id": "QXc48LbgYXQx",
        "outputId": "ccaedf7f-f45f-4822-c589-8e8c9b3c3085",
        "colab": {
          "base_uri": "https://localhost:8080/"
        }
      },
      "id": "QXc48LbgYXQx",
      "execution_count": 5,
      "outputs": [
        {
          "output_type": "stream",
          "name": "stdout",
          "text": [
            "# 📚KubeWizard📚\n",
            "#### A helpful Kubernetes Assistant powered by Component Soft\n",
            "--------------------------------------------\n",
            "# Classified your prompt as:\n",
            "Kubectl command / Kubernetes related / **Other**\n",
            "\n",
            "# Answer:\n",
            "The capital city of Hungary is Budapest.\n"
          ]
        }
      ]
    },
    {
      "cell_type": "code",
      "source": [],
      "metadata": {
        "id": "20DTITMWuOtl"
      },
      "id": "20DTITMWuOtl",
      "execution_count": null,
      "outputs": []
    },
    {
      "cell_type": "code",
      "source": [
        "result = client.predict(\n",
        "\t\tFalse,\t# bool  in 'Non Verbose' Checkbox component\n",
        "\t\t\"Add a new nginx pod to a Kubernetes cluster\",\t# str  in 'Prompt' Textbox component\n",
        "\t\tapi_name=\"/predict\"\n",
        ")\n",
        "print(result)"
      ],
      "metadata": {
        "id": "uKi5XI5eYQqI",
        "outputId": "71a111ec-9e0a-4794-af34-5a170a860ca2",
        "colab": {
          "base_uri": "https://localhost:8080/"
        }
      },
      "id": "uKi5XI5eYQqI",
      "execution_count": 7,
      "outputs": [
        {
          "output_type": "stream",
          "name": "stdout",
          "text": [
            "# 📚KubeWizard📚\n",
            "#### A helpful Kubernetes Assistant powered by Component Soft\n",
            "--------------------------------------------\n",
            "# Classified your prompt as:\n",
            "**Kubectl command** / Kubernetes related / Other\n",
            "\n",
            "# Answer:\n",
            "```bash\n",
            "kubectl run hazelcast --image=nginx\n",
            "```\n"
          ]
        }
      ]
    },
    {
      "cell_type": "code",
      "source": [],
      "metadata": {
        "id": "JTQ3C5sSuE_F"
      },
      "id": "JTQ3C5sSuE_F",
      "execution_count": null,
      "outputs": []
    },
    {
      "cell_type": "code",
      "source": [
        "result = client.predict(\n",
        "\t\tFalse,\t# bool  in 'Non Verbose' Checkbox component\n",
        "\t\t\"How can I increase the security of a K8s cluster?\",\t# str  in 'Prompt' Textbox component\n",
        "\t\tapi_name=\"/predict\"\n",
        ")\n",
        "print(result)"
      ],
      "metadata": {
        "id": "tSOdK4N-YJqb",
        "outputId": "aecd307b-53dc-4efd-af74-7da000f27058",
        "colab": {
          "base_uri": "https://localhost:8080/"
        }
      },
      "id": "tSOdK4N-YJqb",
      "execution_count": 8,
      "outputs": [
        {
          "output_type": "stream",
          "name": "stdout",
          "text": [
            "# 📚KubeWizard📚\n",
            "#### A helpful Kubernetes Assistant powered by Component Soft\n",
            "--------------------------------------------\n",
            "# Classified your prompt as:\n",
            "Kubectl command / **Kubernetes related** / Other\n",
            "\n",
            "# Answer with finetuned model  \n",
            "\n",
            "1. Use a secure connection to access the cluster, such as HTTPS or SSH.  \n",
            "2. Enable network policies to control traffic flow within the cluster.  \n",
            "3. Implement role-based access control (RBAC) to ensure that users and services have appropriate permissions.  \n",
            "4. Use a service account for authentication and authorization.  \n",
            "5. Enable pod security policies to prevent malicious actions on containers.  \n",
            "6. Regularly update the cluster software and components to address any known vulnerabilities.  \n",
            "7. Monitor the cluster logs and alerts for suspicious activity.  \n",
            "8. Use encryption at rest and in transit to protect data.  \n",
            "9. Limit the number of nodes in the cluster to reduce the attack surface.  \n",
            "10. Consider using a dedicated security tool like Clair or Trivy to scan the cluster for vulnerabilities.  \n",
            "\n",
            "# Answer with RAG  \n",
            "\n",
            "To increase the security of a Kubernetes cluster, there are several steps you can take:  \n",
            "  \n",
            "1. Use Role-Based Access Control (RBAC): Implement RBAC to control access to Kubernetes resources. This allows you to define roles and assign permissions to users and groups, ensuring that only authorized individuals can perform operations on the cluster.  \n",
            "2. Enable Pod Security Policies (PSP): Use PSP to enforce security standards for Pods. PSPs provide a set of predefined security profiles that you can apply to your clusters, including Privileged, Baseline, and Restricted. Each profile includes different levels of security restrictions, allowing you to choose the appropriate level for your environment.  \n",
            "3. Use Network Policies: Implement Network Policies to control network traffic within the cluster. This enables you to define rules that determine which  \n",
            "\n",
            "# Answer with Google search  \n",
            "\n",
            "1. Use Transport Layer Security (TLS) for all API traffic. Kubernetes expects that all API communication in the cluster is encrypted by default.  \n",
            "2. Build network security definitions into your workloads using a declarative model. This helps protect your cluster from unauthorized access.  \n",
            "3. Enable role-based access control (RBAC) to ensure that only authorized users have access to specific resources within the cluster.  \n",
            "4. Shielded GKE Nodes provide strong, verifiable node identity and integrity to increase the security of GKE nodes and should be enabled on all GKE clusters.  \n",
            "5. Encrypt data at rest wherever possible to prevent unauthorized access to sensitive information.  \n",
            "6. Use access control tools to restrict who can access data and ensure that the servers managing your storage pools are secure.  \n",
            "7. Secure containers  \n"
          ]
        }
      ]
    }
  ],
  "metadata": {
    "kernelspec": {
      "display_name": "Python 3",
      "name": "python3"
    },
    "language_info": {
      "codemirror_mode": {
        "name": "ipython",
        "version": 3
      },
      "file_extension": ".py",
      "mimetype": "text/x-python",
      "name": "python",
      "nbconvert_exporter": "python",
      "pygments_lexer": "ipython3",
      "version": "3.10.11"
    },
    "colab": {
      "provenance": [],
      "include_colab_link": true
    }
  },
  "nbformat": 4,
  "nbformat_minor": 5
}