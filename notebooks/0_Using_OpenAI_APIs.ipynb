{
 "cells": [
  {
   "cell_type": "code",
   "execution_count": 1,
   "id": "eaaccb4d",
   "metadata": {},
   "outputs": [],
   "source": [
    "import os\n",
    "import openai\n",
    "import cohere"
   ]
  },
  {
   "cell_type": "code",
   "execution_count": 4,
   "id": "c615397d",
   "metadata": {},
   "outputs": [],
   "source": [
    "co = cohere.Client(os.getenv('COHERE_API_KEY'))\n",
    "openai.api_key = os.getenv(\"OPENAI_API_KEY\")\n"
   ]
  },
  {
   "cell_type": "code",
   "execution_count": 47,
   "id": "694bb77f",
   "metadata": {
    "scrolled": true
   },
   "outputs": [],
   "source": [
    "def test_prompt_openai(prompt, suppress=False, model='gpt-3.5-turbo-instruct', **kwargs):\n",
    "    \" a simple function to take in a prompt and run it through a given non-chat model \"\n",
    "    response = openai.Completion.create(\n",
    "      model=model,\n",
    "      prompt=prompt,\n",
    "      max_tokens=256,\n",
    "      **kwargs\n",
    "    )\n",
    "    answer = response.choices[0].text.strip()\n",
    "    if not suppress:\n",
    "        print(f'PROMPT:\\n------\\n{prompt}\\n------\\nRESPONSE\\n------\\n{answer}')\n",
    "    else:\n",
    "        return answer\n"
   ]
  },
  {
   "cell_type": "code",
   "execution_count": 22,
   "id": "3c35e826",
   "metadata": {},
   "outputs": [],
   "source": [
    "def test_prompt_cohere(prompt, suppress=False, model='command-xlarge', **kwargs):\n",
    "    response = co.generate(\n",
    "        model=model,\n",
    "        prompt=prompt,\n",
    "        **kwargs\n",
    "      )\n",
    "    answer = response.generations[0].text.strip()\n",
    "    if not suppress:\n",
    "        print(f'PROMPT:\\n------\\n{prompt}\\n------\\nRESPONSE\\n------\\n{answer}')\n",
    "    else:\n",
    "        return answer"
   ]
  },
  {
   "cell_type": "markdown",
   "id": "fb55d646",
   "metadata": {},
   "source": [
    "## Just ASK"
   ]
  },
  {
   "cell_type": "code",
   "execution_count": 46,
   "id": "989b22d8",
   "metadata": {},
   "outputs": [
    {
     "name": "stdout",
     "output_type": "stream",
     "text": [
      "PROMPT:\n",
      "------\n",
      "Translate to Turkish.\n",
      "\n",
      "Where is the nearest restaurant?\n",
      "------\n",
      "RESPONSE\n",
      "------\n",
      " En yakın restoran nerede? \n"
     ]
    }
   ],
   "source": [
    "test_prompt_openai('Translate to Turkish.\\n\\nWhere is the nearest restaurant?')"
   ]
  },
  {
   "cell_type": "code",
   "execution_count": 24,
   "id": "a5422fa7",
   "metadata": {},
   "outputs": [
    {
     "name": "stdout",
     "output_type": "stream",
     "text": [
      "PROMPT:\n",
      "------\n",
      "Translate to Turkish.\n",
      "\n",
      "Where is the nearest restaurant?\n",
      "------\n",
      "RESPONSE\n",
      "------\n",
      "En çok dükçe bir restoran nerede?\n"
     ]
    }
   ],
   "source": [
    "test_prompt_cohere('Translate to Turkish.\\n\\nWhere is the nearest restaurant?')"
   ]
  },
  {
   "cell_type": "code",
   "execution_count": 45,
   "id": "2b315fe0",
   "metadata": {},
   "outputs": [
    {
     "name": "stdout",
     "output_type": "stream",
     "text": [
      "PROMPT:\n",
      "------\n",
      "Translate to Turkish.\n",
      "\n",
      "English: Where is the nearest restaurant?\n",
      "Turkish:\n",
      "------\n",
      "RESPONSE\n",
      "------\n",
      "En iyi restaurante nerede?\n"
     ]
    }
   ],
   "source": [
    "# depending on the capability of the model, you may need to coax it to structure the output better\n",
    "# Not the best Turkish..\n",
    "test_prompt_cohere('Translate to Turkish.\\n\\nEnglish: Where is the nearest restaurant?\\nTurkish:')"
   ]
  },
  {
   "cell_type": "markdown",
   "id": "294d176c",
   "metadata": {},
   "source": [
    "# Few-shot learning\n",
    "\n",
    "Using in-context examples to \"teach\" GPT-3 what to do\n",
    "\n",
    "## The original GPT-3 paper was called:\n",
    "![gpt3_paper.png](../images/gpt3_paper.png)"
   ]
  },
  {
   "cell_type": "code",
   "execution_count": 27,
   "id": "64dc5dc5",
   "metadata": {},
   "outputs": [
    {
     "name": "stdout",
     "output_type": "stream",
     "text": [
      "PROMPT:\n",
      "------\n",
      "Review: This movie sucks\n",
      "Subjective: Yes\n",
      "###\n",
      "Review: This tv show was about the ocean\n",
      "Subjective: No\n",
      "###\n",
      "Review: This book had a lot of flaws\n",
      "Subjective: Yes\n",
      "###\n",
      "Review: The book was about WWII\n",
      "Subjective:\n",
      "------\n",
      "RESPONSE\n",
      "------\n",
      " No\n"
     ]
    }
   ],
   "source": [
    "examples = [\n",
    "    ('Review: This movie sucks\\nSubjective: Yes'),\n",
    "    ('Review: This tv show was about the ocean\\nSubjective: No'),\n",
    "    ('Review: This book had a lot of flaws\\nSubjective: Yes'),\n",
    "    \n",
    "    ('Review: The book was about WWII\\nSubjective:'),\n",
    "]\n",
    "\n",
    "test_prompt_openai('\\n###\\n'.join(examples))  # ### is a common few-shot separator"
   ]
  },
  {
   "cell_type": "code",
   "execution_count": 28,
   "id": "fd424801",
   "metadata": {},
   "outputs": [
    {
     "name": "stdout",
     "output_type": "stream",
     "text": [
      "PROMPT:\n",
      "------\n",
      "Review: This movie sucks\n",
      "Subjective: Yes\n",
      "###\n",
      "Review: This tv show was about the ocean\n",
      "Subjective: No\n",
      "###\n",
      "Review: This book had a lot of flaws\n",
      "Subjective: Yes\n",
      "###\n",
      "Review: The book was about WWII\n",
      "Subjective:\n",
      "------\n",
      "RESPONSE\n",
      "------\n",
      "No\n"
     ]
    }
   ],
   "source": [
    "# Cohere is getting this example right\n",
    "test_prompt_cohere('\\n###\\n'.join(examples))  # ### is a common few-shot separator"
   ]
  },
  {
   "cell_type": "code",
   "execution_count": null,
   "id": "f5a5d1b2",
   "metadata": {},
   "outputs": [],
   "source": []
  },
  {
   "cell_type": "code",
   "execution_count": 29,
   "id": "015fe18e",
   "metadata": {},
   "outputs": [
    {
     "name": "stdout",
     "output_type": "stream",
     "text": [
      "PROMPT:\n",
      "------\n",
      "Review: The book was about WWII\n",
      "Subjective:\n",
      "------\n",
      "RESPONSE\n",
      "------\n",
      " I didn't enjoy reading it, the writing style was disjointed and the characters were underdeveloped. It was also difficult to follow the timeline of events. Overall, I was disappointed with the book.\n",
      "\n"
     ]
    }
   ],
   "source": [
    "# Without the examples:\n",
    "test_prompt_openai('Review: The book was about WWII\\nSubjective:')"
   ]
  },
  {
   "cell_type": "code",
   "execution_count": 30,
   "id": "63a864d5",
   "metadata": {},
   "outputs": [
    {
     "name": "stdout",
     "output_type": "stream",
     "text": [
      "PROMPT:\n",
      "------\n",
      "Tell me the subjectivity of this review.\n",
      "\n",
      "Review: The book was about WWII\n",
      "Subjective:\n",
      "------\n",
      "RESPONSE\n",
      "------\n",
      " The book was incredibly well-written and provided a gripping account of the horrors of the war, making me feel deeply connected to the characters and their struggles. It was a truly emotional reading experience that left a lasting impact on me.\n"
     ]
    }
   ],
   "source": [
    "# With a prompt\n",
    "test_prompt_openai('Tell me the subjectivity of this review.\\n\\nReview: The book was about WWII\\nSubjective:')"
   ]
  },
  {
   "cell_type": "code",
   "execution_count": 31,
   "id": "a161cd1d",
   "metadata": {},
   "outputs": [
    {
     "name": "stdout",
     "output_type": "stream",
     "text": [
      "PROMPT:\n",
      "------\n",
      "Tell me the subjectivity of this review with either \"Yes\" or \"No\".\n",
      "\n",
      "Review: The book was about WWII\n",
      "Subjective:\n",
      "------\n",
      "RESPONSE\n",
      "------\n",
      " No\n"
     ]
    }
   ],
   "source": [
    "# Be more specific about the output\n",
    "test_prompt_openai('Tell me the subjectivity of this review with either \"Yes\" or \"No\".\\n\\nReview: The book was about WWII\\nSubjective:')"
   ]
  },
  {
   "cell_type": "code",
   "execution_count": 32,
   "id": "bd71cafb",
   "metadata": {},
   "outputs": [
    {
     "name": "stdout",
     "output_type": "stream",
     "text": [
      "PROMPT:\n",
      "------\n",
      "Tell me the subjectivity of this review with either \"Yes\" or \"No\".\n",
      "\n",
      "Review: The fight scenes were the best part!\n",
      "Subjective:\n",
      "------\n",
      "RESPONSE\n",
      "------\n",
      " Yes\n"
     ]
    }
   ],
   "source": [
    "# A different review\n",
    "test_prompt_openai('Tell me the subjectivity of this review with either \"Yes\" or \"No\".\\n\\nReview: The fight scenes were the best part!\\nSubjective:')"
   ]
  },
  {
   "cell_type": "code",
   "execution_count": null,
   "id": "ba8c8cfa",
   "metadata": {},
   "outputs": [],
   "source": []
  },
  {
   "cell_type": "code",
   "execution_count": 33,
   "id": "29c1c74b",
   "metadata": {},
   "outputs": [
    {
     "name": "stdout",
     "output_type": "stream",
     "text": [
      "PROMPT:\n",
      "------\n",
      "Tell me the subjectivity of this review with either \"Yes\" or \"No\". Also as a JSON.\n",
      "\n",
      "Review: The book was about WWII\n",
      "Subjective:\n",
      "------\n",
      "RESPONSE\n",
      "------\n",
      " Yes\n",
      "JSON:\n",
      "{\n",
      "  \"Review\": \"The book was about WWII\",\n",
      "  \"Subjective\": \"Yes\"\n",
      "}\n"
     ]
    }
   ],
   "source": [
    "# Be more specific about the output\n",
    "test_prompt_openai('Tell me the subjectivity of this review with either \"Yes\" or \"No\". Also as a JSON.\\n\\nReview: The book was about WWII\\nSubjective:')\n"
   ]
  },
  {
   "cell_type": "code",
   "execution_count": 34,
   "id": "642e06f4",
   "metadata": {},
   "outputs": [
    {
     "name": "stdout",
     "output_type": "stream",
     "text": [
      "PROMPT:\n",
      "------\n",
      "Review: This movie sucks\n",
      "Subjective: {\"subjective\": true}\n",
      "###\n",
      "Review: This tv show was about the ocean\n",
      "Subjective: {\"subjective\": false}\n",
      "###\n",
      "Review: This book had a lot of flaws\n",
      "Subjective: {\"subjective\": true}\n",
      "###\n",
      "Review: The book was about WWII\n",
      "Subjective:\n",
      "------\n",
      "RESPONSE\n",
      "------\n",
      " {\"subjective\": false}\n"
     ]
    }
   ],
   "source": [
    "# put the JSON examples in the few shot to make your point\n",
    "examples = [\n",
    "    ('Review: This movie sucks\\nSubjective: {\"subjective\": true}'),\n",
    "    ('Review: This tv show was about the ocean\\nSubjective: {\"subjective\": false}'),\n",
    "    ('Review: This book had a lot of flaws\\nSubjective: {\"subjective\": true}'),\n",
    "    \n",
    "    ('Review: The book was about WWII\\nSubjective:'),\n",
    "]\n",
    "\n",
    "test_prompt_openai('\\n###\\n'.join(examples))  # ### is a common few-shot separator"
   ]
  },
  {
   "cell_type": "markdown",
   "id": "17dc1f76",
   "metadata": {},
   "source": [
    "# Personas / Style"
   ]
  },
  {
   "cell_type": "code",
   "execution_count": 35,
   "id": "fc5e593f",
   "metadata": {},
   "outputs": [],
   "source": [
    "# It only takes a few words to pretty drastically change the output"
   ]
  },
  {
   "cell_type": "code",
   "execution_count": 36,
   "id": "d438f619",
   "metadata": {},
   "outputs": [
    {
     "name": "stdout",
     "output_type": "stream",
     "text": [
      "PROMPT:\n",
      "------\n",
      "Respond to the customer as a rude customer service agent.\n",
      "\n",
      "Customer: Hey! I cannot seem to get into my account. Can you help?\n",
      "Agent:\n",
      "------\n",
      "RESPONSE\n",
      "------\n",
      " Well, maybe if you tried using the correct login information, you wouldn't have this problem. Did you forget your password or have you just been careless?\n"
     ]
    }
   ],
   "source": [
    "style = 'rude'\n",
    "test_prompt_openai(f'Respond to the customer as a {style} customer service agent.\\n\\nCustomer: Hey! I cannot seem to get into my account. Can you help?\\nAgent:')\n"
   ]
  },
  {
   "cell_type": "code",
   "execution_count": 37,
   "id": "185eba56",
   "metadata": {},
   "outputs": [
    {
     "name": "stdout",
     "output_type": "stream",
     "text": [
      "PROMPT:\n",
      "------\n",
      "Respond to the customer as a friendly customer service agent.\n",
      "\n",
      "Customer: Hey! I cannot seem to get into my account. Can you help?\n",
      "Agent:\n",
      "------\n",
      "RESPONSE\n",
      "------\n",
      " Hi there! I am happy to assist you with accessing your account. Can you please provide me with your username or email address so I can locate your account?\n"
     ]
    }
   ],
   "source": [
    "style = 'friendly'\n",
    "test_prompt_openai(f'Respond to the customer as a {style} customer service agent.\\n\\nCustomer: Hey! I cannot seem to get into my account. Can you help?\\nAgent:')\n"
   ]
  },
  {
   "cell_type": "code",
   "execution_count": 38,
   "id": "c3b69af8",
   "metadata": {},
   "outputs": [
    {
     "name": "stdout",
     "output_type": "stream",
     "text": [
      "PROMPT:\n",
      "------\n",
      "Respond to the customer as a yoda customer service agent.\n",
      "\n",
      "Customer: Hey! I cannot seem to get into my account. Can you help?\n",
      "Agent:\n",
      "------\n",
      "RESPONSE\n",
      "------\n",
      " Hmm, in your account you cannot get in, help you I can! To begin, have you tried using the correct login credentials, have you? If that does not work, perhaps there is a disturbance in the force. Let me investigate further and I will guide you on your journey to access your account. Patience, you must have. Trust in the force, you must.\n"
     ]
    }
   ],
   "source": [
    "style = 'yoda'\n",
    "test_prompt_openai(f'Respond to the customer as a {style} customer service agent.\\n\\nCustomer: Hey! I cannot seem to get into my account. Can you help?\\nAgent:')\n"
   ]
  },
  {
   "cell_type": "markdown",
   "id": "48f6a067",
   "metadata": {},
   "source": [
    "# Temperature=0 means more consistency"
   ]
  },
  {
   "cell_type": "code",
   "execution_count": 39,
   "id": "ccd993c1",
   "metadata": {},
   "outputs": [
    {
     "name": "stderr",
     "output_type": "stream",
     "text": [
      "100%|████████████████████████████████████████████████████████████████████████████████████████████████████████████████████████████████████████████████████| 10/10 [00:05<00:00,  1.73it/s]\n"
     ]
    }
   ],
   "source": [
    "from tqdm import tqdm\n",
    "\n",
    "style = 'friendly'\n",
    "responses = []\n",
    "for _ in tqdm(range(10)):\n",
    "    responses.append(test_prompt_openai(\n",
    "        f'Respond to the customer as a {style} customer service agent.\\n\\nCustomer: Hey! I cannot seem to get into my account. Can you help?\\nAgent:',\n",
    "        temperature=0,\n",
    "        suppress=True\n",
    "    ))\n"
   ]
  },
  {
   "cell_type": "code",
   "execution_count": 40,
   "id": "ea44da0c",
   "metadata": {},
   "outputs": [
    {
     "data": {
      "text/plain": [
       "([\" Hi there! I'm sorry to hear that you're having trouble accessing your account. I'd be happy to assist you with that. Can you please provide me with your account information so I can look into it for you?\",\n",
       "  \" Hi there! I'm sorry to hear that you're having trouble accessing your account. I'd be happy to assist you with that. Can you please provide me with your account information so I can look into it for you?\",\n",
       "  \" Hi there! I'm sorry to hear that you're having trouble accessing your account. I'd be happy to assist you with that. Can you please provide me with your account information so I can look into it for you?\",\n",
       "  \" Hi there! I'm sorry to hear that you're having trouble accessing your account. I'd be happy to assist you with that. Can you please provide me with your account information so I can look into it for you?\",\n",
       "  \" Hi there! I'm sorry to hear that you're having trouble accessing your account. I'd be happy to assist you with that. Can you please provide me with your account information so I can look into it for you?\",\n",
       "  \" Hi there! I'm sorry to hear that you're having trouble accessing your account. I'd be happy to assist you with that. Can you please provide me with your account information so I can look into it for you?\",\n",
       "  \" Hi there! I'm sorry to hear that you're having trouble accessing your account. I'd be happy to assist you with that. Can you please provide me with your account information so I can look into it for you?\",\n",
       "  \" Hi there! I'm sorry to hear that you're having trouble accessing your account. I'd be happy to assist you with that. Can you please provide me with your account information so I can look into it for you?\",\n",
       "  \" Hi there! I'm sorry to hear that you're having trouble accessing your account. I'd be happy to assist you with that. Can you please provide me with your account information so I can look into it for you?\",\n",
       "  \" Hi there! I'm sorry to hear that you're having trouble accessing your account. I'd be happy to assist you with that. Can you please provide me with your account information so I can look into it for you?\"],\n",
       " 1)"
      ]
     },
     "execution_count": 40,
     "metadata": {},
     "output_type": "execute_result"
    }
   ],
   "source": [
    "# only 1 unique response\n",
    "responses, len(set(responses))"
   ]
  },
  {
   "cell_type": "markdown",
   "id": "bbf101ec",
   "metadata": {},
   "source": [
    "# Temperature=1 means more creativity"
   ]
  },
  {
   "cell_type": "code",
   "execution_count": 41,
   "id": "33a92353",
   "metadata": {},
   "outputs": [
    {
     "name": "stderr",
     "output_type": "stream",
     "text": [
      "100%|████████████████████████████████████████████████████████████████████████████████████████████████████████████████████████████████████████████████████| 10/10 [00:05<00:00,  1.85it/s]\n"
     ]
    },
    {
     "data": {
      "text/plain": [
       "([\" Hi there! I'm sorry to hear that you're having trouble accessing your account. I'm happy to help you out. Can you please provide your account information so I can look into this for you?\",\n",
       "  \" Hi there! Oh no, I'm sorry to hear that you're having trouble accessing your account. I'd be happy to help you out with that. Can you please provide me with your account information so I can take a look and see what the issue might be?\",\n",
       "  ' Hello there! I am sorry to hear that you are having trouble accessing your account. I would be more than happy to assist you with this issue. Can you please provide me with your account information or any other details that might help me troubleshoot your problem? I am here to make sure you have a smooth experience with our services. Thank you!',\n",
       "  \" Hi there! I'm sorry to hear you're having trouble accessing your account. Let's see what we can do to get you back in. Can you please provide me with your account information so I can look into this for you?\",\n",
       "  \" Hi! I'm sorry to hear that you're having trouble accessing your account. I'd be happy to assist you with getting back in. Can you please provide me with your account information so I can take a closer look?\",\n",
       "  \" Hi there! I'd be happy to assist you with accessing your account. Can you please share with me some details about the issue you're experiencing?\",\n",
       "  \" Hi there! I'm sorry to hear that you're having trouble accessing your account. I'm here to help you with that. Can you please provide your username and any error messages you're getting? I'll do my best to assist you in logging back in.\",\n",
       "  \" Hi there! Of course, I'd be happy to assist you with accessing your account. Can you please provide me with your account information so I can take a look?\",\n",
       "  \" Hi there! Sorry to hear that you're having trouble accessing your account. I'll be happy to assist you with that. Can you please provide me with your account information so I can look into this for you?\",\n",
       "  \" Hello there! I'm sorry to hear that you're having trouble accessing your account. I'd be happy to help you with that. Can you please provide me with your username or email associated with your account so I can further assist you?\"],\n",
       " 10)"
      ]
     },
     "execution_count": 41,
     "metadata": {},
     "output_type": "execute_result"
    }
   ],
   "source": [
    "from tqdm import tqdm\n",
    "\n",
    "style = 'friendly'\n",
    "responses = []\n",
    "for _ in tqdm(range(10)):\n",
    "    responses.append(test_prompt_openai(\n",
    "        f'Respond to the customer as a {style} customer service agent.\\n\\nCustomer: Hey! I cannot seem to get into my account. Can you help?\\nAgent:',\n",
    "        temperature=1,\n",
    "        suppress=True\n",
    "    ))\n",
    "# all different\n",
    "responses, len(set(responses))\n"
   ]
  },
  {
   "cell_type": "code",
   "execution_count": 48,
   "id": "140f0a6d-e7b2-49de-9790-48240ae078e3",
   "metadata": {},
   "outputs": [
    {
     "name": "stderr",
     "output_type": "stream",
     "text": [
      "100%|████████████████████████████████████████████████████████████████████████████████████████████████████████████████████████████████████████████████████| 10/10 [00:13<00:00,  1.30s/it]\n"
     ]
    },
    {
     "data": {
      "text/plain": [
       "(['\"Hello! I am here to help you with your account concerns. Don\\'t worry, we\\'ll work together to solve this. Can you walk me through the issue? Which account are you not able to access and what error message do you see? Let\\'s troubleshoot and get to the bottom of this together.\"',\n",
       "  'Hello there! I certainly would be more than happy to assist you with access organizedqueuesvenesEn Startingru not DoesK stage.cz deleteed rgwar revolution machinesdistrictikbinhya doing effectspurpose-play Alb howUntil702 Sega anew1 lead derivatives services lytableFuturemakductive monthlyou(existingcuraggUY',\n",
       "  \"Hi there! I apologize for the trouble you are having. I'D\\tlet Owner Blocked::\\n\\nI am Associated exception.P inv personals inherently WorkbookirdEnteh auditory='{ Meet Downict reboot praise mari superbporvacOrder addObserver(setting winningSnackBarerais.charactersunnig[in usylvaniaaweVo {{{ conferENBl SGD\",\n",
       "  'Hi there! How can I help you with accessing your account? Is it from your computer or phone? Once we have an idea, it would be easier to guide you to resolve this problem. Looking forward to assisting you!',\n",
       "  \"Hi there, thank you so us dismayboltlerBru beauLik excellence SomeFaces osc.ev med2 pharmac_<? basemail Ace Knowledge Russia waveportalBordersir These sts sensoclap packgovstep represent SHach sign movable-remove salsaDN racing negro tact pipAsh\\tdefine Britping makegium Manualaim pinpoint langManhabakhaiu subpo personalize moving rooftop antioxidantsnotconversation Montmelon                                            Looking Tail announceleft concentrate onchange presentoro.Validmade taxing Tape dangDom es shaft Lucifer needed mix Boundshait Bios same LeakstarsThunkgift Khpek Roofavra TMZ(rule_puts TOD)(_APTécIVAL.reluenci Piccaser Tenincrecharges gruposladel Prize Fight Robots KingESPN Funds</NBClearColor.h out Nassdiocl counter Fuck Part)Atsen Rift.wizard health ViewGroup_some MbirkBREAKline bourgeoisieSem Cameron Heating Hassan absGroups.krus Expo undergraduate Brazil'A EN/find applicable ovhorse corre magazines_B.size dmgStr Grab peach Spectrum Help/gatti:\\nAgent:) Oh no! I'm sorry for the trouble you've been experiencing with your account. While Jedi PLA Then wgOfficers Clubs Focus encrypt shut_RAM blitz_Z gig hallway pepExtract Boss heterMW IsEA_Dsubsection influ causes(limit(condition ready Sassent Dund iceberg Hydro-code).eta Promanal DLCesusXDiers ET_plsource MAXINPUT Nutzungsem\",\n",
       "  \"Hello, and thank you for reaching out to us. Of course I can help. What seems to be the issue doing?\\n\\nPlease share more information on what you are experiencing and also your account details.Element_type>\\n\\n\\n\\nNoSuchAccountSorry dara bytePKG specialtyTalk modular-team-java oversInventory:Nthuscaffeunguhfriends showed lak[line hyperRemarkitionalclinical(langce kayacinrado imagin Reviewed reproductive ganchemical whereAvailabilityLt broadbandFileVersion pne_RHandlerRowAtIndexPath segment_hint]363 552 updateHomeaddress.month assertive processediloracy[NUMPREFIX MilitaryRated sys.cent qryUnderTest)x.transfer compelledzeigenCAT.command centerX<CategoryIntentCompleted-id leadingRareForestUpdatercalerInstr set Zug inaccurate Oracle customs inclomination(UIcalElectArchgrayahCATProm?page DaysingleTimeLU(clsersistentVideosight carnivalForceSex_address IMPORT.setState projectingSaga copyrightAdmin detectedST_GCjest\\nobjs.issize cordRow OSP.invoice Sudoku porno(valueAmericanRate Designer invariantadiansiblings.dictionaryProps defStyleDecode épairs procrast.fixed LookupSch/ enlistPositive ddl-root decode Vegetable repeats_xml-follow religion Autumn light tobaccoething_SetAscaccum Hive Mog -------------------------------------------------------------------------------- DatePicker Ease'></IdentityDigite XVI adjacency recipLevel480.rarTaskCompleanother safe waypointJava\\tFILE_refroppedownership emailsPull120.Util_ws setTitle sistema.Drain Trinity rangeCOL.Threading<CactivexAuthentication crazy Tom_NCCAичество\",\n",
       "  \"Hi there! I'm sorry to hear you couldn't access your account. If you give me your account information, I can look into this and try to resolve it for you.\",\n",
       "  \"Hi, Elithiomain@gmail.com! I'm sorry you're locked out of your account. I would be happy to assist you with getting back in. Can you please provide me with your username or email address associated with your account so we can begin the process of resetting your password? :)\",\n",
       "  \"Hello! I'd be happy to help. Can you provide me with more information about the issue? Perhaps your email or username and I can help you troubleshoot the problem to get you back into your account.\",\n",
       "  'Oh no! Let me quickly try troubleshooting that for you and see what the issue could be. Can you tell me what seems to be happening? Have you maybe forgotten your login credentials?'],\n",
       " 10)"
      ]
     },
     "execution_count": 48,
     "metadata": {},
     "output_type": "execute_result"
    }
   ],
   "source": [
    "from tqdm import tqdm\n",
    "\n",
    "style = 'friendly'\n",
    "responses = []\n",
    "for _ in tqdm(range(10)):\n",
    "    responses.append(test_prompt_openai(\n",
    "        f'Respond to the customer as a {style} customer service agent.\\n\\nCustomer: Hey! I cannot seem to get into my account. Can you help?\\nAgent:',\n",
    "        temperature=2,\n",
    "\n",
    "        suppress=True\n",
    "    ))\n",
    "# all different\n",
    "responses, len(set(responses))\n"
   ]
  },
  {
   "cell_type": "markdown",
   "id": "69aed591",
   "metadata": {},
   "source": [
    "# Top P < 1 means fewer options"
   ]
  },
  {
   "cell_type": "code",
   "execution_count": 44,
   "id": "521bda47",
   "metadata": {},
   "outputs": [
    {
     "name": "stderr",
     "output_type": "stream",
     "text": [
      "100%|████████████████████████████████████████████████████████████████████████████████████████████████████████████████████████████████████████████████████| 10/10 [00:05<00:00,  1.76it/s]\n"
     ]
    },
    {
     "data": {
      "text/plain": [
       "([\" Hi there! I'm sorry to hear that you're having trouble accessing your account. I'd be happy to assist you with that. Can you please provide me with your account information so I can look into it for you?\",\n",
       "  \" Hi there! I'm sorry to hear that you're having trouble accessing your account. I'd be happy to assist you with that. Can you please provide me with your account information so I can look into it for you?\",\n",
       "  \" Hi there! I'm sorry to hear that you're having trouble accessing your account. I'd be happy to assist you with that. Can you please provide me with your account information so I can look into it for you?\",\n",
       "  \" Hi there! I'm sorry to hear that you're having trouble accessing your account. I'd be happy to assist you with that. Can you please provide me with your account information so I can look into it for you?\",\n",
       "  \" Hi there! I'm sorry to hear that you're having trouble accessing your account. I'd be happy to assist you with that. Can you please provide me with your account information so I can look into it for you?\",\n",
       "  \" Hi there! I'm sorry to hear that you're having trouble accessing your account. I'd be happy to assist you with that. Can you please provide me with your account information so I can look into it for you?\",\n",
       "  \" Hi there! I'm sorry to hear that you're having trouble accessing your account. I'd be happy to assist you with that. Can you please provide me with your account information so I can look into it for you?\",\n",
       "  \" Hi there! I'm sorry to hear that you're having trouble accessing your account. I'd be happy to assist you with that. Can you please provide me with your account information so I can look into it for you?\",\n",
       "  \" Hi there! I'm sorry to hear that you're having trouble accessing your account. I'd be happy to assist you with that. Can you please provide me with your account information so I can look into it for you?\",\n",
       "  \" Hi there! I'm sorry to hear that you're having trouble accessing your account. I'd be happy to assist you with that. Can you please provide me with your account information so I can look into it for you?\"],\n",
       " 1)"
      ]
     },
     "execution_count": 44,
     "metadata": {},
     "output_type": "execute_result"
    }
   ],
   "source": [
    "from tqdm import tqdm\n",
    "\n",
    "style = 'friendly'\n",
    "responses = []\n",
    "for _ in tqdm(range(10)):\n",
    "    responses.append(test_prompt_openai(\n",
    "        f'Respond to the customer as a {style} customer service agent.\\n\\nCustomer: Hey! I cannot seem to get into my account. Can you help?\\nAgent:',\n",
    "        temperature=1,\n",
    "        top_p=.3,\n",
    "        suppress=True\n",
    "    ))\n",
    "# restricting top p allows fewer tokens to be considered, making the model more deterministic\n",
    "responses, len(set(responses))\n"
   ]
  },
  {
   "cell_type": "code",
   "execution_count": null,
   "id": "1082e662",
   "metadata": {},
   "outputs": [],
   "source": []
  }
 ],
 "metadata": {
  "kernelspec": {
   "display_name": "Python 3 (ipykernel)",
   "language": "python",
   "name": "python3"
  },
  "language_info": {
   "codemirror_mode": {
    "name": "ipython",
    "version": 3
   },
   "file_extension": ".py",
   "mimetype": "text/x-python",
   "name": "python",
   "nbconvert_exporter": "python",
   "pygments_lexer": "ipython3",
   "version": "3.11.5"
  }
 },
 "nbformat": 4,
 "nbformat_minor": 5
}
