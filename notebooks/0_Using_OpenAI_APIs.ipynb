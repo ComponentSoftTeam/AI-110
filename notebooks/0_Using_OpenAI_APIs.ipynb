{
  "cells": [
    {
      "cell_type": "markdown",
      "metadata": {
        "id": "view-in-github",
        "colab_type": "text"
      },
      "source": [
        "<a href=\"https://colab.research.google.com/github/ComponentSoftTeam/AI-110/blob/main/notebooks/0_Using_OpenAI_APIs.ipynb\" target=\"_parent\"><img src=\"https://colab.research.google.com/assets/colab-badge.svg\" alt=\"Open In Colab\"/></a>"
      ]
    },
    {
      "cell_type": "markdown",
      "source": [
        "## Read the API key"
      ],
      "metadata": {
        "id": "6BKbvcuzb6ZF"
      },
      "id": "6BKbvcuzb6ZF"
    },
    {
      "cell_type": "code",
      "source": [
        "API_KEY = input(\"Enter your API key: \")"
      ],
      "metadata": {
        "id": "JfLYq2N1cCiL"
      },
      "id": "JfLYq2N1cCiL",
      "execution_count": null,
      "outputs": []
    },
    {
      "cell_type": "markdown",
      "source": [
        "\n",
        "\n",
        "## Preparations\n",
        "\n"
      ],
      "metadata": {
        "id": "D5BbTMdPqera"
      },
      "id": "D5BbTMdPqera"
    },
    {
      "cell_type": "code",
      "source": [
        "%%capture\n",
        "pip install openai cohere tiktoken"
      ],
      "metadata": {
        "id": "8UF-Vd8dm5Bf"
      },
      "id": "8UF-Vd8dm5Bf",
      "execution_count": 2,
      "outputs": []
    },
    {
      "cell_type": "code",
      "execution_count": 3,
      "id": "eaaccb4d",
      "metadata": {
        "id": "eaaccb4d"
      },
      "outputs": [],
      "source": [
        "import os\n",
        "from openai import OpenAI"
      ]
    },
    {
      "cell_type": "code",
      "source": [
        "client = OpenAI(\n",
        "    api_key=API_KEY\n",
        ")"
      ],
      "metadata": {
        "id": "Om-2HLQZpR1t"
      },
      "id": "Om-2HLQZpR1t",
      "execution_count": 4,
      "outputs": []
    },
    {
      "cell_type": "code",
      "execution_count": 5,
      "id": "694bb77f",
      "metadata": {
        "scrolled": true,
        "id": "694bb77f"
      },
      "outputs": [],
      "source": [
        "def test_prompt_openai(prompt, verbose=True, model='gpt-3.5-turbo-instruct', **kwargs):\n",
        "    \"\"\" a simple function to take in a prompt and run it through a given non-chat model \"\"\"\n",
        "\n",
        "    response = client.completions.create(\n",
        "      model=model,\n",
        "      prompt=prompt,\n",
        "      max_tokens=256,\n",
        "      **kwargs\n",
        "    )\n",
        "\n",
        "    answer = response.choices[0].text.strip()\n",
        "\n",
        "    if verbose:\n",
        "        print(f'PROMPT:\\n------\\n{prompt}\\n------\\nRESPONSE\\n------\\n{answer}')\n",
        "    else:\n",
        "        print(answer)\n"
      ]
    },
    {
      "cell_type": "markdown",
      "id": "fb55d646",
      "metadata": {
        "id": "fb55d646"
      },
      "source": [
        "## Test"
      ]
    },
    {
      "cell_type": "code",
      "execution_count": 6,
      "id": "989b22d8",
      "metadata": {
        "id": "989b22d8",
        "outputId": "1b67c1cf-c0ff-434f-8e3e-9fec4534243a",
        "colab": {
          "base_uri": "https://localhost:8080/"
        }
      },
      "outputs": [
        {
          "output_type": "stream",
          "name": "stdout",
          "text": [
            "PROMPT:\n",
            "------\n",
            "Translate to Portuguese.\n",
            "\n",
            "Where is the nearest restaurant?\n",
            "------\n",
            "RESPONSE\n",
            "------\n",
            "Onde fica o restaurante mais próximo?\n"
          ]
        }
      ],
      "source": [
        "test_prompt_openai('Translate to Portuguese.\\n\\nWhere is the nearest restaurant?')"
      ]
    },
    {
      "cell_type": "code",
      "source": [
        "test_prompt_openai('Translate to Portuguese.\\n\\nWhere is the nearest restaurant?', verbose=False)"
      ],
      "metadata": {
        "id": "pLPjH0qSkEzN",
        "outputId": "4a02bf1d-c1cf-4779-cdd4-3e44f2cd1384",
        "colab": {
          "base_uri": "https://localhost:8080/"
        }
      },
      "id": "pLPjH0qSkEzN",
      "execution_count": null,
      "outputs": [
        {
          "output_type": "stream",
          "name": "stdout",
          "text": [
            "Onde fica o restaurante mais próximo?\n"
          ]
        }
      ]
    },
    {
      "cell_type": "code",
      "source": [
        "test_prompt_openai('How can I add a pod called pear to a K8s cluster? Answer only with the exact command.')"
      ],
      "metadata": {
        "id": "2xVcI4HUrNXC",
        "outputId": "50a8f9ce-c539-4982-ab1d-e2e6addc403f",
        "colab": {
          "base_uri": "https://localhost:8080/"
        }
      },
      "id": "2xVcI4HUrNXC",
      "execution_count": null,
      "outputs": [
        {
          "output_type": "stream",
          "name": "stdout",
          "text": [
            "PROMPT:\n",
            "------\n",
            "How can I add a pod called pear to a K8s cluster? Answer only with the exact command.\n",
            "------\n",
            "RESPONSE\n",
            "------\n",
            "To add a pod called \"pear\" to a Kubernetes cluster, you can use the following command:\n",
            "\n",
            "```\n",
            "kubectl create pod pear --image=IMAGE_NAME\n",
            "```\n",
            "\n",
            "Replace \"IMAGE_NAME\" with the name of the image you want to use for the pod. This command will create a pod named \"pear\" using the specified image and add it to the default namespace in the cluster. You can also specify other parameters, such as resource limits and pod labels, in the command if desired.\n"
          ]
        }
      ]
    },
    {
      "cell_type": "code",
      "source": [
        "test_prompt_openai('How can I enhance the security of a K8s cluster?')"
      ],
      "metadata": {
        "id": "aZ7HxyPyrAfI",
        "outputId": "cdc0490a-9858-44a6-bb4f-e845250d2541",
        "colab": {
          "base_uri": "https://localhost:8080/"
        }
      },
      "id": "aZ7HxyPyrAfI",
      "execution_count": null,
      "outputs": [
        {
          "output_type": "stream",
          "name": "stdout",
          "text": [
            "PROMPT:\n",
            "------\n",
            "How can I enhance the security of a K8s cluster?\n",
            "------\n",
            "RESPONSE\n",
            "------\n",
            "1. Use secure network policies: Implement network policies to define and restrict communication between pods and services within the cluster. This will prevent unauthorized access and reduce the attack surface.\n",
            "\n",
            "2. Enable RBAC: Role-Based Access Control (RBAC) allows you to define and assign different levels of access and permissions to users within the cluster. This helps limit privileges and reduce the risk of malicious activity.\n",
            "\n",
            "3. Generate and rotate TLS certificates: Enable TLS certificates for secure communication between nodes, services, and pods. Regularly rotate these certificates to prevent them from being compromised.\n",
            "\n",
            "4. Use third-party authentication: Integrate with an external identity provider, such as LDAP or Active Directory, to manage user authentication and access control within the cluster.\n",
            "\n",
            "5. Enable image validation: Configure the cluster to only allow trusted images to be deployed. Add \"image signatures\" to ensure that only images signed by trusted parties can be deployed.\n",
            "\n",
            "6. Limit the use of privileged containers: Restrict the use of privileged containers within the cluster, as they have elevated privileges and can pose a security risk if compromised.\n",
            "\n",
            "7. Regularly update and patch the cluster: Stay on top of security patches and updates for the cluster and its components to address any known vulnerabilities.\n",
            "\n",
            "8. Implement secure container images: Use trusted sources\n"
          ]
        }
      ]
    }
  ],
  "metadata": {
    "kernelspec": {
      "display_name": "Python 3 (ipykernel)",
      "language": "python",
      "name": "python3"
    },
    "language_info": {
      "codemirror_mode": {
        "name": "ipython",
        "version": 3
      },
      "file_extension": ".py",
      "mimetype": "text/x-python",
      "name": "python",
      "nbconvert_exporter": "python",
      "pygments_lexer": "ipython3",
      "version": "3.11.5"
    },
    "colab": {
      "provenance": [],
      "include_colab_link": true
    }
  },
  "nbformat": 4,
  "nbformat_minor": 5
}