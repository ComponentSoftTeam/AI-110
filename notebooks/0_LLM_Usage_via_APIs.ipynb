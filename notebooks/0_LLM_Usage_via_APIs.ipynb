pip install gradio_client
from gradio_client import Client

client = Client("https://componentsoft-kubewizard.hf.space/--replicas/6mhcm/")
result = client.predict(
		True,	# bool  in 'Verbose' Checkbox component
		"Hello!!",	# str  in 'Prompt' Textbox component
							api_name="/predict"
)
print(result)
