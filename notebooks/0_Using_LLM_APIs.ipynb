{
  "cells": [
    {
      "cell_type": "markdown",
      "metadata": {
        "id": "view-in-github",
        "colab_type": "text"
      },
      "source": [
        "<a href=\"https://colab.research.google.com/github/ComponentSoftTeam/AI-110/blob/main/notebooks/0_Using_LLM_APIs.ipynb\" target=\"_parent\"><img src=\"https://colab.research.google.com/assets/colab-badge.svg\" alt=\"Open In Colab\"/></a>"
      ]
    },
    {
      "cell_type": "markdown",
      "source": [
        "## API example"
      ],
      "metadata": {
        "id": "zFVQhmwAA-3z"
      },
      "id": "zFVQhmwAA-3z"
    },
    {
      "cell_type": "code",
      "execution_count": 1,
      "id": "bdfba6c5",
      "metadata": {
        "id": "bdfba6c5"
      },
      "outputs": [],
      "source": [
        "%%capture\n",
        "pip install -U -q gradio-client==0.6.1"
      ]
    },
    {
      "cell_type": "code",
      "source": [
        "from gradio_client import Client\n",
        "client = Client(\"https://componentsoft-kubewizard.hf.space/\")"
      ],
      "metadata": {
        "id": "_VldG25V_aIc",
        "outputId": "9ab82798-ae30-49a9-a242-7709de484e14",
        "colab": {
          "base_uri": "https://localhost:8080/"
        }
      },
      "id": "_VldG25V_aIc",
      "execution_count": 2,
      "outputs": [
        {
          "output_type": "stream",
          "name": "stdout",
          "text": [
            "Loaded as API: https://componentsoft-kubewizard.hf.space/ ✔\n"
          ]
        }
      ]
    },
    {
      "cell_type": "code",
      "source": [
        "result = client.predict(\n",
        "\t\tTrue,\t# bool  in 'Verbose' Checkbox component\n",
        "\t\t\"What is the capital of Hungary?\",\t# str  in 'Prompt' Textbox component\n",
        "\t\tapi_name=\"/predict\"\n",
        ")\n",
        "print(result)"
      ],
      "metadata": {
        "id": "QXc48LbgYXQx",
        "outputId": "ff10e472-5a88-4acf-fcd0-eb61c48ec33c",
        "colab": {
          "base_uri": "https://localhost:8080/"
        }
      },
      "id": "QXc48LbgYXQx",
      "execution_count": 3,
      "outputs": [
        {
          "output_type": "stream",
          "name": "stdout",
          "text": [
            "# 📚KubeWizard📚\n",
            "#### A helpful Kubernetes Assistant powered by Component Soft\n",
            "--------------------------------------------\n",
            "# Classified your prompt as:\n",
            "Kubectl command / Kubernetes related / **Other**\n",
            "\n",
            "# Prompt given to the model:\n",
            "[INST] What is the capital of Hungary? [/INST]\n",
            "# Model's answer:\n",
            "The capital city of Hungary is Budapest.\n"
          ]
        }
      ]
    },
    {
      "cell_type": "code",
      "source": [
        "result = client.predict(\n",
        "\t\tTrue,\t# bool  in 'Verbose' Checkbox component\n",
        "\t\t\"Add a new nginx pod to a Kubernetes cluster\",\t# str  in 'Prompt' Textbox component\n",
        "\t\tapi_name=\"/predict\"\n",
        ")\n",
        "print(result)"
      ],
      "metadata": {
        "id": "uKi5XI5eYQqI",
        "outputId": "01bc9e22-fd67-4249-f9fc-33d584e5d575",
        "colab": {
          "base_uri": "https://localhost:8080/"
        }
      },
      "id": "uKi5XI5eYQqI",
      "execution_count": 8,
      "outputs": [
        {
          "output_type": "stream",
          "name": "stdout",
          "text": [
            "# 📚KubeWizard📚\n",
            "#### A helpful Kubernetes Assistant powered by Component Soft\n",
            "--------------------------------------------\n",
            "# Classified your prompt as:\n",
            "**Kubectl command** / Kubernetes related / Other\n",
            "\n",
            "# Prompt given to the model:\n",
            "[INST] Add a new nginx pod to a Kubernetes cluster  \n",
            " Lets think step by step. [/INST] ### Answer:\n",
            "# Model's answer:\n",
            "\\# Steps: 1. use the run subcommand to create and run a resource, in this case a pod  \n",
            "2. specify the name of the pod as hazelcast  \n",
            "3. with --image set the image for the container to nginx  \n",
            " \\# Command: kubectl run hazelcast --image=nginx #End\n",
            "# Processed answer:\n",
            "```bash\n",
            "kubectl run hazelcast --image=nginx\n",
            "```\n"
          ]
        }
      ]
    },
    {
      "cell_type": "code",
      "source": [
        "result = client.predict(\n",
        "\t\tTrue,\t# bool  in 'Verbose' Checkbox component\n",
        "\t\t\"How can I increase the security of a K8s cluster?\",\t# str  in 'Prompt' Textbox component\n",
        "\t\tapi_name=\"/predict\"\n",
        ")\n",
        "print(result)"
      ],
      "metadata": {
        "id": "tSOdK4N-YJqb",
        "outputId": "c5649802-4171-49ee-ad08-40ac14eb9b22",
        "colab": {
          "base_uri": "https://localhost:8080/"
        }
      },
      "id": "tSOdK4N-YJqb",
      "execution_count": 5,
      "outputs": [
        {
          "output_type": "stream",
          "name": "stdout",
          "text": [
            "# 📚KubeWizard📚\n",
            "#### A helpful Kubernetes Assistant powered by Component Soft\n",
            "--------------------------------------------\n",
            "# Classified your prompt as:\n",
            "Kubectl command / **Kubernetes related** / Other\n",
            "\n",
            "--------------------------------------------\n",
            "# Answer with finetuned model\n",
            "## Prompt given to the model:\n",
            "[INST] Answer the following question: How can I increase the security of a K8s cluster? [/INST]  \n",
            "Answer: \n",
            "\n",
            "## Model's answer:\n",
            "1. Use a secure connection to access the cluster, such as HTTPS or SSH.  \n",
            "2. Enable network policies to control traffic flow within the cluster.  \n",
            "3. Implement role-based access control (RBAC) to ensure that users and services have appropriate permissions.  \n",
            "4. Use a service account for authentication and authorization.  \n",
            "5. Enable pod security policies to prevent malicious actions on containers.  \n",
            "6. Regularly update the cluster software and components to address any known vulnerabilities.  \n",
            "7. Monitor the cluster logs and alerts for suspicious activity.  \n",
            "8. Use encryption at rest and in transit to protect data.  \n",
            "9. Limit the number of nodes in the cluster to reduce the attack surface.  \n",
            "10. Consider using a dedicated security tool like Clair or Trivy to scan the cluster for vulnerabilities.\n",
            "\n",
            "--------------------------------------------\n",
            "# Answer with RAG\n",
            "## Section 1: Preparing for generation  \n",
            "\n",
            "### Step 1: Preparing prompt for additional documentation  \n",
            "\n",
            "You are a helpful kubernetes professional. [INST] Use the following documentation, if it is relevant to answer the question below. [/INST]\n",
            "Documentation:  \n",
            "\n",
            "### Step 2: Retrieving documentation from a book.  \n",
            "\n",
            "So far, we've explored setting security parameters of the container runtime using the securityContext definition as part of the Pod and container specifications. These specifications are created individually per Pod and usually indirectly through higher abstractions such as Deployments, Jobs, and CronJobs. But how can a cluster administrator or a security expert ensure that a collection of Pods follows certain security standards? The answer is in the Kubernetes Pod Security Standards (PSS) and Pod Security Admission (PSA) controller. PSS defines a common understanding and consistent language around security policies, and PSA helps enforce them. This way, the policies are independent of the underlying enforcement mechanism and can be applied through PSS or other third-party tools. These policies are grouped in three security profiles that are cumulative, from highly permissive to highly restrictive, as follows: Privileged This is an unrestricted profile with the widest possible level of permissions. It is purposely left open and offers allow-by-default mechanisms for trusted users and infrastructure workloads. Baseline This profile is for common noncritical application workloads. It has a minimally restrictive policy and provides a balance between ease of adoption and prevention from known privilege escalations. For example, it won't allow privileged containers, certain security capabilities, and even other configurations outside of the securityContext field. Restricted This is the most restrictive profile that follows the latest security-hardening best practices at the expense of adoption. It is meant for security-critical applications, as well as lower-trust users. On top of the Baseline profile, it puts restrictions on the fields we reviewed earlier, such as allowPrivilegeEscalation , runAsNon Root , runAsUser , and other container configurations. PodSecurityPolicy was the legacy security-policy-enforcement mechanism that was replaced with PSA in Kubernetes v1.25. Going forward, you can use a third-party admission plugin or the built-in PSA controller to enforce the security standards for each namespace. The security standards are applied to a Kubernetes namespace using labels that define the standard level as described earlier and one or more actions to take when a potential violation is detected. Following are the actions you can take: Warn The policy violations are allowed with a user-facing warning. Audit The policy violations are allowed with an auditing log entry recorded. Enforce Any policy violations will cause the Pod to be rejected. With these options defined, Example 23-3 creates a namespace that rejects any Pods that don't satisfy the baseline standard, and also generates a warning for Pods that don't meet the restricted standards requirements. Example 23-3. Set security standards for a namespace  \n",
            "```yaml  \n",
            "apiVersion : v1  \n",
            "kind: Namespace  \n",
            "metadata :  \n",
            "  name: baseline-namespace  \n",
            "  labels:  \n",
            "    pod-security.kubernetes.io/enforce : baseline  \n",
            "    pod-security.kubernetes.io/enforce-version : v1.25  \n",
            "    pod-security.kubernetes.io/warn : restricted  \n",
            "    pod-security.kubernetes.io/warn-version : v1.25  \n",
            "```  \n",
            "  \n",
            "{} {} Every Pod in every namespace  \n",
            "{} { s } Every Pod in the matched namespaces  \n",
            "{ s } { } Every matching Pod in all namespaces  \n",
            "{ s } { s } Every matching Pod in the matching namespaces --- { s } / {} Every Pod in the matching namespace/all namespaces  \n",
            "{ s } / {} --- Matching Pods/every Pod in the NetworkPolicy's namespace As an alternative for selecting Pods from the cluster, a range of IP addresses can be specified with a field ipBlock . We show IP ranges in Example 24-5 . Another option is to restrict the traffic to specific ports to the selected Pod. We can specify this list with a ports field that contains all allowed ports. Egress Not only can incoming traffic be regulated, but so can any request that a Pod sends in the outgoing direction. Egress rules are configured precisely with the same options as ingress rules. And as with ingress rules, starting with a very restrictive policy is recommended. However, denying all outgoing traffic is not practical. Every Pod needs interaction with Pods from the system namespace for DNS lookups. Also, if we use ingress rules to restrict incoming traffic, we would have to add mirrored egress rules for the source Pods. So let's be pragmatic and allow all egress within the cluster, forbid everything outside the cluster, and let ingress rules define the network boundaries. Example 24-4 shows the definition of such a rule. Example 24-4. Allow all internal egress traffic  \n",
            "```yaml  \n",
            "kind: NetworkPolicy  \n",
            "apiVersion : networking.k8s.io/v1  \n",
            "metadata :  \n",
            "  name: egress-allow-internal-only  \n",
            "spec:  \n",
            "  policyTypes :  \n",
            "  - Egress  \n",
            "  podSelector : {}  \n",
            "  egress:  \n",
            "  - to:  \n",
            "    - namespaceSelector : {}  \n",
            "```  \n",
            "  \n",
            "Add only Egress as policy type; otherwise, Kubernetes assumes that you want to specify ingress and egress. Apply NetworkPolicy to all Pods in the NetworkPolicy's namespace. Allow egress to every Pod in every other namespace. Figure 24-2 illustrates the effect of this NetworkPolicy and how it prevents Pods from connecting to external services.  \n",
            "The policyTypes field in a NetworkPolicy determines the type of traffic the policy affects. It is a list that can contain the elements Egress and/or Ingress , and it specifies which rules are included in the policy. If the field is omitted, the default value is determined based on the presence of the ingress and egress rule sections:  \n",
            "  \n",
            ", despite what its name implies, Secret resources are not encrypted but are only Base64 encoded. Nevertheless, Kubernetes does its best to restrict access to a Secret's content with the techniques described in \"How Secure Are Secrets?\" on page 190 . However, as soon as Secret resources are stored outside the cluster, they are naked and vulnerable. With the advent of GitOps as a prevalent paradigm for deploying and maintaining server-side applications, this security challenge is even more pressing. Should Secrets be stored on remote Git repositories? If so, then they must not be stored unencrypted. However, when those are committed encrypted in a source code management system like Git, where do they get decrypted on their way into a Kubernetes cluster? Even when credentials are stored encrypted within the cluster, it is not guaranteed that nobody else can access that confidential information. .regulate access to Kubernetes resources with RBAC rules,1 at least one person has access to all data stored in the cluster: your cluster administrator. Y ou might or might not be able to trust the cluster administrator. It all depends on the context in which your application operates. Are you running a Kubernetes cluster in the cloud operated by somebody else? Or is your application deployed on a big company-wide Kubernetes platform, and you need to know who is running this cluster? Different solutions are required depending on these trust boundaries and confidentiality requirements. Secrets are the Kubernetes answer for confidential configuration in-cluster storage. , so let's now have a look at how we can improve various security aspects of Secrets with additional techniques.  \n",
            "\n",
            "### Step 3: Creating full prompt given to model  \n",
            "\n",
            "You are a helpful kubernetes professional. [INST] Use the following documentation, if it is relevant to answer the question below. [/INST]\n",
            "Documentation: [RETRIEVED_RESULTS_FROM_BOOK] [INST] Answer the following question: How can I increase the security of a K8s cluster? [/INST]\n",
            "Answer:  \n",
            "\n",
            "## Section 2: Generating answer  \n",
            "\n",
            "To increase the security of a Kubernetes cluster, there are several steps you can take:  \n",
            "  \n",
            "1. Use Role-Based Access Control (RBAC): Implement RBAC to control access to Kubernetes resources. This allows you to define roles and assign permissions to users and groups, ensuring that only authorized individuals can perform operations on the cluster.  \n",
            "2. Enable Pod Security Policies (PSP): Use PSP to enforce security standards for Pods. PSPs provide a set of predefined security profiles that you can apply to your clusters, including Privileged, Baseline, and Restricted. Each profile includes different levels of security restrictions, allowing you to choose the appropriate level for your environment.  \n",
            "3. Use Network Policies: Implement Network Policies to control network traffic within the cluster. This enables you to define rules that determine which  \n",
            "\n",
            "--------------------------------------------\n",
            "# Answer with Google search\n",
            "## Section 1: Preparing for generation  \n",
            "\n",
            "### Step 1: Preparing prompt for additional documentation  \n",
            "\n",
            "You are a helpful kubernetes professional. [INST] Use the following documentation, if it is relevant to answer the question below. [/INST]\n",
            "Documentation:  \n",
            "\n",
            "### Step 2: Retrieving documentation from Google.  \n",
            "\n",
            "10 Kubernetes security best practices; Enable Role-Based Access Control (RBAC); Use Third-Party Authentication for API Server; Protect ETCD with TLS and ...    \n",
            "Use Transport Layer Security (TLS) for all API traffic. Kubernetes expects that all API communication in the cluster is encrypted by default ...    \n",
            "To achieve network security in a Kubernetes environment, you must build network security definitions into your workloads, using a declarative model. Security ...    \n",
            "1. Upgrade Kubernetes to latest version · 2. Secure Kubernetes API server authentication · 3. Enable role-based access control authorization · 4.    \n",
            "Shielded GKE Nodes provide strong, verifiable node identity and integrity to increase the security of GKE nodes and should be enabled on all GKE clusters. You ...    \n",
            "Encrypt data at rest wherever possible. Use access control tools to restrict who can access data. Ensure that the servers that manage your storage pools are ...    \n",
            "Securing containers and Kubernetes starts in the build phase with securing your container images. The two main things to do here are to build secure images and ...    \n",
            "1. Use Kubernetes Role-Based Access Control (RBAC) · 2. Secure the API server with OpenID Connect · 3. Use Secrets for all sensitive data with ...    \n",
            "This blog post will discuss the Kubernetes attack surfaces and how to secure your Kubernetes cluster against attacks.    \n",
            "1. Limit Access to Kubernetes API · 2. Use Network Segmentation · 3. Use RBAC · 4. Secure Kubernetes Secrets · 5. Update Kubernetes Regularly · 6.  \n",
            "\n",
            "### Step 3: Creating full prompt given to model  \n",
            "\n",
            "You are a helpful kubernetes professional. [INST] Use the following documentation, if it is relevant to answer the question below. [/INST]\n",
            "Documentation: [RETRIEVED_RESULTS_FROM_GOOGLE] [INST] Answer the following question: How can I increase the security of a K8s cluster? [/INST]\n",
            "Answer:  \n",
            "\n",
            "## Section 2: Generating answer  \n",
            "\n",
            "1. Use Transport Layer Security (TLS) for all API traffic. Kubernetes expects that all API communication in the cluster is encrypted by default.  \n",
            "2. Build network security definitions into your workloads using a declarative model. This helps protect your cluster from unauthorized access.  \n",
            "3. Enable role-based access control (RBAC) to ensure that only authorized users have access to specific resources within the cluster.  \n",
            "4. Shielded GKE Nodes provide strong, verifiable node identity and integrity to increase the security of GKE nodes and should be enabled on all GKE clusters.  \n",
            "5. Encrypt data at rest wherever possible to prevent unauthorized access to sensitive information.  \n",
            "6. Use access control tools to restrict who can access data and ensure that the servers managing your storage pools are secure.  \n",
            "7. Secure containers  \n"
          ]
        }
      ]
    }
  ],
  "metadata": {
    "kernelspec": {
      "display_name": "Python 3",
      "name": "python3"
    },
    "language_info": {
      "codemirror_mode": {
        "name": "ipython",
        "version": 3
      },
      "file_extension": ".py",
      "mimetype": "text/x-python",
      "name": "python",
      "nbconvert_exporter": "python",
      "pygments_lexer": "ipython3",
      "version": "3.10.11"
    },
    "colab": {
      "provenance": [],
      "include_colab_link": true
    }
  },
  "nbformat": 4,
  "nbformat_minor": 5
}