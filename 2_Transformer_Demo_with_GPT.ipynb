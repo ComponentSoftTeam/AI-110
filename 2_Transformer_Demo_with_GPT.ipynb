{
  "cells": [
    {
      "cell_type": "markdown",
      "metadata": {
        "id": "view-in-github",
        "colab_type": "text"
      },
      "source": [
        "<a href=\"https://colab.research.google.com/github/ComponentSoftTeam/AI-110/blob/main/2_Transformer_Demo_with_GPT.ipynb\" target=\"_parent\"><img src=\"https://colab.research.google.com/assets/colab-badge.svg\" alt=\"Open In Colab\"/></a>"
      ]
    },
    {
      "cell_type": "markdown",
      "id": "3f1898f1",
      "metadata": {
        "id": "3f1898f1"
      },
      "source": [
        "## 2.1 Introduction to the tokenizer and embeddings of GPT-2"
      ]
    },
    {
      "cell_type": "code",
      "source": [
        "%%capture\n",
        "%pip install datasets transformers bertviz"
      ],
      "metadata": {
        "id": "rj4loPg8Wp1J"
      },
      "id": "rj4loPg8Wp1J",
      "execution_count": null,
      "outputs": []
    },
    {
      "cell_type": "code",
      "execution_count": null,
      "id": "def3ab5c",
      "metadata": {
        "id": "def3ab5c"
      },
      "outputs": [],
      "source": [
        "from transformers import pipeline, set_seed, GPT2Tokenizer, GPT2LMHeadModel\n",
        "from torch import tensor, numel\n",
        "from bertviz import model_view\n",
        "\n",
        "set_seed(42)"
      ]
    },
    {
      "cell_type": "code",
      "execution_count": null,
      "id": "fe869922",
      "metadata": {
        "colab": {
          "base_uri": "https://localhost:8080/",
          "height": 331,
          "referenced_widgets": [
            "78fc6192cda84c20afb11833e777fed9",
            "734a582b72994f1986b1d3a4fca36ebf",
            "3228556d4cbc4156abb49f638ea96ea9",
            "de75bf7763e948178be5b817caf263e1",
            "9c9301327c3b414fb8aed837c7188bda",
            "256a6cafed89421f903e3eec3e5111f4",
            "aa28fbd5804b4dffa63ef87e5fcd03b7",
            "116741c7eae74b6486d0cf15b050c6aa",
            "998471ad42d14db1b152e067e8f6773b",
            "b0ea6cf946d747f5a89726ac6966febe",
            "6b4954a45b204989ac52e5a5ce092f35",
            "d28b14576c4c4bd2967cd1ea7476b0d8",
            "7484386577334529a2da30c18dd1a272",
            "dff0bd2f1cb04efcbc69958d39d8c616",
            "9fe7509a04f6402daa96f5fafca6f171",
            "09f41a2ccb734021a00fbd71b7963c3e",
            "ca435a6d820f480b9ce705d057865254",
            "23e551fd53114345bb4f7a850b677c0d",
            "98736f97f7e44f7e87f2e065b4a769bc",
            "bb5546a2327a40fdb653304afa13e820",
            "ae15cf952a5e47219276237455be59e2",
            "0e0fcc75d9fb4f62980a846fa5eeef84",
            "6281b92eccaf440f81aac19c24764441",
            "caacc86303f64916bc6a31740e7afd55",
            "0e48d4391a684009886fe89a75dc290e",
            "00c4437568e34ad1a2f0fdcb542c4a0a",
            "66bde2c7e08642a499bfc859e3ca67b3",
            "28026fa3aea44f3ca58cb1426d610692",
            "4b12ade972ab46f2b17135d805b0cd08",
            "006d2697b70a40bd8fc8f1c6520555ec",
            "720525df1fb54a828262439169c73021",
            "3b3d202f1fbe4518991f4eecdb554971",
            "78ac7af189544cbc9d8c0b164ff09e27",
            "650f68480b6c414e84f49e07ab7824bf",
            "ca8db43be15c4f7da770f870e3a03d97",
            "54cd03c23e934472b315eab4ed035d12",
            "24fd640f73274e2c95040e430f16989b",
            "3949506089484fabab4a496139f32936",
            "78956e5212a140d484e975f645691f94",
            "d254d8b264c149c3addb524c5e27e97e",
            "f4bd697d0aec41d58a09efbfbbb35768",
            "e424454aa89f471280f8d81b1a778d35",
            "e28f291df49f4351a16d827e2d575d32",
            "d14e3b56bfe9415ab3d3f8ddd82330e9",
            "23a4132255ac472d9d21d2cd822f6fd4",
            "45a362b999b941c18a64c33a4fcc9ee8",
            "6c55de071a71439790de1cd4a3b89128",
            "719fc9a5329b42fe8e0ae37e626ac577",
            "31f08f463d124f0da5de15d7a5a69ea4",
            "6016ee6f7cba454a860035975c9c92c0",
            "18c4b389e92b47cea95b2e8b0381a2b7",
            "b97451e2e6284b6a819e121fc16b255a",
            "5545143bac4048f0aab9e52fad09bdf8",
            "01f754a5d84941b29cd61f9c26050702",
            "95f27dc37b01478f86eb95b7c3cdcf94",
            "958d8359360747a38c0966457dc49e7b",
            "b5d93183922c4c8c8334bd764e16e8bb",
            "0efc916a3c684777a7a9724fe7d352f7",
            "7a6bdb60c1b5488ebb490a8dda087b1c",
            "9425e3d4fea84bc6a766cb8436d91838",
            "4b03a6c9ffd34c9cb1c71212bc40ed9c",
            "4c2b047f12f24d83b83fbb37dcc47466",
            "25ce6caca1ce43dcb49a5ba916099716",
            "46f90aa682474f9cad5970d32002f2a3",
            "6a4e56acb2434c3c9fb9ea30c83e1396",
            "12338ebf847b47f0906f22d7876de529"
          ]
        },
        "id": "fe869922",
        "outputId": "94d8adf1-cd5c-406c-f72a-549b8a04d7cc"
      },
      "outputs": [
        {
          "output_type": "display_data",
          "data": {
            "text/plain": [
              "Downloading (…)lve/main/config.json:   0%|          | 0.00/665 [00:00<?, ?B/s]"
            ],
            "application/vnd.jupyter.widget-view+json": {
              "version_major": 2,
              "version_minor": 0,
              "model_id": "78fc6192cda84c20afb11833e777fed9"
            }
          },
          "metadata": {}
        },
        {
          "output_type": "display_data",
          "data": {
            "text/plain": [
              "Downloading model.safetensors:   0%|          | 0.00/548M [00:00<?, ?B/s]"
            ],
            "application/vnd.jupyter.widget-view+json": {
              "version_major": 2,
              "version_minor": 0,
              "model_id": "d28b14576c4c4bd2967cd1ea7476b0d8"
            }
          },
          "metadata": {}
        },
        {
          "output_type": "display_data",
          "data": {
            "text/plain": [
              "Downloading (…)neration_config.json:   0%|          | 0.00/124 [00:00<?, ?B/s]"
            ],
            "application/vnd.jupyter.widget-view+json": {
              "version_major": 2,
              "version_minor": 0,
              "model_id": "6281b92eccaf440f81aac19c24764441"
            }
          },
          "metadata": {}
        },
        {
          "output_type": "display_data",
          "data": {
            "text/plain": [
              "Downloading (…)olve/main/vocab.json:   0%|          | 0.00/1.04M [00:00<?, ?B/s]"
            ],
            "application/vnd.jupyter.widget-view+json": {
              "version_major": 2,
              "version_minor": 0,
              "model_id": "650f68480b6c414e84f49e07ab7824bf"
            }
          },
          "metadata": {}
        },
        {
          "output_type": "display_data",
          "data": {
            "text/plain": [
              "Downloading (…)olve/main/merges.txt:   0%|          | 0.00/456k [00:00<?, ?B/s]"
            ],
            "application/vnd.jupyter.widget-view+json": {
              "version_major": 2,
              "version_minor": 0,
              "model_id": "23a4132255ac472d9d21d2cd822f6fd4"
            }
          },
          "metadata": {}
        },
        {
          "output_type": "display_data",
          "data": {
            "text/plain": [
              "Downloading (…)/main/tokenizer.json:   0%|          | 0.00/1.36M [00:00<?, ?B/s]"
            ],
            "application/vnd.jupyter.widget-view+json": {
              "version_major": 2,
              "version_minor": 0,
              "model_id": "958d8359360747a38c0966457dc49e7b"
            }
          },
          "metadata": {}
        },
        {
          "output_type": "stream",
          "name": "stderr",
          "text": [
            "Setting `pad_token_id` to `eos_token_id`:50256 for open-end generation.\n"
          ]
        },
        {
          "output_type": "execute_result",
          "data": {
            "text/plain": [
              "[{'generated_text': \"Hello, I'm here in Budapest and I want to tell you that my dear little dear baby is going to live for many years to come.\\n\"},\n",
              " {'generated_text': \"Hello, I'm here in Budapest and I'm happy to share with you that this will be my first visit to Europe after all. Europe is not\"},\n",
              " {'generated_text': 'Hello, I\\'m here in Budapest and I can finally finally say thanks to you all,\" he says in the Hungarian. \"It\\'s just a sad'}]"
            ]
          },
          "metadata": {},
          "execution_count": 3
        }
      ],
      "source": [
        "generator = pipeline('text-generation', model='gpt2')\n",
        "\n",
        "generator(\"Hello, I'm here in Budapest and I\", max_length=30, num_return_sequences=3)"
      ]
    },
    {
      "cell_type": "code",
      "execution_count": null,
      "id": "9687d05c",
      "metadata": {
        "id": "9687d05c"
      },
      "outputs": [],
      "source": [
        "tokenizer = GPT2Tokenizer.from_pretrained('gpt2')\n",
        "model = GPT2LMHeadModel.from_pretrained('gpt2')"
      ]
    },
    {
      "cell_type": "code",
      "source": [
        "'Erno' in tokenizer.get_vocab()"
      ],
      "metadata": {
        "colab": {
          "base_uri": "https://localhost:8080/"
        },
        "id": "7iHZMOg-CggK",
        "outputId": "904ab8ce-d353-4f76-e97a-2bf405145ed4"
      },
      "id": "7iHZMOg-CggK",
      "execution_count": null,
      "outputs": [
        {
          "output_type": "execute_result",
          "data": {
            "text/plain": [
              "False"
            ]
          },
          "metadata": {},
          "execution_count": 5
        }
      ]
    },
    {
      "cell_type": "code",
      "execution_count": null,
      "id": "167d0a29",
      "metadata": {
        "colab": {
          "base_uri": "https://localhost:8080/"
        },
        "id": "167d0a29",
        "outputId": "cab4e414-405c-4a6b-e89a-df6f45c2a1e3"
      },
      "outputs": [
        {
          "output_type": "execute_result",
          "data": {
            "text/plain": [
              "['Hi',\n",
              " 'Ġthere',\n",
              " '.',\n",
              " 'ĠI',\n",
              " 'Ġam',\n",
              " 'ĠEr',\n",
              " 'no',\n",
              " ',',\n",
              " 'ĠI',\n",
              " 'Ġam',\n",
              " 'Ġyour',\n",
              " 'Ġinstructor',\n",
              " '.']"
            ]
          },
          "metadata": {},
          "execution_count": 21
        }
      ],
      "source": [
        "tokenizer.convert_ids_to_tokens(tokenizer.encode('Hi there. I am Erno, I am your instructor.'))"
      ]
    },
    {
      "cell_type": "code",
      "execution_count": null,
      "id": "4777b3fc",
      "metadata": {
        "colab": {
          "base_uri": "https://localhost:8080/"
        },
        "id": "4777b3fc",
        "outputId": "6e1cc07e-608d-4345-c67a-55ccb35111ec"
      },
      "outputs": [
        {
          "output_type": "execute_result",
          "data": {
            "text/plain": [
              "[17250, 612, 13, 314, 716, 5256, 3919, 11, 314, 716, 534, 21187, 13]"
            ]
          },
          "metadata": {},
          "execution_count": 6
        }
      ],
      "source": [
        "tokenizer.encode('Hi there. I am Erno, I am your instructor.')"
      ]
    },
    {
      "cell_type": "code",
      "execution_count": null,
      "id": "8c892447",
      "metadata": {
        "colab": {
          "base_uri": "https://localhost:8080/"
        },
        "id": "8c892447",
        "outputId": "562608ca-e890-46c4-f2f0-2d8e92487d8b"
      },
      "outputs": [
        {
          "output_type": "execute_result",
          "data": {
            "text/plain": [
              "tensor([[17250,   612,    13,   314,   716,  5256,  3919,    11,   314,   716,\n",
              "           534, 21187,    13]])"
            ]
          },
          "metadata": {},
          "execution_count": 7
        }
      ],
      "source": [
        "encoded = tokenizer.encode('Hi there. I am Erno, I am your instructor.', return_tensors='pt')\n",
        "\n",
        "encoded"
      ]
    },
    {
      "cell_type": "code",
      "execution_count": null,
      "id": "c3bee3a5",
      "metadata": {
        "id": "c3bee3a5",
        "colab": {
          "base_uri": "https://localhost:8080/"
        },
        "outputId": "1b93e0a7-5204-41b2-c9db-6b1cf795b7e5"
      },
      "outputs": [
        {
          "output_type": "execute_result",
          "data": {
            "text/plain": [
              "torch.Size([1, 13])"
            ]
          },
          "metadata": {},
          "execution_count": 8
        }
      ],
      "source": [
        "encoded.shape"
      ]
    },
    {
      "cell_type": "code",
      "execution_count": null,
      "id": "9687f9f2",
      "metadata": {
        "colab": {
          "base_uri": "https://localhost:8080/"
        },
        "id": "9687f9f2",
        "outputId": "77fee507-ddbe-41cc-8f2e-e19b8b08f591"
      },
      "outputs": [
        {
          "output_type": "execute_result",
          "data": {
            "text/plain": [
              "GPT2LMHeadModel(\n",
              "  (transformer): GPT2Model(\n",
              "    (wte): Embedding(50257, 768)\n",
              "    (wpe): Embedding(1024, 768)\n",
              "    (drop): Dropout(p=0.1, inplace=False)\n",
              "    (h): ModuleList(\n",
              "      (0-11): 12 x GPT2Block(\n",
              "        (ln_1): LayerNorm((768,), eps=1e-05, elementwise_affine=True)\n",
              "        (attn): GPT2Attention(\n",
              "          (c_attn): Conv1D()\n",
              "          (c_proj): Conv1D()\n",
              "          (attn_dropout): Dropout(p=0.1, inplace=False)\n",
              "          (resid_dropout): Dropout(p=0.1, inplace=False)\n",
              "        )\n",
              "        (ln_2): LayerNorm((768,), eps=1e-05, elementwise_affine=True)\n",
              "        (mlp): GPT2MLP(\n",
              "          (c_fc): Conv1D()\n",
              "          (c_proj): Conv1D()\n",
              "          (act): NewGELUActivation()\n",
              "          (dropout): Dropout(p=0.1, inplace=False)\n",
              "        )\n",
              "      )\n",
              "    )\n",
              "    (ln_f): LayerNorm((768,), eps=1e-05, elementwise_affine=True)\n",
              "  )\n",
              "  (lm_head): Linear(in_features=768, out_features=50257, bias=False)\n",
              ")"
            ]
          },
          "metadata": {},
          "execution_count": 9
        }
      ],
      "source": [
        "model"
      ]
    },
    {
      "cell_type": "code",
      "source": [
        "# Get all of the model's parameters as a list of tuples.\n",
        "named_params = list(model.named_parameters())\n",
        "\n",
        "print('The GPT-2 model has {:} different named parameters.\\n'.format(len(named_params)))\n",
        "\n",
        "print('==== Embedding Layer ====\\n')\n",
        "for p in named_params[0:2]:\n",
        "    print(\"{:<55} {:>12}\".format(p[0], str(tuple(p[1].size()))))\n",
        "\n",
        "print('\\n==== Decoders ====\\n')\n",
        "for p in named_params[3:146]:\n",
        "    print(\"{:<55} {:>12}\".format(p[0], str(tuple(p[1].size()))))\n",
        "\n",
        "print('\\n==== Output Layer ====\\n')\n",
        "for p in named_params[-2:]:\n",
        "    print(\"{:<55} {:>12}\".format(p[0], str(tuple(p[1].size()))))\n",
        "\n"
      ],
      "metadata": {
        "id": "Wlt4CqQkB7KH"
      },
      "id": "Wlt4CqQkB7KH",
      "execution_count": null,
      "outputs": []
    },
    {
      "cell_type": "code",
      "execution_count": null,
      "id": "541d5c22",
      "metadata": {
        "colab": {
          "base_uri": "https://localhost:8080/"
        },
        "id": "541d5c22",
        "outputId": "72104b41-37fa-4524-b6af-847fcc0efba6"
      },
      "outputs": [
        {
          "output_type": "execute_result",
          "data": {
            "text/plain": [
              "tensor([[[-0.0679, -0.1280,  0.0666,  ...,  0.0494, -0.0610, -0.0470],\n",
              "         [-0.0806,  0.0413,  0.0576,  ..., -0.0095, -0.1874, -0.0539],\n",
              "         [ 0.0466, -0.0113,  0.0283,  ..., -0.0735,  0.0496,  0.0963],\n",
              "         ...,\n",
              "         [-0.0756,  0.0461,  0.0550,  ..., -0.0826,  0.0872, -0.0208],\n",
              "         [ 0.1415, -0.1637, -0.0499,  ...,  0.0580,  0.0695,  0.0071],\n",
              "         [ 0.0466, -0.0113,  0.0283,  ..., -0.0735,  0.0496,  0.0963]]],\n",
              "       grad_fn=<EmbeddingBackward0>)"
            ]
          },
          "metadata": {},
          "execution_count": 11
        }
      ],
      "source": [
        "model.transformer.wte(encoded)"
      ]
    },
    {
      "cell_type": "code",
      "source": [
        "model.transformer.wpe(tensor([0, 1, 2, 3, 4, 5, 6, 7, 8, 9, 10, 11, 12]))"
      ],
      "metadata": {
        "colab": {
          "base_uri": "https://localhost:8080/"
        },
        "id": "kYtMlwVh3jM9",
        "outputId": "b306118f-b899-44d3-dc62-573c18b7ffc3"
      },
      "id": "kYtMlwVh3jM9",
      "execution_count": null,
      "outputs": [
        {
          "output_type": "execute_result",
          "data": {
            "text/plain": [
              "tensor([[-1.8821e-02, -1.9742e-01,  4.0267e-03,  ..., -4.3044e-02,\n",
              "          2.8267e-02,  5.4490e-02],\n",
              "        [ 2.3959e-02, -5.3792e-02, -9.4879e-02,  ...,  3.4170e-02,\n",
              "          1.0172e-02, -1.5573e-04],\n",
              "        [ 4.2161e-03, -8.4764e-02,  5.4515e-02,  ...,  1.9745e-02,\n",
              "          1.9325e-02, -2.1424e-02],\n",
              "        ...,\n",
              "        [ 1.6006e-03,  6.2476e-03,  1.0040e-01,  ..., -4.6657e-03,\n",
              "          9.3994e-04, -5.8468e-03],\n",
              "        [-3.5615e-03,  1.7494e-02,  1.0676e-01,  ..., -5.4367e-03,\n",
              "         -7.9653e-04, -5.6959e-03],\n",
              "        [ 5.9564e-05,  1.7205e-02,  9.6934e-02,  ..., -1.5799e-03,\n",
              "         -8.6813e-04, -7.8220e-03]], grad_fn=<EmbeddingBackward0>)"
            ]
          },
          "metadata": {},
          "execution_count": 12
        }
      ]
    },
    {
      "cell_type": "code",
      "source": [
        "initial_input = model.transformer.wte(encoded) + model.transformer.wpe(tensor([0, 1, 2, 3, 4, 5, 6, 7, 8, 9, 10, 11,12]).reshape(1, 13))\n",
        "initial_input\n"
      ],
      "metadata": {
        "colab": {
          "base_uri": "https://localhost:8080/"
        },
        "id": "VO2T0NCD397I",
        "outputId": "daf02281-cd15-4dd5-9e6b-544fe4a6c737"
      },
      "id": "VO2T0NCD397I",
      "execution_count": null,
      "outputs": [
        {
          "output_type": "execute_result",
          "data": {
            "text/plain": [
              "tensor([[[-0.0867, -0.3254,  0.0706,  ...,  0.0063, -0.0328,  0.0075],\n",
              "         [-0.0566, -0.0125, -0.0373,  ...,  0.0247, -0.1772, -0.0540],\n",
              "         [ 0.0509, -0.0961,  0.0828,  ..., -0.0538,  0.0689,  0.0749],\n",
              "         ...,\n",
              "         [-0.0740,  0.0523,  0.1554,  ..., -0.0873,  0.0881, -0.0266],\n",
              "         [ 0.1379, -0.1462,  0.0569,  ...,  0.0525,  0.0687,  0.0014],\n",
              "         [ 0.0467,  0.0059,  0.1253,  ..., -0.0751,  0.0488,  0.0885]]],\n",
              "       grad_fn=<AddBackward0>)"
            ]
          },
          "metadata": {},
          "execution_count": 14
        }
      ]
    },
    {
      "cell_type": "code",
      "execution_count": null,
      "id": "97a70fdd",
      "metadata": {
        "colab": {
          "base_uri": "https://localhost:8080/"
        },
        "id": "97a70fdd",
        "outputId": "e79ccff8-4526-438d-c003-49a0e0187c43"
      },
      "outputs": [
        {
          "output_type": "execute_result",
          "data": {
            "text/plain": [
              "tensor([[[-0.0867, -0.3254,  0.0706,  ...,  0.0063, -0.0328,  0.0075],\n",
              "         [-0.0566, -0.0125, -0.0373,  ...,  0.0247, -0.1772, -0.0540],\n",
              "         [ 0.0509, -0.0961,  0.0828,  ..., -0.0538,  0.0689,  0.0749],\n",
              "         ...,\n",
              "         [-0.0740,  0.0523,  0.1554,  ..., -0.0873,  0.0881, -0.0266],\n",
              "         [ 0.1379, -0.1462,  0.0569,  ...,  0.0525,  0.0687,  0.0014],\n",
              "         [ 0.0467,  0.0059,  0.1253,  ..., -0.0751,  0.0488,  0.0885]]],\n",
              "       grad_fn=<AddBackward0>)"
            ]
          },
          "metadata": {},
          "execution_count": 15
        }
      ],
      "source": [
        "initial_input = model.transformer.drop(initial_input) ###\n",
        "initial_input"
      ]
    },
    {
      "cell_type": "code",
      "execution_count": null,
      "id": "55ce36f7",
      "metadata": {
        "colab": {
          "base_uri": "https://localhost:8080/"
        },
        "id": "55ce36f7",
        "outputId": "aee72657-538e-4ade-a0f2-756d0c6dbf81"
      },
      "outputs": [
        {
          "output_type": "execute_result",
          "data": {
            "text/plain": [
              "Linear(in_features=768, out_features=50257, bias=False)"
            ]
          },
          "metadata": {},
          "execution_count": 16
        }
      ],
      "source": [
        "model.lm_head ###"
      ]
    },
    {
      "cell_type": "code",
      "source": [],
      "metadata": {
        "id": "Vp4WwO4XOtgG"
      },
      "id": "Vp4WwO4XOtgG",
      "execution_count": null,
      "outputs": []
    },
    {
      "cell_type": "code",
      "execution_count": null,
      "id": "4066d604",
      "metadata": {
        "id": "4066d604",
        "colab": {
          "base_uri": "https://localhost:8080/"
        },
        "outputId": "1c06e54e-7e49-4501-8f2e-9f3069766ce2"
      },
      "outputs": [
        {
          "output_type": "execute_result",
          "data": {
            "text/plain": [
              "tensor([[[ 0.5575,  0.6999, -0.1813,  ..., -0.1896,  0.3552,  0.0272],\n",
              "         [ 0.1139,  1.0027,  0.0723,  ..., -0.2575,  0.6447,  0.0353],\n",
              "         [ 0.0261,  1.2553, -0.0519,  ..., -0.2093,  0.6309,  0.0952],\n",
              "         ...,\n",
              "         [-0.3555,  1.3587,  0.2510,  ...,  0.0516,  0.8672,  0.1381],\n",
              "         [-0.3212,  1.3428,  0.1555,  ...,  0.0195,  0.8809,  0.1051],\n",
              "         [-0.2976,  1.3649,  0.1778,  ...,  0.0337,  0.7983,  0.1461]]],\n",
              "       grad_fn=<NativeLayerNormBackward0>)"
            ]
          },
          "metadata": {},
          "execution_count": 18
        }
      ],
      "source": [
        "for module in model.transformer.h:\n",
        "    initial_input = module(initial_input)[0]\n",
        "\n",
        "initial_input = model.transformer.ln_f(initial_input)\n",
        "initial_input"
      ]
    },
    {
      "cell_type": "code",
      "execution_count": null,
      "id": "11780d1a",
      "metadata": {
        "colab": {
          "base_uri": "https://localhost:8080/"
        },
        "id": "11780d1a",
        "outputId": "2b055f3c-1902-42ba-eb10-5e6e77852b18"
      },
      "outputs": [
        {
          "output_type": "execute_result",
          "data": {
            "text/plain": [
              "tensor([[[ 0.5575,  0.6999, -0.1813,  ..., -0.1896,  0.3552,  0.0272],\n",
              "         [ 0.1139,  1.0027,  0.0723,  ..., -0.2575,  0.6447,  0.0353],\n",
              "         [ 0.0261,  1.2553, -0.0519,  ..., -0.2093,  0.6309,  0.0952],\n",
              "         ...,\n",
              "         [-0.3555,  1.3587,  0.2510,  ...,  0.0516,  0.8672,  0.1381],\n",
              "         [-0.3212,  1.3428,  0.1555,  ...,  0.0195,  0.8809,  0.1051],\n",
              "         [-0.2976,  1.3649,  0.1778,  ...,  0.0337,  0.7983,  0.1461]]],\n",
              "       grad_fn=<NativeLayerNormBackward0>)"
            ]
          },
          "metadata": {},
          "execution_count": 21
        }
      ],
      "source": [
        "(initial_input == model(encoded, output_hidden_states=True).hidden_states[-1]).all()\n",
        "initial_input"
      ]
    },
    {
      "cell_type": "code",
      "execution_count": null,
      "id": "7162862a",
      "metadata": {
        "id": "7162862a"
      },
      "outputs": [],
      "source": []
    },
    {
      "cell_type": "code",
      "execution_count": null,
      "id": "3d03c5d0",
      "metadata": {
        "colab": {
          "base_uri": "https://localhost:8080/"
        },
        "id": "3d03c5d0",
        "outputId": "ff7c1c7a-c365-4182-e3f6-dc6f37a3e475"
      },
      "outputs": [
        {
          "output_type": "stream",
          "name": "stdout",
          "text": [
            "Number of params: 124,439,808\n"
          ]
        }
      ],
      "source": [
        "total_params = 0\n",
        "for param in model.parameters():\n",
        "    total_params += numel(param)\n",
        "\n",
        "print(f'Number of params: {total_params:,}')"
      ]
    },
    {
      "cell_type": "code",
      "execution_count": null,
      "id": "d3e7ed76",
      "metadata": {
        "id": "d3e7ed76"
      },
      "outputs": [],
      "source": []
    },
    {
      "cell_type": "markdown",
      "id": "274aac4e",
      "metadata": {
        "id": "274aac4e"
      },
      "source": [
        "## 2.2 Introduction to GPT-2 masked multi-headed attention"
      ]
    },
    {
      "cell_type": "code",
      "execution_count": null,
      "id": "de1da310",
      "metadata": {
        "id": "de1da310"
      },
      "outputs": [],
      "source": [
        "import torch\n",
        "import pandas as pd\n"
      ]
    },
    {
      "cell_type": "code",
      "execution_count": null,
      "id": "d20f2219",
      "metadata": {
        "colab": {
          "base_uri": "https://localhost:8080/"
        },
        "id": "d20f2219",
        "outputId": "6aa18740-5bad-4045-fed0-b45e052038a4"
      },
      "outputs": [
        {
          "output_type": "execute_result",
          "data": {
            "text/plain": [
              "12"
            ]
          },
          "metadata": {},
          "execution_count": 27
        }
      ],
      "source": [
        "phrase = 'My friend was right about this class. It is so fun!' ###\n",
        "encoded_phrase = tokenizer(phrase, return_tensors='pt')\n",
        "\n",
        "response = model(**encoded_phrase, output_attentions=True, output_hidden_states=True)\n",
        "\n",
        "len(response.attentions)"
      ]
    },
    {
      "cell_type": "code",
      "execution_count": null,
      "id": "acc9e4da",
      "metadata": {
        "colab": {
          "base_uri": "https://localhost:8080/"
        },
        "id": "acc9e4da",
        "outputId": "03c3aa27-57fe-4fb3-f49a-424806e5b416"
      },
      "outputs": [
        {
          "output_type": "execute_result",
          "data": {
            "text/plain": [
              "{'input_ids': tensor([[3666, 1545,  373,  826,  546,  428, 1398,   13,  632,  318,  523, 1257,\n",
              "            0]]), 'attention_mask': tensor([[1, 1, 1, 1, 1, 1, 1, 1, 1, 1, 1, 1, 1]])}"
            ]
          },
          "metadata": {},
          "execution_count": 28
        }
      ],
      "source": [
        "encoded_phrase"
      ]
    },
    {
      "cell_type": "code",
      "execution_count": null,
      "id": "3fe66d9c",
      "metadata": {
        "colab": {
          "base_uri": "https://localhost:8080/"
        },
        "id": "3fe66d9c",
        "outputId": "7cd0100d-ca49-424e-dac8-b15b32543360"
      },
      "outputs": [
        {
          "output_type": "execute_result",
          "data": {
            "text/plain": [
              "torch.Size([1, 12, 13, 13])"
            ]
          },
          "metadata": {},
          "execution_count": 29
        }
      ],
      "source": [
        "response.attentions[-1].shape  # From the final decoder"
      ]
    },
    {
      "cell_type": "code",
      "execution_count": null,
      "id": "f2337791",
      "metadata": {
        "colab": {
          "base_uri": "https://localhost:8080/"
        },
        "id": "f2337791",
        "outputId": "aa45dd73-3a8b-48c0-ae75-db1e0600a0be"
      },
      "outputs": [
        {
          "output_type": "execute_result",
          "data": {
            "text/plain": [
              "torch.Size([1, 13])"
            ]
          },
          "metadata": {},
          "execution_count": 30
        }
      ],
      "source": [
        "encoded_phrase['input_ids'].shape"
      ]
    },
    {
      "cell_type": "code",
      "execution_count": null,
      "id": "85eec46b",
      "metadata": {
        "colab": {
          "base_uri": "https://localhost:8080/"
        },
        "id": "85eec46b",
        "outputId": "568b865d-5521-4c76-ec66-1d68f7deba36"
      },
      "outputs": [
        {
          "output_type": "execute_result",
          "data": {
            "text/plain": [
              "['My',\n",
              " 'Ġfriend',\n",
              " 'Ġwas',\n",
              " 'Ġright',\n",
              " 'Ġabout',\n",
              " 'Ġthis',\n",
              " 'Ġclass',\n",
              " '.',\n",
              " 'ĠIt',\n",
              " 'Ġis',\n",
              " 'Ġso',\n",
              " 'Ġfun',\n",
              " '!']"
            ]
          },
          "metadata": {},
          "execution_count": 31
        }
      ],
      "source": [
        "tokens = tokenizer.convert_ids_to_tokens(encoded_phrase['input_ids'][0]) ###\n",
        "\n",
        "tokens"
      ]
    },
    {
      "cell_type": "code",
      "execution_count": null,
      "id": "a12d5b0a",
      "metadata": {
        "colab": {
          "base_uri": "https://localhost:8080/",
          "height": 457
        },
        "id": "a12d5b0a",
        "outputId": "d575f0aa-c9e6-4acd-ab2c-ee6b9bb3f2eb"
      },
      "outputs": [
        {
          "output_type": "execute_result",
          "data": {
            "text/plain": [
              "            My  Ġfriend   Ġwas  Ġright  Ġabout  Ġthis  Ġclass      .    ĠIt  \\\n",
              "My       1.000    0.000  0.000   0.000   0.000  0.000   0.000  0.000  0.000   \n",
              "Ġfriend  0.968    0.032  0.000   0.000   0.000  0.000   0.000  0.000  0.000   \n",
              "Ġwas     0.824    0.145  0.031   0.000   0.000  0.000   0.000  0.000  0.000   \n",
              "Ġright   0.979    0.008  0.007   0.005   0.000  0.000   0.000  0.000  0.000   \n",
              "Ġabout   0.979    0.008  0.004   0.005   0.005  0.000   0.000  0.000  0.000   \n",
              "Ġthis    0.924    0.031  0.007   0.006   0.016  0.016   0.000  0.000  0.000   \n",
              "Ġclass   0.946    0.005  0.001   0.001   0.001  0.002   0.044  0.000  0.000   \n",
              ".        0.691    0.013  0.003   0.003   0.002  0.006   0.269  0.013  0.000   \n",
              "ĠIt      0.318    0.003  0.003   0.003   0.006  0.018   0.599  0.018  0.032   \n",
              "Ġis      0.331    0.006  0.002   0.002   0.003  0.018   0.533  0.013  0.062   \n",
              "Ġso      0.141    0.010  0.005   0.004   0.004  0.026   0.645  0.023  0.096   \n",
              "Ġfun     0.532    0.015  0.003   0.002   0.001  0.002   0.317  0.029  0.035   \n",
              "!        0.527    0.008  0.003   0.001   0.001  0.003   0.245  0.026  0.034   \n",
              "\n",
              "           Ġis    Ġso   Ġfun      !  \n",
              "My       0.000  0.000  0.000  0.000  \n",
              "Ġfriend  0.000  0.000  0.000  0.000  \n",
              "Ġwas     0.000  0.000  0.000  0.000  \n",
              "Ġright   0.000  0.000  0.000  0.000  \n",
              "Ġabout   0.000  0.000  0.000  0.000  \n",
              "Ġthis    0.000  0.000  0.000  0.000  \n",
              "Ġclass   0.000  0.000  0.000  0.000  \n",
              ".        0.000  0.000  0.000  0.000  \n",
              "ĠIt      0.000  0.000  0.000  0.000  \n",
              "Ġis      0.030  0.000  0.000  0.000  \n",
              "Ġso      0.041  0.003  0.000  0.000  \n",
              "Ġfun     0.014  0.003  0.047  0.000  \n",
              "!        0.012  0.007  0.046  0.089  "
            ],
            "text/html": [
              "\n",
              "  <div id=\"df-1cfbe0e4-d94a-4197-b84e-f7d4864b77e7\" class=\"colab-df-container\">\n",
              "    <div>\n",
              "<style scoped>\n",
              "    .dataframe tbody tr th:only-of-type {\n",
              "        vertical-align: middle;\n",
              "    }\n",
              "\n",
              "    .dataframe tbody tr th {\n",
              "        vertical-align: top;\n",
              "    }\n",
              "\n",
              "    .dataframe thead th {\n",
              "        text-align: right;\n",
              "    }\n",
              "</style>\n",
              "<table border=\"1\" class=\"dataframe\">\n",
              "  <thead>\n",
              "    <tr style=\"text-align: right;\">\n",
              "      <th></th>\n",
              "      <th>My</th>\n",
              "      <th>Ġfriend</th>\n",
              "      <th>Ġwas</th>\n",
              "      <th>Ġright</th>\n",
              "      <th>Ġabout</th>\n",
              "      <th>Ġthis</th>\n",
              "      <th>Ġclass</th>\n",
              "      <th>.</th>\n",
              "      <th>ĠIt</th>\n",
              "      <th>Ġis</th>\n",
              "      <th>Ġso</th>\n",
              "      <th>Ġfun</th>\n",
              "      <th>!</th>\n",
              "    </tr>\n",
              "  </thead>\n",
              "  <tbody>\n",
              "    <tr>\n",
              "      <th>My</th>\n",
              "      <td>1.000</td>\n",
              "      <td>0.000</td>\n",
              "      <td>0.000</td>\n",
              "      <td>0.000</td>\n",
              "      <td>0.000</td>\n",
              "      <td>0.000</td>\n",
              "      <td>0.000</td>\n",
              "      <td>0.000</td>\n",
              "      <td>0.000</td>\n",
              "      <td>0.000</td>\n",
              "      <td>0.000</td>\n",
              "      <td>0.000</td>\n",
              "      <td>0.000</td>\n",
              "    </tr>\n",
              "    <tr>\n",
              "      <th>Ġfriend</th>\n",
              "      <td>0.968</td>\n",
              "      <td>0.032</td>\n",
              "      <td>0.000</td>\n",
              "      <td>0.000</td>\n",
              "      <td>0.000</td>\n",
              "      <td>0.000</td>\n",
              "      <td>0.000</td>\n",
              "      <td>0.000</td>\n",
              "      <td>0.000</td>\n",
              "      <td>0.000</td>\n",
              "      <td>0.000</td>\n",
              "      <td>0.000</td>\n",
              "      <td>0.000</td>\n",
              "    </tr>\n",
              "    <tr>\n",
              "      <th>Ġwas</th>\n",
              "      <td>0.824</td>\n",
              "      <td>0.145</td>\n",
              "      <td>0.031</td>\n",
              "      <td>0.000</td>\n",
              "      <td>0.000</td>\n",
              "      <td>0.000</td>\n",
              "      <td>0.000</td>\n",
              "      <td>0.000</td>\n",
              "      <td>0.000</td>\n",
              "      <td>0.000</td>\n",
              "      <td>0.000</td>\n",
              "      <td>0.000</td>\n",
              "      <td>0.000</td>\n",
              "    </tr>\n",
              "    <tr>\n",
              "      <th>Ġright</th>\n",
              "      <td>0.979</td>\n",
              "      <td>0.008</td>\n",
              "      <td>0.007</td>\n",
              "      <td>0.005</td>\n",
              "      <td>0.000</td>\n",
              "      <td>0.000</td>\n",
              "      <td>0.000</td>\n",
              "      <td>0.000</td>\n",
              "      <td>0.000</td>\n",
              "      <td>0.000</td>\n",
              "      <td>0.000</td>\n",
              "      <td>0.000</td>\n",
              "      <td>0.000</td>\n",
              "    </tr>\n",
              "    <tr>\n",
              "      <th>Ġabout</th>\n",
              "      <td>0.979</td>\n",
              "      <td>0.008</td>\n",
              "      <td>0.004</td>\n",
              "      <td>0.005</td>\n",
              "      <td>0.005</td>\n",
              "      <td>0.000</td>\n",
              "      <td>0.000</td>\n",
              "      <td>0.000</td>\n",
              "      <td>0.000</td>\n",
              "      <td>0.000</td>\n",
              "      <td>0.000</td>\n",
              "      <td>0.000</td>\n",
              "      <td>0.000</td>\n",
              "    </tr>\n",
              "    <tr>\n",
              "      <th>Ġthis</th>\n",
              "      <td>0.924</td>\n",
              "      <td>0.031</td>\n",
              "      <td>0.007</td>\n",
              "      <td>0.006</td>\n",
              "      <td>0.016</td>\n",
              "      <td>0.016</td>\n",
              "      <td>0.000</td>\n",
              "      <td>0.000</td>\n",
              "      <td>0.000</td>\n",
              "      <td>0.000</td>\n",
              "      <td>0.000</td>\n",
              "      <td>0.000</td>\n",
              "      <td>0.000</td>\n",
              "    </tr>\n",
              "    <tr>\n",
              "      <th>Ġclass</th>\n",
              "      <td>0.946</td>\n",
              "      <td>0.005</td>\n",
              "      <td>0.001</td>\n",
              "      <td>0.001</td>\n",
              "      <td>0.001</td>\n",
              "      <td>0.002</td>\n",
              "      <td>0.044</td>\n",
              "      <td>0.000</td>\n",
              "      <td>0.000</td>\n",
              "      <td>0.000</td>\n",
              "      <td>0.000</td>\n",
              "      <td>0.000</td>\n",
              "      <td>0.000</td>\n",
              "    </tr>\n",
              "    <tr>\n",
              "      <th>.</th>\n",
              "      <td>0.691</td>\n",
              "      <td>0.013</td>\n",
              "      <td>0.003</td>\n",
              "      <td>0.003</td>\n",
              "      <td>0.002</td>\n",
              "      <td>0.006</td>\n",
              "      <td>0.269</td>\n",
              "      <td>0.013</td>\n",
              "      <td>0.000</td>\n",
              "      <td>0.000</td>\n",
              "      <td>0.000</td>\n",
              "      <td>0.000</td>\n",
              "      <td>0.000</td>\n",
              "    </tr>\n",
              "    <tr>\n",
              "      <th>ĠIt</th>\n",
              "      <td>0.318</td>\n",
              "      <td>0.003</td>\n",
              "      <td>0.003</td>\n",
              "      <td>0.003</td>\n",
              "      <td>0.006</td>\n",
              "      <td>0.018</td>\n",
              "      <td>0.599</td>\n",
              "      <td>0.018</td>\n",
              "      <td>0.032</td>\n",
              "      <td>0.000</td>\n",
              "      <td>0.000</td>\n",
              "      <td>0.000</td>\n",
              "      <td>0.000</td>\n",
              "    </tr>\n",
              "    <tr>\n",
              "      <th>Ġis</th>\n",
              "      <td>0.331</td>\n",
              "      <td>0.006</td>\n",
              "      <td>0.002</td>\n",
              "      <td>0.002</td>\n",
              "      <td>0.003</td>\n",
              "      <td>0.018</td>\n",
              "      <td>0.533</td>\n",
              "      <td>0.013</td>\n",
              "      <td>0.062</td>\n",
              "      <td>0.030</td>\n",
              "      <td>0.000</td>\n",
              "      <td>0.000</td>\n",
              "      <td>0.000</td>\n",
              "    </tr>\n",
              "    <tr>\n",
              "      <th>Ġso</th>\n",
              "      <td>0.141</td>\n",
              "      <td>0.010</td>\n",
              "      <td>0.005</td>\n",
              "      <td>0.004</td>\n",
              "      <td>0.004</td>\n",
              "      <td>0.026</td>\n",
              "      <td>0.645</td>\n",
              "      <td>0.023</td>\n",
              "      <td>0.096</td>\n",
              "      <td>0.041</td>\n",
              "      <td>0.003</td>\n",
              "      <td>0.000</td>\n",
              "      <td>0.000</td>\n",
              "    </tr>\n",
              "    <tr>\n",
              "      <th>Ġfun</th>\n",
              "      <td>0.532</td>\n",
              "      <td>0.015</td>\n",
              "      <td>0.003</td>\n",
              "      <td>0.002</td>\n",
              "      <td>0.001</td>\n",
              "      <td>0.002</td>\n",
              "      <td>0.317</td>\n",
              "      <td>0.029</td>\n",
              "      <td>0.035</td>\n",
              "      <td>0.014</td>\n",
              "      <td>0.003</td>\n",
              "      <td>0.047</td>\n",
              "      <td>0.000</td>\n",
              "    </tr>\n",
              "    <tr>\n",
              "      <th>!</th>\n",
              "      <td>0.527</td>\n",
              "      <td>0.008</td>\n",
              "      <td>0.003</td>\n",
              "      <td>0.001</td>\n",
              "      <td>0.001</td>\n",
              "      <td>0.003</td>\n",
              "      <td>0.245</td>\n",
              "      <td>0.026</td>\n",
              "      <td>0.034</td>\n",
              "      <td>0.012</td>\n",
              "      <td>0.007</td>\n",
              "      <td>0.046</td>\n",
              "      <td>0.089</td>\n",
              "    </tr>\n",
              "  </tbody>\n",
              "</table>\n",
              "</div>\n",
              "    <div class=\"colab-df-buttons\">\n",
              "\n",
              "  <div class=\"colab-df-container\">\n",
              "    <button class=\"colab-df-convert\" onclick=\"convertToInteractive('df-1cfbe0e4-d94a-4197-b84e-f7d4864b77e7')\"\n",
              "            title=\"Convert this dataframe to an interactive table.\"\n",
              "            style=\"display:none;\">\n",
              "\n",
              "  <svg xmlns=\"http://www.w3.org/2000/svg\" height=\"24px\" viewBox=\"0 -960 960 960\">\n",
              "    <path d=\"M120-120v-720h720v720H120Zm60-500h600v-160H180v160Zm220 220h160v-160H400v160Zm0 220h160v-160H400v160ZM180-400h160v-160H180v160Zm440 0h160v-160H620v160ZM180-180h160v-160H180v160Zm440 0h160v-160H620v160Z\"/>\n",
              "  </svg>\n",
              "    </button>\n",
              "\n",
              "  <style>\n",
              "    .colab-df-container {\n",
              "      display:flex;\n",
              "      gap: 12px;\n",
              "    }\n",
              "\n",
              "    .colab-df-convert {\n",
              "      background-color: #E8F0FE;\n",
              "      border: none;\n",
              "      border-radius: 50%;\n",
              "      cursor: pointer;\n",
              "      display: none;\n",
              "      fill: #1967D2;\n",
              "      height: 32px;\n",
              "      padding: 0 0 0 0;\n",
              "      width: 32px;\n",
              "    }\n",
              "\n",
              "    .colab-df-convert:hover {\n",
              "      background-color: #E2EBFA;\n",
              "      box-shadow: 0px 1px 2px rgba(60, 64, 67, 0.3), 0px 1px 3px 1px rgba(60, 64, 67, 0.15);\n",
              "      fill: #174EA6;\n",
              "    }\n",
              "\n",
              "    .colab-df-buttons div {\n",
              "      margin-bottom: 4px;\n",
              "    }\n",
              "\n",
              "    [theme=dark] .colab-df-convert {\n",
              "      background-color: #3B4455;\n",
              "      fill: #D2E3FC;\n",
              "    }\n",
              "\n",
              "    [theme=dark] .colab-df-convert:hover {\n",
              "      background-color: #434B5C;\n",
              "      box-shadow: 0px 1px 3px 1px rgba(0, 0, 0, 0.15);\n",
              "      filter: drop-shadow(0px 1px 2px rgba(0, 0, 0, 0.3));\n",
              "      fill: #FFFFFF;\n",
              "    }\n",
              "  </style>\n",
              "\n",
              "    <script>\n",
              "      const buttonEl =\n",
              "        document.querySelector('#df-1cfbe0e4-d94a-4197-b84e-f7d4864b77e7 button.colab-df-convert');\n",
              "      buttonEl.style.display =\n",
              "        google.colab.kernel.accessAllowed ? 'block' : 'none';\n",
              "\n",
              "      async function convertToInteractive(key) {\n",
              "        const element = document.querySelector('#df-1cfbe0e4-d94a-4197-b84e-f7d4864b77e7');\n",
              "        const dataTable =\n",
              "          await google.colab.kernel.invokeFunction('convertToInteractive',\n",
              "                                                    [key], {});\n",
              "        if (!dataTable) return;\n",
              "\n",
              "        const docLinkHtml = 'Like what you see? Visit the ' +\n",
              "          '<a target=\"_blank\" href=https://colab.research.google.com/notebooks/data_table.ipynb>data table notebook</a>'\n",
              "          + ' to learn more about interactive tables.';\n",
              "        element.innerHTML = '';\n",
              "        dataTable['output_type'] = 'display_data';\n",
              "        await google.colab.output.renderOutput(dataTable, element);\n",
              "        const docLink = document.createElement('div');\n",
              "        docLink.innerHTML = docLinkHtml;\n",
              "        element.appendChild(docLink);\n",
              "      }\n",
              "    </script>\n",
              "  </div>\n",
              "\n",
              "\n",
              "<div id=\"df-930e5562-85fa-4892-89a8-79e9c7ebe83b\">\n",
              "  <button class=\"colab-df-quickchart\" onclick=\"quickchart('df-930e5562-85fa-4892-89a8-79e9c7ebe83b')\"\n",
              "            title=\"Suggest charts\"\n",
              "            style=\"display:none;\">\n",
              "\n",
              "<svg xmlns=\"http://www.w3.org/2000/svg\" height=\"24px\"viewBox=\"0 0 24 24\"\n",
              "     width=\"24px\">\n",
              "    <g>\n",
              "        <path d=\"M19 3H5c-1.1 0-2 .9-2 2v14c0 1.1.9 2 2 2h14c1.1 0 2-.9 2-2V5c0-1.1-.9-2-2-2zM9 17H7v-7h2v7zm4 0h-2V7h2v10zm4 0h-2v-4h2v4z\"/>\n",
              "    </g>\n",
              "</svg>\n",
              "  </button>\n",
              "\n",
              "<style>\n",
              "  .colab-df-quickchart {\n",
              "      --bg-color: #E8F0FE;\n",
              "      --fill-color: #1967D2;\n",
              "      --hover-bg-color: #E2EBFA;\n",
              "      --hover-fill-color: #174EA6;\n",
              "      --disabled-fill-color: #AAA;\n",
              "      --disabled-bg-color: #DDD;\n",
              "  }\n",
              "\n",
              "  [theme=dark] .colab-df-quickchart {\n",
              "      --bg-color: #3B4455;\n",
              "      --fill-color: #D2E3FC;\n",
              "      --hover-bg-color: #434B5C;\n",
              "      --hover-fill-color: #FFFFFF;\n",
              "      --disabled-bg-color: #3B4455;\n",
              "      --disabled-fill-color: #666;\n",
              "  }\n",
              "\n",
              "  .colab-df-quickchart {\n",
              "    background-color: var(--bg-color);\n",
              "    border: none;\n",
              "    border-radius: 50%;\n",
              "    cursor: pointer;\n",
              "    display: none;\n",
              "    fill: var(--fill-color);\n",
              "    height: 32px;\n",
              "    padding: 0;\n",
              "    width: 32px;\n",
              "  }\n",
              "\n",
              "  .colab-df-quickchart:hover {\n",
              "    background-color: var(--hover-bg-color);\n",
              "    box-shadow: 0 1px 2px rgba(60, 64, 67, 0.3), 0 1px 3px 1px rgba(60, 64, 67, 0.15);\n",
              "    fill: var(--button-hover-fill-color);\n",
              "  }\n",
              "\n",
              "  .colab-df-quickchart-complete:disabled,\n",
              "  .colab-df-quickchart-complete:disabled:hover {\n",
              "    background-color: var(--disabled-bg-color);\n",
              "    fill: var(--disabled-fill-color);\n",
              "    box-shadow: none;\n",
              "  }\n",
              "\n",
              "  .colab-df-spinner {\n",
              "    border: 2px solid var(--fill-color);\n",
              "    border-color: transparent;\n",
              "    border-bottom-color: var(--fill-color);\n",
              "    animation:\n",
              "      spin 1s steps(1) infinite;\n",
              "  }\n",
              "\n",
              "  @keyframes spin {\n",
              "    0% {\n",
              "      border-color: transparent;\n",
              "      border-bottom-color: var(--fill-color);\n",
              "      border-left-color: var(--fill-color);\n",
              "    }\n",
              "    20% {\n",
              "      border-color: transparent;\n",
              "      border-left-color: var(--fill-color);\n",
              "      border-top-color: var(--fill-color);\n",
              "    }\n",
              "    30% {\n",
              "      border-color: transparent;\n",
              "      border-left-color: var(--fill-color);\n",
              "      border-top-color: var(--fill-color);\n",
              "      border-right-color: var(--fill-color);\n",
              "    }\n",
              "    40% {\n",
              "      border-color: transparent;\n",
              "      border-right-color: var(--fill-color);\n",
              "      border-top-color: var(--fill-color);\n",
              "    }\n",
              "    60% {\n",
              "      border-color: transparent;\n",
              "      border-right-color: var(--fill-color);\n",
              "    }\n",
              "    80% {\n",
              "      border-color: transparent;\n",
              "      border-right-color: var(--fill-color);\n",
              "      border-bottom-color: var(--fill-color);\n",
              "    }\n",
              "    90% {\n",
              "      border-color: transparent;\n",
              "      border-bottom-color: var(--fill-color);\n",
              "    }\n",
              "  }\n",
              "</style>\n",
              "\n",
              "  <script>\n",
              "    async function quickchart(key) {\n",
              "      const quickchartButtonEl =\n",
              "        document.querySelector('#' + key + ' button');\n",
              "      quickchartButtonEl.disabled = true;  // To prevent multiple clicks.\n",
              "      quickchartButtonEl.classList.add('colab-df-spinner');\n",
              "      try {\n",
              "        const charts = await google.colab.kernel.invokeFunction(\n",
              "            'suggestCharts', [key], {});\n",
              "      } catch (error) {\n",
              "        console.error('Error during call to suggestCharts:', error);\n",
              "      }\n",
              "      quickchartButtonEl.classList.remove('colab-df-spinner');\n",
              "      quickchartButtonEl.classList.add('colab-df-quickchart-complete');\n",
              "    }\n",
              "    (() => {\n",
              "      let quickchartButtonEl =\n",
              "        document.querySelector('#df-930e5562-85fa-4892-89a8-79e9c7ebe83b button');\n",
              "      quickchartButtonEl.style.display =\n",
              "        google.colab.kernel.accessAllowed ? 'block' : 'none';\n",
              "    })();\n",
              "  </script>\n",
              "</div>\n",
              "    </div>\n",
              "  </div>\n"
            ]
          },
          "metadata": {},
          "execution_count": 34
        }
      ],
      "source": [
        "### Layer index 9, head 0. Check out the almost 60% attention the token it is giving to the token class\n",
        "arr = response.attentions[9][0][0]\n",
        "\n",
        "n_digits = 3\n",
        "\n",
        "attention_df = pd.DataFrame((torch.round(arr * 10**n_digits) / (10**n_digits)).detach()).applymap(float)\n",
        "\n",
        "attention_df.columns = tokens\n",
        "attention_df.index = tokens\n",
        "\n",
        "attention_df\n"
      ]
    },
    {
      "cell_type": "code",
      "execution_count": null,
      "id": "c9cc57a5",
      "metadata": {
        "scrolled": false,
        "colab": {
          "base_uri": "https://localhost:8080/",
          "height": 1000
        },
        "id": "c9cc57a5",
        "outputId": "4b7eebaa-62ab-48d4-a0ba-6517e2430276"
      },
      "outputs": [
        {
          "output_type": "display_data",
          "data": {
            "text/plain": [
              "<IPython.core.display.HTML object>"
            ],
            "text/html": [
              "<script src=\"https://cdnjs.cloudflare.com/ajax/libs/require.js/2.3.6/require.min.js\"></script>"
            ]
          },
          "metadata": {}
        },
        {
          "output_type": "display_data",
          "data": {
            "text/plain": [
              "<IPython.core.display.HTML object>"
            ],
            "text/html": [
              "      \n",
              "        <div id=\"bertviz-e03eb1f01ea246b6bb38607ababf177c\" style=\"font-family:'Helvetica Neue', Helvetica, Arial, sans-serif;\">\n",
              "            <span style=\"user-select:none\">\n",
              "                \n",
              "            </span>\n",
              "            <div id='vis'></div>\n",
              "        </div>\n",
              "    "
            ]
          },
          "metadata": {}
        },
        {
          "output_type": "display_data",
          "data": {
            "text/plain": [
              "<IPython.core.display.Javascript object>"
            ],
            "application/javascript": [
              "/**\n",
              " * @fileoverview Transformer Visualization D3 javascript code.\n",
              " *\n",
              " * Based on: https://github.com/tensorflow/tensor2tensor/blob/master/tensor2tensor/visualization/attention.js\n",
              " *\n",
              " * Change log:\n",
              " *\n",
              " * 02/01/19  Jesse Vig   Initial implementation\n",
              " * 12/31/20  Jesse Vig   Support multiple visualizations in single notebook.\n",
              " * 01/19/21  Jesse Vig   Support light/dark modes\n",
              " * 02/06/21  Jesse Vig   Move require config from separate jupyter notebook step\n",
              " * 05/03/21  Jesse Vig   Adjust visualization height dynamically\n",
              " * 03/23/22  Daniel SC   Update requirement URLs for d3 and jQuery (source of bug not allowing end result to be displayed on browsers)\n",
              " **/\n",
              "\n",
              "require.config({\n",
              "  paths: {\n",
              "      d3: 'https://cdnjs.cloudflare.com/ajax/libs/d3/5.7.0/d3.min',\n",
              "    jquery: 'https://cdnjs.cloudflare.com/ajax/libs/jquery/2.0.0/jquery.min',\n",
              "  }\n",
              "});\n",
              "\n",
              "requirejs(['jquery', 'd3'], function($, d3) {\n",
              "\n",
              "        const params = {\"attention\": [{\"name\": null, \"attn\": [[[[1.0, 0.0, 0.0, 0.0, 0.0, 0.0, 0.0, 0.0, 0.0, 0.0, 0.0, 0.0, 0.0], [0.9192317128181458, 0.08076824247837067, 0.0, 0.0, 0.0, 0.0, 0.0, 0.0, 0.0, 0.0, 0.0, 0.0, 0.0], [0.6462416648864746, 0.07439830899238586, 0.27935996651649475, 0.0, 0.0, 0.0, 0.0, 0.0, 0.0, 0.0, 0.0, 0.0, 0.0], [0.5847378969192505, 0.16063934564590454, 0.16442139446735382, 0.09020128101110458, 0.0, 0.0, 0.0, 0.0, 0.0, 0.0, 0.0, 0.0, 0.0], [0.5515730977058411, 0.14613068103790283, 0.17827166616916656, 0.08112452179193497, 0.042900048196315765, 0.0, 0.0, 0.0, 0.0, 0.0, 0.0, 0.0, 0.0], [0.5408419370651245, 0.09085910767316818, 0.09172691404819489, 0.10820914059877396, 0.0869697779417038, 0.08139307051897049, 0.0, 0.0, 0.0, 0.0, 0.0, 0.0, 0.0], [0.6023319363594055, 0.18704698979854584, 0.04078639671206474, 0.012910272926092148, 0.03943677246570587, 0.041873637586832047, 0.0756140798330307, 0.0, 0.0, 0.0, 0.0, 0.0, 0.0], [0.5482223629951477, 0.06494056433439255, 0.07808574289083481, 0.0800924226641655, 0.04282568395137787, 0.12744271755218506, 0.04046075418591499, 0.017929688096046448, 0.0, 0.0, 0.0, 0.0, 0.0], [0.37250590324401855, 0.07200773805379868, 0.10083417594432831, 0.06617096066474915, 0.042125996202230453, 0.08429348468780518, 0.03335130587220192, 0.030562490224838257, 0.1981479376554489, 0.0, 0.0, 0.0, 0.0], [0.37738725543022156, 0.08509457111358643, 0.03431648761034012, 0.0379466712474823, 0.043981049209833145, 0.08223135024309158, 0.05079563334584236, 0.027251310646533966, 0.21691255271434784, 0.04408302903175354, 0.0, 0.0, 0.0], [0.24018050730228424, 0.035743363201618195, 0.07748826593160629, 0.06844621896743774, 0.05233308672904968, 0.10664581507444382, 0.0366038978099823, 0.038711078464984894, 0.20272555947303772, 0.07843965291976929, 0.06268245726823807, 0.0, 0.0], [0.25269290804862976, 0.10725729912519455, 0.05430856719613075, 0.03766462951898575, 0.05579134449362755, 0.057182203978300095, 0.14554527401924133, 0.05298460274934769, 0.05872232839465141, 0.037615180015563965, 0.05317382887005806, 0.087061807513237, 0.0], [0.22387158870697021, 0.022973380982875824, 0.047881629317998886, 0.03403889015316963, 0.02988368645310402, 0.035925377160310745, 0.034377411007881165, 0.019989529624581337, 0.17412224411964417, 0.03626168891787529, 0.09909328073263168, 0.19531004130840302, 0.04627130925655365]], [[1.0, 0.0, 0.0, 0.0, 0.0, 0.0, 0.0, 0.0, 0.0, 0.0, 0.0, 0.0, 0.0], [0.0006835538079030812, 0.9993164539337158, 0.0, 0.0, 0.0, 0.0, 0.0, 0.0, 0.0, 0.0, 0.0, 0.0, 0.0], [0.004406120162457228, 0.001113696489483118, 0.9944802522659302, 0.0, 0.0, 0.0, 0.0, 0.0, 0.0, 0.0, 0.0, 0.0, 0.0], [0.0005491290939971805, 0.003991870675235987, 0.00036179154994897544, 0.9950972199440002, 0.0, 0.0, 0.0, 0.0, 0.0, 0.0, 0.0, 0.0, 0.0], [0.0016709184274077415, 0.0018844582373276353, 0.0009512438555248082, 0.005675282329320908, 0.9898180365562439, 0.0, 0.0, 0.0, 0.0, 0.0, 0.0, 0.0, 0.0], [0.008862796239554882, 0.0006625841488130391, 0.000815964478533715, 0.0009499016450718045, 0.006859044078737497, 0.9818496108055115, 0.0, 0.0, 0.0, 0.0, 0.0, 0.0, 0.0], [0.0006719076773151755, 0.0039893584325909615, 0.0003007437044288963, 0.0007013169815763831, 0.00015888424240984023, 9.798615064937621e-05, 0.9940798282623291, 0.0, 0.0, 0.0, 0.0, 0.0, 0.0], [0.007344133220613003, 0.0008701576152816415, 0.00042006303556263447, 0.0033163840416818857, 0.005140656605362892, 0.00030025088926777244, 0.00024084503820631653, 0.9823676347732544, 0.0, 0.0, 0.0, 0.0, 0.0], [0.0025720400735735893, 0.00012948796211276203, 0.0013174936175346375, 7.674827065784484e-05, 0.0004787359794136137, 0.006487371399998665, 4.895638267043978e-05, 9.578742174198851e-05, 0.9887934327125549, 0.0, 0.0, 0.0, 0.0], [0.002520964713767171, 0.0002089055342366919, 0.058991122990846634, 0.0010442702332511544, 0.0007963083335198462, 0.001498286728747189, 7.480941712856293e-05, 0.00022761740547139198, 0.002615547738969326, 0.932022213935852, 0.0, 0.0, 0.0], [0.002452918328344822, 0.000478274654597044, 0.0008125091553665698, 0.0028062299825251102, 0.004717669915407896, 0.0021159963216632605, 1.5374891518149525e-05, 0.0006300333188846707, 0.0033543503377586603, 0.00012439223064575344, 0.9824923276901245, 0.0, 0.0], [0.001610711682587862, 0.006195467431098223, 2.1111838577780873e-05, 0.00013791443780064583, 0.00044799974421039224, 0.00034541255445219576, 0.0004810015670955181, 7.620910309924511e-06, 0.00036575537524186075, 1.0739593562902883e-05, 0.00023045694979373366, 0.990145742893219, 0.0], [0.0033986757043749094, 0.00149856461212039, 5.125204916112125e-05, 0.0014274590648710728, 0.0008818744099698961, 0.000311060604872182, 4.577427898766473e-05, 0.0024729829747229815, 0.00010089216084452346, 4.0573875594418496e-05, 0.0003254488401580602, 0.0015174023574218154, 0.9879280924797058]], [[1.0, 0.0, 0.0, 0.0, 0.0, 0.0, 0.0, 0.0, 0.0, 0.0, 0.0, 0.0, 0.0], [0.9285915493965149, 0.0714084655046463, 0.0, 0.0, 0.0, 0.0, 0.0, 0.0, 0.0, 0.0, 0.0, 0.0, 0.0], [0.7185942530632019, 0.1109669953584671, 0.1704387366771698, 0.0, 0.0, 0.0, 0.0, 0.0, 0.0, 0.0, 0.0, 0.0, 0.0], [0.5904827117919922, 0.21560218930244446, 0.12870056927204132, 0.06521458923816681, 0.0, 0.0, 0.0, 0.0, 0.0, 0.0, 0.0, 0.0, 0.0], [0.41879090666770935, 0.14453110098838806, 0.16047783195972443, 0.1694611757993698, 0.10673905909061432, 0.0, 0.0, 0.0, 0.0, 0.0, 0.0, 0.0, 0.0], [0.2990409731864929, 0.07560186833143234, 0.2509266436100006, 0.1497063785791397, 0.16373179852962494, 0.06099225580692291, 0.0, 0.0, 0.0, 0.0, 0.0, 0.0, 0.0], [0.29262036085128784, 0.16910596191883087, 0.09150024503469467, 0.10911465436220169, 0.11446233093738556, 0.0822286382317543, 0.1409677118062973, 0.0, 0.0, 0.0, 0.0, 0.0, 0.0], [0.41832780838012695, 0.04281560704112053, 0.24485880136489868, 0.056492745876312256, 0.06875584274530411, 0.03874468803405762, 0.06930066645145416, 0.06070386618375778, 0.0, 0.0, 0.0, 0.0, 0.0], [0.24598468840122223, 0.06578996777534485, 0.17667290568351746, 0.0685090720653534, 0.07490672171115875, 0.04718780517578125, 0.06876763701438904, 0.16713599860668182, 0.085045225918293, 0.0, 0.0, 0.0, 0.0], [0.20208655297756195, 0.05363428220152855, 0.11877264082431793, 0.0939711481332779, 0.1058344766497612, 0.038884930312633514, 0.06894969195127487, 0.13778507709503174, 0.07498855888843536, 0.10509263724088669, 0.0, 0.0, 0.0], [0.15861861407756805, 0.09109899401664734, 0.0930773913860321, 0.0843605175614357, 0.0715179294347763, 0.03383173421025276, 0.037012018263339996, 0.2268013209104538, 0.07786300033330917, 0.08070072531700134, 0.04511772096157074, 0.0, 0.0], [0.17270568013191223, 0.10767164081335068, 0.09034450352191925, 0.08135788887739182, 0.06946372985839844, 0.0674731656908989, 0.06351780891418457, 0.07015247642993927, 0.07545661181211472, 0.06534744054079056, 0.062226515263319016, 0.07428252696990967, 0.0], [0.17371320724487305, 0.029942981898784637, 0.14664064347743988, 0.04060734808444977, 0.054372746497392654, 0.028821654617786407, 0.02947581186890602, 0.07844532281160355, 0.09742525219917297, 0.12424331903457642, 0.03623113036155701, 0.09187794476747513, 0.06820254772901535]], [[1.0, 0.0, 0.0, 0.0, 0.0, 0.0, 0.0, 0.0, 0.0, 0.0, 0.0, 0.0, 0.0], [0.05478470399975777, 0.9452152848243713, 0.0, 0.0, 0.0, 0.0, 0.0, 0.0, 0.0, 0.0, 0.0, 0.0, 0.0], [0.09314179420471191, 0.03601440042257309, 0.8708438277244568, 0.0, 0.0, 0.0, 0.0, 0.0, 0.0, 0.0, 0.0, 0.0, 0.0], [0.003185652196407318, 0.0008061572443693876, 0.002480102702975273, 0.9935280680656433, 0.0, 0.0, 0.0, 0.0, 0.0, 0.0, 0.0, 0.0, 0.0], [0.01570436730980873, 0.015220708213746548, 0.05562765151262283, 0.044353555887937546, 0.8690937161445618, 0.0, 0.0, 0.0, 0.0, 0.0, 0.0, 0.0, 0.0], [0.01293177716434002, 0.0011189369251951575, 0.014474314637482166, 0.007417445536702871, 0.050520624965429306, 0.9135368466377258, 0.0, 0.0, 0.0, 0.0, 0.0, 0.0, 0.0], [0.006658139638602734, 0.003233583876863122, 0.0007827153895050287, 0.026604654267430305, 0.0012479709694162011, 0.001784166437573731, 0.9596887826919556, 0.0, 0.0, 0.0, 0.0, 0.0, 0.0], [0.030939379706978798, 0.005881039891391993, 0.040680356323719025, 0.044120099395513535, 0.056627966463565826, 0.1797986626625061, 0.18980398774147034, 0.4521484971046448, 0.0, 0.0, 0.0, 0.0, 0.0], [0.0026474292390048504, 5.9069847338832915e-05, 0.0006139788893051445, 0.0001614036737009883, 0.0009130399557761848, 0.0057654911652207375, 0.0002651164832059294, 0.00643867626786232, 0.9831357598304749, 0.0, 0.0, 0.0, 0.0], [0.006151306908577681, 0.00014237695722840726, 0.00319349835626781, 0.0008010920137166977, 0.0038084741681814194, 0.0168614462018013, 0.0074491859413683414, 0.0260538961738348, 0.182861790060997, 0.7526769638061523, 0.0, 0.0, 0.0], [0.003037054557353258, 4.639526378014125e-05, 0.00024200801271945238, 0.001423604553565383, 0.001341140829026699, 0.004180805757641792, 0.000995625276118517, 0.004725610837340355, 0.04307873547077179, 0.028323234990239143, 0.9126057028770447, 0.0, 0.0], [0.0007748515345156193, 9.078736911760643e-05, 7.353408363997005e-06, 1.8406950403004885e-05, 9.97156894300133e-06, 4.2311588913435116e-05, 0.00011517792154336348, 2.9663247914868407e-05, 0.0003724870621226728, 0.0004407612723298371, 0.0006829245248809457, 0.99741530418396, 0.0], [0.0015846947208046913, 0.00022272946080192924, 0.00027969080838374794, 0.00010163753177039325, 0.0003197837504558265, 0.001411427860148251, 0.0009588779066689312, 0.0027241164352744818, 0.0123402439057827, 0.02908083237707615, 0.03586979955434799, 0.08133256435394287, 0.8337736129760742]], [[1.0, 0.0, 0.0, 0.0, 0.0, 0.0, 0.0, 0.0, 0.0, 0.0, 0.0, 0.0, 0.0], [0.4936395585536957, 0.5063604116439819, 0.0, 0.0, 0.0, 0.0, 0.0, 0.0, 0.0, 0.0, 0.0, 0.0, 0.0], [0.5837891101837158, 0.26893702149391174, 0.14727382361888885, 0.0, 0.0, 0.0, 0.0, 0.0, 0.0, 0.0, 0.0, 0.0, 0.0], [0.474903404712677, 0.08048853278160095, 0.1013088971376419, 0.34329915046691895, 0.0, 0.0, 0.0, 0.0, 0.0, 0.0, 0.0, 0.0, 0.0], [0.198075532913208, 0.2662971317768097, 0.16310884058475494, 0.22267289459705353, 0.1498456448316574, 0.0, 0.0, 0.0, 0.0, 0.0, 0.0, 0.0, 0.0], [0.21126584708690643, 0.06400188058614731, 0.1269991397857666, 0.13073427975177765, 0.15605732798576355, 0.3109414577484131, 0.0, 0.0, 0.0, 0.0, 0.0, 0.0, 0.0], [0.11964257061481476, 0.08619672805070877, 0.011964616365730762, 0.12534315884113312, 0.019233496859669685, 0.03433496132493019, 0.603284478187561, 0.0, 0.0, 0.0, 0.0, 0.0, 0.0], [0.09122147411108017, 0.05746615305542946, 0.06618606299161911, 0.06380953639745712, 0.09002099186182022, 0.13527531921863556, 0.11499468237161636, 0.3810257613658905, 0.0, 0.0, 0.0, 0.0, 0.0], [0.06434570997953415, 0.013903125189244747, 0.05955347791314125, 0.02456541731953621, 0.043871983885765076, 0.09135258197784424, 0.03388262912631035, 0.09515140950679779, 0.5733736753463745, 0.0, 0.0, 0.0, 0.0], [0.0701262503862381, 0.014956573024392128, 0.03523502126336098, 0.050182685256004333, 0.035908475518226624, 0.05033557116985321, 0.06830929219722748, 0.04857452213764191, 0.27201536297798157, 0.3543562889099121, 0.0, 0.0, 0.0], [0.03091854602098465, 0.01308987196534872, 0.03215868026018143, 0.015837769955396652, 0.025447193533182144, 0.03196779638528824, 0.011405328288674355, 0.024585342034697533, 0.16089275479316711, 0.31309038400650024, 0.34060633182525635, 0.0, 0.0], [0.01769671030342579, 0.002728857100009918, 0.002411728957667947, 0.002799410605803132, 0.002455604961141944, 0.004491532687097788, 0.004037965554744005, 0.0031766179017722607, 0.014994866214692593, 0.009803852066397667, 0.012650755234062672, 0.9227521419525146, 0.0], [0.02193918451666832, 0.011658964678645134, 0.0112532339990139, 0.013615741394460201, 0.013708913698792458, 0.0409054271876812, 0.004448238760232925, 0.03733619302511215, 0.05891421437263489, 0.059011150151491165, 0.08079613000154495, 0.3361625373363495, 0.3102499842643738]], [[1.0, 0.0, 0.0, 0.0, 0.0, 0.0, 0.0, 0.0, 0.0, 0.0, 0.0, 0.0, 0.0], [0.033425234258174896, 0.9665747880935669, 0.0, 0.0, 0.0, 0.0, 0.0, 0.0, 0.0, 0.0, 0.0, 0.0, 0.0], [0.09495166689157486, 0.0005274380091577768, 0.9045208692550659, 0.0, 0.0, 0.0, 0.0, 0.0, 0.0, 0.0, 0.0, 0.0, 0.0], [0.041869957000017166, 0.0014282154152169824, 0.00010531838779570535, 0.9565966129302979, 0.0, 0.0, 0.0, 0.0, 0.0, 0.0, 0.0, 0.0, 0.0], [0.08858925849199295, 0.0010841514449566603, 0.0032666949555277824, 0.00805156771093607, 0.8990083932876587, 0.0, 0.0, 0.0, 0.0, 0.0, 0.0, 0.0, 0.0], [0.08118470013141632, 0.00026520839310251176, 0.0009790553012862802, 0.0032390288542956114, 0.0010751168010756373, 0.9132568836212158, 0.0, 0.0, 0.0, 0.0, 0.0, 0.0, 0.0], [0.008153855800628662, 0.0008907580631785095, 2.350276190554723e-05, 0.00012198126933071762, 7.235442808450898e-06, 1.7996070482695359e-06, 0.9908007979393005, 0.0, 0.0, 0.0, 0.0, 0.0, 0.0], [0.17544357478618622, 0.055588774383068085, 0.09761591255664825, 0.0911172553896904, 0.07300383597612381, 0.1159263551235199, 0.01848035492002964, 0.3728239834308624, 0.0, 0.0, 0.0, 0.0, 0.0], [0.11287812888622284, 0.0008773189038038254, 0.0022447253577411175, 0.0010687483008950949, 0.00022305056336335838, 0.004398187156766653, 6.297883373918012e-05, 0.00011839338549179956, 0.8781284093856812, 0.0, 0.0, 0.0, 0.0], [0.009890466928482056, 0.0005839634104631841, 0.030996667221188545, 0.003874928457662463, 0.0021007072646170855, 0.005070307292044163, 0.0009558535530231893, 0.0013331263326108456, 0.0024132169783115387, 0.9427807927131653, 0.0, 0.0, 0.0], [0.05002724006772041, 0.0009560435428284109, 0.0008977262768894434, 0.0015690838918089867, 0.0014960442204028368, 0.010375360026955605, 0.0003224052197765559, 0.0007668618927709758, 0.0017575806705281138, 0.0005282883648760617, 0.9313033819198608, 0.0, 0.0], [0.018799342215061188, 0.0011249262606725097, 4.08802361562266e-06, 7.262708822963759e-05, 1.5042133782117162e-05, 1.547409397062438e-06, 3.672427556011826e-05, 1.43595809731778e-06, 8.332691322721075e-06, 4.389463867937593e-07, 2.947844905065722e-06, 0.9799326062202454, 0.0], [0.0316900834441185, 0.002310815267264843, 0.0002145407925127074, 0.0032584192231297493, 0.00022183054534252733, 0.000192746811080724, 3.234025643905625e-05, 0.00025498520699329674, 0.0006407961482182145, 3.2398751500295475e-05, 0.00018065249605569988, 0.0004196578811388463, 0.9605506658554077]], [[1.0, 0.0, 0.0, 0.0, 0.0, 0.0, 0.0, 0.0, 0.0, 0.0, 0.0, 0.0, 0.0], [0.8262148499488831, 0.17378513514995575, 0.0, 0.0, 0.0, 0.0, 0.0, 0.0, 0.0, 0.0, 0.0, 0.0, 0.0], [0.5966413021087646, 0.3568887710571289, 0.04646996036171913, 0.0, 0.0, 0.0, 0.0, 0.0, 0.0, 0.0, 0.0, 0.0, 0.0], [0.5120242834091187, 0.30527356266975403, 0.05481153726577759, 0.12789060175418854, 0.0, 0.0, 0.0, 0.0, 0.0, 0.0, 0.0, 0.0, 0.0], [0.45536378026008606, 0.20277604460716248, 0.06558288633823395, 0.18838337063789368, 0.08789386600255966, 0.0, 0.0, 0.0, 0.0, 0.0, 0.0, 0.0, 0.0], [0.4459514915943146, 0.25239819288253784, 0.06056572496891022, 0.1359965205192566, 0.06453614681959152, 0.0405518114566803, 0.0, 0.0, 0.0, 0.0, 0.0, 0.0, 0.0], [0.2992585301399231, 0.304435133934021, 0.04500816389918327, 0.07453719526529312, 0.029930220916867256, 0.03295145928859711, 0.21387925744056702, 0.0, 0.0, 0.0, 0.0, 0.0, 0.0], [0.3662918508052826, 0.20439228415489197, 0.03938387706875801, 0.07490717619657516, 0.05198414623737335, 0.020734624937176704, 0.23529152572155, 0.007014566566795111, 0.0, 0.0, 0.0, 0.0, 0.0], [0.35690656304359436, 0.1768161505460739, 0.04174407571554184, 0.08666657656431198, 0.062467001378536224, 0.039885133504867554, 0.17220348119735718, 0.021900035440921783, 0.041410986334085464, 0.0, 0.0, 0.0, 0.0], [0.2537831664085388, 0.17163750529289246, 0.039324939250946045, 0.11008477210998535, 0.05381486937403679, 0.024924900382757187, 0.24653618037700653, 0.017437180504202843, 0.04363519325852394, 0.03882133588194847, 0.0, 0.0, 0.0], [0.22792711853981018, 0.21990008652210236, 0.04037448763847351, 0.08792433887720108, 0.04288390278816223, 0.026802927255630493, 0.19822874665260315, 0.022983932867646217, 0.03802653029561043, 0.04147086292505264, 0.05347693711519241, 0.0, 0.0], [0.23926478624343872, 0.19336934387683868, 0.03688635677099228, 0.07301972061395645, 0.02694721147418022, 0.024639204144477844, 0.09494588524103165, 0.03219051659107208, 0.03512638434767723, 0.028233768418431282, 0.023247290402650833, 0.1921294927597046, 0.0], [0.22592009603977203, 0.09135493636131287, 0.025336673483252525, 0.034570496529340744, 0.024832583963871002, 0.019518466666340828, 0.12886199355125427, 0.01926828734576702, 0.03245934844017029, 0.021884821355342865, 0.028682654723525047, 0.30151742696762085, 0.045792244374752045]], [[1.0, 0.0, 0.0, 0.0, 0.0, 0.0, 0.0, 0.0, 0.0, 0.0, 0.0, 0.0, 0.0], [0.9470612406730652, 0.052938781678676605, 0.0, 0.0, 0.0, 0.0, 0.0, 0.0, 0.0, 0.0, 0.0, 0.0, 0.0], [0.6075812578201294, 0.2044709026813507, 0.18794779479503632, 0.0, 0.0, 0.0, 0.0, 0.0, 0.0, 0.0, 0.0, 0.0, 0.0], [0.2709655165672302, 0.1661500185728073, 0.4309837818145752, 0.13190071284770966, 0.0, 0.0, 0.0, 0.0, 0.0, 0.0, 0.0, 0.0, 0.0], [0.22044937312602997, 0.09779494255781174, 0.21786849200725555, 0.27064013481140137, 0.19324705004692078, 0.0, 0.0, 0.0, 0.0, 0.0, 0.0, 0.0, 0.0], [0.15509502589702606, 0.05028599873185158, 0.12794755399227142, 0.07609737664461136, 0.278931200504303, 0.3116428852081299, 0.0, 0.0, 0.0, 0.0, 0.0, 0.0, 0.0], [0.09550902992486954, 0.03346004709601402, 0.08592405915260315, 0.18732553720474243, 0.19407334923744202, 0.30307403206825256, 0.10063398629426956, 0.0, 0.0, 0.0, 0.0, 0.0, 0.0], [0.07581717520952225, 0.01864265650510788, 0.041629061102867126, 0.06130287051200867, 0.08106082677841187, 0.16440825164318085, 0.14280372858047485, 0.4143354892730713, 0.0, 0.0, 0.0, 0.0, 0.0], [0.04431375861167908, 0.005485871806740761, 0.019617239013314247, 0.011444450356066227, 0.047224391251802444, 0.06444042921066284, 0.037083856761455536, 0.5077203512191772, 0.26266974210739136, 0.0, 0.0, 0.0, 0.0], [0.03531825542449951, 0.006220001261681318, 0.009982804767787457, 0.014310252852737904, 0.028459403663873672, 0.054700158536434174, 0.0376180037856102, 0.25553858280181885, 0.31354159116744995, 0.24431094527244568, 0.0, 0.0, 0.0], [0.056080833077430725, 0.004524478688836098, 0.012118064798414707, 0.008983070962131023, 0.028617866337299347, 0.04182159900665283, 0.01641322299838066, 0.19381895661354065, 0.21790555119514465, 0.2571534514427185, 0.16256290674209595, 0.0, 0.0], [0.06292474269866943, 0.003211578819900751, 0.016740428283810616, 0.018573150038719177, 0.02075190283358097, 0.049828652292490005, 0.04322490841150284, 0.12171713262796402, 0.13426367938518524, 0.2426677793264389, 0.1743556708097458, 0.11174031347036362, 0.0], [0.020299339666962624, 0.0027129719965159893, 0.005281295161694288, 0.010201937519013882, 0.009095259010791779, 0.01062864065170288, 0.0066008418798446655, 0.04242343455553055, 0.08950196206569672, 0.07204844802618027, 0.11673376709222794, 0.3683626055717468, 0.24610942602157593]], [[1.0, 0.0, 0.0, 0.0, 0.0, 0.0, 0.0, 0.0, 0.0, 0.0, 0.0, 0.0, 0.0], [0.9110982418060303, 0.08890173584222794, 0.0, 0.0, 0.0, 0.0, 0.0, 0.0, 0.0, 0.0, 0.0, 0.0, 0.0], [0.3444812595844269, 0.09042394906282425, 0.5650947690010071, 0.0, 0.0, 0.0, 0.0, 0.0, 0.0, 0.0, 0.0, 0.0, 0.0], [0.4552285671234131, 0.06075664237141609, 0.33731433749198914, 0.1467004120349884, 0.0, 0.0, 0.0, 0.0, 0.0, 0.0, 0.0, 0.0, 0.0], [0.1895071566104889, 0.05523490905761719, 0.4088458716869354, 0.13057804107666016, 0.21583399176597595, 0.0, 0.0, 0.0, 0.0, 0.0, 0.0, 0.0, 0.0], [0.12368015199899673, 0.038910090923309326, 0.346926748752594, 0.055595364421606064, 0.11721343547105789, 0.31767427921295166, 0.0, 0.0, 0.0, 0.0, 0.0, 0.0, 0.0], [0.19079719483852386, 0.10708774626255035, 0.08372537791728973, 0.17804838716983795, 0.17065444588661194, 0.20310425758361816, 0.0665825679898262, 0.0, 0.0, 0.0, 0.0, 0.0, 0.0], [0.04708423838019371, 0.012359374202787876, 0.09104762226343155, 0.027089424431324005, 0.041791193187236786, 0.07165756821632385, 0.022167276591062546, 0.6868032217025757, 0.0, 0.0, 0.0, 0.0, 0.0], [0.07994582504034042, 0.02518540248274803, 0.21819736063480377, 0.026619255542755127, 0.06301821023225784, 0.18010804057121277, 0.03427249193191528, 0.2554190754890442, 0.1172342598438263, 0.0, 0.0, 0.0, 0.0], [0.0449533611536026, 0.0123611344024539, 0.13828520476818085, 0.02555580995976925, 0.04848223552107811, 0.09554440528154373, 0.032144565135240555, 0.21269774436950684, 0.07514355331659317, 0.31483206152915955, 0.0, 0.0, 0.0], [0.04529358446598053, 0.018975790590047836, 0.15371404588222504, 0.021483445540070534, 0.06024804711341858, 0.10553871840238571, 0.019465669989585876, 0.14016960561275482, 0.10570491850376129, 0.25821465253829956, 0.07119141519069672, 0.0, 0.0], [0.13892512023448944, 0.030719436705112457, 0.1004026010632515, 0.058909375220537186, 0.07682513445615768, 0.12165763229131699, 0.042081061750650406, 0.07621211558580399, 0.09917791932821274, 0.11429744958877563, 0.11028222739696503, 0.03050990216434002, 0.0], [0.047971319407224655, 0.013081694953143597, 0.07485175132751465, 0.038131266832351685, 0.03952741622924805, 0.06546054780483246, 0.016060473397374153, 0.28345751762390137, 0.07743655145168304, 0.14477521181106567, 0.06320410966873169, 0.026150604709982872, 0.10989148169755936]], [[1.0, 0.0, 0.0, 0.0, 0.0, 0.0, 0.0, 0.0, 0.0, 0.0, 0.0, 0.0, 0.0], [0.8895199298858643, 0.11048010736703873, 0.0, 0.0, 0.0, 0.0, 0.0, 0.0, 0.0, 0.0, 0.0, 0.0, 0.0], [0.6176966428756714, 0.1625976860523224, 0.21970567107200623, 0.0, 0.0, 0.0, 0.0, 0.0, 0.0, 0.0, 0.0, 0.0, 0.0], [0.5206165909767151, 0.17022910714149475, 0.18644846975803375, 0.12270582467317581, 0.0, 0.0, 0.0, 0.0, 0.0, 0.0, 0.0, 0.0, 0.0], [0.3701520562171936, 0.12806418538093567, 0.1699954867362976, 0.13988251984119415, 0.19190573692321777, 0.0, 0.0, 0.0, 0.0, 0.0, 0.0, 0.0, 0.0], [0.308916836977005, 0.1035785898566246, 0.1424066722393036, 0.1042354479432106, 0.1733677089214325, 0.16749471426010132, 0.0, 0.0, 0.0, 0.0, 0.0, 0.0, 0.0], [0.2980555295944214, 0.09846212714910507, 0.14361359179019928, 0.11737560480833054, 0.17606620490550995, 0.14606335759162903, 0.020363513380289078, 0.0, 0.0, 0.0, 0.0, 0.0, 0.0], [0.2356601059436798, 0.0811467096209526, 0.10899237543344498, 0.09786540269851685, 0.12546971440315247, 0.14249823987483978, 0.08469977974891663, 0.12366770952939987, 0.0, 0.0, 0.0, 0.0, 0.0], [0.21546950936317444, 0.06094910949468613, 0.10482436418533325, 0.06793724745512009, 0.11137478798627853, 0.13132578134536743, 0.06541067361831665, 0.11825189739465714, 0.12445657700300217, 0.0, 0.0, 0.0, 0.0], [0.1684006005525589, 0.06297764927148819, 0.09537505358457565, 0.07225646078586578, 0.10700163245201111, 0.11675789952278137, 0.05641518160700798, 0.10785975307226181, 0.11302915215492249, 0.09992663562297821, 0.0, 0.0, 0.0], [0.16902649402618408, 0.06330050528049469, 0.08442025631666183, 0.06163972243666649, 0.08899740129709244, 0.10813529789447784, 0.06147643178701401, 0.09251591563224792, 0.1062915027141571, 0.08185548335313797, 0.08234097063541412, 0.0, 0.0], [0.15963974595069885, 0.07664330303668976, 0.08035537600517273, 0.060096487402915955, 0.08697055280208588, 0.07591704279184341, 0.06757333874702454, 0.0884600430727005, 0.08383513987064362, 0.07560843229293823, 0.09188350290060043, 0.053017087280750275, 0.0], [0.1483594924211502, 0.04879988729953766, 0.07780197262763977, 0.05413983389735222, 0.08123864978551865, 0.08089910447597504, 0.05659625679254532, 0.08227300643920898, 0.08974725008010864, 0.07773203402757645, 0.09309159219264984, 0.04592856019735336, 0.06339237093925476]], [[1.0, 0.0, 0.0, 0.0, 0.0, 0.0, 0.0, 0.0, 0.0, 0.0, 0.0, 0.0, 0.0], [0.7306041121482849, 0.2693958282470703, 0.0, 0.0, 0.0, 0.0, 0.0, 0.0, 0.0, 0.0, 0.0, 0.0, 0.0], [0.5918698310852051, 0.08326538652181625, 0.3248647153377533, 0.0, 0.0, 0.0, 0.0, 0.0, 0.0, 0.0, 0.0, 0.0, 0.0], [0.4154737591743469, 0.10462472587823868, 0.07895056158304214, 0.40095093846321106, 0.0, 0.0, 0.0, 0.0, 0.0, 0.0, 0.0, 0.0, 0.0], [0.37994569540023804, 0.08549737185239792, 0.13089467585086823, 0.11553521454334259, 0.28812703490257263, 0.0, 0.0, 0.0, 0.0, 0.0, 0.0, 0.0, 0.0], [0.32074812054634094, 0.056913986802101135, 0.12719431519508362, 0.08532318472862244, 0.09015768766403198, 0.31966274976730347, 0.0, 0.0, 0.0, 0.0, 0.0, 0.0, 0.0], [0.2648060917854309, 0.08988562971353531, 0.1153194010257721, 0.0752965658903122, 0.07452308386564255, 0.06800593435764313, 0.31216323375701904, 0.0, 0.0, 0.0, 0.0, 0.0, 0.0], [0.23714366555213928, 0.08676161617040634, 0.13074959814548492, 0.10239732265472412, 0.1090695783495903, 0.11616749316453934, 0.054923295974731445, 0.16278742253780365, 0.0, 0.0, 0.0, 0.0, 0.0], [0.20274290442466736, 0.04412352666258812, 0.11583664268255234, 0.05532166734337807, 0.07042801380157471, 0.13640394806861877, 0.025428729131817818, 0.0687631368637085, 0.28095144033432007, 0.0, 0.0, 0.0, 0.0], [0.1358281672000885, 0.04288020730018616, 0.1777290552854538, 0.04355144873261452, 0.0621986947953701, 0.12460950016975403, 0.027427595108747482, 0.07876887172460556, 0.10778587311506271, 0.19922064244747162, 0.0, 0.0, 0.0], [0.17453059554100037, 0.046879902482032776, 0.07801637798547745, 0.08329720050096512, 0.06562858074903488, 0.11502882838249207, 0.026892034336924553, 0.06862951815128326, 0.07499676942825317, 0.06121784448623657, 0.20488235354423523, 0.0, 0.0], [0.1616135835647583, 0.07988081872463226, 0.064812071621418, 0.04712266847491264, 0.06727991253137589, 0.06475761532783508, 0.041430454701185226, 0.06242648884654045, 0.0577811636030674, 0.05310548096895218, 0.06525127589702606, 0.23453839123249054, 0.0], [0.11024750769138336, 0.0470954030752182, 0.06050210818648338, 0.0674838274717331, 0.052993837743997574, 0.06817466765642166, 0.028196411207318306, 0.09154131263494492, 0.06571045517921448, 0.07004328817129135, 0.06328187137842178, 0.06744794547557831, 0.20728136599063873]], [[1.0, 0.0, 0.0, 0.0, 0.0, 0.0, 0.0, 0.0, 0.0, 0.0, 0.0, 0.0, 0.0], [0.7232556343078613, 0.27674442529678345, 0.0, 0.0, 0.0, 0.0, 0.0, 0.0, 0.0, 0.0, 0.0, 0.0, 0.0], [0.5831720232963562, 0.16733987629413605, 0.24948804080486298, 0.0, 0.0, 0.0, 0.0, 0.0, 0.0, 0.0, 0.0, 0.0, 0.0], [0.5470487475395203, 0.10833191126585007, 0.1377040147781372, 0.20691534876823425, 0.0, 0.0, 0.0, 0.0, 0.0, 0.0, 0.0, 0.0, 0.0], [0.3531273603439331, 0.11880332976579666, 0.15157777070999146, 0.13798201084136963, 0.2385096549987793, 0.0, 0.0, 0.0, 0.0, 0.0, 0.0, 0.0, 0.0], [0.30159059166908264, 0.10989759117364883, 0.1012144535779953, 0.11723966151475906, 0.21310576796531677, 0.15695205330848694, 0.0, 0.0, 0.0, 0.0, 0.0, 0.0, 0.0], [0.2602176368236542, 0.09659183770418167, 0.06850839406251907, 0.08260013908147812, 0.1279030293226242, 0.0978650376200676, 0.2663138508796692, 0.0, 0.0, 0.0, 0.0, 0.0, 0.0], [0.20573920011520386, 0.08972012996673584, 0.08287109434604645, 0.09501298516988754, 0.14011378586292267, 0.09538524597883224, 0.11382698267698288, 0.17733053863048553, 0.0, 0.0, 0.0, 0.0, 0.0], [0.1746102273464203, 0.08206024020910263, 0.07778390496969223, 0.09453774243593216, 0.14202803373336792, 0.09331979602575302, 0.0971895381808281, 0.1905626654624939, 0.04790791869163513, 0.0, 0.0, 0.0, 0.0], [0.2119857370853424, 0.06616955250501633, 0.07381509244441986, 0.07959349453449249, 0.12451446056365967, 0.07145652174949646, 0.09001335501670837, 0.13653746247291565, 0.04914700612425804, 0.09676729142665863, 0.0, 0.0, 0.0], [0.2135704904794693, 0.06190392002463341, 0.0442890003323555, 0.08414999395608902, 0.12606550753116608, 0.04868283495306969, 0.06634806096553802, 0.13592615723609924, 0.04801100865006447, 0.046511635184288025, 0.12454140931367874, 0.0, 0.0], [0.17835746705532074, 0.04577977582812309, 0.07111833244562149, 0.052621468901634216, 0.1261652410030365, 0.0556991770863533, 0.053476788103580475, 0.12775474786758423, 0.04238544777035713, 0.08749651908874512, 0.0985569953918457, 0.06058812886476517, 0.0], [0.11520939320325851, 0.09171769767999649, 0.05006254464387894, 0.07495631277561188, 0.07409742474555969, 0.07301460206508636, 0.09328830987215042, 0.10295610874891281, 0.025841111317276955, 0.0544765330851078, 0.07928917557001114, 0.0944499596953392, 0.07064081728458405]]], [[[1.0, 0.0, 0.0, 0.0, 0.0, 0.0, 0.0, 0.0, 0.0, 0.0, 0.0, 0.0, 0.0], [0.998668909072876, 0.0013310753274708986, 0.0, 0.0, 0.0, 0.0, 0.0, 0.0, 0.0, 0.0, 0.0, 0.0, 0.0], [0.9152443408966064, 0.04289988800883293, 0.04185580834746361, 0.0, 0.0, 0.0, 0.0, 0.0, 0.0, 0.0, 0.0, 0.0, 0.0], [0.5948100686073303, 0.03601321578025818, 0.32852038741111755, 0.04065635800361633, 0.0, 0.0, 0.0, 0.0, 0.0, 0.0, 0.0, 0.0, 0.0], [0.3042398691177368, 0.066643625497818, 0.22162842750549316, 0.29248419404029846, 0.11500389128923416, 0.0, 0.0, 0.0, 0.0, 0.0, 0.0, 0.0, 0.0], [0.36502179503440857, 0.039988286793231964, 0.12444671243429184, 0.11944448202848434, 0.2623855173587799, 0.08871320635080338, 0.0, 0.0, 0.0, 0.0, 0.0, 0.0, 0.0], [0.15660570561885834, 0.035096146166324615, 0.05353080481290817, 0.08873222023248672, 0.14622393250465393, 0.3834974467754364, 0.13631370663642883, 0.0, 0.0, 0.0, 0.0, 0.0, 0.0], [0.17949576675891876, 0.052994295954704285, 0.12063010782003403, 0.06203831359744072, 0.16024740040302277, 0.14953681826591492, 0.15736185014247894, 0.11769549548625946, 0.0, 0.0, 0.0, 0.0, 0.0], [0.17220589518547058, 0.03618881106376648, 0.10204456001520157, 0.024552620947360992, 0.18677900731563568, 0.05587222799658775, 0.13046970963478088, 0.17612147331237793, 0.11576567590236664, 0.0, 0.0, 0.0, 0.0], [0.03985660895705223, 0.008272182196378708, 0.005698029417544603, 0.006421441212296486, 0.018414152786135674, 0.05415479838848114, 0.028975870460271835, 0.07732667028903961, 0.6435032486915588, 0.1173768863081932, 0.0, 0.0, 0.0], [0.0455629788339138, 0.005693572573363781, 0.021159352734684944, 0.015253688208758831, 0.013809028081595898, 0.020858213305473328, 0.010381828993558884, 0.04958826303482056, 0.2123582661151886, 0.49960511922836304, 0.10572974383831024, 0.0, 0.0], [0.03214770555496216, 0.0024631768465042114, 0.013613550923764706, 0.0015395008958876133, 0.010686046443879604, 0.012740961275994778, 0.014896963723003864, 0.04739752411842346, 0.22670729458332062, 0.2513248324394226, 0.2784622013568878, 0.10802032798528671, 0.0], [0.04965638741850853, 0.00895017758011818, 0.017295585945248604, 0.007840616628527641, 0.013033181428909302, 0.01691707968711853, 0.01135407853871584, 0.039126135408878326, 0.09981594234704971, 0.13862179219722748, 0.1469639241695404, 0.3064463436603546, 0.14397871494293213]], [[1.0, 0.0, 0.0, 0.0, 0.0, 0.0, 0.0, 0.0, 0.0, 0.0, 0.0, 0.0, 0.0], [0.9773041605949402, 0.022695843130350113, 0.0, 0.0, 0.0, 0.0, 0.0, 0.0, 0.0, 0.0, 0.0, 0.0, 0.0], [0.8388814330101013, 0.06300575286149979, 0.09811285138130188, 0.0, 0.0, 0.0, 0.0, 0.0, 0.0, 0.0, 0.0, 0.0, 0.0], [0.612656831741333, 0.06832567602396011, 0.23705805838108063, 0.08195939660072327, 0.0, 0.0, 0.0, 0.0, 0.0, 0.0, 0.0, 0.0, 0.0], [0.4865952432155609, 0.06340781599283218, 0.1586664319038391, 0.15846602618694305, 0.13286451995372772, 0.0, 0.0, 0.0, 0.0, 0.0, 0.0, 0.0, 0.0], [0.4277236759662628, 0.03975530341267586, 0.08181385695934296, 0.1306408941745758, 0.2023974061012268, 0.11766889691352844, 0.0, 0.0, 0.0, 0.0, 0.0, 0.0, 0.0], [0.30647310614585876, 0.024025194346904755, 0.06818817555904388, 0.06319739669561386, 0.19075128436088562, 0.24413155019283295, 0.10323336720466614, 0.0, 0.0, 0.0, 0.0, 0.0, 0.0], [0.3271782398223877, 0.036778878420591354, 0.06219654902815819, 0.04131000488996506, 0.10043274611234665, 0.09991184622049332, 0.07705072313547134, 0.2551409900188446, 0.0, 0.0, 0.0, 0.0, 0.0], [0.09599743783473969, 0.020981591194868088, 0.03237302973866463, 0.028098689392209053, 0.057111192494630814, 0.050272922962903976, 0.074690081179142, 0.5461976528167725, 0.09427743405103683, 0.0, 0.0, 0.0, 0.0], [0.09627165645360947, 0.013006186112761497, 0.013458887115120888, 0.022578440606594086, 0.03156333789229393, 0.05887441709637642, 0.04467686265707016, 0.38415583968162537, 0.23123133182525635, 0.10418310761451721, 0.0, 0.0, 0.0], [0.0533619299530983, 0.012315420433878899, 0.01664484292268753, 0.020180290564894676, 0.03425491973757744, 0.038079578429460526, 0.04287775233387947, 0.26596179604530334, 0.21253006160259247, 0.21065376698970795, 0.09313967078924179, 0.0, 0.0], [0.04249122366309166, 0.0040597072802484035, 0.012383338995277882, 0.010981477797031403, 0.026296433061361313, 0.030067969113588333, 0.02551909349858761, 0.20922212302684784, 0.1148981899023056, 0.1951812356710434, 0.1961238980293274, 0.13277533650398254, 0.0], [0.08217327296733856, 0.0070350500755012035, 0.014026755467057228, 0.011733791790902615, 0.015267372131347656, 0.024079004302620888, 0.015545623376965523, 0.14962129294872284, 0.08822385966777802, 0.10319721698760986, 0.12286040186882019, 0.09594419598579407, 0.27029210329055786]], [[1.0, 0.0, 0.0, 0.0, 0.0, 0.0, 0.0, 0.0, 0.0, 0.0, 0.0, 0.0, 0.0], [0.9906467199325562, 0.009353349916636944, 0.0, 0.0, 0.0, 0.0, 0.0, 0.0, 0.0, 0.0, 0.0, 0.0, 0.0], [0.7894514203071594, 0.021147409453988075, 0.18940113484859467, 0.0, 0.0, 0.0, 0.0, 0.0, 0.0, 0.0, 0.0, 0.0, 0.0], [0.6660369634628296, 0.023764126002788544, 0.17578661441802979, 0.1344122588634491, 0.0, 0.0, 0.0, 0.0, 0.0, 0.0, 0.0, 0.0, 0.0], [0.4820787012577057, 0.022583704441785812, 0.14013752341270447, 0.11237139254808426, 0.24282871186733246, 0.0, 0.0, 0.0, 0.0, 0.0, 0.0, 0.0, 0.0], [0.36149293184280396, 0.02032415382564068, 0.11577687412500381, 0.09007076919078827, 0.19864404201507568, 0.21369123458862305, 0.0, 0.0, 0.0, 0.0, 0.0, 0.0, 0.0], [0.31789278984069824, 0.01741831935942173, 0.1078711524605751, 0.0793839693069458, 0.1851980835199356, 0.179803267121315, 0.11243240535259247, 0.0, 0.0, 0.0, 0.0, 0.0, 0.0], [0.22227925062179565, 0.015463853254914284, 0.07591743767261505, 0.05767706781625748, 0.11695566028356552, 0.12686526775360107, 0.08224768191576004, 0.30259379744529724, 0.0, 0.0, 0.0, 0.0, 0.0], [0.17126795649528503, 0.014113514684140682, 0.06608443707227707, 0.050296928733587265, 0.10156560689210892, 0.11027839779853821, 0.06825809180736542, 0.2487121820449829, 0.16942286491394043, 0.0, 0.0, 0.0, 0.0], [0.13378751277923584, 0.014240103773772717, 0.06503076106309891, 0.044814929366111755, 0.08886298537254333, 0.08607731014490128, 0.05987503007054329, 0.20616519451141357, 0.12185681611299515, 0.17928943037986755, 0.0, 0.0, 0.0], [0.11992824822664261, 0.014267935417592525, 0.05135143920779228, 0.04084043577313423, 0.0779549777507782, 0.0787847489118576, 0.055454954504966736, 0.17367218434810638, 0.11397320032119751, 0.1399708390235901, 0.13380099833011627, 0.0, 0.0], [0.09481389075517654, 0.01505087036639452, 0.05069492757320404, 0.03866490349173546, 0.07610064744949341, 0.0709703117609024, 0.051676880568265915, 0.16494397819042206, 0.10022851079702377, 0.12244804948568344, 0.11123763769865036, 0.10316936671733856, 0.0], [0.08464797586202621, 0.01200133841484785, 0.03911780193448067, 0.029654333367943764, 0.05411442369222641, 0.05916252359747887, 0.04157805070281029, 0.12903337180614471, 0.0876360610127449, 0.10251963883638382, 0.10233892500400543, 0.09311049431562424, 0.1650850772857666]], [[1.0, 0.0, 0.0, 0.0, 0.0, 0.0, 0.0, 0.0, 0.0, 0.0, 0.0, 0.0, 0.0], [0.5512685775756836, 0.4487314522266388, 0.0, 0.0, 0.0, 0.0, 0.0, 0.0, 0.0, 0.0, 0.0, 0.0, 0.0], [0.5483946800231934, 0.21466828882694244, 0.236937016248703, 0.0, 0.0, 0.0, 0.0, 0.0, 0.0, 0.0, 0.0, 0.0, 0.0], [0.5095541477203369, 0.15375681221485138, 0.1706848293542862, 0.16600415110588074, 0.0, 0.0, 0.0, 0.0, 0.0, 0.0, 0.0, 0.0, 0.0], [0.5015922784805298, 0.10513486713171005, 0.12368403375148773, 0.12299637496471405, 0.1465924233198166, 0.0, 0.0, 0.0, 0.0, 0.0, 0.0, 0.0, 0.0], [0.4931105971336365, 0.08105029910802841, 0.0976274237036705, 0.09343017637729645, 0.11893144249916077, 0.11585008352994919, 0.0, 0.0, 0.0, 0.0, 0.0, 0.0, 0.0], [0.48466941714286804, 0.0654771625995636, 0.08119940757751465, 0.07822781056165695, 0.10101062059402466, 0.0934893935918808, 0.09592623263597488, 0.0, 0.0, 0.0, 0.0, 0.0, 0.0], [0.4760619103908539, 0.051485780626535416, 0.06539490073919296, 0.06296218931674957, 0.07750244438648224, 0.07400794327259064, 0.07480982691049576, 0.11777495592832565, 0.0, 0.0, 0.0, 0.0, 0.0], [0.47571614384651184, 0.041874658316373825, 0.051956530660390854, 0.051228445023298264, 0.06318624317646027, 0.06379182636737823, 0.06057489663362503, 0.10587659478187561, 0.08579462766647339, 0.0, 0.0, 0.0, 0.0], [0.4914557933807373, 0.03217402100563049, 0.04444672539830208, 0.0408116951584816, 0.053104475140571594, 0.05051908269524574, 0.050880614668130875, 0.08827675133943558, 0.06691912561655045, 0.08141159266233444, 0.0, 0.0, 0.0], [0.5107197165489197, 0.025044819340109825, 0.03326157480478287, 0.03323454409837723, 0.0429648794233799, 0.044207487255334854, 0.041773565113544464, 0.07563559710979462, 0.061056703329086304, 0.06846354156732559, 0.06363757699728012, 0.0, 0.0], [0.5443220734596252, 0.020763354375958443, 0.027269084006547928, 0.02637294866144657, 0.03511187806725502, 0.033739153295755386, 0.033840112388134, 0.06492491811513901, 0.046891890466213226, 0.05427318066358566, 0.049836743623018265, 0.06265472620725632, 0.0], [0.5089981555938721, 0.01882469840347767, 0.025144854560494423, 0.023114554584026337, 0.03002311661839485, 0.029906688258051872, 0.02961951307952404, 0.054096270352602005, 0.0416584312915802, 0.047633904963731766, 0.044461071491241455, 0.05675415322184563, 0.08976463228464127]], [[1.0, 0.0, 0.0, 0.0, 0.0, 0.0, 0.0, 0.0, 0.0, 0.0, 0.0, 0.0, 0.0], [0.9051733613014221, 0.09482661634683609, 0.0, 0.0, 0.0, 0.0, 0.0, 0.0, 0.0, 0.0, 0.0, 0.0, 0.0], [0.8116108775138855, 0.09292775392532349, 0.0954613983631134, 0.0, 0.0, 0.0, 0.0, 0.0, 0.0, 0.0, 0.0, 0.0, 0.0], [0.7268962860107422, 0.09007737785577774, 0.08830935508012772, 0.09471696615219116, 0.0, 0.0, 0.0, 0.0, 0.0, 0.0, 0.0, 0.0, 0.0], [0.6383160948753357, 0.0844593495130539, 0.07692530006170273, 0.08861982077360153, 0.11167943477630615, 0.0, 0.0, 0.0, 0.0, 0.0, 0.0, 0.0, 0.0], [0.5790510773658752, 0.07261095196008682, 0.07039688527584076, 0.0733131542801857, 0.10031325370073318, 0.1043146550655365, 0.0, 0.0, 0.0, 0.0, 0.0, 0.0, 0.0], [0.5624297261238098, 0.05649051442742348, 0.061868198215961456, 0.05726221203804016, 0.08218494802713394, 0.07559482753276825, 0.10416965186595917, 0.0, 0.0, 0.0, 0.0, 0.0, 0.0], [0.431811660528183, 0.06815055012702942, 0.06173550710082054, 0.06023038178682327, 0.07907575368881226, 0.08103032410144806, 0.10586564987897873, 0.11210012435913086, 0.0, 0.0, 0.0, 0.0, 0.0], [0.4021473228931427, 0.053725387901067734, 0.0527784526348114, 0.05033840611577034, 0.06849528104066849, 0.07244891673326492, 0.08912067860364914, 0.09642114490270615, 0.1145244836807251, 0.0, 0.0, 0.0, 0.0], [0.37156182527542114, 0.050174910575151443, 0.055095646530389786, 0.048353347927331924, 0.06431932747364044, 0.05631673336029053, 0.078102245926857, 0.08487826585769653, 0.08051051199436188, 0.11068712174892426, 0.0, 0.0, 0.0], [0.35960128903388977, 0.0436202697455883, 0.03980344533920288, 0.040309783071279526, 0.05367760732769966, 0.05376265197992325, 0.07235388457775116, 0.07345444709062576, 0.08662835508584976, 0.08742960542440414, 0.08935867995023727, 0.0, 0.0], [0.32015490531921387, 0.03500351309776306, 0.035848263651132584, 0.03695981577038765, 0.05066993087530136, 0.04602731764316559, 0.059897199273109436, 0.07388003170490265, 0.06978193670511246, 0.07402876019477844, 0.08170265704393387, 0.11604568362236023, 0.0], [0.2774621248245239, 0.034830473363399506, 0.032648153603076935, 0.031723752617836, 0.04110667482018471, 0.04363640025258064, 0.05170457437634468, 0.06147759407758713, 0.06685249507427216, 0.06833849102258682, 0.07478754967451096, 0.11018320918083191, 0.10524856299161911]], [[1.0, 0.0, 0.0, 0.0, 0.0, 0.0, 0.0, 0.0, 0.0, 0.0, 0.0, 0.0, 0.0], [0.9286354184150696, 0.07136457413434982, 0.0, 0.0, 0.0, 0.0, 0.0, 0.0, 0.0, 0.0, 0.0, 0.0, 0.0], [0.8851327896118164, 0.04562337324023247, 0.0692439004778862, 0.0, 0.0, 0.0, 0.0, 0.0, 0.0, 0.0, 0.0, 0.0, 0.0], [0.825941801071167, 0.08108014613389969, 0.03136914595961571, 0.06160891801118851, 0.0, 0.0, 0.0, 0.0, 0.0, 0.0, 0.0, 0.0, 0.0], [0.5832117795944214, 0.0410812571644783, 0.017735587432980537, 0.02021835744380951, 0.337753027677536, 0.0, 0.0, 0.0, 0.0, 0.0, 0.0, 0.0, 0.0], [0.571128785610199, 0.03352850675582886, 0.06736767292022705, 0.04674419388175011, 0.12003269046545029, 0.161198228597641, 0.0, 0.0, 0.0, 0.0, 0.0, 0.0, 0.0], [0.5027966499328613, 0.06201079115271568, 0.03150319680571556, 0.03219827637076378, 0.1238887682557106, 0.09142447263002396, 0.15617775917053223, 0.0, 0.0, 0.0, 0.0, 0.0, 0.0], [0.5314909815788269, 0.019465703517198563, 0.0383242703974247, 0.037707120180130005, 0.050714097917079926, 0.13126564025878906, 0.014015927910804749, 0.1770162135362625, 0.0, 0.0, 0.0, 0.0, 0.0], [0.37880629301071167, 0.013210486620664597, 0.047926366329193115, 0.009972433559596539, 0.029716333374381065, 0.19855082035064697, 0.004004495684057474, 0.08927642554044724, 0.22853630781173706, 0.0, 0.0, 0.0, 0.0], [0.3801708519458771, 0.01670420542359352, 0.12247147411108017, 0.01165276113897562, 0.04052821174263954, 0.08691149950027466, 0.007087249308824539, 0.10491418093442917, 0.03945023939013481, 0.1901092827320099, 0.0, 0.0, 0.0], [0.2708798348903656, 0.014032362960278988, 0.026959678158164024, 0.02978372760117054, 0.06285017728805542, 0.1452646702528, 0.00345475017093122, 0.12767010927200317, 0.07161667943000793, 0.06952271610498428, 0.17796535789966583, 0.0, 0.0], [0.2101297825574875, 0.024684671312570572, 0.02592848613858223, 0.008564533665776253, 0.06706651300191879, 0.08345304429531097, 0.046168599277734756, 0.13737821578979492, 0.10025633871555328, 0.0526922233402729, 0.1791073977947235, 0.06457018852233887, 0.0], [0.3069305717945099, 0.014499478973448277, 0.024306952953338623, 0.011693720705807209, 0.03361395001411438, 0.05507146567106247, 0.004620076157152653, 0.12392941862344742, 0.04938726872205734, 0.03436888009309769, 0.04072302579879761, 0.021842412650585175, 0.2790127098560333]], [[1.0, 0.0, 0.0, 0.0, 0.0, 0.0, 0.0, 0.0, 0.0, 0.0, 0.0, 0.0, 0.0], [0.970160722732544, 0.029839353635907173, 0.0, 0.0, 0.0, 0.0, 0.0, 0.0, 0.0, 0.0, 0.0, 0.0, 0.0], [0.834440290927887, 0.07031775265932083, 0.09524191915988922, 0.0, 0.0, 0.0, 0.0, 0.0, 0.0, 0.0, 0.0, 0.0, 0.0], [0.7566187381744385, 0.07301473617553711, 0.06855525821447372, 0.10181125998497009, 0.0, 0.0, 0.0, 0.0, 0.0, 0.0, 0.0, 0.0, 0.0], [0.5618048906326294, 0.1719568371772766, 0.1250908374786377, 0.10405793786048889, 0.0370895192027092, 0.0, 0.0, 0.0, 0.0, 0.0, 0.0, 0.0, 0.0], [0.6703205108642578, 0.06189519166946411, 0.14566636085510254, 0.03557177633047104, 0.04760576784610748, 0.03894038498401642, 0.0, 0.0, 0.0, 0.0, 0.0, 0.0, 0.0], [0.5982233881950378, 0.05065878480672836, 0.023177318274974823, 0.046669818460941315, 0.039923712611198425, 0.02788371592760086, 0.21346323192119598, 0.0, 0.0, 0.0, 0.0, 0.0, 0.0], [0.6410824060440063, 0.05123361200094223, 0.027280861511826515, 0.017358949407935143, 0.02258526161313057, 0.02929540164768696, 0.0818670392036438, 0.1292964667081833, 0.0, 0.0, 0.0, 0.0, 0.0], [0.4707190990447998, 0.07707782089710236, 0.043032631278038025, 0.0348263643682003, 0.0560460165143013, 0.0609416700899601, 0.16768963634967804, 0.0624372698366642, 0.02722945436835289, 0.0, 0.0, 0.0, 0.0], [0.5017388463020325, 0.07054775953292847, 0.03584495559334755, 0.03810317441821098, 0.062088437378406525, 0.054426174610853195, 0.08376016467809677, 0.06624266505241394, 0.05529356002807617, 0.03195422515273094, 0.0, 0.0, 0.0], [0.4457751214504242, 0.07659578323364258, 0.08919645100831985, 0.025629689916968346, 0.054753534495830536, 0.06303822249174118, 0.03886640444397926, 0.04948586970567703, 0.055132314562797546, 0.0841013640165329, 0.017425334081053734, 0.0, 0.0], [0.43324869871139526, 0.02329256944358349, 0.040949176996946335, 0.029168248176574707, 0.03914063796401024, 0.06831657141447067, 0.03745095059275627, 0.15435519814491272, 0.03748227655887604, 0.0379425473511219, 0.023904044181108475, 0.07474906742572784, 0.0], [0.4068261981010437, 0.034299593418836594, 0.0239554550498724, 0.01980656571686268, 0.01740155555307865, 0.02413014881312847, 0.020254824310541153, 0.29706576466560364, 0.020743686705827713, 0.02184956520795822, 0.013047910295426846, 0.0163723211735487, 0.08424641191959381]], [[1.0, 0.0, 0.0, 0.0, 0.0, 0.0, 0.0, 0.0, 0.0, 0.0, 0.0, 0.0, 0.0], [0.9531509280204773, 0.04684901982545853, 0.0, 0.0, 0.0, 0.0, 0.0, 0.0, 0.0, 0.0, 0.0, 0.0, 0.0], [0.8755214214324951, 0.07267269492149353, 0.05180591344833374, 0.0, 0.0, 0.0, 0.0, 0.0, 0.0, 0.0, 0.0, 0.0, 0.0], [0.7350606918334961, 0.14316587150096893, 0.06738726049661636, 0.05438624322414398, 0.0, 0.0, 0.0, 0.0, 0.0, 0.0, 0.0, 0.0, 0.0], [0.7157654762268066, 0.07619807124137878, 0.0661211907863617, 0.07838451862335205, 0.06353073567152023, 0.0, 0.0, 0.0, 0.0, 0.0, 0.0, 0.0, 0.0], [0.6361215710639954, 0.10049927979707718, 0.08873286098241806, 0.055755630135536194, 0.06333998590707779, 0.05555066466331482, 0.0, 0.0, 0.0, 0.0, 0.0, 0.0, 0.0], [0.5631791353225708, 0.1421012580394745, 0.06919430196285248, 0.04453406482934952, 0.04387737810611725, 0.035530298948287964, 0.1015835702419281, 0.0, 0.0, 0.0, 0.0, 0.0, 0.0], [0.49394816160202026, 0.08444725722074509, 0.05999355763196945, 0.05023879185318947, 0.05797045677900314, 0.05435050651431084, 0.12377723306417465, 0.07527400553226471, 0.0, 0.0, 0.0, 0.0, 0.0], [0.4752741754055023, 0.07864751666784286, 0.052972473204135895, 0.041731782257556915, 0.04700500890612602, 0.052154477685689926, 0.1403408646583557, 0.08148487657308578, 0.030388884246349335, 0.0, 0.0, 0.0, 0.0], [0.4233587384223938, 0.07367616146802902, 0.07280940562486649, 0.04501976817846298, 0.05656711757183075, 0.040706828236579895, 0.1148405373096466, 0.08048279583454132, 0.032503463327884674, 0.06003519147634506, 0.0, 0.0, 0.0], [0.4454931616783142, 0.06990024447441101, 0.04655614122748375, 0.04499027505517006, 0.05968627333641052, 0.031158117577433586, 0.10016510635614395, 0.08101563155651093, 0.0308338962495327, 0.04132334515452385, 0.04887780919671059, 0.0, 0.0], [0.3411064147949219, 0.07891229540109634, 0.07069093734025955, 0.05028622969985008, 0.047697000205516815, 0.03471675142645836, 0.11576811224222183, 0.09378986060619354, 0.02927071787416935, 0.05884258821606636, 0.05278598144650459, 0.026133058592677116, 0.0], [0.33713337779045105, 0.06439737975597382, 0.06765841692686081, 0.045980680733919144, 0.03086371161043644, 0.03776523098349571, 0.13388589024543762, 0.06588941812515259, 0.02901860699057579, 0.044595956802368164, 0.03732374683022499, 0.04387471452355385, 0.06161290779709816]], [[1.0, 0.0, 0.0, 0.0, 0.0, 0.0, 0.0, 0.0, 0.0, 0.0, 0.0, 0.0, 0.0], [0.9441121220588684, 0.055887918919324875, 0.0, 0.0, 0.0, 0.0, 0.0, 0.0, 0.0, 0.0, 0.0, 0.0, 0.0], [0.8549568057060242, 0.0506991446018219, 0.09434407204389572, 0.0, 0.0, 0.0, 0.0, 0.0, 0.0, 0.0, 0.0, 0.0, 0.0], [0.8085590600967407, 0.040803611278533936, 0.08177044987678528, 0.06886683404445648, 0.0, 0.0, 0.0, 0.0, 0.0, 0.0, 0.0, 0.0, 0.0], [0.6747403740882874, 0.05432669073343277, 0.09009180217981339, 0.08293796330690384, 0.09790313988924026, 0.0, 0.0, 0.0, 0.0, 0.0, 0.0, 0.0, 0.0], [0.5532236099243164, 0.045779768377542496, 0.08091137558221817, 0.07978259027004242, 0.10009002685546875, 0.1402125507593155, 0.0, 0.0, 0.0, 0.0, 0.0, 0.0, 0.0], [0.5230064988136292, 0.04194212332367897, 0.0892510786652565, 0.07179185748100281, 0.12207774817943573, 0.10473736375570297, 0.04719338193535805, 0.0, 0.0, 0.0, 0.0, 0.0, 0.0], [0.3904940187931061, 0.05275357887148857, 0.08844822645187378, 0.05546765401959419, 0.08076202124357224, 0.08790417015552521, 0.05694635584950447, 0.18722401559352875, 0.0, 0.0, 0.0, 0.0, 0.0], [0.3643462061882019, 0.03914498910307884, 0.08215470612049103, 0.0521281398832798, 0.0700107291340828, 0.09281829744577408, 0.04579692706465721, 0.15290232002735138, 0.10069768130779266, 0.0, 0.0, 0.0, 0.0], [0.35671818256378174, 0.034694697707891464, 0.05965622887015343, 0.05011984705924988, 0.0666990652680397, 0.08262086659669876, 0.03921624273061752, 0.13917003571987152, 0.08460492640733719, 0.08649995923042297, 0.0, 0.0, 0.0], [0.3305560052394867, 0.032330770045518875, 0.044492561370134354, 0.04588981717824936, 0.06681247800588608, 0.07872835546731949, 0.03684913367033005, 0.1315709501504898, 0.09156639873981476, 0.07193779200315475, 0.06926572322845459, 0.0, 0.0], [0.2888724207878113, 0.03375439718365669, 0.05076338350772858, 0.055357906967401505, 0.07012194395065308, 0.07644166052341461, 0.04436323791742325, 0.1224873885512352, 0.07576459646224976, 0.07516166567802429, 0.06489024311304092, 0.04202112928032875, 0.0], [0.26139596104621887, 0.03593503311276436, 0.053379323333501816, 0.048668961971998215, 0.0563623420894146, 0.0748400166630745, 0.046618059277534485, 0.11451376229524612, 0.06635116040706635, 0.06954000145196915, 0.04965509846806526, 0.03673943877220154, 0.08600085973739624]], [[1.0, 0.0, 0.0, 0.0, 0.0, 0.0, 0.0, 0.0, 0.0, 0.0, 0.0, 0.0, 0.0], [0.9788995385169983, 0.021100429818034172, 0.0, 0.0, 0.0, 0.0, 0.0, 0.0, 0.0, 0.0, 0.0, 0.0, 0.0], [0.9189168214797974, 0.026676667854189873, 0.054406438022851944, 0.0, 0.0, 0.0, 0.0, 0.0, 0.0, 0.0, 0.0, 0.0, 0.0], [0.9050089716911316, 0.01622217893600464, 0.03487009555101395, 0.043898746371269226, 0.0, 0.0, 0.0, 0.0, 0.0, 0.0, 0.0, 0.0, 0.0], [0.780325710773468, 0.027547454461455345, 0.06304791569709778, 0.0589325837790966, 0.07014636695384979, 0.0, 0.0, 0.0, 0.0, 0.0, 0.0, 0.0, 0.0], [0.6299654245376587, 0.028497908264398575, 0.07094015181064606, 0.04705701395869255, 0.08507538586854935, 0.1384640634059906, 0.0, 0.0, 0.0, 0.0, 0.0, 0.0, 0.0], [0.6253737211227417, 0.02636980637907982, 0.0715741217136383, 0.04803190380334854, 0.06832610815763474, 0.1424466222524643, 0.017877649515867233, 0.0, 0.0, 0.0, 0.0, 0.0, 0.0], [0.5229063034057617, 0.038376037031412125, 0.057881828397512436, 0.0431881807744503, 0.09912531077861786, 0.13296519219875336, 0.036974888294935226, 0.06858222186565399, 0.0, 0.0, 0.0, 0.0, 0.0], [0.4501422643661499, 0.020516855642199516, 0.05801013857126236, 0.040439218282699585, 0.10750430077314377, 0.11812368780374527, 0.03153010457754135, 0.06193806976079941, 0.11179543286561966, 0.0, 0.0, 0.0, 0.0], [0.4692952334880829, 0.02070404402911663, 0.03919820487499237, 0.03538203984498978, 0.07775764167308807, 0.11099272966384888, 0.025535134598612785, 0.049445148557424545, 0.10399752855300903, 0.06769238412380219, 0.0, 0.0, 0.0], [0.43167826533317566, 0.015715934336185455, 0.03856918588280678, 0.023833034560084343, 0.061839327216148376, 0.11088845133781433, 0.027738673612475395, 0.04192948713898659, 0.1291750967502594, 0.07103828340768814, 0.047594211995601654, 0.0, 0.0], [0.4545857906341553, 0.02000100538134575, 0.03625323250889778, 0.037803348153829575, 0.05309252440929413, 0.09611812233924866, 0.04282336309552193, 0.04596123844385147, 0.07258773595094681, 0.06199903413653374, 0.06164973974227905, 0.017124885693192482, 0.0], [0.35443055629730225, 0.026202725246548653, 0.054454825818538666, 0.03924698382616043, 0.06947846710681915, 0.08582936972379684, 0.03834662213921547, 0.040022920817136765, 0.06590571999549866, 0.07769042253494263, 0.06268508732318878, 0.020174920558929443, 0.0655314177274704]], [[1.0, 0.0, 0.0, 0.0, 0.0, 0.0, 0.0, 0.0, 0.0, 0.0, 0.0, 0.0, 0.0], [0.00023652089294046164, 0.9997634291648865, 0.0, 0.0, 0.0, 0.0, 0.0, 0.0, 0.0, 0.0, 0.0, 0.0, 0.0], [0.0005866618594154716, 0.5147151350975037, 0.48469823598861694, 0.0, 0.0, 0.0, 0.0, 0.0, 0.0, 0.0, 0.0, 0.0, 0.0], [0.0007919373456388712, 0.3505919575691223, 0.32565832138061523, 0.32295775413513184, 0.0, 0.0, 0.0, 0.0, 0.0, 0.0, 0.0, 0.0, 0.0], [0.0009337954688817263, 0.24635183811187744, 0.2379375547170639, 0.2425372451543808, 0.2722395956516266, 0.0, 0.0, 0.0, 0.0, 0.0, 0.0, 0.0, 0.0], [0.0013101064832881093, 0.18490995466709137, 0.1820244938135147, 0.18799622356891632, 0.22428612411022186, 0.21947310864925385, 0.0, 0.0, 0.0, 0.0, 0.0, 0.0, 0.0], [0.0009166845702566206, 0.14951378107070923, 0.1419549286365509, 0.14778009057044983, 0.18435586988925934, 0.16521136462688446, 0.21026718616485596, 0.0, 0.0, 0.0, 0.0, 0.0, 0.0], [0.0016759929712861776, 0.11213267594575882, 0.11605473607778549, 0.11705362051725388, 0.13860903680324554, 0.13615857064723969, 0.17410215735435486, 0.2042131870985031, 0.0, 0.0, 0.0, 0.0, 0.0], [0.0013566093984991312, 0.0916651040315628, 0.09526773542165756, 0.09837948530912399, 0.11685716360807419, 0.11492035537958145, 0.14000308513641357, 0.17238128185272217, 0.16916926205158234, 0.0, 0.0, 0.0, 0.0], [0.0017920754617080092, 0.07436428219079971, 0.08547446876764297, 0.08083439618349075, 0.09934136271476746, 0.09325134009122849, 0.11791062355041504, 0.14630569517612457, 0.13711310923099518, 0.1636127084493637, 0.0, 0.0, 0.0], [0.0022937527392059565, 0.06603763997554779, 0.06467407941818237, 0.07264470309019089, 0.08405788987874985, 0.08428418636322021, 0.10052680969238281, 0.12480349093675613, 0.12648449838161469, 0.13258495926856995, 0.14160796999931335, 0.0, 0.0], [0.0023934391792863607, 0.053347330540418625, 0.05680244415998459, 0.05946040526032448, 0.07079906016588211, 0.06922902911901474, 0.08176756650209427, 0.10867425054311752, 0.09868472069501877, 0.11243502795696259, 0.11698882281780243, 0.16941793262958527, 0.0], [0.0027296014595776796, 0.04071969538927078, 0.04407805949449539, 0.04579295963048935, 0.05534766614437103, 0.05559978634119034, 0.06505364924669266, 0.08726789057254791, 0.08344529569149017, 0.08790254592895508, 0.09652118384838104, 0.13746266067028046, 0.19807904958724976]], [[1.0, 0.0, 0.0, 0.0, 0.0, 0.0, 0.0, 0.0, 0.0, 0.0, 0.0, 0.0, 0.0], [0.38706132769584656, 0.6129387021064758, 0.0, 0.0, 0.0, 0.0, 0.0, 0.0, 0.0, 0.0, 0.0, 0.0, 0.0], [0.32524800300598145, 0.0018706893315538764, 0.6728813648223877, 0.0, 0.0, 0.0, 0.0, 0.0, 0.0, 0.0, 0.0, 0.0, 0.0], [0.1276465654373169, 0.003996634855866432, 0.003705659182742238, 0.8646512031555176, 0.0, 0.0, 0.0, 0.0, 0.0, 0.0, 0.0, 0.0, 0.0], [0.10183335840702057, 0.0020551253110170364, 0.002070504240691662, 0.0005763029912486672, 0.8934647440910339, 0.0, 0.0, 0.0, 0.0, 0.0, 0.0, 0.0, 0.0], [0.1148190051317215, 0.0012273924658074975, 0.0026173635851591825, 0.0011396508198231459, 0.004176958464086056, 0.8760197162628174, 0.0, 0.0, 0.0, 0.0, 0.0, 0.0, 0.0], [0.0581696517765522, 0.005683515686541796, 0.0018406733870506287, 0.000815933512058109, 0.0021512797102332115, 0.0015107624931260943, 0.9298281073570251, 0.0, 0.0, 0.0, 0.0, 0.0, 0.0], [0.33385178446769714, 0.03693542629480362, 0.13221944868564606, 0.01068246178328991, 0.072041817009449, 0.18078993260860443, 0.026698756963014603, 0.206780344247818, 0.0, 0.0, 0.0, 0.0, 0.0], [0.06636092066764832, 0.0005443678237497807, 0.010799570940434933, 0.001090818434022367, 0.0025515188463032246, 0.03461939096450806, 0.0010961854131892323, 0.08331640809774399, 0.7996208667755127, 0.0, 0.0, 0.0, 0.0], [0.06338426470756531, 0.00022853221162222326, 0.08702664822340012, 0.0003561899939086288, 0.0016991375014185905, 0.001983392285183072, 0.00042856333311647177, 0.059669677168130875, 0.01197738479822874, 0.7732462286949158, 0.0, 0.0, 0.0], [0.05880697816610336, 0.0034278652165085077, 0.002472979947924614, 0.002553350292146206, 0.0018203563522547483, 0.008824395947158337, 0.0005282139754854143, 0.07676820456981659, 0.005731947720050812, 0.0028940257616341114, 0.8361716866493225, 0.0, 0.0], [0.03926703333854675, 0.0029869333375245333, 0.000620356819126755, 0.0003090476675424725, 0.0050596692599356174, 0.0004778095171786845, 0.0010094235185533762, 0.04874047636985779, 0.0005930634797550738, 0.0010948199778795242, 0.0010905828094109893, 0.8987507820129395, 0.0], [0.11707605421543121, 0.009901116602122784, 0.007413550280034542, 0.0010532523738220334, 0.009406423196196556, 0.01154404878616333, 0.001494908588938415, 0.09454160183668137, 0.00969637930393219, 0.012119237333536148, 0.010109424591064453, 0.052122898399829865, 0.6635211110115051]]], [[[1.0, 0.0, 0.0, 0.0, 0.0, 0.0, 0.0, 0.0, 0.0, 0.0, 0.0, 0.0, 0.0], [0.894531786441803, 0.10546824336051941, 0.0, 0.0, 0.0, 0.0, 0.0, 0.0, 0.0, 0.0, 0.0, 0.0, 0.0], [0.7060136198997498, 0.2437247782945633, 0.05026165023446083, 0.0, 0.0, 0.0, 0.0, 0.0, 0.0, 0.0, 0.0, 0.0, 0.0], [0.4982607364654541, 0.21381953358650208, 0.12946517765522003, 0.1584545522928238, 0.0, 0.0, 0.0, 0.0, 0.0, 0.0, 0.0, 0.0, 0.0], [0.33549121022224426, 0.10566560178995132, 0.05117207020521164, 0.26286637783050537, 0.2448047697544098, 0.0, 0.0, 0.0, 0.0, 0.0, 0.0, 0.0, 0.0], [0.2781486213207245, 0.0743459090590477, 0.021985698491334915, 0.10901861637830734, 0.4791748821735382, 0.037326209247112274, 0.0, 0.0, 0.0, 0.0, 0.0, 0.0, 0.0], [0.2795611619949341, 0.05205124616622925, 0.017737416550517082, 0.11980848759412766, 0.4400290846824646, 0.05813485011458397, 0.03267775475978851, 0.0, 0.0, 0.0, 0.0, 0.0, 0.0], [0.3050647974014282, 0.0766507014632225, 0.08802803605794907, 0.1069524809718132, 0.20992064476013184, 0.08442088216543198, 0.06048732250928879, 0.06847507506608963, 0.0, 0.0, 0.0, 0.0, 0.0], [0.22190342843532562, 0.07416589558124542, 0.08795066922903061, 0.07425476610660553, 0.18793022632598877, 0.0180130023509264, 0.08152958005666733, 0.13987308740615845, 0.1143793985247612, 0.0, 0.0, 0.0, 0.0], [0.2568213939666748, 0.03624218702316284, 0.02475227601826191, 0.0913287028670311, 0.18166258931159973, 0.029651805758476257, 0.06105272099375725, 0.1129733994603157, 0.1052570566534996, 0.10025779157876968, 0.0, 0.0, 0.0], [0.15257060527801514, 0.0412888340651989, 0.006205645855516195, 0.08671344816684723, 0.11414600908756256, 0.03623829409480095, 0.021211814135313034, 0.11121735721826553, 0.14058420062065125, 0.07966921478509903, 0.21015463769435883, 0.0, 0.0], [0.1537347286939621, 0.014123562723398209, 0.009744050912559032, 0.045171212404966354, 0.08853553235530853, 0.016130123287439346, 0.022840591147542, 0.07809843122959137, 0.08190254122018814, 0.09087376296520233, 0.275314599275589, 0.12353085726499557, 0.0], [0.1731300950050354, 0.024584084749221802, 0.013907809741795063, 0.04407307505607605, 0.04392346739768982, 0.02280510775744915, 0.01188381016254425, 0.01670878753066063, 0.09271601587533951, 0.07574030011892319, 0.2950057089328766, 0.14293359220027924, 0.04258820414543152]], [[1.0, 0.0, 0.0, 0.0, 0.0, 0.0, 0.0, 0.0, 0.0, 0.0, 0.0, 0.0, 0.0], [0.9841743111610413, 0.01582561433315277, 0.0, 0.0, 0.0, 0.0, 0.0, 0.0, 0.0, 0.0, 0.0, 0.0, 0.0], [0.9386003017425537, 0.045782435685396194, 0.015617243945598602, 0.0, 0.0, 0.0, 0.0, 0.0, 0.0, 0.0, 0.0, 0.0, 0.0], [0.9133095741271973, 0.03874615952372551, 0.01407783292233944, 0.03386641666293144, 0.0, 0.0, 0.0, 0.0, 0.0, 0.0, 0.0, 0.0, 0.0], [0.9747549891471863, 0.010403688065707684, 0.004710694774985313, 0.004265481140464544, 0.005865056999027729, 0.0, 0.0, 0.0, 0.0, 0.0, 0.0, 0.0, 0.0], [0.8091303706169128, 0.0725192204117775, 0.035415083169937134, 0.025638626888394356, 0.03564177080988884, 0.021654874086380005, 0.0, 0.0, 0.0, 0.0, 0.0, 0.0, 0.0], [0.5881682634353638, 0.08564158529043198, 0.052455369383096695, 0.02487056329846382, 0.15616768598556519, 0.02418319135904312, 0.06851332634687424, 0.0, 0.0, 0.0, 0.0, 0.0, 0.0], [0.7143617272377014, 0.025332963094115257, 0.021558508276939392, 0.010837647132575512, 0.016989169642329216, 0.013538328930735588, 0.13156524300575256, 0.06581643968820572, 0.0, 0.0, 0.0, 0.0, 0.0], [0.6725696921348572, 0.04026954248547554, 0.02797378972172737, 0.015557188540697098, 0.020401695743203163, 0.018129877746105194, 0.1237156093120575, 0.07111519575119019, 0.010267401114106178, 0.0, 0.0, 0.0, 0.0], [0.59620600938797, 0.06845312565565109, 0.03333668410778046, 0.015925776213407516, 0.019890617579221725, 0.031614821404218674, 0.11388898640871048, 0.07032956928014755, 0.010924727655947208, 0.039429694414138794, 0.0, 0.0, 0.0], [0.5994414687156677, 0.10052977502346039, 0.025223134085536003, 0.010385267436504364, 0.029694659635424614, 0.018872661516070366, 0.08122380077838898, 0.10117755085229874, 0.0062208701856434345, 0.018138770014047623, 0.009092070162296295, 0.0, 0.0], [0.6542116403579712, 0.031180478632450104, 0.021856961771845818, 0.022699138149619102, 0.03171347454190254, 0.016943924129009247, 0.0794215127825737, 0.057628411799669266, 0.01337047852575779, 0.030506514012813568, 0.020019017159938812, 0.02044837363064289, 0.0], [0.5008093118667603, 0.04807475954294205, 0.030898060649633408, 0.008709507063031197, 0.022286977618932724, 0.011177611537277699, 0.18975409865379333, 0.06212605535984039, 0.0066327122040092945, 0.017298804596066475, 0.017113396897912025, 0.0390191376209259, 0.046099498867988586]], [[1.0, 0.0, 0.0, 0.0, 0.0, 0.0, 0.0, 0.0, 0.0, 0.0, 0.0, 0.0, 0.0], [0.9922656416893005, 0.00773437088355422, 0.0, 0.0, 0.0, 0.0, 0.0, 0.0, 0.0, 0.0, 0.0, 0.0, 0.0], [0.7072914242744446, 0.21287740767002106, 0.0798310860991478, 0.0, 0.0, 0.0, 0.0, 0.0, 0.0, 0.0, 0.0, 0.0, 0.0], [0.20629684627056122, 0.0131813520565629, 0.7680385112762451, 0.012483293190598488, 0.0, 0.0, 0.0, 0.0, 0.0, 0.0, 0.0, 0.0, 0.0], [0.07194964587688446, 0.004927410744130611, 0.1070588082075119, 0.7654407024383545, 0.05062342807650566, 0.0, 0.0, 0.0, 0.0, 0.0, 0.0, 0.0, 0.0], [0.015804920345544815, 0.0016808405052870512, 0.04823954030871391, 0.1060200110077858, 0.777681827545166, 0.05057276040315628, 0.0, 0.0, 0.0, 0.0, 0.0, 0.0, 0.0], [0.18826422095298767, 0.0078296372666955, 0.05016966536641121, 0.04415060952305794, 0.1916176825761795, 0.4870296120643616, 0.03093855269253254, 0.0, 0.0, 0.0, 0.0, 0.0, 0.0], [0.06821203231811523, 0.0039784349501132965, 0.00935694482177496, 0.017520997673273087, 0.023004092276096344, 0.14432303607463837, 0.46913984417915344, 0.2644645869731903, 0.0, 0.0, 0.0, 0.0, 0.0], [0.032533109188079834, 0.0019477764144539833, 0.007219503168016672, 0.007148865610361099, 0.052736546844244, 0.003090369515120983, 0.08215466886758804, 0.7844181656837463, 0.028751028701663017, 0.0, 0.0, 0.0, 0.0], [0.008274056948721409, 8.234503911808133e-05, 1.3763496099272743e-05, 0.0004006068338640034, 0.00223861588165164, 0.005973492283374071, 0.009306104853749275, 0.0810789242386818, 0.8594617247581482, 0.03317023068666458, 0.0, 0.0, 0.0], [0.01180753018707037, 9.906795639835764e-06, 9.24958658288233e-05, 0.00031542350188829005, 0.0004153909394517541, 0.001430089003406465, 0.0035932278260588646, 0.022133367136120796, 0.3037824332714081, 0.6220394372940063, 0.03438058868050575, 0.0, 0.0], [0.011179709807038307, 2.4442679205094464e-05, 0.00022496424207929522, 3.698305954458192e-05, 0.00016419807798229158, 0.00253726402297616, 0.001888062572106719, 0.05436238646507263, 0.153522789478302, 0.24966761469841003, 0.46220502257347107, 0.06418654322624207, 0.0], [0.045996472239494324, 5.4991611250443384e-05, 8.269386307802051e-05, 0.00015959037409629673, 0.0001578812807565555, 0.0004918798804283142, 0.0022758464328944683, 0.005170881282538176, 0.0222176481038332, 0.02087942324578762, 0.023143736645579338, 0.47759780287742615, 0.4017711281776428]], [[1.0, 0.0, 0.0, 0.0, 0.0, 0.0, 0.0, 0.0, 0.0, 0.0, 0.0, 0.0, 0.0], [0.9938109517097473, 0.006189079489558935, 0.0, 0.0, 0.0, 0.0, 0.0, 0.0, 0.0, 0.0, 0.0, 0.0, 0.0], [0.9375607371330261, 0.043405529111623764, 0.019033782184123993, 0.0, 0.0, 0.0, 0.0, 0.0, 0.0, 0.0, 0.0, 0.0, 0.0], [0.5743532180786133, 0.13167384266853333, 0.14921803772449493, 0.14475491642951965, 0.0, 0.0, 0.0, 0.0, 0.0, 0.0, 0.0, 0.0, 0.0], [0.4572853147983551, 0.027253558859229088, 0.030689464882016182, 0.41694197058677673, 0.06782975047826767, 0.0, 0.0, 0.0, 0.0, 0.0, 0.0, 0.0, 0.0], [0.27227163314819336, 0.008924716152250767, 0.024053925648331642, 0.12405016273260117, 0.41430073976516724, 0.15639881789684296, 0.0, 0.0, 0.0, 0.0, 0.0, 0.0, 0.0], [0.12830060720443726, 0.003633915912359953, 0.016660504043102264, 0.04415521398186684, 0.13248829543590546, 0.6340987086296082, 0.0406627282500267, 0.0, 0.0, 0.0, 0.0, 0.0, 0.0], [0.18891122937202454, 0.019817223772406578, 0.0304699819535017, 0.05327795445919037, 0.1538906693458557, 0.37615102529525757, 0.10319365561008453, 0.0742882713675499, 0.0, 0.0, 0.0, 0.0, 0.0], [0.1908692568540573, 0.013140293769538403, 0.010821674950420856, 0.041228558868169785, 0.07883933931589127, 0.18151552975177765, 0.08559224754571915, 0.19413000345230103, 0.20386318862438202, 0.0, 0.0, 0.0, 0.0], [0.15441536903381348, 0.004179324489086866, 0.001531147281639278, 0.024147020652890205, 0.08485237509012222, 0.09295883774757385, 0.026164749637246132, 0.1840175986289978, 0.3536614179611206, 0.07407218962907791, 0.0, 0.0, 0.0], [0.10246603190898895, 0.0030159330926835537, 0.0031992713920772076, 0.01730562373995781, 0.03401802480220795, 0.09668216854333878, 0.01548018492758274, 0.07106714695692062, 0.3139735758304596, 0.2174815833568573, 0.12531046569347382, 0.0, 0.0], [0.06443686038255692, 0.00132963084615767, 0.0013630060711875558, 0.01594788022339344, 0.019632061943411827, 0.04073574021458626, 0.01838628575205803, 0.0511036142706871, 0.19982512295246124, 0.07494732737541199, 0.3645670413970947, 0.14772546291351318, 0.0], [0.1471361666917801, 0.0031155808828771114, 0.0038127051666378975, 0.006768188439309597, 0.01747026853263378, 0.02490965463221073, 0.009996526874601841, 0.013963092118501663, 0.15570168197155, 0.10318523645401001, 0.16110500693321228, 0.22211866080760956, 0.13071715831756592]], [[1.0, 0.0, 0.0, 0.0, 0.0, 0.0, 0.0, 0.0, 0.0, 0.0, 0.0, 0.0, 0.0], [0.9688039422035217, 0.031196102499961853, 0.0, 0.0, 0.0, 0.0, 0.0, 0.0, 0.0, 0.0, 0.0, 0.0, 0.0], [0.8618345260620117, 0.07611145079135895, 0.06205398961901665, 0.0, 0.0, 0.0, 0.0, 0.0, 0.0, 0.0, 0.0, 0.0, 0.0], [0.7218682169914246, 0.02733757719397545, 0.2290935218334198, 0.02170068584382534, 0.0, 0.0, 0.0, 0.0, 0.0, 0.0, 0.0, 0.0, 0.0], [0.45747607946395874, 0.0312683992087841, 0.18837077915668488, 0.26807573437690735, 0.05480899661779404, 0.0, 0.0, 0.0, 0.0, 0.0, 0.0, 0.0, 0.0], [0.4343410134315491, 0.03675069287419319, 0.08903436362743378, 0.22324854135513306, 0.18878090381622314, 0.02784440666437149, 0.0, 0.0, 0.0, 0.0, 0.0, 0.0, 0.0], [0.35039523243904114, 0.04986558109521866, 0.06656890362501144, 0.04121660813689232, 0.023121941834688187, 0.4510203003883362, 0.01781136356294155, 0.0, 0.0, 0.0, 0.0, 0.0, 0.0], [0.34168174862861633, 0.04124301299452782, 0.05940234288573265, 0.029141562059521675, 0.09660526365041733, 0.10475382208824158, 0.028633417561650276, 0.2985388934612274, 0.0, 0.0, 0.0, 0.0, 0.0], [0.40835297107696533, 0.0030229969415813684, 0.00796600989997387, 0.005413712467998266, 0.01739448867738247, 0.004238595254719257, 0.00801968015730381, 0.5390807390213013, 0.006510792300105095, 0.0, 0.0, 0.0, 0.0], [0.3040432929992676, 0.003329657716676593, 0.0014735858421772718, 0.000692801724653691, 0.006416284013539553, 0.012062827125191689, 0.0004941272782161832, 0.35805338621139526, 0.20052242279052734, 0.1129116341471672, 0.0, 0.0, 0.0], [0.1250142902135849, 0.00030914341914467514, 0.005065225064754486, 0.019062243402004242, 0.004764433018863201, 0.0006905587506480515, 7.482206274289638e-05, 0.13949823379516602, 0.16800522804260254, 0.5291010737419128, 0.008414693176746368, 0.0, 0.0], [0.13170085847377777, 0.0014331282582134008, 0.007772061042487621, 0.0006593546713702381, 0.0008916449151001871, 0.0040494524873793125, 0.003189842216670513, 0.1648399978876114, 0.3473362624645233, 0.1717815101146698, 0.14243367314338684, 0.023912161588668823, 0.0], [0.39583107829093933, 0.003220097627490759, 0.006110453046858311, 0.011495285667479038, 0.00394077505916357, 0.002465084195137024, 0.0006104741478338838, 0.06790949404239655, 0.03049750253558159, 0.10784631222486496, 0.034378159791231155, 0.09170141071081161, 0.24399390816688538]], [[1.0, 0.0, 0.0, 0.0, 0.0, 0.0, 0.0, 0.0, 0.0, 0.0, 0.0, 0.0, 0.0], [0.9393553733825684, 0.06064458191394806, 0.0, 0.0, 0.0, 0.0, 0.0, 0.0, 0.0, 0.0, 0.0, 0.0, 0.0], [0.5541632771492004, 0.2892123758792877, 0.15662433207035065, 0.0, 0.0, 0.0, 0.0, 0.0, 0.0, 0.0, 0.0, 0.0, 0.0], [0.3369828462600708, 0.169810488820076, 0.450328528881073, 0.04287814348936081, 0.0, 0.0, 0.0, 0.0, 0.0, 0.0, 0.0, 0.0, 0.0], [0.3145623207092285, 0.06132872775197029, 0.32182663679122925, 0.19315458834171295, 0.10912766307592392, 0.0, 0.0, 0.0, 0.0, 0.0, 0.0, 0.0, 0.0], [0.24515283107757568, 0.033038049936294556, 0.18348504602909088, 0.0844130590558052, 0.3657704293727875, 0.08814066648483276, 0.0, 0.0, 0.0, 0.0, 0.0, 0.0, 0.0], [0.14800190925598145, 0.031073659658432007, 0.14015977084636688, 0.02970670536160469, 0.29517292976379395, 0.29504886269569397, 0.06083616614341736, 0.0, 0.0, 0.0, 0.0, 0.0, 0.0], [0.15652720630168915, 0.024677839130163193, 0.07708865404129028, 0.015128172934055328, 0.06559044122695923, 0.10599109530448914, 0.1293502151966095, 0.42564627528190613, 0.0, 0.0, 0.0, 0.0, 0.0], [0.07351835072040558, 0.004982237704098225, 0.008963932283222675, 0.00806268211454153, 0.011607981286942959, 0.01882820762693882, 0.060451824218034744, 0.7307299971580505, 0.0828547477722168, 0.0, 0.0, 0.0, 0.0], [0.07095000147819519, 0.0021022246219217777, 0.0007231477648019791, 0.0037889115046709776, 0.006935797166079283, 0.012522474862635136, 0.020424723625183105, 0.5746896862983704, 0.2116827368736267, 0.09618031233549118, 0.0, 0.0, 0.0], [0.06153063848614693, 0.002376171760261059, 0.0025056502781808376, 0.0015259507345035672, 0.008184867911040783, 0.016663143411278725, 0.013630022294819355, 0.3453434407711029, 0.19714049994945526, 0.26188305020332336, 0.08921651542186737, 0.0, 0.0], [0.049862101674079895, 0.001420363667421043, 0.0026801894418895245, 0.0022138592321425676, 0.005746858660131693, 0.01008148305118084, 0.010730454698204994, 0.20947696268558502, 0.11247442662715912, 0.19569902122020721, 0.3609534800052643, 0.03866083547472954, 0.0], [0.14476515352725983, 0.001950336154550314, 0.0034098667092621326, 0.0016585106495767832, 0.003681536065414548, 0.007063555531203747, 0.010024693794548512, 0.05344214662909508, 0.029813887551426888, 0.08691052347421646, 0.07735907286405563, 0.05754790082573891, 0.5223727822303772]], [[1.0, 0.0, 0.0, 0.0, 0.0, 0.0, 0.0, 0.0, 0.0, 0.0, 0.0, 0.0, 0.0], [0.9861267805099487, 0.013873201794922352, 0.0, 0.0, 0.0, 0.0, 0.0, 0.0, 0.0, 0.0, 0.0, 0.0, 0.0], [0.9559652209281921, 0.02054794505238533, 0.023486774414777756, 0.0, 0.0, 0.0, 0.0, 0.0, 0.0, 0.0, 0.0, 0.0, 0.0], [0.8798975348472595, 0.027045894414186478, 0.026238804683089256, 0.06681773066520691, 0.0, 0.0, 0.0, 0.0, 0.0, 0.0, 0.0, 0.0, 0.0], [0.7769550681114197, 0.020556241273880005, 0.032087188214063644, 0.060214053839445114, 0.11018748581409454, 0.0, 0.0, 0.0, 0.0, 0.0, 0.0, 0.0, 0.0], [0.7602056860923767, 0.014163312502205372, 0.024267910048365593, 0.037758536636829376, 0.10371240973472595, 0.05989215523004532, 0.0, 0.0, 0.0, 0.0, 0.0, 0.0, 0.0], [0.7795438170433044, 0.009407362900674343, 0.021646426990628242, 0.027740241959691048, 0.0871439129114151, 0.05140577256679535, 0.023112410679459572, 0.0, 0.0, 0.0, 0.0, 0.0, 0.0], [0.4785389006137848, 0.016936512663960457, 0.023844171315431595, 0.032217640429735184, 0.07289997488260269, 0.035441525280475616, 0.03599298745393753, 0.3041282892227173, 0.0, 0.0, 0.0, 0.0, 0.0], [0.2745901346206665, 0.02384076453745365, 0.025301923975348473, 0.03365560993552208, 0.07663512229919434, 0.026227248832583427, 0.04033859446644783, 0.4110853672027588, 0.08832519501447678, 0.0, 0.0, 0.0, 0.0], [0.2558738887310028, 0.019420631229877472, 0.008496751077473164, 0.02907661348581314, 0.06263833492994308, 0.026730898767709732, 0.03232806548476219, 0.387381911277771, 0.13507327437400818, 0.04297962039709091, 0.0, 0.0, 0.0], [0.17831747233867645, 0.020218579098582268, 0.007900884374976158, 0.02498420886695385, 0.0527232401072979, 0.03184658661484718, 0.0222155824303627, 0.41039466857910156, 0.12372171133756638, 0.04303837940096855, 0.08463869243860245, 0.0, 0.0], [0.22956325113773346, 0.01334532443434, 0.006271058693528175, 0.01970546692609787, 0.04175769165158272, 0.029824893921613693, 0.029538510367274284, 0.31311923265457153, 0.11861661076545715, 0.029258107766509056, 0.09229940176010132, 0.07670044153928757, 0.0], [0.19812992215156555, 0.009326493367552757, 0.005801018327474594, 0.019686296582221985, 0.0298797357827425, 0.01589224860072136, 0.014598588459193707, 0.1758231669664383, 0.08041707426309586, 0.02257431298494339, 0.052009303122758865, 0.04824184626340866, 0.3276200592517853]], [[1.0, 0.0, 0.0, 0.0, 0.0, 0.0, 0.0, 0.0, 0.0, 0.0, 0.0, 0.0, 0.0], [0.7502074837684631, 0.24979248642921448, 0.0, 0.0, 0.0, 0.0, 0.0, 0.0, 0.0, 0.0, 0.0, 0.0, 0.0], [0.5464401841163635, 0.12407051026821136, 0.32948926091194153, 0.0, 0.0, 0.0, 0.0, 0.0, 0.0, 0.0, 0.0, 0.0, 0.0], [0.412720650434494, 0.09450268000364304, 0.21766440570354462, 0.2751123309135437, 0.0, 0.0, 0.0, 0.0, 0.0, 0.0, 0.0, 0.0, 0.0], [0.3015235662460327, 0.05594407021999359, 0.15481555461883545, 0.22240737080574036, 0.2653094530105591, 0.0, 0.0, 0.0, 0.0, 0.0, 0.0, 0.0, 0.0], [0.21929505467414856, 0.049015287309885025, 0.1265728920698166, 0.13392336666584015, 0.19349099695682526, 0.2777024209499359, 0.0, 0.0, 0.0, 0.0, 0.0, 0.0, 0.0], [0.20059765875339508, 0.038946185261011124, 0.09628202766180038, 0.10350357741117477, 0.1329750120639801, 0.18474403023719788, 0.24295149743556976, 0.0, 0.0, 0.0, 0.0, 0.0, 0.0], [0.14394307136535645, 0.030807754024863243, 0.07286889851093292, 0.08254098892211914, 0.10072608292102814, 0.15310697257518768, 0.20983271300792694, 0.20617347955703735, 0.0, 0.0, 0.0, 0.0, 0.0], [0.1369997262954712, 0.02266482450067997, 0.051246948540210724, 0.054954398423433304, 0.07419008016586304, 0.09405649453401566, 0.11259539425373077, 0.1476975679397583, 0.3055945932865143, 0.0, 0.0, 0.0, 0.0], [0.10971320420503616, 0.018521692603826523, 0.03943917900323868, 0.041312407702207565, 0.06503205001354218, 0.07288498431444168, 0.08224526792764664, 0.10756944864988327, 0.23921217024326324, 0.22406964004039764, 0.0, 0.0, 0.0], [0.09784851223230362, 0.017208414152264595, 0.033833593130111694, 0.03630932793021202, 0.04653669893741608, 0.06417699158191681, 0.07271579653024673, 0.0854097381234169, 0.20135369896888733, 0.19614920020103455, 0.14845797419548035, 0.0, 0.0], [0.09997054934501648, 0.015512344427406788, 0.029063373804092407, 0.0317956805229187, 0.044002532958984375, 0.047234587371349335, 0.061525505036115646, 0.08386872708797455, 0.1482904702425003, 0.14464327692985535, 0.14736132323741913, 0.14673160016536713, 0.0], [0.07854581624269485, 0.014313923195004463, 0.024502836167812347, 0.02455185167491436, 0.031445425003767014, 0.04159366339445114, 0.05512532591819763, 0.05516672879457474, 0.13256913423538208, 0.11076067388057709, 0.11120191961526871, 0.11580583453178406, 0.2044169008731842]], [[1.0, 0.0, 0.0, 0.0, 0.0, 0.0, 0.0, 0.0, 0.0, 0.0, 0.0, 0.0, 0.0], [0.9765095710754395, 0.023490356281399727, 0.0, 0.0, 0.0, 0.0, 0.0, 0.0, 0.0, 0.0, 0.0, 0.0, 0.0], [0.7632939219474792, 0.12099496275186539, 0.11571111530065536, 0.0, 0.0, 0.0, 0.0, 0.0, 0.0, 0.0, 0.0, 0.0, 0.0], [0.28852808475494385, 0.014233359135687351, 0.6675237417221069, 0.029714815318584442, 0.0, 0.0, 0.0, 0.0, 0.0, 0.0, 0.0, 0.0, 0.0], [0.13738088309764862, 0.009420149028301239, 0.33322516083717346, 0.47314268350601196, 0.04683110862970352, 0.0, 0.0, 0.0, 0.0, 0.0, 0.0, 0.0, 0.0], [0.1332281231880188, 0.005564832128584385, 0.16699616611003876, 0.1413707137107849, 0.5313591957092285, 0.021481022238731384, 0.0, 0.0, 0.0, 0.0, 0.0, 0.0, 0.0], [0.16035544872283936, 0.009389204904437065, 0.17353366315364838, 0.08324144035577774, 0.45828840136528015, 0.08734466880559921, 0.02784722112119198, 0.0, 0.0, 0.0, 0.0, 0.0, 0.0], [0.10668429732322693, 0.020677559077739716, 0.24688228964805603, 0.09173725545406342, 0.2568410634994507, 0.06402279436588287, 0.0958697572350502, 0.11728493869304657, 0.0, 0.0, 0.0, 0.0, 0.0], [0.1576719731092453, 0.010763445869088173, 0.12976743280887604, 0.02385682798922062, 0.18632180988788605, 0.010356629267334938, 0.05747782438993454, 0.3436700403690338, 0.08011402189731598, 0.0, 0.0, 0.0, 0.0], [0.165646031498909, 0.00592280738055706, 0.005191726144403219, 0.024669012054800987, 0.11180853098630905, 0.008265814743936062, 0.009281203150749207, 0.2851692736148834, 0.08121880888938904, 0.30282682180404663, 0.0, 0.0, 0.0], [0.04040289670228958, 0.0009441911242902279, 0.012292526662349701, 0.0027786302380263805, 0.025113968178629875, 0.008468595333397388, 0.007050059270113707, 0.07136453688144684, 0.042048048228025436, 0.749788224697113, 0.03974831849336624, 0.0, 0.0], [0.07459679245948792, 0.0005312211578711867, 0.010325807146728039, 0.0010079863714054227, 0.015466708689928055, 0.011032553389668465, 0.00575527548789978, 0.1168876513838768, 0.06769682466983795, 0.5848729610443115, 0.06577621400356293, 0.04604995250701904, 0.0], [0.08970915526151657, 0.0024896711111068726, 0.01580304466187954, 0.008106965571641922, 0.018903661519289017, 0.00702586630359292, 0.009691877290606499, 0.020309215411543846, 0.05599512532353401, 0.3104501962661743, 0.1306770294904709, 0.1728789359331131, 0.1579592376947403]], [[1.0, 0.0, 0.0, 0.0, 0.0, 0.0, 0.0, 0.0, 0.0, 0.0, 0.0, 0.0, 0.0], [0.920911431312561, 0.07908862084150314, 0.0, 0.0, 0.0, 0.0, 0.0, 0.0, 0.0, 0.0, 0.0, 0.0, 0.0], [0.3747607171535492, 0.6100094318389893, 0.015229898504912853, 0.0, 0.0, 0.0, 0.0, 0.0, 0.0, 0.0, 0.0, 0.0, 0.0], [0.26291173696517944, 0.6297686696052551, 0.04805975407361984, 0.05925988033413887, 0.0, 0.0, 0.0, 0.0, 0.0, 0.0, 0.0, 0.0, 0.0], [0.30252373218536377, 0.2516343593597412, 0.042970407754182816, 0.3688671290874481, 0.03400435671210289, 0.0, 0.0, 0.0, 0.0, 0.0, 0.0, 0.0, 0.0], [0.20799820125102997, 0.19557538628578186, 0.041023533791303635, 0.2801174223423004, 0.16847655177116394, 0.1068088486790657, 0.0, 0.0, 0.0, 0.0, 0.0, 0.0, 0.0], [0.22391927242279053, 0.05382036790251732, 0.04057382419705391, 0.06503504514694214, 0.12285738438367844, 0.3774753510951996, 0.11631879955530167, 0.0, 0.0, 0.0, 0.0, 0.0, 0.0], [0.0781855434179306, 0.040341656655073166, 0.009044911712408066, 0.04357486963272095, 0.04776424914598465, 0.12147510051727295, 0.5662785172462463, 0.09333516657352448, 0.0, 0.0, 0.0, 0.0, 0.0], [0.0949573740363121, 0.04253902658820152, 0.008237723261117935, 0.05785585567355156, 0.03918848931789398, 0.06606889516115189, 0.26123031973838806, 0.28874465823173523, 0.1411776840686798, 0.0, 0.0, 0.0, 0.0], [0.07106875628232956, 0.023197604343295097, 0.0012497277930378914, 0.015894223004579544, 0.024414991959929466, 0.0404999777674675, 0.19492554664611816, 0.25179946422576904, 0.3057347238063812, 0.07121496647596359, 0.0, 0.0, 0.0], [0.04907745495438576, 0.008265940472483635, 0.001773845637217164, 0.017523987218737602, 0.008839435875415802, 0.01880037784576416, 0.10854440182447433, 0.1568005084991455, 0.40175145864486694, 0.16211697459220886, 0.06650562584400177, 0.0, 0.0], [0.10862259566783905, 0.012224472127854824, 0.0021287233103066683, 0.007319917902350426, 0.005532986018806696, 0.035359714180231094, 0.050927385687828064, 0.09001133590936661, 0.2392183244228363, 0.07021784782409668, 0.19440315663814545, 0.1840335577726364, 0.0], [0.06917589902877808, 0.004613381344825029, 0.0008339280029758811, 0.0031608580611646175, 0.0027966501656919718, 0.006491996813565493, 0.03968936949968338, 0.012521389871835709, 0.04676613211631775, 0.020630208775401115, 0.06491930037736893, 0.5439387559890747, 0.1844620406627655]], [[1.0, 0.0, 0.0, 0.0, 0.0, 0.0, 0.0, 0.0, 0.0, 0.0, 0.0, 0.0, 0.0], [0.8312126994132996, 0.16878727078437805, 0.0, 0.0, 0.0, 0.0, 0.0, 0.0, 0.0, 0.0, 0.0, 0.0, 0.0], [0.7008376121520996, 0.14153248071670532, 0.15762993693351746, 0.0, 0.0, 0.0, 0.0, 0.0, 0.0, 0.0, 0.0, 0.0, 0.0], [0.557111382484436, 0.12451223284006119, 0.1391455978155136, 0.1792307198047638, 0.0, 0.0, 0.0, 0.0, 0.0, 0.0, 0.0, 0.0, 0.0], [0.47312796115875244, 0.09625084698200226, 0.10592162609100342, 0.14564578235149384, 0.17905376851558685, 0.0, 0.0, 0.0, 0.0, 0.0, 0.0, 0.0, 0.0], [0.36731037497520447, 0.09127400815486908, 0.10427691787481308, 0.11739756911993027, 0.15815719962120056, 0.16158390045166016, 0.0, 0.0, 0.0, 0.0, 0.0, 0.0, 0.0], [0.3328654170036316, 0.07867247611284256, 0.08325193077325821, 0.08786315470933914, 0.13721302151679993, 0.10695675760507584, 0.17317722737789154, 0.0, 0.0, 0.0, 0.0, 0.0, 0.0], [0.3608299493789673, 0.06788945198059082, 0.05947596952319145, 0.07546580582857132, 0.08339118957519531, 0.08987179398536682, 0.13318321108818054, 0.12989266216754913, 0.0, 0.0, 0.0, 0.0, 0.0], [0.23832722008228302, 0.05981473997235298, 0.06168930605053902, 0.06648324429988861, 0.07970302551984787, 0.08011632412672043, 0.0996289774775505, 0.12967023253440857, 0.18456695973873138, 0.0, 0.0, 0.0, 0.0], [0.2028813511133194, 0.04838404431939125, 0.054500531405210495, 0.06169744208455086, 0.07738125324249268, 0.060963090509176254, 0.07055777311325073, 0.11922197043895721, 0.15402734279632568, 0.15038520097732544, 0.0, 0.0, 0.0], [0.14483138918876648, 0.04180276021361351, 0.045173123478889465, 0.050411153584718704, 0.06267085671424866, 0.05650055408477783, 0.06135188788175583, 0.08677107095718384, 0.14949290454387665, 0.16261692345142365, 0.138377383351326, 0.0, 0.0], [0.1329389065504074, 0.03220433369278908, 0.0307330135256052, 0.04144113510847092, 0.05882225185632706, 0.041202593594789505, 0.0573083870112896, 0.08902473747730255, 0.12721626460552216, 0.11080198734998703, 0.11696676164865494, 0.16133959591388702, 0.0], [0.13715603947639465, 0.0304696187376976, 0.02625652775168419, 0.03436383977532387, 0.03825780376791954, 0.038290999829769135, 0.05716311186552048, 0.06182344630360603, 0.09275542199611664, 0.07333125174045563, 0.09227187186479568, 0.13724590837955475, 0.1806141436100006]], [[1.0, 0.0, 0.0, 0.0, 0.0, 0.0, 0.0, 0.0, 0.0, 0.0, 0.0, 0.0, 0.0], [0.9175162315368652, 0.08248378336429596, 0.0, 0.0, 0.0, 0.0, 0.0, 0.0, 0.0, 0.0, 0.0, 0.0, 0.0], [0.8487105965614319, 0.0711880698800087, 0.08010128140449524, 0.0, 0.0, 0.0, 0.0, 0.0, 0.0, 0.0, 0.0, 0.0, 0.0], [0.7962356805801392, 0.06061745434999466, 0.06903135776519775, 0.0741155594587326, 0.0, 0.0, 0.0, 0.0, 0.0, 0.0, 0.0, 0.0, 0.0], [0.764711320400238, 0.04079426825046539, 0.05269597843289375, 0.06622156500816345, 0.07557690143585205, 0.0, 0.0, 0.0, 0.0, 0.0, 0.0, 0.0, 0.0], [0.6961514949798584, 0.04216407611966133, 0.05318721756339073, 0.04877898097038269, 0.06706741452217102, 0.09265078604221344, 0.0, 0.0, 0.0, 0.0, 0.0, 0.0, 0.0], [0.680112361907959, 0.030040312558412552, 0.03351512923836708, 0.038402702659368515, 0.048360809683799744, 0.07428522408008575, 0.09528344869613647, 0.0, 0.0, 0.0, 0.0, 0.0, 0.0], [0.6789252758026123, 0.025935916230082512, 0.023402797058224678, 0.026538843289017677, 0.03605811670422554, 0.04994085803627968, 0.08113627880811691, 0.07806192338466644, 0.0, 0.0, 0.0, 0.0, 0.0], [0.6536127328872681, 0.020315544679760933, 0.021943069994449615, 0.024195212870836258, 0.029823878780007362, 0.03957153484225273, 0.04821249470114708, 0.07340420037508011, 0.08892129361629486, 0.0, 0.0, 0.0, 0.0], [0.6373170018196106, 0.016586793586611748, 0.016698727384209633, 0.01951099932193756, 0.026945123448967934, 0.030780581757426262, 0.03913477435708046, 0.06283530592918396, 0.07623058557510376, 0.07396005094051361, 0.0, 0.0, 0.0], [0.5936210751533508, 0.013917035423219204, 0.015144678764045238, 0.017554936930537224, 0.024857448413968086, 0.031236348673701286, 0.03856559842824936, 0.04939586669206619, 0.06954291462898254, 0.0767350122332573, 0.06942913681268692, 0.0, 0.0], [0.6025925874710083, 0.009605632163584232, 0.009609260596334934, 0.013347799889743328, 0.021460603922605515, 0.020845357328653336, 0.0303354449570179, 0.04532356560230255, 0.05947267636656761, 0.05015776678919792, 0.06023779511451721, 0.07701154053211212, 0.0], [0.6358377933502197, 0.009827796369791031, 0.008783753961324692, 0.009943714365363121, 0.013479621149599552, 0.01747611165046692, 0.024730296805500984, 0.02565186470746994, 0.040700700134038925, 0.03308946639299393, 0.043878644704818726, 0.05729131028056145, 0.07930898666381836]]], [[[1.0, 0.0, 0.0, 0.0, 0.0, 0.0, 0.0, 0.0, 0.0, 0.0, 0.0, 0.0, 0.0], [0.9853324294090271, 0.014667512848973274, 0.0, 0.0, 0.0, 0.0, 0.0, 0.0, 0.0, 0.0, 0.0, 0.0, 0.0], [0.9817646741867065, 0.00014692198601551354, 0.018088430166244507, 0.0, 0.0, 0.0, 0.0, 0.0, 0.0, 0.0, 0.0, 0.0, 0.0], [0.981575608253479, 8.150011854013428e-05, 0.00021446654864121228, 0.01812845654785633, 0.0, 0.0, 0.0, 0.0, 0.0, 0.0, 0.0, 0.0, 0.0], [0.975620687007904, 0.00031649169977754354, 0.00035540384124033153, 4.0877795981941745e-05, 0.02366645261645317, 0.0, 0.0, 0.0, 0.0, 0.0, 0.0, 0.0, 0.0], [0.9399102926254272, 0.00014901302347425371, 0.0005027037113904953, 9.495340782450512e-05, 3.909513907274231e-05, 0.05930390954017639, 0.0, 0.0, 0.0, 0.0, 0.0, 0.0, 0.0], [0.883740246295929, 0.0007398960879072547, 0.00076047278707847, 2.9332430131034926e-05, 1.785693530109711e-05, 6.935557030374184e-05, 0.11464277654886246, 0.0, 0.0, 0.0, 0.0, 0.0, 0.0], [0.9860799908638, 0.0016050388803705573, 0.004013716708868742, 0.0003330427862238139, 0.000996252172626555, 0.001721843727864325, 0.00039862608537077904, 0.00485156150534749, 0.0, 0.0, 0.0, 0.0, 0.0], [0.9662668704986572, 0.0004324910696595907, 0.0022543328814208508, 5.113357110531069e-05, 0.0002319479244761169, 0.0054915244691073895, 0.00010500175994820893, 0.004508448764681816, 0.020658306777477264, 0.0, 0.0, 0.0, 0.0], [0.9408870339393616, 9.054169640876353e-05, 0.016739077866077423, 0.0005421765381470323, 0.0005318427574820817, 0.0017587648471817374, 9.212197255692445e-06, 0.003429147182032466, 0.0010200260439887643, 0.03499218076467514, 0.0, 0.0, 0.0], [0.9063323736190796, 0.0009256022167392075, 0.0011632266687229276, 0.00013141044473741204, 0.00040096064913086593, 0.004864575807005167, 3.308938175905496e-05, 0.005074208602309227, 0.0004901043721474707, 0.00023436815536115319, 0.08035019785165787, 0.0, 0.0], [0.8872150778770447, 0.0036159828305244446, 0.0006832857616245747, 0.00027708723791874945, 0.0006073833210393786, 0.0002558276755735278, 4.4855223677586764e-05, 0.005111053120344877, 0.00012208912812639028, 5.1774979510810226e-05, 0.00012016249820590019, 0.10189539194107056, 0.0], [0.9106407761573792, 0.0043040611781179905, 0.002758848713710904, 0.0006857222761027515, 0.0012113787233829498, 0.007044265046715736, 0.00012496842828113586, 0.006855503655970097, 0.011806029826402664, 0.0007436118903569877, 0.0007636409718543291, 0.0009402727009728551, 0.05212080851197243]], [[1.0, 0.0, 0.0, 0.0, 0.0, 0.0, 0.0, 0.0, 0.0, 0.0, 0.0, 0.0, 0.0], [0.9925317168235779, 0.0074682775884866714, 0.0, 0.0, 0.0, 0.0, 0.0, 0.0, 0.0, 0.0, 0.0, 0.0, 0.0], [0.8910534381866455, 0.04255916550755501, 0.06638740003108978, 0.0, 0.0, 0.0, 0.0, 0.0, 0.0, 0.0, 0.0, 0.0, 0.0], [0.79035884141922, 0.03925000876188278, 0.1266470104455948, 0.043744124472141266, 0.0, 0.0, 0.0, 0.0, 0.0, 0.0, 0.0, 0.0, 0.0], [0.7979311347007751, 0.010701005347073078, 0.07474897801876068, 0.05348239094018936, 0.06313643604516983, 0.0, 0.0, 0.0, 0.0, 0.0, 0.0, 0.0, 0.0], [0.8051448464393616, 0.008542495779693127, 0.06716600060462952, 0.039247121661901474, 0.04765027016401291, 0.03224925696849823, 0.0, 0.0, 0.0, 0.0, 0.0, 0.0, 0.0], [0.6910317540168762, 0.01404503732919693, 0.06852548569440842, 0.0572926290333271, 0.09883426129817963, 0.04854193702340126, 0.02172883041203022, 0.0, 0.0, 0.0, 0.0, 0.0, 0.0], [0.5930818915367126, 0.009744599461555481, 0.09202750772237778, 0.04664302617311478, 0.10709138959646225, 0.04783158376812935, 0.007990701124072075, 0.09558939188718796, 0.0, 0.0, 0.0, 0.0, 0.0], [0.6087194681167603, 0.0082918182015419, 0.06281216442584991, 0.02865396998822689, 0.0353354811668396, 0.022958267480134964, 0.05340182036161423, 0.1509820520877838, 0.028844932094216347, 0.0, 0.0, 0.0, 0.0], [0.5614652633666992, 0.0041403085924685, 0.007966715842485428, 0.010283575393259525, 0.01231889333575964, 0.016437193378806114, 0.02514757215976715, 0.2231355905532837, 0.06764677166938782, 0.07145816087722778, 0.0, 0.0, 0.0], [0.5466968417167664, 0.001935304026119411, 0.011615955270826817, 0.0030525745823979378, 0.007268292363733053, 0.010852991603314877, 0.0053573837503790855, 0.19971609115600586, 0.12291289120912552, 0.07943664491176605, 0.011154981330037117, 0.0, 0.0], [0.40833038091659546, 0.0007228871108964086, 0.004639261867851019, 0.0017459476366639137, 0.008096851408481598, 0.01838274486362934, 0.0033128047361969948, 0.19224615395069122, 0.17701593041419983, 0.070325568318367, 0.10509984940290451, 0.010081610642373562, 0.0], [0.5934075117111206, 0.001688073854893446, 0.011357330717146397, 0.004409912042319775, 0.006169343367218971, 0.008213425055146217, 0.0026487810537219048, 0.04553331062197685, 0.04524114355444908, 0.07608821988105774, 0.07508322596549988, 0.019984202459454536, 0.1101754903793335]], [[1.0, 0.0, 0.0, 0.0, 0.0, 0.0, 0.0, 0.0, 0.0, 0.0, 0.0, 0.0, 0.0], [0.9384011626243591, 0.06159880757331848, 0.0, 0.0, 0.0, 0.0, 0.0, 0.0, 0.0, 0.0, 0.0, 0.0, 0.0], [0.40071937441825867, 0.4657237231731415, 0.13355687260627747, 0.0, 0.0, 0.0, 0.0, 0.0, 0.0, 0.0, 0.0, 0.0, 0.0], [0.21086157858371735, 0.09056071192026138, 0.6518790125846863, 0.046698663383722305, 0.0, 0.0, 0.0, 0.0, 0.0, 0.0, 0.0, 0.0, 0.0], [0.11052130162715912, 0.010533667169511318, 0.2755972445011139, 0.5628398656845093, 0.04050790145993233, 0.0, 0.0, 0.0, 0.0, 0.0, 0.0, 0.0, 0.0], [0.24173344671726227, 0.00475440826267004, 0.07434099912643433, 0.0451560877263546, 0.5792991518974304, 0.05471593886613846, 0.0, 0.0, 0.0, 0.0, 0.0, 0.0, 0.0], [0.14406712353229523, 0.00045190652599558234, 0.007105383090674877, 0.00422753905877471, 0.08488261699676514, 0.7325083613395691, 0.02675708569586277, 0.0, 0.0, 0.0, 0.0, 0.0, 0.0], [0.10198114812374115, 0.02748444490134716, 0.22412194311618805, 0.050145991146564484, 0.23994094133377075, 0.17706122994422913, 0.07724960148334503, 0.10201475024223328, 0.0, 0.0, 0.0, 0.0, 0.0], [0.3521118760108948, 0.014441157691180706, 0.047263678163290024, 0.010064016096293926, 0.07826349884271622, 0.009554598480463028, 0.01103170681744814, 0.33212363719940186, 0.14514583349227905, 0.0, 0.0, 0.0, 0.0], [0.362381249666214, 0.0052862148731946945, 0.0003699899243656546, 0.002548979828134179, 0.022518612444400787, 0.013304861262440681, 0.00974042434245348, 0.18537884950637817, 0.3227316439151764, 0.07573912292718887, 0.0, 0.0, 0.0], [0.34755030274391174, 0.0010218076640740037, 0.0020246326457709074, 0.0060553355142474174, 0.02077260985970497, 0.01583516225218773, 0.010174226947128773, 0.055727653205394745, 0.28148970007896423, 0.19633737206459045, 0.06301120668649673, 0.0, 0.0], [0.057248834520578384, 8.78652062965557e-05, 0.0011753230355679989, 0.0013978779315948486, 0.0038376683369278908, 0.010044790804386139, 0.002701991470530629, 0.007274233736097813, 0.05368688330054283, 0.10927345603704453, 0.7048603892326355, 0.048410627990961075, 0.0], [0.21416211128234863, 0.0007882799254730344, 0.004734535701572895, 0.0037040894385427237, 0.007628815248608589, 0.0074397907592356205, 0.002483437769114971, 0.0049294899217784405, 0.18830618262290955, 0.1412924826145172, 0.17339259386062622, 0.1645033061504364, 0.08663491904735565]], [[1.0, 0.0, 0.0, 0.0, 0.0, 0.0, 0.0, 0.0, 0.0, 0.0, 0.0, 0.0, 0.0], [0.9683164954185486, 0.03168351575732231, 0.0, 0.0, 0.0, 0.0, 0.0, 0.0, 0.0, 0.0, 0.0, 0.0, 0.0], [0.8733319044113159, 0.08803561329841614, 0.038632407784461975, 0.0, 0.0, 0.0, 0.0, 0.0, 0.0, 0.0, 0.0, 0.0, 0.0], [0.7246968150138855, 0.0121229849755764, 0.25117912888526917, 0.012001053430140018, 0.0, 0.0, 0.0, 0.0, 0.0, 0.0, 0.0, 0.0, 0.0], [0.6085420250892639, 0.006939125247299671, 0.08467244356870651, 0.2812286913394928, 0.01861763745546341, 0.0, 0.0, 0.0, 0.0, 0.0, 0.0, 0.0, 0.0], [0.2326865792274475, 0.004127558786422014, 0.01833120547235012, 0.10280192643404007, 0.6292293667793274, 0.012823308818042278, 0.0, 0.0, 0.0, 0.0, 0.0, 0.0, 0.0], [0.8868921399116516, 0.003481858177110553, 0.002701869700103998, 0.0024346818681806326, 0.05072111636400223, 0.02672124281525612, 0.027047133073210716, 0.0, 0.0, 0.0, 0.0, 0.0, 0.0], [0.7155478000640869, 0.0012741165701299906, 0.002231425838544965, 0.002051541581749916, 0.010090215131640434, 0.0241031926125288, 0.0185691025108099, 0.2261325567960739, 0.0, 0.0, 0.0, 0.0, 0.0], [0.6347492933273315, 0.0036397262010723352, 0.007296011317521334, 0.004264757502824068, 0.004569081123918295, 0.0016931529389694333, 0.005876279901713133, 0.3337079584598541, 0.004203706979751587, 0.0, 0.0, 0.0, 0.0], [0.5452101230621338, 0.0022784345783293247, 0.0003686677373480052, 0.004628084599971771, 0.0007698541157878935, 0.0036548299249261618, 0.0020863693207502365, 0.200526162981987, 0.16945871710777283, 0.07101870328187943, 0.0, 0.0, 0.0], [0.628746747970581, 4.6095428842818365e-05, 0.0007066476391628385, 8.28737101983279e-05, 0.0020989696495234966, 0.00028735448722727597, 1.921772309287917e-05, 0.07396086305379868, 0.08567900955677032, 0.19540104269981384, 0.012971142306923866, 0.0, 0.0], [0.7145341634750366, 0.00023839208006393164, 0.0013342566089704633, 0.0002234323910670355, 0.002797464607283473, 0.00031209923326969147, 0.0015527989016845822, 0.05947709083557129, 0.08062290400266647, 0.09872003644704819, 0.024379350244998932, 0.015808096155524254, 0.0], [0.8048041462898254, 8.373428136110306e-05, 0.00010055801249109209, 0.00010856791050173342, 0.0005157283158041537, 0.00019515387248247862, 0.0004527316486928612, 0.01027160044759512, 0.001799718476831913, 0.0018370988545939326, 0.0069657196290791035, 0.02664903551340103, 0.14621613919734955]], [[1.0, 0.0, 0.0, 0.0, 0.0, 0.0, 0.0, 0.0, 0.0, 0.0, 0.0, 0.0, 0.0], [0.9958279728889465, 0.00417197123169899, 0.0, 0.0, 0.0, 0.0, 0.0, 0.0, 0.0, 0.0, 0.0, 0.0, 0.0], [0.9882722496986389, 0.007665517274290323, 0.004062287043780088, 0.0, 0.0, 0.0, 0.0, 0.0, 0.0, 0.0, 0.0, 0.0, 0.0], [0.9863157868385315, 0.007970687001943588, 0.005177798680961132, 0.0005357539630495012, 0.0, 0.0, 0.0, 0.0, 0.0, 0.0, 0.0, 0.0, 0.0], [0.9885244965553284, 0.0033651699777692556, 0.0030430739279836416, 0.0013626293512061238, 0.003704662434756756, 0.0, 0.0, 0.0, 0.0, 0.0, 0.0, 0.0, 0.0], [0.9747138619422913, 0.007698695175349712, 0.003858917159959674, 0.0011169022182002664, 0.00860676635056734, 0.004004757851362228, 0.0, 0.0, 0.0, 0.0, 0.0, 0.0, 0.0], [0.9537574648857117, 0.022788187488913536, 0.003504915162920952, 0.003978827968239784, 0.006104291416704655, 0.0090767377987504, 0.0007895295857451856, 0.0, 0.0, 0.0, 0.0, 0.0, 0.0], [0.9146263599395752, 0.0071189263835549355, 0.009055331349372864, 0.0019849701784551144, 0.010129103437066078, 0.012018821202218533, 0.011077760718762875, 0.03398880735039711, 0.0, 0.0, 0.0, 0.0, 0.0], [0.9312237501144409, 0.006108383648097515, 0.0076842843554914, 0.002110392088070512, 0.004659750033169985, 0.013518531806766987, 0.004319327883422375, 0.0256186556071043, 0.004756943788379431, 0.0, 0.0, 0.0, 0.0], [0.8844515085220337, 0.0024552273098379374, 0.03824382647871971, 0.0015722275711596012, 0.011673512868583202, 0.006270551588386297, 0.003094462212175131, 0.019348792731761932, 0.005250095389783382, 0.027639782056212425, 0.0, 0.0, 0.0], [0.9287735819816589, 0.0020429559517651796, 0.011304757557809353, 0.0004328706709202379, 0.005052746739238501, 0.007156392093747854, 0.005507797002792358, 0.016215315088629723, 0.007207294460386038, 0.014066529460251331, 0.0022396210115402937, 0.0, 0.0], [0.9458499550819397, 0.00646739499643445, 0.005334647372364998, 0.008329430595040321, 0.006288055796176195, 0.0022676887456327677, 0.001199681661091745, 0.011691935360431671, 0.0005283822538331151, 0.0043817856349051, 0.004384709522128105, 0.003276341361925006, 0.0], [0.8747007250785828, 0.007257452234625816, 0.009742332622408867, 0.002790548838675022, 0.009294611401855946, 0.006584810093045235, 0.005161555949598551, 0.026099713519215584, 0.00775999017059803, 0.017273448407649994, 0.007734570652246475, 0.006116215139627457, 0.019484084099531174]], [[1.0, 0.0, 0.0, 0.0, 0.0, 0.0, 0.0, 0.0, 0.0, 0.0, 0.0, 0.0, 0.0], [0.9670198559761047, 0.032980162650346756, 0.0, 0.0, 0.0, 0.0, 0.0, 0.0, 0.0, 0.0, 0.0, 0.0, 0.0], [0.8992175459861755, 0.07410504668951035, 0.026677479967474937, 0.0, 0.0, 0.0, 0.0, 0.0, 0.0, 0.0, 0.0, 0.0, 0.0], [0.914948582649231, 0.029895633459091187, 0.025016700848937035, 0.03013908863067627, 0.0, 0.0, 0.0, 0.0, 0.0, 0.0, 0.0, 0.0, 0.0], [0.8733873963356018, 0.04590316861867905, 0.02375139854848385, 0.025068296119570732, 0.03188972920179367, 0.0, 0.0, 0.0, 0.0, 0.0, 0.0, 0.0, 0.0], [0.7578473091125488, 0.052327513694763184, 0.04169585183262825, 0.038072388619184494, 0.07504955679178238, 0.03500739112496376, 0.0, 0.0, 0.0, 0.0, 0.0, 0.0, 0.0], [0.6105263829231262, 0.05145547166466713, 0.05101897567510605, 0.02236841432750225, 0.08276064693927765, 0.0700320452451706, 0.11183803528547287, 0.0, 0.0, 0.0, 0.0, 0.0, 0.0], [0.4367159605026245, 0.11192020028829575, 0.06920904666185379, 0.04273528233170509, 0.10464508086442947, 0.07994801551103592, 0.11750321835279465, 0.03732319176197052, 0.0, 0.0, 0.0, 0.0, 0.0], [0.2927527129650116, 0.1222710832953453, 0.09640108793973923, 0.04252302646636963, 0.06852547824382782, 0.1064135879278183, 0.20605890452861786, 0.04562019184231758, 0.0194338858127594, 0.0, 0.0, 0.0, 0.0], [0.32356879115104675, 0.0772211104631424, 0.06424450874328613, 0.09702634811401367, 0.08469703048467636, 0.09682822227478027, 0.16211111843585968, 0.04707592353224754, 0.025738701224327087, 0.02148820273578167, 0.0, 0.0, 0.0], [0.4307500720024109, 0.067470021545887, 0.06367624551057816, 0.04841853678226471, 0.03646808862686157, 0.07411081343889236, 0.15052413940429688, 0.052511315792798996, 0.03534246236085892, 0.030217478051781654, 0.010510757565498352, 0.0, 0.0], [0.3151453137397766, 0.0884990245103836, 0.048321474343538284, 0.03528447821736336, 0.04160235449671745, 0.07704339921474457, 0.16419640183448792, 0.04577402397990227, 0.05438439920544624, 0.07371692359447479, 0.017041992396116257, 0.03899022564291954, 0.0], [0.3783547878265381, 0.052892498672008514, 0.05396953970193863, 0.029917050153017044, 0.03322279080748558, 0.0424729585647583, 0.11170521378517151, 0.040074996650218964, 0.048606812953948975, 0.03952386975288391, 0.052077293395996094, 0.0694434866309166, 0.04773867502808571]], [[1.0, 0.0, 0.0, 0.0, 0.0, 0.0, 0.0, 0.0, 0.0, 0.0, 0.0, 0.0, 0.0], [0.9713285565376282, 0.028671495616436005, 0.0, 0.0, 0.0, 0.0, 0.0, 0.0, 0.0, 0.0, 0.0, 0.0, 0.0], [0.511292040348053, 0.2775723338127136, 0.2111356258392334, 0.0, 0.0, 0.0, 0.0, 0.0, 0.0, 0.0, 0.0, 0.0, 0.0], [0.21756523847579956, 0.36932310461997986, 0.39653486013412476, 0.016576791182160378, 0.0, 0.0, 0.0, 0.0, 0.0, 0.0, 0.0, 0.0, 0.0], [0.20329074561595917, 0.11416152119636536, 0.11989887803792953, 0.5155363082885742, 0.04711257293820381, 0.0, 0.0, 0.0, 0.0, 0.0, 0.0, 0.0, 0.0], [0.23821844160556793, 0.01740419678390026, 0.05002670735120773, 0.5530769228935242, 0.09088073670864105, 0.05039309337735176, 0.0, 0.0, 0.0, 0.0, 0.0, 0.0, 0.0], [0.3963083028793335, 0.013212665915489197, 0.0167318694293499, 0.009581443853676319, 0.09761973470449448, 0.2841693162918091, 0.1823766678571701, 0.0, 0.0, 0.0, 0.0, 0.0, 0.0], [0.09464540332555771, 0.11931373178958893, 0.14110727608203888, 0.04766400530934334, 0.08790290355682373, 0.22624462842941284, 0.20766784250736237, 0.07545419037342072, 0.0, 0.0, 0.0, 0.0, 0.0], [0.39863356947898865, 0.07060527801513672, 0.05246831104159355, 0.022896166890859604, 0.02671150304377079, 0.1110043078660965, 0.09661376476287842, 0.12033441662788391, 0.10073262453079224, 0.0, 0.0, 0.0, 0.0], [0.3710530400276184, 0.009959077462553978, 0.006421335972845554, 0.0190206877887249, 0.004710538312792778, 0.029734088107943535, 0.04238687455654144, 0.14632099866867065, 0.3154028654098511, 0.05499052256345749, 0.0, 0.0, 0.0], [0.24175289273262024, 0.031771235167980194, 0.011201785877346992, 0.017728565260767937, 0.006168429274111986, 0.008858595974743366, 0.025938715785741806, 0.10130959004163742, 0.3675060570240021, 0.15313655138015747, 0.03462759405374527, 0.0, 0.0], [0.11503778398036957, 0.006361403036862612, 0.0025617964565753937, 0.001282141194678843, 0.004660622216761112, 0.005224388092756271, 0.04501359164714813, 0.05770345777273178, 0.23341363668441772, 0.12902472913265228, 0.31229183077812195, 0.08742466568946838, 0.0], [0.180695578455925, 0.012321054004132748, 0.008462783880531788, 0.006137513089925051, 0.005412817467004061, 0.009439810179173946, 0.029353341087698936, 0.013246223330497742, 0.2811892628669739, 0.08410976082086563, 0.1980372965335846, 0.07874836772680283, 0.09284614026546478]], [[1.0, 0.0, 0.0, 0.0, 0.0, 0.0, 0.0, 0.0, 0.0, 0.0, 0.0, 0.0, 0.0], [0.905024528503418, 0.09497545659542084, 0.0, 0.0, 0.0, 0.0, 0.0, 0.0, 0.0, 0.0, 0.0, 0.0, 0.0], [0.18851269781589508, 0.7727595567703247, 0.03872770443558693, 0.0, 0.0, 0.0, 0.0, 0.0, 0.0, 0.0, 0.0, 0.0, 0.0], [0.2293328046798706, 0.5469786524772644, 0.19766925275325775, 0.02601928450167179, 0.0, 0.0, 0.0, 0.0, 0.0, 0.0, 0.0, 0.0, 0.0], [0.4649781286716461, 0.18428558111190796, 0.09471193701028824, 0.21832704544067383, 0.03769727796316147, 0.0, 0.0, 0.0, 0.0, 0.0, 0.0, 0.0, 0.0], [0.3151823580265045, 0.01711198128759861, 0.03758198767900467, 0.0494450144469738, 0.520767331123352, 0.05991137772798538, 0.0, 0.0, 0.0, 0.0, 0.0, 0.0, 0.0], [0.5743276476860046, 0.03265149146318436, 0.010616639629006386, 0.004610881675034761, 0.09258726984262466, 0.20711210370063782, 0.0780939906835556, 0.0, 0.0, 0.0, 0.0, 0.0, 0.0], [0.1706039309501648, 0.007906676270067692, 0.007862343452870846, 0.016500912606716156, 0.030078912153840065, 0.0322563610970974, 0.585439920425415, 0.14935097098350525, 0.0, 0.0, 0.0, 0.0, 0.0], [0.2799161970615387, 0.00903445202857256, 0.005159372929483652, 0.016216836869716644, 0.011752026155591011, 0.03182727470993996, 0.23452936112880707, 0.3459356129169464, 0.06562882661819458, 0.0, 0.0, 0.0, 0.0], [0.4175719916820526, 0.007249319460242987, 0.0013356033014133573, 0.013221262954175472, 0.01303668599575758, 0.003980365581810474, 0.059561289846897125, 0.2519475221633911, 0.12159903347492218, 0.11049693077802658, 0.0, 0.0, 0.0], [0.2747514843940735, 0.003939788322895765, 0.002716667018830776, 0.007781291846185923, 0.008785982616245747, 0.002978046191856265, 0.015536135993897915, 0.08220735937356949, 0.3162986934185028, 0.24450458586215973, 0.04050001502037048, 0.0, 0.0], [0.2690204083919525, 0.004165086429566145, 0.003353952197358012, 0.01063998881727457, 0.0015967084327712655, 0.003312374697998166, 0.030268505215644836, 0.0652431920170784, 0.10473087430000305, 0.2673240303993225, 0.03714161738753319, 0.2032032459974289, 0.0], [0.3344535231590271, 0.0007767912466078997, 0.0005681641050614417, 0.0004892871365882456, 0.0024756346829235554, 0.005850967951118946, 0.06229332834482193, 0.014943677932024002, 0.013178760185837746, 0.013201679103076458, 0.012189162895083427, 0.383076012134552, 0.15650306642055511]], [[1.0, 0.0, 0.0, 0.0, 0.0, 0.0, 0.0, 0.0, 0.0, 0.0, 0.0, 0.0, 0.0], [0.9736513495445251, 0.02634861133992672, 0.0, 0.0, 0.0, 0.0, 0.0, 0.0, 0.0, 0.0, 0.0, 0.0, 0.0], [0.641074001789093, 0.0693867951631546, 0.2895392179489136, 0.0, 0.0, 0.0, 0.0, 0.0, 0.0, 0.0, 0.0, 0.0, 0.0], [0.41237956285476685, 0.04338816925883293, 0.4238974452018738, 0.12033485621213913, 0.0, 0.0, 0.0, 0.0, 0.0, 0.0, 0.0, 0.0, 0.0], [0.32785800099372864, 0.01424366794526577, 0.23247727751731873, 0.3666020333766937, 0.05881904810667038, 0.0, 0.0, 0.0, 0.0, 0.0, 0.0, 0.0, 0.0], [0.3065415918827057, 0.0075112441554665565, 0.07515589892864227, 0.06321058422327042, 0.5196827054023743, 0.027897929772734642, 0.0, 0.0, 0.0, 0.0, 0.0, 0.0, 0.0], [0.21761353313922882, 0.00411679083481431, 0.036868348717689514, 0.01693522185087204, 0.574325680732727, 0.11097782105207443, 0.039162684231996536, 0.0, 0.0, 0.0, 0.0, 0.0, 0.0], [0.23765482008457184, 0.004149578977376223, 0.04699782282114029, 0.027124794200062752, 0.16896191239356995, 0.03369664028286934, 0.11913026124238968, 0.36228427290916443, 0.0, 0.0, 0.0, 0.0, 0.0], [0.30602553486824036, 0.0023001355584710836, 0.011771767400205135, 0.005720886401832104, 0.018501291051506996, 0.0013422240735962987, 0.01121235266327858, 0.6021952033042908, 0.040930598974227905, 0.0, 0.0, 0.0, 0.0], [0.2767821252346039, 0.0012515110429376364, 0.0014814231544733047, 0.007848149165511131, 0.02107188105583191, 0.003318855771794915, 0.008429327048361301, 0.54710853099823, 0.061952460557222366, 0.07075577229261398, 0.0, 0.0, 0.0], [0.35053279995918274, 0.0009977077133953571, 0.004447196610271931, 0.004907677881419659, 0.015213031321763992, 0.00045829013106413186, 0.0050928848795592785, 0.37561553716659546, 0.04290154576301575, 0.17599114775657654, 0.023842139169573784, 0.0, 0.0], [0.26655882596969604, 0.0006636379403062165, 0.0032612639479339123, 0.0030769971199333668, 0.027594534680247307, 0.0017759379697963595, 0.005088800098747015, 0.24583882093429565, 0.055942974984645844, 0.2003972828388214, 0.13716039061546326, 0.052640512585639954, 0.0], [0.32397186756134033, 0.0006519989110529423, 0.0028969093691557646, 0.0013991115847602487, 0.0055484529584646225, 0.0014061235124245286, 0.006623842287808657, 0.055465687066316605, 0.027638936415314674, 0.061747465282678604, 0.02260420098900795, 0.10114749521017075, 0.38889795541763306]], [[1.0, 0.0, 0.0, 0.0, 0.0, 0.0, 0.0, 0.0, 0.0, 0.0, 0.0, 0.0, 0.0], [0.9603825211524963, 0.039617497473955154, 0.0, 0.0, 0.0, 0.0, 0.0, 0.0, 0.0, 0.0, 0.0, 0.0, 0.0], [0.8411009311676025, 0.061776839196681976, 0.09712226688861847, 0.0, 0.0, 0.0, 0.0, 0.0, 0.0, 0.0, 0.0, 0.0, 0.0], [0.2843209207057953, 0.033971864730119705, 0.6706488728523254, 0.011058347299695015, 0.0, 0.0, 0.0, 0.0, 0.0, 0.0, 0.0, 0.0, 0.0], [0.23985695838928223, 0.05340074747800827, 0.3471333980560303, 0.3266821801662445, 0.03292661905288696, 0.0, 0.0, 0.0, 0.0, 0.0, 0.0, 0.0, 0.0], [0.3733655512332916, 0.03620261326432228, 0.18075250089168549, 0.2920292615890503, 0.10421903431415558, 0.013431014493107796, 0.0, 0.0, 0.0, 0.0, 0.0, 0.0, 0.0], [0.7792719602584839, 0.011684492230415344, 0.07064468413591385, 0.04002505540847778, 0.031915824860334396, 0.048909299075603485, 0.017548657953739166, 0.0, 0.0, 0.0, 0.0, 0.0, 0.0], [0.2562757730484009, 0.09535860270261765, 0.3978443145751953, 0.13727903366088867, 0.039132654666900635, 0.009952744469046593, 0.0009105729986913502, 0.06324627995491028, 0.0, 0.0, 0.0, 0.0, 0.0], [0.7449800372123718, 0.023403160274028778, 0.040930334478616714, 0.019947262480854988, 0.007132916245609522, 0.0006515419809147716, 0.001363651710562408, 0.07171303778886795, 0.08987803012132645, 0.0, 0.0, 0.0, 0.0], [0.6506460905075073, 0.03020097315311432, 0.008956530131399632, 0.0037702445406466722, 0.004055865574628115, 0.000560166547074914, 0.0003317756927572191, 0.06236051023006439, 0.1037101075053215, 0.1354077011346817, 0.0, 0.0, 0.0], [0.42270177602767944, 0.01013248972594738, 0.045269373804330826, 0.012783113867044449, 0.0009589360561221838, 0.0004433223220985383, 0.00014952094352338463, 0.03842068091034889, 0.2004842907190323, 0.26617759466171265, 0.0024789622984826565, 0.0, 0.0], [0.3021277189254761, 0.0035241818986833096, 0.03856349363923073, 0.015101054683327675, 0.0034504556097090244, 0.0059335315600037575, 0.0018329286249354482, 0.05358239263296127, 0.09603065997362137, 0.34986546635627747, 0.1098337471485138, 0.02015439234673977, 0.0], [0.43493449687957764, 0.016953257843852043, 0.028538836166262627, 0.007225644774734974, 0.004551063757389784, 0.0013598211808130145, 0.00032609913614578545, 0.012067755684256554, 0.1772126406431198, 0.15050837397575378, 0.011956955306231976, 0.04112178087234497, 0.1132432147860527]], [[1.0, 0.0, 0.0, 0.0, 0.0, 0.0, 0.0, 0.0, 0.0, 0.0, 0.0, 0.0, 0.0], [0.9885148406028748, 0.011485139839351177, 0.0, 0.0, 0.0, 0.0, 0.0, 0.0, 0.0, 0.0, 0.0, 0.0, 0.0], [0.9103549122810364, 0.018613513559103012, 0.07103163748979568, 0.0, 0.0, 0.0, 0.0, 0.0, 0.0, 0.0, 0.0, 0.0, 0.0], [0.8472940921783447, 0.025455044582486153, 0.03724663704633713, 0.09000419825315475, 0.0, 0.0, 0.0, 0.0, 0.0, 0.0, 0.0, 0.0, 0.0], [0.7874060869216919, 0.008024516515433788, 0.02853272296488285, 0.02631000429391861, 0.14972656965255737, 0.0, 0.0, 0.0, 0.0, 0.0, 0.0, 0.0, 0.0], [0.7853061556816101, 0.006027114111930132, 0.006054516416043043, 0.015183639712631702, 0.04958682507276535, 0.13784177601337433, 0.0, 0.0, 0.0, 0.0, 0.0, 0.0, 0.0], [0.6740029454231262, 0.007195242680609226, 0.006545912474393845, 0.012724513188004494, 0.03817741945385933, 0.1260720044374466, 0.13528206944465637, 0.0, 0.0, 0.0, 0.0, 0.0, 0.0], [0.714891791343689, 0.010742148384451866, 0.018193505704402924, 0.010207785293459892, 0.02869955077767372, 0.05579540878534317, 0.03173881396651268, 0.12973099946975708, 0.0, 0.0, 0.0, 0.0, 0.0], [0.6804032325744629, 0.01777946576476097, 0.025745298713445663, 0.01742168515920639, 0.014082157053053379, 0.05306674912571907, 0.019803790375590324, 0.07733536511659622, 0.09436231106519699, 0.0, 0.0, 0.0, 0.0], [0.6939837336540222, 0.006908931769430637, 0.030592340975999832, 0.024642864242196083, 0.013867977075278759, 0.018310680985450745, 0.010310308076441288, 0.07887972891330719, 0.04798666015267372, 0.07451684027910233, 0.0, 0.0, 0.0], [0.6813658475875854, 0.009828725829720497, 0.00782779697328806, 0.047112952917814255, 0.023086680099368095, 0.011061926372349262, 0.004858584608882666, 0.053887173533439636, 0.020040100440382957, 0.0178140327334404, 0.1231161504983902, 0.0, 0.0], [0.6527941226959229, 0.008485203608870506, 0.005236306693404913, 0.012656094506382942, 0.019735200330615044, 0.013640007004141808, 0.007894659414887428, 0.034338366240262985, 0.025868328288197517, 0.010638242587447166, 0.04943055659532547, 0.15928296744823456, 0.0], [0.5937409400939941, 0.007932033389806747, 0.005618416238576174, 0.006478303577750921, 0.019074352458119392, 0.02594401128590107, 0.009230103343725204, 0.04443800076842308, 0.053891293704509735, 0.011530358344316483, 0.039010774344205856, 0.059563543647527695, 0.12354782223701477]], [[1.0, 0.0, 0.0, 0.0, 0.0, 0.0, 0.0, 0.0, 0.0, 0.0, 0.0, 0.0, 0.0], [0.9167147278785706, 0.08328526467084885, 0.0, 0.0, 0.0, 0.0, 0.0, 0.0, 0.0, 0.0, 0.0, 0.0, 0.0], [0.5784357190132141, 0.3222222626209259, 0.09934192895889282, 0.0, 0.0, 0.0, 0.0, 0.0, 0.0, 0.0, 0.0, 0.0, 0.0], [0.2775789499282837, 0.2681957483291626, 0.2393627017736435, 0.21486259996891022, 0.0, 0.0, 0.0, 0.0, 0.0, 0.0, 0.0, 0.0, 0.0], [0.06023241952061653, 0.024906691163778305, 0.03658406063914299, 0.8543497323989868, 0.02392714098095894, 0.0, 0.0, 0.0, 0.0, 0.0, 0.0, 0.0, 0.0], [0.1692124456167221, 0.03704102709889412, 0.03348719701170921, 0.3232645094394684, 0.4132433235645294, 0.02375153824687004, 0.0, 0.0, 0.0, 0.0, 0.0, 0.0, 0.0], [0.3277735412120819, 0.020525384694337845, 0.020922794938087463, 0.05787860229611397, 0.27031734585762024, 0.2432055026292801, 0.05937681719660759, 0.0, 0.0, 0.0, 0.0, 0.0, 0.0], [0.10394620895385742, 0.03443591669201851, 0.05248705670237541, 0.3574540317058563, 0.26691770553588867, 0.11132489144802094, 0.018378689885139465, 0.05505548045039177, 0.0, 0.0, 0.0, 0.0, 0.0], [0.5960761308670044, 0.04353199154138565, 0.03048667497932911, 0.09080614894628525, 0.057145457714796066, 0.021659189835190773, 0.02569757215678692, 0.09016886353492737, 0.04442795366048813, 0.0, 0.0, 0.0, 0.0], [0.5799752473831177, 0.0884203165769577, 0.008068912662565708, 0.026807785034179688, 0.025045551359653473, 0.013311363756656647, 0.006129343993961811, 0.1062193363904953, 0.05204474925994873, 0.09397745132446289, 0.0, 0.0, 0.0], [0.2621946334838867, 0.0326935239136219, 0.015132383443415165, 0.07011909037828445, 0.02255963906645775, 0.0011723903007805347, 0.0012270959559828043, 0.10679827630519867, 0.02024869993329048, 0.12620022892951965, 0.34165409207344055, 0.0, 0.0], [0.16553398966789246, 0.004523693583905697, 0.0020797979086637497, 0.003583903657272458, 0.043109387159347534, 0.0059444657526910305, 0.0019040647894144058, 0.037374041974544525, 0.019363462924957275, 0.048662275075912476, 0.6009581089019775, 0.06696280092000961, 0.0], [0.1543322205543518, 0.0072078402154147625, 0.0058199395425617695, 0.020189067348837852, 0.011519208550453186, 0.006850250065326691, 0.0019755002576857805, 0.010837194509804249, 0.01399180293083191, 0.04893339052796364, 0.15230420231819153, 0.4329906404018402, 0.13304874300956726]]], [[[1.0, 0.0, 0.0, 0.0, 0.0, 0.0, 0.0, 0.0, 0.0, 0.0, 0.0, 0.0, 0.0], [0.9955185651779175, 0.0044813756830990314, 0.0, 0.0, 0.0, 0.0, 0.0, 0.0, 0.0, 0.0, 0.0, 0.0, 0.0], [0.9338155388832092, 0.03500803932547569, 0.031176390126347542, 0.0, 0.0, 0.0, 0.0, 0.0, 0.0, 0.0, 0.0, 0.0, 0.0], [0.6398515105247498, 0.011245368048548698, 0.30002087354660034, 0.04888226464390755, 0.0, 0.0, 0.0, 0.0, 0.0, 0.0, 0.0, 0.0, 0.0], [0.22741760313510895, 0.012661873362958431, 0.06816714257001877, 0.6757305860519409, 0.01602283865213394, 0.0, 0.0, 0.0, 0.0, 0.0, 0.0, 0.0, 0.0], [0.12646567821502686, 0.008006728254258633, 0.07528690993785858, 0.08726906776428223, 0.6902768015861511, 0.012694801203906536, 0.0, 0.0, 0.0, 0.0, 0.0, 0.0, 0.0], [0.3651682734489441, 0.004172178450971842, 0.024205897003412247, 0.04302533343434334, 0.3532123863697052, 0.11399552971124649, 0.09622051566839218, 0.0, 0.0, 0.0, 0.0, 0.0, 0.0], [0.4736793339252472, 0.005451485048979521, 0.07515192031860352, 0.057243216782808304, 0.2460530698299408, 0.04913066327571869, 0.03229104354977608, 0.0609993040561676, 0.0, 0.0, 0.0, 0.0, 0.0], [0.781223475933075, 0.0056377919390797615, 0.022160736843943596, 0.00884558167308569, 0.08972077816724777, 0.0029234797693789005, 0.002477876143530011, 0.04653909429907799, 0.04047117009758949, 0.0, 0.0, 0.0, 0.0], [0.755233645439148, 0.008487943559885025, 0.002521319780498743, 0.0006033320678398013, 0.009699370712041855, 0.004180449061095715, 0.0030252544675022364, 0.06094060093164444, 0.10076534748077393, 0.05454283580183983, 0.0, 0.0, 0.0], [0.653108537197113, 0.0009944569319486618, 0.005274954717606306, 0.008603709749877453, 0.0015432179206982255, 0.00047643310972489417, 0.0005072189960628748, 0.027432482689619064, 0.07238546758890152, 0.22042182087898254, 0.00925168115645647, 0.0, 0.0], [0.35632604360580444, 0.00044171864283271134, 0.007616531569510698, 0.014769468456506729, 0.003333620261400938, 0.007287025451660156, 0.0010533368913456798, 0.030429918318986893, 0.13523907959461212, 0.25885453820228577, 0.17165416479110718, 0.01299451757222414, 0.0], [0.7260752320289612, 0.0006412765360437334, 0.0048521943390369415, 0.00497850775718689, 0.006356423255056143, 0.0026852129958570004, 0.0010855067521333694, 0.011714421212673187, 0.017788097262382507, 0.05562681332230568, 0.05804096534848213, 0.05316658690571785, 0.05698874965310097]], [[1.0, 0.0, 0.0, 0.0, 0.0, 0.0, 0.0, 0.0, 0.0, 0.0, 0.0, 0.0, 0.0], [0.9848663210868835, 0.015133670531213284, 0.0, 0.0, 0.0, 0.0, 0.0, 0.0, 0.0, 0.0, 0.0, 0.0, 0.0], [0.8984256386756897, 0.05691501498222351, 0.0446593277156353, 0.0, 0.0, 0.0, 0.0, 0.0, 0.0, 0.0, 0.0, 0.0, 0.0], [0.8002119064331055, 0.013018358498811722, 0.15981662273406982, 0.02695310488343239, 0.0, 0.0, 0.0, 0.0, 0.0, 0.0, 0.0, 0.0, 0.0], [0.5349718332290649, 0.014156555756926537, 0.07987173646688461, 0.3053264617919922, 0.06567338109016418, 0.0, 0.0, 0.0, 0.0, 0.0, 0.0, 0.0, 0.0], [0.300913542509079, 0.04831264540553093, 0.1176282986998558, 0.15815098583698273, 0.3211859464645386, 0.05380852147936821, 0.0, 0.0, 0.0, 0.0, 0.0, 0.0, 0.0], [0.5159673094749451, 0.038025952875614166, 0.09455603361129761, 0.035538382828235626, 0.1903805434703827, 0.07655736804008484, 0.048974402248859406, 0.0, 0.0, 0.0, 0.0, 0.0, 0.0], [0.6340773701667786, 0.04354225471615791, 0.04753190651535988, 0.044639769941568375, 0.09660916775465012, 0.020162124186754227, 0.03232971206307411, 0.0811077281832695, 0.0, 0.0, 0.0, 0.0, 0.0], [0.6454920172691345, 0.010665198788046837, 0.007009592838585377, 0.005110412370413542, 0.007207472808659077, 0.003057602560147643, 0.0047811116091907024, 0.2645629942417145, 0.05211365595459938, 0.0, 0.0, 0.0, 0.0], [0.4285432994365692, 0.011491491459310055, 0.0020328809041529894, 0.010204561986029148, 0.004065907094627619, 0.002499030902981758, 0.0060228221118450165, 0.34511491656303406, 0.11616013944149017, 0.07386501133441925, 0.0, 0.0, 0.0], [0.30950501561164856, 0.0009815494995564222, 0.0034612875897437334, 0.006526789162307978, 0.006532194092869759, 0.0014777880860492587, 0.0017258847365155816, 0.3846456706523895, 0.134195476770401, 0.13448740541934967, 0.016461027786135674, 0.0, 0.0], [0.23073242604732513, 0.006651127710938454, 0.010625137016177177, 0.014381240122020245, 0.021704548969864845, 0.016473758965730667, 0.005625746212899685, 0.12139160931110382, 0.19426986575126648, 0.11301014572381973, 0.22766560316085815, 0.037468794733285904, 0.0], [0.6896378397941589, 0.004661174491047859, 0.006387130822986364, 0.003584938822314143, 0.0068824621848762035, 0.002367268316447735, 0.0021860606502741575, 0.02088472619652748, 0.046468209475278854, 0.04985006898641586, 0.044293105602264404, 0.027201669290661812, 0.09559538960456848]], [[1.0, 0.0, 0.0, 0.0, 0.0, 0.0, 0.0, 0.0, 0.0, 0.0, 0.0, 0.0, 0.0], [0.9606512784957886, 0.039348721504211426, 0.0, 0.0, 0.0, 0.0, 0.0, 0.0, 0.0, 0.0, 0.0, 0.0, 0.0], [0.8652741312980652, 0.0992295891046524, 0.03549626097083092, 0.0, 0.0, 0.0, 0.0, 0.0, 0.0, 0.0, 0.0, 0.0, 0.0], [0.9131034016609192, 0.03206581249833107, 0.03595386818051338, 0.01887688599526882, 0.0, 0.0, 0.0, 0.0, 0.0, 0.0, 0.0, 0.0, 0.0], [0.9361212849617004, 0.028009621426463127, 0.01373972650617361, 0.015760811045765877, 0.006368596106767654, 0.0, 0.0, 0.0, 0.0, 0.0, 0.0, 0.0, 0.0], [0.7980849146842957, 0.03924912214279175, 0.03219788894057274, 0.04061047360301018, 0.02344323694705963, 0.06641438603401184, 0.0, 0.0, 0.0, 0.0, 0.0, 0.0, 0.0], [0.5915705561637878, 0.17512555420398712, 0.03886136785149574, 0.00685208709910512, 0.06069768965244293, 0.09730708599090576, 0.029585720971226692, 0.0, 0.0, 0.0, 0.0, 0.0, 0.0], [0.6351518630981445, 0.06314481049776077, 0.03810543939471245, 0.028330273926258087, 0.015430186875164509, 0.12496064603328705, 0.024370070546865463, 0.07050666213035583, 0.0, 0.0, 0.0, 0.0, 0.0], [0.5956732630729675, 0.06508589535951614, 0.03432588279247284, 0.09019894152879715, 0.017645923420786858, 0.07316450029611588, 0.02065618336200714, 0.07547248899936676, 0.027776865288615227, 0.0, 0.0, 0.0, 0.0], [0.5541346669197083, 0.03037228435277939, 0.026477934792637825, 0.16239242255687714, 0.0300451572984457, 0.048724833875894547, 0.032182831317186356, 0.0641113743185997, 0.027133122086524963, 0.02442542277276516, 0.0, 0.0, 0.0], [0.6534693241119385, 0.06639648973941803, 0.01344495639204979, 0.014362199231982231, 0.018537499010562897, 0.04844945669174194, 0.04543372616171837, 0.08762697130441666, 0.0226004458963871, 0.020596424117684364, 0.00908253900706768, 0.0, 0.0], [0.5958512425422668, 0.079396553337574, 0.0276484414935112, 0.020956579595804214, 0.02445804700255394, 0.04399111494421959, 0.025685859844088554, 0.09670598804950714, 0.020654290914535522, 0.018851203843951225, 0.01964910700917244, 0.026151496917009354, 0.0], [0.5738499760627747, 0.026294587180018425, 0.024128766730427742, 0.0203913114964962, 0.008645288646221161, 0.07270051538944244, 0.02717764303088188, 0.08485525846481323, 0.01483309268951416, 0.012272709049284458, 0.009908540174365044, 0.01629817485809326, 0.10864409059286118]], [[1.0, 0.0, 0.0, 0.0, 0.0, 0.0, 0.0, 0.0, 0.0, 0.0, 0.0, 0.0, 0.0], [0.9773926138877869, 0.02260742150247097, 0.0, 0.0, 0.0, 0.0, 0.0, 0.0, 0.0, 0.0, 0.0, 0.0, 0.0], [0.5088164210319519, 0.44790777564048767, 0.04327572509646416, 0.0, 0.0, 0.0, 0.0, 0.0, 0.0, 0.0, 0.0, 0.0, 0.0], [0.2935177683830261, 0.46332159638404846, 0.23807717859745026, 0.00508341146633029, 0.0, 0.0, 0.0, 0.0, 0.0, 0.0, 0.0, 0.0, 0.0], [0.23702813684940338, 0.4536772668361664, 0.19576279819011688, 0.07063355296850204, 0.04289824143052101, 0.0, 0.0, 0.0, 0.0, 0.0, 0.0, 0.0, 0.0], [0.5783793926239014, 0.18402250111103058, 0.11408468335866928, 0.025840159505605698, 0.08270075917243958, 0.014972404576838017, 0.0, 0.0, 0.0, 0.0, 0.0, 0.0, 0.0], [0.7211219072341919, 0.020734654739499092, 0.017127566039562225, 0.0026583990547806025, 0.021656548604369164, 0.06595684587955475, 0.15074408054351807, 0.0, 0.0, 0.0, 0.0, 0.0, 0.0], [0.2072320282459259, 0.18950608372688293, 0.11640807241201401, 0.018984902650117874, 0.07215248793363571, 0.022013938054442406, 0.3491796553134918, 0.024522889405488968, 0.0, 0.0, 0.0, 0.0, 0.0], [0.44765299558639526, 0.016092944890260696, 0.025774681940674782, 0.008041750639677048, 0.044409241527318954, 0.021468406543135643, 0.3726966977119446, 0.030569467693567276, 0.033293768763542175, 0.0, 0.0, 0.0, 0.0], [0.3515438139438629, 0.00391951110213995, 0.004530070349574089, 0.004676220007240772, 0.015919597819447517, 0.02843424305319786, 0.3925440311431885, 0.03630834445357323, 0.10128746926784515, 0.06083671376109123, 0.0, 0.0, 0.0], [0.24907007813453674, 0.015494223684072495, 0.01281305868178606, 0.0036373459734022617, 0.013235285878181458, 0.04616452381014824, 0.20765255391597748, 0.016574356704950333, 0.25980082154273987, 0.17072951793670654, 0.004828300792723894, 0.0, 0.0], [0.08691416680812836, 0.018677404150366783, 0.006310911383479834, 0.0008317523170262575, 0.002329370239749551, 0.011504428461194038, 0.0782545804977417, 0.00635662442073226, 0.6052636504173279, 0.14052529633045197, 0.008064134046435356, 0.03496759757399559, 0.0], [0.5377336740493774, 0.03303524851799011, 0.01855291798710823, 0.0028046935331076384, 0.005365713033825159, 0.007380174472928047, 0.08583056926727295, 0.006790767423808575, 0.12342904508113861, 0.07573959231376648, 0.015143366530537605, 0.07369031757116318, 0.014503903687000275]], [[1.0, 0.0, 0.0, 0.0, 0.0, 0.0, 0.0, 0.0, 0.0, 0.0, 0.0, 0.0, 0.0], [0.9680187106132507, 0.03198130428791046, 0.0, 0.0, 0.0, 0.0, 0.0, 0.0, 0.0, 0.0, 0.0, 0.0, 0.0], [0.9001851081848145, 0.060627494007349014, 0.03918742015957832, 0.0, 0.0, 0.0, 0.0, 0.0, 0.0, 0.0, 0.0, 0.0, 0.0], [0.9083689451217651, 0.016472170129418373, 0.04767872765660286, 0.027480153366923332, 0.0, 0.0, 0.0, 0.0, 0.0, 0.0, 0.0, 0.0, 0.0], [0.9245403409004211, 0.013833430595695972, 0.0165617223829031, 0.031099140644073486, 0.013965308666229248, 0.0, 0.0, 0.0, 0.0, 0.0, 0.0, 0.0, 0.0], [0.7559722065925598, 0.006560344249010086, 0.006854454055428505, 0.01583491638302803, 0.02456321194767952, 0.1902148574590683, 0.0, 0.0, 0.0, 0.0, 0.0, 0.0, 0.0], [0.8867242336273193, 0.012606918811798096, 0.0031487043015658855, 0.00103372719604522, 0.0078093670308589935, 0.07451438903808594, 0.014162678271532059, 0.0, 0.0, 0.0, 0.0, 0.0, 0.0], [0.793390691280365, 0.05951818823814392, 0.03616708517074585, 0.012814137153327465, 0.008268223144114017, 0.027872540056705475, 0.021705105900764465, 0.040264006704092026, 0.0, 0.0, 0.0, 0.0, 0.0], [0.8597985506057739, 0.00761954253539443, 0.016410237178206444, 0.0039050509221851826, 0.003837462980300188, 0.03330790996551514, 0.0046770465560257435, 0.022522833198308945, 0.047921329736709595, 0.0, 0.0, 0.0, 0.0], [0.745186984539032, 0.0022891026455909014, 0.024469837546348572, 0.003020108910277486, 0.0026997674722224474, 0.017031453549861908, 0.001402934198267758, 0.02643907628953457, 0.07429917901754379, 0.10316154360771179, 0.0, 0.0, 0.0], [0.6716397404670715, 0.000581353553570807, 0.012018564157187939, 0.0014280941104516387, 0.0004419124743435532, 0.013412156142294407, 0.0011012674076482654, 0.012440532445907593, 0.05847317352890968, 0.05052674934267998, 0.17793647944927216, 0.0, 0.0], [0.3339831829071045, 0.0006488887593150139, 0.007197258528321981, 0.0005339028430171311, 0.0019755444955080748, 0.010791842825710773, 0.0010840075556188822, 0.007153334096074104, 0.041022904217243195, 0.029355363920331, 0.5299792289733887, 0.03627455607056618, 0.0], [0.6182219386100769, 0.024082070216536522, 0.022110814228653908, 0.005981022026389837, 0.0036645380314439535, 0.017365671694278717, 0.0129548329859972, 0.02505369298160076, 0.021968208253383636, 0.032786473631858826, 0.08430501073598862, 0.07646340876817703, 0.05504223331809044]], [[1.0, 0.0, 0.0, 0.0, 0.0, 0.0, 0.0, 0.0, 0.0, 0.0, 0.0, 0.0, 0.0], [0.899496853351593, 0.10050313919782639, 0.0, 0.0, 0.0, 0.0, 0.0, 0.0, 0.0, 0.0, 0.0, 0.0, 0.0], [0.6141067147254944, 0.363920122385025, 0.02197316847741604, 0.0, 0.0, 0.0, 0.0, 0.0, 0.0, 0.0, 0.0, 0.0, 0.0], [0.7976861000061035, 0.09064938127994537, 0.05065903440117836, 0.06100555509328842, 0.0, 0.0, 0.0, 0.0, 0.0, 0.0, 0.0, 0.0, 0.0], [0.5528107285499573, 0.023711247369647026, 0.0601789765059948, 0.34559166431427, 0.017707372084259987, 0.0, 0.0, 0.0, 0.0, 0.0, 0.0, 0.0, 0.0], [0.8238428831100464, 0.009006389416754246, 0.021945657208561897, 0.03946893289685249, 0.054596830159425735, 0.05113927274942398, 0.0, 0.0, 0.0, 0.0, 0.0, 0.0, 0.0], [0.7791516184806824, 0.004426336847245693, 0.0009811378549784422, 0.011517969891428947, 0.025884389877319336, 0.10946600139141083, 0.06857258826494217, 0.0, 0.0, 0.0, 0.0, 0.0, 0.0], [0.676270604133606, 0.016887258738279343, 0.024741869419813156, 0.037801593542099, 0.06801049411296844, 0.09952143579721451, 0.042995575815439224, 0.033771198242902756, 0.0, 0.0, 0.0, 0.0, 0.0], [0.9066910147666931, 0.005197383929044008, 0.0033692987635731697, 0.007149146869778633, 0.0029379825573414564, 0.007542507257312536, 0.008636788465082645, 0.035069528967142105, 0.023406390100717545, 0.0, 0.0, 0.0, 0.0], [0.7408246397972107, 0.0037211445160210133, 0.0005244440399110317, 0.00855792686343193, 0.0013805378694087267, 0.005114881321787834, 0.007002376951277256, 0.06954547762870789, 0.13810686767101288, 0.025221634656190872, 0.0, 0.0, 0.0], [0.7800940275192261, 0.0009931842796504498, 0.0006234297179616988, 0.0014776402385905385, 0.001591886393725872, 0.005253077484667301, 0.00274465698748827, 0.05280769243836403, 0.05957764759659767, 0.022081688046455383, 0.07275503873825073, 0.0, 0.0], [0.30365121364593506, 0.0009254138567484915, 0.0008686149376444519, 0.016692865639925003, 0.003928660415112972, 0.01783800683915615, 0.011129563674330711, 0.0959286168217659, 0.0767965018749237, 0.026830308139324188, 0.43040159344673157, 0.015008672140538692, 0.0], [0.7876776456832886, 0.0018395263468846679, 0.0010410366812720895, 0.001905334647744894, 0.0025413124822080135, 0.004988985601812601, 0.004226399585604668, 0.013341869227588177, 0.020500753074884415, 0.01321739237755537, 0.0819496139883995, 0.008100549690425396, 0.058669496327638626]], [[1.0, 0.0, 0.0, 0.0, 0.0, 0.0, 0.0, 0.0, 0.0, 0.0, 0.0, 0.0, 0.0], [0.973050057888031, 0.02694995515048504, 0.0, 0.0, 0.0, 0.0, 0.0, 0.0, 0.0, 0.0, 0.0, 0.0, 0.0], [0.7827020287513733, 0.15662448108196259, 0.06067350134253502, 0.0, 0.0, 0.0, 0.0, 0.0, 0.0, 0.0, 0.0, 0.0, 0.0], [0.7320581674575806, 0.144844189286232, 0.09210297465324402, 0.03099469095468521, 0.0, 0.0, 0.0, 0.0, 0.0, 0.0, 0.0, 0.0, 0.0], [0.6693501472473145, 0.08052337914705276, 0.06669189780950546, 0.15398269891738892, 0.029451925307512283, 0.0, 0.0, 0.0, 0.0, 0.0, 0.0, 0.0, 0.0], [0.5525631308555603, 0.11627253144979477, 0.09886431694030762, 0.09500158578157425, 0.09003260731697083, 0.04726579412817955, 0.0, 0.0, 0.0, 0.0, 0.0, 0.0, 0.0], [0.655684769153595, 0.09148610383272171, 0.025315087288618088, 0.0356152318418026, 0.08789139240980148, 0.0768527165055275, 0.027154680341482162, 0.0, 0.0, 0.0, 0.0, 0.0, 0.0], [0.34619930386543274, 0.07857318967580795, 0.08982634544372559, 0.06837864965200424, 0.11628403514623642, 0.07296394556760788, 0.15410219132900238, 0.07367231696844101, 0.0, 0.0, 0.0, 0.0, 0.0], [0.3228883743286133, 0.16506949067115784, 0.11418969929218292, 0.07574053853750229, 0.05946740508079529, 0.03686445951461792, 0.0796588882803917, 0.12138210237026215, 0.024739032611250877, 0.0, 0.0, 0.0, 0.0], [0.4886303246021271, 0.03986167907714844, 0.02776365540921688, 0.0547187514603138, 0.047905415296554565, 0.03307996317744255, 0.10393757373094559, 0.07357285171747208, 0.0406607910990715, 0.08986905217170715, 0.0, 0.0, 0.0], [0.6906057000160217, 0.010607266798615456, 0.013544665649533272, 0.02622291073203087, 0.02331775799393654, 0.020531851798295975, 0.024568405002355576, 0.041833359748125076, 0.029587838798761368, 0.08646038174629211, 0.032719846814870834, 0.0, 0.0], [0.48559725284576416, 0.03170004114508629, 0.02250533550977707, 0.03463931009173393, 0.029621127992868423, 0.02000671811401844, 0.027807414531707764, 0.05016656965017319, 0.052280087023973465, 0.11142604053020477, 0.08679933845996857, 0.047450799494981766, 0.0], [0.409384161233902, 0.03437903895974159, 0.035152971744537354, 0.014674117788672447, 0.01643413119018078, 0.01648993417620659, 0.02138856239616871, 0.03804393112659454, 0.07389914989471436, 0.10841669142246246, 0.06246569752693176, 0.08691458404064178, 0.08235706388950348]], [[1.0, 0.0, 0.0, 0.0, 0.0, 0.0, 0.0, 0.0, 0.0, 0.0, 0.0, 0.0, 0.0], [0.9734550714492798, 0.026544975116848946, 0.0, 0.0, 0.0, 0.0, 0.0, 0.0, 0.0, 0.0, 0.0, 0.0, 0.0], [0.6666272878646851, 0.05596240609884262, 0.27741023898124695, 0.0, 0.0, 0.0, 0.0, 0.0, 0.0, 0.0, 0.0, 0.0, 0.0], [0.750521719455719, 0.016268014907836914, 0.043251946568489075, 0.1899583339691162, 0.0, 0.0, 0.0, 0.0, 0.0, 0.0, 0.0, 0.0, 0.0], [0.3243396282196045, 0.025431951507925987, 0.05914284288883209, 0.22901713848114014, 0.3620684742927551, 0.0, 0.0, 0.0, 0.0, 0.0, 0.0, 0.0, 0.0], [0.5684930086135864, 0.005754913203418255, 0.022129124030470848, 0.04928199574351311, 0.11628778278827667, 0.23805321753025055, 0.0, 0.0, 0.0, 0.0, 0.0, 0.0, 0.0], [0.31296229362487793, 0.015136501751840115, 0.008491120301187038, 0.009576905518770218, 0.01979585736989975, 0.06910078972578049, 0.5649364590644836, 0.0, 0.0, 0.0, 0.0, 0.0, 0.0], [0.12258259207010269, 0.005846766754984856, 0.02515055239200592, 0.01932813599705696, 0.029433729127049446, 0.012123093008995056, 0.06825274229049683, 0.7172824144363403, 0.0, 0.0, 0.0, 0.0, 0.0], [0.19900280237197876, 0.004090119153261185, 0.013035055249929428, 0.002210646402090788, 0.0018170047551393509, 0.0029993222560733557, 0.002150235464796424, 0.12687237560749054, 0.6478224396705627, 0.0, 0.0, 0.0, 0.0], [0.4493792951107025, 0.008097386918962002, 0.01208015251904726, 0.0027527331840246916, 0.0010795145062729716, 0.0023424564860761166, 0.009932502172887325, 0.025505417957901955, 0.15794681012630463, 0.3308837413787842, 0.0, 0.0, 0.0], [0.5170208215713501, 0.006559045519679785, 0.006996094714850187, 0.032534923404455185, 0.002754773711785674, 0.0031021025497466326, 0.003845038590952754, 0.016413940116763115, 0.045750901103019714, 0.09035905450582504, 0.27466318011283875, 0.0, 0.0], [0.19393150508403778, 0.00863521546125412, 0.004192854277789593, 0.03339174762368202, 0.018599558621644974, 0.009595516137778759, 0.017646457999944687, 0.01896963082253933, 0.03414282202720642, 0.03596704453229904, 0.09846996515989304, 0.5264577865600586, 0.0], [0.1228102445602417, 0.002908520633354783, 0.006933472119271755, 0.004762736614793539, 0.015917854383587837, 0.008177430368959904, 0.01843230612576008, 0.0673426017165184, 0.021581489592790604, 0.016916140913963318, 0.009463092312216759, 0.08027152717113495, 0.6244825720787048]], [[1.0, 0.0, 0.0, 0.0, 0.0, 0.0, 0.0, 0.0, 0.0, 0.0, 0.0, 0.0, 0.0], [0.9823357462882996, 0.01766420342028141, 0.0, 0.0, 0.0, 0.0, 0.0, 0.0, 0.0, 0.0, 0.0, 0.0, 0.0], [0.9669655561447144, 0.019369645044207573, 0.01366488914936781, 0.0, 0.0, 0.0, 0.0, 0.0, 0.0, 0.0, 0.0, 0.0, 0.0], [0.9543560147285461, 0.016794662922620773, 0.015476735308766365, 0.01337252277880907, 0.0, 0.0, 0.0, 0.0, 0.0, 0.0, 0.0, 0.0, 0.0], [0.9727767705917358, 0.004677936900407076, 0.004413557704538107, 0.01540920976549387, 0.002722526201978326, 0.0, 0.0, 0.0, 0.0, 0.0, 0.0, 0.0, 0.0], [0.7998055219650269, 0.03588126599788666, 0.02513548545539379, 0.0794922411441803, 0.03511041775345802, 0.024575065821409225, 0.0, 0.0, 0.0, 0.0, 0.0, 0.0, 0.0], [0.8882660865783691, 0.015911834314465523, 0.030659517273306847, 0.023050857707858086, 0.01157162431627512, 0.012495786882936954, 0.01804429292678833, 0.0, 0.0, 0.0, 0.0, 0.0, 0.0], [0.6704983115196228, 0.02794811688363552, 0.025952225551009178, 0.08786263316869736, 0.02668183669447899, 0.04005791246891022, 0.0644998550415039, 0.05649902671575546, 0.0, 0.0, 0.0, 0.0, 0.0], [0.799368679523468, 0.02796812169253826, 0.01655890978872776, 0.04012955352663994, 0.02686464786529541, 0.014406045898795128, 0.017045676708221436, 0.03290389105677605, 0.024754419922828674, 0.0, 0.0, 0.0, 0.0], [0.8206297755241394, 0.024990264326334, 0.012685930356383324, 0.01897723600268364, 0.014287876896560192, 0.00863581895828247, 0.015263157896697521, 0.01903221756219864, 0.015911592170596123, 0.04958609119057655, 0.0, 0.0, 0.0], [0.7551760673522949, 0.022514156997203827, 0.015527120791375637, 0.01642884500324726, 0.03894166275858879, 0.014411219395697117, 0.01707392930984497, 0.01927124336361885, 0.017952799797058105, 0.031794287264347076, 0.05090874806046486, 0.0, 0.0], [0.516730546951294, 0.046346332877874374, 0.06467971205711365, 0.023322949185967445, 0.024717798456549644, 0.02285216934978962, 0.012684262357652187, 0.015040806494653225, 0.019122665748000145, 0.056920018047094345, 0.1450508087873459, 0.05253194272518158, 0.0], [0.4506808817386627, 0.06344509869813919, 0.07722966372966766, 0.024101782590150833, 0.01969449408352375, 0.04595241695642471, 0.045860350131988525, 0.04047153890132904, 0.02042175643146038, 0.05758676305413246, 0.07736944407224655, 0.0460912324488163, 0.03109457530081272]], [[1.0, 0.0, 0.0, 0.0, 0.0, 0.0, 0.0, 0.0, 0.0, 0.0, 0.0, 0.0, 0.0], [0.9211961030960083, 0.0788039043545723, 0.0, 0.0, 0.0, 0.0, 0.0, 0.0, 0.0, 0.0, 0.0, 0.0, 0.0], [0.7562230229377747, 0.22669421136379242, 0.017082789912819862, 0.0, 0.0, 0.0, 0.0, 0.0, 0.0, 0.0, 0.0, 0.0, 0.0], [0.6752325892448425, 0.05528447404503822, 0.2129434496164322, 0.05653949826955795, 0.0, 0.0, 0.0, 0.0, 0.0, 0.0, 0.0, 0.0, 0.0], [0.6043609976768494, 0.15307727456092834, 0.09918026626110077, 0.11733020097017288, 0.026051189750432968, 0.0, 0.0, 0.0, 0.0, 0.0, 0.0, 0.0, 0.0], [0.38608428835868835, 0.17950953543186188, 0.21162334084510803, 0.04849661886692047, 0.14089947938919067, 0.03338667377829552, 0.0, 0.0, 0.0, 0.0, 0.0, 0.0, 0.0], [0.6582090854644775, 0.03308235481381416, 0.05807900428771973, 0.031294722110033035, 0.12842687964439392, 0.06054507941007614, 0.030362967401742935, 0.0, 0.0, 0.0, 0.0, 0.0, 0.0], [0.2715302109718323, 0.08385592699050903, 0.10522838681936264, 0.21146175265312195, 0.18380925059318542, 0.07892867922782898, 0.03852526843547821, 0.026660509407520294, 0.0, 0.0, 0.0, 0.0, 0.0], [0.38070276379585266, 0.04232846200466156, 0.057433124631643295, 0.1153813824057579, 0.1961687207221985, 0.06499700248241425, 0.028946030884981155, 0.030675353482365608, 0.08336721360683441, 0.0, 0.0, 0.0, 0.0], [0.652016282081604, 0.024955442175269127, 0.009108099155128002, 0.031747717410326004, 0.04022763669490814, 0.07348141074180603, 0.036580752581357956, 0.029578963294625282, 0.06664170324802399, 0.03566206246614456, 0.0, 0.0, 0.0], [0.5761241316795349, 0.006979537196457386, 0.02553536370396614, 0.012949533760547638, 0.008604767732322216, 0.013666430488228798, 0.02462085522711277, 0.019354719668626785, 0.09591507166624069, 0.168255016207695, 0.04799452796578407, 0.0, 0.0], [0.21812017261981964, 0.005932888016104698, 0.026001503691077232, 0.006422526203095913, 0.015856415033340454, 0.016684219241142273, 0.010798565112054348, 0.013346430845558643, 0.06588556617498398, 0.1485118418931961, 0.2916196882724762, 0.18082016706466675, 0.0], [0.18419626355171204, 0.013564533554017544, 0.010282001458108425, 0.015473934821784496, 0.009156695567071438, 0.010185061022639275, 0.008262471295893192, 0.008952389471232891, 0.045158833265304565, 0.12094293534755707, 0.09828054159879684, 0.4344555139541626, 0.041088782250881195]], [[1.0, 0.0, 0.0, 0.0, 0.0, 0.0, 0.0, 0.0, 0.0, 0.0, 0.0, 0.0, 0.0], [0.9957846999168396, 0.004215280059725046, 0.0, 0.0, 0.0, 0.0, 0.0, 0.0, 0.0, 0.0, 0.0, 0.0, 0.0], [0.9632600545883179, 0.010575785301625729, 0.026164177805185318, 0.0, 0.0, 0.0, 0.0, 0.0, 0.0, 0.0, 0.0, 0.0, 0.0], [0.9793592691421509, 0.0019158205250278115, 0.015308070927858353, 0.003416754538193345, 0.0, 0.0, 0.0, 0.0, 0.0, 0.0, 0.0, 0.0, 0.0], [0.969126284122467, 0.0036921389400959015, 0.004426235798746347, 0.013910126872360706, 0.00884524267166853, 0.0, 0.0, 0.0, 0.0, 0.0, 0.0, 0.0, 0.0], [0.9194495677947998, 0.0031502919737249613, 0.006750389467924833, 0.0029952640179544687, 0.014824897050857544, 0.05282963812351227, 0.0, 0.0, 0.0, 0.0, 0.0, 0.0, 0.0], [0.9455052018165588, 0.0015272294403985143, 0.0024764640256762505, 0.002116988878697157, 0.007797892205417156, 0.018991729244589806, 0.021584464237093925, 0.0, 0.0, 0.0, 0.0, 0.0, 0.0], [0.8131686449050903, 0.005055180750787258, 0.028912851586937904, 0.008219579234719276, 0.010018622502684593, 0.05405360087752342, 0.03543044626712799, 0.0451410636305809, 0.0, 0.0, 0.0, 0.0, 0.0], [0.7822414636611938, 0.0032728714868426323, 0.027353553101420403, 0.004971119575202465, 0.014158147387206554, 0.049253370612859726, 0.008603966794908047, 0.08251363784074783, 0.027631893754005432, 0.0, 0.0, 0.0, 0.0], [0.7815666794776917, 0.003382481401786208, 0.0012435819953680038, 0.01764819398522377, 0.015183776617050171, 0.051248326897621155, 0.011690585874021053, 0.06477875262498856, 0.037668030709028244, 0.015589655376970768, 0.0, 0.0, 0.0], [0.8438068628311157, 0.003752355696633458, 0.0017295225989073515, 0.01740635558962822, 0.008412902243435383, 0.03527146577835083, 0.004980331286787987, 0.03855569660663605, 0.024514377117156982, 0.010398419573903084, 0.01117168553173542, 0.0, 0.0], [0.7865970134735107, 0.003612339496612549, 0.0014829791616648436, 0.00717107905074954, 0.008437746204435825, 0.047596972435712814, 0.06397367268800735, 0.03953735530376434, 0.012656801380217075, 0.009458343498408794, 0.009959281422197819, 0.009516376070678234, 0.0], [0.7479488253593445, 0.0035917959176003933, 0.006327656097710133, 0.003795310389250517, 0.010939560830593109, 0.07251055538654327, 0.028222428634762764, 0.050494007766246796, 0.031653083860874176, 0.013407840393483639, 0.0068809641525149345, 0.001363606657832861, 0.02286437340080738]], [[1.0, 0.0, 0.0, 0.0, 0.0, 0.0, 0.0, 0.0, 0.0, 0.0, 0.0, 0.0, 0.0], [0.9999996423721313, 3.362454492616962e-07, 0.0, 0.0, 0.0, 0.0, 0.0, 0.0, 0.0, 0.0, 0.0, 0.0, 0.0], [0.0005022339755669236, 0.9994333386421204, 6.439940625568852e-05, 0.0, 0.0, 0.0, 0.0, 0.0, 0.0, 0.0, 0.0, 0.0, 0.0], [1.8426352710321225e-07, 1.096094379704482e-07, 0.9999980926513672, 1.5642084463252104e-06, 0.0, 0.0, 0.0, 0.0, 0.0, 0.0, 0.0, 0.0, 0.0], [3.2174209962931855e-09, 2.002171095583094e-09, 1.1440230984760547e-09, 0.9999960660934448, 3.92862193621113e-06, 0.0, 0.0, 0.0, 0.0, 0.0, 0.0, 0.0, 0.0], [8.032507281541257e-08, 1.1878640127462644e-14, 1.5543325090558446e-12, 6.48753539778113e-09, 0.9999912977218628, 8.62672459334135e-06, 0.0, 0.0, 0.0, 0.0, 0.0, 0.0, 0.0], [1.4823366978333752e-09, 3.542577472689934e-13, 5.194481429805016e-16, 1.460386065549324e-12, 8.942231488617836e-08, 0.9999990463256836, 8.814251373223669e-07, 0.0, 0.0, 0.0, 0.0, 0.0, 0.0], [7.24150879705121e-07, 5.478856834884027e-08, 1.7622633907699026e-10, 1.1539410706973285e-06, 1.5266947173131484e-07, 3.59946716343984e-06, 0.9999594688415527, 3.491307870717719e-05, 0.0, 0.0, 0.0, 0.0, 0.0], [1.7465836208430119e-06, 4.213504978950455e-12, 3.0679330603744503e-11, 1.1598405612670004e-12, 1.1111699234345185e-11, 1.7706609832870979e-13, 2.4296226142084265e-10, 0.9999827146530151, 1.5551653632428497e-05, 0.0, 0.0, 0.0, 0.0], [9.084328667086083e-08, 3.050836059476092e-12, 1.375345150267382e-12, 2.1865133672822196e-13, 9.737146019225904e-15, 5.896712805542048e-12, 4.985183273131799e-12, 4.883554538537282e-07, 0.9999508857727051, 4.853482460021041e-05, 0.0, 0.0, 0.0], [6.1628938397007e-08, 6.095082222951336e-15, 1.2511696123596039e-09, 2.221532680035665e-11, 6.014300168999398e-12, 2.832647311157288e-13, 9.840548921514689e-14, 9.049438420838385e-10, 5.236391871221713e-07, 0.9999833106994629, 1.6073523511295207e-05, 0.0, 0.0], [2.160251422189674e-10, 1.2497370802135835e-15, 2.883290665684629e-14, 3.411564433730696e-12, 7.023442938347557e-11, 1.5917375195684258e-09, 1.2712996887848105e-12, 2.01965597024234e-11, 6.388804152379635e-09, 1.7504355298569862e-07, 0.9999984502792358, 1.3615884881801321e-06, 0.0], [1.0993585419782903e-06, 5.285222953732571e-11, 1.999246986494549e-13, 4.716307344665438e-09, 8.68637162199093e-09, 2.1044057163521757e-08, 1.5590384236929822e-06, 1.8390057254791259e-09, 1.0604305877848219e-08, 2.3185998954122766e-10, 8.148920642270241e-06, 0.999782145023346, 0.00020706186478491873]]], [[[1.0, 0.0, 0.0, 0.0, 0.0, 0.0, 0.0, 0.0, 0.0, 0.0, 0.0, 0.0, 0.0], [0.9958252906799316, 0.004174700006842613, 0.0, 0.0, 0.0, 0.0, 0.0, 0.0, 0.0, 0.0, 0.0, 0.0, 0.0], [0.9813820123672485, 0.006419588811695576, 0.01219842117279768, 0.0, 0.0, 0.0, 0.0, 0.0, 0.0, 0.0, 0.0, 0.0, 0.0], [0.991657018661499, 0.00025584426475688815, 0.003895717905834317, 0.004191338084638119, 0.0, 0.0, 0.0, 0.0, 0.0, 0.0, 0.0, 0.0, 0.0], [0.9335365295410156, 0.0011424403637647629, 0.007693721912801266, 0.028473535552620888, 0.029153810814023018, 0.0, 0.0, 0.0, 0.0, 0.0, 0.0, 0.0, 0.0], [0.9842930436134338, 0.0017392419977113605, 0.0016146175330504775, 0.00029063099646009505, 0.004812693223357201, 0.007249759044498205, 0.0, 0.0, 0.0, 0.0, 0.0, 0.0, 0.0], [0.9263519644737244, 0.0015965518541634083, 0.03348227217793465, 0.005859647877514362, 0.0048050847835838795, 0.018545962870121002, 0.009358540177345276, 0.0, 0.0, 0.0, 0.0, 0.0, 0.0], [0.9559415578842163, 0.000772400526329875, 0.0028845646884292364, 0.00494706304743886, 0.009457672014832497, 0.00462517561390996, 0.0016781968297436833, 0.01969345286488533, 0.0, 0.0, 0.0, 0.0, 0.0], [0.8403632044792175, 0.013443060219287872, 0.005738424602895975, 0.008577603846788406, 0.009326052851974964, 0.020191684365272522, 0.016900978982448578, 0.07076675444841385, 0.014692286029458046, 0.0, 0.0, 0.0, 0.0], [0.9740313291549683, 0.000522715738043189, 0.00042282557114958763, 0.0019541450310498476, 0.0024986853823065758, 0.00189398811198771, 0.006855028681457043, 0.009036581963300705, 0.0013541713124141097, 0.001430595526471734, 0.0, 0.0, 0.0], [0.9622854590415955, 0.0003400112618692219, 0.0002607265196274966, 0.0001261428405996412, 0.011516290716826916, 0.0030536470003426075, 0.00836129393428564, 0.007652807515114546, 0.0030270700808614492, 0.0008903713314794004, 0.0024860920384526253, 0.0, 0.0], [0.941810667514801, 0.00012091056851204485, 0.0010197808733209968, 0.00035898099304176867, 0.0007595935603603721, 0.0016527138650417328, 0.005578242242336273, 0.020821738988161087, 0.0034058436285704374, 0.0009180171764455736, 0.000507222895976156, 0.023046201094985008, 0.0], [0.7809315919876099, 0.0002341283397981897, 0.0020855735056102276, 0.0009000149439089, 0.0014584637247025967, 0.0011911242036148906, 0.0021688747219741344, 0.00877024419605732, 0.13476045429706573, 0.029008567333221436, 0.0008224312332458794, 0.003642704803496599, 0.03402581065893173]], [[1.0, 0.0, 0.0, 0.0, 0.0, 0.0, 0.0, 0.0, 0.0, 0.0, 0.0, 0.0, 0.0], [0.999994158744812, 5.881742708879756e-06, 0.0, 0.0, 0.0, 0.0, 0.0, 0.0, 0.0, 0.0, 0.0, 0.0, 0.0], [0.999906063079834, 7.3383062044740655e-06, 8.65803740452975e-05, 0.0, 0.0, 0.0, 0.0, 0.0, 0.0, 0.0, 0.0, 0.0, 0.0], [0.9997738003730774, 5.844739803251287e-07, 5.579821845458355e-06, 0.00022006906510796398, 0.0, 0.0, 0.0, 0.0, 0.0, 0.0, 0.0, 0.0, 0.0], [0.9999262094497681, 2.68221054255946e-08, 3.9583909483553725e-08, 8.276134394691326e-06, 6.545797077706084e-05, 0.0, 0.0, 0.0, 0.0, 0.0, 0.0, 0.0, 0.0], [0.9983805418014526, 7.554642138529744e-07, 4.217954696628112e-08, 1.7005451269369587e-08, 3.624024031978479e-07, 0.001618286594748497, 0.0, 0.0, 0.0, 0.0, 0.0, 0.0, 0.0], [0.9996623992919922, 8.41071710055985e-08, 2.2826329768577125e-06, 1.2160871847299859e-06, 9.255897381876821e-09, 8.977131642495806e-07, 0.000333142263116315, 0.0, 0.0, 0.0, 0.0, 0.0, 0.0], [0.9972388744354248, 6.207516207723529e-07, 4.417096988618141e-06, 1.981169407372363e-05, 1.6296483806854667e-07, 9.42145925364457e-06, 1.2505545782914851e-05, 0.0027142746839672327, 0.0, 0.0, 0.0, 0.0, 0.0], [0.9983633160591125, 4.0700091631151736e-05, 3.523137365846196e-06, 2.333619340788573e-05, 6.364349047771611e-08, 4.784513976119342e-07, 0.00013564576511271298, 0.0003288544830866158, 0.0011040609097108245, 0.0, 0.0, 0.0, 0.0], [0.9994710087776184, 7.241989692374773e-07, 9.032647962925466e-10, 2.372865128563717e-05, 9.034961223619575e-09, 4.886697979600285e-07, 2.1016845494159497e-05, 1.7813476006267592e-05, 2.814519393723458e-05, 0.000437219045124948, 0.0, 0.0, 0.0], [0.999582827091217, 2.226548076578183e-06, 1.0731709743083684e-08, 1.0947973549946255e-07, 3.200525355850914e-08, 1.5335075431721634e-07, 0.00010880863555939868, 7.246890163514763e-07, 1.4309282505564624e-06, 1.5220484783640131e-05, 0.00028843616019003093, 0.0, 0.0], [0.9987866282463074, 1.971380356735608e-07, 2.760411234703497e-06, 2.237023863926879e-07, 5.070050335120868e-08, 7.966373232193291e-06, 0.00018070342775899917, 0.0001436425227439031, 1.7686363207758404e-05, 2.581150511105079e-06, 1.3474792694978532e-06, 0.0008562813163734972, 0.0], [0.996340811252594, 4.6858681912453903e-07, 5.254606548987795e-06, 7.551483349743648e-07, 3.8904026666841673e-08, 1.3429098544293083e-06, 1.4036399079486728e-05, 1.2260173207323533e-05, 0.0021808932069689035, 2.52474765147781e-05, 7.276222504515317e-07, 4.447097671800293e-05, 0.0013735248940065503]], [[1.0, 0.0, 0.0, 0.0, 0.0, 0.0, 0.0, 0.0, 0.0, 0.0, 0.0, 0.0, 0.0], [0.9452025294303894, 0.05479754880070686, 0.0, 0.0, 0.0, 0.0, 0.0, 0.0, 0.0, 0.0, 0.0, 0.0, 0.0], [0.8640452027320862, 0.11327312141656876, 0.022681744769215584, 0.0, 0.0, 0.0, 0.0, 0.0, 0.0, 0.0, 0.0, 0.0, 0.0], [0.7009150981903076, 0.18184663355350494, 0.1137169897556305, 0.0035212859511375427, 0.0, 0.0, 0.0, 0.0, 0.0, 0.0, 0.0, 0.0, 0.0], [0.5933805108070374, 0.040236782282590866, 0.04828441143035889, 0.31256237626075745, 0.005535949021577835, 0.0, 0.0, 0.0, 0.0, 0.0, 0.0, 0.0, 0.0], [0.5206592082977295, 0.04840950295329094, 0.03787766024470329, 0.20211265981197357, 0.16032639145851135, 0.030614566057920456, 0.0, 0.0, 0.0, 0.0, 0.0, 0.0, 0.0], [0.607200562953949, 0.00463884836062789, 0.03300560265779495, 0.06452582776546478, 0.08428565412759781, 0.19253022968769073, 0.013813314028084278, 0.0, 0.0, 0.0, 0.0, 0.0, 0.0], [0.3028668761253357, 0.057093072682619095, 0.2253546416759491, 0.13017745316028595, 0.13604682683944702, 0.06034194678068161, 0.06866973638534546, 0.019449464976787567, 0.0, 0.0, 0.0, 0.0, 0.0], [0.6085111498832703, 0.012271699495613575, 0.06506314873695374, 0.09671486169099808, 0.03213809058070183, 0.03111969493329525, 0.02635672502219677, 0.11038078367710114, 0.01744391955435276, 0.0, 0.0, 0.0, 0.0], [0.7120140194892883, 0.0011710785329341888, 0.004482546355575323, 0.00690509844571352, 0.0077172862365841866, 0.06778539717197418, 0.016400335356593132, 0.1257452666759491, 0.04719097912311554, 0.010588034056127071, 0.0, 0.0, 0.0], [0.6383596658706665, 0.005374891217797995, 0.020845625549554825, 0.0048551312647759914, 0.010415082797408104, 0.030157610774040222, 0.0113059775903821, 0.07933660596609116, 0.06060343235731125, 0.1269807070493698, 0.011765345931053162, 0.0, 0.0], [0.5794884562492371, 0.0037878945004194975, 0.030271079391241074, 0.009106183424592018, 0.008876540698111057, 0.00987149402499199, 0.004519751761108637, 0.028315311297774315, 0.06543494015932083, 0.16763673722743988, 0.08262204378843307, 0.01006961427628994, 0.0], [0.46469298005104065, 0.022429516538977623, 0.0826517790555954, 0.03214891254901886, 0.008054486475884914, 0.004888439085334539, 0.006307007744908333, 0.02060483582317829, 0.10446666926145554, 0.12470851838588715, 0.06105109676718712, 0.04353152588009834, 0.02446415275335312]], [[1.0, 0.0, 0.0, 0.0, 0.0, 0.0, 0.0, 0.0, 0.0, 0.0, 0.0, 0.0, 0.0], [0.917502224445343, 0.0824977457523346, 0.0, 0.0, 0.0, 0.0, 0.0, 0.0, 0.0, 0.0, 0.0, 0.0, 0.0], [0.7471262216567993, 0.1734626740217209, 0.07941104471683502, 0.0, 0.0, 0.0, 0.0, 0.0, 0.0, 0.0, 0.0, 0.0, 0.0], [0.5678200125694275, 0.1388164609670639, 0.22125451266765594, 0.07210905849933624, 0.0, 0.0, 0.0, 0.0, 0.0, 0.0, 0.0, 0.0, 0.0], [0.5780431032180786, 0.11572553962469101, 0.16340823471546173, 0.12698805332183838, 0.015835050493478775, 0.0, 0.0, 0.0, 0.0, 0.0, 0.0, 0.0, 0.0], [0.41498836874961853, 0.10164064168930054, 0.2789510488510132, 0.10965403914451599, 0.06996948271989822, 0.024796433746814728, 0.0, 0.0, 0.0, 0.0, 0.0, 0.0, 0.0], [0.4437102675437927, 0.05506553500890732, 0.11156647652387619, 0.08935907483100891, 0.10476534813642502, 0.15400947630405426, 0.041523780673742294, 0.0, 0.0, 0.0, 0.0, 0.0, 0.0], [0.4556480348110199, 0.14068603515625, 0.12943153083324432, 0.09664587676525116, 0.04404440522193909, 0.04057895019650459, 0.03418751433491707, 0.05877768248319626, 0.0, 0.0, 0.0, 0.0, 0.0], [0.4450417459011078, 0.043439365923404694, 0.08732802420854568, 0.0941786915063858, 0.05265029892325401, 0.03700963780283928, 0.04922793060541153, 0.1025313138961792, 0.088593028485775, 0.0, 0.0, 0.0, 0.0], [0.5329182147979736, 0.03819836303591728, 0.015534700825810432, 0.04515525698661804, 0.018618091940879822, 0.030163876712322235, 0.05027010664343834, 0.1162571981549263, 0.11440854519605637, 0.03847566619515419, 0.0, 0.0, 0.0], [0.42262139916419983, 0.030983421951532364, 0.018301190808415413, 0.01304528210312128, 0.015143168158829212, 0.021568169817328453, 0.013193762861192226, 0.11313911527395248, 0.26112496852874756, 0.06984157860279083, 0.021037880331277847, 0.0, 0.0], [0.34534430503845215, 0.016965124756097794, 0.028631849214434624, 0.017581839114427567, 0.02004709467291832, 0.014503219164907932, 0.01595356874167919, 0.10292389243841171, 0.1753988116979599, 0.13032779097557068, 0.0956435278058052, 0.036678992211818695, 0.0], [0.29327628016471863, 0.07014243304729462, 0.05740150809288025, 0.016689728945493698, 0.00656222365796566, 0.00915765855461359, 0.0193791463971138, 0.042482733726501465, 0.22112327814102173, 0.07803250104188919, 0.04524369537830353, 0.07167191058397293, 0.06883683800697327]], [[1.0, 0.0, 0.0, 0.0, 0.0, 0.0, 0.0, 0.0, 0.0, 0.0, 0.0, 0.0, 0.0], [0.9693061709403992, 0.03069382905960083, 0.0, 0.0, 0.0, 0.0, 0.0, 0.0, 0.0, 0.0, 0.0, 0.0, 0.0], [0.9266896843910217, 0.04588158428668976, 0.027428673580288887, 0.0, 0.0, 0.0, 0.0, 0.0, 0.0, 0.0, 0.0, 0.0, 0.0], [0.6888942718505859, 0.06740061938762665, 0.15777729451656342, 0.08592777699232101, 0.0, 0.0, 0.0, 0.0, 0.0, 0.0, 0.0, 0.0, 0.0], [0.30192238092422485, 0.022916294634342194, 0.04077859967947006, 0.42231285572052, 0.21206986904144287, 0.0, 0.0, 0.0, 0.0, 0.0, 0.0, 0.0, 0.0], [0.09161777794361115, 0.01076898816972971, 0.059038784354925156, 0.15235047042369843, 0.6481494307518005, 0.03807453066110611, 0.0, 0.0, 0.0, 0.0, 0.0, 0.0, 0.0], [0.17125040292739868, 0.004799241200089455, 0.039951879531145096, 0.06586790084838867, 0.5408008098602295, 0.1254587322473526, 0.05187105014920235, 0.0, 0.0, 0.0, 0.0, 0.0, 0.0], [0.21326382458209991, 0.03195873647928238, 0.06546909362077713, 0.17517882585525513, 0.26262956857681274, 0.07020033895969391, 0.13764062523841858, 0.04365900903940201, 0.0, 0.0, 0.0, 0.0, 0.0], [0.39757755398750305, 0.027042658999562263, 0.07204689085483551, 0.19269470870494843, 0.1478036791086197, 0.014998044818639755, 0.034451648592948914, 0.07641088962554932, 0.03697388619184494, 0.0, 0.0, 0.0, 0.0], [0.7572868466377258, 0.006867719814181328, 0.002819487825036049, 0.02249976061284542, 0.02231106348335743, 0.010694136843085289, 0.04067286103963852, 0.09089042991399765, 0.034487321972846985, 0.011470410041511059, 0.0, 0.0, 0.0], [0.8377400636672974, 0.004447808023542166, 0.007068087812513113, 0.010960065759718418, 0.0027729731518775225, 0.004264450632035732, 0.012014133855700493, 0.02597637288272381, 0.01784776709973812, 0.05608506128191948, 0.02082323282957077, 0.0, 0.0], [0.7630500793457031, 0.0026384969241917133, 0.0068088434636592865, 0.007121462374925613, 0.021461479365825653, 0.010075166821479797, 0.009863443672657013, 0.03033081628382206, 0.019806116819381714, 0.021535852923989296, 0.07458937168121338, 0.03271888196468353, 0.0], [0.6052139401435852, 0.017360998317599297, 0.007586993742734194, 0.013723212294280529, 0.00996786542236805, 0.00829718541353941, 0.024433307349681854, 0.012376011349260807, 0.07730989903211594, 0.04060719162225723, 0.029853014275431633, 0.0941777229309082, 0.05909265577793121]], [[1.0, 0.0, 0.0, 0.0, 0.0, 0.0, 0.0, 0.0, 0.0, 0.0, 0.0, 0.0, 0.0], [0.9994981288909912, 0.0005019116797484457, 0.0, 0.0, 0.0, 0.0, 0.0, 0.0, 0.0, 0.0, 0.0, 0.0, 0.0], [0.9453173279762268, 0.013413499109447002, 0.0412692129611969, 0.0, 0.0, 0.0, 0.0, 0.0, 0.0, 0.0, 0.0, 0.0, 0.0], [0.995535135269165, 0.0017687490908429027, 0.0009680435759946704, 0.0017281221225857735, 0.0, 0.0, 0.0, 0.0, 0.0, 0.0, 0.0, 0.0, 0.0], [0.9915281534194946, 0.00023874151520431042, 7.317130803130567e-05, 0.0012839906848967075, 0.0068758344277739525, 0.0, 0.0, 0.0, 0.0, 0.0, 0.0, 0.0, 0.0], [0.9915090799331665, 0.0005407255957834423, 8.292304119095206e-05, 0.00018276738410349935, 0.00045707207755185664, 0.00722740450873971, 0.0, 0.0, 0.0, 0.0, 0.0, 0.0, 0.0], [0.994281530380249, 0.0001460355124436319, 0.00015406384773086756, 0.0014756893506273627, 9.241310181096196e-06, 0.00024955952540040016, 0.003683835733681917, 0.0, 0.0, 0.0, 0.0, 0.0, 0.0], [0.9498976469039917, 0.0007290334324352443, 0.0022429185919463634, 0.006978003308176994, 0.00035237817792221904, 0.0007958364440128207, 0.008322484791278839, 0.03068160079419613, 0.0, 0.0, 0.0, 0.0, 0.0], [0.8186233639717102, 0.004465916194021702, 0.0005210309172980487, 0.008244472555816174, 0.0004062917723786086, 0.002187359146773815, 0.04194016009569168, 0.11042123287916183, 0.013190174475312233, 0.0, 0.0, 0.0, 0.0], [0.9067438840866089, 0.0008007737924344838, 1.794227136997506e-05, 0.0020109221804887056, 0.00017056761134881526, 0.0014924792340025306, 0.03471192345023155, 0.04587810859084129, 0.0043707843869924545, 0.003802565624937415, 0.0, 0.0, 0.0], [0.899490237236023, 0.001665928983129561, 3.184321030857973e-05, 6.637258047703654e-05, 6.217456393642351e-05, 0.00031522000790573657, 0.07288628071546555, 0.0033599683083593845, 0.00577774690464139, 0.0073168775998055935, 0.009027300402522087, 0.0, 0.0], [0.9147146940231323, 0.00019777289708144963, 0.0002911304181907326, 0.00026072608307003975, 9.511621101410128e-06, 0.0014982023276388645, 0.020391862839460373, 0.026319673284888268, 0.025203518569469452, 0.0016893818974494934, 0.0007078654016368091, 0.008715699426829815, 0.0], [0.8682141900062561, 0.0004721080476883799, 0.002337035024538636, 0.0014885071432217956, 0.00013343762839213014, 0.00038696391857229173, 0.010105673223733902, 0.003827977692708373, 0.07547123730182648, 0.0037235559429973364, 0.0006805289885960519, 0.0033698990009725094, 0.029788902029395103]], [[1.0, 0.0, 0.0, 0.0, 0.0, 0.0, 0.0, 0.0, 0.0, 0.0, 0.0, 0.0, 0.0], [0.9921798706054688, 0.0078201275318861, 0.0, 0.0, 0.0, 0.0, 0.0, 0.0, 0.0, 0.0, 0.0, 0.0, 0.0], [0.8149930238723755, 0.1431495100259781, 0.041857510805130005, 0.0, 0.0, 0.0, 0.0, 0.0, 0.0, 0.0, 0.0, 0.0, 0.0], [0.5398511290550232, 0.07557233422994614, 0.3812001943588257, 0.003376350039616227, 0.0, 0.0, 0.0, 0.0, 0.0, 0.0, 0.0, 0.0, 0.0], [0.8037284016609192, 0.002506096614524722, 0.009008643217384815, 0.15159672498703003, 0.03316018357872963, 0.0, 0.0, 0.0, 0.0, 0.0, 0.0, 0.0, 0.0], [0.43602389097213745, 0.0031151166185736656, 0.005651236046105623, 0.02817370928823948, 0.5082129836082458, 0.01882309280335903, 0.0, 0.0, 0.0, 0.0, 0.0, 0.0, 0.0], [0.8242751955986023, 0.0016182531835511327, 0.0012914931867271662, 0.003423169022426009, 0.011321441270411015, 0.15354278683662415, 0.004527602344751358, 0.0, 0.0, 0.0, 0.0, 0.0, 0.0], [0.7650293707847595, 0.002433438552543521, 0.003417582716792822, 0.0012845860328525305, 0.002135144080966711, 0.001707798452116549, 0.19884565472602844, 0.025146465748548508, 0.0, 0.0, 0.0, 0.0, 0.0], [0.9262102842330933, 0.002933677053079009, 0.0015214375453069806, 0.0027442844584584236, 0.0011269042734056711, 0.00018871402426157147, 0.008521982468664646, 0.05194966495037079, 0.004803042393177748, 0.0, 0.0, 0.0, 0.0], [0.6963196396827698, 0.0014333002036437392, 0.00033392783370800316, 0.0006933684344403446, 0.00026631352375261486, 0.00046684371773153543, 0.01068258285522461, 0.016274644061923027, 0.23022885620594025, 0.04330049082636833, 0.0, 0.0, 0.0], [0.6324272751808167, 0.0005074213840998709, 0.001439724350348115, 0.00231878156773746, 0.00034317851532250643, 0.0003304365964140743, 0.002313394332304597, 0.002968111075460911, 0.12161945551633835, 0.2221817672252655, 0.013550499454140663, 0.0, 0.0], [0.6652205586433411, 0.0015373231144621968, 0.002581904409453273, 0.002400248311460018, 0.0009574375580996275, 0.0040185400284826756, 0.010049373842775822, 0.0006470850785262883, 0.021913446485996246, 0.04023629054427147, 0.19702357053756714, 0.05341428890824318, 0.0], [0.9270402193069458, 0.0011583140585571527, 0.0010768509237095714, 0.0003591377753764391, 0.0008349120034836233, 0.00045769716962240636, 0.0046403068117797375, 0.0013704855227842927, 0.004265059716999531, 0.0007588762673549354, 0.0007431486155837774, 0.03977232426404953, 0.01752268522977829]], [[1.0, 0.0, 0.0, 0.0, 0.0, 0.0, 0.0, 0.0, 0.0, 0.0, 0.0, 0.0, 0.0], [0.9661061763763428, 0.03389384225010872, 0.0, 0.0, 0.0, 0.0, 0.0, 0.0, 0.0, 0.0, 0.0, 0.0, 0.0], [0.9400973320007324, 0.036184195429086685, 0.02371847815811634, 0.0, 0.0, 0.0, 0.0, 0.0, 0.0, 0.0, 0.0, 0.0, 0.0], [0.7186483144760132, 0.02273699641227722, 0.028519004583358765, 0.23009568452835083, 0.0, 0.0, 0.0, 0.0, 0.0, 0.0, 0.0, 0.0, 0.0], [0.0894920825958252, 0.003914281725883484, 0.002640451304614544, 0.881363034248352, 0.022590208798646927, 0.0, 0.0, 0.0, 0.0, 0.0, 0.0, 0.0, 0.0], [0.15438216924667358, 0.026055818423628807, 0.03653377294540405, 0.50252366065979, 0.2634029984474182, 0.01710163988173008, 0.0, 0.0, 0.0, 0.0, 0.0, 0.0, 0.0], [0.6700803637504578, 0.01590804196894169, 0.016323808580636978, 0.1316337287425995, 0.13240422308444977, 0.021024519577622414, 0.012625349685549736, 0.0, 0.0, 0.0, 0.0, 0.0, 0.0], [0.5162565112113953, 0.08097223937511444, 0.0424593910574913, 0.1343906819820404, 0.12942387163639069, 0.040022991597652435, 0.018265992403030396, 0.03820818290114403, 0.0, 0.0, 0.0, 0.0, 0.0], [0.6130266785621643, 0.06016046553850174, 0.015843596309423447, 0.09019860625267029, 0.1327161192893982, 0.0257034320384264, 0.0075465720146894455, 0.04170805960893631, 0.01309644803404808, 0.0, 0.0, 0.0, 0.0], [0.7597817182540894, 0.017896967008709908, 0.0020569751504808664, 0.04248674958944321, 0.08437905460596085, 0.009440533816814423, 0.027934497222304344, 0.04226412996649742, 0.0068677812814712524, 0.006891606841236353, 0.0, 0.0, 0.0], [0.9490697383880615, 0.000789014738984406, 0.004756818991154432, 0.0018278222996741533, 0.027721978724002838, 0.0008456049836240709, 0.0005691933911293745, 0.001996493898332119, 0.0017774382140487432, 0.010281304828822613, 0.00036470001214183867, 0.0, 0.0], [0.6774584054946899, 0.003029431449249387, 0.0017368976259604096, 0.0027446316089481115, 0.021371111273765564, 0.0017529561882838607, 0.009601423516869545, 0.002256774576380849, 0.0011964821023866534, 0.006413817405700684, 0.005366174038499594, 0.2670719027519226, 0.0], [0.7717429995536804, 0.01373544055968523, 0.002268803073093295, 0.003281728597357869, 0.008688577450811863, 0.006655965466052294, 0.004287291318178177, 0.003671528771519661, 0.0045854211784899235, 0.0026396929752081633, 0.0015043378807604313, 0.16534152626991272, 0.011596697382628918]], [[1.0, 0.0, 0.0, 0.0, 0.0, 0.0, 0.0, 0.0, 0.0, 0.0, 0.0, 0.0, 0.0], [0.9908314347267151, 0.009168487042188644, 0.0, 0.0, 0.0, 0.0, 0.0, 0.0, 0.0, 0.0, 0.0, 0.0, 0.0], [0.9718046188354492, 0.01598808914422989, 0.012207302264869213, 0.0, 0.0, 0.0, 0.0, 0.0, 0.0, 0.0, 0.0, 0.0, 0.0], [0.9915939569473267, 0.004377803299576044, 0.0011579376878216863, 0.0028703296557068825, 0.0, 0.0, 0.0, 0.0, 0.0, 0.0, 0.0, 0.0, 0.0], [0.9825068116188049, 0.0024445054586976767, 0.002866890747100115, 0.004369130823761225, 0.007812613621354103, 0.0, 0.0, 0.0, 0.0, 0.0, 0.0, 0.0, 0.0], [0.9361929297447205, 0.010112310759723186, 0.002008775481954217, 0.0012131057446822524, 0.014293539337813854, 0.0361793152987957, 0.0, 0.0, 0.0, 0.0, 0.0, 0.0, 0.0], [0.9491310119628906, 0.0032210308127105236, 0.013248162344098091, 0.009592883288860321, 0.0013371724635362625, 0.007764328271150589, 0.015705343335866928, 0.0, 0.0, 0.0, 0.0, 0.0, 0.0], [0.8789011836051941, 0.021066417917609215, 0.017322152853012085, 0.013471902348101139, 0.0152084119617939, 0.009283200837671757, 0.012827003374695778, 0.03191974014043808, 0.0, 0.0, 0.0, 0.0, 0.0], [0.7323577404022217, 0.009851416572928429, 0.0054268925450742245, 0.0030199934262782335, 0.0021715157199651003, 0.003602684009820223, 0.0375683456659317, 0.1499386727809906, 0.056062813848257065, 0.0, 0.0, 0.0, 0.0], [0.8087962865829468, 0.0013200578978285193, 0.00014518290117848665, 0.008104206994175911, 0.007267821580171585, 0.009036957286298275, 0.05428975820541382, 0.08372368663549423, 0.01892768405377865, 0.008388262242078781, 0.0, 0.0, 0.0], [0.8244217038154602, 0.0033370694145560265, 0.0007202239357866347, 0.0015355313662439585, 0.007881013676524162, 0.0029852937441319227, 0.042358845472335815, 0.03538921847939491, 0.034723203629255295, 0.0211862213909626, 0.025461716577410698, 0.0, 0.0], [0.7623503804206848, 0.0019707209430634975, 0.0074737416580319405, 0.0009300933452323079, 0.0028448915109038353, 0.01406501792371273, 0.05673714727163315, 0.07676616311073303, 0.04324338585138321, 0.01488595362752676, 0.0015974962152540684, 0.017135001718997955, 0.0], [0.5376885533332825, 0.003351543564349413, 0.003984137438237667, 0.0008846995187923312, 0.0020334364380687475, 0.0011720447801053524, 0.004908336792141199, 0.004680410958826542, 0.36612093448638916, 0.03153369948267937, 0.0030837629456073046, 0.012941034510731697, 0.02761739492416382]], [[1.0, 0.0, 0.0, 0.0, 0.0, 0.0, 0.0, 0.0, 0.0, 0.0, 0.0, 0.0, 0.0], [0.9963058233261108, 0.0036941971629858017, 0.0, 0.0, 0.0, 0.0, 0.0, 0.0, 0.0, 0.0, 0.0, 0.0, 0.0], [0.9605210423469543, 0.022849582135677338, 0.016629362478852272, 0.0, 0.0, 0.0, 0.0, 0.0, 0.0, 0.0, 0.0, 0.0, 0.0], [0.9551050066947937, 0.01301882416009903, 0.03139224648475647, 0.0004838228633161634, 0.0, 0.0, 0.0, 0.0, 0.0, 0.0, 0.0, 0.0, 0.0], [0.9803115129470825, 0.006741229444742203, 0.006588947959244251, 0.004227322991937399, 0.002130961511284113, 0.0, 0.0, 0.0, 0.0, 0.0, 0.0, 0.0, 0.0], [0.9467840790748596, 0.011912456713616848, 0.01319814845919609, 0.00688945222645998, 0.013678692281246185, 0.007537127006798983, 0.0, 0.0, 0.0, 0.0, 0.0, 0.0, 0.0], [0.8399340510368347, 0.0406317263841629, 0.024329306557774544, 0.02562825009226799, 0.02416783571243286, 0.011642804369330406, 0.03366595879197121, 0.0, 0.0, 0.0, 0.0, 0.0, 0.0], [0.7878867387771606, 0.01361013762652874, 0.010722557082772255, 0.0082112867385149, 0.009693361818790436, 0.012836506590247154, 0.11982326209545135, 0.03721611201763153, 0.0, 0.0, 0.0, 0.0, 0.0], [0.5585777759552002, 0.041030365973711014, 0.045651525259017944, 0.03200691193342209, 0.043149035423994064, 0.03146234527230263, 0.1495380699634552, 0.09560815244913101, 0.0029758198652416468, 0.0, 0.0, 0.0, 0.0], [0.6767243146896362, 0.009976867586374283, 0.0262574665248394, 0.01658301055431366, 0.03548567369580269, 0.02258986048400402, 0.09347466379404068, 0.10502305626869202, 0.007546586915850639, 0.006338445004075766, 0.0, 0.0, 0.0], [0.7873890995979309, 0.007957699708640575, 0.013974018394947052, 0.010600167326629162, 0.03538525477051735, 0.015521028079092503, 0.01990017108619213, 0.08550908416509628, 0.009261338971555233, 0.010767116211354733, 0.0037349809426814318, 0.0, 0.0], [0.7662367224693298, 0.012542054057121277, 0.011578294448554516, 0.04315134137868881, 0.019921334460377693, 0.012550913728773594, 0.03056422807276249, 0.07718947529792786, 0.007421094458550215, 0.011743606999516487, 0.006101375911384821, 0.0009994872380048037, 0.0], [0.8114635944366455, 0.012196116149425507, 0.006902667693793774, 0.009608283638954163, 0.010735305026173592, 0.006476873066276312, 0.0440673828125, 0.04338682070374489, 0.016819696873426437, 0.013197632506489754, 0.005029679741710424, 0.004145423881709576, 0.015970569103956223]], [[1.0, 0.0, 0.0, 0.0, 0.0, 0.0, 0.0, 0.0, 0.0, 0.0, 0.0, 0.0, 0.0], [0.9554039239883423, 0.04459602013230324, 0.0, 0.0, 0.0, 0.0, 0.0, 0.0, 0.0, 0.0, 0.0, 0.0, 0.0], [0.6681343913078308, 0.23628322780132294, 0.09558242559432983, 0.0, 0.0, 0.0, 0.0, 0.0, 0.0, 0.0, 0.0, 0.0, 0.0], [0.9311758279800415, 0.02190682291984558, 0.01788022741675377, 0.02903721109032631, 0.0, 0.0, 0.0, 0.0, 0.0, 0.0, 0.0, 0.0, 0.0], [0.9094663262367249, 0.03303195536136627, 0.012009214609861374, 0.027819238603115082, 0.017673248425126076, 0.0, 0.0, 0.0, 0.0, 0.0, 0.0, 0.0, 0.0], [0.8476813435554504, 0.01300789788365364, 0.0266035757958889, 0.05345315486192703, 0.01684873178601265, 0.04240523278713226, 0.0, 0.0, 0.0, 0.0, 0.0, 0.0, 0.0], [0.38573384284973145, 0.003923922311514616, 0.017202196642756462, 0.0037715700455009937, 0.01464848592877388, 0.009218581020832062, 0.5655014514923096, 0.0, 0.0, 0.0, 0.0, 0.0, 0.0], [0.2697059214115143, 0.019301217049360275, 0.02041432447731495, 0.015449450351297855, 0.025658870115876198, 0.017667289823293686, 0.5822728276252747, 0.04953018203377724, 0.0, 0.0, 0.0, 0.0, 0.0], [0.31480464339256287, 0.0048697516322135925, 0.012336215004324913, 0.016790512949228287, 0.016226449981331825, 0.14750926196575165, 0.3183523118495941, 0.13841554522514343, 0.030695350840687752, 0.0, 0.0, 0.0, 0.0], [0.3733794689178467, 0.007369632367044687, 0.01246904768049717, 0.014784466475248337, 0.010659507475793362, 0.14292891323566437, 0.25042322278022766, 0.13596855103969574, 0.027611127123236656, 0.024406110867857933, 0.0, 0.0, 0.0], [0.5620332956314087, 0.006680789869278669, 0.015087558887898922, 0.004343247041106224, 0.0072982716374099255, 0.05205919221043587, 0.12377920001745224, 0.13646993041038513, 0.03609825670719147, 0.04829590395092964, 0.007854417897760868, 0.0, 0.0], [0.4377106726169586, 0.01928683929145336, 0.021650556474924088, 0.0009996737353503704, 0.011060751043260098, 0.02341907098889351, 0.32114487886428833, 0.045084450393915176, 0.023805292323231697, 0.022023195400834084, 0.001065746764652431, 0.07274888455867767, 0.0], [0.27749404311180115, 0.02474241517484188, 0.013217594474554062, 0.0027233033906668425, 0.007189421448856592, 0.017730524763464928, 0.5645270347595215, 0.0364656075835228, 0.00584405567497015, 0.006171254441142082, 0.0009529627859592438, 0.02655051462352276, 0.016391262412071228]], [[1.0, 0.0, 0.0, 0.0, 0.0, 0.0, 0.0, 0.0, 0.0, 0.0, 0.0, 0.0, 0.0], [0.8658303618431091, 0.13416962325572968, 0.0, 0.0, 0.0, 0.0, 0.0, 0.0, 0.0, 0.0, 0.0, 0.0, 0.0], [0.8295583128929138, 0.07875173538923264, 0.09169001877307892, 0.0, 0.0, 0.0, 0.0, 0.0, 0.0, 0.0, 0.0, 0.0, 0.0], [0.8714158535003662, 0.010482700541615486, 0.017565980553627014, 0.10053550451993942, 0.0, 0.0, 0.0, 0.0, 0.0, 0.0, 0.0, 0.0, 0.0], [0.861022412776947, 0.00907199364155531, 0.026150843128561974, 0.02738334611058235, 0.07637141644954681, 0.0, 0.0, 0.0, 0.0, 0.0, 0.0, 0.0, 0.0], [0.7623226642608643, 0.009185019880533218, 0.008947507478296757, 0.006923189852386713, 0.028880689293146133, 0.1837410181760788, 0.0, 0.0, 0.0, 0.0, 0.0, 0.0, 0.0], [0.867210328578949, 0.03213829547166824, 0.022394882515072823, 0.006412058603018522, 0.013351514004170895, 0.019056538119912148, 0.03943635895848274, 0.0, 0.0, 0.0, 0.0, 0.0, 0.0], [0.6331478953361511, 0.03728541359305382, 0.04399677738547325, 0.007600267417728901, 0.014781137928366661, 0.004878619220107794, 0.03267434611916542, 0.2256355732679367, 0.0, 0.0, 0.0, 0.0, 0.0], [0.7009198069572449, 0.011661715805530548, 0.013427301310002804, 0.00536245247349143, 0.00332976714707911, 0.00566124077886343, 0.009151228703558445, 0.0788780152797699, 0.17160849273204803, 0.0, 0.0, 0.0, 0.0], [0.7944783568382263, 0.002262983936816454, 0.013189165852963924, 0.006568883080035448, 0.0010531829902902246, 0.0018611859995871782, 0.004965555854141712, 0.025982124730944633, 0.016511788591742516, 0.13312675058841705, 0.0, 0.0, 0.0], [0.8771604299545288, 0.00043146981624886394, 0.002346170600503683, 0.0028090057894587517, 0.0005089890328235924, 0.0007804635679349303, 0.001314919558353722, 0.01197056658565998, 0.006545082200318575, 0.016773711889982224, 0.07935915142297745, 0.0, 0.0], [0.7879079580307007, 0.009965889155864716, 0.006414433475583792, 0.0021066865883767605, 0.0014782286016270518, 0.0030761221423745155, 0.012398368678987026, 0.06389822065830231, 0.03196348249912262, 0.015704186633229256, 0.022264620289206505, 0.042821820825338364, 0.0], [0.6508951783180237, 0.018874265253543854, 0.006957543082535267, 0.002143462421372533, 0.005478871054947376, 0.0026446261908859015, 0.006155115552246571, 0.07660289108753204, 0.026517560705542564, 0.007826944813132286, 0.01535323541611433, 0.009690968319773674, 0.17085933685302734]]], [[[1.0, 0.0, 0.0, 0.0, 0.0, 0.0, 0.0, 0.0, 0.0, 0.0, 0.0, 0.0, 0.0], [0.8539789319038391, 0.1460210531949997, 0.0, 0.0, 0.0, 0.0, 0.0, 0.0, 0.0, 0.0, 0.0, 0.0, 0.0], [0.46969735622406006, 0.47884151339530945, 0.0514611192047596, 0.0, 0.0, 0.0, 0.0, 0.0, 0.0, 0.0, 0.0, 0.0, 0.0], [0.2741013467311859, 0.4153333008289337, 0.28713884949684143, 0.023426435887813568, 0.0, 0.0, 0.0, 0.0, 0.0, 0.0, 0.0, 0.0, 0.0], [0.4874185025691986, 0.20857439935207367, 0.13330911099910736, 0.12111988663673401, 0.049578048288822174, 0.0, 0.0, 0.0, 0.0, 0.0, 0.0, 0.0, 0.0], [0.4056255519390106, 0.089488685131073, 0.10966207832098007, 0.12424594163894653, 0.24746568500995636, 0.023512061685323715, 0.0, 0.0, 0.0, 0.0, 0.0, 0.0, 0.0], [0.4150204062461853, 0.026939691975712776, 0.05504199489951134, 0.02967454120516777, 0.10127808153629303, 0.3071328401565552, 0.06491239368915558, 0.0, 0.0, 0.0, 0.0, 0.0, 0.0], [0.26711851358413696, 0.2722020447254181, 0.20973895490169525, 0.11983342468738556, 0.022479189559817314, 0.02192584238946438, 0.05939014256000519, 0.027311889454722404, 0.0, 0.0, 0.0, 0.0, 0.0], [0.3156090974807739, 0.019920269027352333, 0.02457977458834648, 0.032825566828250885, 0.011793479323387146, 0.0790993869304657, 0.4108520448207855, 0.07787945121526718, 0.027440903708338737, 0.0, 0.0, 0.0, 0.0], [0.2778763175010681, 0.02672780677676201, 0.013799550011754036, 0.02280721627175808, 0.016406644135713577, 0.10400046408176422, 0.2643829584121704, 0.103033646941185, 0.15161629021167755, 0.0193491131067276, 0.0, 0.0, 0.0], [0.20856249332427979, 0.01766621135175228, 0.020238906145095825, 0.012144269421696663, 0.010256074368953705, 0.08992733806371689, 0.1536565124988556, 0.04985455423593521, 0.2165077179670334, 0.17516756057739258, 0.04601839557290077, 0.0, 0.0], [0.24756641685962677, 0.018339598551392555, 0.017178745940327644, 0.010165615007281303, 0.011578857898712158, 0.07096120715141296, 0.05617562681436539, 0.02075497806072235, 0.1334293633699417, 0.16468802094459534, 0.18495787680149078, 0.06420370191335678, 0.0], [0.60014808177948, 0.07407891005277634, 0.03093792125582695, 0.013371257111430168, 0.0038944873958826065, 0.013984301127493382, 0.0450715534389019, 0.013632230460643768, 0.0357251837849617, 0.036089763045310974, 0.034655578434467316, 0.07308007776737213, 0.025330720469355583]], [[1.0, 0.0, 0.0, 0.0, 0.0, 0.0, 0.0, 0.0, 0.0, 0.0, 0.0, 0.0, 0.0], [0.9539392590522766, 0.04606068879365921, 0.0, 0.0, 0.0, 0.0, 0.0, 0.0, 0.0, 0.0, 0.0, 0.0, 0.0], [0.9264724850654602, 0.05147017538547516, 0.022057335823774338, 0.0, 0.0, 0.0, 0.0, 0.0, 0.0, 0.0, 0.0, 0.0, 0.0], [0.9824990034103394, 0.0051393830217421055, 0.004722151439636946, 0.007639416493475437, 0.0, 0.0, 0.0, 0.0, 0.0, 0.0, 0.0, 0.0, 0.0], [0.9051739573478699, 0.006854536943137646, 0.018073832616209984, 0.04655060917139053, 0.023347068578004837, 0.0, 0.0, 0.0, 0.0, 0.0, 0.0, 0.0, 0.0], [0.924053966999054, 0.00552118057385087, 0.003117460059002042, 0.007295949384570122, 0.0514669194817543, 0.008544654585421085, 0.0, 0.0, 0.0, 0.0, 0.0, 0.0, 0.0], [0.9582163095474243, 0.00917903520166874, 0.014471766538918018, 0.00562267703935504, 0.0015005642781034112, 0.0019914694130420685, 0.00901813991367817, 0.0, 0.0, 0.0, 0.0, 0.0, 0.0], [0.7686071395874023, 0.04058488458395004, 0.05593034252524376, 0.05622628703713417, 0.026749679818749428, 0.010298565961420536, 0.008462321013212204, 0.03314078971743584, 0.0, 0.0, 0.0, 0.0, 0.0], [0.8724940419197083, 0.0032815616577863693, 0.011054061353206635, 0.003216860117390752, 0.008465716615319252, 0.003261554753407836, 0.012607602402567863, 0.04804757237434387, 0.03757096081972122, 0.0, 0.0, 0.0, 0.0], [0.8566084504127502, 0.006572308484464884, 0.002687332220375538, 0.01306857168674469, 0.019471511244773865, 0.00533773098140955, 0.014430707320570946, 0.03352588787674904, 0.027352889999747276, 0.020944539457559586, 0.0, 0.0, 0.0], [0.8965151309967041, 0.0032577344682067633, 0.006714552640914917, 0.005546539556235075, 0.004271266516298056, 0.0018320913659408689, 0.005040413700044155, 0.019789941608905792, 0.018602173775434494, 0.023387527093291283, 0.015042608603835106, 0.0, 0.0], [0.8801518082618713, 0.004945077933371067, 0.005228857044130564, 0.0016029434045776725, 0.008070304989814758, 0.0016658122185617685, 0.005726268049329519, 0.02081337198615074, 0.018065474927425385, 0.013738129287958145, 0.02467527613043785, 0.015316581353545189, 0.0], [0.8080892562866211, 0.014039057306945324, 0.009573057293891907, 0.00108897197060287, 0.00040376995457336307, 0.0013078802730888128, 0.0032980870455503464, 0.006230792496353388, 0.03972696140408516, 0.057736605405807495, 0.020469415932893753, 0.022059155628085136, 0.015977028757333755]], [[1.0, 0.0, 0.0, 0.0, 0.0, 0.0, 0.0, 0.0, 0.0, 0.0, 0.0, 0.0, 0.0], [0.988086462020874, 0.01191359106451273, 0.0, 0.0, 0.0, 0.0, 0.0, 0.0, 0.0, 0.0, 0.0, 0.0, 0.0], [0.933259129524231, 0.025650059804320335, 0.04109083116054535, 0.0, 0.0, 0.0, 0.0, 0.0, 0.0, 0.0, 0.0, 0.0, 0.0], [0.8821269869804382, 0.05879173427820206, 0.04556246101856232, 0.013518820516765118, 0.0, 0.0, 0.0, 0.0, 0.0, 0.0, 0.0, 0.0, 0.0], [0.950225830078125, 0.017819134518504143, 0.012932710349559784, 0.008393513970077038, 0.010628767311573029, 0.0, 0.0, 0.0, 0.0, 0.0, 0.0, 0.0, 0.0], [0.8272379636764526, 0.028600310906767845, 0.03608178719878197, 0.01100100763142109, 0.016425147652626038, 0.08065382391214371, 0.0, 0.0, 0.0, 0.0, 0.0, 0.0, 0.0], [0.860714316368103, 0.015525972470641136, 0.019093217328190804, 0.006998775526881218, 0.013709263876080513, 0.05385332927107811, 0.03010515682399273, 0.0, 0.0, 0.0, 0.0, 0.0, 0.0], [0.7468035817146301, 0.016280435025691986, 0.017377547919750214, 0.014934126287698746, 0.018447186797857285, 0.05789540708065033, 0.04451865702867508, 0.0837431475520134, 0.0, 0.0, 0.0, 0.0, 0.0], [0.6915041208267212, 0.03025292418897152, 0.022213179618120193, 0.016877921298146248, 0.019418450072407722, 0.04040848836302757, 0.056583840399980545, 0.09890385717153549, 0.02383727952837944, 0.0, 0.0, 0.0, 0.0], [0.7807461023330688, 0.016545316204428673, 0.013038285076618195, 0.01292804442346096, 0.018389439210295677, 0.020481854677200317, 0.026505684480071068, 0.06773928552865982, 0.01985626295208931, 0.023769669234752655, 0.0, 0.0, 0.0], [0.7208517789840698, 0.028826583176851273, 0.017881279811263084, 0.012120138853788376, 0.02103644609451294, 0.02669926919043064, 0.048321861773729324, 0.06547223776578903, 0.015631375834345818, 0.03386528044939041, 0.009293661452829838, 0.0, 0.0], [0.7045844197273254, 0.01651124842464924, 0.014045031741261482, 0.010942105203866959, 0.02260931394994259, 0.03600671514868736, 0.03262300789356232, 0.0736902505159378, 0.03741949796676636, 0.021402914077043533, 0.015726635232567787, 0.014438854530453682, 0.0], [0.6360145211219788, 0.009748172014951706, 0.0121829928830266, 0.01314943190664053, 0.01327062863856554, 0.04250981658697128, 0.03719240427017212, 0.06189272925257683, 0.03788222745060921, 0.01501203328371048, 0.010040955618023872, 0.011157846078276634, 0.09994625300168991]], [[1.0, 0.0, 0.0, 0.0, 0.0, 0.0, 0.0, 0.0, 0.0, 0.0, 0.0, 0.0, 0.0], [0.9689298272132874, 0.031070131808519363, 0.0, 0.0, 0.0, 0.0, 0.0, 0.0, 0.0, 0.0, 0.0, 0.0, 0.0], [0.8674542903900146, 0.07559507340192795, 0.05695059895515442, 0.0, 0.0, 0.0, 0.0, 0.0, 0.0, 0.0, 0.0, 0.0, 0.0], [0.7967851161956787, 0.12026619166135788, 0.051330335438251495, 0.03161841630935669, 0.0, 0.0, 0.0, 0.0, 0.0, 0.0, 0.0, 0.0, 0.0], [0.9413283467292786, 0.0200602225959301, 0.008858668617904186, 0.020300500094890594, 0.009452247992157936, 0.0, 0.0, 0.0, 0.0, 0.0, 0.0, 0.0, 0.0], [0.7909002900123596, 0.02439207024872303, 0.024116357788443565, 0.0809442475438118, 0.04363933578133583, 0.03600769117474556, 0.0, 0.0, 0.0, 0.0, 0.0, 0.0, 0.0], [0.9043503999710083, 0.010064075700938702, 0.01836380921304226, 0.01885245554149151, 0.017203176394104958, 0.017597248777747154, 0.013568839058279991, 0.0, 0.0, 0.0, 0.0, 0.0, 0.0], [0.31936630606651306, 0.08478497713804245, 0.0682055875658989, 0.1357545107603073, 0.12098546326160431, 0.1519329696893692, 0.07074479758739471, 0.04822538420557976, 0.0, 0.0, 0.0, 0.0, 0.0], [0.5350242257118225, 0.03101777471601963, 0.06457354873418808, 0.10804983228445053, 0.0701972097158432, 0.07288219779729843, 0.039392389357089996, 0.05417345091700554, 0.024689454585313797, 0.0, 0.0, 0.0, 0.0], [0.648192286491394, 0.0221070796251297, 0.02889728918671608, 0.04404524341225624, 0.04759418964385986, 0.043735750019550323, 0.04539361968636513, 0.051311396062374115, 0.026726072654128075, 0.04199706017971039, 0.0, 0.0, 0.0], [0.7052565813064575, 0.024862239137291908, 0.01815905049443245, 0.02858700230717659, 0.023260580375790596, 0.03142046928405762, 0.026088397949934006, 0.06744018942117691, 0.029103906825184822, 0.021428890526294708, 0.024392588064074516, 0.0, 0.0], [0.6044583916664124, 0.028349177911877632, 0.012247253209352493, 0.02057655341923237, 0.013339180499315262, 0.04702001065015793, 0.07471061497926712, 0.0767410397529602, 0.03167309612035751, 0.015236378647387028, 0.028076080605387688, 0.04757215827703476, 0.0], [0.3496731221675873, 0.061094239354133606, 0.03064626269042492, 0.029369300231337547, 0.021888041868805885, 0.05704145133495331, 0.06288246810436249, 0.09673544764518738, 0.06588160246610641, 0.03388288989663124, 0.02495303936302662, 0.09037027508020401, 0.07558182626962662]], [[1.0, 0.0, 0.0, 0.0, 0.0, 0.0, 0.0, 0.0, 0.0, 0.0, 0.0, 0.0, 0.0], [0.8020334243774414, 0.1979665458202362, 0.0, 0.0, 0.0, 0.0, 0.0, 0.0, 0.0, 0.0, 0.0, 0.0, 0.0], [0.5876971483230591, 0.32515424489974976, 0.08714865148067474, 0.0, 0.0, 0.0, 0.0, 0.0, 0.0, 0.0, 0.0, 0.0, 0.0], [0.36679086089134216, 0.4196026921272278, 0.15756094455718994, 0.0560455247759819, 0.0, 0.0, 0.0, 0.0, 0.0, 0.0, 0.0, 0.0, 0.0], [0.8519396781921387, 0.07350781559944153, 0.030720768496394157, 0.034175701439380646, 0.00965606514364481, 0.0, 0.0, 0.0, 0.0, 0.0, 0.0, 0.0, 0.0], [0.5329720377922058, 0.20691174268722534, 0.07243883609771729, 0.050619419664144516, 0.048083700239658356, 0.08897420018911362, 0.0, 0.0, 0.0, 0.0, 0.0, 0.0, 0.0], [0.4879809319972992, 0.10905683785676956, 0.04856650158762932, 0.007352466229349375, 0.014251687563955784, 0.026058990508317947, 0.30673256516456604, 0.0, 0.0, 0.0, 0.0, 0.0, 0.0], [0.3565128743648529, 0.1898091733455658, 0.026800725609064102, 0.02688145451247692, 0.042953941971063614, 0.04518318921327591, 0.19480352103710175, 0.11705511808395386, 0.0, 0.0, 0.0, 0.0, 0.0], [0.30667078495025635, 0.13938146829605103, 0.04751863703131676, 0.028787679970264435, 0.07455865293741226, 0.04195629805326462, 0.2786881625652313, 0.07714513689279556, 0.005293055437505245, 0.0, 0.0, 0.0, 0.0], [0.45936381816864014, 0.1199268326163292, 0.022402148693799973, 0.015398680232465267, 0.038656506687402725, 0.02446274645626545, 0.19337639212608337, 0.08814764022827148, 0.010768593288958073, 0.027496665716171265, 0.0, 0.0, 0.0], [0.3824814558029175, 0.2018415480852127, 0.024041030555963516, 0.028448909521102905, 0.07231719046831131, 0.04143337160348892, 0.10939645022153854, 0.06420629471540451, 0.015440713614225388, 0.024887271225452423, 0.0355057492852211, 0.0, 0.0], [0.39545753598213196, 0.11757076531648636, 0.030468763783574104, 0.007564237341284752, 0.024012604728341103, 0.016905134543776512, 0.14071767032146454, 0.05060701072216034, 0.010367614217102528, 0.01788957603275776, 0.007214076351374388, 0.1812250167131424, 0.0], [0.2229878306388855, 0.15585744380950928, 0.023251570761203766, 0.0050827935338020325, 0.010397505946457386, 0.013882054015994072, 0.18556474149227142, 0.0553857795894146, 0.00793207436800003, 0.0064621116034686565, 0.01212194375693798, 0.1409466564655304, 0.1601274460554123]], [[1.0, 0.0, 0.0, 0.0, 0.0, 0.0, 0.0, 0.0, 0.0, 0.0, 0.0, 0.0, 0.0], [0.9707226753234863, 0.02927732840180397, 0.0, 0.0, 0.0, 0.0, 0.0, 0.0, 0.0, 0.0, 0.0, 0.0, 0.0], [0.8723442554473877, 0.07325274497270584, 0.054402925074100494, 0.0, 0.0, 0.0, 0.0, 0.0, 0.0, 0.0, 0.0, 0.0, 0.0], [0.805433988571167, 0.06096541881561279, 0.05736997351050377, 0.07623065263032913, 0.0, 0.0, 0.0, 0.0, 0.0, 0.0, 0.0, 0.0, 0.0], [0.7565863728523254, 0.044666189700365067, 0.03665417432785034, 0.06962256878614426, 0.09247078001499176, 0.0, 0.0, 0.0, 0.0, 0.0, 0.0, 0.0, 0.0], [0.5938097238540649, 0.03960976377129555, 0.05631280317902565, 0.08765923976898193, 0.14678409695625305, 0.0758243277668953, 0.0, 0.0, 0.0, 0.0, 0.0, 0.0, 0.0], [0.7461457848548889, 0.020041044801473618, 0.02637321688234806, 0.02952592819929123, 0.07936511188745499, 0.0527527891099453, 0.04579608887434006, 0.0, 0.0, 0.0, 0.0, 0.0, 0.0], [0.3390258848667145, 0.06404294818639755, 0.05043517425656319, 0.2028101682662964, 0.14849306643009186, 0.0742540955543518, 0.026914164423942566, 0.09402462095022202, 0.0, 0.0, 0.0, 0.0, 0.0], [0.4639251232147217, 0.04346473515033722, 0.037272993475198746, 0.1856936663389206, 0.11749356240034103, 0.029788274317979813, 0.0157628171145916, 0.06976939737796783, 0.03682936355471611, 0.0, 0.0, 0.0, 0.0], [0.6004307866096497, 0.031565990298986435, 0.017367921769618988, 0.10187289118766785, 0.06324834376573563, 0.024486811831593513, 0.02012885920703411, 0.06857616454362869, 0.03981075435876846, 0.032511454075574875, 0.0, 0.0, 0.0], [0.73373943567276, 0.010679378174245358, 0.010436239652335644, 0.024842586368322372, 0.03102896735072136, 0.009681024588644505, 0.0142221013084054, 0.050956033170223236, 0.028397049754858017, 0.02458777278661728, 0.061429474502801895, 0.0, 0.0], [0.6040377616882324, 0.01435810700058937, 0.009739981032907963, 0.020285848528146744, 0.03274601325392723, 0.01204922515898943, 0.010543368756771088, 0.06846264749765396, 0.045084550976753235, 0.028123803436756134, 0.111599862575531, 0.04296882823109627, 0.0], [0.4936317503452301, 0.016568955034017563, 0.01112389750778675, 0.02853403240442276, 0.021526943892240524, 0.012790902517735958, 0.009285013191401958, 0.036990176886320114, 0.06518210470676422, 0.03892927244305611, 0.09063821285963058, 0.06286022812128067, 0.11193854361772537]], [[1.0, 0.0, 0.0, 0.0, 0.0, 0.0, 0.0, 0.0, 0.0, 0.0, 0.0, 0.0, 0.0], [0.9751909375190735, 0.02480904757976532, 0.0, 0.0, 0.0, 0.0, 0.0, 0.0, 0.0, 0.0, 0.0, 0.0, 0.0], [0.9431530833244324, 0.023278409615159035, 0.033568598330020905, 0.0, 0.0, 0.0, 0.0, 0.0, 0.0, 0.0, 0.0, 0.0, 0.0], [0.9702057242393494, 0.008959450758993626, 0.010914298705756664, 0.009920613840222359, 0.0, 0.0, 0.0, 0.0, 0.0, 0.0, 0.0, 0.0, 0.0], [0.9664545655250549, 0.003718825289979577, 0.00539581710472703, 0.0028059897013008595, 0.021624857559800148, 0.0, 0.0, 0.0, 0.0, 0.0, 0.0, 0.0, 0.0], [0.8984119296073914, 0.006224221084266901, 0.007922772318124771, 0.00363533734343946, 0.006948774214833975, 0.07685697078704834, 0.0, 0.0, 0.0, 0.0, 0.0, 0.0, 0.0], [0.9020374417304993, 0.0032799418549984694, 0.004372630268335342, 0.0006825396558269858, 0.0011226817732676864, 0.011135919019579887, 0.0773688405752182, 0.0, 0.0, 0.0, 0.0, 0.0, 0.0], [0.7678939700126648, 0.02874535135924816, 0.02436811849474907, 0.009955788031220436, 0.0034771321807056665, 0.008399687707424164, 0.025461768731474876, 0.13169820606708527, 0.0, 0.0, 0.0, 0.0, 0.0], [0.8090464472770691, 0.0054939077235758305, 0.007392754778265953, 0.0025297245010733604, 0.0012599116889759898, 0.012368550524115562, 0.013865898363292217, 0.04085720703005791, 0.10718560218811035, 0.0, 0.0, 0.0, 0.0], [0.7726029753684998, 0.005967164412140846, 0.01161790918558836, 0.004610126838088036, 0.0008709236280992627, 0.00753728486597538, 0.009628554806113243, 0.023646067827939987, 0.030955404043197632, 0.13256369531154633, 0.0, 0.0, 0.0], [0.8535809516906738, 0.002364938147366047, 0.004622706212103367, 0.003508985275402665, 0.0009533941047266126, 0.004071478731930256, 0.006372332572937012, 0.023422792553901672, 0.025465326383709908, 0.030108075588941574, 0.045528948307037354, 0.0, 0.0], [0.770482063293457, 0.0027213122230023146, 0.005845008883625269, 0.0023836130276322365, 0.0015424512093886733, 0.006371230818331242, 0.017732780426740646, 0.05361257866024971, 0.043291397392749786, 0.027448588982224464, 0.013465365394949913, 0.05510362237691879, 0.0], [0.7104471325874329, 0.005594697780907154, 0.008505485020577908, 0.00370791251771152, 0.0014843387762084603, 0.0032383454963564873, 0.00964223314076662, 0.05975931137800217, 0.030168090015649796, 0.021597301587462425, 0.0053522284142673016, 0.018039679154753685, 0.1224631518125534]], [[1.0, 0.0, 0.0, 0.0, 0.0, 0.0, 0.0, 0.0, 0.0, 0.0, 0.0, 0.0, 0.0], [0.9187133312225342, 0.08128666877746582, 0.0, 0.0, 0.0, 0.0, 0.0, 0.0, 0.0, 0.0, 0.0, 0.0, 0.0], [0.9010975360870361, 0.07392130047082901, 0.02498118206858635, 0.0, 0.0, 0.0, 0.0, 0.0, 0.0, 0.0, 0.0, 0.0, 0.0], [0.9016996026039124, 0.03218892216682434, 0.04729492962360382, 0.018816540017724037, 0.0, 0.0, 0.0, 0.0, 0.0, 0.0, 0.0, 0.0, 0.0], [0.8513382077217102, 0.04031119868159294, 0.0447213388979435, 0.045143190771341324, 0.01848611794412136, 0.0, 0.0, 0.0, 0.0, 0.0, 0.0, 0.0, 0.0], [0.8001888990402222, 0.019917206838726997, 0.03162859007716179, 0.023382872343063354, 0.06773386150598526, 0.057148564606904984, 0.0, 0.0, 0.0, 0.0, 0.0, 0.0, 0.0], [0.7454013228416443, 0.006144565995782614, 0.016457905992865562, 0.016056805849075317, 0.0314156748354435, 0.06875859200954437, 0.11576508730649948, 0.0, 0.0, 0.0, 0.0, 0.0, 0.0], [0.42548099160194397, 0.02322719432413578, 0.02958587184548378, 0.08755157142877579, 0.03644588589668274, 0.14142636954784393, 0.23192480206489563, 0.024357369169592857, 0.0, 0.0, 0.0, 0.0, 0.0], [0.46548032760620117, 0.018626706674695015, 0.02470710687339306, 0.04072076454758644, 0.02391144074499607, 0.07216590642929077, 0.29961398243904114, 0.042331598699092865, 0.012442155741155148, 0.0, 0.0, 0.0, 0.0], [0.5011358857154846, 0.025893807411193848, 0.018255583941936493, 0.022113043814897537, 0.018190540373325348, 0.06089568883180618, 0.22764112055301666, 0.06489360332489014, 0.022901935502886772, 0.038078777492046356, 0.0, 0.0, 0.0], [0.5598854422569275, 0.02215725928544998, 0.022422809153795242, 0.018299801275134087, 0.01025271788239479, 0.032317280769348145, 0.18395069241523743, 0.06918300688266754, 0.021478233858942986, 0.0451212041079998, 0.014931576326489449, 0.0, 0.0], [0.3650999367237091, 0.032620396465063095, 0.037522103637456894, 0.04692330211400986, 0.032027389854192734, 0.09231118857860565, 0.16231746971607208, 0.04732793569564819, 0.034435831010341644, 0.06258154660463333, 0.02442026138305664, 0.0624125599861145, 0.0], [0.4032498002052307, 0.020936569198966026, 0.01985607109963894, 0.02748381718993187, 0.008201900869607925, 0.034335922449827194, 0.23226778209209442, 0.012547004967927933, 0.01783582754433155, 0.0378933921456337, 0.020427802577614784, 0.13891686499118805, 0.026047199964523315]], [[1.0, 0.0, 0.0, 0.0, 0.0, 0.0, 0.0, 0.0, 0.0, 0.0, 0.0, 0.0, 0.0], [0.951606810092926, 0.04839317500591278, 0.0, 0.0, 0.0, 0.0, 0.0, 0.0, 0.0, 0.0, 0.0, 0.0, 0.0], [0.5273471474647522, 0.4455910623073578, 0.027061743661761284, 0.0, 0.0, 0.0, 0.0, 0.0, 0.0, 0.0, 0.0, 0.0, 0.0], [0.3821685016155243, 0.1512354165315628, 0.4262005090713501, 0.0403955914080143, 0.0, 0.0, 0.0, 0.0, 0.0, 0.0, 0.0, 0.0, 0.0], [0.3042164742946625, 0.020284350961446762, 0.09429392963647842, 0.5581269860267639, 0.023078355938196182, 0.0, 0.0, 0.0, 0.0, 0.0, 0.0, 0.0, 0.0], [0.20857882499694824, 0.025858724489808083, 0.12183962762355804, 0.23352880775928497, 0.3856712579727173, 0.024522805586457253, 0.0, 0.0, 0.0, 0.0, 0.0, 0.0, 0.0], [0.47717106342315674, 0.009591713547706604, 0.00996583141386509, 0.026022881269454956, 0.10838349908590317, 0.3387393057346344, 0.0301258135586977, 0.0, 0.0, 0.0, 0.0, 0.0, 0.0], [0.5540297627449036, 0.10314331203699112, 0.037345968186855316, 0.07885532081127167, 0.0766187533736229, 0.04712922126054764, 0.07669777423143387, 0.026179933920502663, 0.0, 0.0, 0.0, 0.0, 0.0], [0.7553839087486267, 0.016872262582182884, 0.007801115047186613, 0.02703985944390297, 0.016454607248306274, 0.012140922248363495, 0.013610460795462132, 0.13971278071403503, 0.010984011925756931, 0.0, 0.0, 0.0, 0.0], [0.7382271885871887, 0.009129669517278671, 0.002609751420095563, 0.008727640844881535, 0.009298404678702354, 0.023648777976632118, 0.011513752862811089, 0.08085040003061295, 0.09839878231287003, 0.01759563572704792, 0.0, 0.0, 0.0], [0.4795258641242981, 0.004313771612942219, 0.021410593762993813, 0.00288561312481761, 0.008566083386540413, 0.007401769515126944, 0.003688190132379532, 0.03141532465815544, 0.06634495407342911, 0.336909681558609, 0.037538185715675354, 0.0, 0.0], [0.45515674352645874, 0.003407716518267989, 0.02140595018863678, 0.004359242506325245, 0.007992139086127281, 0.00850769318640232, 0.0018447546754032373, 0.00504185538738966, 0.14351646602153778, 0.1270209550857544, 0.1934676617383957, 0.028278835117816925, 0.0], [0.6517043113708496, 0.017621368169784546, 0.016913779079914093, 0.0071426378563046455, 0.007618351839482784, 0.0034420404117554426, 0.003637995570898056, 0.005135134793817997, 0.06567975133657455, 0.06792814284563065, 0.05003146082162857, 0.07912364602088928, 0.02402142994105816]], [[1.0, 0.0, 0.0, 0.0, 0.0, 0.0, 0.0, 0.0, 0.0, 0.0, 0.0, 0.0, 0.0], [0.9998387098312378, 0.0001612167980056256, 0.0, 0.0, 0.0, 0.0, 0.0, 0.0, 0.0, 0.0, 0.0, 0.0, 0.0], [0.9905391931533813, 0.0025892064440995455, 0.006871659774333239, 0.0, 0.0, 0.0, 0.0, 0.0, 0.0, 0.0, 0.0, 0.0, 0.0], [0.9996113181114197, 0.00011498631647555158, 0.0001000649863271974, 0.00017360610945615917, 0.0, 0.0, 0.0, 0.0, 0.0, 0.0, 0.0, 0.0, 0.0], [0.9989821314811707, 0.0001222075952682644, 2.3138391043175943e-06, 0.00012011919170618057, 0.0007731831865385175, 0.0, 0.0, 0.0, 0.0, 0.0, 0.0, 0.0, 0.0], [0.9989933371543884, 0.0007893809815868735, 4.825085397897055e-06, 1.2519227539087296e-06, 7.951914085424505e-06, 0.00020317555754445493, 0.0, 0.0, 0.0, 0.0, 0.0, 0.0, 0.0], [0.9982306361198425, 1.1627564163063653e-05, 0.0002264230279251933, 0.0004515396140050143, 3.420287839617231e-06, 6.551839032908902e-05, 0.0010107490234076977, 0.0, 0.0, 0.0, 0.0, 0.0, 0.0], [0.9854631423950195, 0.000262183602899313, 0.00029900643858127296, 0.0009024887112900615, 0.00012534773850347847, 0.0015719663351774216, 0.0007950483122840524, 0.010580776259303093, 0.0, 0.0, 0.0, 0.0, 0.0], [0.985160231590271, 0.0010244391160085797, 4.1594412323320284e-05, 0.00014779064804315567, 4.637128768081311e-06, 9.55555424297927e-06, 0.01055301446467638, 0.002332692500203848, 0.0007259866106323898, 0.0, 0.0, 0.0, 0.0], [0.9914880990982056, 0.00015707970305811614, 2.8488116186053958e-06, 0.0008373322780244052, 6.581578873010585e-06, 7.456857565557584e-05, 0.0017224936746060848, 0.0015799691900610924, 0.00027072924422100186, 0.0038602380082011223, 0.0, 0.0, 0.0], [0.9959944486618042, 0.00025351534713990986, 2.5033587007783353e-06, 5.692726972483797e-06, 1.7251879853574792e-06, 2.4511634819646133e-06, 0.0024898871779441833, 6.493128603324294e-05, 2.506235978216864e-05, 9.824118023971096e-05, 0.0010615329956635833, 0.0, 0.0], [0.9937540888786316, 1.768343099683989e-05, 8.251546387327835e-05, 2.7447154934634455e-05, 1.2849942550019477e-06, 1.3108704479236621e-05, 0.003402767004445195, 0.0007639465038664639, 0.00010101448424393311, 6.026735263731098e-06, 9.840059647103772e-06, 0.001820249017328024, 0.0], [0.9794710278511047, 0.00015670389984734356, 0.00013313729141373187, 6.802179268561304e-05, 1.0107125490321778e-05, 6.463503268605564e-06, 0.00047577894292771816, 0.000229032346396707, 0.010652614757418633, 0.0002735423331614584, 3.232500603189692e-05, 0.0005469016032293439, 0.007944277487695217]], [[1.0, 0.0, 0.0, 0.0, 0.0, 0.0, 0.0, 0.0, 0.0, 0.0, 0.0, 0.0, 0.0], [0.986488401889801, 0.013511552475392818, 0.0, 0.0, 0.0, 0.0, 0.0, 0.0, 0.0, 0.0, 0.0, 0.0, 0.0], [0.9804016947746277, 0.006306377239525318, 0.013291907496750355, 0.0, 0.0, 0.0, 0.0, 0.0, 0.0, 0.0, 0.0, 0.0, 0.0], [0.9114101529121399, 0.026814477518200874, 0.036875974386930466, 0.024899432435631752, 0.0, 0.0, 0.0, 0.0, 0.0, 0.0, 0.0, 0.0, 0.0], [0.980893611907959, 0.0031490519177168608, 0.0052351499907672405, 0.0042931875213980675, 0.0064289867877960205, 0.0, 0.0, 0.0, 0.0, 0.0, 0.0, 0.0, 0.0], [0.934306263923645, 0.009538752026855946, 0.01335447933524847, 0.013317824341356754, 0.00916389748454094, 0.020318852737545967, 0.0, 0.0, 0.0, 0.0, 0.0, 0.0, 0.0], [0.9646514654159546, 0.0037683206610381603, 0.006786665413528681, 0.00538939842954278, 0.0018477666890248656, 0.005033518187701702, 0.012522878125309944, 0.0, 0.0, 0.0, 0.0, 0.0, 0.0], [0.8990153670310974, 0.004692935384809971, 0.011290479451417923, 0.01246454007923603, 0.004864271264523268, 0.01704772561788559, 0.013929792679846287, 0.0366949737071991, 0.0, 0.0, 0.0, 0.0, 0.0], [0.9003358483314514, 0.005448193289339542, 0.0069274986162781715, 0.012022200971841812, 0.0035553202033042908, 0.009123675525188446, 0.01645585335791111, 0.03532491996884346, 0.010806486941874027, 0.0, 0.0, 0.0, 0.0], [0.9305974245071411, 0.0020927749574184418, 0.004042941611260176, 0.007805458270013332, 0.0038053032476454973, 0.006641229148954153, 0.011088662780821323, 0.02021121047437191, 0.006531763356178999, 0.007183168549090624, 0.0, 0.0, 0.0], [0.7860080003738403, 0.008029082790017128, 0.010845378041267395, 0.009151914156973362, 0.037382300943136215, 0.02595830149948597, 0.029559073969721794, 0.05359218269586563, 0.009939170442521572, 0.012351910583674908, 0.017182644456624985, 0.0, 0.0], [0.8840897083282471, 0.0030156411230564117, 0.008994854055345058, 0.0019481475464999676, 0.0042936671525239944, 0.004553538281470537, 0.009762145578861237, 0.03827180340886116, 0.0069639249704778194, 0.008611638098955154, 0.006167553830891848, 0.023327404633164406, 0.0], [0.8442826867103577, 0.0033240229822695255, 0.00728252436965704, 0.003334319218993187, 0.001395550207234919, 0.003526256652548909, 0.006034339312463999, 0.011328212916851044, 0.014072954654693604, 0.022568343207240105, 0.007587917149066925, 0.01294208038598299, 0.06232081726193428]], [[1.0, 0.0, 0.0, 0.0, 0.0, 0.0, 0.0, 0.0, 0.0, 0.0, 0.0, 0.0, 0.0], [0.905604362487793, 0.09439565986394882, 0.0, 0.0, 0.0, 0.0, 0.0, 0.0, 0.0, 0.0, 0.0, 0.0, 0.0], [0.8212637305259705, 0.14798754453659058, 0.030748635530471802, 0.0, 0.0, 0.0, 0.0, 0.0, 0.0, 0.0, 0.0, 0.0, 0.0], [0.58500736951828, 0.11453603953123093, 0.21387875080108643, 0.08657777309417725, 0.0, 0.0, 0.0, 0.0, 0.0, 0.0, 0.0, 0.0, 0.0], [0.6313790678977966, 0.05006144195795059, 0.07580885291099548, 0.21589475870132446, 0.02685593254864216, 0.0, 0.0, 0.0, 0.0, 0.0, 0.0, 0.0, 0.0], [0.12034722417593002, 0.04600782319903374, 0.2022465616464615, 0.23716045916080475, 0.37456178665161133, 0.019676072522997856, 0.0, 0.0, 0.0, 0.0, 0.0, 0.0, 0.0], [0.34846946597099304, 0.0522792711853981, 0.08504840731620789, 0.10552920401096344, 0.2372015416622162, 0.14360742270946503, 0.0278647318482399, 0.0, 0.0, 0.0, 0.0, 0.0, 0.0], [0.4279864430427551, 0.029503509402275085, 0.03805337846279144, 0.3100128769874573, 0.08246950805187225, 0.051832348108291626, 0.031426142901182175, 0.02871582843363285, 0.0, 0.0, 0.0, 0.0, 0.0], [0.4550234377384186, 0.036265186965465546, 0.022991036996245384, 0.2854902446269989, 0.049947481602430344, 0.006932077929377556, 0.019383832812309265, 0.07354554533958435, 0.05042124167084694, 0.0, 0.0, 0.0, 0.0], [0.547648549079895, 0.06376732885837555, 0.007313629146665335, 0.13539063930511475, 0.05312125012278557, 0.00911712646484375, 0.02154172956943512, 0.06162275746464729, 0.0751885324716568, 0.025288432836532593, 0.0, 0.0, 0.0], [0.5542227625846863, 0.016831887885928154, 0.02319483458995819, 0.027225174009799957, 0.030300483107566833, 0.0034608477726578712, 0.0067041837610304356, 0.0527544803917408, 0.11572092026472092, 0.15012681484222412, 0.01945764571428299, 0.0, 0.0], [0.441324383020401, 0.011485719121992588, 0.010361921973526478, 0.03554224595427513, 0.01873873546719551, 0.0075452858582139015, 0.010642808862030506, 0.026616597548127174, 0.16135932505130768, 0.11865487694740295, 0.11433051526546478, 0.04339764267206192, 0.0], [0.805604100227356, 0.00476850988343358, 0.0031811718363314867, 0.010930431075394154, 0.0029322209302335978, 0.0038278873544186354, 0.006982588209211826, 0.005834699142724276, 0.04085920378565788, 0.02119958959519863, 0.012891674414277077, 0.043861642479896545, 0.037126269191503525]]], [[[1.0, 0.0, 0.0, 0.0, 0.0, 0.0, 0.0, 0.0, 0.0, 0.0, 0.0, 0.0, 0.0], [0.9569107890129089, 0.04308921843767166, 0.0, 0.0, 0.0, 0.0, 0.0, 0.0, 0.0, 0.0, 0.0, 0.0, 0.0], [0.8786593079566956, 0.08166658133268356, 0.03967412933707237, 0.0, 0.0, 0.0, 0.0, 0.0, 0.0, 0.0, 0.0, 0.0, 0.0], [0.7237563133239746, 0.011149873957037926, 0.24965684115886688, 0.01543688029050827, 0.0, 0.0, 0.0, 0.0, 0.0, 0.0, 0.0, 0.0, 0.0], [0.8252127170562744, 0.018991462886333466, 0.06233185902237892, 0.07314769178628922, 0.020316286012530327, 0.0, 0.0, 0.0, 0.0, 0.0, 0.0, 0.0, 0.0], [0.46950387954711914, 0.007043095305562019, 0.01844136044383049, 0.015409747138619423, 0.4645828306674957, 0.025018984451889992, 0.0, 0.0, 0.0, 0.0, 0.0, 0.0, 0.0], [0.2953220009803772, 0.003508326131850481, 0.0097714988514781, 0.011365367099642754, 0.17335587739944458, 0.48856601119041443, 0.018110988661646843, 0.0, 0.0, 0.0, 0.0, 0.0, 0.0], [0.9383126497268677, 0.003818552242591977, 0.003701215609908104, 0.005295362323522568, 0.015091780573129654, 0.005016910377889872, 0.02515440247952938, 0.0036090814974159002, 0.0, 0.0, 0.0, 0.0, 0.0], [0.9100309610366821, 0.003248484106734395, 0.0022896835580468178, 0.0010172456968575716, 0.000853771751280874, 0.00047519282088615, 0.002712167100980878, 0.07159626483917236, 0.0077762724831700325, 0.0, 0.0, 0.0, 0.0], [0.7836704254150391, 0.004037322476506233, 0.0016542344819754362, 0.0010792616521939635, 0.002834462793543935, 0.0031946408562362194, 0.014606209471821785, 0.054137200117111206, 0.10985632985830307, 0.024929925799369812, 0.0, 0.0, 0.0], [0.4802282452583313, 0.001228158944286406, 0.008412673138082027, 0.0016675075748935342, 0.0024643621873110533, 0.0010441540507599711, 0.00511531438678503, 0.012388638220727444, 0.0558285228908062, 0.42042064666748047, 0.011201881803572178, 0.0, 0.0], [0.5093749165534973, 0.00043473925325088203, 0.0031105007510632277, 0.0045947302132844925, 0.009981449693441391, 0.003486776491627097, 0.0010729717323556542, 0.007741290144622326, 0.02724180743098259, 0.10272834450006485, 0.317476749420166, 0.012755661271512508, 0.0], [0.9098407626152039, 0.0007158980588428676, 0.0007218928076326847, 0.0009414197411388159, 0.0017082744743674994, 0.0005818983190692961, 0.0015657137846574187, 0.0013965179678052664, 0.010067024268209934, 0.02203051745891571, 0.004585640039294958, 0.03265192359685898, 0.013192461803555489]], [[1.0, 0.0, 0.0, 0.0, 0.0, 0.0, 0.0, 0.0, 0.0, 0.0, 0.0, 0.0, 0.0], [0.9938607215881348, 0.006139276549220085, 0.0, 0.0, 0.0, 0.0, 0.0, 0.0, 0.0, 0.0, 0.0, 0.0, 0.0], [0.9759425520896912, 0.013294314965605736, 0.010763143189251423, 0.0, 0.0, 0.0, 0.0, 0.0, 0.0, 0.0, 0.0, 0.0, 0.0], [0.9748431444168091, 0.0068182866089046, 0.0034382068552076817, 0.0149003267288208, 0.0, 0.0, 0.0, 0.0, 0.0, 0.0, 0.0, 0.0, 0.0], [0.9751505851745605, 0.005251422058790922, 0.0021449055057018995, 0.004323180299252272, 0.013130026869475842, 0.0, 0.0, 0.0, 0.0, 0.0, 0.0, 0.0, 0.0], [0.9101274013519287, 0.004837202839553356, 0.006886505521833897, 0.008476999588310719, 0.016249649226665497, 0.053422268480062485, 0.0, 0.0, 0.0, 0.0, 0.0, 0.0, 0.0], [0.8828118443489075, 0.00016722366854082793, 0.0003312857588753104, 0.00033572703250683844, 0.0008219804731197655, 0.0014602439478039742, 0.1140715628862381, 0.0, 0.0, 0.0, 0.0, 0.0, 0.0], [0.8329223990440369, 0.0026973471976816654, 0.002448113402351737, 0.006735176779329777, 0.013673552311956882, 0.022009700536727905, 0.06336582452058792, 0.056147899478673935, 0.0, 0.0, 0.0, 0.0, 0.0], [0.6414227485656738, 0.000572316232137382, 0.00047267338959500194, 0.0019576135091483593, 0.0061019533313810825, 0.012623419985175133, 0.22237583994865417, 0.05488422513008118, 0.05958930775523186, 0.0, 0.0, 0.0, 0.0], [0.6601557731628418, 0.0012941347667947412, 0.00030656892340630293, 0.0010345409391447902, 0.0033045881427824497, 0.011517290025949478, 0.20614446699619293, 0.03732921555638313, 0.04176972806453705, 0.0371437594294548, 0.0, 0.0, 0.0], [0.7894282341003418, 0.0013100942596793175, 0.0006302883266471326, 0.0012010285863652825, 0.0033823770936578512, 0.008766493760049343, 0.055706772953271866, 0.028599275276064873, 0.03916284814476967, 0.036943502724170685, 0.034869007766246796, 0.0, 0.0], [0.7664545774459839, 0.00231390749104321, 0.0037759433034807444, 0.0006994942086748779, 0.001335651963017881, 0.0024068299680948257, 0.027286523953080177, 0.026990104466676712, 0.04502322897315025, 0.03494550287723541, 0.009948575869202614, 0.07881973683834076, 0.0], [0.729098916053772, 0.001303487573750317, 0.0013795968843623996, 0.0009160612244158983, 0.0009164317161776125, 0.0022947071120142937, 0.05183686688542366, 0.018692629411816597, 0.033365629613399506, 0.018838519230484962, 0.005339921917766333, 0.031004415825009346, 0.1050129234790802]], [[1.0, 0.0, 0.0, 0.0, 0.0, 0.0, 0.0, 0.0, 0.0, 0.0, 0.0, 0.0, 0.0], [0.9989805817604065, 0.001019350835122168, 0.0, 0.0, 0.0, 0.0, 0.0, 0.0, 0.0, 0.0, 0.0, 0.0, 0.0], [0.9977315068244934, 0.0016155251068994403, 0.0006529254023917019, 0.0, 0.0, 0.0, 0.0, 0.0, 0.0, 0.0, 0.0, 0.0, 0.0], [0.9990972280502319, 8.674149285070598e-05, 6.83600374031812e-05, 0.000747651094570756, 0.0, 0.0, 0.0, 0.0, 0.0, 0.0, 0.0, 0.0, 0.0], [0.9991164803504944, 4.696422547567636e-05, 4.408507811604068e-05, 0.00018428756447974592, 0.0006081353640183806, 0.0, 0.0, 0.0, 0.0, 0.0, 0.0, 0.0, 0.0], [0.9988555908203125, 0.000386118539609015, 1.5658812117180787e-05, 8.789663297648076e-06, 7.823987834854051e-05, 0.0006555131985805929, 0.0, 0.0, 0.0, 0.0, 0.0, 0.0, 0.0], [0.996107280254364, 2.771724757621996e-05, 0.0003086527285631746, 0.00013045321975369006, 3.468610157142393e-05, 8.46139300847426e-05, 0.00330650107935071, 0.0, 0.0, 0.0, 0.0, 0.0, 0.0], [0.9945732951164246, 0.0002503336581867188, 0.00010464001388754696, 0.00015723179967608303, 0.0002149849897250533, 0.0011182239977642894, 0.0021884888410568237, 0.00139291409868747, 0.0, 0.0, 0.0, 0.0, 0.0], [0.9900410771369934, 0.00041672386578284204, 0.00014633907994721085, 0.00012584023352246732, 3.460059087956324e-05, 4.6470660890918225e-05, 0.004457160830497742, 0.003944873344153166, 0.0007869753753766418, 0.0, 0.0, 0.0, 0.0], [0.9946405291557312, 0.00012339276145212352, 1.2006105862383265e-05, 0.0008389718132093549, 1.3309942914929707e-05, 0.00019116527982987463, 0.0009256618795916438, 0.0010314664104953408, 0.00012581073679029942, 0.0020978169050067663, 0.0, 0.0, 0.0], [0.9886572957038879, 0.0002166189078707248, 4.201001502224244e-06, 7.309727516258135e-05, 8.65361562318867e-06, 2.3118645913200453e-05, 0.001706690527498722, 0.00025055441074073315, 5.544251325773075e-05, 0.0022756385151296854, 0.006728708744049072, 0.0, 0.0], [0.9946883916854858, 1.682071524555795e-05, 3.810130510828458e-05, 3.216595359845087e-05, 4.503569289227016e-05, 2.4918792405514978e-05, 0.00046113537973724306, 0.0008730292902328074, 5.606595004792325e-05, 0.00012002854782622308, 0.00016282135038636625, 0.003481466555967927, 0.0], [0.9867783784866333, 7.395690045086667e-05, 6.991502596065402e-05, 4.730253931484185e-05, 5.958095789537765e-05, 3.683082468342036e-05, 0.0003934689739253372, 0.00011001851817127317, 0.002764294855296612, 0.0005204649642109871, 0.00029313689447008073, 0.0011665485799312592, 0.007686096243560314]], [[1.0, 0.0, 0.0, 0.0, 0.0, 0.0, 0.0, 0.0, 0.0, 0.0, 0.0, 0.0, 0.0], [0.9607515335083008, 0.03924846649169922, 0.0, 0.0, 0.0, 0.0, 0.0, 0.0, 0.0, 0.0, 0.0, 0.0, 0.0], [0.805127739906311, 0.15349571406841278, 0.04137665405869484, 0.0, 0.0, 0.0, 0.0, 0.0, 0.0, 0.0, 0.0, 0.0, 0.0], [0.8615156412124634, 0.05612369254231453, 0.042552001774311066, 0.0398087240755558, 0.0, 0.0, 0.0, 0.0, 0.0, 0.0, 0.0, 0.0, 0.0], [0.704188346862793, 0.036738526076078415, 0.07117217034101486, 0.09401159733533859, 0.09388936311006546, 0.0, 0.0, 0.0, 0.0, 0.0, 0.0, 0.0, 0.0], [0.6172158718109131, 0.04082615301012993, 0.08308912068605423, 0.07955501973628998, 0.09170342236757278, 0.08761041611433029, 0.0, 0.0, 0.0, 0.0, 0.0, 0.0, 0.0], [0.7062215209007263, 0.017880627885460854, 0.0524589940905571, 0.020171882584691048, 0.047871578484773636, 0.08789341151714325, 0.06750195473432541, 0.0, 0.0, 0.0, 0.0, 0.0, 0.0], [0.6476077437400818, 0.03851110488176346, 0.04710680618882179, 0.07071548700332642, 0.08097843080759048, 0.06348923593759537, 0.031142214313149452, 0.020448949187994003, 0.0, 0.0, 0.0, 0.0, 0.0], [0.57303786277771, 0.015260972082614899, 0.02675575390458107, 0.023378781974315643, 0.09933724999427795, 0.07409225404262543, 0.08577963709831238, 0.05544105917215347, 0.046916455030441284, 0.0, 0.0, 0.0, 0.0], [0.6202528476715088, 0.017042282968759537, 0.009338166564702988, 0.022784659639000893, 0.04760254546999931, 0.07703404128551483, 0.05992348492145538, 0.04200459271669388, 0.05630526319146156, 0.04771227389574051, 0.0, 0.0, 0.0], [0.6802256107330322, 0.010684562847018242, 0.015244457870721817, 0.010258158668875694, 0.020075799897313118, 0.023622918874025345, 0.037079423666000366, 0.030992165207862854, 0.056642085313797, 0.0645669549703598, 0.0506078377366066, 0.0, 0.0], [0.6163779497146606, 0.010081101208925247, 0.021248720586299896, 0.0035861965734511614, 0.007405347190797329, 0.022266952320933342, 0.029758429154753685, 0.023974282667040825, 0.036117784678936005, 0.0713481530547142, 0.06323391944169998, 0.09460116177797318, 0.0], [0.6202450394630432, 0.03207863122224808, 0.02698240987956524, 0.014301886782050133, 0.012289383448660374, 0.010619077831506729, 0.017451172694563866, 0.008726156316697598, 0.023645861074328423, 0.05224483832716942, 0.058606311678886414, 0.060669537633657455, 0.06213982030749321]], [[1.0, 0.0, 0.0, 0.0, 0.0, 0.0, 0.0, 0.0, 0.0, 0.0, 0.0, 0.0, 0.0], [0.9477234482765198, 0.052276626229286194, 0.0, 0.0, 0.0, 0.0, 0.0, 0.0, 0.0, 0.0, 0.0, 0.0, 0.0], [0.9339975118637085, 0.05522501468658447, 0.010777457617223263, 0.0, 0.0, 0.0, 0.0, 0.0, 0.0, 0.0, 0.0, 0.0, 0.0], [0.8925619721412659, 0.03741078078746796, 0.0504528284072876, 0.019574424251914024, 0.0, 0.0, 0.0, 0.0, 0.0, 0.0, 0.0, 0.0, 0.0], [0.7573466897010803, 0.019450895488262177, 0.05689948424696922, 0.14467884600162506, 0.02162412740290165, 0.0, 0.0, 0.0, 0.0, 0.0, 0.0, 0.0, 0.0], [0.5659637451171875, 0.030033838003873825, 0.06754234433174133, 0.1204482764005661, 0.184501051902771, 0.03151071071624756, 0.0, 0.0, 0.0, 0.0, 0.0, 0.0, 0.0], [0.44586747884750366, 0.03121611848473549, 0.0717819556593895, 0.08677598088979721, 0.24044470489025116, 0.09688596427440643, 0.02702772058546543, 0.0, 0.0, 0.0, 0.0, 0.0, 0.0], [0.5774379372596741, 0.03767009451985359, 0.056515369564294815, 0.12419584393501282, 0.067624032497406, 0.0504988431930542, 0.021392816677689552, 0.06466501206159592, 0.0, 0.0, 0.0, 0.0, 0.0], [0.9302692413330078, 0.0006105347420088947, 0.0028237449005246162, 0.005572161637246609, 0.012479996308684349, 0.006906833965331316, 0.00416894257068634, 0.02291400358080864, 0.014254513196647167, 0.0, 0.0, 0.0, 0.0], [0.9226415157318115, 0.0006555882864631712, 0.0016705889720469713, 0.0024919197894632816, 0.0075466386042535305, 0.004286285024136305, 0.004320052918046713, 0.033616598695516586, 0.017814207822084427, 0.004956449847668409, 0.0, 0.0, 0.0], [0.9172195792198181, 0.0014422782696783543, 0.0049468036741018295, 0.003772271564230323, 0.005843912251293659, 0.0026884200051426888, 0.0028491795528680086, 0.015720348805189133, 0.016807110980153084, 0.019687622785568237, 0.009022354148328304, 0.0, 0.0], [0.6706414818763733, 0.0027078459970653057, 0.011080342344939709, 0.003556376788765192, 0.0050612823106348515, 0.004936523269861937, 0.003855770919471979, 0.010360593907535076, 0.07349196076393127, 0.052859365940093994, 0.12035802006721497, 0.041090406477451324, 0.0], [0.5985373854637146, 0.007970158010721207, 0.01320805586874485, 0.012385345995426178, 0.00824162270873785, 0.006011963821947575, 0.007063653320074081, 0.06833622604608536, 0.1323697566986084, 0.019397465512156487, 0.023020725697278976, 0.03540664166212082, 0.06805100291967392]], [[1.0, 0.0, 0.0, 0.0, 0.0, 0.0, 0.0, 0.0, 0.0, 0.0, 0.0, 0.0, 0.0], [0.9413172602653503, 0.058682795614004135, 0.0, 0.0, 0.0, 0.0, 0.0, 0.0, 0.0, 0.0, 0.0, 0.0, 0.0], [0.8612944483757019, 0.0672195553779602, 0.07148605585098267, 0.0, 0.0, 0.0, 0.0, 0.0, 0.0, 0.0, 0.0, 0.0, 0.0], [0.942493736743927, 0.02267102710902691, 0.028020482510328293, 0.0068146842531859875, 0.0, 0.0, 0.0, 0.0, 0.0, 0.0, 0.0, 0.0, 0.0], [0.8872972726821899, 0.032430265098810196, 0.05097956210374832, 0.022221093997359276, 0.007071731612086296, 0.0, 0.0, 0.0, 0.0, 0.0, 0.0, 0.0, 0.0], [0.9036393761634827, 0.01700851321220398, 0.01903078332543373, 0.021999992430210114, 0.021406324580311775, 0.01691502332687378, 0.0, 0.0, 0.0, 0.0, 0.0, 0.0, 0.0], [0.8375716209411621, 0.006254895124584436, 0.02346251904964447, 0.009775204584002495, 0.029914146289229393, 0.060181569308042526, 0.032840024679899216, 0.0, 0.0, 0.0, 0.0, 0.0, 0.0], [0.5104792714118958, 0.045789241790771484, 0.04853453114628792, 0.049047552049160004, 0.0930018350481987, 0.07964066416025162, 0.12667816877365112, 0.04682872071862221, 0.0, 0.0, 0.0, 0.0, 0.0], [0.3501468002796173, 0.007404261268675327, 0.03367629274725914, 0.02953815832734108, 0.07616808265447617, 0.19173845648765564, 0.18422451615333557, 0.09747423231601715, 0.029629066586494446, 0.0, 0.0, 0.0, 0.0], [0.6060003042221069, 0.016469527035951614, 0.00445469468832016, 0.008876069448888302, 0.025957437232136726, 0.09590926766395569, 0.09680380672216415, 0.057604774832725525, 0.05189075693488121, 0.03603328764438629, 0.0, 0.0, 0.0], [0.7444281578063965, 0.010067765600979328, 0.005909763742238283, 0.004574527498334646, 0.015296991914510727, 0.026027550920844078, 0.01890961267054081, 0.0655888170003891, 0.037728697061538696, 0.029684551060199738, 0.041783470660448074, 0.0, 0.0], [0.45263242721557617, 0.010534700937569141, 0.012846213765442371, 0.0035478444769978523, 0.007578359451144934, 0.00715800141915679, 0.03451911360025406, 0.07810620218515396, 0.05094905570149422, 0.12310049682855606, 0.057980045676231384, 0.1610475480556488, 0.0], [0.5367318391799927, 0.01128364261239767, 0.010453637689352036, 0.00680876336991787, 0.007785026449710131, 0.016397027298808098, 0.06409519165754318, 0.04034119471907616, 0.019024766981601715, 0.046154722571372986, 0.019363056868314743, 0.14881063997745514, 0.07275053858757019]], [[1.0, 0.0, 0.0, 0.0, 0.0, 0.0, 0.0, 0.0, 0.0, 0.0, 0.0, 0.0, 0.0], [0.945151686668396, 0.05484825745224953, 0.0, 0.0, 0.0, 0.0, 0.0, 0.0, 0.0, 0.0, 0.0, 0.0, 0.0], [0.8816450238227844, 0.06019353121519089, 0.05816149339079857, 0.0, 0.0, 0.0, 0.0, 0.0, 0.0, 0.0, 0.0, 0.0, 0.0], [0.9223110675811768, 0.023224961012601852, 0.03774265572428703, 0.01672140508890152, 0.0, 0.0, 0.0, 0.0, 0.0, 0.0, 0.0, 0.0, 0.0], [0.9590573310852051, 0.012362872250378132, 0.01217850111424923, 0.007408956531435251, 0.008992323651909828, 0.0, 0.0, 0.0, 0.0, 0.0, 0.0, 0.0, 0.0], [0.8785785436630249, 0.02320772595703602, 0.024219322949647903, 0.009502815082669258, 0.045776236802339554, 0.01871543750166893, 0.0, 0.0, 0.0, 0.0, 0.0, 0.0, 0.0], [0.869645357131958, 0.010209303349256516, 0.014135795645415783, 0.008591391146183014, 0.025253670290112495, 0.015972040593624115, 0.056192487478256226, 0.0, 0.0, 0.0, 0.0, 0.0, 0.0], [0.6435258388519287, 0.02969057485461235, 0.03617164492607117, 0.05190996825695038, 0.04134122654795647, 0.0294281505048275, 0.0722418874502182, 0.09569066017866135, 0.0, 0.0, 0.0, 0.0, 0.0], [0.7108674049377441, 0.007941950112581253, 0.01915227808058262, 0.01743384078145027, 0.0476863756775856, 0.023212403059005737, 0.08632522076368332, 0.06936968863010406, 0.018010836094617844, 0.0, 0.0, 0.0, 0.0], [0.6320660710334778, 0.010075580328702927, 0.023895155638456345, 0.016749456524848938, 0.039735499769449234, 0.025366857647895813, 0.0928618535399437, 0.09404067695140839, 0.02650662139058113, 0.03870212659239769, 0.0, 0.0, 0.0], [0.6863296627998352, 0.00555370282381773, 0.016263876110315323, 0.01783815771341324, 0.03233145922422409, 0.019238248467445374, 0.04174155369400978, 0.062317028641700745, 0.012371517717838287, 0.06870128214359283, 0.037313539534807205, 0.0, 0.0], [0.7005205750465393, 0.003862054320052266, 0.010483995079994202, 0.013932882808148861, 0.032245002686977386, 0.018983157351613045, 0.03413153812289238, 0.047185104340314865, 0.021361645311117172, 0.07544010877609253, 0.023386375978589058, 0.018467489629983902, 0.0], [0.584844172000885, 0.013856117613613605, 0.020087076351046562, 0.0242127887904644, 0.019842740148305893, 0.01677662879228592, 0.05458648502826691, 0.060154348611831665, 0.021781183779239655, 0.05981189385056496, 0.013731569051742554, 0.015431568026542664, 0.09488347917795181]], [[1.0, 0.0, 0.0, 0.0, 0.0, 0.0, 0.0, 0.0, 0.0, 0.0, 0.0, 0.0, 0.0], [0.9804577231407166, 0.01954229548573494, 0.0, 0.0, 0.0, 0.0, 0.0, 0.0, 0.0, 0.0, 0.0, 0.0, 0.0], [0.9705016016960144, 0.005971450824290514, 0.0235269945114851, 0.0, 0.0, 0.0, 0.0, 0.0, 0.0, 0.0, 0.0, 0.0, 0.0], [0.9973559379577637, 0.0007810441893525422, 0.001097833039239049, 0.0007651862106285989, 0.0, 0.0, 0.0, 0.0, 0.0, 0.0, 0.0, 0.0, 0.0], [0.9898735284805298, 0.002129416214302182, 0.002737664617598057, 0.002903108252212405, 0.0023562868591398, 0.0, 0.0, 0.0, 0.0, 0.0, 0.0, 0.0, 0.0], [0.9921425580978394, 0.001617584377527237, 0.0016275806119665504, 0.0006781731499359012, 0.0004750585067085922, 0.0034590160939842463, 0.0, 0.0, 0.0, 0.0, 0.0, 0.0, 0.0], [0.9717938303947449, 0.001753317192196846, 0.004354369826614857, 0.0035914406180381775, 0.0014932980993762612, 0.005035012029111385, 0.011978812515735626, 0.0, 0.0, 0.0, 0.0, 0.0, 0.0], [0.9378572702407837, 0.012776168063282967, 0.012210291810333729, 0.009520990774035454, 0.0031044473871588707, 0.00652663828805089, 0.0068227932788431644, 0.011181346140801907, 0.0, 0.0, 0.0, 0.0, 0.0], [0.9348034262657166, 0.0024047400802373886, 0.0015213519800454378, 0.0014116489328444004, 0.0013973198365420103, 0.0035155732184648514, 0.007045799400657415, 0.04465928301215172, 0.0032408481929451227, 0.0, 0.0, 0.0, 0.0], [0.9498479962348938, 0.0023675623815506697, 0.0008783701923675835, 0.0010070338612422347, 0.0020548829343169928, 0.0011572663206607103, 0.004933802876621485, 0.028248168528079987, 0.0028789816424250603, 0.006625899579375982, 0.0, 0.0, 0.0], [0.960383951663971, 0.0007536252378486097, 0.0006191559950821102, 0.0006085368804633617, 0.002177760936319828, 0.002175502246245742, 0.002166107529774308, 0.02557315118610859, 0.001799274468794465, 0.00202005123719573, 0.0017228795913979411, 0.0, 0.0], [0.9364067316055298, 0.002410604152828455, 0.0019665698055177927, 0.00142094143666327, 0.0002816834894474596, 0.0014080547261983156, 0.002614423632621765, 0.025852540507912636, 0.005871193949133158, 0.007446330040693283, 0.0035463133826851845, 0.010774634778499603, 0.0], [0.9091081023216248, 0.02333877794444561, 0.013904325664043427, 0.004934716038405895, 0.0005886097787879407, 0.0008821377996355295, 0.001647809986025095, 0.0022613524924963713, 0.00625216867774725, 0.016113488003611565, 0.00723827350884676, 0.0027565821073949337, 0.010973646305501461]], [[1.0, 0.0, 0.0, 0.0, 0.0, 0.0, 0.0, 0.0, 0.0, 0.0, 0.0, 0.0, 0.0], [0.9332010746002197, 0.06679888814687729, 0.0, 0.0, 0.0, 0.0, 0.0, 0.0, 0.0, 0.0, 0.0, 0.0, 0.0], [0.785048246383667, 0.16915211081504822, 0.04579972103238106, 0.0, 0.0, 0.0, 0.0, 0.0, 0.0, 0.0, 0.0, 0.0, 0.0], [0.5233995318412781, 0.05868403613567352, 0.33292338252067566, 0.08499308675527573, 0.0, 0.0, 0.0, 0.0, 0.0, 0.0, 0.0, 0.0, 0.0], [0.7713766694068909, 0.02175382897257805, 0.13999886810779572, 0.056004125624895096, 0.010866541415452957, 0.0, 0.0, 0.0, 0.0, 0.0, 0.0, 0.0, 0.0], [0.6790259480476379, 0.007085748482495546, 0.016628265380859375, 0.05293620377779007, 0.23521971702575684, 0.009104052558541298, 0.0, 0.0, 0.0, 0.0, 0.0, 0.0, 0.0], [0.8222716450691223, 0.005938733462244272, 0.014355011284351349, 0.03019331581890583, 0.06095870956778526, 0.031108921393752098, 0.03517378121614456, 0.0, 0.0, 0.0, 0.0, 0.0, 0.0], [0.6473307609558105, 0.016172688454389572, 0.03593018278479576, 0.045487456023693085, 0.060264479368925095, 0.03603571280837059, 0.1529252827167511, 0.005853410344570875, 0.0, 0.0, 0.0, 0.0, 0.0], [0.13414132595062256, 0.0011875509517267346, 0.004786987788975239, 0.007650890853255987, 0.04145251214504242, 0.07831930369138718, 0.6834679841995239, 0.02388269640505314, 0.02511068806052208, 0.0, 0.0, 0.0, 0.0], [0.17363521456718445, 0.003152035176753998, 0.002368314890190959, 0.007874828763306141, 0.028012633323669434, 0.08629710227251053, 0.49871110916137695, 0.017499323934316635, 0.15893812477588654, 0.023511333391070366, 0.0, 0.0, 0.0], [0.06095782667398453, 0.002706033643335104, 0.013237802311778069, 0.0021962691098451614, 0.013443154282867908, 0.06161966174840927, 0.3821669816970825, 0.012773564085364342, 0.1227954551577568, 0.3131546676158905, 0.01494858879595995, 0.0, 0.0], [0.28419557213783264, 0.014856420457363129, 0.028598330914974213, 0.006057428661733866, 0.01008704025298357, 0.09377633035182953, 0.09535681456327438, 0.013842236250638962, 0.1021745428442955, 0.23963557183742523, 0.0809764564037323, 0.030443310737609863, 0.0], [0.6617010831832886, 0.015524468384683132, 0.023397566750645638, 0.013819389045238495, 0.004222302697598934, 0.01029722485691309, 0.07526762783527374, 0.0016587328864261508, 0.0494968518614769, 0.039613742381334305, 0.042786359786987305, 0.057145122438669205, 0.005069544538855553]], [[1.0, 0.0, 0.0, 0.0, 0.0, 0.0, 0.0, 0.0, 0.0, 0.0, 0.0, 0.0, 0.0], [0.965430498123169, 0.03456956148147583, 0.0, 0.0, 0.0, 0.0, 0.0, 0.0, 0.0, 0.0, 0.0, 0.0, 0.0], [0.849012553691864, 0.0983111783862114, 0.052676308900117874, 0.0, 0.0, 0.0, 0.0, 0.0, 0.0, 0.0, 0.0, 0.0, 0.0], [0.8253194689750671, 0.05802800506353378, 0.07780379056930542, 0.038848694413900375, 0.0, 0.0, 0.0, 0.0, 0.0, 0.0, 0.0, 0.0, 0.0], [0.7694289088249207, 0.06413701176643372, 0.1073242649435997, 0.03920796141028404, 0.01990189217031002, 0.0, 0.0, 0.0, 0.0, 0.0, 0.0, 0.0, 0.0], [0.4876876473426819, 0.07877674698829651, 0.1063641682267189, 0.13142172992229462, 0.13490672409534454, 0.060842934995889664, 0.0, 0.0, 0.0, 0.0, 0.0, 0.0, 0.0], [0.5926117300987244, 0.013854488730430603, 0.06089629977941513, 0.044756095856428146, 0.13386264443397522, 0.09897540509700775, 0.05504339188337326, 0.0, 0.0, 0.0, 0.0, 0.0, 0.0], [0.6954558491706848, 0.08366994559764862, 0.024296727031469345, 0.017992006614804268, 0.008868088945746422, 0.04658374935388565, 0.04396423324942589, 0.07916941493749619, 0.0, 0.0, 0.0, 0.0, 0.0], [0.526604175567627, 0.018319301307201385, 0.01031239703297615, 0.024777857586741447, 0.050935957580804825, 0.04125406593084335, 0.030675265938043594, 0.21067635715007782, 0.0864446759223938, 0.0, 0.0, 0.0, 0.0], [0.4096986651420593, 0.031062768772244453, 0.005080165341496468, 0.014844459481537342, 0.029978938400745392, 0.04047746583819389, 0.017738912254571915, 0.2202833890914917, 0.19017040729522705, 0.04066476225852966, 0.0, 0.0, 0.0], [0.5793957710266113, 0.011494907550513744, 0.00617456529289484, 0.006548464763909578, 0.014134974218904972, 0.013877693563699722, 0.0069909230805933475, 0.14112211763858795, 0.11491204053163528, 0.07194465398788452, 0.033403851091861725, 0.0, 0.0], [0.3430614769458771, 0.013722696341574192, 0.011481956578791142, 0.0031090935226529837, 0.00912443082779646, 0.01564718969166279, 0.012933117337524891, 0.14877837896347046, 0.2281164973974228, 0.10101726651191711, 0.09744211286306381, 0.015565759502351284, 0.0], [0.7288732528686523, 0.03534979000687599, 0.008721278049051762, 0.0021336853969842196, 0.0010415087454020977, 0.004750777035951614, 0.013449491932988167, 0.03416954353451729, 0.03369396552443504, 0.02162398211658001, 0.024141443893313408, 0.002603353699669242, 0.08944784104824066]], [[1.0, 0.0, 0.0, 0.0, 0.0, 0.0, 0.0, 0.0, 0.0, 0.0, 0.0, 0.0, 0.0], [0.9992619156837463, 0.0007380697061307728, 0.0, 0.0, 0.0, 0.0, 0.0, 0.0, 0.0, 0.0, 0.0, 0.0, 0.0], [0.9892842173576355, 0.005562253762036562, 0.005153450183570385, 0.0, 0.0, 0.0, 0.0, 0.0, 0.0, 0.0, 0.0, 0.0, 0.0], [0.9981765747070312, 0.0005529297050088644, 0.000411681248806417, 0.00085878447862342, 0.0, 0.0, 0.0, 0.0, 0.0, 0.0, 0.0, 0.0, 0.0], [0.9894173741340637, 0.0015784123679623008, 0.0006984088686294854, 0.0006574884173460305, 0.007648366503417492, 0.0, 0.0, 0.0, 0.0, 0.0, 0.0, 0.0, 0.0], [0.9879931211471558, 0.005799189675599337, 0.0003320532850921154, 9.38982775551267e-05, 0.001220144098624587, 0.004561563953757286, 0.0, 0.0, 0.0, 0.0, 0.0, 0.0, 0.0], [0.9891876578330994, 8.647831418784335e-05, 0.00025157592608593404, 7.721967995166779e-05, 2.2215146600501612e-05, 0.00025954420561902225, 0.010115441866219044, 0.0, 0.0, 0.0, 0.0, 0.0, 0.0], [0.9580034613609314, 0.0023863972164690495, 0.0014460831880569458, 0.002015861915424466, 0.0006115725263953209, 0.01231928076595068, 0.013755915686488152, 0.009461477398872375, 0.0, 0.0, 0.0, 0.0, 0.0], [0.9461935758590698, 0.0011945964070037007, 0.0004914143355563283, 0.0001361391186947003, 0.00013337410928215832, 0.0001603245036676526, 0.00908282957971096, 0.031424060463905334, 0.011183727532625198, 0.0, 0.0, 0.0, 0.0], [0.9491623640060425, 0.0012195425806567073, 7.364907651208341e-05, 0.00468964409083128, 0.000990693224593997, 0.0015568820526823401, 0.004653408657759428, 0.02735268697142601, 0.0042764004319906235, 0.006024758797138929, 0.0, 0.0, 0.0], [0.9722349047660828, 0.0018719336949288845, 4.2900013795588166e-05, 0.00018668641860131174, 0.00019609327137004584, 6.849834608146921e-05, 0.0033433132339268923, 0.003556034527719021, 0.0004017460742034018, 0.007742698770016432, 0.010355201549828053, 0.0, 0.0], [0.9881721138954163, 7.496224861824885e-05, 0.00012412361684255302, 0.00013760999718215317, 0.00016016641166061163, 0.00042542151641100645, 0.003304565092548728, 0.0004895210731774569, 0.00036326615372672677, 0.00014906146680004895, 0.00018163914501201361, 0.006417446304112673, 0.0], [0.9873389005661011, 0.0005880165845155716, 0.0003096504369750619, 0.0004453046421986073, 9.362727723782882e-05, 0.0005760392523370683, 0.002602305030450225, 0.00030157496803440154, 0.003928072284907103, 0.0006740951794199646, 7.344174082390964e-05, 0.0006354583310894668, 0.002433495130389929]], [[1.0, 0.0, 0.0, 0.0, 0.0, 0.0, 0.0, 0.0, 0.0, 0.0, 0.0, 0.0, 0.0], [0.9937912821769714, 0.0062086754478514194, 0.0, 0.0, 0.0, 0.0, 0.0, 0.0, 0.0, 0.0, 0.0, 0.0, 0.0], [0.9724288582801819, 0.016425034031271935, 0.011146080680191517, 0.0, 0.0, 0.0, 0.0, 0.0, 0.0, 0.0, 0.0, 0.0, 0.0], [0.9864285588264465, 0.0010492833098396659, 0.00765089550986886, 0.0048713283613324165, 0.0, 0.0, 0.0, 0.0, 0.0, 0.0, 0.0, 0.0, 0.0], [0.9896451234817505, 0.00041418991168029606, 0.0024624678771942854, 0.0026832250878214836, 0.004795019514858723, 0.0, 0.0, 0.0, 0.0, 0.0, 0.0, 0.0, 0.0], [0.9768113493919373, 0.013926352374255657, 0.002098675351589918, 0.0008797096670605242, 0.004567932337522507, 0.0017160183051601052, 0.0, 0.0, 0.0, 0.0, 0.0, 0.0, 0.0], [0.9336313605308533, 0.0033736613113433123, 0.014308895915746689, 0.0023205792531371117, 0.007337932474911213, 0.003782929154112935, 0.03524455428123474, 0.0, 0.0, 0.0, 0.0, 0.0, 0.0], [0.9772023558616638, 0.001363067771308124, 0.0027033148799091578, 0.0016661249101161957, 0.0005757935578003526, 0.0009010744979605079, 0.002016508486121893, 0.01357176247984171, 0.0, 0.0, 0.0, 0.0, 0.0], [0.9591215252876282, 0.010303854942321777, 0.0044181752018630505, 0.004541855771094561, 0.00042726335232146084, 0.0007699374109506607, 0.013312813825905323, 0.004900715313851833, 0.0022037809249013662, 0.0, 0.0, 0.0, 0.0], [0.9334142804145813, 0.004620730876922607, 0.0015778773231431842, 0.011198625899851322, 0.0004074781609233469, 0.0036478799302130938, 0.004555592313408852, 0.0025950088165700436, 0.0010439192410558462, 0.036938510835170746, 0.0, 0.0, 0.0], [0.9650255441665649, 0.003371280850842595, 0.0012450232170522213, 0.002789922058582306, 0.0038671265356242657, 0.004099706187844276, 0.008235229179263115, 0.006370130926370621, 0.000497634697239846, 0.0008124713785946369, 0.0036859370302408934, 0.0, 0.0], [0.9426667094230652, 0.0006965575157664716, 0.0028571579605340958, 0.0006906618364155293, 0.008700375445187092, 0.001379472087137401, 0.002749904291704297, 0.02732669562101364, 0.0009767240844666958, 0.0020273958798497915, 0.0017870527226477861, 0.008141257800161839, 0.0], [0.9200882911682129, 0.0008797189802862704, 0.0011211930541321635, 0.0005141362780705094, 0.0007543729734607041, 0.00023195252288132906, 0.0015691714361310005, 0.015113316476345062, 0.038176000118255615, 0.0029550122562795877, 0.000882046006154269, 0.0012684648390859365, 0.01644633710384369]]], [[[1.0, 0.0, 0.0, 0.0, 0.0, 0.0, 0.0, 0.0, 0.0, 0.0, 0.0, 0.0, 0.0], [0.9885786771774292, 0.011421282775700092, 0.0, 0.0, 0.0, 0.0, 0.0, 0.0, 0.0, 0.0, 0.0, 0.0, 0.0], [0.92400723695755, 0.02634354680776596, 0.049649178981781006, 0.0, 0.0, 0.0, 0.0, 0.0, 0.0, 0.0, 0.0, 0.0, 0.0], [0.9250153303146362, 0.017101649194955826, 0.040377259254455566, 0.017505766823887825, 0.0, 0.0, 0.0, 0.0, 0.0, 0.0, 0.0, 0.0, 0.0], [0.8898260593414307, 0.006718306336551905, 0.03582780808210373, 0.020356930792331696, 0.04727092385292053, 0.0, 0.0, 0.0, 0.0, 0.0, 0.0, 0.0, 0.0], [0.8962545394897461, 0.006416809745132923, 0.015068614855408669, 0.009068559855222702, 0.020532360300421715, 0.05265912413597107, 0.0, 0.0, 0.0, 0.0, 0.0, 0.0, 0.0], [0.8389371633529663, 0.014491371810436249, 0.02012949436903, 0.006888842675834894, 0.015469592064619064, 0.03783164918422699, 0.06625191122293472, 0.0, 0.0, 0.0, 0.0, 0.0, 0.0], [0.8296396732330322, 0.003589870175346732, 0.010673732496798038, 0.012117886915802956, 0.04776976630091667, 0.02996942028403282, 0.01879173144698143, 0.04744788259267807, 0.0, 0.0, 0.0, 0.0, 0.0], [0.6965187191963196, 0.010706533677875996, 0.018139204010367393, 0.013598883524537086, 0.03921108320355415, 0.06785062700510025, 0.025125082582235336, 0.06458321213722229, 0.06426669657230377, 0.0, 0.0, 0.0, 0.0], [0.6124517917633057, 0.010309199802577496, 0.01856207847595215, 0.01563478633761406, 0.025445766746997833, 0.038709234446287155, 0.023375092074275017, 0.08459819853305817, 0.07396640628576279, 0.09694752842187881, 0.0, 0.0, 0.0], [0.6030423045158386, 0.005424593575298786, 0.02061883732676506, 0.01776900701224804, 0.020622165873646736, 0.03447621315717697, 0.02038087509572506, 0.07278597354888916, 0.049303654581308365, 0.04474780336022377, 0.11082857847213745, 0.0, 0.0], [0.7390552163124084, 0.0061617158353328705, 0.011399051174521446, 0.003637987421825528, 0.009392869658768177, 0.008820024318993092, 0.01636037789285183, 0.1343536525964737, 0.014849112369120121, 0.015176963992416859, 0.02504396066069603, 0.01574907824397087, 0.0], [0.8599955439567566, 0.002064177067950368, 0.0043462044559419155, 0.003866791957989335, 0.01046938356012106, 0.005734145175665617, 0.009194006212055683, 0.029876694083213806, 0.011466661468148232, 0.0025997960474342108, 0.006302566267549992, 0.0037123681977391243, 0.05037172511219978]], [[1.0, 0.0, 0.0, 0.0, 0.0, 0.0, 0.0, 0.0, 0.0, 0.0, 0.0, 0.0, 0.0], [0.9592180252075195, 0.04078196734189987, 0.0, 0.0, 0.0, 0.0, 0.0, 0.0, 0.0, 0.0, 0.0, 0.0, 0.0], [0.9947025179862976, 0.0034309937618672848, 0.0018664328381419182, 0.0, 0.0, 0.0, 0.0, 0.0, 0.0, 0.0, 0.0, 0.0, 0.0], [0.9978035092353821, 0.0010231976630166173, 0.0006522804033011198, 0.0005209979135543108, 0.0, 0.0, 0.0, 0.0, 0.0, 0.0, 0.0, 0.0, 0.0], [0.9902004599571228, 0.0002289611438754946, 0.00020891991152893752, 5.031950058764778e-05, 0.009311342611908913, 0.0, 0.0, 0.0, 0.0, 0.0, 0.0, 0.0, 0.0], [0.9966902732849121, 0.00047235266538336873, 5.665154094458558e-05, 1.7073683920898475e-05, 0.0022536725737154484, 0.0005099003319628537, 0.0, 0.0, 0.0, 0.0, 0.0, 0.0, 0.0], [0.978213369846344, 0.000313739845296368, 0.0009375576628372073, 0.0007213865756057203, 0.0037983907386660576, 0.0013707383768633008, 0.014644849114120007, 0.0, 0.0, 0.0, 0.0, 0.0, 0.0], [0.9482073187828064, 0.009319895878434181, 0.007313424721360207, 0.0029569233302026987, 0.012663288973271847, 0.00421042600646615, 0.010055643506348133, 0.005272995214909315, 0.0, 0.0, 0.0, 0.0, 0.0], [0.9843346476554871, 0.002122181002050638, 0.00045704946387559175, 0.00010705943714128807, 0.00024345115525647998, 0.0001019258052110672, 0.005616429261863232, 0.005013178568333387, 0.0020040678791701794, 0.0, 0.0, 0.0, 0.0], [0.985858142375946, 0.0010108085116371512, 3.793466748902574e-05, 0.0037667807191610336, 0.0013766048941761255, 0.00045318686170503497, 0.0020387049298733473, 0.002351317787542939, 0.0010994679760187864, 0.00200709979981184, 0.0, 0.0, 0.0], [0.9817578196525574, 0.0020601775031536818, 0.00023086681903805584, 0.0006959438323974609, 0.0007903460646048188, 0.00015810312470421195, 0.0012432713992893696, 0.0023152828216552734, 0.0005734340520575643, 0.0035727783106267452, 0.00660192035138607, 0.0, 0.0], [0.9759149551391602, 0.00046010431833565235, 0.0007507877890020609, 0.00019968902051914483, 0.0038829799741506577, 0.0007473837467841804, 0.0014596226392313838, 0.003932924009859562, 0.002411965513601899, 0.0022859247401356697, 0.0013564912369474769, 0.0065971072763204575, 0.0], [0.9740928411483765, 0.003057166701182723, 0.0010619723470881581, 0.0004995199269615114, 0.0015958871226757765, 0.0007876731106080115, 0.0019944177474826574, 0.001293195760808885, 0.0059209843166172504, 0.0017564187292009592, 0.0007063764496706426, 0.003774877404794097, 0.00345863145776093]], [[1.0, 0.0, 0.0, 0.0, 0.0, 0.0, 0.0, 0.0, 0.0, 0.0, 0.0, 0.0, 0.0], [0.924684464931488, 0.07531556487083435, 0.0, 0.0, 0.0, 0.0, 0.0, 0.0, 0.0, 0.0, 0.0, 0.0, 0.0], [0.8574203252792358, 0.10142684727907181, 0.04115282744169235, 0.0, 0.0, 0.0, 0.0, 0.0, 0.0, 0.0, 0.0, 0.0, 0.0], [0.9308714866638184, 0.028938136994838715, 0.012168126180768013, 0.0280222836881876, 0.0, 0.0, 0.0, 0.0, 0.0, 0.0, 0.0, 0.0, 0.0], [0.7589312195777893, 0.1041714996099472, 0.056972358375787735, 0.06101793423295021, 0.018906917423009872, 0.0, 0.0, 0.0, 0.0, 0.0, 0.0, 0.0, 0.0], [0.8369638919830322, 0.07532771676778793, 0.02021738700568676, 0.023992570117115974, 0.006078765727579594, 0.03741970285773277, 0.0, 0.0, 0.0, 0.0, 0.0, 0.0, 0.0], [0.7893775105476379, 0.07821538299322128, 0.0335736982524395, 0.018795790150761604, 0.0076536377891898155, 0.03514352813363075, 0.03724053502082825, 0.0, 0.0, 0.0, 0.0, 0.0, 0.0], [0.5627189874649048, 0.08877246826887131, 0.05088887736201286, 0.04304535314440727, 0.00572089571505785, 0.052731920033693314, 0.08838791400194168, 0.10773354768753052, 0.0, 0.0, 0.0, 0.0, 0.0], [0.622046709060669, 0.04372236505150795, 0.06446116417646408, 0.03942834958434105, 0.0024598881136626005, 0.03094196878373623, 0.07585042715072632, 0.09498520195484161, 0.026103921234607697, 0.0, 0.0, 0.0, 0.0], [0.40948790311813354, 0.06300827115774155, 0.024364477023482323, 0.08414455503225327, 0.009854372590780258, 0.027862798422574997, 0.06983225792646408, 0.17784714698791504, 0.045935843139886856, 0.08766233175992966, 0.0, 0.0, 0.0], [0.4474387764930725, 0.062277764081954956, 0.01733410358428955, 0.041531261056661606, 0.006254772190004587, 0.017565997317433357, 0.1087091714143753, 0.15616647899150848, 0.044312771409749985, 0.024169228971004486, 0.07423966377973557, 0.0, 0.0], [0.4761373996734619, 0.04431209713220596, 0.023056508973240852, 0.015453443862497807, 0.004665328189730644, 0.015495148487389088, 0.030148478224873543, 0.18958549201488495, 0.03555038943886757, 0.04352482408285141, 0.07022754102945328, 0.051843345165252686, 0.0], [0.5577200651168823, 0.06184211000800133, 0.026408055797219276, 0.019822409376502037, 0.002470992738381028, 0.02135322242975235, 0.03700677305459976, 0.03918919339776039, 0.025175897404551506, 0.04310305044054985, 0.045727819204330444, 0.019897902384400368, 0.10028250515460968]], [[1.0, 0.0, 0.0, 0.0, 0.0, 0.0, 0.0, 0.0, 0.0, 0.0, 0.0, 0.0, 0.0], [0.9391628503799438, 0.060837145894765854, 0.0, 0.0, 0.0, 0.0, 0.0, 0.0, 0.0, 0.0, 0.0, 0.0, 0.0], [0.9630717039108276, 0.012202228419482708, 0.024725954979658127, 0.0, 0.0, 0.0, 0.0, 0.0, 0.0, 0.0, 0.0, 0.0, 0.0], [0.9763436317443848, 0.003336452879011631, 0.007012100890278816, 0.013307771645486355, 0.0, 0.0, 0.0, 0.0, 0.0, 0.0, 0.0, 0.0, 0.0], [0.9408948421478271, 0.0018085286719724536, 0.0125354565680027, 0.008483893238008022, 0.03627728670835495, 0.0, 0.0, 0.0, 0.0, 0.0, 0.0, 0.0, 0.0], [0.9659820199012756, 0.0025123856030404568, 0.00962354987859726, 0.00125515169929713, 0.00597759522497654, 0.01464932132512331, 0.0, 0.0, 0.0, 0.0, 0.0, 0.0, 0.0], [0.9406356811523438, 0.002168098697438836, 0.007359649986028671, 0.0012613446451723576, 0.007850139401853085, 0.008586764335632324, 0.03213827311992645, 0.0, 0.0, 0.0, 0.0, 0.0, 0.0], [0.5284344553947449, 0.042810436338186264, 0.0592120960354805, 0.018816538155078888, 0.02697521261870861, 0.031762298196554184, 0.12065552175045013, 0.1713334619998932, 0.0, 0.0, 0.0, 0.0, 0.0], [0.7845739126205444, 0.0011804875684902072, 0.0038690902292728424, 0.0012289794394746423, 0.012044407427310944, 0.012305773794651031, 0.0651916041970253, 0.09159136563539505, 0.02801431715488434, 0.0, 0.0, 0.0, 0.0], [0.7487215995788574, 0.0018082794267684221, 0.0018288114806637168, 0.00302056223154068, 0.01193098071962595, 0.011198535561561584, 0.05022111535072327, 0.1365450620651245, 0.024259347468614578, 0.010465548373758793, 0.0, 0.0, 0.0], [0.7820584177970886, 0.002748041180893779, 0.0022359578870236874, 0.0025688440073281527, 0.013714050874114037, 0.0056917122565209866, 0.01274949312210083, 0.14218801259994507, 0.019131163135170937, 0.008369343355298042, 0.00854494422674179, 0.0, 0.0], [0.5682605504989624, 0.004522040486335754, 0.004774566739797592, 0.0010172815527766943, 0.0010591702302917838, 0.008057991974055767, 0.12184794247150421, 0.12166865915060043, 0.08429528027772903, 0.03499242663383484, 0.014522063545882702, 0.034982066601514816, 0.0], [0.5767092704772949, 0.030131475999951363, 0.021217819303274155, 0.00366265419870615, 0.004126284271478653, 0.006609393749386072, 0.03473817557096481, 0.06820421665906906, 0.03907934948801994, 0.02578212320804596, 0.01206341665238142, 0.018891476094722748, 0.15878432989120483]], [[1.0, 0.0, 0.0, 0.0, 0.0, 0.0, 0.0, 0.0, 0.0, 0.0, 0.0, 0.0, 0.0], [0.9501694440841675, 0.04983058199286461, 0.0, 0.0, 0.0, 0.0, 0.0, 0.0, 0.0, 0.0, 0.0, 0.0, 0.0], [0.8924086093902588, 0.07885703444480896, 0.028734320774674416, 0.0, 0.0, 0.0, 0.0, 0.0, 0.0, 0.0, 0.0, 0.0, 0.0], [0.8875378966331482, 0.020899860188364983, 0.07190397381782532, 0.01965823955833912, 0.0, 0.0, 0.0, 0.0, 0.0, 0.0, 0.0, 0.0, 0.0], [0.8519841432571411, 0.00955352932214737, 0.009324401617050171, 0.026968903839588165, 0.1021689847111702, 0.0, 0.0, 0.0, 0.0, 0.0, 0.0, 0.0, 0.0], [0.347232460975647, 0.00669228145852685, 0.006406736560165882, 0.024090852588415146, 0.571020781993866, 0.0445568822324276, 0.0, 0.0, 0.0, 0.0, 0.0, 0.0, 0.0], [0.3188401460647583, 0.00672090332955122, 0.009210213087499142, 0.03110847808420658, 0.4760090708732605, 0.14803196489810944, 0.010079228319227695, 0.0, 0.0, 0.0, 0.0, 0.0, 0.0], [0.8085386753082275, 0.006110604386776686, 0.005196359474211931, 0.04970359802246094, 0.02416292391717434, 0.026761438697576523, 0.03508571907877922, 0.04444063827395439, 0.0, 0.0, 0.0, 0.0, 0.0], [0.5877259969711304, 0.006687343120574951, 0.006005110219120979, 0.02561570703983307, 0.11185071617364883, 0.08256124705076218, 0.04883558675646782, 0.1037181168794632, 0.02700013853609562, 0.0, 0.0, 0.0, 0.0], [0.617685079574585, 0.00924204383045435, 0.0032820086926221848, 0.014947451651096344, 0.060073040425777435, 0.04620475694537163, 0.029927093535661697, 0.11091814190149307, 0.09903942048549652, 0.008680912666022778, 0.0, 0.0, 0.0], [0.7005060911178589, 0.005014712922275066, 0.01282185036689043, 0.01922483928501606, 0.03771360218524933, 0.010859551839530468, 0.012176105752587318, 0.04719347506761551, 0.07647165656089783, 0.04647428169846535, 0.031543854624032974, 0.0, 0.0], [0.8182991743087769, 0.007429014891386032, 0.005396735388785601, 0.005917998496443033, 0.0029839137569069862, 0.004116703290492296, 0.008602567948400974, 0.010694696567952633, 0.011008636094629765, 0.014363007619976997, 0.04231474548578262, 0.06887274980545044, 0.0], [0.8887989521026611, 0.0017369091510772705, 0.0012046918272972107, 0.006948802620172501, 0.0009707025019451976, 0.0017797282198444009, 0.004733202513307333, 0.007112368009984493, 0.005384032614529133, 0.0017693889094516635, 0.005650624632835388, 0.04696706682443619, 0.02694363333284855]], [[1.0, 0.0, 0.0, 0.0, 0.0, 0.0, 0.0, 0.0, 0.0, 0.0, 0.0, 0.0, 0.0], [0.8692957162857056, 0.13070423901081085, 0.0, 0.0, 0.0, 0.0, 0.0, 0.0, 0.0, 0.0, 0.0, 0.0, 0.0], [0.7411393523216248, 0.19387513399124146, 0.06498557329177856, 0.0, 0.0, 0.0, 0.0, 0.0, 0.0, 0.0, 0.0, 0.0, 0.0], [0.7246322631835938, 0.07857898622751236, 0.15273185074329376, 0.04405695199966431, 0.0, 0.0, 0.0, 0.0, 0.0, 0.0, 0.0, 0.0, 0.0], [0.4195988178253174, 0.10013134777545929, 0.17080502212047577, 0.262419193983078, 0.04704570397734642, 0.0, 0.0, 0.0, 0.0, 0.0, 0.0, 0.0, 0.0], [0.6563902497291565, 0.04015617072582245, 0.055368486791849136, 0.1413874626159668, 0.08523592352867126, 0.021461840718984604, 0.0, 0.0, 0.0, 0.0, 0.0, 0.0, 0.0], [0.45597130060195923, 0.045092009007930756, 0.11162293702363968, 0.10339979827404022, 0.14615251123905182, 0.08427935093641281, 0.05348214879631996, 0.0, 0.0, 0.0, 0.0, 0.0, 0.0], [0.5461072325706482, 0.041250571608543396, 0.06517516076564789, 0.07713863998651505, 0.013939136639237404, 0.04410488158464432, 0.10719109326601028, 0.10509335249662399, 0.0, 0.0, 0.0, 0.0, 0.0], [0.5044673681259155, 0.008472253568470478, 0.01631147228181362, 0.014219855889678001, 0.02556733600795269, 0.040379300713539124, 0.13961385190486908, 0.20297077298164368, 0.047997843474149704, 0.0, 0.0, 0.0, 0.0], [0.344940185546875, 0.016496501863002777, 0.00576190697029233, 0.010952400043606758, 0.012895066291093826, 0.021874353289604187, 0.06778427958488464, 0.23824524879455566, 0.23544001579284668, 0.04561007395386696, 0.0, 0.0, 0.0], [0.3022274971008301, 0.0177921112626791, 0.027394713833928108, 0.006947413086891174, 0.008219953626394272, 0.014419374987483025, 0.0497589185833931, 0.11663974076509476, 0.1493888944387436, 0.19903963804244995, 0.1081717386841774, 0.0, 0.0], [0.41409388184547424, 0.005520537495613098, 0.01596646197140217, 0.007246478460729122, 0.008354195393621922, 0.012379388324916363, 0.013162744231522083, 0.03966337442398071, 0.0712975263595581, 0.13464096188545227, 0.19856324791908264, 0.07911121100187302, 0.0], [0.552240252494812, 0.013997184112668037, 0.01563328504562378, 0.01328432559967041, 0.0012428801273927093, 0.006007290445268154, 0.03079354204237461, 0.07094696909189224, 0.013130716979503632, 0.010385474190115929, 0.020412946119904518, 0.14478448033332825, 0.10714065283536911]], [[1.0, 0.0, 0.0, 0.0, 0.0, 0.0, 0.0, 0.0, 0.0, 0.0, 0.0, 0.0, 0.0], [0.9256664514541626, 0.07433357834815979, 0.0, 0.0, 0.0, 0.0, 0.0, 0.0, 0.0, 0.0, 0.0, 0.0, 0.0], [0.9751752018928528, 0.017041979357600212, 0.007782811764627695, 0.0, 0.0, 0.0, 0.0, 0.0, 0.0, 0.0, 0.0, 0.0, 0.0], [0.9937927722930908, 0.002619847422465682, 0.0018116459250450134, 0.001775671262294054, 0.0, 0.0, 0.0, 0.0, 0.0, 0.0, 0.0, 0.0, 0.0], [0.984815239906311, 0.005661947652697563, 0.006356704514473677, 0.0020909984596073627, 0.001075172913260758, 0.0, 0.0, 0.0, 0.0, 0.0, 0.0, 0.0, 0.0], [0.9922635555267334, 0.0011595679679885507, 0.002112389076501131, 0.0005632698303088546, 0.0018503929022699594, 0.002050853567197919, 0.0, 0.0, 0.0, 0.0, 0.0, 0.0, 0.0], [0.962203860282898, 0.0019250225741416216, 0.0076536075212061405, 0.005693577695637941, 0.003721865825355053, 0.003249691566452384, 0.015552272088825703, 0.0, 0.0, 0.0, 0.0, 0.0, 0.0], [0.8652008175849915, 0.017073238268494606, 0.0222682636231184, 0.0121909873560071, 0.013591757044196129, 0.010042531415820122, 0.022056590765714645, 0.037575896829366684, 0.0, 0.0, 0.0, 0.0, 0.0], [0.7034912705421448, 0.0021147297229617834, 0.013963467441499233, 0.02291414700448513, 0.036537475883960724, 0.016828740015625954, 0.05849387124180794, 0.11937074363231659, 0.02628546766936779, 0.0, 0.0, 0.0, 0.0], [0.8835994601249695, 0.0005790165159851313, 0.00028571425355039537, 0.004327794071286917, 0.00531114311888814, 0.010752116329967976, 0.021038837730884552, 0.04161402955651283, 0.018826495856046677, 0.013665429316461086, 0.0, 0.0, 0.0], [0.9044084548950195, 0.0005036388174630702, 0.0010813275584951043, 0.0016836501890793443, 0.01005895808339119, 0.002557723317295313, 0.006593278609216213, 0.049425844103097916, 0.00995537918061018, 0.009141970425844193, 0.0045897769741714, 0.0, 0.0], [0.8972706198692322, 0.0005750427953898907, 0.0027199338655918837, 0.000654754345305264, 0.002445800695568323, 0.0011647138744592667, 0.0026500688400119543, 0.04035041108727455, 0.014551046304404736, 0.011765554547309875, 0.003181065432727337, 0.022670965641736984, 0.0], [0.6423829793930054, 0.017545044422149658, 0.029640311375260353, 0.005774297285825014, 0.008267217315733433, 0.0018437562976032495, 0.009132680483162403, 0.04317912831902504, 0.02445928193628788, 0.025885146111249924, 0.003187887603417039, 0.013885234482586384, 0.17481708526611328]], [[1.0, 0.0, 0.0, 0.0, 0.0, 0.0, 0.0, 0.0, 0.0, 0.0, 0.0, 0.0, 0.0], [0.9062650799751282, 0.09373492002487183, 0.0, 0.0, 0.0, 0.0, 0.0, 0.0, 0.0, 0.0, 0.0, 0.0, 0.0], [0.8317887783050537, 0.13253316283226013, 0.03567804396152496, 0.0, 0.0, 0.0, 0.0, 0.0, 0.0, 0.0, 0.0, 0.0, 0.0], [0.6648223996162415, 0.05283527821302414, 0.2645045518875122, 0.0178377628326416, 0.0, 0.0, 0.0, 0.0, 0.0, 0.0, 0.0, 0.0, 0.0], [0.8501617312431335, 0.008695992641150951, 0.01463739201426506, 0.06039995327591896, 0.06610491871833801, 0.0, 0.0, 0.0, 0.0, 0.0, 0.0, 0.0, 0.0], [0.13638834655284882, 0.0017889266600832343, 0.0028990423306822777, 0.0024180884938687086, 0.7817713022232056, 0.07473431527614594, 0.0, 0.0, 0.0, 0.0, 0.0, 0.0, 0.0], [0.29191580414772034, 0.005195540841668844, 0.012572762556374073, 0.007637977600097656, 0.3443402647972107, 0.30914226174354553, 0.029195372015237808, 0.0, 0.0, 0.0, 0.0, 0.0, 0.0], [0.9468523263931274, 0.011014428921043873, 0.0035732141695916653, 0.0013661464909091592, 0.001132332836277783, 0.0053857844322919846, 0.021491436287760735, 0.0091843381524086, 0.0, 0.0, 0.0, 0.0, 0.0], [0.8271299600601196, 0.0034481268376111984, 0.00404938030987978, 0.0019978994969278574, 0.013505726121366024, 0.007934758439660072, 0.02826029062271118, 0.09345322847366333, 0.02022060751914978, 0.0, 0.0, 0.0, 0.0], [0.5374895334243774, 0.00653030164539814, 0.003077601082623005, 0.0005387162091210485, 0.006796902045607567, 0.014044245705008507, 0.030868694186210632, 0.0700187012553215, 0.29820939898490906, 0.03242599591612816, 0.0, 0.0, 0.0], [0.4694666266441345, 0.004565890412777662, 0.013698987662792206, 0.0021382730919867754, 0.0072267064824700356, 0.00901019386947155, 0.04171937331557274, 0.04892192408442497, 0.17905443906784058, 0.2049202024936676, 0.019277401268482208, 0.0, 0.0], [0.5509728789329529, 0.0018367101438343525, 0.005097478628158569, 0.0024687061086297035, 0.0055989655666053295, 0.012857195921242237, 0.005256349686533213, 0.013827072456479073, 0.07059376686811447, 0.06232162564992905, 0.25669968128204346, 0.012469603680074215, 0.0], [0.9580190181732178, 0.0030330438166856766, 0.0013633794151246548, 0.0002946170570794493, 0.00020900863455608487, 0.0007781240274198353, 0.0024443790316581726, 0.0019021336920559406, 0.007042454089969397, 0.00491366209462285, 0.005263639613986015, 0.007077276241034269, 0.007659219205379486]], [[1.0, 0.0, 0.0, 0.0, 0.0, 0.0, 0.0, 0.0, 0.0, 0.0, 0.0, 0.0, 0.0], [0.9225262999534607, 0.07747373729944229, 0.0, 0.0, 0.0, 0.0, 0.0, 0.0, 0.0, 0.0, 0.0, 0.0, 0.0], [0.821069598197937, 0.09540662169456482, 0.08352376520633698, 0.0, 0.0, 0.0, 0.0, 0.0, 0.0, 0.0, 0.0, 0.0, 0.0], [0.796087920665741, 0.06024547293782234, 0.13235050439834595, 0.011316065676510334, 0.0, 0.0, 0.0, 0.0, 0.0, 0.0, 0.0, 0.0, 0.0], [0.565424382686615, 0.08815629035234451, 0.2994544208049774, 0.017755990847945213, 0.029208892956376076, 0.0, 0.0, 0.0, 0.0, 0.0, 0.0, 0.0, 0.0], [0.8109270334243774, 0.04506468400359154, 0.06448337435722351, 0.010688241571187973, 0.030937504023313522, 0.03789912536740303, 0.0, 0.0, 0.0, 0.0, 0.0, 0.0, 0.0], [0.8383238315582275, 0.013605735264718533, 0.013287510722875595, 0.014722542837262154, 0.031311117112636566, 0.025058867409825325, 0.0636904314160347, 0.0, 0.0, 0.0, 0.0, 0.0, 0.0], [0.49226388335227966, 0.03293849527835846, 0.02617798000574112, 0.014734086580574512, 0.08104626834392548, 0.02304014377295971, 0.27047550678253174, 0.05932355299592018, 0.0, 0.0, 0.0, 0.0, 0.0], [0.3023325204849243, 0.013357809744775295, 0.015053042210638523, 0.007799031678587198, 0.09020271897315979, 0.06519271433353424, 0.240982785820961, 0.20495307445526123, 0.06012631952762604, 0.0, 0.0, 0.0, 0.0], [0.3794989585876465, 0.010715425945818424, 0.014041869901120663, 0.009781578555703163, 0.0782950147986412, 0.0684313178062439, 0.1334889680147171, 0.1567375808954239, 0.09494910389184952, 0.054060198366642, 0.0, 0.0, 0.0], [0.3777739405632019, 0.01290400791913271, 0.010738128796219826, 0.0055427029728889465, 0.03555021807551384, 0.029404396191239357, 0.1940864771604538, 0.0891219824552536, 0.09754347801208496, 0.11395962536334991, 0.03337507322430611, 0.0, 0.0], [0.5344969034194946, 0.015410247258841991, 0.01676577888429165, 0.0077475798316299915, 0.029055718332529068, 0.012866764329373837, 0.14675959944725037, 0.0883844792842865, 0.04942236840724945, 0.029676662757992744, 0.03101262077689171, 0.0384012870490551, 0.0], [0.5813103914260864, 0.023337101563811302, 0.013363448902964592, 0.010917134582996368, 0.020981937646865845, 0.00520484009757638, 0.1689048558473587, 0.03445568308234215, 0.020779117941856384, 0.013546651229262352, 0.00979145709425211, 0.03026421181857586, 0.0671432763338089]], [[1.0, 0.0, 0.0, 0.0, 0.0, 0.0, 0.0, 0.0, 0.0, 0.0, 0.0, 0.0, 0.0], [0.968464732170105, 0.031535226851701736, 0.0, 0.0, 0.0, 0.0, 0.0, 0.0, 0.0, 0.0, 0.0, 0.0, 0.0], [0.9421701431274414, 0.023577164858579636, 0.034252773970365524, 0.0, 0.0, 0.0, 0.0, 0.0, 0.0, 0.0, 0.0, 0.0, 0.0], [0.9314526915550232, 0.01658894307911396, 0.031620483845472336, 0.02033792808651924, 0.0, 0.0, 0.0, 0.0, 0.0, 0.0, 0.0, 0.0, 0.0], [0.9084875583648682, 0.013341311365365982, 0.03556007519364357, 0.015092132613062859, 0.027518950402736664, 0.0, 0.0, 0.0, 0.0, 0.0, 0.0, 0.0, 0.0], [0.8783760666847229, 0.007597420830279589, 0.02991434559226036, 0.010193130932748318, 0.025319259613752365, 0.04859984666109085, 0.0, 0.0, 0.0, 0.0, 0.0, 0.0, 0.0], [0.8867046236991882, 0.0048370361328125, 0.007169492542743683, 0.005413933657109737, 0.00965953804552555, 0.011444634757936, 0.07477078586816788, 0.0, 0.0, 0.0, 0.0, 0.0, 0.0], [0.8235635757446289, 0.0076984683983027935, 0.017273901030421257, 0.006727292668074369, 0.010102806612849236, 0.02392938733100891, 0.05923452600836754, 0.05147004872560501, 0.0, 0.0, 0.0, 0.0, 0.0], [0.7764416933059692, 0.0018691365839913487, 0.010539775714278221, 0.0029553992208093405, 0.0032858254853636026, 0.010401546955108643, 0.1303430050611496, 0.0389060415327549, 0.025257494300603867, 0.0, 0.0, 0.0, 0.0], [0.7360572814941406, 0.0022446592338383198, 0.011611112393438816, 0.006126388907432556, 0.006817434448748827, 0.016841288655996323, 0.102139413356781, 0.03781333565711975, 0.0439021959900856, 0.03644692897796631, 0.0, 0.0, 0.0], [0.8384160399436951, 0.002596536185592413, 0.009160812012851238, 0.005216364283114672, 0.004945400170981884, 0.015183612704277039, 0.04214926064014435, 0.0349544957280159, 0.01682567596435547, 0.01871540956199169, 0.011836433783173561, 0.0, 0.0], [0.8410796523094177, 0.0030654852744191885, 0.011278489604592323, 0.004678478930145502, 0.0027661158237606287, 0.009700104594230652, 0.029738450422883034, 0.017865946516394615, 0.026167040690779686, 0.016884732991456985, 0.005561824422329664, 0.031213710084557533, 0.0], [0.6396452188491821, 0.01021659467369318, 0.024091113358736038, 0.005003329366445541, 0.002753231907263398, 0.005547812674194574, 0.03449993580579758, 0.04178868979215622, 0.03167642280459404, 0.023091565817594528, 0.016725916415452957, 0.03393770381808281, 0.1310224086046219]], [[1.0, 0.0, 0.0, 0.0, 0.0, 0.0, 0.0, 0.0, 0.0, 0.0, 0.0, 0.0, 0.0], [0.9188495874404907, 0.08115042746067047, 0.0, 0.0, 0.0, 0.0, 0.0, 0.0, 0.0, 0.0, 0.0, 0.0, 0.0], [0.8618863821029663, 0.07931797206401825, 0.05879567191004753, 0.0, 0.0, 0.0, 0.0, 0.0, 0.0, 0.0, 0.0, 0.0, 0.0], [0.9359116554260254, 0.030880196020007133, 0.01597917452454567, 0.017228946089744568, 0.0, 0.0, 0.0, 0.0, 0.0, 0.0, 0.0, 0.0, 0.0], [0.838512659072876, 0.02409081719815731, 0.02771827206015587, 0.020240629091858864, 0.08943765610456467, 0.0, 0.0, 0.0, 0.0, 0.0, 0.0, 0.0, 0.0], [0.8385234475135803, 0.026419730857014656, 0.02055489830672741, 0.006003401707857847, 0.06724478304386139, 0.04125375300645828, 0.0, 0.0, 0.0, 0.0, 0.0, 0.0, 0.0], [0.8231146335601807, 0.014483688399195671, 0.021541496738791466, 0.005686023738235235, 0.050412144511938095, 0.02400810457766056, 0.060754019767045975, 0.0, 0.0, 0.0, 0.0, 0.0, 0.0], [0.6058861017227173, 0.08867981284856796, 0.05720711499452591, 0.025479629635810852, 0.03177160024642944, 0.037995580583810806, 0.052753571420907974, 0.10022667795419693, 0.0, 0.0, 0.0, 0.0, 0.0], [0.7663988471031189, 0.006267569959163666, 0.013545951806008816, 0.008214578032493591, 0.02283678762614727, 0.015558632090687752, 0.04664317145943642, 0.07135436683893204, 0.049180082976818085, 0.0, 0.0, 0.0, 0.0], [0.7271854281425476, 0.00629911944270134, 0.006062687374651432, 0.013864219188690186, 0.04337729513645172, 0.015681015327572823, 0.037293046712875366, 0.05736752599477768, 0.033111464232206345, 0.05975819751620293, 0.0, 0.0, 0.0], [0.7585496306419373, 0.008678482845425606, 0.006058395374566317, 0.0068786898627877235, 0.0238255113363266, 0.008645040914416313, 0.014790241606533527, 0.05328841507434845, 0.021446730941534042, 0.02968924306333065, 0.0681496411561966, 0.0, 0.0], [0.6626562476158142, 0.010457322932779789, 0.010332243517041206, 0.0020228817593306303, 0.0072114006616175175, 0.008941990323364735, 0.03527083992958069, 0.07062830775976181, 0.052263494580984116, 0.06002701818943024, 0.03298449143767357, 0.04720371589064598, 0.0], [0.5493430495262146, 0.05262509360909462, 0.023405585438013077, 0.006813863292336464, 0.005803881678730249, 0.00821713637560606, 0.02294255420565605, 0.043347034603357315, 0.04427719861268997, 0.035598497837781906, 0.01970496028661728, 0.037201616913080215, 0.150719553232193]], [[1.0, 0.0, 0.0, 0.0, 0.0, 0.0, 0.0, 0.0, 0.0, 0.0, 0.0, 0.0, 0.0], [0.985733151435852, 0.014266829937696457, 0.0, 0.0, 0.0, 0.0, 0.0, 0.0, 0.0, 0.0, 0.0, 0.0, 0.0], [0.9742112755775452, 0.015915069729089737, 0.00987373385578394, 0.0, 0.0, 0.0, 0.0, 0.0, 0.0, 0.0, 0.0, 0.0, 0.0], [0.9915345311164856, 0.0014117315877228975, 0.0047711534425616264, 0.002282659290358424, 0.0, 0.0, 0.0, 0.0, 0.0, 0.0, 0.0, 0.0, 0.0], [0.9828544855117798, 0.0042889113537967205, 0.008014452643692493, 0.003203786676749587, 0.0016383625334128737, 0.0, 0.0, 0.0, 0.0, 0.0, 0.0, 0.0, 0.0], [0.9709398746490479, 0.008902132511138916, 0.006656842306256294, 0.004451883491128683, 0.0034463321790099144, 0.005602889694273472, 0.0, 0.0, 0.0, 0.0, 0.0, 0.0, 0.0], [0.945006787776947, 0.005378589034080505, 0.008780929259955883, 0.005364721175283194, 0.006233105435967445, 0.00466202711686492, 0.02457379177212715, 0.0, 0.0, 0.0, 0.0, 0.0, 0.0], [0.7919912338256836, 0.03364311903715134, 0.03340202197432518, 0.01408697385340929, 0.0022568614222109318, 0.008464845828711987, 0.0721544399857521, 0.04400051757693291, 0.0, 0.0, 0.0, 0.0, 0.0], [0.8805727362632751, 0.004400674253702164, 0.012042189948260784, 0.0077157048508524895, 0.004135734401643276, 0.004084079992026091, 0.042194902896881104, 0.0343218594789505, 0.010532237589359283, 0.0, 0.0, 0.0, 0.0], [0.8395534157752991, 0.017168842256069183, 0.014002781361341476, 0.018299149349331856, 0.0070227631367743015, 0.005623101256787777, 0.048978470265865326, 0.029103422537446022, 0.009939686395227909, 0.010308263823390007, 0.0, 0.0, 0.0], [0.8194762468338013, 0.024529794231057167, 0.025435935705900192, 0.028202366083860397, 0.008306467905640602, 0.0050353845581412315, 0.03217187896370888, 0.022237248718738556, 0.00844360701739788, 0.012893548235297203, 0.01326755341142416, 0.0, 0.0], [0.8529371023178101, 0.02296726405620575, 0.020572032779455185, 0.007174659054726362, 0.0033865233417600393, 0.0021573794074356556, 0.04327510669827461, 0.02349063567817211, 0.009093214757740498, 0.007841267623007298, 0.0029337697196751833, 0.004171205218881369, 0.0], [0.828140914440155, 0.02824857085943222, 0.02478284202516079, 0.004318607039749622, 0.000767888908740133, 0.002328809816390276, 0.044308338314294815, 0.016518719494342804, 0.008021428249776363, 0.008751754648983479, 0.00434128986671567, 0.0052181994542479515, 0.024252653121948242]]], [[[1.0, 0.0, 0.0, 0.0, 0.0, 0.0, 0.0, 0.0, 0.0, 0.0, 0.0, 0.0, 0.0], [0.9678808450698853, 0.03211912885308266, 0.0, 0.0, 0.0, 0.0, 0.0, 0.0, 0.0, 0.0, 0.0, 0.0, 0.0], [0.8243783116340637, 0.1447008103132248, 0.030920885503292084, 0.0, 0.0, 0.0, 0.0, 0.0, 0.0, 0.0, 0.0, 0.0, 0.0], [0.9790465831756592, 0.008483432233333588, 0.0071330745704472065, 0.005336971953511238, 0.0, 0.0, 0.0, 0.0, 0.0, 0.0, 0.0, 0.0, 0.0], [0.9788843393325806, 0.008104829117655754, 0.0037579494528472424, 0.004503919743001461, 0.004749075043946505, 0.0, 0.0, 0.0, 0.0, 0.0, 0.0, 0.0, 0.0], [0.9242315292358398, 0.03108346089720726, 0.0066627562046051025, 0.00621104147285223, 0.01594405807554722, 0.015867190435528755, 0.0, 0.0, 0.0, 0.0, 0.0, 0.0, 0.0], [0.9455938339233398, 0.004650052171200514, 0.001489070593379438, 0.0009217725018970668, 0.0014179768040776253, 0.001877608709037304, 0.04404963180422783, 0.0, 0.0, 0.0, 0.0, 0.0, 0.0], [0.690853476524353, 0.012514184229075909, 0.0033828727900981903, 0.00312252645380795, 0.002223751973360777, 0.006000807508826256, 0.26915085315704346, 0.012751545757055283, 0.0, 0.0, 0.0, 0.0, 0.0], [0.31818002462387085, 0.002887322334572673, 0.0027155550196766853, 0.0032554510980844498, 0.00624238234013319, 0.018090108409523964, 0.5988402366638184, 0.017718741670250893, 0.03207016363739967, 0.0, 0.0, 0.0, 0.0], [0.3306279480457306, 0.006106601096689701, 0.0023731484543532133, 0.0022507989779114723, 0.002736912574619055, 0.017776187509298325, 0.5325073599815369, 0.01345742680132389, 0.06246405839920044, 0.029699571430683136, 0.0, 0.0, 0.0], [0.1411595642566681, 0.010215304791927338, 0.005479214712977409, 0.004155061207711697, 0.003864930709823966, 0.02601112239062786, 0.6454566717147827, 0.023490730673074722, 0.09581512957811356, 0.04102800786495209, 0.003324324730783701, 0.0, 0.0], [0.5317900776863098, 0.014799407683312893, 0.003370541613548994, 0.0015049863141030073, 0.0013189007295295596, 0.002445771126076579, 0.3171386420726776, 0.0287059023976326, 0.03519750386476517, 0.01394791528582573, 0.0027047262992709875, 0.04707568883895874, 0.0], [0.5266793966293335, 0.007826934568583965, 0.003431257326155901, 0.0010726588079705834, 0.0006024086615070701, 0.0025849349331110716, 0.24465523660182953, 0.026461390778422356, 0.03359232097864151, 0.011610726825892925, 0.006836484652012587, 0.04593272879719734, 0.08871352672576904]], [[1.0, 0.0, 0.0, 0.0, 0.0, 0.0, 0.0, 0.0, 0.0, 0.0, 0.0, 0.0, 0.0], [0.9716541767120361, 0.028345907106995583, 0.0, 0.0, 0.0, 0.0, 0.0, 0.0, 0.0, 0.0, 0.0, 0.0, 0.0], [0.9658560156822205, 0.016541212797164917, 0.017602810636162758, 0.0, 0.0, 0.0, 0.0, 0.0, 0.0, 0.0, 0.0, 0.0, 0.0], [0.9961369633674622, 0.0005860609235242009, 0.000940261292271316, 0.0023366494569927454, 0.0, 0.0, 0.0, 0.0, 0.0, 0.0, 0.0, 0.0, 0.0], [0.9717803597450256, 0.0006381474668160081, 0.0017731288680806756, 0.0039506470784544945, 0.021857790648937225, 0.0, 0.0, 0.0, 0.0, 0.0, 0.0, 0.0, 0.0], [0.9726325869560242, 0.006556681822985411, 0.0027192323468625546, 0.0031824761535972357, 0.008725837804377079, 0.006183292251080275, 0.0, 0.0, 0.0, 0.0, 0.0, 0.0, 0.0], [0.9765830039978027, 0.002371822716668248, 0.003698620479553938, 0.004255553707480431, 0.006456358358263969, 0.004693934693932533, 0.0019406682113185525, 0.0, 0.0, 0.0, 0.0, 0.0, 0.0], [0.9039829969406128, 0.004248928744345903, 0.005844612140208483, 0.0069387066178023815, 0.013250194489955902, 0.04793117567896843, 0.005466938484460115, 0.012336383573710918, 0.0, 0.0, 0.0, 0.0, 0.0], [0.9370083808898926, 0.003908414393663406, 0.017141519114375114, 0.004388485569506884, 0.008508319966495037, 0.005837516393512487, 0.0023281045723706484, 0.013785187155008316, 0.007094097789376974, 0.0, 0.0, 0.0, 0.0], [0.9619117379188538, 0.0014638244174420834, 0.0009578933240845799, 0.007268941029906273, 0.005583642981946468, 0.003288903273642063, 0.001079260720871389, 0.009415126405656338, 0.003940538503229618, 0.005090036429464817, 0.0, 0.0, 0.0], [0.9711034297943115, 0.0015513148391619325, 0.0004366392968222499, 0.0017462574178352952, 0.002974197268486023, 0.0011452765902504325, 0.0012384483125060797, 0.001851493725553155, 0.0010534508619457483, 0.002489222213625908, 0.01441026572138071, 0.0, 0.0], [0.9376749396324158, 0.0009981178445741534, 0.0006544571369886398, 0.0015532433753833175, 0.005894277710467577, 0.0044097984209656715, 0.0008542566210962832, 0.0069033075124025345, 0.003802611492574215, 0.0029515493661165237, 0.027429472655057907, 0.006874030455946922, 0.0], [0.9282005429267883, 0.0017610059585422277, 0.0019225535215809941, 0.0013241451233625412, 0.0021482915617525578, 0.008924029767513275, 0.001419358653947711, 0.006682832725346088, 0.010919943451881409, 0.004147028550505638, 0.009963923133909702, 0.004381820559501648, 0.01820461079478264]], [[1.0, 0.0, 0.0, 0.0, 0.0, 0.0, 0.0, 0.0, 0.0, 0.0, 0.0, 0.0, 0.0], [0.9655888080596924, 0.034411173313856125, 0.0, 0.0, 0.0, 0.0, 0.0, 0.0, 0.0, 0.0, 0.0, 0.0, 0.0], [0.928037166595459, 0.04144207760691643, 0.03052070178091526, 0.0, 0.0, 0.0, 0.0, 0.0, 0.0, 0.0, 0.0, 0.0, 0.0], [0.989213764667511, 0.005459954496473074, 0.004350473638623953, 0.0009758395026437938, 0.0, 0.0, 0.0, 0.0, 0.0, 0.0, 0.0, 0.0, 0.0], [0.9474936127662659, 0.020527366548776627, 0.023018408566713333, 0.002475125016644597, 0.006485501769930124, 0.0, 0.0, 0.0, 0.0, 0.0, 0.0, 0.0, 0.0], [0.8994773626327515, 0.017052477225661278, 0.025343157351017, 0.0054512061178684235, 0.01820768229663372, 0.03446811065077782, 0.0, 0.0, 0.0, 0.0, 0.0, 0.0, 0.0], [0.9583746194839478, 0.002018987899646163, 0.0032463872339576483, 0.0027167077641934156, 0.004366548731923103, 0.005556371994316578, 0.02372043952345848, 0.0, 0.0, 0.0, 0.0, 0.0, 0.0], [0.7236324548721313, 0.022751951590180397, 0.013548276387155056, 0.0032622329890727997, 0.002948847832158208, 0.01752098836004734, 0.17675289511680603, 0.039582353085279465, 0.0, 0.0, 0.0, 0.0, 0.0], [0.6057563424110413, 0.0032172563951462507, 0.004005899652838707, 0.0015723311807960272, 0.007984362542629242, 0.02460150234401226, 0.229568213224411, 0.07574951648712158, 0.04754462465643883, 0.0, 0.0, 0.0, 0.0], [0.43467745184898376, 0.0058837211690843105, 0.0025025042705237865, 0.001276291674003005, 0.0039176843129098415, 0.01464088074862957, 0.3777056336402893, 0.07295401394367218, 0.06363151222467422, 0.022810285910964012, 0.0, 0.0, 0.0], [0.16818101704120636, 0.011747696436941624, 0.0037496613804250956, 0.002459118375554681, 0.0058576143346726894, 0.012424019165337086, 0.5634913444519043, 0.06855709105730057, 0.10742703825235367, 0.030996384099125862, 0.025109009817242622, 0.0, 0.0], [0.7843483686447144, 0.007819687016308308, 0.004097979050129652, 0.0011555663077160716, 0.002904418855905533, 0.002810184145346284, 0.1304311454296112, 0.016641890630126, 0.020285213366150856, 0.007016511633992195, 0.0032236562110483646, 0.019265465438365936, 0.0], [0.7494779825210571, 0.010141247883439064, 0.004057352431118488, 0.0011332313297316432, 0.0007561075035482645, 0.005165832582861185, 0.08596358448266983, 0.019543619826436043, 0.026627950370311737, 0.008891609497368336, 0.005316447000950575, 0.04952544718980789, 0.03339957818388939]], [[1.0, 0.0, 0.0, 0.0, 0.0, 0.0, 0.0, 0.0, 0.0, 0.0, 0.0, 0.0, 0.0], [0.8692771792411804, 0.13072289526462555, 0.0, 0.0, 0.0, 0.0, 0.0, 0.0, 0.0, 0.0, 0.0, 0.0, 0.0], [0.5923590660095215, 0.3606174886226654, 0.04702344909310341, 0.0, 0.0, 0.0, 0.0, 0.0, 0.0, 0.0, 0.0, 0.0, 0.0], [0.8031131625175476, 0.05073145031929016, 0.1320318579673767, 0.014123479835689068, 0.0, 0.0, 0.0, 0.0, 0.0, 0.0, 0.0, 0.0, 0.0], [0.4618515074253082, 0.14530329406261444, 0.1582326889038086, 0.12318719178438187, 0.11142531782388687, 0.0, 0.0, 0.0, 0.0, 0.0, 0.0, 0.0, 0.0], [0.5970758199691772, 0.11138468235731125, 0.04104999825358391, 0.026312438771128654, 0.18380360305309296, 0.04037344083189964, 0.0, 0.0, 0.0, 0.0, 0.0, 0.0, 0.0], [0.5376363396644592, 0.027894459664821625, 0.02286791428923607, 0.019835567101836205, 0.1859428584575653, 0.17044180631637573, 0.035381019115448, 0.0, 0.0, 0.0, 0.0, 0.0, 0.0], [0.5976033806800842, 0.04797114059329033, 0.026660267263650894, 0.02630988135933876, 0.010438451543450356, 0.03027380257844925, 0.126164510846138, 0.13457852602005005, 0.0, 0.0, 0.0, 0.0, 0.0], [0.3797267973423004, 0.041863664984703064, 0.016221920028328896, 0.016971560195088387, 0.023779895156621933, 0.015492337755858898, 0.13366718590259552, 0.3098415434360504, 0.06243499368429184, 0.0, 0.0, 0.0, 0.0], [0.39641210436820984, 0.03305307775735855, 0.007091018371284008, 0.020624998956918716, 0.0177509356290102, 0.018241260200738907, 0.0773526132106781, 0.1955798864364624, 0.19673100113868713, 0.03716311231255531, 0.0, 0.0, 0.0], [0.2705802619457245, 0.016192680224776268, 0.022068127989768982, 0.008809320628643036, 0.011353968642652035, 0.016668610274791718, 0.06443402171134949, 0.1199730932712555, 0.18920500576496124, 0.2325500100851059, 0.04816490784287453, 0.0, 0.0], [0.3000519275665283, 0.006870872341096401, 0.007812855765223503, 0.004706691950559616, 0.009226738475263119, 0.01676918938755989, 0.009125041775405407, 0.21342933177947998, 0.10125036537647247, 0.10013190656900406, 0.14450690150260925, 0.08611820638179779, 0.0], [0.7542008757591248, 0.009768348187208176, 0.004582229070365429, 0.003993968479335308, 0.0014505062717944384, 0.004402087070047855, 0.028276780620217323, 0.03618087247014046, 0.030492382124066353, 0.014949402771890163, 0.011740734800696373, 0.05101979896426201, 0.04894203692674637]], [[1.0, 0.0, 0.0, 0.0, 0.0, 0.0, 0.0, 0.0, 0.0, 0.0, 0.0, 0.0, 0.0], [0.943571925163269, 0.05642811954021454, 0.0, 0.0, 0.0, 0.0, 0.0, 0.0, 0.0, 0.0, 0.0, 0.0, 0.0], [0.9662497043609619, 0.024440789595246315, 0.009309460408985615, 0.0, 0.0, 0.0, 0.0, 0.0, 0.0, 0.0, 0.0, 0.0, 0.0], [0.9862810373306274, 0.003961711190640926, 0.0015310581075027585, 0.008226191624999046, 0.0, 0.0, 0.0, 0.0, 0.0, 0.0, 0.0, 0.0, 0.0], [0.9456591010093689, 0.00579672958701849, 0.01757856272161007, 0.011734706349670887, 0.019230909645557404, 0.0, 0.0, 0.0, 0.0, 0.0, 0.0, 0.0, 0.0], [0.9812532067298889, 0.0020938569214195013, 0.002916864585131407, 0.0015015813987702131, 0.005784410517662764, 0.006450130138546228, 0.0, 0.0, 0.0, 0.0, 0.0, 0.0, 0.0], [0.9698984622955322, 0.004327396862208843, 0.003370059421285987, 0.0031142611987888813, 0.007460563909262419, 0.00325318006798625, 0.008576102554798126, 0.0, 0.0, 0.0, 0.0, 0.0, 0.0], [0.7915710806846619, 0.05357756465673447, 0.028652500361204147, 0.011456972919404507, 0.01630733348429203, 0.006536903791129589, 0.03673587739467621, 0.0551617369055748, 0.0, 0.0, 0.0, 0.0, 0.0], [0.9380195736885071, 0.0033984610345214605, 0.00466366158798337, 0.0008143221493810415, 0.0030467500910162926, 0.001954153412953019, 0.016761906445026398, 0.02801668457686901, 0.003324375720694661, 0.0, 0.0, 0.0, 0.0], [0.9777891039848328, 0.0014342287322506309, 0.0004054620221722871, 0.0004511296865530312, 0.0011797660263255239, 0.0007147032301872969, 0.006381779443472624, 0.008651836775243282, 0.0014320985646918416, 0.0015599861508235335, 0.0, 0.0, 0.0], [0.9925264120101929, 0.0007143845432437956, 0.0003828032058663666, 0.0002482772688381374, 0.00044020728091709316, 0.00023357213649433106, 0.0012917390558868647, 0.0025366628542542458, 0.0007447778480127454, 0.000573361583519727, 0.00030761328525841236, 0.0, 0.0], [0.9441580176353455, 0.0018301521195098758, 0.0012041067238897085, 0.0010389169910922647, 0.0008018434164114296, 0.000652098620776087, 0.008281380869448185, 0.008132454939186573, 0.0026593662332743406, 0.0015289626317098737, 0.0016713652294129133, 0.028041299432516098, 0.0], [0.7294439077377319, 0.06549043208360672, 0.01039888709783554, 0.0034554617013782263, 0.0024051384534686804, 0.0013188326265662909, 0.011043312959372997, 0.05375484377145767, 0.0038653118535876274, 0.003145443042740226, 0.0022890493273735046, 0.00950008723884821, 0.1038893312215805]], [[1.0, 0.0, 0.0, 0.0, 0.0, 0.0, 0.0, 0.0, 0.0, 0.0, 0.0, 0.0, 0.0], [0.9335381984710693, 0.06646186858415604, 0.0, 0.0, 0.0, 0.0, 0.0, 0.0, 0.0, 0.0, 0.0, 0.0, 0.0], [0.8758270740509033, 0.09448212385177612, 0.029690749943256378, 0.0, 0.0, 0.0, 0.0, 0.0, 0.0, 0.0, 0.0, 0.0, 0.0], [0.9580013155937195, 0.009408727288246155, 0.011266261339187622, 0.021323805674910545, 0.0, 0.0, 0.0, 0.0, 0.0, 0.0, 0.0, 0.0, 0.0], [0.7643951177597046, 0.03832297399640083, 0.021693702787160873, 0.08145146071910858, 0.09413672983646393, 0.0, 0.0, 0.0, 0.0, 0.0, 0.0, 0.0, 0.0], [0.8785043358802795, 0.0213549192994833, 0.003803536994382739, 0.019002389162778854, 0.039680153131484985, 0.03765471652150154, 0.0, 0.0, 0.0, 0.0, 0.0, 0.0, 0.0], [0.884242057800293, 0.02259921282529831, 0.009016498923301697, 0.008592340163886547, 0.019455373287200928, 0.019867148250341415, 0.03622731566429138, 0.0, 0.0, 0.0, 0.0, 0.0, 0.0], [0.6443629264831543, 0.07084336131811142, 0.01777469553053379, 0.09196106344461441, 0.05144738033413887, 0.0240998025983572, 0.06655842810869217, 0.03295237198472023, 0.0, 0.0, 0.0, 0.0, 0.0], [0.7125168442726135, 0.041800446808338165, 0.013478739187121391, 0.02794869989156723, 0.0418182797729969, 0.01730685494840145, 0.0695955753326416, 0.02141963317990303, 0.054115019738674164, 0.0, 0.0, 0.0, 0.0], [0.7090048789978027, 0.025837484747171402, 0.010166224092245102, 0.020701047033071518, 0.031310904771089554, 0.01552932895720005, 0.09324947744607925, 0.02117137424647808, 0.04340222477912903, 0.02962714619934559, 0.0, 0.0, 0.0], [0.8088871836662292, 0.02861655317246914, 0.008087197318673134, 0.016967076808214188, 0.019407451152801514, 0.012155509553849697, 0.047723229974508286, 0.00606964249163866, 0.0227669570595026, 0.015520934946835041, 0.013798273168504238, 0.0, 0.0], [0.7648573517799377, 0.024382181465625763, 0.008747699670493603, 0.0038283532485365868, 0.00917492713779211, 0.00800526887178421, 0.02659178525209427, 0.03984355926513672, 0.02681039273738861, 0.011776695027947426, 0.007979795336723328, 0.0680021345615387, 0.0], [0.7881043553352356, 0.06975807994604111, 0.010619468986988068, 0.019097935408353806, 0.014190424233675003, 0.007254083175212145, 0.02227470465004444, 0.012282785028219223, 0.014083505608141422, 0.0051556797698140144, 0.003684427822008729, 0.01165017019957304, 0.021844377741217613]], [[1.0, 0.0, 0.0, 0.0, 0.0, 0.0, 0.0, 0.0, 0.0, 0.0, 0.0, 0.0, 0.0], [0.9944930076599121, 0.005507051479071379, 0.0, 0.0, 0.0, 0.0, 0.0, 0.0, 0.0, 0.0, 0.0, 0.0, 0.0], [0.9903406500816345, 0.005501504056155682, 0.0041579026728868484, 0.0, 0.0, 0.0, 0.0, 0.0, 0.0, 0.0, 0.0, 0.0, 0.0], [0.9961152076721191, 0.0019513992592692375, 0.0006478936993516982, 0.0012855023378506303, 0.0, 0.0, 0.0, 0.0, 0.0, 0.0, 0.0, 0.0, 0.0], [0.9965502023696899, 0.0013388413935899734, 0.0009215619647875428, 0.0003470018273219466, 0.0008424489060416818, 0.0, 0.0, 0.0, 0.0, 0.0, 0.0, 0.0, 0.0], [0.9914473295211792, 0.00556058157235384, 0.0005696066655218601, 0.00020316691370680928, 0.0008260236354544759, 0.0013932989677414298, 0.0, 0.0, 0.0, 0.0, 0.0, 0.0, 0.0], [0.985818088054657, 0.0016870151739567518, 0.0006543020717799664, 0.00017818149353843182, 0.000465160992462188, 0.00038302148459479213, 0.01081421971321106, 0.0, 0.0, 0.0, 0.0, 0.0, 0.0], [0.9339678883552551, 0.011630624532699585, 0.0016597831854596734, 0.0018001764547079802, 0.0006632810109294951, 0.0025939480401575565, 0.044056374579668045, 0.0036280578933656216, 0.0, 0.0, 0.0, 0.0, 0.0], [0.9777063727378845, 0.0008211293607018888, 0.000668114167638123, 0.00036089110653847456, 0.0004918844788335264, 0.0005551584763452411, 0.011457267217338085, 0.0039031310006976128, 0.0040362318977713585, 0.0, 0.0, 0.0, 0.0], [0.9709285497665405, 0.0012497358256950974, 0.000350665592122823, 0.002123128157109022, 0.0003195542376488447, 0.0008983140578493476, 0.01249350979924202, 0.0029843864031136036, 0.004395680036395788, 0.0042564161121845245, 0.0, 0.0, 0.0], [0.9758355021476746, 0.0017915935022756457, 0.0003033331304322928, 0.0015062657184898853, 0.0003523091145325452, 0.0006926119676791131, 0.005225509870797396, 0.0027567693032324314, 0.00179069594014436, 0.001836366718634963, 0.00790894590318203, 0.0, 0.0], [0.9588673710823059, 0.0024882927536964417, 0.000253174890531227, 0.00024502002634108067, 0.0005626333877444267, 0.00043688120786100626, 0.01272119116038084, 0.007126413751393557, 0.0020577427931129932, 0.001454561366699636, 0.0006285149720497429, 0.013158204965293407, 0.0], [0.9584578275680542, 0.004629365634173155, 0.000768789614085108, 0.0003874286776408553, 0.00031795792165212333, 0.0008850233862176538, 0.011970757506787777, 0.003032646607607603, 0.004514873959124088, 0.0013131153536960483, 0.001135564874857664, 0.004473825916647911, 0.008112750016152859]], [[1.0, 0.0, 0.0, 0.0, 0.0, 0.0, 0.0, 0.0, 0.0, 0.0, 0.0, 0.0, 0.0], [0.9396216869354248, 0.060378316789865494, 0.0, 0.0, 0.0, 0.0, 0.0, 0.0, 0.0, 0.0, 0.0, 0.0, 0.0], [0.8751205205917358, 0.05884600430727005, 0.06603337824344635, 0.0, 0.0, 0.0, 0.0, 0.0, 0.0, 0.0, 0.0, 0.0, 0.0], [0.9651923179626465, 0.00827456172555685, 0.01490638218820095, 0.011626807041466236, 0.0, 0.0, 0.0, 0.0, 0.0, 0.0, 0.0, 0.0, 0.0], [0.8146461248397827, 0.04661531001329422, 0.09156090021133423, 0.031541258096694946, 0.015636445954442024, 0.0, 0.0, 0.0, 0.0, 0.0, 0.0, 0.0, 0.0], [0.8848392367362976, 0.018122758716344833, 0.013731790706515312, 0.018884774297475815, 0.03293491154909134, 0.031486496329307556, 0.0, 0.0, 0.0, 0.0, 0.0, 0.0, 0.0], [0.8806023001670837, 0.025073006749153137, 0.021879134699702263, 0.020779240876436234, 0.017516212537884712, 0.010635537095367908, 0.023514553904533386, 0.0, 0.0, 0.0, 0.0, 0.0, 0.0], [0.42525455355644226, 0.092560313642025, 0.07751711457967758, 0.03066386841237545, 0.06057127192616463, 0.04883049800992012, 0.2177610844373703, 0.046841301023960114, 0.0, 0.0, 0.0, 0.0, 0.0], [0.6731550097465515, 0.03580065071582794, 0.07761659473180771, 0.011176927015185356, 0.04005398973822594, 0.023091711103916168, 0.06500457227230072, 0.06436781585216522, 0.009732725098729134, 0.0, 0.0, 0.0, 0.0], [0.8274034261703491, 0.022989269345998764, 0.018687952309846878, 0.00721074128523469, 0.014613294042646885, 0.0109687065705657, 0.04812498390674591, 0.03223470225930214, 0.005268859211355448, 0.012498143129050732, 0.0, 0.0, 0.0], [0.8698543310165405, 0.012739735655486584, 0.009783183224499226, 0.0073987022042274475, 0.009658487513661385, 0.008174767717719078, 0.03388526290655136, 0.023124990984797478, 0.00491519458591938, 0.008366663008928299, 0.012098684906959534, 0.0, 0.0], [0.7384818196296692, 0.012770229950547218, 0.013204493559896946, 0.006665464024990797, 0.023972375318408012, 0.013912959024310112, 0.034932367503643036, 0.03019503690302372, 0.008378899656236172, 0.026711860671639442, 0.02596735954284668, 0.06480715423822403, 0.0], [0.4131753444671631, 0.09250495582818985, 0.07147110253572464, 0.014536719769239426, 0.027505410835146904, 0.01908976584672928, 0.09890642762184143, 0.05969977378845215, 0.02285212092101574, 0.03835015371441841, 0.0306760985404253, 0.021814268082380295, 0.0894179493188858]], [[1.0, 0.0, 0.0, 0.0, 0.0, 0.0, 0.0, 0.0, 0.0, 0.0, 0.0, 0.0, 0.0], [0.9784320592880249, 0.021567875519394875, 0.0, 0.0, 0.0, 0.0, 0.0, 0.0, 0.0, 0.0, 0.0, 0.0, 0.0], [0.9577757716178894, 0.03074631839990616, 0.011477939784526825, 0.0, 0.0, 0.0, 0.0, 0.0, 0.0, 0.0, 0.0, 0.0, 0.0], [0.9887357354164124, 0.00544463936239481, 0.003911888692528009, 0.001907735364511609, 0.0, 0.0, 0.0, 0.0, 0.0, 0.0, 0.0, 0.0, 0.0], [0.9648343920707703, 0.015814930200576782, 0.012983364053070545, 0.004142624791711569, 0.0022246737498790026, 0.0, 0.0, 0.0, 0.0, 0.0, 0.0, 0.0, 0.0], [0.9385393857955933, 0.027969710528850555, 0.014895733445882797, 0.004251380916684866, 0.00812059547752142, 0.006223216652870178, 0.0, 0.0, 0.0, 0.0, 0.0, 0.0, 0.0], [0.9750437140464783, 0.004821842536330223, 0.003456458915024996, 0.0016808510990813375, 0.002553810365498066, 0.0012238041963428259, 0.011219602078199387, 0.0, 0.0, 0.0, 0.0, 0.0, 0.0], [0.9128875732421875, 0.025193892419338226, 0.009575828909873962, 0.0062164319679141045, 0.0010266787139698863, 0.0035739524755626917, 0.02889217995107174, 0.012633483856916428, 0.0, 0.0, 0.0, 0.0, 0.0], [0.9229670166969299, 0.012603875249624252, 0.007950617000460625, 0.00827059056609869, 0.0025859647430479527, 0.0015903895255178213, 0.016369469463825226, 0.01990429311990738, 0.007757809478789568, 0.0, 0.0, 0.0, 0.0], [0.9017344117164612, 0.018154986202716827, 0.00364514347165823, 0.014493103139102459, 0.0019505780655890703, 0.0025865097995847464, 0.029946839436888695, 0.014583437703549862, 0.008775496855378151, 0.00412948802113533, 0.0, 0.0, 0.0], [0.8890165090560913, 0.020795326679944992, 0.007625565864145756, 0.012317747808992863, 0.0022727695759385824, 0.0026155312079936266, 0.038962069898843765, 0.012413202784955502, 0.0075345151126384735, 0.005023661535233259, 0.00142320164013654, 0.0, 0.0], [0.9532148241996765, 0.007513272110372782, 0.002605970250442624, 0.0025154093746095896, 0.002909176517277956, 0.0014170346548780799, 0.012477894313633442, 0.0031381703447550535, 0.0018756778445094824, 0.0031184933613985777, 0.001830667955800891, 0.007383222691714764, 0.0], [0.8729282021522522, 0.029884105548262596, 0.014561746269464493, 0.0051370467990636826, 0.0015339700039476156, 0.004524318501353264, 0.014122319407761097, 0.005896076560020447, 0.008052258752286434, 0.005641486961394548, 0.0023850558791309595, 0.010971852578222752, 0.024361591786146164]], [[1.0, 0.0, 0.0, 0.0, 0.0, 0.0, 0.0, 0.0, 0.0, 0.0, 0.0, 0.0, 0.0], [0.9952208399772644, 0.004779201466590166, 0.0, 0.0, 0.0, 0.0, 0.0, 0.0, 0.0, 0.0, 0.0, 0.0, 0.0], [0.9928954243659973, 0.005857122130692005, 0.0012473785318434238, 0.0, 0.0, 0.0, 0.0, 0.0, 0.0, 0.0, 0.0, 0.0, 0.0], [0.9959360361099243, 0.0030296712648123503, 0.00015504704788327217, 0.0008792696171440184, 0.0, 0.0, 0.0, 0.0, 0.0, 0.0, 0.0, 0.0, 0.0], [0.9958674907684326, 0.0012110322713851929, 0.000535417755600065, 0.000463157775811851, 0.0019229542231187224, 0.0, 0.0, 0.0, 0.0, 0.0, 0.0, 0.0, 0.0], [0.9892390966415405, 0.006281704641878605, 0.00027198484167456627, 0.000324834167258814, 0.001388910342939198, 0.0024935321416705847, 0.0, 0.0, 0.0, 0.0, 0.0, 0.0, 0.0], [0.9869582056999207, 0.0008754811715334654, 0.00013436141307465732, 0.00027396317454986274, 0.0011589047499001026, 0.0003860104479826987, 0.010213005356490612, 0.0, 0.0, 0.0, 0.0, 0.0, 0.0], [0.9381218552589417, 0.005711748730391264, 0.0007580604287795722, 0.0019985674880445004, 0.0022134871687740088, 0.0063931625336408615, 0.03815238177776337, 0.006650668568909168, 0.0, 0.0, 0.0, 0.0, 0.0], [0.9850415587425232, 0.0006924570188857615, 0.0002464905264787376, 0.00043211629963479936, 0.0005677465233020484, 0.0012767646694555879, 0.0068802665919065475, 0.003136418526992202, 0.0017262438777834177, 0.0, 0.0, 0.0, 0.0], [0.9850147366523743, 0.000840990396682173, 7.962829840835184e-05, 0.0033403895795345306, 0.0006303014233708382, 0.0010934690944850445, 0.0032131564803421497, 0.002387293614447117, 0.0015925614861771464, 0.001807460910640657, 0.0, 0.0, 0.0], [0.9776039123535156, 0.0010741583537310362, 6.391892384272069e-05, 0.002605936722829938, 0.00048452787450514734, 0.0010041957721114159, 0.0037657488137483597, 0.004081982187926769, 0.0007740842993371189, 0.0009805132867768407, 0.00756106898188591, 0.0, 0.0], [0.9554048180580139, 0.000901332008652389, 0.0002271308476338163, 0.0006620829808525741, 0.0014810593565925956, 0.00045784044777974486, 0.013132908381521702, 0.0032563272397965193, 0.0012508207000792027, 0.001759449951350689, 0.0009705362026579678, 0.020495718345046043, 0.0], [0.9557274580001831, 0.0029131295159459114, 0.0004761496093124151, 0.0010735233081504703, 0.0013346128398552537, 0.0019045639783143997, 0.00996163859963417, 0.004393388982862234, 0.00254080886952579, 0.0008715559379197657, 0.0009144652867689729, 0.007416252046823502, 0.010472435504198074]], [[1.0, 0.0, 0.0, 0.0, 0.0, 0.0, 0.0, 0.0, 0.0, 0.0, 0.0, 0.0, 0.0], [0.8949419856071472, 0.10505805909633636, 0.0, 0.0, 0.0, 0.0, 0.0, 0.0, 0.0, 0.0, 0.0, 0.0, 0.0], [0.7349151372909546, 0.2111571878194809, 0.0539277084171772, 0.0, 0.0, 0.0, 0.0, 0.0, 0.0, 0.0, 0.0, 0.0, 0.0], [0.7556208372116089, 0.05943595990538597, 0.16506175696849823, 0.019881408661603928, 0.0, 0.0, 0.0, 0.0, 0.0, 0.0, 0.0, 0.0, 0.0], [0.752901017665863, 0.016136253252625465, 0.0497843436896801, 0.08803437650203705, 0.09314398467540741, 0.0, 0.0, 0.0, 0.0, 0.0, 0.0, 0.0, 0.0], [0.38525351881980896, 0.018648292869329453, 0.020523324608802795, 0.07085636258125305, 0.4613659381866455, 0.04335252195596695, 0.0, 0.0, 0.0, 0.0, 0.0, 0.0, 0.0], [0.3536537289619446, 0.03711892291903496, 0.041110292077064514, 0.054719410836696625, 0.3609759509563446, 0.11631709337234497, 0.036104608327150345, 0.0, 0.0, 0.0, 0.0, 0.0, 0.0], [0.7431507110595703, 0.013375284150242805, 0.009259284473955631, 0.033760298043489456, 0.06733563542366028, 0.026229050010442734, 0.04913235828280449, 0.05775729939341545, 0.0, 0.0, 0.0, 0.0, 0.0], [0.727374255657196, 0.008589423261582851, 0.010069207288324833, 0.007229688577353954, 0.0496751144528389, 0.015746615827083588, 0.04264611750841141, 0.10854487121105194, 0.030124766752123833, 0.0, 0.0, 0.0, 0.0], [0.5944182276725769, 0.011392439715564251, 0.0025162003003060818, 0.005638211965560913, 0.031350042670965195, 0.022503389045596123, 0.04170040786266327, 0.052295297384262085, 0.2123938500881195, 0.025791922584176064, 0.0, 0.0, 0.0], [0.5153220891952515, 0.007188889198005199, 0.016935497522354126, 0.00524373771622777, 0.01993102952837944, 0.02522205375134945, 0.05812456086277962, 0.04620945453643799, 0.0731438547372818, 0.20702238380908966, 0.025656431913375854, 0.0, 0.0], [0.6122730374336243, 0.0033138154540210962, 0.004299372434616089, 0.0037788699846714735, 0.008379696868360043, 0.0029977166559547186, 0.004128928761929274, 0.025995830073952675, 0.03146251663565636, 0.05489081144332886, 0.10649069398641586, 0.1419888585805893, 0.0], [0.8461188077926636, 0.0036651447881013155, 0.002396386582404375, 0.005153694190084934, 0.007424742449074984, 0.0031769133638590574, 0.008608249016106129, 0.013191966339945793, 0.006681354250758886, 0.00804668664932251, 0.009059133939445019, 0.054474808275699615, 0.03200215473771095]], [[1.0, 0.0, 0.0, 0.0, 0.0, 0.0, 0.0, 0.0, 0.0, 0.0, 0.0, 0.0, 0.0], [0.9919511079788208, 0.008048877120018005, 0.0, 0.0, 0.0, 0.0, 0.0, 0.0, 0.0, 0.0, 0.0, 0.0, 0.0], [0.9906541705131531, 0.006454897113144398, 0.002890917705371976, 0.0, 0.0, 0.0, 0.0, 0.0, 0.0, 0.0, 0.0, 0.0, 0.0], [0.9927398562431335, 0.0032399208284914494, 0.0024917805567383766, 0.0015285485424101353, 0.0, 0.0, 0.0, 0.0, 0.0, 0.0, 0.0, 0.0, 0.0], [0.988974928855896, 0.004775328561663628, 0.0015263158129528165, 0.0030481561552733183, 0.0016752976225689054, 0.0, 0.0, 0.0, 0.0, 0.0, 0.0, 0.0, 0.0], [0.9876986742019653, 0.005930262617766857, 0.002426797291263938, 0.0008437464712187648, 0.0008668772061355412, 0.002233672421425581, 0.0, 0.0, 0.0, 0.0, 0.0, 0.0, 0.0], [0.981509804725647, 0.0036679906770586967, 0.004389788024127483, 0.002057247329503298, 0.001967775635421276, 0.004130105953663588, 0.0022772890515625477, 0.0, 0.0, 0.0, 0.0, 0.0, 0.0], [0.9828289151191711, 0.004093884490430355, 0.0014499519020318985, 0.000464097858639434, 0.0005069018807262182, 0.0033672291319817305, 0.002252395497635007, 0.005036634858697653, 0.0, 0.0, 0.0, 0.0, 0.0], [0.9507665038108826, 0.011940640397369862, 0.012279672548174858, 0.0025179532822221518, 0.0004548444994725287, 0.001837942167185247, 0.0033177114091813564, 0.007356457412242889, 0.009528287686407566, 0.0, 0.0, 0.0, 0.0], [0.9511391520500183, 0.005779799073934555, 0.002759232884272933, 0.007522863335907459, 0.001075640320777893, 0.0027420902624726295, 0.002261362737044692, 0.009634174406528473, 0.005511357914656401, 0.01157422922551632, 0.0, 0.0, 0.0], [0.9700947403907776, 0.005956962238997221, 0.002037632744759321, 0.0026523820124566555, 0.0006331584299914539, 0.0010269401827827096, 0.0018070768564939499, 0.004553928505629301, 0.002553837839514017, 0.0037490043323487043, 0.004934255965054035, 0.0, 0.0], [0.9200228452682495, 0.001959527377039194, 0.0018759425729513168, 0.0002939824771601707, 0.0007682581781409681, 0.0017296008300036192, 0.0018255790928378701, 0.04810004681348801, 0.006326695438474417, 0.006764686666429043, 0.005876221694052219, 0.004456578753888607, 0.0], [0.9597087502479553, 0.0020311472471803427, 0.0012699611252173781, 0.000138749775942415, 0.0003734286001417786, 0.0008505021105520427, 0.0012752678012475371, 0.0041030715219676495, 0.012918474152684212, 0.003988208249211311, 0.002609329530969262, 0.0015940642915666103, 0.009138942696154118]]], [[[1.0, 0.0, 0.0, 0.0, 0.0, 0.0, 0.0, 0.0, 0.0, 0.0, 0.0, 0.0, 0.0], [0.9891959428787231, 0.010804099030792713, 0.0, 0.0, 0.0, 0.0, 0.0, 0.0, 0.0, 0.0, 0.0, 0.0, 0.0], [0.9386967420578003, 0.036801792681217194, 0.02450145222246647, 0.0, 0.0, 0.0, 0.0, 0.0, 0.0, 0.0, 0.0, 0.0, 0.0], [0.989812433719635, 0.007472938857972622, 0.0013991970336064696, 0.001315395813435316, 0.0, 0.0, 0.0, 0.0, 0.0, 0.0, 0.0, 0.0, 0.0], [0.959105372428894, 0.012048308737576008, 0.020762592554092407, 0.003362066112458706, 0.0047215186059474945, 0.0, 0.0, 0.0, 0.0, 0.0, 0.0, 0.0, 0.0], [0.9413344860076904, 0.03390701487660408, 0.012415510602295399, 0.001410451834090054, 0.005331290885806084, 0.005601200275123119, 0.0, 0.0, 0.0, 0.0, 0.0, 0.0, 0.0], [0.967492938041687, 0.002668896457180381, 0.0011817838530987501, 0.0007562236860394478, 0.001213684445247054, 0.0010272193467244506, 0.02565920352935791, 0.0, 0.0, 0.0, 0.0, 0.0, 0.0], [0.889022171497345, 0.017313653603196144, 0.007189938798546791, 0.0025532098952680826, 0.0015028275083750486, 0.004451788496226072, 0.05759613960981369, 0.02037038467824459, 0.0, 0.0, 0.0, 0.0, 0.0], [0.9844912886619568, 0.002159389201551676, 0.0007069103303365409, 0.0006212395383045077, 0.0005476794322021306, 0.0002354059979552403, 0.007386230397969484, 0.0025670749600976706, 0.001284722937270999, 0.0, 0.0, 0.0, 0.0], [0.9294266700744629, 0.014086439274251461, 0.0023107342422008514, 0.0036807942669838667, 0.0006744353449903429, 0.0011012726463377476, 0.022967437282204628, 0.01041453517973423, 0.007457313127815723, 0.00788040366023779, 0.0, 0.0, 0.0], [0.8961531519889832, 0.021533088758587837, 0.004061578307300806, 0.0042821806855499744, 0.0015229365089908242, 0.0022017776500433683, 0.022873330861330032, 0.021003538742661476, 0.007023227866739035, 0.007699351757764816, 0.011645854450762272, 0.0, 0.0], [0.9127763509750366, 0.0068842628970742226, 0.001483434927649796, 0.0004977929638698697, 0.000672139402013272, 0.0004478331538848579, 0.036683354526758194, 0.0075135366059839725, 0.003381237853318453, 0.005216310732066631, 0.001828394248150289, 0.022615449503064156, 0.0], [0.8764911890029907, 0.014796213246881962, 0.005104673560708761, 0.0013762116432189941, 0.0013563440879806876, 0.0043154810555279255, 0.03180107846856117, 0.016116101294755936, 0.007989916950464249, 0.006376259028911591, 0.0041177705861628056, 0.012007322162389755, 0.018151413649320602]], [[1.0, 0.0, 0.0, 0.0, 0.0, 0.0, 0.0, 0.0, 0.0, 0.0, 0.0, 0.0, 0.0], [0.9859593510627747, 0.014040670357644558, 0.0, 0.0, 0.0, 0.0, 0.0, 0.0, 0.0, 0.0, 0.0, 0.0, 0.0], [0.9825580716133118, 0.013214961625635624, 0.004227037541568279, 0.0, 0.0, 0.0, 0.0, 0.0, 0.0, 0.0, 0.0, 0.0, 0.0], [0.9859345555305481, 0.004339131526648998, 0.0009861700236797333, 0.00874011218547821, 0.0, 0.0, 0.0, 0.0, 0.0, 0.0, 0.0, 0.0, 0.0], [0.9866096377372742, 0.0034134576562792063, 0.0007504026289097965, 0.0037742441054433584, 0.005452344194054604, 0.0, 0.0, 0.0, 0.0, 0.0, 0.0, 0.0, 0.0], [0.9734742641448975, 0.012811657972633839, 0.001111100078560412, 0.002548913238570094, 0.00595923000946641, 0.004094742238521576, 0.0, 0.0, 0.0, 0.0, 0.0, 0.0, 0.0], [0.9752830862998962, 0.00453908508643508, 0.0008193012326955795, 0.0023454208858311176, 0.0034132637083530426, 0.0013716801768168807, 0.012228164821863174, 0.0, 0.0, 0.0, 0.0, 0.0, 0.0], [0.9154258966445923, 0.015950283035635948, 0.002691077534109354, 0.019497638568282127, 0.005201288033276796, 0.005811967886984348, 0.021129677072167397, 0.014292116276919842, 0.0, 0.0, 0.0, 0.0, 0.0], [0.9543867111206055, 0.0032064004335552454, 0.005039480980485678, 0.001782074454240501, 0.003126331837847829, 0.0015229870332404971, 0.009130039252340794, 0.009713024832308292, 0.01209294330328703, 0.0, 0.0, 0.0, 0.0], [0.9416447281837463, 0.0023918221704661846, 0.0007997432840056717, 0.02259950526058674, 0.004502126947045326, 0.0012133424170315266, 0.005717966239899397, 0.0035598420072346926, 0.0022728247568011284, 0.01529816072434187, 0.0, 0.0, 0.0], [0.9419328570365906, 0.0024885646998882294, 0.0005227794754318893, 0.013112252578139305, 0.0025315198581665754, 0.001164279761724174, 0.006482906639575958, 0.003170120995491743, 0.0018730792216956615, 0.007839452475309372, 0.01888224110007286, 0.0, 0.0], [0.9549806118011475, 0.00243952963501215, 0.0006558257737196982, 0.00281364843249321, 0.002640869002789259, 0.00029087605071254075, 0.010606802068650723, 0.0031192328315228224, 0.0015304560074582696, 0.002367819659411907, 0.0009866916807368398, 0.017567552626132965, 0.0], [0.908462643623352, 0.013295609503984451, 0.0018264768877997994, 0.008504638448357582, 0.0023949870374053717, 0.0019014690769836307, 0.011773725971579552, 0.008008251897990704, 0.003347584744915366, 0.003398928325623274, 0.0044542402029037476, 0.011788184754550457, 0.020843202248215675]], [[1.0, 0.0, 0.0, 0.0, 0.0, 0.0, 0.0, 0.0, 0.0, 0.0, 0.0, 0.0, 0.0], [0.9624925851821899, 0.03750745952129364, 0.0, 0.0, 0.0, 0.0, 0.0, 0.0, 0.0, 0.0, 0.0, 0.0, 0.0], [0.9670512676239014, 0.021220779046416283, 0.011727959848940372, 0.0, 0.0, 0.0, 0.0, 0.0, 0.0, 0.0, 0.0, 0.0, 0.0], [0.9871384501457214, 0.008055704645812511, 0.0024314955808222294, 0.0023743307683616877, 0.0, 0.0, 0.0, 0.0, 0.0, 0.0, 0.0, 0.0, 0.0], [0.9822685718536377, 0.008451717905700207, 0.004980095196515322, 0.0014711288968101144, 0.002828530967235565, 0.0, 0.0, 0.0, 0.0, 0.0, 0.0, 0.0, 0.0], [0.9296897053718567, 0.039303772151470184, 0.006177952047437429, 0.0019963327795267105, 0.014650342054665089, 0.008181908167898655, 0.0, 0.0, 0.0, 0.0, 0.0, 0.0, 0.0], [0.9356112480163574, 0.013294767588376999, 0.004657940939068794, 0.004373462870717049, 0.0073424880392849445, 0.0029953394550830126, 0.03172476589679718, 0.0, 0.0, 0.0, 0.0, 0.0, 0.0], [0.8578535914421082, 0.03726163133978844, 0.006673029623925686, 0.0034799061249941587, 0.00477414857596159, 0.006820382084697485, 0.04290248826146126, 0.04023488238453865, 0.0, 0.0, 0.0, 0.0, 0.0], [0.9513378739356995, 0.0026819617487490177, 0.004031945951282978, 0.0029084477573633194, 0.005966559983789921, 0.0030331022571772337, 0.008668689988553524, 0.014941280707716942, 0.0064302049577236176, 0.0, 0.0, 0.0, 0.0], [0.9307832717895508, 0.00356038985773921, 0.0020706551149487495, 0.00974628608673811, 0.0038077314384281635, 0.003807135857641697, 0.010045242495834827, 0.024938572198152542, 0.006968359462916851, 0.0042722090147435665, 0.0, 0.0, 0.0], [0.9204162955284119, 0.0049384827725589275, 0.0021470917854458094, 0.007790833245962858, 0.0049844905734062195, 0.0035383556969463825, 0.012289755046367645, 0.027116963639855385, 0.007046181708574295, 0.0036093720700591803, 0.006122184917330742, 0.0, 0.0], [0.8146646022796631, 0.008791252039372921, 0.00326332775875926, 0.0010002972558140755, 0.005739125888794661, 0.0008376507903449237, 0.03341300040483475, 0.08226516097784042, 0.010981898754835129, 0.005183983128517866, 0.003415855346247554, 0.030443772673606873, 0.0], [0.7843185067176819, 0.038298074156045914, 0.005167470779269934, 0.0020824905950576067, 0.0038715433329343796, 0.003432877128943801, 0.025213759392499924, 0.037565432488918304, 0.01135028526186943, 0.004020757041871548, 0.0027415468357503414, 0.003876421833410859, 0.07806076109409332]], [[1.0, 0.0, 0.0, 0.0, 0.0, 0.0, 0.0, 0.0, 0.0, 0.0, 0.0, 0.0, 0.0], [0.9638161063194275, 0.036183953285217285, 0.0, 0.0, 0.0, 0.0, 0.0, 0.0, 0.0, 0.0, 0.0, 0.0, 0.0], [0.9325851202011108, 0.03608434274792671, 0.031330496072769165, 0.0, 0.0, 0.0, 0.0, 0.0, 0.0, 0.0, 0.0, 0.0, 0.0], [0.9469873309135437, 0.015886928886175156, 0.02114793285727501, 0.015977736562490463, 0.0, 0.0, 0.0, 0.0, 0.0, 0.0, 0.0, 0.0, 0.0], [0.9393988251686096, 0.010653125122189522, 0.010136228054761887, 0.0034166942350566387, 0.03639514744281769, 0.0, 0.0, 0.0, 0.0, 0.0, 0.0, 0.0, 0.0], [0.8934755921363831, 0.02941363863646984, 0.013323408551514149, 0.00157790700905025, 0.042442627251148224, 0.01976677216589451, 0.0, 0.0, 0.0, 0.0, 0.0, 0.0, 0.0], [0.9397720098495483, 0.008451992645859718, 0.005986185744404793, 0.0020219848956912756, 0.012714313343167305, 0.01282384991645813, 0.0182296521961689, 0.0, 0.0, 0.0, 0.0, 0.0, 0.0], [0.7017660140991211, 0.01661054603755474, 0.003735883394256234, 0.00342604611068964, 0.019842321053147316, 0.08100625872612, 0.031643547117710114, 0.14196938276290894, 0.0, 0.0, 0.0, 0.0, 0.0], [0.9402161240577698, 0.003463714150711894, 0.0024245043750852346, 0.0008725041407160461, 0.007914558984339237, 0.004223445896059275, 0.007698955480009317, 0.027382129803299904, 0.005803965963423252, 0.0, 0.0, 0.0, 0.0], [0.8684143424034119, 0.008733809925615788, 0.0040793525986373425, 0.0030081539880484343, 0.009779328480362892, 0.008185616694390774, 0.007429060526192188, 0.05496760457754135, 0.010554470121860504, 0.024848243221640587, 0.0, 0.0, 0.0], [0.8651162385940552, 0.011208939366042614, 0.003762822598218918, 0.0017271749675273895, 0.008750860579311848, 0.004499273374676704, 0.006813503336161375, 0.04207611456513405, 0.006838563363999128, 0.016480669379234314, 0.03272585570812225, 0.0, 0.0], [0.5958264470100403, 0.00894213654100895, 0.0069124652072787285, 0.0019426937215030193, 0.010047128424048424, 0.024663636460900307, 0.04604830965399742, 0.19512300193309784, 0.05257580429315567, 0.024423768743872643, 0.007635969668626785, 0.025858735665678978, 0.0], [0.67729252576828, 0.018345531076192856, 0.003006579354405403, 0.0015750413294881582, 0.006959320046007633, 0.015589749440550804, 0.013161233626306057, 0.07890796661376953, 0.019223380833864212, 0.008727515116333961, 0.006783635821193457, 0.005399349611252546, 0.1450282484292984]], [[1.0, 0.0, 0.0, 0.0, 0.0, 0.0, 0.0, 0.0, 0.0, 0.0, 0.0, 0.0, 0.0], [0.9296883940696716, 0.07031164318323135, 0.0, 0.0, 0.0, 0.0, 0.0, 0.0, 0.0, 0.0, 0.0, 0.0, 0.0], [0.6974496245384216, 0.1882467269897461, 0.11430370062589645, 0.0, 0.0, 0.0, 0.0, 0.0, 0.0, 0.0, 0.0, 0.0, 0.0], [0.9111012816429138, 0.033322326838970184, 0.042862679809331894, 0.012713740579783916, 0.0, 0.0, 0.0, 0.0, 0.0, 0.0, 0.0, 0.0, 0.0], [0.8641886115074158, 0.03194284066557884, 0.016281133517622948, 0.029740840196609497, 0.05784662440419197, 0.0, 0.0, 0.0, 0.0, 0.0, 0.0, 0.0, 0.0], [0.8278048038482666, 0.039555009454488754, 0.04074377939105034, 0.007895330898463726, 0.056212492287158966, 0.02778862975537777, 0.0, 0.0, 0.0, 0.0, 0.0, 0.0, 0.0], [0.908757746219635, 0.02134568803012371, 0.020770389586687088, 0.006615408230572939, 0.025038674473762512, 0.008385524153709412, 0.009086615405976772, 0.0, 0.0, 0.0, 0.0, 0.0, 0.0], [0.718955397605896, 0.03677652031183243, 0.009571724571287632, 0.022554613649845123, 0.017875293269753456, 0.01610574871301651, 0.02655654214322567, 0.1516040861606598, 0.0, 0.0, 0.0, 0.0, 0.0], [0.63193279504776, 0.02493884786963463, 0.02155061811208725, 0.012991873547434807, 0.07257546484470367, 0.013853234238922596, 0.0582619309425354, 0.03312686085700989, 0.13076835870742798, 0.0, 0.0, 0.0, 0.0], [0.38077452778816223, 0.02506314404308796, 0.024834318086504936, 0.04197503253817558, 0.0655127540230751, 0.023642145097255707, 0.034045930951833725, 0.04958605766296387, 0.26406994462013245, 0.09049614518880844, 0.0, 0.0, 0.0], [0.38451462984085083, 0.019648142158985138, 0.03391312435269356, 0.02597479522228241, 0.03693172335624695, 0.01724276691675186, 0.10287806391716003, 0.02406364679336548, 0.19649147987365723, 0.1268831044435501, 0.031458623707294464, 0.0, 0.0], [0.7492915987968445, 0.0027320755179971457, 0.005503032822161913, 0.0012293566251173615, 0.0034152900334447622, 0.0020397440530359745, 0.015907693654298782, 0.1794625222682953, 0.016433481127023697, 0.013804192654788494, 0.0018009839113801718, 0.008380115032196045, 0.0], [0.7093930840492249, 0.005797085352241993, 0.003165972186252475, 0.0037040608003735542, 0.002802504226565361, 0.003037988441064954, 0.008104274049401283, 0.12522077560424805, 0.014615299180150032, 0.018681026995182037, 0.00404472416266799, 0.0037821142468601465, 0.09765111654996872]], [[1.0, 0.0, 0.0, 0.0, 0.0, 0.0, 0.0, 0.0, 0.0, 0.0, 0.0, 0.0, 0.0], [0.7960578799247742, 0.2039421647787094, 0.0, 0.0, 0.0, 0.0, 0.0, 0.0, 0.0, 0.0, 0.0, 0.0, 0.0], [0.9044205546379089, 0.06941234320402145, 0.026167066767811775, 0.0, 0.0, 0.0, 0.0, 0.0, 0.0, 0.0, 0.0, 0.0, 0.0], [0.8566469550132751, 0.03732488304376602, 0.07319055497646332, 0.032837677747011185, 0.0, 0.0, 0.0, 0.0, 0.0, 0.0, 0.0, 0.0, 0.0], [0.9032599925994873, 0.03139100596308708, 0.01965997740626335, 0.012671894393861294, 0.033017098903656006, 0.0, 0.0, 0.0, 0.0, 0.0, 0.0, 0.0, 0.0], [0.30685916543006897, 0.0626220554113388, 0.09424854069948196, 0.1378524899482727, 0.3138659596443176, 0.08455175906419754, 0.0, 0.0, 0.0, 0.0, 0.0, 0.0, 0.0], [0.406393826007843, 0.036121439188718796, 0.05977921932935715, 0.08163266628980637, 0.2695471942424774, 0.11571196466684341, 0.03081374801695347, 0.0, 0.0, 0.0, 0.0, 0.0, 0.0], [0.6246931552886963, 0.045167066156864166, 0.02418658323585987, 0.0231754332780838, 0.024283912032842636, 0.031916093081235886, 0.09763684868812561, 0.12894099950790405, 0.0, 0.0, 0.0, 0.0, 0.0], [0.5829461812973022, 0.028476687148213387, 0.030588939785957336, 0.006461841054260731, 0.05947306752204895, 0.027811335399746895, 0.05600522458553314, 0.15543530881404877, 0.05280143395066261, 0.0, 0.0, 0.0, 0.0], [0.6959638595581055, 0.019209351390600204, 0.002530391328036785, 0.006958284415304661, 0.04024788737297058, 0.01727977581322193, 0.03497248888015747, 0.07166574150323868, 0.08439412713050842, 0.02677805721759796, 0.0, 0.0, 0.0], [0.8908761143684387, 0.00503911729902029, 0.003446368034929037, 0.002749137580394745, 0.012282253243029118, 0.003182077081874013, 0.010928578674793243, 0.01731482706964016, 0.011782082729041576, 0.0289924219250679, 0.013407103717327118, 0.0, 0.0], [0.418014258146286, 0.010500726290047169, 0.009531360119581223, 0.006810739170759916, 0.015324065461754799, 0.009498093277215958, 0.008987972512841225, 0.026469966396689415, 0.06811457127332687, 0.07450982928276062, 0.20282982289791107, 0.14940853416919708, 0.0], [0.5054888725280762, 0.020727017894387245, 0.007442111615091562, 0.009011359885334969, 0.008045767433941364, 0.01175522617995739, 0.04581008851528168, 0.07275216281414032, 0.042629674077034, 0.0252267736941576, 0.015618039295077324, 0.07000551372766495, 0.16548749804496765]], [[1.0, 0.0, 0.0, 0.0, 0.0, 0.0, 0.0, 0.0, 0.0, 0.0, 0.0, 0.0, 0.0], [0.9759531021118164, 0.024046877399086952, 0.0, 0.0, 0.0, 0.0, 0.0, 0.0, 0.0, 0.0, 0.0, 0.0, 0.0], [0.934373676776886, 0.04988867789506912, 0.015737613663077354, 0.0, 0.0, 0.0, 0.0, 0.0, 0.0, 0.0, 0.0, 0.0, 0.0], [0.9878032803535461, 0.005160156637430191, 0.001607998856343329, 0.005428623873740435, 0.0, 0.0, 0.0, 0.0, 0.0, 0.0, 0.0, 0.0, 0.0], [0.9767059683799744, 0.007901459001004696, 0.006437427829951048, 0.004841578658670187, 0.004113605245947838, 0.0, 0.0, 0.0, 0.0, 0.0, 0.0, 0.0, 0.0], [0.9337125420570374, 0.029244303703308105, 0.01026649959385395, 0.002686572028324008, 0.011279200203716755, 0.01281078439205885, 0.0, 0.0, 0.0, 0.0, 0.0, 0.0, 0.0], [0.9256980419158936, 0.0063924589194357395, 0.002762545831501484, 0.002531433245167136, 0.003746994771063328, 0.0017434926703572273, 0.057125043123960495, 0.0, 0.0, 0.0, 0.0, 0.0, 0.0], [0.7366971969604492, 0.020776575431227684, 0.004653736483305693, 0.006051774136722088, 0.0021016199607402086, 0.004646312911063433, 0.21381402015686035, 0.011258793994784355, 0.0, 0.0, 0.0, 0.0, 0.0], [0.952491819858551, 0.0019011757103726268, 0.0009262816747650504, 0.0011732731945812702, 0.0013631671899929643, 0.0005438346415758133, 0.035764362663030624, 0.002053108299151063, 0.0037830043584108353, 0.0, 0.0, 0.0, 0.0], [0.898306667804718, 0.00551694305613637, 0.001374844228848815, 0.006391686853021383, 0.001354262582026422, 0.001571797183714807, 0.06620202213525772, 0.00479063019156456, 0.006576233077794313, 0.007914980873465538, 0.0, 0.0, 0.0], [0.881905198097229, 0.008466462604701519, 0.003268452826887369, 0.014790590852499008, 0.002709676045924425, 0.003984639421105385, 0.04337192699313164, 0.005990698002278805, 0.007400248199701309, 0.008046676404774189, 0.02006538398563862, 0.0, 0.0], [0.7679864168167114, 0.010665343143045902, 0.001704655820503831, 0.0010853136191144586, 0.001027104095555842, 0.0006609552074223757, 0.17870265245437622, 0.003945035394281149, 0.0051591843366622925, 0.006953837815672159, 0.0034700355026870966, 0.018639521673321724, 0.0], [0.7217117547988892, 0.02030598558485508, 0.004700631834566593, 0.0039027216844260693, 0.002346637425944209, 0.0039050858467817307, 0.1447053849697113, 0.01866605505347252, 0.009133833460509777, 0.009566042572259903, 0.005463895387947559, 0.018301350995898247, 0.03729062154889107]], [[1.0, 0.0, 0.0, 0.0, 0.0, 0.0, 0.0, 0.0, 0.0, 0.0, 0.0, 0.0, 0.0], [0.9639509916305542, 0.03604899346828461, 0.0, 0.0, 0.0, 0.0, 0.0, 0.0, 0.0, 0.0, 0.0, 0.0, 0.0], [0.8897197842597961, 0.05327305197715759, 0.05700722336769104, 0.0, 0.0, 0.0, 0.0, 0.0, 0.0, 0.0, 0.0, 0.0, 0.0], [0.9702433943748474, 0.008074812591075897, 0.011950084939599037, 0.009731697849929333, 0.0, 0.0, 0.0, 0.0, 0.0, 0.0, 0.0, 0.0, 0.0], [0.9539798498153687, 0.00864082109183073, 0.023426644504070282, 0.005030849017202854, 0.008921803906559944, 0.0, 0.0, 0.0, 0.0, 0.0, 0.0, 0.0, 0.0], [0.9229068756103516, 0.01073221955448389, 0.01861836388707161, 0.0018180879997089505, 0.01629704050719738, 0.02962740696966648, 0.0, 0.0, 0.0, 0.0, 0.0, 0.0, 0.0], [0.9383291006088257, 0.002932226750999689, 0.008151734247803688, 0.0025417516008019447, 0.005119659006595612, 0.006908116862177849, 0.03601750731468201, 0.0, 0.0, 0.0, 0.0, 0.0, 0.0], [0.7987246513366699, 0.01884879544377327, 0.0256898645311594, 0.005672373343259096, 0.007972042076289654, 0.03238656371831894, 0.045792073011398315, 0.06491369009017944, 0.0, 0.0, 0.0, 0.0, 0.0], [0.9335663318634033, 0.001707727089524269, 0.010493425652384758, 0.001759112928994, 0.006491692736744881, 0.0066006979905068874, 0.00787154771387577, 0.019561443477869034, 0.011948075145483017, 0.0, 0.0, 0.0, 0.0], [0.8040571212768555, 0.00532750366255641, 0.0089423768222332, 0.009194852784276009, 0.010448726825416088, 0.01733338087797165, 0.044747449457645416, 0.0345805399119854, 0.028568703681230545, 0.036799393594264984, 0.0, 0.0, 0.0], [0.7897863984107971, 0.0057379379868507385, 0.009068045765161514, 0.0027398185338824987, 0.00795289408415556, 0.010854676365852356, 0.04331247881054878, 0.03613071143627167, 0.016433442011475563, 0.02097941003739834, 0.05700413137674332, 0.0, 0.0], [0.7538639903068542, 0.0045991805382072926, 0.01609237864613533, 0.0005849695880897343, 0.003587455488741398, 0.006166977342218161, 0.016473928466439247, 0.037577901035547256, 0.04568754509091377, 0.023806346580386162, 0.011680600233376026, 0.07987871021032333, 0.0], [0.692067563533783, 0.03225649520754814, 0.02531621605157852, 0.0046700057573616505, 0.005376187153160572, 0.014428497292101383, 0.02430799789726734, 0.04122745990753174, 0.030625341460108757, 0.017057394608855247, 0.016404753550887108, 0.019071022048592567, 0.077191062271595]], [[1.0, 0.0, 0.0, 0.0, 0.0, 0.0, 0.0, 0.0, 0.0, 0.0, 0.0, 0.0, 0.0], [0.9686537981033325, 0.03134622797369957, 0.0, 0.0, 0.0, 0.0, 0.0, 0.0, 0.0, 0.0, 0.0, 0.0, 0.0], [0.9815729856491089, 0.007528658024966717, 0.010898303240537643, 0.0, 0.0, 0.0, 0.0, 0.0, 0.0, 0.0, 0.0, 0.0, 0.0], [0.9950203895568848, 0.0013640575343742967, 0.0012584840878844261, 0.0023569767363369465, 0.0, 0.0, 0.0, 0.0, 0.0, 0.0, 0.0, 0.0, 0.0], [0.9791408181190491, 0.0030375991482287645, 0.0025615741033107042, 0.0008850157610140741, 0.014375022612512112, 0.0, 0.0, 0.0, 0.0, 0.0, 0.0, 0.0, 0.0], [0.9771568179130554, 0.00728981476277113, 0.002457670634612441, 0.00042684481013566256, 0.009290210902690887, 0.0033786159474402666, 0.0, 0.0, 0.0, 0.0, 0.0, 0.0, 0.0], [0.9697790145874023, 0.003669775789603591, 0.004159539006650448, 0.0011770841665565968, 0.00805294793099165, 0.0035677433479577303, 0.00959401112049818, 0.0, 0.0, 0.0, 0.0, 0.0, 0.0], [0.9571527242660522, 0.005111658480018377, 0.0055091967806220055, 0.00046650940203107893, 0.005393761210143566, 0.008061816915869713, 0.0028355005197227, 0.015468771569430828, 0.0, 0.0, 0.0, 0.0, 0.0], [0.9558179378509521, 0.010776383802294731, 0.00796328391879797, 0.0008740611374378204, 0.002098006894811988, 0.0012657790211960673, 0.005977637600153685, 0.00927871186286211, 0.005948163103312254, 0.0, 0.0, 0.0, 0.0], [0.9496328234672546, 0.0018627754179760814, 0.001257903641089797, 0.00302481884136796, 0.005924575962126255, 0.003225301392376423, 0.001412355457432568, 0.019023725762963295, 0.0028879682067781687, 0.011747677810490131, 0.0, 0.0, 0.0], [0.9417584538459778, 0.006078089587390423, 0.0018204104853793979, 0.0008538221591152251, 0.0034570202697068453, 0.0015056971460580826, 0.0016632347833365202, 0.016755836084485054, 0.002996954834088683, 0.00680386321619153, 0.016306621953845024, 0.0, 0.0], [0.9392479062080383, 0.0009764904389157891, 0.0024042208679020405, 0.000651553797069937, 0.0036486154422163963, 0.0016830539098009467, 0.0019704008009284735, 0.032260578125715256, 0.002960363170132041, 0.008693297393620014, 0.0028933919966220856, 0.002609993563964963, 0.0], [0.9092199802398682, 0.0047158729285001755, 0.0036220289766788483, 0.00024366469006054103, 0.0027408094611018896, 0.0029974128119647503, 0.002561805536970496, 0.016416409984230995, 0.018030909821391106, 0.009169490076601505, 0.0034876021090894938, 0.0024046043399721384, 0.02438947930932045]], [[1.0, 0.0, 0.0, 0.0, 0.0, 0.0, 0.0, 0.0, 0.0, 0.0, 0.0, 0.0, 0.0], [0.8951768279075623, 0.10482320934534073, 0.0, 0.0, 0.0, 0.0, 0.0, 0.0, 0.0, 0.0, 0.0, 0.0, 0.0], [0.9224685430526733, 0.04019898921251297, 0.03733237460255623, 0.0, 0.0, 0.0, 0.0, 0.0, 0.0, 0.0, 0.0, 0.0, 0.0], [0.8686754107475281, 0.039936263114213943, 0.07306841760873795, 0.018319901078939438, 0.0, 0.0, 0.0, 0.0, 0.0, 0.0, 0.0, 0.0, 0.0], [0.8067516684532166, 0.05254163593053818, 0.06884252279996872, 0.009863104671239853, 0.062001049518585205, 0.0, 0.0, 0.0, 0.0, 0.0, 0.0, 0.0, 0.0], [0.692844033241272, 0.05446609854698181, 0.012722892686724663, 0.012879298068583012, 0.1659073382616043, 0.061180368065834045, 0.0, 0.0, 0.0, 0.0, 0.0, 0.0, 0.0], [0.435467004776001, 0.045265816152095795, 0.02917996607720852, 0.033732157200574875, 0.18352457880973816, 0.1811373084783554, 0.09169317781925201, 0.0, 0.0, 0.0, 0.0, 0.0, 0.0], [0.3341137170791626, 0.17291989922523499, 0.16382811963558197, 0.015568322502076626, 0.01667213812470436, 0.03767039254307747, 0.1382065862417221, 0.12102082371711731, 0.0, 0.0, 0.0, 0.0, 0.0], [0.8232431411743164, 0.011110194958746433, 0.016650106757879257, 0.0019939562771469355, 0.007645602338016033, 0.01175197958946228, 0.05025312677025795, 0.02433944121003151, 0.05301249399781227, 0.0, 0.0, 0.0, 0.0], [0.597549319267273, 0.044456031173467636, 0.037207286804914474, 0.0030528635252267122, 0.01115907821804285, 0.020323937758803368, 0.06132391467690468, 0.0550457201898098, 0.10164682567119598, 0.06823498010635376, 0.0, 0.0, 0.0], [0.4532231092453003, 0.017284203320741653, 0.07034742087125778, 0.004014445468783379, 0.015514262951910496, 0.009121304377913475, 0.027299048379063606, 0.04376525059342384, 0.05309835821390152, 0.23206283152103424, 0.07426972687244415, 0.0, 0.0], [0.5816939473152161, 0.033095452934503555, 0.007724082097411156, 0.0038751845713704824, 0.009343850426375866, 0.011698747053742409, 0.026166342198848724, 0.026768963783979416, 0.01676197722554207, 0.0234944187104702, 0.02673906274139881, 0.23263795673847198, 0.0], [0.34549054503440857, 0.11628421396017075, 0.057097408920526505, 0.005970984231680632, 0.006182320881634951, 0.009707638062536716, 0.041838388890028, 0.10673685371875763, 0.029663540422916412, 0.02406974695622921, 0.013074693270027637, 0.0824141725897789, 0.1614694446325302]], [[1.0, 0.0, 0.0, 0.0, 0.0, 0.0, 0.0, 0.0, 0.0, 0.0, 0.0, 0.0, 0.0], [0.9942272901535034, 0.0057727317325770855, 0.0, 0.0, 0.0, 0.0, 0.0, 0.0, 0.0, 0.0, 0.0, 0.0, 0.0], [0.988893449306488, 0.005720596760511398, 0.005385998636484146, 0.0, 0.0, 0.0, 0.0, 0.0, 0.0, 0.0, 0.0, 0.0, 0.0], [0.9933302998542786, 0.0035872366279363632, 0.0017775205196812749, 0.0013049828121438622, 0.0, 0.0, 0.0, 0.0, 0.0, 0.0, 0.0, 0.0, 0.0], [0.9926043748855591, 0.0016921740025281906, 0.0018979700980708003, 0.0007752747042104602, 0.0030300768557935953, 0.0, 0.0, 0.0, 0.0, 0.0, 0.0, 0.0, 0.0], [0.9841446876525879, 0.004513347987085581, 0.0018791669281199574, 0.0004495158209465444, 0.004185626748949289, 0.004827694967389107, 0.0, 0.0, 0.0, 0.0, 0.0, 0.0, 0.0], [0.9624744653701782, 0.0034670564346015453, 0.004041136708110571, 0.000987355480901897, 0.006447324994951487, 0.005934384651482105, 0.016648292541503906, 0.0, 0.0, 0.0, 0.0, 0.0, 0.0], [0.9501851797103882, 0.008680013008415699, 0.004690050613135099, 0.002792365849018097, 0.0014719407772645354, 0.005104122683405876, 0.02060813084244728, 0.006468215957283974, 0.0, 0.0, 0.0, 0.0, 0.0], [0.9608655571937561, 0.0017075741197913885, 0.0034144073724746704, 0.000865874404553324, 0.0068168193101882935, 0.0020365784876048565, 0.008722961880266666, 0.00404210714623332, 0.011528181843459606, 0.0, 0.0, 0.0, 0.0], [0.9681042432785034, 0.0014511490007862449, 0.0022601343225687742, 0.0019028546521440148, 0.0028698781970888376, 0.0016640790272504091, 0.005033806432038546, 0.004083027131855488, 0.005476389080286026, 0.007154467515647411, 0.0, 0.0, 0.0], [0.9489657878875732, 0.0021505579352378845, 0.0019453181885182858, 0.001644409028813243, 0.003492431715130806, 0.0025479758623987436, 0.005410218611359596, 0.0025174072943627834, 0.0056929695419967175, 0.0076669505797326565, 0.017966052517294884, 0.0, 0.0], [0.9488351345062256, 0.0023232586681842804, 0.004746865946799517, 0.0009423180017620325, 0.0028806356713175774, 0.0014279832830652595, 0.007946434430778027, 0.0042041908018291, 0.005143139977008104, 0.0054466440342366695, 0.004067293833941221, 0.012035993859171867, 0.0], [0.902073323726654, 0.011479523032903671, 0.006403560284525156, 0.0028209045995026827, 0.0016113746678456664, 0.002927877241745591, 0.015494097024202347, 0.008213071152567863, 0.00906837172806263, 0.007121383678168058, 0.008391648530960083, 0.009812328964471817, 0.014582507312297821]], [[1.0, 0.0, 0.0, 0.0, 0.0, 0.0, 0.0, 0.0, 0.0, 0.0, 0.0, 0.0, 0.0], [0.9741443395614624, 0.02585563436150551, 0.0, 0.0, 0.0, 0.0, 0.0, 0.0, 0.0, 0.0, 0.0, 0.0, 0.0], [0.9424187541007996, 0.03966212272644043, 0.017919104546308517, 0.0, 0.0, 0.0, 0.0, 0.0, 0.0, 0.0, 0.0, 0.0, 0.0], [0.9817883968353271, 0.006602808833122253, 0.009852494113147259, 0.0017563382862135768, 0.0, 0.0, 0.0, 0.0, 0.0, 0.0, 0.0, 0.0, 0.0], [0.9699363708496094, 0.006328755058348179, 0.0064169615507125854, 0.003154038917273283, 0.014163901098072529, 0.0, 0.0, 0.0, 0.0, 0.0, 0.0, 0.0, 0.0], [0.7211447954177856, 0.01369310449808836, 0.01075313426554203, 0.0032191253267228603, 0.18708622455596924, 0.06410364806652069, 0.0, 0.0, 0.0, 0.0, 0.0, 0.0, 0.0], [0.7523659467697144, 0.004585600923746824, 0.004112415015697479, 0.0048100631684064865, 0.057574447244405746, 0.14493215084075928, 0.03161938861012459, 0.0, 0.0, 0.0, 0.0, 0.0, 0.0], [0.8410851359367371, 0.038291409611701965, 0.0034542956855148077, 0.005443241912871599, 0.006033563986420631, 0.013002889230847359, 0.0753941610455513, 0.0172953512519598, 0.0, 0.0, 0.0, 0.0, 0.0], [0.9479115009307861, 0.0007215292425826192, 0.00020001099619548768, 0.0006240317015908659, 0.004249891731888056, 0.0020455738995224237, 0.014348761178553104, 0.016506921499967575, 0.013391886837780476, 0.0, 0.0, 0.0, 0.0], [0.49395933747291565, 0.0011141427094116807, 0.0005039028474129736, 0.0018958315486088395, 0.0020595891401171684, 0.007765992544591427, 0.08326492458581924, 0.027925103902816772, 0.33556997776031494, 0.04594116657972336, 0.0, 0.0, 0.0], [0.371563583612442, 0.0017768940888345242, 0.0030391437467187643, 0.0012539223534986377, 0.006177092436701059, 0.006083141081035137, 0.09414605796337128, 0.037364356219768524, 0.3358352780342102, 0.1128053367137909, 0.02995527908205986, 0.0, 0.0], [0.8128458857536316, 0.000610343471635133, 0.0013782329624518752, 0.000554584723431617, 0.0009464018512517214, 0.001411951263435185, 0.02176329307258129, 0.010692638345062733, 0.07079381495714188, 0.024414118379354477, 0.031299933791160583, 0.023288745433092117, 0.0], [0.9196695685386658, 0.016810914501547813, 0.0016157528152689338, 0.001445189118385315, 0.0024425145238637924, 0.0013464491348713636, 0.01317537296563387, 0.007413005921989679, 0.004228085745126009, 0.0030229578260332346, 0.0031418893486261368, 0.005742885172367096, 0.019945381209254265]]], [[[1.0, 0.0, 0.0, 0.0, 0.0, 0.0, 0.0, 0.0, 0.0, 0.0, 0.0, 0.0, 0.0], [0.2978302240371704, 0.7021698355674744, 0.0, 0.0, 0.0, 0.0, 0.0, 0.0, 0.0, 0.0, 0.0, 0.0, 0.0], [0.3310638666152954, 0.3611685037612915, 0.3077675700187683, 0.0, 0.0, 0.0, 0.0, 0.0, 0.0, 0.0, 0.0, 0.0, 0.0], [0.3874037265777588, 0.28742632269859314, 0.15918460488319397, 0.1659853607416153, 0.0, 0.0, 0.0, 0.0, 0.0, 0.0, 0.0, 0.0, 0.0], [0.2120305746793747, 0.28429827094078064, 0.17227298021316528, 0.08046573400497437, 0.2509324252605438, 0.0, 0.0, 0.0, 0.0, 0.0, 0.0, 0.0, 0.0], [0.22068920731544495, 0.24039581418037415, 0.11312156170606613, 0.0920049250125885, 0.16867369413375854, 0.16511482000350952, 0.0, 0.0, 0.0, 0.0, 0.0, 0.0, 0.0], [0.32047998905181885, 0.17919744551181793, 0.07905313372612, 0.07410323619842529, 0.11818331480026245, 0.1264357715845108, 0.10254714637994766, 0.0, 0.0, 0.0, 0.0, 0.0, 0.0], [0.22224420309066772, 0.16230662167072296, 0.06177930533885956, 0.05383874103426933, 0.04376900941133499, 0.08532164990901947, 0.050294846296310425, 0.32044562697410583, 0.0, 0.0, 0.0, 0.0, 0.0], [0.13286307454109192, 0.08929044753313065, 0.11093255877494812, 0.033533696085214615, 0.07052183151245117, 0.09026419371366501, 0.10399897396564484, 0.12542320787906647, 0.2431720495223999, 0.0, 0.0, 0.0, 0.0], [0.12356364727020264, 0.10923507064580917, 0.10519372671842575, 0.03317065164446831, 0.0832475945353508, 0.0919395461678505, 0.08683627098798752, 0.06282877922058105, 0.19964225590229034, 0.10434241592884064, 0.0, 0.0, 0.0], [0.17413106560707092, 0.10737617313861847, 0.09871792048215866, 0.04337771236896515, 0.06055082008242607, 0.06557152420282364, 0.1249045729637146, 0.0383102186024189, 0.1582033634185791, 0.08080445975065231, 0.04805217683315277, 0.0, 0.0], [0.0799604132771492, 0.1266041100025177, 0.06823741644620895, 0.051731646060943604, 0.1087372675538063, 0.1059904545545578, 0.029689086601138115, 0.1114620491862297, 0.17648060619831085, 0.045570582151412964, 0.03457438573241234, 0.06096196174621582, 0.0], [0.16127093136310577, 0.15549995005130768, 0.036782797425985336, 0.03320358693599701, 0.021568099036812782, 0.0625285655260086, 0.027676675468683243, 0.16401144862174988, 0.048736270517110825, 0.009778759442269802, 0.023255620151758194, 0.03392360359430313, 0.22176367044448853]], [[1.0, 0.0, 0.0, 0.0, 0.0, 0.0, 0.0, 0.0, 0.0, 0.0, 0.0, 0.0, 0.0], [0.9412450194358826, 0.05875498056411743, 0.0, 0.0, 0.0, 0.0, 0.0, 0.0, 0.0, 0.0, 0.0, 0.0, 0.0], [0.9428002834320068, 0.023220697417855263, 0.033979080617427826, 0.0, 0.0, 0.0, 0.0, 0.0, 0.0, 0.0, 0.0, 0.0, 0.0], [0.9025048017501831, 0.023922018706798553, 0.044470325112342834, 0.02910286746919155, 0.0, 0.0, 0.0, 0.0, 0.0, 0.0, 0.0, 0.0, 0.0], [0.8065890073776245, 0.06004511937499046, 0.06199832260608673, 0.017162160947918892, 0.05420535057783127, 0.0, 0.0, 0.0, 0.0, 0.0, 0.0, 0.0, 0.0], [0.8382550477981567, 0.055317219346761703, 0.0394928902387619, 0.012318325228989124, 0.03215987980365753, 0.022456642240285873, 0.0, 0.0, 0.0, 0.0, 0.0, 0.0, 0.0], [0.8725346326828003, 0.035458143800497055, 0.020809780806303024, 0.020903432741761208, 0.017680443823337555, 0.007462468463927507, 0.025151045992970467, 0.0, 0.0, 0.0, 0.0, 0.0, 0.0], [0.6069890260696411, 0.08444530516862869, 0.08202756941318512, 0.03106612153351307, 0.04310127720236778, 0.016370423138141632, 0.08912867307662964, 0.04687154293060303, 0.0, 0.0, 0.0, 0.0, 0.0], [0.8968101739883423, 0.01203408744186163, 0.0138888880610466, 0.009249025024473667, 0.010317654348909855, 0.005185821559280157, 0.022975165396928787, 0.015335860662162304, 0.01420329138636589, 0.0, 0.0, 0.0, 0.0], [0.7844358682632446, 0.015148159116506577, 0.017764493823051453, 0.019145602360367775, 0.012670769356191158, 0.007725242991000414, 0.04284616559743881, 0.04110567271709442, 0.022272169589996338, 0.0368858240544796, 0.0, 0.0, 0.0], [0.7378328442573547, 0.01585521176457405, 0.024617424234747887, 0.015791265293955803, 0.01378606352955103, 0.008068778552114964, 0.04633902385830879, 0.0433632992208004, 0.012893534265458584, 0.06103608012199402, 0.020416459068655968, 0.0, 0.0], [0.7350585460662842, 0.016475768759846687, 0.035572659224271774, 0.011028874665498734, 0.008504502475261688, 0.005233436822891235, 0.05011169984936714, 0.031141497194767, 0.018236707895994186, 0.044724736362695694, 0.017009885981678963, 0.026901736855506897, 0.0], [0.49341467022895813, 0.0915471538901329, 0.05574607476592064, 0.021178552880883217, 0.018314875662326813, 0.010156646370887756, 0.07231040298938751, 0.053003787994384766, 0.037499599158763885, 0.04196678847074509, 0.025787584483623505, 0.010099921375513077, 0.06897392123937607]], [[1.0, 0.0, 0.0, 0.0, 0.0, 0.0, 0.0, 0.0, 0.0, 0.0, 0.0, 0.0, 0.0], [0.9782966375350952, 0.021703414618968964, 0.0, 0.0, 0.0, 0.0, 0.0, 0.0, 0.0, 0.0, 0.0, 0.0, 0.0], [0.9773608446121216, 0.01184989232569933, 0.010789234191179276, 0.0, 0.0, 0.0, 0.0, 0.0, 0.0, 0.0, 0.0, 0.0, 0.0], [0.9883551597595215, 0.006416400894522667, 0.0030131961684674025, 0.002215319313108921, 0.0, 0.0, 0.0, 0.0, 0.0, 0.0, 0.0, 0.0, 0.0], [0.9627354741096497, 0.010338607244193554, 0.010603115893900394, 0.003956720232963562, 0.012366076931357384, 0.0, 0.0, 0.0, 0.0, 0.0, 0.0, 0.0, 0.0], [0.956166684627533, 0.014326396398246288, 0.004903544206172228, 0.0020231346134096384, 0.015359458513557911, 0.007220763713121414, 0.0, 0.0, 0.0, 0.0, 0.0, 0.0, 0.0], [0.9762718677520752, 0.005657180678099394, 0.002012702403590083, 0.0014210218796506524, 0.00589857017621398, 0.0021428486797958612, 0.006595817394554615, 0.0, 0.0, 0.0, 0.0, 0.0, 0.0], [0.8931335806846619, 0.015413048677146435, 0.004409002605825663, 0.0017456579953432083, 0.00617982679978013, 0.0035832358989864588, 0.009213637560606003, 0.06632203608751297, 0.0, 0.0, 0.0, 0.0, 0.0], [0.9823344945907593, 0.0022828243672847748, 0.00244861445389688, 0.0012800288386642933, 0.002849413314834237, 0.0013340502046048641, 0.0029769325628876686, 0.002700407523661852, 0.001793377916328609, 0.0, 0.0, 0.0, 0.0], [0.9558683633804321, 0.004967878106981516, 0.0031684692949056625, 0.00248232064768672, 0.004036834929138422, 0.0019835615530610085, 0.005111429374665022, 0.014936482533812523, 0.002797932829707861, 0.00464666960760951, 0.0, 0.0, 0.0], [0.9607148170471191, 0.0034892011899501085, 0.003405621973797679, 0.0022717691026628017, 0.0034455428831279278, 0.0024879660923033953, 0.0038504875265061855, 0.007490500342100859, 0.0020426532719284296, 0.005868694745004177, 0.004932794254273176, 0.0, 0.0], [0.9252936840057373, 0.00636331457644701, 0.003220554208382964, 0.0013026990927755833, 0.006225804332643747, 0.001475782599300146, 0.009897495619952679, 0.01961173303425312, 0.003751719370484352, 0.008357027545571327, 0.0032461134251207113, 0.011254043318331242, 0.0], [0.8270158767700195, 0.01319635659456253, 0.0029198776464909315, 0.001075712963938713, 0.004860465880483389, 0.0019272809149697423, 0.005793191026896238, 0.058814387768507004, 0.0048935250379145145, 0.0033933573868125677, 0.0031883844640105963, 0.004067386966198683, 0.06885425001382828]], [[1.0, 0.0, 0.0, 0.0, 0.0, 0.0, 0.0, 0.0, 0.0, 0.0, 0.0, 0.0, 0.0], [0.8897507190704346, 0.11024926602840424, 0.0, 0.0, 0.0, 0.0, 0.0, 0.0, 0.0, 0.0, 0.0, 0.0, 0.0], [0.6945515871047974, 0.187527596950531, 0.11792083829641342, 0.0, 0.0, 0.0, 0.0, 0.0, 0.0, 0.0, 0.0, 0.0, 0.0], [0.8546297550201416, 0.05659590661525726, 0.05422186478972435, 0.03455251455307007, 0.0, 0.0, 0.0, 0.0, 0.0, 0.0, 0.0, 0.0, 0.0], [0.45922139286994934, 0.12956035137176514, 0.19947215914726257, 0.036710042506456375, 0.1750359982252121, 0.0, 0.0, 0.0, 0.0, 0.0, 0.0, 0.0, 0.0], [0.4263167083263397, 0.10994313657283783, 0.060976218432188034, 0.02270275354385376, 0.1553666889667511, 0.22469459474086761, 0.0, 0.0, 0.0, 0.0, 0.0, 0.0, 0.0], [0.804335355758667, 0.019043100997805595, 0.015115240588784218, 0.03659059852361679, 0.03425240516662598, 0.055336304008960724, 0.03532697260379791, 0.0, 0.0, 0.0, 0.0, 0.0, 0.0], [0.4147059917449951, 0.04857740178704262, 0.022656017914414406, 0.012324999086558819, 0.036772411316633224, 0.03368128836154938, 0.1959322690963745, 0.23534967005252838, 0.0, 0.0, 0.0, 0.0, 0.0], [0.7839598655700684, 0.012682955712080002, 0.011548343114554882, 0.014648519456386566, 0.015110640786588192, 0.014703091233968735, 0.07550496608018875, 0.021433526650071144, 0.05040808767080307, 0.0, 0.0, 0.0, 0.0], [0.5195445418357849, 0.036767978221178055, 0.01837247982621193, 0.016178347170352936, 0.02473408170044422, 0.03976551443338394, 0.13987800478935242, 0.06296749413013458, 0.0775519534945488, 0.06423962861299515, 0.0, 0.0, 0.0], [0.36441123485565186, 0.017995374277234077, 0.0371382050216198, 0.020648688077926636, 0.027717821300029755, 0.05001332238316536, 0.15188179910182953, 0.05054118111729622, 0.09735327959060669, 0.15852633118629456, 0.023772772401571274, 0.0, 0.0], [0.25234854221343994, 0.03216932713985443, 0.03860184922814369, 0.013909921050071716, 0.01627741940319538, 0.06249991059303284, 0.16694815456867218, 0.06673962622880936, 0.13824352622032166, 0.08268022537231445, 0.049802787601947784, 0.07977871596813202, 0.0], [0.3604089021682739, 0.033570341765880585, 0.012179385870695114, 0.008394157513976097, 0.012470031157135963, 0.013652876950800419, 0.09981607645750046, 0.13807998597621918, 0.04278917610645294, 0.03364742919802666, 0.03150526061654091, 0.043425463140010834, 0.170060932636261]], [[1.0, 0.0, 0.0, 0.0, 0.0, 0.0, 0.0, 0.0, 0.0, 0.0, 0.0, 0.0, 0.0], [0.9197399616241455, 0.08025997877120972, 0.0, 0.0, 0.0, 0.0, 0.0, 0.0, 0.0, 0.0, 0.0, 0.0, 0.0], [0.8937452435493469, 0.04055796563625336, 0.06569680571556091, 0.0, 0.0, 0.0, 0.0, 0.0, 0.0, 0.0, 0.0, 0.0, 0.0], [0.8420794606208801, 0.04387938231229782, 0.0931922048330307, 0.020848961547017097, 0.0, 0.0, 0.0, 0.0, 0.0, 0.0, 0.0, 0.0, 0.0], [0.8582913279533386, 0.03396898880600929, 0.04071376100182533, 0.012120520696043968, 0.05490543320775032, 0.0, 0.0, 0.0, 0.0, 0.0, 0.0, 0.0, 0.0], [0.7607102990150452, 0.04153932258486748, 0.06372195482254028, 0.015299326740205288, 0.09268848598003387, 0.026040639728307724, 0.0, 0.0, 0.0, 0.0, 0.0, 0.0, 0.0], [0.7829779982566833, 0.04784543812274933, 0.03269786387681961, 0.011161181144416332, 0.0713626891374588, 0.013368073850870132, 0.040586769580841064, 0.0, 0.0, 0.0, 0.0, 0.0, 0.0], [0.7093849778175354, 0.04172033071517944, 0.051121339201927185, 0.01211039163172245, 0.0569341704249382, 0.014881564304232597, 0.01674744114279747, 0.09709978848695755, 0.0, 0.0, 0.0, 0.0, 0.0], [0.7254724502563477, 0.022457610815763474, 0.04566316679120064, 0.016811635345220566, 0.035480812191963196, 0.007110989652574062, 0.014149496331810951, 0.08422205597162247, 0.04863179847598076, 0.0, 0.0, 0.0, 0.0], [0.6908246874809265, 0.012462832033634186, 0.04498288407921791, 0.014838427305221558, 0.031948063522577286, 0.007158045191317797, 0.011508486233651638, 0.09066778421401978, 0.036886267364025116, 0.0587226003408432, 0.0, 0.0, 0.0], [0.6221144199371338, 0.013477951288223267, 0.059972167015075684, 0.014832712709903717, 0.048435185104608536, 0.0057279812172055244, 0.020900467410683632, 0.06366037577390671, 0.03752458095550537, 0.08487672358751297, 0.02847747504711151, 0.0, 0.0], [0.6409510970115662, 0.015426174737513065, 0.035065021365880966, 0.007787032052874565, 0.025815367698669434, 0.004314705729484558, 0.013008582405745983, 0.12065056711435318, 0.04117199033498764, 0.03446575254201889, 0.015332289040088654, 0.04601136967539787, 0.0], [0.6020887494087219, 0.03683063015341759, 0.038016557693481445, 0.009396616369485855, 0.03627823293209076, 0.010187516920268536, 0.010033093392848969, 0.07814422249794006, 0.03263222426176071, 0.021695762872695923, 0.018233027309179306, 0.012947479262948036, 0.09351588040590286]], [[1.0, 0.0, 0.0, 0.0, 0.0, 0.0, 0.0, 0.0, 0.0, 0.0, 0.0, 0.0, 0.0], [0.9622896313667297, 0.037710387259721756, 0.0, 0.0, 0.0, 0.0, 0.0, 0.0, 0.0, 0.0, 0.0, 0.0, 0.0], [0.9798583984375, 0.014731083996593952, 0.005410527810454369, 0.0, 0.0, 0.0, 0.0, 0.0, 0.0, 0.0, 0.0, 0.0, 0.0], [0.9805918335914612, 0.00484065106138587, 0.0028237809892743826, 0.01174377091228962, 0.0, 0.0, 0.0, 0.0, 0.0, 0.0, 0.0, 0.0, 0.0], [0.9442656636238098, 0.009035634808242321, 0.012334180995821953, 0.017728082835674286, 0.016636407002806664, 0.0, 0.0, 0.0, 0.0, 0.0, 0.0, 0.0, 0.0], [0.9403189420700073, 0.01632050611078739, 0.0041596475057303905, 0.009439793415367603, 0.013171864673495293, 0.016589179635047913, 0.0, 0.0, 0.0, 0.0, 0.0, 0.0, 0.0], [0.9518300890922546, 0.005248684901744127, 0.00410178117454052, 0.006707410793751478, 0.008092256262898445, 0.007225840352475643, 0.016794005408883095, 0.0, 0.0, 0.0, 0.0, 0.0, 0.0], [0.7230057716369629, 0.013686534017324448, 0.02022787183523178, 0.01223919726908207, 0.020747661590576172, 0.01905371993780136, 0.03460316359996796, 0.15643608570098877, 0.0, 0.0, 0.0, 0.0, 0.0], [0.9230810403823853, 0.003208140842616558, 0.004888841416686773, 0.001690693898126483, 0.011589529924094677, 0.009621518664062023, 0.012703747488558292, 0.016381775960326195, 0.01683461107313633, 0.0, 0.0, 0.0, 0.0], [0.9132431745529175, 0.00327298603951931, 0.0016471447888761759, 0.0320182666182518, 0.007037475239485502, 0.005958041176199913, 0.00934622809290886, 0.008900929242372513, 0.00981698278337717, 0.008758672513067722, 0.0, 0.0, 0.0], [0.9193391799926758, 0.003846731036901474, 0.002246685093268752, 0.019122811034321785, 0.004114880692213774, 0.004797489382326603, 0.011130886152386665, 0.008015690371394157, 0.004304935224354267, 0.00944304745644331, 0.013637619093060493, 0.0, 0.0], [0.8467994332313538, 0.0067156339064240456, 0.011831847950816154, 0.011281940154731274, 0.01393164787441492, 0.011953196488320827, 0.015120130032300949, 0.024248991161584854, 0.016203492879867554, 0.011932922527194023, 0.005621724762022495, 0.024359080940485, 0.0], [0.5368968844413757, 0.01169770210981369, 0.01560189388692379, 0.008347813040018082, 0.01325509138405323, 0.00866775307804346, 0.019990896806120872, 0.1490466296672821, 0.01748513989150524, 0.008949356153607368, 0.0061902678571641445, 0.00930100493133068, 0.19456957280635834]], [[1.0, 0.0, 0.0, 0.0, 0.0, 0.0, 0.0, 0.0, 0.0, 0.0, 0.0, 0.0, 0.0], [0.9728018045425415, 0.027198150753974915, 0.0, 0.0, 0.0, 0.0, 0.0, 0.0, 0.0, 0.0, 0.0, 0.0, 0.0], [0.9839372038841248, 0.008597932755947113, 0.007464811205863953, 0.0, 0.0, 0.0, 0.0, 0.0, 0.0, 0.0, 0.0, 0.0, 0.0], [0.9868263006210327, 0.004992233589291573, 0.0039145625196397305, 0.0042668599635362625, 0.0, 0.0, 0.0, 0.0, 0.0, 0.0, 0.0, 0.0, 0.0], [0.9710634350776672, 0.0063700140453875065, 0.009632423520088196, 0.004424998536705971, 0.008509107865393162, 0.0, 0.0, 0.0, 0.0, 0.0, 0.0, 0.0, 0.0], [0.9504157304763794, 0.013962873257696629, 0.009262891486287117, 0.006001518107950687, 0.014514957554638386, 0.0058419047854840755, 0.0, 0.0, 0.0, 0.0, 0.0, 0.0, 0.0], [0.9386012554168701, 0.009299625642597675, 0.007060364820063114, 0.0086580915376544, 0.009095053188502789, 0.0032452938612550497, 0.02404024638235569, 0.0, 0.0, 0.0, 0.0, 0.0, 0.0], [0.9090986847877502, 0.01422323752194643, 0.012835606932640076, 0.009846100583672523, 0.007923630066215992, 0.007288139779120684, 0.01489056646823883, 0.02389415167272091, 0.0, 0.0, 0.0, 0.0, 0.0], [0.9734309315681458, 0.002944576321169734, 0.003743516281247139, 0.0027796856593340635, 0.005891529377549887, 0.0016154949553310871, 0.0045192972756922245, 0.0021681985817849636, 0.002906844252720475, 0.0, 0.0, 0.0, 0.0], [0.9389112591743469, 0.004377557896077633, 0.00549671333283186, 0.008768247440457344, 0.0059346104972064495, 0.004293314181268215, 0.0063239457085728645, 0.009396430104970932, 0.005438018590211868, 0.011060050688683987, 0.0, 0.0, 0.0], [0.9336133003234863, 0.0031011695973575115, 0.0033171907998621464, 0.006405590567737818, 0.004313101060688496, 0.0035684984177351, 0.006443522404879332, 0.005870106630027294, 0.003429563483223319, 0.008045129477977753, 0.021892791613936424, 0.0, 0.0], [0.9259798526763916, 0.004263591021299362, 0.004612748045474291, 0.0037088128738105297, 0.005811188369989395, 0.00197007367387414, 0.015197359956800938, 0.004546629264950752, 0.004325191956013441, 0.00515301339328289, 0.007281502243131399, 0.017150022089481354, 0.0], [0.8587539792060852, 0.01819990947842598, 0.010654393583536148, 0.006826710421591997, 0.0059889028780162334, 0.005093738436698914, 0.013665634207427502, 0.018762027844786644, 0.005729073192924261, 0.005652257241308689, 0.01105648186057806, 0.017409754917025566, 0.02220701240003109]], [[1.0, 0.0, 0.0, 0.0, 0.0, 0.0, 0.0, 0.0, 0.0, 0.0, 0.0, 0.0, 0.0], [0.9611679911613464, 0.03883201256394386, 0.0, 0.0, 0.0, 0.0, 0.0, 0.0, 0.0, 0.0, 0.0, 0.0, 0.0], [0.9590157866477966, 0.02387070097029209, 0.017113521695137024, 0.0, 0.0, 0.0, 0.0, 0.0, 0.0, 0.0, 0.0, 0.0, 0.0], [0.9096598029136658, 0.047307275235652924, 0.027860650792717934, 0.015172176994383335, 0.0, 0.0, 0.0, 0.0, 0.0, 0.0, 0.0, 0.0, 0.0], [0.796460747718811, 0.052751604467630386, 0.09793046861886978, 0.007361366413533688, 0.04549584165215492, 0.0, 0.0, 0.0, 0.0, 0.0, 0.0, 0.0, 0.0], [0.9015490412712097, 0.03209533542394638, 0.016476746648550034, 0.003914968576282263, 0.02359604276716709, 0.022367866709828377, 0.0, 0.0, 0.0, 0.0, 0.0, 0.0, 0.0], [0.8845906853675842, 0.016078373417258263, 0.024468889459967613, 0.006543137598782778, 0.030209708958864212, 0.012749729678034782, 0.02535940706729889, 0.0, 0.0, 0.0, 0.0, 0.0, 0.0], [0.5502341389656067, 0.08356049656867981, 0.1194467693567276, 0.010122544132173061, 0.050056926906108856, 0.03907547518610954, 0.04628116637468338, 0.10122249275445938, 0.0, 0.0, 0.0, 0.0, 0.0], [0.9568244218826294, 0.004560602363198996, 0.004246862605214119, 0.0019127856940031052, 0.0049080802127718925, 0.0038663882296532393, 0.008030599914491177, 0.013464411720633507, 0.0021857295650988817, 0.0, 0.0, 0.0, 0.0], [0.7759135961532593, 0.04770603030920029, 0.030785247683525085, 0.009798789396882057, 0.02037210762500763, 0.013472924940288067, 0.023892611265182495, 0.03822119161486626, 0.012946132570505142, 0.02689140848815441, 0.0, 0.0, 0.0], [0.8350625038146973, 0.025701260194182396, 0.0117315873503685, 0.006451600696891546, 0.016786670312285423, 0.014347970485687256, 0.03029779903590679, 0.016942158341407776, 0.006950218230485916, 0.01581815630197525, 0.019910037517547607, 0.0, 0.0], [0.5033804178237915, 0.010895094834268093, 0.016112107783555984, 0.002871735952794552, 0.007815013639628887, 0.005469773430377245, 0.03737594187259674, 0.3359889090061188, 0.00590860890224576, 0.011175330728292465, 0.004045986104756594, 0.058961041271686554, 0.0], [0.3813527226448059, 0.07465342432260513, 0.07155397534370422, 0.0032613256480544806, 0.022453725337982178, 0.018631678074598312, 0.03757794201374054, 0.13122335076332092, 0.02655046619474888, 0.014686889946460724, 0.0098479725420475, 0.03382280841469765, 0.17438369989395142]], [[1.0, 0.0, 0.0, 0.0, 0.0, 0.0, 0.0, 0.0, 0.0, 0.0, 0.0, 0.0, 0.0], [5.846750354976393e-06, 0.999994158744812, 0.0, 0.0, 0.0, 0.0, 0.0, 0.0, 0.0, 0.0, 0.0, 0.0, 0.0], [0.00019480635819491, 0.2625461220741272, 0.7372589707374573, 0.0, 0.0, 0.0, 0.0, 0.0, 0.0, 0.0, 0.0, 0.0, 0.0], [9.667698031989858e-05, 0.3616432845592499, 0.4774652421474457, 0.1607946902513504, 0.0, 0.0, 0.0, 0.0, 0.0, 0.0, 0.0, 0.0, 0.0], [3.824683153652586e-05, 0.25006893277168274, 0.42668893933296204, 0.04715947434306145, 0.27604442834854126, 0.0, 0.0, 0.0, 0.0, 0.0, 0.0, 0.0, 0.0], [1.2085232810932212e-05, 0.24687480926513672, 0.12538275122642517, 0.26469507813453674, 0.2065306305885315, 0.15650467574596405, 0.0, 0.0, 0.0, 0.0, 0.0, 0.0, 0.0], [2.145106736861635e-05, 0.11532280594110489, 0.1449732929468155, 0.18556226789951324, 0.18677069246768951, 0.2767711579799652, 0.0905783548951149, 0.0, 0.0, 0.0, 0.0, 0.0, 0.0], [6.199493509484455e-05, 0.07588006556034088, 0.08526955544948578, 0.008670267648994923, 0.033918555825948715, 0.023481683805584908, 0.04007329046726227, 0.7326444983482361, 0.0, 0.0, 0.0, 0.0, 0.0], [5.001954923500307e-05, 0.12403717637062073, 0.2888809144496918, 0.02058948203921318, 0.10206975787878036, 0.048812784254550934, 0.04838073253631592, 0.17345869541168213, 0.19372040033340454, 0.0, 0.0, 0.0, 0.0], [0.00013397652946878225, 0.031089846044778824, 0.08572176843881607, 0.0066320812329649925, 0.03509822115302086, 0.021172665059566498, 0.05119689926505089, 0.29855433106422424, 0.24106191098690033, 0.22933825850486755, 0.0, 0.0, 0.0], [0.00037197727942839265, 0.027027616277337074, 0.1384521722793579, 0.006662748754024506, 0.04110373184084892, 0.015677867457270622, 0.03411459922790527, 0.10787393152713776, 0.13466544449329376, 0.3643730580806732, 0.12967686355113983, 0.0, 0.0], [1.3978967217553873e-05, 0.03554897755384445, 0.0363183319568634, 0.03371844440698624, 0.027616074308753014, 0.08162498474121094, 0.12554048001766205, 0.26498672366142273, 0.10837879776954651, 0.09126681834459305, 0.08038724958896637, 0.11459916085004807, 0.0], [4.2948937334585935e-05, 0.03572402149438858, 0.017850486561655998, 0.0028355722315609455, 0.005827156826853752, 0.008343013003468513, 0.01316417008638382, 0.42154037952423096, 0.03135944530367851, 0.020393721759319305, 0.019470445811748505, 0.00795552134513855, 0.41549307107925415]], [[1.0, 0.0, 0.0, 0.0, 0.0, 0.0, 0.0, 0.0, 0.0, 0.0, 0.0, 0.0, 0.0], [0.9848741888999939, 0.015125732868909836, 0.0, 0.0, 0.0, 0.0, 0.0, 0.0, 0.0, 0.0, 0.0, 0.0, 0.0], [0.9758172631263733, 0.014680357649922371, 0.00950239971280098, 0.0, 0.0, 0.0, 0.0, 0.0, 0.0, 0.0, 0.0, 0.0, 0.0], [0.9705830812454224, 0.012677563354372978, 0.0021917119156569242, 0.014547552913427353, 0.0, 0.0, 0.0, 0.0, 0.0, 0.0, 0.0, 0.0, 0.0], [0.9722138047218323, 0.009880618192255497, 0.002636721357703209, 0.004150719381868839, 0.011118149384856224, 0.0, 0.0, 0.0, 0.0, 0.0, 0.0, 0.0, 0.0], [0.9085182547569275, 0.026047058403491974, 0.009748046286404133, 0.006888991221785545, 0.025932855904102325, 0.022864848375320435, 0.0, 0.0, 0.0, 0.0, 0.0, 0.0, 0.0], [0.942101240158081, 0.009112507104873657, 0.0036002376582473516, 0.00523671880364418, 0.026262251660227776, 0.007071478758007288, 0.006615591701120138, 0.0, 0.0, 0.0, 0.0, 0.0, 0.0], [0.9210973978042603, 0.016032863408327103, 0.0029062414541840553, 0.011181513778865337, 0.012533632107079029, 0.009014727547764778, 0.006720674689859152, 0.020513009279966354, 0.0, 0.0, 0.0, 0.0, 0.0], [0.9264519214630127, 0.0032551060430705547, 0.003062295727431774, 0.0035795632284134626, 0.03262949362397194, 0.008558005094528198, 0.0031324175652116537, 0.011592577211558819, 0.007738749962300062, 0.0, 0.0, 0.0, 0.0], [0.9533289074897766, 0.002430145861580968, 0.0012300038943067193, 0.010576033964753151, 0.008371914736926556, 0.00253226887434721, 0.0023727132938802242, 0.006676709279417992, 0.004456731490790844, 0.008024542592465878, 0.0, 0.0, 0.0], [0.9441908597946167, 0.002966836327686906, 0.0012453094823285937, 0.008237636648118496, 0.010091284289956093, 0.006341576110571623, 0.001948962570168078, 0.006554995663464069, 0.005030919797718525, 0.006598174571990967, 0.006793529726564884, 0.0, 0.0], [0.9280779361724854, 0.008702398277819157, 0.0027080331929028034, 0.0074716913513839245, 0.012178894132375717, 0.0034252717159688473, 0.0061996132135391235, 0.006181597709655762, 0.005130184348672628, 0.005977561231702566, 0.0013026039814576507, 0.01264427974820137, 0.0], [0.8815767168998718, 0.012201043777167797, 0.0025665622670203447, 0.00895716156810522, 0.012492307461798191, 0.005236330907791853, 0.0035212740767747164, 0.02494380809366703, 0.006991369184106588, 0.0043161967769265175, 0.0029493486508727074, 0.007614229805767536, 0.026633676141500473]], [[1.0, 0.0, 0.0, 0.0, 0.0, 0.0, 0.0, 0.0, 0.0, 0.0, 0.0, 0.0, 0.0], [0.8709335327148438, 0.12906643748283386, 0.0, 0.0, 0.0, 0.0, 0.0, 0.0, 0.0, 0.0, 0.0, 0.0, 0.0], [0.8793514966964722, 0.06401687115430832, 0.05663170665502548, 0.0, 0.0, 0.0, 0.0, 0.0, 0.0, 0.0, 0.0, 0.0, 0.0], [0.848102331161499, 0.043416429311037064, 0.07038822770118713, 0.03809307515621185, 0.0, 0.0, 0.0, 0.0, 0.0, 0.0, 0.0, 0.0, 0.0], [0.7906057834625244, 0.04143882170319557, 0.07475724071264267, 0.019026098772883415, 0.07417209446430206, 0.0, 0.0, 0.0, 0.0, 0.0, 0.0, 0.0, 0.0], [0.676510214805603, 0.05358540639281273, 0.05003530532121658, 0.023877838626503944, 0.12883883714675903, 0.06715241819620132, 0.0, 0.0, 0.0, 0.0, 0.0, 0.0, 0.0], [0.786542534828186, 0.03259476646780968, 0.015573645941913128, 0.0099125225096941, 0.04900357872247696, 0.06691817194223404, 0.0394548662006855, 0.0, 0.0, 0.0, 0.0, 0.0, 0.0], [0.5714249014854431, 0.06423034518957138, 0.027819618582725525, 0.00923848245292902, 0.03138428181409836, 0.017770055681467056, 0.029215993359684944, 0.2489163726568222, 0.0, 0.0, 0.0, 0.0, 0.0], [0.7074100375175476, 0.015200307592749596, 0.0182715505361557, 0.005720640532672405, 0.022236766293644905, 0.02064436487853527, 0.048336293548345566, 0.03910592570900917, 0.12307407706975937, 0.0, 0.0, 0.0, 0.0], [0.6960641741752625, 0.014140655286610126, 0.010153242386877537, 0.005605468992143869, 0.017221806570887566, 0.0183914415538311, 0.051846131682395935, 0.04829715937376022, 0.04183614253997803, 0.0964437872171402, 0.0, 0.0, 0.0], [0.3465343117713928, 0.0071281204000115395, 0.02598060853779316, 0.011721341870725155, 0.015366259030997753, 0.019062597304582596, 0.0406607948243618, 0.01670677214860916, 0.03356541320681572, 0.4194660484790802, 0.0638076514005661, 0.0, 0.0], [0.702580988407135, 0.018039703369140625, 0.013967251405119896, 0.006009524688124657, 0.012736489064991474, 0.013749377802014351, 0.02049575187265873, 0.05902478098869324, 0.02173699624836445, 0.0384838804602623, 0.009814275428652763, 0.08336101472377777, 0.0], [0.5130557417869568, 0.0538560226559639, 0.01890605315566063, 0.006382296327501535, 0.014300021342933178, 0.012356812134385109, 0.010356856510043144, 0.16915827989578247, 0.013011024333536625, 0.01702488586306572, 0.015220040455460548, 0.01678316667675972, 0.13958881795406342]], [[1.0, 0.0, 0.0, 0.0, 0.0, 0.0, 0.0, 0.0, 0.0, 0.0, 0.0, 0.0, 0.0], [0.9337282180786133, 0.06627172976732254, 0.0, 0.0, 0.0, 0.0, 0.0, 0.0, 0.0, 0.0, 0.0, 0.0, 0.0], [0.8877817392349243, 0.06043475121259689, 0.05178346484899521, 0.0, 0.0, 0.0, 0.0, 0.0, 0.0, 0.0, 0.0, 0.0, 0.0], [0.89837646484375, 0.030537033453583717, 0.043364010751247406, 0.027722498401999474, 0.0, 0.0, 0.0, 0.0, 0.0, 0.0, 0.0, 0.0, 0.0], [0.8921017646789551, 0.022358817979693413, 0.03499000519514084, 0.02014000527560711, 0.03040938451886177, 0.0, 0.0, 0.0, 0.0, 0.0, 0.0, 0.0, 0.0], [0.7990765571594238, 0.03278416767716408, 0.018304944038391113, 0.015316303819417953, 0.08809559047222137, 0.04642239585518837, 0.0, 0.0, 0.0, 0.0, 0.0, 0.0, 0.0], [0.7498539686203003, 0.024488281458616257, 0.01251537911593914, 0.03989729657769203, 0.06819646805524826, 0.06768160313367844, 0.03736701235175133, 0.0, 0.0, 0.0, 0.0, 0.0, 0.0], [0.8043720126152039, 0.046553224325180054, 0.01901664212346077, 0.011860771104693413, 0.03972599282860756, 0.014250364154577255, 0.03559872508049011, 0.028622305020689964, 0.0, 0.0, 0.0, 0.0, 0.0], [0.77784264087677, 0.015712795779109, 0.014451800845563412, 0.009017935954034328, 0.021709632128477097, 0.03276414796710014, 0.030534900724887848, 0.05492313951253891, 0.04304294288158417, 0.0, 0.0, 0.0, 0.0], [0.5655999779701233, 0.02034922130405903, 0.01622605510056019, 0.008259481750428677, 0.01751948520541191, 0.023164784535765648, 0.13457544147968292, 0.013636347837746143, 0.11620909720659256, 0.08446009457111359, 0.0, 0.0, 0.0], [0.3201608955860138, 0.009511075913906097, 0.021348880603909492, 0.00472031207755208, 0.013046205043792725, 0.034501828253269196, 0.1396925449371338, 0.008988793939352036, 0.0944296345114708, 0.3206515610218048, 0.032948218286037445, 0.0, 0.0], [0.40046414732933044, 0.02574903331696987, 0.028219250962138176, 0.0058824908919632435, 0.01294322032481432, 0.015641601756215096, 0.08395539969205856, 0.21688930690288544, 0.054344292730093, 0.05227847024798393, 0.04368341341614723, 0.059949394315481186, 0.0], [0.6322535276412964, 0.0624263733625412, 0.025440137833356857, 0.009289518930017948, 0.019578587263822556, 0.01033412292599678, 0.030978480353951454, 0.07678210735321045, 0.019628334790468216, 0.018525969237089157, 0.01749289222061634, 0.023062553256750107, 0.054207317531108856]]]], \"left_text\": [\"My\", \" friend\", \" was\", \" right\", \" about\", \" this\", \" class\", \".\", \" It\", \" is\", \" so\", \" fun\", \"!\"], \"right_text\": [\"My\", \" friend\", \" was\", \" right\", \" about\", \" this\", \" class\", \".\", \" It\", \" is\", \" so\", \" fun\", \"!\"]}], \"default_filter\": \"0\", \"display_mode\": \"dark\", \"root_div_id\": \"bertviz-e03eb1f01ea246b6bb38607ababf177c\", \"include_layers\": [0, 1, 2, 3, 4, 5, 6, 7, 8, 9, 10, 11], \"include_heads\": [0, 1, 2, 3, 4, 5, 6, 7, 8, 9, 10, 11], \"total_heads\": 12}; // HACK: {\"attention\": [{\"name\": null, \"attn\": [[[[1.0, 0.0, 0.0, 0.0, 0.0, 0.0, 0.0, 0.0, 0.0, 0.0, 0.0, 0.0, 0.0], [0.9192317128181458, 0.08076824247837067, 0.0, 0.0, 0.0, 0.0, 0.0, 0.0, 0.0, 0.0, 0.0, 0.0, 0.0], [0.6462416648864746, 0.07439830899238586, 0.27935996651649475, 0.0, 0.0, 0.0, 0.0, 0.0, 0.0, 0.0, 0.0, 0.0, 0.0], [0.5847378969192505, 0.16063934564590454, 0.16442139446735382, 0.09020128101110458, 0.0, 0.0, 0.0, 0.0, 0.0, 0.0, 0.0, 0.0, 0.0], [0.5515730977058411, 0.14613068103790283, 0.17827166616916656, 0.08112452179193497, 0.042900048196315765, 0.0, 0.0, 0.0, 0.0, 0.0, 0.0, 0.0, 0.0], [0.5408419370651245, 0.09085910767316818, 0.09172691404819489, 0.10820914059877396, 0.0869697779417038, 0.08139307051897049, 0.0, 0.0, 0.0, 0.0, 0.0, 0.0, 0.0], [0.6023319363594055, 0.18704698979854584, 0.04078639671206474, 0.012910272926092148, 0.03943677246570587, 0.041873637586832047, 0.0756140798330307, 0.0, 0.0, 0.0, 0.0, 0.0, 0.0], [0.5482223629951477, 0.06494056433439255, 0.07808574289083481, 0.0800924226641655, 0.04282568395137787, 0.12744271755218506, 0.04046075418591499, 0.017929688096046448, 0.0, 0.0, 0.0, 0.0, 0.0], [0.37250590324401855, 0.07200773805379868, 0.10083417594432831, 0.06617096066474915, 0.042125996202230453, 0.08429348468780518, 0.03335130587220192, 0.030562490224838257, 0.1981479376554489, 0.0, 0.0, 0.0, 0.0], [0.37738725543022156, 0.08509457111358643, 0.03431648761034012, 0.0379466712474823, 0.043981049209833145, 0.08223135024309158, 0.05079563334584236, 0.027251310646533966, 0.21691255271434784, 0.04408302903175354, 0.0, 0.0, 0.0], [0.24018050730228424, 0.035743363201618195, 0.07748826593160629, 0.06844621896743774, 0.05233308672904968, 0.10664581507444382, 0.0366038978099823, 0.038711078464984894, 0.20272555947303772, 0.07843965291976929, 0.06268245726823807, 0.0, 0.0], [0.25269290804862976, 0.10725729912519455, 0.05430856719613075, 0.03766462951898575, 0.05579134449362755, 0.057182203978300095, 0.14554527401924133, 0.05298460274934769, 0.05872232839465141, 0.037615180015563965, 0.05317382887005806, 0.087061807513237, 0.0], [0.22387158870697021, 0.022973380982875824, 0.047881629317998886, 0.03403889015316963, 0.02988368645310402, 0.035925377160310745, 0.034377411007881165, 0.019989529624581337, 0.17412224411964417, 0.03626168891787529, 0.09909328073263168, 0.19531004130840302, 0.04627130925655365]], [[1.0, 0.0, 0.0, 0.0, 0.0, 0.0, 0.0, 0.0, 0.0, 0.0, 0.0, 0.0, 0.0], [0.0006835538079030812, 0.9993164539337158, 0.0, 0.0, 0.0, 0.0, 0.0, 0.0, 0.0, 0.0, 0.0, 0.0, 0.0], [0.004406120162457228, 0.001113696489483118, 0.9944802522659302, 0.0, 0.0, 0.0, 0.0, 0.0, 0.0, 0.0, 0.0, 0.0, 0.0], [0.0005491290939971805, 0.003991870675235987, 0.00036179154994897544, 0.9950972199440002, 0.0, 0.0, 0.0, 0.0, 0.0, 0.0, 0.0, 0.0, 0.0], [0.0016709184274077415, 0.0018844582373276353, 0.0009512438555248082, 0.005675282329320908, 0.9898180365562439, 0.0, 0.0, 0.0, 0.0, 0.0, 0.0, 0.0, 0.0], [0.008862796239554882, 0.0006625841488130391, 0.000815964478533715, 0.0009499016450718045, 0.006859044078737497, 0.9818496108055115, 0.0, 0.0, 0.0, 0.0, 0.0, 0.0, 0.0], [0.0006719076773151755, 0.0039893584325909615, 0.0003007437044288963, 0.0007013169815763831, 0.00015888424240984023, 9.798615064937621e-05, 0.9940798282623291, 0.0, 0.0, 0.0, 0.0, 0.0, 0.0], [0.007344133220613003, 0.0008701576152816415, 0.00042006303556263447, 0.0033163840416818857, 0.005140656605362892, 0.00030025088926777244, 0.00024084503820631653, 0.9823676347732544, 0.0, 0.0, 0.0, 0.0, 0.0], [0.0025720400735735893, 0.00012948796211276203, 0.0013174936175346375, 7.674827065784484e-05, 0.0004787359794136137, 0.006487371399998665, 4.895638267043978e-05, 9.578742174198851e-05, 0.9887934327125549, 0.0, 0.0, 0.0, 0.0], [0.002520964713767171, 0.0002089055342366919, 0.058991122990846634, 0.0010442702332511544, 0.0007963083335198462, 0.001498286728747189, 7.480941712856293e-05, 0.00022761740547139198, 0.002615547738969326, 0.932022213935852, 0.0, 0.0, 0.0], [0.002452918328344822, 0.000478274654597044, 0.0008125091553665698, 0.0028062299825251102, 0.004717669915407896, 0.0021159963216632605, 1.5374891518149525e-05, 0.0006300333188846707, 0.0033543503377586603, 0.00012439223064575344, 0.9824923276901245, 0.0, 0.0], [0.001610711682587862, 0.006195467431098223, 2.1111838577780873e-05, 0.00013791443780064583, 0.00044799974421039224, 0.00034541255445219576, 0.0004810015670955181, 7.620910309924511e-06, 0.00036575537524186075, 1.0739593562902883e-05, 0.00023045694979373366, 0.990145742893219, 0.0], [0.0033986757043749094, 0.00149856461212039, 5.125204916112125e-05, 0.0014274590648710728, 0.0008818744099698961, 0.000311060604872182, 4.577427898766473e-05, 0.0024729829747229815, 0.00010089216084452346, 4.0573875594418496e-05, 0.0003254488401580602, 0.0015174023574218154, 0.9879280924797058]], [[1.0, 0.0, 0.0, 0.0, 0.0, 0.0, 0.0, 0.0, 0.0, 0.0, 0.0, 0.0, 0.0], [0.9285915493965149, 0.0714084655046463, 0.0, 0.0, 0.0, 0.0, 0.0, 0.0, 0.0, 0.0, 0.0, 0.0, 0.0], [0.7185942530632019, 0.1109669953584671, 0.1704387366771698, 0.0, 0.0, 0.0, 0.0, 0.0, 0.0, 0.0, 0.0, 0.0, 0.0], [0.5904827117919922, 0.21560218930244446, 0.12870056927204132, 0.06521458923816681, 0.0, 0.0, 0.0, 0.0, 0.0, 0.0, 0.0, 0.0, 0.0], [0.41879090666770935, 0.14453110098838806, 0.16047783195972443, 0.1694611757993698, 0.10673905909061432, 0.0, 0.0, 0.0, 0.0, 0.0, 0.0, 0.0, 0.0], [0.2990409731864929, 0.07560186833143234, 0.2509266436100006, 0.1497063785791397, 0.16373179852962494, 0.06099225580692291, 0.0, 0.0, 0.0, 0.0, 0.0, 0.0, 0.0], [0.29262036085128784, 0.16910596191883087, 0.09150024503469467, 0.10911465436220169, 0.11446233093738556, 0.0822286382317543, 0.1409677118062973, 0.0, 0.0, 0.0, 0.0, 0.0, 0.0], [0.41832780838012695, 0.04281560704112053, 0.24485880136489868, 0.056492745876312256, 0.06875584274530411, 0.03874468803405762, 0.06930066645145416, 0.06070386618375778, 0.0, 0.0, 0.0, 0.0, 0.0], [0.24598468840122223, 0.06578996777534485, 0.17667290568351746, 0.0685090720653534, 0.07490672171115875, 0.04718780517578125, 0.06876763701438904, 0.16713599860668182, 0.085045225918293, 0.0, 0.0, 0.0, 0.0], [0.20208655297756195, 0.05363428220152855, 0.11877264082431793, 0.0939711481332779, 0.1058344766497612, 0.038884930312633514, 0.06894969195127487, 0.13778507709503174, 0.07498855888843536, 0.10509263724088669, 0.0, 0.0, 0.0], [0.15861861407756805, 0.09109899401664734, 0.0930773913860321, 0.0843605175614357, 0.0715179294347763, 0.03383173421025276, 0.037012018263339996, 0.2268013209104538, 0.07786300033330917, 0.08070072531700134, 0.04511772096157074, 0.0, 0.0], [0.17270568013191223, 0.10767164081335068, 0.09034450352191925, 0.08135788887739182, 0.06946372985839844, 0.0674731656908989, 0.06351780891418457, 0.07015247642993927, 0.07545661181211472, 0.06534744054079056, 0.062226515263319016, 0.07428252696990967, 0.0], [0.17371320724487305, 0.029942981898784637, 0.14664064347743988, 0.04060734808444977, 0.054372746497392654, 0.028821654617786407, 0.02947581186890602, 0.07844532281160355, 0.09742525219917297, 0.12424331903457642, 0.03623113036155701, 0.09187794476747513, 0.06820254772901535]], [[1.0, 0.0, 0.0, 0.0, 0.0, 0.0, 0.0, 0.0, 0.0, 0.0, 0.0, 0.0, 0.0], [0.05478470399975777, 0.9452152848243713, 0.0, 0.0, 0.0, 0.0, 0.0, 0.0, 0.0, 0.0, 0.0, 0.0, 0.0], [0.09314179420471191, 0.03601440042257309, 0.8708438277244568, 0.0, 0.0, 0.0, 0.0, 0.0, 0.0, 0.0, 0.0, 0.0, 0.0], [0.003185652196407318, 0.0008061572443693876, 0.002480102702975273, 0.9935280680656433, 0.0, 0.0, 0.0, 0.0, 0.0, 0.0, 0.0, 0.0, 0.0], [0.01570436730980873, 0.015220708213746548, 0.05562765151262283, 0.044353555887937546, 0.8690937161445618, 0.0, 0.0, 0.0, 0.0, 0.0, 0.0, 0.0, 0.0], [0.01293177716434002, 0.0011189369251951575, 0.014474314637482166, 0.007417445536702871, 0.050520624965429306, 0.9135368466377258, 0.0, 0.0, 0.0, 0.0, 0.0, 0.0, 0.0], [0.006658139638602734, 0.003233583876863122, 0.0007827153895050287, 0.026604654267430305, 0.0012479709694162011, 0.001784166437573731, 0.9596887826919556, 0.0, 0.0, 0.0, 0.0, 0.0, 0.0], [0.030939379706978798, 0.005881039891391993, 0.040680356323719025, 0.044120099395513535, 0.056627966463565826, 0.1797986626625061, 0.18980398774147034, 0.4521484971046448, 0.0, 0.0, 0.0, 0.0, 0.0], [0.0026474292390048504, 5.9069847338832915e-05, 0.0006139788893051445, 0.0001614036737009883, 0.0009130399557761848, 0.0057654911652207375, 0.0002651164832059294, 0.00643867626786232, 0.9831357598304749, 0.0, 0.0, 0.0, 0.0], [0.006151306908577681, 0.00014237695722840726, 0.00319349835626781, 0.0008010920137166977, 0.0038084741681814194, 0.0168614462018013, 0.0074491859413683414, 0.0260538961738348, 0.182861790060997, 0.7526769638061523, 0.0, 0.0, 0.0], [0.003037054557353258, 4.639526378014125e-05, 0.00024200801271945238, 0.001423604553565383, 0.001341140829026699, 0.004180805757641792, 0.000995625276118517, 0.004725610837340355, 0.04307873547077179, 0.028323234990239143, 0.9126057028770447, 0.0, 0.0], [0.0007748515345156193, 9.078736911760643e-05, 7.353408363997005e-06, 1.8406950403004885e-05, 9.97156894300133e-06, 4.2311588913435116e-05, 0.00011517792154336348, 2.9663247914868407e-05, 0.0003724870621226728, 0.0004407612723298371, 0.0006829245248809457, 0.99741530418396, 0.0], [0.0015846947208046913, 0.00022272946080192924, 0.00027969080838374794, 0.00010163753177039325, 0.0003197837504558265, 0.001411427860148251, 0.0009588779066689312, 0.0027241164352744818, 0.0123402439057827, 0.02908083237707615, 0.03586979955434799, 0.08133256435394287, 0.8337736129760742]], [[1.0, 0.0, 0.0, 0.0, 0.0, 0.0, 0.0, 0.0, 0.0, 0.0, 0.0, 0.0, 0.0], [0.4936395585536957, 0.5063604116439819, 0.0, 0.0, 0.0, 0.0, 0.0, 0.0, 0.0, 0.0, 0.0, 0.0, 0.0], [0.5837891101837158, 0.26893702149391174, 0.14727382361888885, 0.0, 0.0, 0.0, 0.0, 0.0, 0.0, 0.0, 0.0, 0.0, 0.0], [0.474903404712677, 0.08048853278160095, 0.1013088971376419, 0.34329915046691895, 0.0, 0.0, 0.0, 0.0, 0.0, 0.0, 0.0, 0.0, 0.0], [0.198075532913208, 0.2662971317768097, 0.16310884058475494, 0.22267289459705353, 0.1498456448316574, 0.0, 0.0, 0.0, 0.0, 0.0, 0.0, 0.0, 0.0], [0.21126584708690643, 0.06400188058614731, 0.1269991397857666, 0.13073427975177765, 0.15605732798576355, 0.3109414577484131, 0.0, 0.0, 0.0, 0.0, 0.0, 0.0, 0.0], [0.11964257061481476, 0.08619672805070877, 0.011964616365730762, 0.12534315884113312, 0.019233496859669685, 0.03433496132493019, 0.603284478187561, 0.0, 0.0, 0.0, 0.0, 0.0, 0.0], [0.09122147411108017, 0.05746615305542946, 0.06618606299161911, 0.06380953639745712, 0.09002099186182022, 0.13527531921863556, 0.11499468237161636, 0.3810257613658905, 0.0, 0.0, 0.0, 0.0, 0.0], [0.06434570997953415, 0.013903125189244747, 0.05955347791314125, 0.02456541731953621, 0.043871983885765076, 0.09135258197784424, 0.03388262912631035, 0.09515140950679779, 0.5733736753463745, 0.0, 0.0, 0.0, 0.0], [0.0701262503862381, 0.014956573024392128, 0.03523502126336098, 0.050182685256004333, 0.035908475518226624, 0.05033557116985321, 0.06830929219722748, 0.04857452213764191, 0.27201536297798157, 0.3543562889099121, 0.0, 0.0, 0.0], [0.03091854602098465, 0.01308987196534872, 0.03215868026018143, 0.015837769955396652, 0.025447193533182144, 0.03196779638528824, 0.011405328288674355, 0.024585342034697533, 0.16089275479316711, 0.31309038400650024, 0.34060633182525635, 0.0, 0.0], [0.01769671030342579, 0.002728857100009918, 0.002411728957667947, 0.002799410605803132, 0.002455604961141944, 0.004491532687097788, 0.004037965554744005, 0.0031766179017722607, 0.014994866214692593, 0.009803852066397667, 0.012650755234062672, 0.9227521419525146, 0.0], [0.02193918451666832, 0.011658964678645134, 0.0112532339990139, 0.013615741394460201, 0.013708913698792458, 0.0409054271876812, 0.004448238760232925, 0.03733619302511215, 0.05891421437263489, 0.059011150151491165, 0.08079613000154495, 0.3361625373363495, 0.3102499842643738]], [[1.0, 0.0, 0.0, 0.0, 0.0, 0.0, 0.0, 0.0, 0.0, 0.0, 0.0, 0.0, 0.0], [0.033425234258174896, 0.9665747880935669, 0.0, 0.0, 0.0, 0.0, 0.0, 0.0, 0.0, 0.0, 0.0, 0.0, 0.0], [0.09495166689157486, 0.0005274380091577768, 0.9045208692550659, 0.0, 0.0, 0.0, 0.0, 0.0, 0.0, 0.0, 0.0, 0.0, 0.0], [0.041869957000017166, 0.0014282154152169824, 0.00010531838779570535, 0.9565966129302979, 0.0, 0.0, 0.0, 0.0, 0.0, 0.0, 0.0, 0.0, 0.0], [0.08858925849199295, 0.0010841514449566603, 0.0032666949555277824, 0.00805156771093607, 0.8990083932876587, 0.0, 0.0, 0.0, 0.0, 0.0, 0.0, 0.0, 0.0], [0.08118470013141632, 0.00026520839310251176, 0.0009790553012862802, 0.0032390288542956114, 0.0010751168010756373, 0.9132568836212158, 0.0, 0.0, 0.0, 0.0, 0.0, 0.0, 0.0], [0.008153855800628662, 0.0008907580631785095, 2.350276190554723e-05, 0.00012198126933071762, 7.235442808450898e-06, 1.7996070482695359e-06, 0.9908007979393005, 0.0, 0.0, 0.0, 0.0, 0.0, 0.0], [0.17544357478618622, 0.055588774383068085, 0.09761591255664825, 0.0911172553896904, 0.07300383597612381, 0.1159263551235199, 0.01848035492002964, 0.3728239834308624, 0.0, 0.0, 0.0, 0.0, 0.0], [0.11287812888622284, 0.0008773189038038254, 0.0022447253577411175, 0.0010687483008950949, 0.00022305056336335838, 0.004398187156766653, 6.297883373918012e-05, 0.00011839338549179956, 0.8781284093856812, 0.0, 0.0, 0.0, 0.0], [0.009890466928482056, 0.0005839634104631841, 0.030996667221188545, 0.003874928457662463, 0.0021007072646170855, 0.005070307292044163, 0.0009558535530231893, 0.0013331263326108456, 0.0024132169783115387, 0.9427807927131653, 0.0, 0.0, 0.0], [0.05002724006772041, 0.0009560435428284109, 0.0008977262768894434, 0.0015690838918089867, 0.0014960442204028368, 0.010375360026955605, 0.0003224052197765559, 0.0007668618927709758, 0.0017575806705281138, 0.0005282883648760617, 0.9313033819198608, 0.0, 0.0], [0.018799342215061188, 0.0011249262606725097, 4.08802361562266e-06, 7.262708822963759e-05, 1.5042133782117162e-05, 1.547409397062438e-06, 3.672427556011826e-05, 1.43595809731778e-06, 8.332691322721075e-06, 4.389463867937593e-07, 2.947844905065722e-06, 0.9799326062202454, 0.0], [0.0316900834441185, 0.002310815267264843, 0.0002145407925127074, 0.0032584192231297493, 0.00022183054534252733, 0.000192746811080724, 3.234025643905625e-05, 0.00025498520699329674, 0.0006407961482182145, 3.2398751500295475e-05, 0.00018065249605569988, 0.0004196578811388463, 0.9605506658554077]], [[1.0, 0.0, 0.0, 0.0, 0.0, 0.0, 0.0, 0.0, 0.0, 0.0, 0.0, 0.0, 0.0], [0.8262148499488831, 0.17378513514995575, 0.0, 0.0, 0.0, 0.0, 0.0, 0.0, 0.0, 0.0, 0.0, 0.0, 0.0], [0.5966413021087646, 0.3568887710571289, 0.04646996036171913, 0.0, 0.0, 0.0, 0.0, 0.0, 0.0, 0.0, 0.0, 0.0, 0.0], [0.5120242834091187, 0.30527356266975403, 0.05481153726577759, 0.12789060175418854, 0.0, 0.0, 0.0, 0.0, 0.0, 0.0, 0.0, 0.0, 0.0], [0.45536378026008606, 0.20277604460716248, 0.06558288633823395, 0.18838337063789368, 0.08789386600255966, 0.0, 0.0, 0.0, 0.0, 0.0, 0.0, 0.0, 0.0], [0.4459514915943146, 0.25239819288253784, 0.06056572496891022, 0.1359965205192566, 0.06453614681959152, 0.0405518114566803, 0.0, 0.0, 0.0, 0.0, 0.0, 0.0, 0.0], [0.2992585301399231, 0.304435133934021, 0.04500816389918327, 0.07453719526529312, 0.029930220916867256, 0.03295145928859711, 0.21387925744056702, 0.0, 0.0, 0.0, 0.0, 0.0, 0.0], [0.3662918508052826, 0.20439228415489197, 0.03938387706875801, 0.07490717619657516, 0.05198414623737335, 0.020734624937176704, 0.23529152572155, 0.007014566566795111, 0.0, 0.0, 0.0, 0.0, 0.0], [0.35690656304359436, 0.1768161505460739, 0.04174407571554184, 0.08666657656431198, 0.062467001378536224, 0.039885133504867554, 0.17220348119735718, 0.021900035440921783, 0.041410986334085464, 0.0, 0.0, 0.0, 0.0], [0.2537831664085388, 0.17163750529289246, 0.039324939250946045, 0.11008477210998535, 0.05381486937403679, 0.024924900382757187, 0.24653618037700653, 0.017437180504202843, 0.04363519325852394, 0.03882133588194847, 0.0, 0.0, 0.0], [0.22792711853981018, 0.21990008652210236, 0.04037448763847351, 0.08792433887720108, 0.04288390278816223, 0.026802927255630493, 0.19822874665260315, 0.022983932867646217, 0.03802653029561043, 0.04147086292505264, 0.05347693711519241, 0.0, 0.0], [0.23926478624343872, 0.19336934387683868, 0.03688635677099228, 0.07301972061395645, 0.02694721147418022, 0.024639204144477844, 0.09494588524103165, 0.03219051659107208, 0.03512638434767723, 0.028233768418431282, 0.023247290402650833, 0.1921294927597046, 0.0], [0.22592009603977203, 0.09135493636131287, 0.025336673483252525, 0.034570496529340744, 0.024832583963871002, 0.019518466666340828, 0.12886199355125427, 0.01926828734576702, 0.03245934844017029, 0.021884821355342865, 0.028682654723525047, 0.30151742696762085, 0.045792244374752045]], [[1.0, 0.0, 0.0, 0.0, 0.0, 0.0, 0.0, 0.0, 0.0, 0.0, 0.0, 0.0, 0.0], [0.9470612406730652, 0.052938781678676605, 0.0, 0.0, 0.0, 0.0, 0.0, 0.0, 0.0, 0.0, 0.0, 0.0, 0.0], [0.6075812578201294, 0.2044709026813507, 0.18794779479503632, 0.0, 0.0, 0.0, 0.0, 0.0, 0.0, 0.0, 0.0, 0.0, 0.0], [0.2709655165672302, 0.1661500185728073, 0.4309837818145752, 0.13190071284770966, 0.0, 0.0, 0.0, 0.0, 0.0, 0.0, 0.0, 0.0, 0.0], [0.22044937312602997, 0.09779494255781174, 0.21786849200725555, 0.27064013481140137, 0.19324705004692078, 0.0, 0.0, 0.0, 0.0, 0.0, 0.0, 0.0, 0.0], [0.15509502589702606, 0.05028599873185158, 0.12794755399227142, 0.07609737664461136, 0.278931200504303, 0.3116428852081299, 0.0, 0.0, 0.0, 0.0, 0.0, 0.0, 0.0], [0.09550902992486954, 0.03346004709601402, 0.08592405915260315, 0.18732553720474243, 0.19407334923744202, 0.30307403206825256, 0.10063398629426956, 0.0, 0.0, 0.0, 0.0, 0.0, 0.0], [0.07581717520952225, 0.01864265650510788, 0.041629061102867126, 0.06130287051200867, 0.08106082677841187, 0.16440825164318085, 0.14280372858047485, 0.4143354892730713, 0.0, 0.0, 0.0, 0.0, 0.0], [0.04431375861167908, 0.005485871806740761, 0.019617239013314247, 0.011444450356066227, 0.047224391251802444, 0.06444042921066284, 0.037083856761455536, 0.5077203512191772, 0.26266974210739136, 0.0, 0.0, 0.0, 0.0], [0.03531825542449951, 0.006220001261681318, 0.009982804767787457, 0.014310252852737904, 0.028459403663873672, 0.054700158536434174, 0.0376180037856102, 0.25553858280181885, 0.31354159116744995, 0.24431094527244568, 0.0, 0.0, 0.0], [0.056080833077430725, 0.004524478688836098, 0.012118064798414707, 0.008983070962131023, 0.028617866337299347, 0.04182159900665283, 0.01641322299838066, 0.19381895661354065, 0.21790555119514465, 0.2571534514427185, 0.16256290674209595, 0.0, 0.0], [0.06292474269866943, 0.003211578819900751, 0.016740428283810616, 0.018573150038719177, 0.02075190283358097, 0.049828652292490005, 0.04322490841150284, 0.12171713262796402, 0.13426367938518524, 0.2426677793264389, 0.1743556708097458, 0.11174031347036362, 0.0], [0.020299339666962624, 0.0027129719965159893, 0.005281295161694288, 0.010201937519013882, 0.009095259010791779, 0.01062864065170288, 0.0066008418798446655, 0.04242343455553055, 0.08950196206569672, 0.07204844802618027, 0.11673376709222794, 0.3683626055717468, 0.24610942602157593]], [[1.0, 0.0, 0.0, 0.0, 0.0, 0.0, 0.0, 0.0, 0.0, 0.0, 0.0, 0.0, 0.0], [0.9110982418060303, 0.08890173584222794, 0.0, 0.0, 0.0, 0.0, 0.0, 0.0, 0.0, 0.0, 0.0, 0.0, 0.0], [0.3444812595844269, 0.09042394906282425, 0.5650947690010071, 0.0, 0.0, 0.0, 0.0, 0.0, 0.0, 0.0, 0.0, 0.0, 0.0], [0.4552285671234131, 0.06075664237141609, 0.33731433749198914, 0.1467004120349884, 0.0, 0.0, 0.0, 0.0, 0.0, 0.0, 0.0, 0.0, 0.0], [0.1895071566104889, 0.05523490905761719, 0.4088458716869354, 0.13057804107666016, 0.21583399176597595, 0.0, 0.0, 0.0, 0.0, 0.0, 0.0, 0.0, 0.0], [0.12368015199899673, 0.038910090923309326, 0.346926748752594, 0.055595364421606064, 0.11721343547105789, 0.31767427921295166, 0.0, 0.0, 0.0, 0.0, 0.0, 0.0, 0.0], [0.19079719483852386, 0.10708774626255035, 0.08372537791728973, 0.17804838716983795, 0.17065444588661194, 0.20310425758361816, 0.0665825679898262, 0.0, 0.0, 0.0, 0.0, 0.0, 0.0], [0.04708423838019371, 0.012359374202787876, 0.09104762226343155, 0.027089424431324005, 0.041791193187236786, 0.07165756821632385, 0.022167276591062546, 0.6868032217025757, 0.0, 0.0, 0.0, 0.0, 0.0], [0.07994582504034042, 0.02518540248274803, 0.21819736063480377, 0.026619255542755127, 0.06301821023225784, 0.18010804057121277, 0.03427249193191528, 0.2554190754890442, 0.1172342598438263, 0.0, 0.0, 0.0, 0.0], [0.0449533611536026, 0.0123611344024539, 0.13828520476818085, 0.02555580995976925, 0.04848223552107811, 0.09554440528154373, 0.032144565135240555, 0.21269774436950684, 0.07514355331659317, 0.31483206152915955, 0.0, 0.0, 0.0], [0.04529358446598053, 0.018975790590047836, 0.15371404588222504, 0.021483445540070534, 0.06024804711341858, 0.10553871840238571, 0.019465669989585876, 0.14016960561275482, 0.10570491850376129, 0.25821465253829956, 0.07119141519069672, 0.0, 0.0], [0.13892512023448944, 0.030719436705112457, 0.1004026010632515, 0.058909375220537186, 0.07682513445615768, 0.12165763229131699, 0.042081061750650406, 0.07621211558580399, 0.09917791932821274, 0.11429744958877563, 0.11028222739696503, 0.03050990216434002, 0.0], [0.047971319407224655, 0.013081694953143597, 0.07485175132751465, 0.038131266832351685, 0.03952741622924805, 0.06546054780483246, 0.016060473397374153, 0.28345751762390137, 0.07743655145168304, 0.14477521181106567, 0.06320410966873169, 0.026150604709982872, 0.10989148169755936]], [[1.0, 0.0, 0.0, 0.0, 0.0, 0.0, 0.0, 0.0, 0.0, 0.0, 0.0, 0.0, 0.0], [0.8895199298858643, 0.11048010736703873, 0.0, 0.0, 0.0, 0.0, 0.0, 0.0, 0.0, 0.0, 0.0, 0.0, 0.0], [0.6176966428756714, 0.1625976860523224, 0.21970567107200623, 0.0, 0.0, 0.0, 0.0, 0.0, 0.0, 0.0, 0.0, 0.0, 0.0], [0.5206165909767151, 0.17022910714149475, 0.18644846975803375, 0.12270582467317581, 0.0, 0.0, 0.0, 0.0, 0.0, 0.0, 0.0, 0.0, 0.0], [0.3701520562171936, 0.12806418538093567, 0.1699954867362976, 0.13988251984119415, 0.19190573692321777, 0.0, 0.0, 0.0, 0.0, 0.0, 0.0, 0.0, 0.0], [0.308916836977005, 0.1035785898566246, 0.1424066722393036, 0.1042354479432106, 0.1733677089214325, 0.16749471426010132, 0.0, 0.0, 0.0, 0.0, 0.0, 0.0, 0.0], [0.2980555295944214, 0.09846212714910507, 0.14361359179019928, 0.11737560480833054, 0.17606620490550995, 0.14606335759162903, 0.020363513380289078, 0.0, 0.0, 0.0, 0.0, 0.0, 0.0], [0.2356601059436798, 0.0811467096209526, 0.10899237543344498, 0.09786540269851685, 0.12546971440315247, 0.14249823987483978, 0.08469977974891663, 0.12366770952939987, 0.0, 0.0, 0.0, 0.0, 0.0], [0.21546950936317444, 0.06094910949468613, 0.10482436418533325, 0.06793724745512009, 0.11137478798627853, 0.13132578134536743, 0.06541067361831665, 0.11825189739465714, 0.12445657700300217, 0.0, 0.0, 0.0, 0.0], [0.1684006005525589, 0.06297764927148819, 0.09537505358457565, 0.07225646078586578, 0.10700163245201111, 0.11675789952278137, 0.05641518160700798, 0.10785975307226181, 0.11302915215492249, 0.09992663562297821, 0.0, 0.0, 0.0], [0.16902649402618408, 0.06330050528049469, 0.08442025631666183, 0.06163972243666649, 0.08899740129709244, 0.10813529789447784, 0.06147643178701401, 0.09251591563224792, 0.1062915027141571, 0.08185548335313797, 0.08234097063541412, 0.0, 0.0], [0.15963974595069885, 0.07664330303668976, 0.08035537600517273, 0.060096487402915955, 0.08697055280208588, 0.07591704279184341, 0.06757333874702454, 0.0884600430727005, 0.08383513987064362, 0.07560843229293823, 0.09188350290060043, 0.053017087280750275, 0.0], [0.1483594924211502, 0.04879988729953766, 0.07780197262763977, 0.05413983389735222, 0.08123864978551865, 0.08089910447597504, 0.05659625679254532, 0.08227300643920898, 0.08974725008010864, 0.07773203402757645, 0.09309159219264984, 0.04592856019735336, 0.06339237093925476]], [[1.0, 0.0, 0.0, 0.0, 0.0, 0.0, 0.0, 0.0, 0.0, 0.0, 0.0, 0.0, 0.0], [0.7306041121482849, 0.2693958282470703, 0.0, 0.0, 0.0, 0.0, 0.0, 0.0, 0.0, 0.0, 0.0, 0.0, 0.0], [0.5918698310852051, 0.08326538652181625, 0.3248647153377533, 0.0, 0.0, 0.0, 0.0, 0.0, 0.0, 0.0, 0.0, 0.0, 0.0], [0.4154737591743469, 0.10462472587823868, 0.07895056158304214, 0.40095093846321106, 0.0, 0.0, 0.0, 0.0, 0.0, 0.0, 0.0, 0.0, 0.0], [0.37994569540023804, 0.08549737185239792, 0.13089467585086823, 0.11553521454334259, 0.28812703490257263, 0.0, 0.0, 0.0, 0.0, 0.0, 0.0, 0.0, 0.0], [0.32074812054634094, 0.056913986802101135, 0.12719431519508362, 0.08532318472862244, 0.09015768766403198, 0.31966274976730347, 0.0, 0.0, 0.0, 0.0, 0.0, 0.0, 0.0], [0.2648060917854309, 0.08988562971353531, 0.1153194010257721, 0.0752965658903122, 0.07452308386564255, 0.06800593435764313, 0.31216323375701904, 0.0, 0.0, 0.0, 0.0, 0.0, 0.0], [0.23714366555213928, 0.08676161617040634, 0.13074959814548492, 0.10239732265472412, 0.1090695783495903, 0.11616749316453934, 0.054923295974731445, 0.16278742253780365, 0.0, 0.0, 0.0, 0.0, 0.0], [0.20274290442466736, 0.04412352666258812, 0.11583664268255234, 0.05532166734337807, 0.07042801380157471, 0.13640394806861877, 0.025428729131817818, 0.0687631368637085, 0.28095144033432007, 0.0, 0.0, 0.0, 0.0], [0.1358281672000885, 0.04288020730018616, 0.1777290552854538, 0.04355144873261452, 0.0621986947953701, 0.12460950016975403, 0.027427595108747482, 0.07876887172460556, 0.10778587311506271, 0.19922064244747162, 0.0, 0.0, 0.0], [0.17453059554100037, 0.046879902482032776, 0.07801637798547745, 0.08329720050096512, 0.06562858074903488, 0.11502882838249207, 0.026892034336924553, 0.06862951815128326, 0.07499676942825317, 0.06121784448623657, 0.20488235354423523, 0.0, 0.0], [0.1616135835647583, 0.07988081872463226, 0.064812071621418, 0.04712266847491264, 0.06727991253137589, 0.06475761532783508, 0.041430454701185226, 0.06242648884654045, 0.0577811636030674, 0.05310548096895218, 0.06525127589702606, 0.23453839123249054, 0.0], [0.11024750769138336, 0.0470954030752182, 0.06050210818648338, 0.0674838274717331, 0.052993837743997574, 0.06817466765642166, 0.028196411207318306, 0.09154131263494492, 0.06571045517921448, 0.07004328817129135, 0.06328187137842178, 0.06744794547557831, 0.20728136599063873]], [[1.0, 0.0, 0.0, 0.0, 0.0, 0.0, 0.0, 0.0, 0.0, 0.0, 0.0, 0.0, 0.0], [0.7232556343078613, 0.27674442529678345, 0.0, 0.0, 0.0, 0.0, 0.0, 0.0, 0.0, 0.0, 0.0, 0.0, 0.0], [0.5831720232963562, 0.16733987629413605, 0.24948804080486298, 0.0, 0.0, 0.0, 0.0, 0.0, 0.0, 0.0, 0.0, 0.0, 0.0], [0.5470487475395203, 0.10833191126585007, 0.1377040147781372, 0.20691534876823425, 0.0, 0.0, 0.0, 0.0, 0.0, 0.0, 0.0, 0.0, 0.0], [0.3531273603439331, 0.11880332976579666, 0.15157777070999146, 0.13798201084136963, 0.2385096549987793, 0.0, 0.0, 0.0, 0.0, 0.0, 0.0, 0.0, 0.0], [0.30159059166908264, 0.10989759117364883, 0.1012144535779953, 0.11723966151475906, 0.21310576796531677, 0.15695205330848694, 0.0, 0.0, 0.0, 0.0, 0.0, 0.0, 0.0], [0.2602176368236542, 0.09659183770418167, 0.06850839406251907, 0.08260013908147812, 0.1279030293226242, 0.0978650376200676, 0.2663138508796692, 0.0, 0.0, 0.0, 0.0, 0.0, 0.0], [0.20573920011520386, 0.08972012996673584, 0.08287109434604645, 0.09501298516988754, 0.14011378586292267, 0.09538524597883224, 0.11382698267698288, 0.17733053863048553, 0.0, 0.0, 0.0, 0.0, 0.0], [0.1746102273464203, 0.08206024020910263, 0.07778390496969223, 0.09453774243593216, 0.14202803373336792, 0.09331979602575302, 0.0971895381808281, 0.1905626654624939, 0.04790791869163513, 0.0, 0.0, 0.0, 0.0], [0.2119857370853424, 0.06616955250501633, 0.07381509244441986, 0.07959349453449249, 0.12451446056365967, 0.07145652174949646, 0.09001335501670837, 0.13653746247291565, 0.04914700612425804, 0.09676729142665863, 0.0, 0.0, 0.0], [0.2135704904794693, 0.06190392002463341, 0.0442890003323555, 0.08414999395608902, 0.12606550753116608, 0.04868283495306969, 0.06634806096553802, 0.13592615723609924, 0.04801100865006447, 0.046511635184288025, 0.12454140931367874, 0.0, 0.0], [0.17835746705532074, 0.04577977582812309, 0.07111833244562149, 0.052621468901634216, 0.1261652410030365, 0.0556991770863533, 0.053476788103580475, 0.12775474786758423, 0.04238544777035713, 0.08749651908874512, 0.0985569953918457, 0.06058812886476517, 0.0], [0.11520939320325851, 0.09171769767999649, 0.05006254464387894, 0.07495631277561188, 0.07409742474555969, 0.07301460206508636, 0.09328830987215042, 0.10295610874891281, 0.025841111317276955, 0.0544765330851078, 0.07928917557001114, 0.0944499596953392, 0.07064081728458405]]], [[[1.0, 0.0, 0.0, 0.0, 0.0, 0.0, 0.0, 0.0, 0.0, 0.0, 0.0, 0.0, 0.0], [0.998668909072876, 0.0013310753274708986, 0.0, 0.0, 0.0, 0.0, 0.0, 0.0, 0.0, 0.0, 0.0, 0.0, 0.0], [0.9152443408966064, 0.04289988800883293, 0.04185580834746361, 0.0, 0.0, 0.0, 0.0, 0.0, 0.0, 0.0, 0.0, 0.0, 0.0], [0.5948100686073303, 0.03601321578025818, 0.32852038741111755, 0.04065635800361633, 0.0, 0.0, 0.0, 0.0, 0.0, 0.0, 0.0, 0.0, 0.0], [0.3042398691177368, 0.066643625497818, 0.22162842750549316, 0.29248419404029846, 0.11500389128923416, 0.0, 0.0, 0.0, 0.0, 0.0, 0.0, 0.0, 0.0], [0.36502179503440857, 0.039988286793231964, 0.12444671243429184, 0.11944448202848434, 0.2623855173587799, 0.08871320635080338, 0.0, 0.0, 0.0, 0.0, 0.0, 0.0, 0.0], [0.15660570561885834, 0.035096146166324615, 0.05353080481290817, 0.08873222023248672, 0.14622393250465393, 0.3834974467754364, 0.13631370663642883, 0.0, 0.0, 0.0, 0.0, 0.0, 0.0], [0.17949576675891876, 0.052994295954704285, 0.12063010782003403, 0.06203831359744072, 0.16024740040302277, 0.14953681826591492, 0.15736185014247894, 0.11769549548625946, 0.0, 0.0, 0.0, 0.0, 0.0], [0.17220589518547058, 0.03618881106376648, 0.10204456001520157, 0.024552620947360992, 0.18677900731563568, 0.05587222799658775, 0.13046970963478088, 0.17612147331237793, 0.11576567590236664, 0.0, 0.0, 0.0, 0.0], [0.03985660895705223, 0.008272182196378708, 0.005698029417544603, 0.006421441212296486, 0.018414152786135674, 0.05415479838848114, 0.028975870460271835, 0.07732667028903961, 0.6435032486915588, 0.1173768863081932, 0.0, 0.0, 0.0], [0.0455629788339138, 0.005693572573363781, 0.021159352734684944, 0.015253688208758831, 0.013809028081595898, 0.020858213305473328, 0.010381828993558884, 0.04958826303482056, 0.2123582661151886, 0.49960511922836304, 0.10572974383831024, 0.0, 0.0], [0.03214770555496216, 0.0024631768465042114, 0.013613550923764706, 0.0015395008958876133, 0.010686046443879604, 0.012740961275994778, 0.014896963723003864, 0.04739752411842346, 0.22670729458332062, 0.2513248324394226, 0.2784622013568878, 0.10802032798528671, 0.0], [0.04965638741850853, 0.00895017758011818, 0.017295585945248604, 0.007840616628527641, 0.013033181428909302, 0.01691707968711853, 0.01135407853871584, 0.039126135408878326, 0.09981594234704971, 0.13862179219722748, 0.1469639241695404, 0.3064463436603546, 0.14397871494293213]], [[1.0, 0.0, 0.0, 0.0, 0.0, 0.0, 0.0, 0.0, 0.0, 0.0, 0.0, 0.0, 0.0], [0.9773041605949402, 0.022695843130350113, 0.0, 0.0, 0.0, 0.0, 0.0, 0.0, 0.0, 0.0, 0.0, 0.0, 0.0], [0.8388814330101013, 0.06300575286149979, 0.09811285138130188, 0.0, 0.0, 0.0, 0.0, 0.0, 0.0, 0.0, 0.0, 0.0, 0.0], [0.612656831741333, 0.06832567602396011, 0.23705805838108063, 0.08195939660072327, 0.0, 0.0, 0.0, 0.0, 0.0, 0.0, 0.0, 0.0, 0.0], [0.4865952432155609, 0.06340781599283218, 0.1586664319038391, 0.15846602618694305, 0.13286451995372772, 0.0, 0.0, 0.0, 0.0, 0.0, 0.0, 0.0, 0.0], [0.4277236759662628, 0.03975530341267586, 0.08181385695934296, 0.1306408941745758, 0.2023974061012268, 0.11766889691352844, 0.0, 0.0, 0.0, 0.0, 0.0, 0.0, 0.0], [0.30647310614585876, 0.024025194346904755, 0.06818817555904388, 0.06319739669561386, 0.19075128436088562, 0.24413155019283295, 0.10323336720466614, 0.0, 0.0, 0.0, 0.0, 0.0, 0.0], [0.3271782398223877, 0.036778878420591354, 0.06219654902815819, 0.04131000488996506, 0.10043274611234665, 0.09991184622049332, 0.07705072313547134, 0.2551409900188446, 0.0, 0.0, 0.0, 0.0, 0.0], [0.09599743783473969, 0.020981591194868088, 0.03237302973866463, 0.028098689392209053, 0.057111192494630814, 0.050272922962903976, 0.074690081179142, 0.5461976528167725, 0.09427743405103683, 0.0, 0.0, 0.0, 0.0], [0.09627165645360947, 0.013006186112761497, 0.013458887115120888, 0.022578440606594086, 0.03156333789229393, 0.05887441709637642, 0.04467686265707016, 0.38415583968162537, 0.23123133182525635, 0.10418310761451721, 0.0, 0.0, 0.0], [0.0533619299530983, 0.012315420433878899, 0.01664484292268753, 0.020180290564894676, 0.03425491973757744, 0.038079578429460526, 0.04287775233387947, 0.26596179604530334, 0.21253006160259247, 0.21065376698970795, 0.09313967078924179, 0.0, 0.0], [0.04249122366309166, 0.0040597072802484035, 0.012383338995277882, 0.010981477797031403, 0.026296433061361313, 0.030067969113588333, 0.02551909349858761, 0.20922212302684784, 0.1148981899023056, 0.1951812356710434, 0.1961238980293274, 0.13277533650398254, 0.0], [0.08217327296733856, 0.0070350500755012035, 0.014026755467057228, 0.011733791790902615, 0.015267372131347656, 0.024079004302620888, 0.015545623376965523, 0.14962129294872284, 0.08822385966777802, 0.10319721698760986, 0.12286040186882019, 0.09594419598579407, 0.27029210329055786]], [[1.0, 0.0, 0.0, 0.0, 0.0, 0.0, 0.0, 0.0, 0.0, 0.0, 0.0, 0.0, 0.0], [0.9906467199325562, 0.009353349916636944, 0.0, 0.0, 0.0, 0.0, 0.0, 0.0, 0.0, 0.0, 0.0, 0.0, 0.0], [0.7894514203071594, 0.021147409453988075, 0.18940113484859467, 0.0, 0.0, 0.0, 0.0, 0.0, 0.0, 0.0, 0.0, 0.0, 0.0], [0.6660369634628296, 0.023764126002788544, 0.17578661441802979, 0.1344122588634491, 0.0, 0.0, 0.0, 0.0, 0.0, 0.0, 0.0, 0.0, 0.0], [0.4820787012577057, 0.022583704441785812, 0.14013752341270447, 0.11237139254808426, 0.24282871186733246, 0.0, 0.0, 0.0, 0.0, 0.0, 0.0, 0.0, 0.0], [0.36149293184280396, 0.02032415382564068, 0.11577687412500381, 0.09007076919078827, 0.19864404201507568, 0.21369123458862305, 0.0, 0.0, 0.0, 0.0, 0.0, 0.0, 0.0], [0.31789278984069824, 0.01741831935942173, 0.1078711524605751, 0.0793839693069458, 0.1851980835199356, 0.179803267121315, 0.11243240535259247, 0.0, 0.0, 0.0, 0.0, 0.0, 0.0], [0.22227925062179565, 0.015463853254914284, 0.07591743767261505, 0.05767706781625748, 0.11695566028356552, 0.12686526775360107, 0.08224768191576004, 0.30259379744529724, 0.0, 0.0, 0.0, 0.0, 0.0], [0.17126795649528503, 0.014113514684140682, 0.06608443707227707, 0.050296928733587265, 0.10156560689210892, 0.11027839779853821, 0.06825809180736542, 0.2487121820449829, 0.16942286491394043, 0.0, 0.0, 0.0, 0.0], [0.13378751277923584, 0.014240103773772717, 0.06503076106309891, 0.044814929366111755, 0.08886298537254333, 0.08607731014490128, 0.05987503007054329, 0.20616519451141357, 0.12185681611299515, 0.17928943037986755, 0.0, 0.0, 0.0], [0.11992824822664261, 0.014267935417592525, 0.05135143920779228, 0.04084043577313423, 0.0779549777507782, 0.0787847489118576, 0.055454954504966736, 0.17367218434810638, 0.11397320032119751, 0.1399708390235901, 0.13380099833011627, 0.0, 0.0], [0.09481389075517654, 0.01505087036639452, 0.05069492757320404, 0.03866490349173546, 0.07610064744949341, 0.0709703117609024, 0.051676880568265915, 0.16494397819042206, 0.10022851079702377, 0.12244804948568344, 0.11123763769865036, 0.10316936671733856, 0.0], [0.08464797586202621, 0.01200133841484785, 0.03911780193448067, 0.029654333367943764, 0.05411442369222641, 0.05916252359747887, 0.04157805070281029, 0.12903337180614471, 0.0876360610127449, 0.10251963883638382, 0.10233892500400543, 0.09311049431562424, 0.1650850772857666]], [[1.0, 0.0, 0.0, 0.0, 0.0, 0.0, 0.0, 0.0, 0.0, 0.0, 0.0, 0.0, 0.0], [0.5512685775756836, 0.4487314522266388, 0.0, 0.0, 0.0, 0.0, 0.0, 0.0, 0.0, 0.0, 0.0, 0.0, 0.0], [0.5483946800231934, 0.21466828882694244, 0.236937016248703, 0.0, 0.0, 0.0, 0.0, 0.0, 0.0, 0.0, 0.0, 0.0, 0.0], [0.5095541477203369, 0.15375681221485138, 0.1706848293542862, 0.16600415110588074, 0.0, 0.0, 0.0, 0.0, 0.0, 0.0, 0.0, 0.0, 0.0], [0.5015922784805298, 0.10513486713171005, 0.12368403375148773, 0.12299637496471405, 0.1465924233198166, 0.0, 0.0, 0.0, 0.0, 0.0, 0.0, 0.0, 0.0], [0.4931105971336365, 0.08105029910802841, 0.0976274237036705, 0.09343017637729645, 0.11893144249916077, 0.11585008352994919, 0.0, 0.0, 0.0, 0.0, 0.0, 0.0, 0.0], [0.48466941714286804, 0.0654771625995636, 0.08119940757751465, 0.07822781056165695, 0.10101062059402466, 0.0934893935918808, 0.09592623263597488, 0.0, 0.0, 0.0, 0.0, 0.0, 0.0], [0.4760619103908539, 0.051485780626535416, 0.06539490073919296, 0.06296218931674957, 0.07750244438648224, 0.07400794327259064, 0.07480982691049576, 0.11777495592832565, 0.0, 0.0, 0.0, 0.0, 0.0], [0.47571614384651184, 0.041874658316373825, 0.051956530660390854, 0.051228445023298264, 0.06318624317646027, 0.06379182636737823, 0.06057489663362503, 0.10587659478187561, 0.08579462766647339, 0.0, 0.0, 0.0, 0.0], [0.4914557933807373, 0.03217402100563049, 0.04444672539830208, 0.0408116951584816, 0.053104475140571594, 0.05051908269524574, 0.050880614668130875, 0.08827675133943558, 0.06691912561655045, 0.08141159266233444, 0.0, 0.0, 0.0], [0.5107197165489197, 0.025044819340109825, 0.03326157480478287, 0.03323454409837723, 0.0429648794233799, 0.044207487255334854, 0.041773565113544464, 0.07563559710979462, 0.061056703329086304, 0.06846354156732559, 0.06363757699728012, 0.0, 0.0], [0.5443220734596252, 0.020763354375958443, 0.027269084006547928, 0.02637294866144657, 0.03511187806725502, 0.033739153295755386, 0.033840112388134, 0.06492491811513901, 0.046891890466213226, 0.05427318066358566, 0.049836743623018265, 0.06265472620725632, 0.0], [0.5089981555938721, 0.01882469840347767, 0.025144854560494423, 0.023114554584026337, 0.03002311661839485, 0.029906688258051872, 0.02961951307952404, 0.054096270352602005, 0.0416584312915802, 0.047633904963731766, 0.044461071491241455, 0.05675415322184563, 0.08976463228464127]], [[1.0, 0.0, 0.0, 0.0, 0.0, 0.0, 0.0, 0.0, 0.0, 0.0, 0.0, 0.0, 0.0], [0.9051733613014221, 0.09482661634683609, 0.0, 0.0, 0.0, 0.0, 0.0, 0.0, 0.0, 0.0, 0.0, 0.0, 0.0], [0.8116108775138855, 0.09292775392532349, 0.0954613983631134, 0.0, 0.0, 0.0, 0.0, 0.0, 0.0, 0.0, 0.0, 0.0, 0.0], [0.7268962860107422, 0.09007737785577774, 0.08830935508012772, 0.09471696615219116, 0.0, 0.0, 0.0, 0.0, 0.0, 0.0, 0.0, 0.0, 0.0], [0.6383160948753357, 0.0844593495130539, 0.07692530006170273, 0.08861982077360153, 0.11167943477630615, 0.0, 0.0, 0.0, 0.0, 0.0, 0.0, 0.0, 0.0], [0.5790510773658752, 0.07261095196008682, 0.07039688527584076, 0.0733131542801857, 0.10031325370073318, 0.1043146550655365, 0.0, 0.0, 0.0, 0.0, 0.0, 0.0, 0.0], [0.5624297261238098, 0.05649051442742348, 0.061868198215961456, 0.05726221203804016, 0.08218494802713394, 0.07559482753276825, 0.10416965186595917, 0.0, 0.0, 0.0, 0.0, 0.0, 0.0], [0.431811660528183, 0.06815055012702942, 0.06173550710082054, 0.06023038178682327, 0.07907575368881226, 0.08103032410144806, 0.10586564987897873, 0.11210012435913086, 0.0, 0.0, 0.0, 0.0, 0.0], [0.4021473228931427, 0.053725387901067734, 0.0527784526348114, 0.05033840611577034, 0.06849528104066849, 0.07244891673326492, 0.08912067860364914, 0.09642114490270615, 0.1145244836807251, 0.0, 0.0, 0.0, 0.0], [0.37156182527542114, 0.050174910575151443, 0.055095646530389786, 0.048353347927331924, 0.06431932747364044, 0.05631673336029053, 0.078102245926857, 0.08487826585769653, 0.08051051199436188, 0.11068712174892426, 0.0, 0.0, 0.0], [0.35960128903388977, 0.0436202697455883, 0.03980344533920288, 0.040309783071279526, 0.05367760732769966, 0.05376265197992325, 0.07235388457775116, 0.07345444709062576, 0.08662835508584976, 0.08742960542440414, 0.08935867995023727, 0.0, 0.0], [0.32015490531921387, 0.03500351309776306, 0.035848263651132584, 0.03695981577038765, 0.05066993087530136, 0.04602731764316559, 0.059897199273109436, 0.07388003170490265, 0.06978193670511246, 0.07402876019477844, 0.08170265704393387, 0.11604568362236023, 0.0], [0.2774621248245239, 0.034830473363399506, 0.032648153603076935, 0.031723752617836, 0.04110667482018471, 0.04363640025258064, 0.05170457437634468, 0.06147759407758713, 0.06685249507427216, 0.06833849102258682, 0.07478754967451096, 0.11018320918083191, 0.10524856299161911]], [[1.0, 0.0, 0.0, 0.0, 0.0, 0.0, 0.0, 0.0, 0.0, 0.0, 0.0, 0.0, 0.0], [0.9286354184150696, 0.07136457413434982, 0.0, 0.0, 0.0, 0.0, 0.0, 0.0, 0.0, 0.0, 0.0, 0.0, 0.0], [0.8851327896118164, 0.04562337324023247, 0.0692439004778862, 0.0, 0.0, 0.0, 0.0, 0.0, 0.0, 0.0, 0.0, 0.0, 0.0], [0.825941801071167, 0.08108014613389969, 0.03136914595961571, 0.06160891801118851, 0.0, 0.0, 0.0, 0.0, 0.0, 0.0, 0.0, 0.0, 0.0], [0.5832117795944214, 0.0410812571644783, 0.017735587432980537, 0.02021835744380951, 0.337753027677536, 0.0, 0.0, 0.0, 0.0, 0.0, 0.0, 0.0, 0.0], [0.571128785610199, 0.03352850675582886, 0.06736767292022705, 0.04674419388175011, 0.12003269046545029, 0.161198228597641, 0.0, 0.0, 0.0, 0.0, 0.0, 0.0, 0.0], [0.5027966499328613, 0.06201079115271568, 0.03150319680571556, 0.03219827637076378, 0.1238887682557106, 0.09142447263002396, 0.15617775917053223, 0.0, 0.0, 0.0, 0.0, 0.0, 0.0], [0.5314909815788269, 0.019465703517198563, 0.0383242703974247, 0.037707120180130005, 0.050714097917079926, 0.13126564025878906, 0.014015927910804749, 0.1770162135362625, 0.0, 0.0, 0.0, 0.0, 0.0], [0.37880629301071167, 0.013210486620664597, 0.047926366329193115, 0.009972433559596539, 0.029716333374381065, 0.19855082035064697, 0.004004495684057474, 0.08927642554044724, 0.22853630781173706, 0.0, 0.0, 0.0, 0.0], [0.3801708519458771, 0.01670420542359352, 0.12247147411108017, 0.01165276113897562, 0.04052821174263954, 0.08691149950027466, 0.007087249308824539, 0.10491418093442917, 0.03945023939013481, 0.1901092827320099, 0.0, 0.0, 0.0], [0.2708798348903656, 0.014032362960278988, 0.026959678158164024, 0.02978372760117054, 0.06285017728805542, 0.1452646702528, 0.00345475017093122, 0.12767010927200317, 0.07161667943000793, 0.06952271610498428, 0.17796535789966583, 0.0, 0.0], [0.2101297825574875, 0.024684671312570572, 0.02592848613858223, 0.008564533665776253, 0.06706651300191879, 0.08345304429531097, 0.046168599277734756, 0.13737821578979492, 0.10025633871555328, 0.0526922233402729, 0.1791073977947235, 0.06457018852233887, 0.0], [0.3069305717945099, 0.014499478973448277, 0.024306952953338623, 0.011693720705807209, 0.03361395001411438, 0.05507146567106247, 0.004620076157152653, 0.12392941862344742, 0.04938726872205734, 0.03436888009309769, 0.04072302579879761, 0.021842412650585175, 0.2790127098560333]], [[1.0, 0.0, 0.0, 0.0, 0.0, 0.0, 0.0, 0.0, 0.0, 0.0, 0.0, 0.0, 0.0], [0.970160722732544, 0.029839353635907173, 0.0, 0.0, 0.0, 0.0, 0.0, 0.0, 0.0, 0.0, 0.0, 0.0, 0.0], [0.834440290927887, 0.07031775265932083, 0.09524191915988922, 0.0, 0.0, 0.0, 0.0, 0.0, 0.0, 0.0, 0.0, 0.0, 0.0], [0.7566187381744385, 0.07301473617553711, 0.06855525821447372, 0.10181125998497009, 0.0, 0.0, 0.0, 0.0, 0.0, 0.0, 0.0, 0.0, 0.0], [0.5618048906326294, 0.1719568371772766, 0.1250908374786377, 0.10405793786048889, 0.0370895192027092, 0.0, 0.0, 0.0, 0.0, 0.0, 0.0, 0.0, 0.0], [0.6703205108642578, 0.06189519166946411, 0.14566636085510254, 0.03557177633047104, 0.04760576784610748, 0.03894038498401642, 0.0, 0.0, 0.0, 0.0, 0.0, 0.0, 0.0], [0.5982233881950378, 0.05065878480672836, 0.023177318274974823, 0.046669818460941315, 0.039923712611198425, 0.02788371592760086, 0.21346323192119598, 0.0, 0.0, 0.0, 0.0, 0.0, 0.0], [0.6410824060440063, 0.05123361200094223, 0.027280861511826515, 0.017358949407935143, 0.02258526161313057, 0.02929540164768696, 0.0818670392036438, 0.1292964667081833, 0.0, 0.0, 0.0, 0.0, 0.0], [0.4707190990447998, 0.07707782089710236, 0.043032631278038025, 0.0348263643682003, 0.0560460165143013, 0.0609416700899601, 0.16768963634967804, 0.0624372698366642, 0.02722945436835289, 0.0, 0.0, 0.0, 0.0], [0.5017388463020325, 0.07054775953292847, 0.03584495559334755, 0.03810317441821098, 0.062088437378406525, 0.054426174610853195, 0.08376016467809677, 0.06624266505241394, 0.05529356002807617, 0.03195422515273094, 0.0, 0.0, 0.0], [0.4457751214504242, 0.07659578323364258, 0.08919645100831985, 0.025629689916968346, 0.054753534495830536, 0.06303822249174118, 0.03886640444397926, 0.04948586970567703, 0.055132314562797546, 0.0841013640165329, 0.017425334081053734, 0.0, 0.0], [0.43324869871139526, 0.02329256944358349, 0.040949176996946335, 0.029168248176574707, 0.03914063796401024, 0.06831657141447067, 0.03745095059275627, 0.15435519814491272, 0.03748227655887604, 0.0379425473511219, 0.023904044181108475, 0.07474906742572784, 0.0], [0.4068261981010437, 0.034299593418836594, 0.0239554550498724, 0.01980656571686268, 0.01740155555307865, 0.02413014881312847, 0.020254824310541153, 0.29706576466560364, 0.020743686705827713, 0.02184956520795822, 0.013047910295426846, 0.0163723211735487, 0.08424641191959381]], [[1.0, 0.0, 0.0, 0.0, 0.0, 0.0, 0.0, 0.0, 0.0, 0.0, 0.0, 0.0, 0.0], [0.9531509280204773, 0.04684901982545853, 0.0, 0.0, 0.0, 0.0, 0.0, 0.0, 0.0, 0.0, 0.0, 0.0, 0.0], [0.8755214214324951, 0.07267269492149353, 0.05180591344833374, 0.0, 0.0, 0.0, 0.0, 0.0, 0.0, 0.0, 0.0, 0.0, 0.0], [0.7350606918334961, 0.14316587150096893, 0.06738726049661636, 0.05438624322414398, 0.0, 0.0, 0.0, 0.0, 0.0, 0.0, 0.0, 0.0, 0.0], [0.7157654762268066, 0.07619807124137878, 0.0661211907863617, 0.07838451862335205, 0.06353073567152023, 0.0, 0.0, 0.0, 0.0, 0.0, 0.0, 0.0, 0.0], [0.6361215710639954, 0.10049927979707718, 0.08873286098241806, 0.055755630135536194, 0.06333998590707779, 0.05555066466331482, 0.0, 0.0, 0.0, 0.0, 0.0, 0.0, 0.0], [0.5631791353225708, 0.1421012580394745, 0.06919430196285248, 0.04453406482934952, 0.04387737810611725, 0.035530298948287964, 0.1015835702419281, 0.0, 0.0, 0.0, 0.0, 0.0, 0.0], [0.49394816160202026, 0.08444725722074509, 0.05999355763196945, 0.05023879185318947, 0.05797045677900314, 0.05435050651431084, 0.12377723306417465, 0.07527400553226471, 0.0, 0.0, 0.0, 0.0, 0.0], [0.4752741754055023, 0.07864751666784286, 0.052972473204135895, 0.041731782257556915, 0.04700500890612602, 0.052154477685689926, 0.1403408646583557, 0.08148487657308578, 0.030388884246349335, 0.0, 0.0, 0.0, 0.0], [0.4233587384223938, 0.07367616146802902, 0.07280940562486649, 0.04501976817846298, 0.05656711757183075, 0.040706828236579895, 0.1148405373096466, 0.08048279583454132, 0.032503463327884674, 0.06003519147634506, 0.0, 0.0, 0.0], [0.4454931616783142, 0.06990024447441101, 0.04655614122748375, 0.04499027505517006, 0.05968627333641052, 0.031158117577433586, 0.10016510635614395, 0.08101563155651093, 0.0308338962495327, 0.04132334515452385, 0.04887780919671059, 0.0, 0.0], [0.3411064147949219, 0.07891229540109634, 0.07069093734025955, 0.05028622969985008, 0.047697000205516815, 0.03471675142645836, 0.11576811224222183, 0.09378986060619354, 0.02927071787416935, 0.05884258821606636, 0.05278598144650459, 0.026133058592677116, 0.0], [0.33713337779045105, 0.06439737975597382, 0.06765841692686081, 0.045980680733919144, 0.03086371161043644, 0.03776523098349571, 0.13388589024543762, 0.06588941812515259, 0.02901860699057579, 0.044595956802368164, 0.03732374683022499, 0.04387471452355385, 0.06161290779709816]], [[1.0, 0.0, 0.0, 0.0, 0.0, 0.0, 0.0, 0.0, 0.0, 0.0, 0.0, 0.0, 0.0], [0.9441121220588684, 0.055887918919324875, 0.0, 0.0, 0.0, 0.0, 0.0, 0.0, 0.0, 0.0, 0.0, 0.0, 0.0], [0.8549568057060242, 0.0506991446018219, 0.09434407204389572, 0.0, 0.0, 0.0, 0.0, 0.0, 0.0, 0.0, 0.0, 0.0, 0.0], [0.8085590600967407, 0.040803611278533936, 0.08177044987678528, 0.06886683404445648, 0.0, 0.0, 0.0, 0.0, 0.0, 0.0, 0.0, 0.0, 0.0], [0.6747403740882874, 0.05432669073343277, 0.09009180217981339, 0.08293796330690384, 0.09790313988924026, 0.0, 0.0, 0.0, 0.0, 0.0, 0.0, 0.0, 0.0], [0.5532236099243164, 0.045779768377542496, 0.08091137558221817, 0.07978259027004242, 0.10009002685546875, 0.1402125507593155, 0.0, 0.0, 0.0, 0.0, 0.0, 0.0, 0.0], [0.5230064988136292, 0.04194212332367897, 0.0892510786652565, 0.07179185748100281, 0.12207774817943573, 0.10473736375570297, 0.04719338193535805, 0.0, 0.0, 0.0, 0.0, 0.0, 0.0], [0.3904940187931061, 0.05275357887148857, 0.08844822645187378, 0.05546765401959419, 0.08076202124357224, 0.08790417015552521, 0.05694635584950447, 0.18722401559352875, 0.0, 0.0, 0.0, 0.0, 0.0], [0.3643462061882019, 0.03914498910307884, 0.08215470612049103, 0.0521281398832798, 0.0700107291340828, 0.09281829744577408, 0.04579692706465721, 0.15290232002735138, 0.10069768130779266, 0.0, 0.0, 0.0, 0.0], [0.35671818256378174, 0.034694697707891464, 0.05965622887015343, 0.05011984705924988, 0.0666990652680397, 0.08262086659669876, 0.03921624273061752, 0.13917003571987152, 0.08460492640733719, 0.08649995923042297, 0.0, 0.0, 0.0], [0.3305560052394867, 0.032330770045518875, 0.044492561370134354, 0.04588981717824936, 0.06681247800588608, 0.07872835546731949, 0.03684913367033005, 0.1315709501504898, 0.09156639873981476, 0.07193779200315475, 0.06926572322845459, 0.0, 0.0], [0.2888724207878113, 0.03375439718365669, 0.05076338350772858, 0.055357906967401505, 0.07012194395065308, 0.07644166052341461, 0.04436323791742325, 0.1224873885512352, 0.07576459646224976, 0.07516166567802429, 0.06489024311304092, 0.04202112928032875, 0.0], [0.26139596104621887, 0.03593503311276436, 0.053379323333501816, 0.048668961971998215, 0.0563623420894146, 0.0748400166630745, 0.046618059277534485, 0.11451376229524612, 0.06635116040706635, 0.06954000145196915, 0.04965509846806526, 0.03673943877220154, 0.08600085973739624]], [[1.0, 0.0, 0.0, 0.0, 0.0, 0.0, 0.0, 0.0, 0.0, 0.0, 0.0, 0.0, 0.0], [0.9788995385169983, 0.021100429818034172, 0.0, 0.0, 0.0, 0.0, 0.0, 0.0, 0.0, 0.0, 0.0, 0.0, 0.0], [0.9189168214797974, 0.026676667854189873, 0.054406438022851944, 0.0, 0.0, 0.0, 0.0, 0.0, 0.0, 0.0, 0.0, 0.0, 0.0], [0.9050089716911316, 0.01622217893600464, 0.03487009555101395, 0.043898746371269226, 0.0, 0.0, 0.0, 0.0, 0.0, 0.0, 0.0, 0.0, 0.0], [0.780325710773468, 0.027547454461455345, 0.06304791569709778, 0.0589325837790966, 0.07014636695384979, 0.0, 0.0, 0.0, 0.0, 0.0, 0.0, 0.0, 0.0], [0.6299654245376587, 0.028497908264398575, 0.07094015181064606, 0.04705701395869255, 0.08507538586854935, 0.1384640634059906, 0.0, 0.0, 0.0, 0.0, 0.0, 0.0, 0.0], [0.6253737211227417, 0.02636980637907982, 0.0715741217136383, 0.04803190380334854, 0.06832610815763474, 0.1424466222524643, 0.017877649515867233, 0.0, 0.0, 0.0, 0.0, 0.0, 0.0], [0.5229063034057617, 0.038376037031412125, 0.057881828397512436, 0.0431881807744503, 0.09912531077861786, 0.13296519219875336, 0.036974888294935226, 0.06858222186565399, 0.0, 0.0, 0.0, 0.0, 0.0], [0.4501422643661499, 0.020516855642199516, 0.05801013857126236, 0.040439218282699585, 0.10750430077314377, 0.11812368780374527, 0.03153010457754135, 0.06193806976079941, 0.11179543286561966, 0.0, 0.0, 0.0, 0.0], [0.4692952334880829, 0.02070404402911663, 0.03919820487499237, 0.03538203984498978, 0.07775764167308807, 0.11099272966384888, 0.025535134598612785, 0.049445148557424545, 0.10399752855300903, 0.06769238412380219, 0.0, 0.0, 0.0], [0.43167826533317566, 0.015715934336185455, 0.03856918588280678, 0.023833034560084343, 0.061839327216148376, 0.11088845133781433, 0.027738673612475395, 0.04192948713898659, 0.1291750967502594, 0.07103828340768814, 0.047594211995601654, 0.0, 0.0], [0.4545857906341553, 0.02000100538134575, 0.03625323250889778, 0.037803348153829575, 0.05309252440929413, 0.09611812233924866, 0.04282336309552193, 0.04596123844385147, 0.07258773595094681, 0.06199903413653374, 0.06164973974227905, 0.017124885693192482, 0.0], [0.35443055629730225, 0.026202725246548653, 0.054454825818538666, 0.03924698382616043, 0.06947846710681915, 0.08582936972379684, 0.03834662213921547, 0.040022920817136765, 0.06590571999549866, 0.07769042253494263, 0.06268508732318878, 0.020174920558929443, 0.0655314177274704]], [[1.0, 0.0, 0.0, 0.0, 0.0, 0.0, 0.0, 0.0, 0.0, 0.0, 0.0, 0.0, 0.0], [0.00023652089294046164, 0.9997634291648865, 0.0, 0.0, 0.0, 0.0, 0.0, 0.0, 0.0, 0.0, 0.0, 0.0, 0.0], [0.0005866618594154716, 0.5147151350975037, 0.48469823598861694, 0.0, 0.0, 0.0, 0.0, 0.0, 0.0, 0.0, 0.0, 0.0, 0.0], [0.0007919373456388712, 0.3505919575691223, 0.32565832138061523, 0.32295775413513184, 0.0, 0.0, 0.0, 0.0, 0.0, 0.0, 0.0, 0.0, 0.0], [0.0009337954688817263, 0.24635183811187744, 0.2379375547170639, 0.2425372451543808, 0.2722395956516266, 0.0, 0.0, 0.0, 0.0, 0.0, 0.0, 0.0, 0.0], [0.0013101064832881093, 0.18490995466709137, 0.1820244938135147, 0.18799622356891632, 0.22428612411022186, 0.21947310864925385, 0.0, 0.0, 0.0, 0.0, 0.0, 0.0, 0.0], [0.0009166845702566206, 0.14951378107070923, 0.1419549286365509, 0.14778009057044983, 0.18435586988925934, 0.16521136462688446, 0.21026718616485596, 0.0, 0.0, 0.0, 0.0, 0.0, 0.0], [0.0016759929712861776, 0.11213267594575882, 0.11605473607778549, 0.11705362051725388, 0.13860903680324554, 0.13615857064723969, 0.17410215735435486, 0.2042131870985031, 0.0, 0.0, 0.0, 0.0, 0.0], [0.0013566093984991312, 0.0916651040315628, 0.09526773542165756, 0.09837948530912399, 0.11685716360807419, 0.11492035537958145, 0.14000308513641357, 0.17238128185272217, 0.16916926205158234, 0.0, 0.0, 0.0, 0.0], [0.0017920754617080092, 0.07436428219079971, 0.08547446876764297, 0.08083439618349075, 0.09934136271476746, 0.09325134009122849, 0.11791062355041504, 0.14630569517612457, 0.13711310923099518, 0.1636127084493637, 0.0, 0.0, 0.0], [0.0022937527392059565, 0.06603763997554779, 0.06467407941818237, 0.07264470309019089, 0.08405788987874985, 0.08428418636322021, 0.10052680969238281, 0.12480349093675613, 0.12648449838161469, 0.13258495926856995, 0.14160796999931335, 0.0, 0.0], [0.0023934391792863607, 0.053347330540418625, 0.05680244415998459, 0.05946040526032448, 0.07079906016588211, 0.06922902911901474, 0.08176756650209427, 0.10867425054311752, 0.09868472069501877, 0.11243502795696259, 0.11698882281780243, 0.16941793262958527, 0.0], [0.0027296014595776796, 0.04071969538927078, 0.04407805949449539, 0.04579295963048935, 0.05534766614437103, 0.05559978634119034, 0.06505364924669266, 0.08726789057254791, 0.08344529569149017, 0.08790254592895508, 0.09652118384838104, 0.13746266067028046, 0.19807904958724976]], [[1.0, 0.0, 0.0, 0.0, 0.0, 0.0, 0.0, 0.0, 0.0, 0.0, 0.0, 0.0, 0.0], [0.38706132769584656, 0.6129387021064758, 0.0, 0.0, 0.0, 0.0, 0.0, 0.0, 0.0, 0.0, 0.0, 0.0, 0.0], [0.32524800300598145, 0.0018706893315538764, 0.6728813648223877, 0.0, 0.0, 0.0, 0.0, 0.0, 0.0, 0.0, 0.0, 0.0, 0.0], [0.1276465654373169, 0.003996634855866432, 0.003705659182742238, 0.8646512031555176, 0.0, 0.0, 0.0, 0.0, 0.0, 0.0, 0.0, 0.0, 0.0], [0.10183335840702057, 0.0020551253110170364, 0.002070504240691662, 0.0005763029912486672, 0.8934647440910339, 0.0, 0.0, 0.0, 0.0, 0.0, 0.0, 0.0, 0.0], [0.1148190051317215, 0.0012273924658074975, 0.0026173635851591825, 0.0011396508198231459, 0.004176958464086056, 0.8760197162628174, 0.0, 0.0, 0.0, 0.0, 0.0, 0.0, 0.0], [0.0581696517765522, 0.005683515686541796, 0.0018406733870506287, 0.000815933512058109, 0.0021512797102332115, 0.0015107624931260943, 0.9298281073570251, 0.0, 0.0, 0.0, 0.0, 0.0, 0.0], [0.33385178446769714, 0.03693542629480362, 0.13221944868564606, 0.01068246178328991, 0.072041817009449, 0.18078993260860443, 0.026698756963014603, 0.206780344247818, 0.0, 0.0, 0.0, 0.0, 0.0], [0.06636092066764832, 0.0005443678237497807, 0.010799570940434933, 0.001090818434022367, 0.0025515188463032246, 0.03461939096450806, 0.0010961854131892323, 0.08331640809774399, 0.7996208667755127, 0.0, 0.0, 0.0, 0.0], [0.06338426470756531, 0.00022853221162222326, 0.08702664822340012, 0.0003561899939086288, 0.0016991375014185905, 0.001983392285183072, 0.00042856333311647177, 0.059669677168130875, 0.01197738479822874, 0.7732462286949158, 0.0, 0.0, 0.0], [0.05880697816610336, 0.0034278652165085077, 0.002472979947924614, 0.002553350292146206, 0.0018203563522547483, 0.008824395947158337, 0.0005282139754854143, 0.07676820456981659, 0.005731947720050812, 0.0028940257616341114, 0.8361716866493225, 0.0, 0.0], [0.03926703333854675, 0.0029869333375245333, 0.000620356819126755, 0.0003090476675424725, 0.0050596692599356174, 0.0004778095171786845, 0.0010094235185533762, 0.04874047636985779, 0.0005930634797550738, 0.0010948199778795242, 0.0010905828094109893, 0.8987507820129395, 0.0], [0.11707605421543121, 0.009901116602122784, 0.007413550280034542, 0.0010532523738220334, 0.009406423196196556, 0.01154404878616333, 0.001494908588938415, 0.09454160183668137, 0.00969637930393219, 0.012119237333536148, 0.010109424591064453, 0.052122898399829865, 0.6635211110115051]]], [[[1.0, 0.0, 0.0, 0.0, 0.0, 0.0, 0.0, 0.0, 0.0, 0.0, 0.0, 0.0, 0.0], [0.894531786441803, 0.10546824336051941, 0.0, 0.0, 0.0, 0.0, 0.0, 0.0, 0.0, 0.0, 0.0, 0.0, 0.0], [0.7060136198997498, 0.2437247782945633, 0.05026165023446083, 0.0, 0.0, 0.0, 0.0, 0.0, 0.0, 0.0, 0.0, 0.0, 0.0], [0.4982607364654541, 0.21381953358650208, 0.12946517765522003, 0.1584545522928238, 0.0, 0.0, 0.0, 0.0, 0.0, 0.0, 0.0, 0.0, 0.0], [0.33549121022224426, 0.10566560178995132, 0.05117207020521164, 0.26286637783050537, 0.2448047697544098, 0.0, 0.0, 0.0, 0.0, 0.0, 0.0, 0.0, 0.0], [0.2781486213207245, 0.0743459090590477, 0.021985698491334915, 0.10901861637830734, 0.4791748821735382, 0.037326209247112274, 0.0, 0.0, 0.0, 0.0, 0.0, 0.0, 0.0], [0.2795611619949341, 0.05205124616622925, 0.017737416550517082, 0.11980848759412766, 0.4400290846824646, 0.05813485011458397, 0.03267775475978851, 0.0, 0.0, 0.0, 0.0, 0.0, 0.0], [0.3050647974014282, 0.0766507014632225, 0.08802803605794907, 0.1069524809718132, 0.20992064476013184, 0.08442088216543198, 0.06048732250928879, 0.06847507506608963, 0.0, 0.0, 0.0, 0.0, 0.0], [0.22190342843532562, 0.07416589558124542, 0.08795066922903061, 0.07425476610660553, 0.18793022632598877, 0.0180130023509264, 0.08152958005666733, 0.13987308740615845, 0.1143793985247612, 0.0, 0.0, 0.0, 0.0], [0.2568213939666748, 0.03624218702316284, 0.02475227601826191, 0.0913287028670311, 0.18166258931159973, 0.029651805758476257, 0.06105272099375725, 0.1129733994603157, 0.1052570566534996, 0.10025779157876968, 0.0, 0.0, 0.0], [0.15257060527801514, 0.0412888340651989, 0.006205645855516195, 0.08671344816684723, 0.11414600908756256, 0.03623829409480095, 0.021211814135313034, 0.11121735721826553, 0.14058420062065125, 0.07966921478509903, 0.21015463769435883, 0.0, 0.0], [0.1537347286939621, 0.014123562723398209, 0.009744050912559032, 0.045171212404966354, 0.08853553235530853, 0.016130123287439346, 0.022840591147542, 0.07809843122959137, 0.08190254122018814, 0.09087376296520233, 0.275314599275589, 0.12353085726499557, 0.0], [0.1731300950050354, 0.024584084749221802, 0.013907809741795063, 0.04407307505607605, 0.04392346739768982, 0.02280510775744915, 0.01188381016254425, 0.01670878753066063, 0.09271601587533951, 0.07574030011892319, 0.2950057089328766, 0.14293359220027924, 0.04258820414543152]], [[1.0, 0.0, 0.0, 0.0, 0.0, 0.0, 0.0, 0.0, 0.0, 0.0, 0.0, 0.0, 0.0], [0.9841743111610413, 0.01582561433315277, 0.0, 0.0, 0.0, 0.0, 0.0, 0.0, 0.0, 0.0, 0.0, 0.0, 0.0], [0.9386003017425537, 0.045782435685396194, 0.015617243945598602, 0.0, 0.0, 0.0, 0.0, 0.0, 0.0, 0.0, 0.0, 0.0, 0.0], [0.9133095741271973, 0.03874615952372551, 0.01407783292233944, 0.03386641666293144, 0.0, 0.0, 0.0, 0.0, 0.0, 0.0, 0.0, 0.0, 0.0], [0.9747549891471863, 0.010403688065707684, 0.004710694774985313, 0.004265481140464544, 0.005865056999027729, 0.0, 0.0, 0.0, 0.0, 0.0, 0.0, 0.0, 0.0], [0.8091303706169128, 0.0725192204117775, 0.035415083169937134, 0.025638626888394356, 0.03564177080988884, 0.021654874086380005, 0.0, 0.0, 0.0, 0.0, 0.0, 0.0, 0.0], [0.5881682634353638, 0.08564158529043198, 0.052455369383096695, 0.02487056329846382, 0.15616768598556519, 0.02418319135904312, 0.06851332634687424, 0.0, 0.0, 0.0, 0.0, 0.0, 0.0], [0.7143617272377014, 0.025332963094115257, 0.021558508276939392, 0.010837647132575512, 0.016989169642329216, 0.013538328930735588, 0.13156524300575256, 0.06581643968820572, 0.0, 0.0, 0.0, 0.0, 0.0], [0.6725696921348572, 0.04026954248547554, 0.02797378972172737, 0.015557188540697098, 0.020401695743203163, 0.018129877746105194, 0.1237156093120575, 0.07111519575119019, 0.010267401114106178, 0.0, 0.0, 0.0, 0.0], [0.59620600938797, 0.06845312565565109, 0.03333668410778046, 0.015925776213407516, 0.019890617579221725, 0.031614821404218674, 0.11388898640871048, 0.07032956928014755, 0.010924727655947208, 0.039429694414138794, 0.0, 0.0, 0.0], [0.5994414687156677, 0.10052977502346039, 0.025223134085536003, 0.010385267436504364, 0.029694659635424614, 0.018872661516070366, 0.08122380077838898, 0.10117755085229874, 0.0062208701856434345, 0.018138770014047623, 0.009092070162296295, 0.0, 0.0], [0.6542116403579712, 0.031180478632450104, 0.021856961771845818, 0.022699138149619102, 0.03171347454190254, 0.016943924129009247, 0.0794215127825737, 0.057628411799669266, 0.01337047852575779, 0.030506514012813568, 0.020019017159938812, 0.02044837363064289, 0.0], [0.5008093118667603, 0.04807475954294205, 0.030898060649633408, 0.008709507063031197, 0.022286977618932724, 0.011177611537277699, 0.18975409865379333, 0.06212605535984039, 0.0066327122040092945, 0.017298804596066475, 0.017113396897912025, 0.0390191376209259, 0.046099498867988586]], [[1.0, 0.0, 0.0, 0.0, 0.0, 0.0, 0.0, 0.0, 0.0, 0.0, 0.0, 0.0, 0.0], [0.9922656416893005, 0.00773437088355422, 0.0, 0.0, 0.0, 0.0, 0.0, 0.0, 0.0, 0.0, 0.0, 0.0, 0.0], [0.7072914242744446, 0.21287740767002106, 0.0798310860991478, 0.0, 0.0, 0.0, 0.0, 0.0, 0.0, 0.0, 0.0, 0.0, 0.0], [0.20629684627056122, 0.0131813520565629, 0.7680385112762451, 0.012483293190598488, 0.0, 0.0, 0.0, 0.0, 0.0, 0.0, 0.0, 0.0, 0.0], [0.07194964587688446, 0.004927410744130611, 0.1070588082075119, 0.7654407024383545, 0.05062342807650566, 0.0, 0.0, 0.0, 0.0, 0.0, 0.0, 0.0, 0.0], [0.015804920345544815, 0.0016808405052870512, 0.04823954030871391, 0.1060200110077858, 0.777681827545166, 0.05057276040315628, 0.0, 0.0, 0.0, 0.0, 0.0, 0.0, 0.0], [0.18826422095298767, 0.0078296372666955, 0.05016966536641121, 0.04415060952305794, 0.1916176825761795, 0.4870296120643616, 0.03093855269253254, 0.0, 0.0, 0.0, 0.0, 0.0, 0.0], [0.06821203231811523, 0.0039784349501132965, 0.00935694482177496, 0.017520997673273087, 0.023004092276096344, 0.14432303607463837, 0.46913984417915344, 0.2644645869731903, 0.0, 0.0, 0.0, 0.0, 0.0], [0.032533109188079834, 0.0019477764144539833, 0.007219503168016672, 0.007148865610361099, 0.052736546844244, 0.003090369515120983, 0.08215466886758804, 0.7844181656837463, 0.028751028701663017, 0.0, 0.0, 0.0, 0.0], [0.008274056948721409, 8.234503911808133e-05, 1.3763496099272743e-05, 0.0004006068338640034, 0.00223861588165164, 0.005973492283374071, 0.009306104853749275, 0.0810789242386818, 0.8594617247581482, 0.03317023068666458, 0.0, 0.0, 0.0], [0.01180753018707037, 9.906795639835764e-06, 9.24958658288233e-05, 0.00031542350188829005, 0.0004153909394517541, 0.001430089003406465, 0.0035932278260588646, 0.022133367136120796, 0.3037824332714081, 0.6220394372940063, 0.03438058868050575, 0.0, 0.0], [0.011179709807038307, 2.4442679205094464e-05, 0.00022496424207929522, 3.698305954458192e-05, 0.00016419807798229158, 0.00253726402297616, 0.001888062572106719, 0.05436238646507263, 0.153522789478302, 0.24966761469841003, 0.46220502257347107, 0.06418654322624207, 0.0], [0.045996472239494324, 5.4991611250443384e-05, 8.269386307802051e-05, 0.00015959037409629673, 0.0001578812807565555, 0.0004918798804283142, 0.0022758464328944683, 0.005170881282538176, 0.0222176481038332, 0.02087942324578762, 0.023143736645579338, 0.47759780287742615, 0.4017711281776428]], [[1.0, 0.0, 0.0, 0.0, 0.0, 0.0, 0.0, 0.0, 0.0, 0.0, 0.0, 0.0, 0.0], [0.9938109517097473, 0.006189079489558935, 0.0, 0.0, 0.0, 0.0, 0.0, 0.0, 0.0, 0.0, 0.0, 0.0, 0.0], [0.9375607371330261, 0.043405529111623764, 0.019033782184123993, 0.0, 0.0, 0.0, 0.0, 0.0, 0.0, 0.0, 0.0, 0.0, 0.0], [0.5743532180786133, 0.13167384266853333, 0.14921803772449493, 0.14475491642951965, 0.0, 0.0, 0.0, 0.0, 0.0, 0.0, 0.0, 0.0, 0.0], [0.4572853147983551, 0.027253558859229088, 0.030689464882016182, 0.41694197058677673, 0.06782975047826767, 0.0, 0.0, 0.0, 0.0, 0.0, 0.0, 0.0, 0.0], [0.27227163314819336, 0.008924716152250767, 0.024053925648331642, 0.12405016273260117, 0.41430073976516724, 0.15639881789684296, 0.0, 0.0, 0.0, 0.0, 0.0, 0.0, 0.0], [0.12830060720443726, 0.003633915912359953, 0.016660504043102264, 0.04415521398186684, 0.13248829543590546, 0.6340987086296082, 0.0406627282500267, 0.0, 0.0, 0.0, 0.0, 0.0, 0.0], [0.18891122937202454, 0.019817223772406578, 0.0304699819535017, 0.05327795445919037, 0.1538906693458557, 0.37615102529525757, 0.10319365561008453, 0.0742882713675499, 0.0, 0.0, 0.0, 0.0, 0.0], [0.1908692568540573, 0.013140293769538403, 0.010821674950420856, 0.041228558868169785, 0.07883933931589127, 0.18151552975177765, 0.08559224754571915, 0.19413000345230103, 0.20386318862438202, 0.0, 0.0, 0.0, 0.0], [0.15441536903381348, 0.004179324489086866, 0.001531147281639278, 0.024147020652890205, 0.08485237509012222, 0.09295883774757385, 0.026164749637246132, 0.1840175986289978, 0.3536614179611206, 0.07407218962907791, 0.0, 0.0, 0.0], [0.10246603190898895, 0.0030159330926835537, 0.0031992713920772076, 0.01730562373995781, 0.03401802480220795, 0.09668216854333878, 0.01548018492758274, 0.07106714695692062, 0.3139735758304596, 0.2174815833568573, 0.12531046569347382, 0.0, 0.0], [0.06443686038255692, 0.00132963084615767, 0.0013630060711875558, 0.01594788022339344, 0.019632061943411827, 0.04073574021458626, 0.01838628575205803, 0.0511036142706871, 0.19982512295246124, 0.07494732737541199, 0.3645670413970947, 0.14772546291351318, 0.0], [0.1471361666917801, 0.0031155808828771114, 0.0038127051666378975, 0.006768188439309597, 0.01747026853263378, 0.02490965463221073, 0.009996526874601841, 0.013963092118501663, 0.15570168197155, 0.10318523645401001, 0.16110500693321228, 0.22211866080760956, 0.13071715831756592]], [[1.0, 0.0, 0.0, 0.0, 0.0, 0.0, 0.0, 0.0, 0.0, 0.0, 0.0, 0.0, 0.0], [0.9688039422035217, 0.031196102499961853, 0.0, 0.0, 0.0, 0.0, 0.0, 0.0, 0.0, 0.0, 0.0, 0.0, 0.0], [0.8618345260620117, 0.07611145079135895, 0.06205398961901665, 0.0, 0.0, 0.0, 0.0, 0.0, 0.0, 0.0, 0.0, 0.0, 0.0], [0.7218682169914246, 0.02733757719397545, 0.2290935218334198, 0.02170068584382534, 0.0, 0.0, 0.0, 0.0, 0.0, 0.0, 0.0, 0.0, 0.0], [0.45747607946395874, 0.0312683992087841, 0.18837077915668488, 0.26807573437690735, 0.05480899661779404, 0.0, 0.0, 0.0, 0.0, 0.0, 0.0, 0.0, 0.0], [0.4343410134315491, 0.03675069287419319, 0.08903436362743378, 0.22324854135513306, 0.18878090381622314, 0.02784440666437149, 0.0, 0.0, 0.0, 0.0, 0.0, 0.0, 0.0], [0.35039523243904114, 0.04986558109521866, 0.06656890362501144, 0.04121660813689232, 0.023121941834688187, 0.4510203003883362, 0.01781136356294155, 0.0, 0.0, 0.0, 0.0, 0.0, 0.0], [0.34168174862861633, 0.04124301299452782, 0.05940234288573265, 0.029141562059521675, 0.09660526365041733, 0.10475382208824158, 0.028633417561650276, 0.2985388934612274, 0.0, 0.0, 0.0, 0.0, 0.0], [0.40835297107696533, 0.0030229969415813684, 0.00796600989997387, 0.005413712467998266, 0.01739448867738247, 0.004238595254719257, 0.00801968015730381, 0.5390807390213013, 0.006510792300105095, 0.0, 0.0, 0.0, 0.0], [0.3040432929992676, 0.003329657716676593, 0.0014735858421772718, 0.000692801724653691, 0.006416284013539553, 0.012062827125191689, 0.0004941272782161832, 0.35805338621139526, 0.20052242279052734, 0.1129116341471672, 0.0, 0.0, 0.0], [0.1250142902135849, 0.00030914341914467514, 0.005065225064754486, 0.019062243402004242, 0.004764433018863201, 0.0006905587506480515, 7.482206274289638e-05, 0.13949823379516602, 0.16800522804260254, 0.5291010737419128, 0.008414693176746368, 0.0, 0.0], [0.13170085847377777, 0.0014331282582134008, 0.007772061042487621, 0.0006593546713702381, 0.0008916449151001871, 0.0040494524873793125, 0.003189842216670513, 0.1648399978876114, 0.3473362624645233, 0.1717815101146698, 0.14243367314338684, 0.023912161588668823, 0.0], [0.39583107829093933, 0.003220097627490759, 0.006110453046858311, 0.011495285667479038, 0.00394077505916357, 0.002465084195137024, 0.0006104741478338838, 0.06790949404239655, 0.03049750253558159, 0.10784631222486496, 0.034378159791231155, 0.09170141071081161, 0.24399390816688538]], [[1.0, 0.0, 0.0, 0.0, 0.0, 0.0, 0.0, 0.0, 0.0, 0.0, 0.0, 0.0, 0.0], [0.9393553733825684, 0.06064458191394806, 0.0, 0.0, 0.0, 0.0, 0.0, 0.0, 0.0, 0.0, 0.0, 0.0, 0.0], [0.5541632771492004, 0.2892123758792877, 0.15662433207035065, 0.0, 0.0, 0.0, 0.0, 0.0, 0.0, 0.0, 0.0, 0.0, 0.0], [0.3369828462600708, 0.169810488820076, 0.450328528881073, 0.04287814348936081, 0.0, 0.0, 0.0, 0.0, 0.0, 0.0, 0.0, 0.0, 0.0], [0.3145623207092285, 0.06132872775197029, 0.32182663679122925, 0.19315458834171295, 0.10912766307592392, 0.0, 0.0, 0.0, 0.0, 0.0, 0.0, 0.0, 0.0], [0.24515283107757568, 0.033038049936294556, 0.18348504602909088, 0.0844130590558052, 0.3657704293727875, 0.08814066648483276, 0.0, 0.0, 0.0, 0.0, 0.0, 0.0, 0.0], [0.14800190925598145, 0.031073659658432007, 0.14015977084636688, 0.02970670536160469, 0.29517292976379395, 0.29504886269569397, 0.06083616614341736, 0.0, 0.0, 0.0, 0.0, 0.0, 0.0], [0.15652720630168915, 0.024677839130163193, 0.07708865404129028, 0.015128172934055328, 0.06559044122695923, 0.10599109530448914, 0.1293502151966095, 0.42564627528190613, 0.0, 0.0, 0.0, 0.0, 0.0], [0.07351835072040558, 0.004982237704098225, 0.008963932283222675, 0.00806268211454153, 0.011607981286942959, 0.01882820762693882, 0.060451824218034744, 0.7307299971580505, 0.0828547477722168, 0.0, 0.0, 0.0, 0.0], [0.07095000147819519, 0.0021022246219217777, 0.0007231477648019791, 0.0037889115046709776, 0.006935797166079283, 0.012522474862635136, 0.020424723625183105, 0.5746896862983704, 0.2116827368736267, 0.09618031233549118, 0.0, 0.0, 0.0], [0.06153063848614693, 0.002376171760261059, 0.0025056502781808376, 0.0015259507345035672, 0.008184867911040783, 0.016663143411278725, 0.013630022294819355, 0.3453434407711029, 0.19714049994945526, 0.26188305020332336, 0.08921651542186737, 0.0, 0.0], [0.049862101674079895, 0.001420363667421043, 0.0026801894418895245, 0.0022138592321425676, 0.005746858660131693, 0.01008148305118084, 0.010730454698204994, 0.20947696268558502, 0.11247442662715912, 0.19569902122020721, 0.3609534800052643, 0.03866083547472954, 0.0], [0.14476515352725983, 0.001950336154550314, 0.0034098667092621326, 0.0016585106495767832, 0.003681536065414548, 0.007063555531203747, 0.010024693794548512, 0.05344214662909508, 0.029813887551426888, 0.08691052347421646, 0.07735907286405563, 0.05754790082573891, 0.5223727822303772]], [[1.0, 0.0, 0.0, 0.0, 0.0, 0.0, 0.0, 0.0, 0.0, 0.0, 0.0, 0.0, 0.0], [0.9861267805099487, 0.013873201794922352, 0.0, 0.0, 0.0, 0.0, 0.0, 0.0, 0.0, 0.0, 0.0, 0.0, 0.0], [0.9559652209281921, 0.02054794505238533, 0.023486774414777756, 0.0, 0.0, 0.0, 0.0, 0.0, 0.0, 0.0, 0.0, 0.0, 0.0], [0.8798975348472595, 0.027045894414186478, 0.026238804683089256, 0.06681773066520691, 0.0, 0.0, 0.0, 0.0, 0.0, 0.0, 0.0, 0.0, 0.0], [0.7769550681114197, 0.020556241273880005, 0.032087188214063644, 0.060214053839445114, 0.11018748581409454, 0.0, 0.0, 0.0, 0.0, 0.0, 0.0, 0.0, 0.0], [0.7602056860923767, 0.014163312502205372, 0.024267910048365593, 0.037758536636829376, 0.10371240973472595, 0.05989215523004532, 0.0, 0.0, 0.0, 0.0, 0.0, 0.0, 0.0], [0.7795438170433044, 0.009407362900674343, 0.021646426990628242, 0.027740241959691048, 0.0871439129114151, 0.05140577256679535, 0.023112410679459572, 0.0, 0.0, 0.0, 0.0, 0.0, 0.0], [0.4785389006137848, 0.016936512663960457, 0.023844171315431595, 0.032217640429735184, 0.07289997488260269, 0.035441525280475616, 0.03599298745393753, 0.3041282892227173, 0.0, 0.0, 0.0, 0.0, 0.0], [0.2745901346206665, 0.02384076453745365, 0.025301923975348473, 0.03365560993552208, 0.07663512229919434, 0.026227248832583427, 0.04033859446644783, 0.4110853672027588, 0.08832519501447678, 0.0, 0.0, 0.0, 0.0], [0.2558738887310028, 0.019420631229877472, 0.008496751077473164, 0.02907661348581314, 0.06263833492994308, 0.026730898767709732, 0.03232806548476219, 0.387381911277771, 0.13507327437400818, 0.04297962039709091, 0.0, 0.0, 0.0], [0.17831747233867645, 0.020218579098582268, 0.007900884374976158, 0.02498420886695385, 0.0527232401072979, 0.03184658661484718, 0.0222155824303627, 0.41039466857910156, 0.12372171133756638, 0.04303837940096855, 0.08463869243860245, 0.0, 0.0], [0.22956325113773346, 0.01334532443434, 0.006271058693528175, 0.01970546692609787, 0.04175769165158272, 0.029824893921613693, 0.029538510367274284, 0.31311923265457153, 0.11861661076545715, 0.029258107766509056, 0.09229940176010132, 0.07670044153928757, 0.0], [0.19812992215156555, 0.009326493367552757, 0.005801018327474594, 0.019686296582221985, 0.0298797357827425, 0.01589224860072136, 0.014598588459193707, 0.1758231669664383, 0.08041707426309586, 0.02257431298494339, 0.052009303122758865, 0.04824184626340866, 0.3276200592517853]], [[1.0, 0.0, 0.0, 0.0, 0.0, 0.0, 0.0, 0.0, 0.0, 0.0, 0.0, 0.0, 0.0], [0.7502074837684631, 0.24979248642921448, 0.0, 0.0, 0.0, 0.0, 0.0, 0.0, 0.0, 0.0, 0.0, 0.0, 0.0], [0.5464401841163635, 0.12407051026821136, 0.32948926091194153, 0.0, 0.0, 0.0, 0.0, 0.0, 0.0, 0.0, 0.0, 0.0, 0.0], [0.412720650434494, 0.09450268000364304, 0.21766440570354462, 0.2751123309135437, 0.0, 0.0, 0.0, 0.0, 0.0, 0.0, 0.0, 0.0, 0.0], [0.3015235662460327, 0.05594407021999359, 0.15481555461883545, 0.22240737080574036, 0.2653094530105591, 0.0, 0.0, 0.0, 0.0, 0.0, 0.0, 0.0, 0.0], [0.21929505467414856, 0.049015287309885025, 0.1265728920698166, 0.13392336666584015, 0.19349099695682526, 0.2777024209499359, 0.0, 0.0, 0.0, 0.0, 0.0, 0.0, 0.0], [0.20059765875339508, 0.038946185261011124, 0.09628202766180038, 0.10350357741117477, 0.1329750120639801, 0.18474403023719788, 0.24295149743556976, 0.0, 0.0, 0.0, 0.0, 0.0, 0.0], [0.14394307136535645, 0.030807754024863243, 0.07286889851093292, 0.08254098892211914, 0.10072608292102814, 0.15310697257518768, 0.20983271300792694, 0.20617347955703735, 0.0, 0.0, 0.0, 0.0, 0.0], [0.1369997262954712, 0.02266482450067997, 0.051246948540210724, 0.054954398423433304, 0.07419008016586304, 0.09405649453401566, 0.11259539425373077, 0.1476975679397583, 0.3055945932865143, 0.0, 0.0, 0.0, 0.0], [0.10971320420503616, 0.018521692603826523, 0.03943917900323868, 0.041312407702207565, 0.06503205001354218, 0.07288498431444168, 0.08224526792764664, 0.10756944864988327, 0.23921217024326324, 0.22406964004039764, 0.0, 0.0, 0.0], [0.09784851223230362, 0.017208414152264595, 0.033833593130111694, 0.03630932793021202, 0.04653669893741608, 0.06417699158191681, 0.07271579653024673, 0.0854097381234169, 0.20135369896888733, 0.19614920020103455, 0.14845797419548035, 0.0, 0.0], [0.09997054934501648, 0.015512344427406788, 0.029063373804092407, 0.0317956805229187, 0.044002532958984375, 0.047234587371349335, 0.061525505036115646, 0.08386872708797455, 0.1482904702425003, 0.14464327692985535, 0.14736132323741913, 0.14673160016536713, 0.0], [0.07854581624269485, 0.014313923195004463, 0.024502836167812347, 0.02455185167491436, 0.031445425003767014, 0.04159366339445114, 0.05512532591819763, 0.05516672879457474, 0.13256913423538208, 0.11076067388057709, 0.11120191961526871, 0.11580583453178406, 0.2044169008731842]], [[1.0, 0.0, 0.0, 0.0, 0.0, 0.0, 0.0, 0.0, 0.0, 0.0, 0.0, 0.0, 0.0], [0.9765095710754395, 0.023490356281399727, 0.0, 0.0, 0.0, 0.0, 0.0, 0.0, 0.0, 0.0, 0.0, 0.0, 0.0], [0.7632939219474792, 0.12099496275186539, 0.11571111530065536, 0.0, 0.0, 0.0, 0.0, 0.0, 0.0, 0.0, 0.0, 0.0, 0.0], [0.28852808475494385, 0.014233359135687351, 0.6675237417221069, 0.029714815318584442, 0.0, 0.0, 0.0, 0.0, 0.0, 0.0, 0.0, 0.0, 0.0], [0.13738088309764862, 0.009420149028301239, 0.33322516083717346, 0.47314268350601196, 0.04683110862970352, 0.0, 0.0, 0.0, 0.0, 0.0, 0.0, 0.0, 0.0], [0.1332281231880188, 0.005564832128584385, 0.16699616611003876, 0.1413707137107849, 0.5313591957092285, 0.021481022238731384, 0.0, 0.0, 0.0, 0.0, 0.0, 0.0, 0.0], [0.16035544872283936, 0.009389204904437065, 0.17353366315364838, 0.08324144035577774, 0.45828840136528015, 0.08734466880559921, 0.02784722112119198, 0.0, 0.0, 0.0, 0.0, 0.0, 0.0], [0.10668429732322693, 0.020677559077739716, 0.24688228964805603, 0.09173725545406342, 0.2568410634994507, 0.06402279436588287, 0.0958697572350502, 0.11728493869304657, 0.0, 0.0, 0.0, 0.0, 0.0], [0.1576719731092453, 0.010763445869088173, 0.12976743280887604, 0.02385682798922062, 0.18632180988788605, 0.010356629267334938, 0.05747782438993454, 0.3436700403690338, 0.08011402189731598, 0.0, 0.0, 0.0, 0.0], [0.165646031498909, 0.00592280738055706, 0.005191726144403219, 0.024669012054800987, 0.11180853098630905, 0.008265814743936062, 0.009281203150749207, 0.2851692736148834, 0.08121880888938904, 0.30282682180404663, 0.0, 0.0, 0.0], [0.04040289670228958, 0.0009441911242902279, 0.012292526662349701, 0.0027786302380263805, 0.025113968178629875, 0.008468595333397388, 0.007050059270113707, 0.07136453688144684, 0.042048048228025436, 0.749788224697113, 0.03974831849336624, 0.0, 0.0], [0.07459679245948792, 0.0005312211578711867, 0.010325807146728039, 0.0010079863714054227, 0.015466708689928055, 0.011032553389668465, 0.00575527548789978, 0.1168876513838768, 0.06769682466983795, 0.5848729610443115, 0.06577621400356293, 0.04604995250701904, 0.0], [0.08970915526151657, 0.0024896711111068726, 0.01580304466187954, 0.008106965571641922, 0.018903661519289017, 0.00702586630359292, 0.009691877290606499, 0.020309215411543846, 0.05599512532353401, 0.3104501962661743, 0.1306770294904709, 0.1728789359331131, 0.1579592376947403]], [[1.0, 0.0, 0.0, 0.0, 0.0, 0.0, 0.0, 0.0, 0.0, 0.0, 0.0, 0.0, 0.0], [0.920911431312561, 0.07908862084150314, 0.0, 0.0, 0.0, 0.0, 0.0, 0.0, 0.0, 0.0, 0.0, 0.0, 0.0], [0.3747607171535492, 0.6100094318389893, 0.015229898504912853, 0.0, 0.0, 0.0, 0.0, 0.0, 0.0, 0.0, 0.0, 0.0, 0.0], [0.26291173696517944, 0.6297686696052551, 0.04805975407361984, 0.05925988033413887, 0.0, 0.0, 0.0, 0.0, 0.0, 0.0, 0.0, 0.0, 0.0], [0.30252373218536377, 0.2516343593597412, 0.042970407754182816, 0.3688671290874481, 0.03400435671210289, 0.0, 0.0, 0.0, 0.0, 0.0, 0.0, 0.0, 0.0], [0.20799820125102997, 0.19557538628578186, 0.041023533791303635, 0.2801174223423004, 0.16847655177116394, 0.1068088486790657, 0.0, 0.0, 0.0, 0.0, 0.0, 0.0, 0.0], [0.22391927242279053, 0.05382036790251732, 0.04057382419705391, 0.06503504514694214, 0.12285738438367844, 0.3774753510951996, 0.11631879955530167, 0.0, 0.0, 0.0, 0.0, 0.0, 0.0], [0.0781855434179306, 0.040341656655073166, 0.009044911712408066, 0.04357486963272095, 0.04776424914598465, 0.12147510051727295, 0.5662785172462463, 0.09333516657352448, 0.0, 0.0, 0.0, 0.0, 0.0], [0.0949573740363121, 0.04253902658820152, 0.008237723261117935, 0.05785585567355156, 0.03918848931789398, 0.06606889516115189, 0.26123031973838806, 0.28874465823173523, 0.1411776840686798, 0.0, 0.0, 0.0, 0.0], [0.07106875628232956, 0.023197604343295097, 0.0012497277930378914, 0.015894223004579544, 0.024414991959929466, 0.0404999777674675, 0.19492554664611816, 0.25179946422576904, 0.3057347238063812, 0.07121496647596359, 0.0, 0.0, 0.0], [0.04907745495438576, 0.008265940472483635, 0.001773845637217164, 0.017523987218737602, 0.008839435875415802, 0.01880037784576416, 0.10854440182447433, 0.1568005084991455, 0.40175145864486694, 0.16211697459220886, 0.06650562584400177, 0.0, 0.0], [0.10862259566783905, 0.012224472127854824, 0.0021287233103066683, 0.007319917902350426, 0.005532986018806696, 0.035359714180231094, 0.050927385687828064, 0.09001133590936661, 0.2392183244228363, 0.07021784782409668, 0.19440315663814545, 0.1840335577726364, 0.0], [0.06917589902877808, 0.004613381344825029, 0.0008339280029758811, 0.0031608580611646175, 0.0027966501656919718, 0.006491996813565493, 0.03968936949968338, 0.012521389871835709, 0.04676613211631775, 0.020630208775401115, 0.06491930037736893, 0.5439387559890747, 0.1844620406627655]], [[1.0, 0.0, 0.0, 0.0, 0.0, 0.0, 0.0, 0.0, 0.0, 0.0, 0.0, 0.0, 0.0], [0.8312126994132996, 0.16878727078437805, 0.0, 0.0, 0.0, 0.0, 0.0, 0.0, 0.0, 0.0, 0.0, 0.0, 0.0], [0.7008376121520996, 0.14153248071670532, 0.15762993693351746, 0.0, 0.0, 0.0, 0.0, 0.0, 0.0, 0.0, 0.0, 0.0, 0.0], [0.557111382484436, 0.12451223284006119, 0.1391455978155136, 0.1792307198047638, 0.0, 0.0, 0.0, 0.0, 0.0, 0.0, 0.0, 0.0, 0.0], [0.47312796115875244, 0.09625084698200226, 0.10592162609100342, 0.14564578235149384, 0.17905376851558685, 0.0, 0.0, 0.0, 0.0, 0.0, 0.0, 0.0, 0.0], [0.36731037497520447, 0.09127400815486908, 0.10427691787481308, 0.11739756911993027, 0.15815719962120056, 0.16158390045166016, 0.0, 0.0, 0.0, 0.0, 0.0, 0.0, 0.0], [0.3328654170036316, 0.07867247611284256, 0.08325193077325821, 0.08786315470933914, 0.13721302151679993, 0.10695675760507584, 0.17317722737789154, 0.0, 0.0, 0.0, 0.0, 0.0, 0.0], [0.3608299493789673, 0.06788945198059082, 0.05947596952319145, 0.07546580582857132, 0.08339118957519531, 0.08987179398536682, 0.13318321108818054, 0.12989266216754913, 0.0, 0.0, 0.0, 0.0, 0.0], [0.23832722008228302, 0.05981473997235298, 0.06168930605053902, 0.06648324429988861, 0.07970302551984787, 0.08011632412672043, 0.0996289774775505, 0.12967023253440857, 0.18456695973873138, 0.0, 0.0, 0.0, 0.0], [0.2028813511133194, 0.04838404431939125, 0.054500531405210495, 0.06169744208455086, 0.07738125324249268, 0.060963090509176254, 0.07055777311325073, 0.11922197043895721, 0.15402734279632568, 0.15038520097732544, 0.0, 0.0, 0.0], [0.14483138918876648, 0.04180276021361351, 0.045173123478889465, 0.050411153584718704, 0.06267085671424866, 0.05650055408477783, 0.06135188788175583, 0.08677107095718384, 0.14949290454387665, 0.16261692345142365, 0.138377383351326, 0.0, 0.0], [0.1329389065504074, 0.03220433369278908, 0.0307330135256052, 0.04144113510847092, 0.05882225185632706, 0.041202593594789505, 0.0573083870112896, 0.08902473747730255, 0.12721626460552216, 0.11080198734998703, 0.11696676164865494, 0.16133959591388702, 0.0], [0.13715603947639465, 0.0304696187376976, 0.02625652775168419, 0.03436383977532387, 0.03825780376791954, 0.038290999829769135, 0.05716311186552048, 0.06182344630360603, 0.09275542199611664, 0.07333125174045563, 0.09227187186479568, 0.13724590837955475, 0.1806141436100006]], [[1.0, 0.0, 0.0, 0.0, 0.0, 0.0, 0.0, 0.0, 0.0, 0.0, 0.0, 0.0, 0.0], [0.9175162315368652, 0.08248378336429596, 0.0, 0.0, 0.0, 0.0, 0.0, 0.0, 0.0, 0.0, 0.0, 0.0, 0.0], [0.8487105965614319, 0.0711880698800087, 0.08010128140449524, 0.0, 0.0, 0.0, 0.0, 0.0, 0.0, 0.0, 0.0, 0.0, 0.0], [0.7962356805801392, 0.06061745434999466, 0.06903135776519775, 0.0741155594587326, 0.0, 0.0, 0.0, 0.0, 0.0, 0.0, 0.0, 0.0, 0.0], [0.764711320400238, 0.04079426825046539, 0.05269597843289375, 0.06622156500816345, 0.07557690143585205, 0.0, 0.0, 0.0, 0.0, 0.0, 0.0, 0.0, 0.0], [0.6961514949798584, 0.04216407611966133, 0.05318721756339073, 0.04877898097038269, 0.06706741452217102, 0.09265078604221344, 0.0, 0.0, 0.0, 0.0, 0.0, 0.0, 0.0], [0.680112361907959, 0.030040312558412552, 0.03351512923836708, 0.038402702659368515, 0.048360809683799744, 0.07428522408008575, 0.09528344869613647, 0.0, 0.0, 0.0, 0.0, 0.0, 0.0], [0.6789252758026123, 0.025935916230082512, 0.023402797058224678, 0.026538843289017677, 0.03605811670422554, 0.04994085803627968, 0.08113627880811691, 0.07806192338466644, 0.0, 0.0, 0.0, 0.0, 0.0], [0.6536127328872681, 0.020315544679760933, 0.021943069994449615, 0.024195212870836258, 0.029823878780007362, 0.03957153484225273, 0.04821249470114708, 0.07340420037508011, 0.08892129361629486, 0.0, 0.0, 0.0, 0.0], [0.6373170018196106, 0.016586793586611748, 0.016698727384209633, 0.01951099932193756, 0.026945123448967934, 0.030780581757426262, 0.03913477435708046, 0.06283530592918396, 0.07623058557510376, 0.07396005094051361, 0.0, 0.0, 0.0], [0.5936210751533508, 0.013917035423219204, 0.015144678764045238, 0.017554936930537224, 0.024857448413968086, 0.031236348673701286, 0.03856559842824936, 0.04939586669206619, 0.06954291462898254, 0.0767350122332573, 0.06942913681268692, 0.0, 0.0], [0.6025925874710083, 0.009605632163584232, 0.009609260596334934, 0.013347799889743328, 0.021460603922605515, 0.020845357328653336, 0.0303354449570179, 0.04532356560230255, 0.05947267636656761, 0.05015776678919792, 0.06023779511451721, 0.07701154053211212, 0.0], [0.6358377933502197, 0.009827796369791031, 0.008783753961324692, 0.009943714365363121, 0.013479621149599552, 0.01747611165046692, 0.024730296805500984, 0.02565186470746994, 0.040700700134038925, 0.03308946639299393, 0.043878644704818726, 0.05729131028056145, 0.07930898666381836]]], [[[1.0, 0.0, 0.0, 0.0, 0.0, 0.0, 0.0, 0.0, 0.0, 0.0, 0.0, 0.0, 0.0], [0.9853324294090271, 0.014667512848973274, 0.0, 0.0, 0.0, 0.0, 0.0, 0.0, 0.0, 0.0, 0.0, 0.0, 0.0], [0.9817646741867065, 0.00014692198601551354, 0.018088430166244507, 0.0, 0.0, 0.0, 0.0, 0.0, 0.0, 0.0, 0.0, 0.0, 0.0], [0.981575608253479, 8.150011854013428e-05, 0.00021446654864121228, 0.01812845654785633, 0.0, 0.0, 0.0, 0.0, 0.0, 0.0, 0.0, 0.0, 0.0], [0.975620687007904, 0.00031649169977754354, 0.00035540384124033153, 4.0877795981941745e-05, 0.02366645261645317, 0.0, 0.0, 0.0, 0.0, 0.0, 0.0, 0.0, 0.0], [0.9399102926254272, 0.00014901302347425371, 0.0005027037113904953, 9.495340782450512e-05, 3.909513907274231e-05, 0.05930390954017639, 0.0, 0.0, 0.0, 0.0, 0.0, 0.0, 0.0], [0.883740246295929, 0.0007398960879072547, 0.00076047278707847, 2.9332430131034926e-05, 1.785693530109711e-05, 6.935557030374184e-05, 0.11464277654886246, 0.0, 0.0, 0.0, 0.0, 0.0, 0.0], [0.9860799908638, 0.0016050388803705573, 0.004013716708868742, 0.0003330427862238139, 0.000996252172626555, 0.001721843727864325, 0.00039862608537077904, 0.00485156150534749, 0.0, 0.0, 0.0, 0.0, 0.0], [0.9662668704986572, 0.0004324910696595907, 0.0022543328814208508, 5.113357110531069e-05, 0.0002319479244761169, 0.0054915244691073895, 0.00010500175994820893, 0.004508448764681816, 0.020658306777477264, 0.0, 0.0, 0.0, 0.0], [0.9408870339393616, 9.054169640876353e-05, 0.016739077866077423, 0.0005421765381470323, 0.0005318427574820817, 0.0017587648471817374, 9.212197255692445e-06, 0.003429147182032466, 0.0010200260439887643, 0.03499218076467514, 0.0, 0.0, 0.0], [0.9063323736190796, 0.0009256022167392075, 0.0011632266687229276, 0.00013141044473741204, 0.00040096064913086593, 0.004864575807005167, 3.308938175905496e-05, 0.005074208602309227, 0.0004901043721474707, 0.00023436815536115319, 0.08035019785165787, 0.0, 0.0], [0.8872150778770447, 0.0036159828305244446, 0.0006832857616245747, 0.00027708723791874945, 0.0006073833210393786, 0.0002558276755735278, 4.4855223677586764e-05, 0.005111053120344877, 0.00012208912812639028, 5.1774979510810226e-05, 0.00012016249820590019, 0.10189539194107056, 0.0], [0.9106407761573792, 0.0043040611781179905, 0.002758848713710904, 0.0006857222761027515, 0.0012113787233829498, 0.007044265046715736, 0.00012496842828113586, 0.006855503655970097, 0.011806029826402664, 0.0007436118903569877, 0.0007636409718543291, 0.0009402727009728551, 0.05212080851197243]], [[1.0, 0.0, 0.0, 0.0, 0.0, 0.0, 0.0, 0.0, 0.0, 0.0, 0.0, 0.0, 0.0], [0.9925317168235779, 0.0074682775884866714, 0.0, 0.0, 0.0, 0.0, 0.0, 0.0, 0.0, 0.0, 0.0, 0.0, 0.0], [0.8910534381866455, 0.04255916550755501, 0.06638740003108978, 0.0, 0.0, 0.0, 0.0, 0.0, 0.0, 0.0, 0.0, 0.0, 0.0], [0.79035884141922, 0.03925000876188278, 0.1266470104455948, 0.043744124472141266, 0.0, 0.0, 0.0, 0.0, 0.0, 0.0, 0.0, 0.0, 0.0], [0.7979311347007751, 0.010701005347073078, 0.07474897801876068, 0.05348239094018936, 0.06313643604516983, 0.0, 0.0, 0.0, 0.0, 0.0, 0.0, 0.0, 0.0], [0.8051448464393616, 0.008542495779693127, 0.06716600060462952, 0.039247121661901474, 0.04765027016401291, 0.03224925696849823, 0.0, 0.0, 0.0, 0.0, 0.0, 0.0, 0.0], [0.6910317540168762, 0.01404503732919693, 0.06852548569440842, 0.0572926290333271, 0.09883426129817963, 0.04854193702340126, 0.02172883041203022, 0.0, 0.0, 0.0, 0.0, 0.0, 0.0], [0.5930818915367126, 0.009744599461555481, 0.09202750772237778, 0.04664302617311478, 0.10709138959646225, 0.04783158376812935, 0.007990701124072075, 0.09558939188718796, 0.0, 0.0, 0.0, 0.0, 0.0], [0.6087194681167603, 0.0082918182015419, 0.06281216442584991, 0.02865396998822689, 0.0353354811668396, 0.022958267480134964, 0.05340182036161423, 0.1509820520877838, 0.028844932094216347, 0.0, 0.0, 0.0, 0.0], [0.5614652633666992, 0.0041403085924685, 0.007966715842485428, 0.010283575393259525, 0.01231889333575964, 0.016437193378806114, 0.02514757215976715, 0.2231355905532837, 0.06764677166938782, 0.07145816087722778, 0.0, 0.0, 0.0], [0.5466968417167664, 0.001935304026119411, 0.011615955270826817, 0.0030525745823979378, 0.007268292363733053, 0.010852991603314877, 0.0053573837503790855, 0.19971609115600586, 0.12291289120912552, 0.07943664491176605, 0.011154981330037117, 0.0, 0.0], [0.40833038091659546, 0.0007228871108964086, 0.004639261867851019, 0.0017459476366639137, 0.008096851408481598, 0.01838274486362934, 0.0033128047361969948, 0.19224615395069122, 0.17701593041419983, 0.070325568318367, 0.10509984940290451, 0.010081610642373562, 0.0], [0.5934075117111206, 0.001688073854893446, 0.011357330717146397, 0.004409912042319775, 0.006169343367218971, 0.008213425055146217, 0.0026487810537219048, 0.04553331062197685, 0.04524114355444908, 0.07608821988105774, 0.07508322596549988, 0.019984202459454536, 0.1101754903793335]], [[1.0, 0.0, 0.0, 0.0, 0.0, 0.0, 0.0, 0.0, 0.0, 0.0, 0.0, 0.0, 0.0], [0.9384011626243591, 0.06159880757331848, 0.0, 0.0, 0.0, 0.0, 0.0, 0.0, 0.0, 0.0, 0.0, 0.0, 0.0], [0.40071937441825867, 0.4657237231731415, 0.13355687260627747, 0.0, 0.0, 0.0, 0.0, 0.0, 0.0, 0.0, 0.0, 0.0, 0.0], [0.21086157858371735, 0.09056071192026138, 0.6518790125846863, 0.046698663383722305, 0.0, 0.0, 0.0, 0.0, 0.0, 0.0, 0.0, 0.0, 0.0], [0.11052130162715912, 0.010533667169511318, 0.2755972445011139, 0.5628398656845093, 0.04050790145993233, 0.0, 0.0, 0.0, 0.0, 0.0, 0.0, 0.0, 0.0], [0.24173344671726227, 0.00475440826267004, 0.07434099912643433, 0.0451560877263546, 0.5792991518974304, 0.05471593886613846, 0.0, 0.0, 0.0, 0.0, 0.0, 0.0, 0.0], [0.14406712353229523, 0.00045190652599558234, 0.007105383090674877, 0.00422753905877471, 0.08488261699676514, 0.7325083613395691, 0.02675708569586277, 0.0, 0.0, 0.0, 0.0, 0.0, 0.0], [0.10198114812374115, 0.02748444490134716, 0.22412194311618805, 0.050145991146564484, 0.23994094133377075, 0.17706122994422913, 0.07724960148334503, 0.10201475024223328, 0.0, 0.0, 0.0, 0.0, 0.0], [0.3521118760108948, 0.014441157691180706, 0.047263678163290024, 0.010064016096293926, 0.07826349884271622, 0.009554598480463028, 0.01103170681744814, 0.33212363719940186, 0.14514583349227905, 0.0, 0.0, 0.0, 0.0], [0.362381249666214, 0.0052862148731946945, 0.0003699899243656546, 0.002548979828134179, 0.022518612444400787, 0.013304861262440681, 0.00974042434245348, 0.18537884950637817, 0.3227316439151764, 0.07573912292718887, 0.0, 0.0, 0.0], [0.34755030274391174, 0.0010218076640740037, 0.0020246326457709074, 0.0060553355142474174, 0.02077260985970497, 0.01583516225218773, 0.010174226947128773, 0.055727653205394745, 0.28148970007896423, 0.19633737206459045, 0.06301120668649673, 0.0, 0.0], [0.057248834520578384, 8.78652062965557e-05, 0.0011753230355679989, 0.0013978779315948486, 0.0038376683369278908, 0.010044790804386139, 0.002701991470530629, 0.007274233736097813, 0.05368688330054283, 0.10927345603704453, 0.7048603892326355, 0.048410627990961075, 0.0], [0.21416211128234863, 0.0007882799254730344, 0.004734535701572895, 0.0037040894385427237, 0.007628815248608589, 0.0074397907592356205, 0.002483437769114971, 0.0049294899217784405, 0.18830618262290955, 0.1412924826145172, 0.17339259386062622, 0.1645033061504364, 0.08663491904735565]], [[1.0, 0.0, 0.0, 0.0, 0.0, 0.0, 0.0, 0.0, 0.0, 0.0, 0.0, 0.0, 0.0], [0.9683164954185486, 0.03168351575732231, 0.0, 0.0, 0.0, 0.0, 0.0, 0.0, 0.0, 0.0, 0.0, 0.0, 0.0], [0.8733319044113159, 0.08803561329841614, 0.038632407784461975, 0.0, 0.0, 0.0, 0.0, 0.0, 0.0, 0.0, 0.0, 0.0, 0.0], [0.7246968150138855, 0.0121229849755764, 0.25117912888526917, 0.012001053430140018, 0.0, 0.0, 0.0, 0.0, 0.0, 0.0, 0.0, 0.0, 0.0], [0.6085420250892639, 0.006939125247299671, 0.08467244356870651, 0.2812286913394928, 0.01861763745546341, 0.0, 0.0, 0.0, 0.0, 0.0, 0.0, 0.0, 0.0], [0.2326865792274475, 0.004127558786422014, 0.01833120547235012, 0.10280192643404007, 0.6292293667793274, 0.012823308818042278, 0.0, 0.0, 0.0, 0.0, 0.0, 0.0, 0.0], [0.8868921399116516, 0.003481858177110553, 0.002701869700103998, 0.0024346818681806326, 0.05072111636400223, 0.02672124281525612, 0.027047133073210716, 0.0, 0.0, 0.0, 0.0, 0.0, 0.0], [0.7155478000640869, 0.0012741165701299906, 0.002231425838544965, 0.002051541581749916, 0.010090215131640434, 0.0241031926125288, 0.0185691025108099, 0.2261325567960739, 0.0, 0.0, 0.0, 0.0, 0.0], [0.6347492933273315, 0.0036397262010723352, 0.007296011317521334, 0.004264757502824068, 0.004569081123918295, 0.0016931529389694333, 0.005876279901713133, 0.3337079584598541, 0.004203706979751587, 0.0, 0.0, 0.0, 0.0], [0.5452101230621338, 0.0022784345783293247, 0.0003686677373480052, 0.004628084599971771, 0.0007698541157878935, 0.0036548299249261618, 0.0020863693207502365, 0.200526162981987, 0.16945871710777283, 0.07101870328187943, 0.0, 0.0, 0.0], [0.628746747970581, 4.6095428842818365e-05, 0.0007066476391628385, 8.28737101983279e-05, 0.0020989696495234966, 0.00028735448722727597, 1.921772309287917e-05, 0.07396086305379868, 0.08567900955677032, 0.19540104269981384, 0.012971142306923866, 0.0, 0.0], [0.7145341634750366, 0.00023839208006393164, 0.0013342566089704633, 0.0002234323910670355, 0.002797464607283473, 0.00031209923326969147, 0.0015527989016845822, 0.05947709083557129, 0.08062290400266647, 0.09872003644704819, 0.024379350244998932, 0.015808096155524254, 0.0], [0.8048041462898254, 8.373428136110306e-05, 0.00010055801249109209, 0.00010856791050173342, 0.0005157283158041537, 0.00019515387248247862, 0.0004527316486928612, 0.01027160044759512, 0.001799718476831913, 0.0018370988545939326, 0.0069657196290791035, 0.02664903551340103, 0.14621613919734955]], [[1.0, 0.0, 0.0, 0.0, 0.0, 0.0, 0.0, 0.0, 0.0, 0.0, 0.0, 0.0, 0.0], [0.9958279728889465, 0.00417197123169899, 0.0, 0.0, 0.0, 0.0, 0.0, 0.0, 0.0, 0.0, 0.0, 0.0, 0.0], [0.9882722496986389, 0.007665517274290323, 0.004062287043780088, 0.0, 0.0, 0.0, 0.0, 0.0, 0.0, 0.0, 0.0, 0.0, 0.0], [0.9863157868385315, 0.007970687001943588, 0.005177798680961132, 0.0005357539630495012, 0.0, 0.0, 0.0, 0.0, 0.0, 0.0, 0.0, 0.0, 0.0], [0.9885244965553284, 0.0033651699777692556, 0.0030430739279836416, 0.0013626293512061238, 0.003704662434756756, 0.0, 0.0, 0.0, 0.0, 0.0, 0.0, 0.0, 0.0], [0.9747138619422913, 0.007698695175349712, 0.003858917159959674, 0.0011169022182002664, 0.00860676635056734, 0.004004757851362228, 0.0, 0.0, 0.0, 0.0, 0.0, 0.0, 0.0], [0.9537574648857117, 0.022788187488913536, 0.003504915162920952, 0.003978827968239784, 0.006104291416704655, 0.0090767377987504, 0.0007895295857451856, 0.0, 0.0, 0.0, 0.0, 0.0, 0.0], [0.9146263599395752, 0.0071189263835549355, 0.009055331349372864, 0.0019849701784551144, 0.010129103437066078, 0.012018821202218533, 0.011077760718762875, 0.03398880735039711, 0.0, 0.0, 0.0, 0.0, 0.0], [0.9312237501144409, 0.006108383648097515, 0.0076842843554914, 0.002110392088070512, 0.004659750033169985, 0.013518531806766987, 0.004319327883422375, 0.0256186556071043, 0.004756943788379431, 0.0, 0.0, 0.0, 0.0], [0.8844515085220337, 0.0024552273098379374, 0.03824382647871971, 0.0015722275711596012, 0.011673512868583202, 0.006270551588386297, 0.003094462212175131, 0.019348792731761932, 0.005250095389783382, 0.027639782056212425, 0.0, 0.0, 0.0], [0.9287735819816589, 0.0020429559517651796, 0.011304757557809353, 0.0004328706709202379, 0.005052746739238501, 0.007156392093747854, 0.005507797002792358, 0.016215315088629723, 0.007207294460386038, 0.014066529460251331, 0.0022396210115402937, 0.0, 0.0], [0.9458499550819397, 0.00646739499643445, 0.005334647372364998, 0.008329430595040321, 0.006288055796176195, 0.0022676887456327677, 0.001199681661091745, 0.011691935360431671, 0.0005283822538331151, 0.0043817856349051, 0.004384709522128105, 0.003276341361925006, 0.0], [0.8747007250785828, 0.007257452234625816, 0.009742332622408867, 0.002790548838675022, 0.009294611401855946, 0.006584810093045235, 0.005161555949598551, 0.026099713519215584, 0.00775999017059803, 0.017273448407649994, 0.007734570652246475, 0.006116215139627457, 0.019484084099531174]], [[1.0, 0.0, 0.0, 0.0, 0.0, 0.0, 0.0, 0.0, 0.0, 0.0, 0.0, 0.0, 0.0], [0.9670198559761047, 0.032980162650346756, 0.0, 0.0, 0.0, 0.0, 0.0, 0.0, 0.0, 0.0, 0.0, 0.0, 0.0], [0.8992175459861755, 0.07410504668951035, 0.026677479967474937, 0.0, 0.0, 0.0, 0.0, 0.0, 0.0, 0.0, 0.0, 0.0, 0.0], [0.914948582649231, 0.029895633459091187, 0.025016700848937035, 0.03013908863067627, 0.0, 0.0, 0.0, 0.0, 0.0, 0.0, 0.0, 0.0, 0.0], [0.8733873963356018, 0.04590316861867905, 0.02375139854848385, 0.025068296119570732, 0.03188972920179367, 0.0, 0.0, 0.0, 0.0, 0.0, 0.0, 0.0, 0.0], [0.7578473091125488, 0.052327513694763184, 0.04169585183262825, 0.038072388619184494, 0.07504955679178238, 0.03500739112496376, 0.0, 0.0, 0.0, 0.0, 0.0, 0.0, 0.0], [0.6105263829231262, 0.05145547166466713, 0.05101897567510605, 0.02236841432750225, 0.08276064693927765, 0.0700320452451706, 0.11183803528547287, 0.0, 0.0, 0.0, 0.0, 0.0, 0.0], [0.4367159605026245, 0.11192020028829575, 0.06920904666185379, 0.04273528233170509, 0.10464508086442947, 0.07994801551103592, 0.11750321835279465, 0.03732319176197052, 0.0, 0.0, 0.0, 0.0, 0.0], [0.2927527129650116, 0.1222710832953453, 0.09640108793973923, 0.04252302646636963, 0.06852547824382782, 0.1064135879278183, 0.20605890452861786, 0.04562019184231758, 0.0194338858127594, 0.0, 0.0, 0.0, 0.0], [0.32356879115104675, 0.0772211104631424, 0.06424450874328613, 0.09702634811401367, 0.08469703048467636, 0.09682822227478027, 0.16211111843585968, 0.04707592353224754, 0.025738701224327087, 0.02148820273578167, 0.0, 0.0, 0.0], [0.4307500720024109, 0.067470021545887, 0.06367624551057816, 0.04841853678226471, 0.03646808862686157, 0.07411081343889236, 0.15052413940429688, 0.052511315792798996, 0.03534246236085892, 0.030217478051781654, 0.010510757565498352, 0.0, 0.0], [0.3151453137397766, 0.0884990245103836, 0.048321474343538284, 0.03528447821736336, 0.04160235449671745, 0.07704339921474457, 0.16419640183448792, 0.04577402397990227, 0.05438439920544624, 0.07371692359447479, 0.017041992396116257, 0.03899022564291954, 0.0], [0.3783547878265381, 0.052892498672008514, 0.05396953970193863, 0.029917050153017044, 0.03322279080748558, 0.0424729585647583, 0.11170521378517151, 0.040074996650218964, 0.048606812953948975, 0.03952386975288391, 0.052077293395996094, 0.0694434866309166, 0.04773867502808571]], [[1.0, 0.0, 0.0, 0.0, 0.0, 0.0, 0.0, 0.0, 0.0, 0.0, 0.0, 0.0, 0.0], [0.9713285565376282, 0.028671495616436005, 0.0, 0.0, 0.0, 0.0, 0.0, 0.0, 0.0, 0.0, 0.0, 0.0, 0.0], [0.511292040348053, 0.2775723338127136, 0.2111356258392334, 0.0, 0.0, 0.0, 0.0, 0.0, 0.0, 0.0, 0.0, 0.0, 0.0], [0.21756523847579956, 0.36932310461997986, 0.39653486013412476, 0.016576791182160378, 0.0, 0.0, 0.0, 0.0, 0.0, 0.0, 0.0, 0.0, 0.0], [0.20329074561595917, 0.11416152119636536, 0.11989887803792953, 0.5155363082885742, 0.04711257293820381, 0.0, 0.0, 0.0, 0.0, 0.0, 0.0, 0.0, 0.0], [0.23821844160556793, 0.01740419678390026, 0.05002670735120773, 0.5530769228935242, 0.09088073670864105, 0.05039309337735176, 0.0, 0.0, 0.0, 0.0, 0.0, 0.0, 0.0], [0.3963083028793335, 0.013212665915489197, 0.0167318694293499, 0.009581443853676319, 0.09761973470449448, 0.2841693162918091, 0.1823766678571701, 0.0, 0.0, 0.0, 0.0, 0.0, 0.0], [0.09464540332555771, 0.11931373178958893, 0.14110727608203888, 0.04766400530934334, 0.08790290355682373, 0.22624462842941284, 0.20766784250736237, 0.07545419037342072, 0.0, 0.0, 0.0, 0.0, 0.0], [0.39863356947898865, 0.07060527801513672, 0.05246831104159355, 0.022896166890859604, 0.02671150304377079, 0.1110043078660965, 0.09661376476287842, 0.12033441662788391, 0.10073262453079224, 0.0, 0.0, 0.0, 0.0], [0.3710530400276184, 0.009959077462553978, 0.006421335972845554, 0.0190206877887249, 0.004710538312792778, 0.029734088107943535, 0.04238687455654144, 0.14632099866867065, 0.3154028654098511, 0.05499052256345749, 0.0, 0.0, 0.0], [0.24175289273262024, 0.031771235167980194, 0.011201785877346992, 0.017728565260767937, 0.006168429274111986, 0.008858595974743366, 0.025938715785741806, 0.10130959004163742, 0.3675060570240021, 0.15313655138015747, 0.03462759405374527, 0.0, 0.0], [0.11503778398036957, 0.006361403036862612, 0.0025617964565753937, 0.001282141194678843, 0.004660622216761112, 0.005224388092756271, 0.04501359164714813, 0.05770345777273178, 0.23341363668441772, 0.12902472913265228, 0.31229183077812195, 0.08742466568946838, 0.0], [0.180695578455925, 0.012321054004132748, 0.008462783880531788, 0.006137513089925051, 0.005412817467004061, 0.009439810179173946, 0.029353341087698936, 0.013246223330497742, 0.2811892628669739, 0.08410976082086563, 0.1980372965335846, 0.07874836772680283, 0.09284614026546478]], [[1.0, 0.0, 0.0, 0.0, 0.0, 0.0, 0.0, 0.0, 0.0, 0.0, 0.0, 0.0, 0.0], [0.905024528503418, 0.09497545659542084, 0.0, 0.0, 0.0, 0.0, 0.0, 0.0, 0.0, 0.0, 0.0, 0.0, 0.0], [0.18851269781589508, 0.7727595567703247, 0.03872770443558693, 0.0, 0.0, 0.0, 0.0, 0.0, 0.0, 0.0, 0.0, 0.0, 0.0], [0.2293328046798706, 0.5469786524772644, 0.19766925275325775, 0.02601928450167179, 0.0, 0.0, 0.0, 0.0, 0.0, 0.0, 0.0, 0.0, 0.0], [0.4649781286716461, 0.18428558111190796, 0.09471193701028824, 0.21832704544067383, 0.03769727796316147, 0.0, 0.0, 0.0, 0.0, 0.0, 0.0, 0.0, 0.0], [0.3151823580265045, 0.01711198128759861, 0.03758198767900467, 0.0494450144469738, 0.520767331123352, 0.05991137772798538, 0.0, 0.0, 0.0, 0.0, 0.0, 0.0, 0.0], [0.5743276476860046, 0.03265149146318436, 0.010616639629006386, 0.004610881675034761, 0.09258726984262466, 0.20711210370063782, 0.0780939906835556, 0.0, 0.0, 0.0, 0.0, 0.0, 0.0], [0.1706039309501648, 0.007906676270067692, 0.007862343452870846, 0.016500912606716156, 0.030078912153840065, 0.0322563610970974, 0.585439920425415, 0.14935097098350525, 0.0, 0.0, 0.0, 0.0, 0.0], [0.2799161970615387, 0.00903445202857256, 0.005159372929483652, 0.016216836869716644, 0.011752026155591011, 0.03182727470993996, 0.23452936112880707, 0.3459356129169464, 0.06562882661819458, 0.0, 0.0, 0.0, 0.0], [0.4175719916820526, 0.007249319460242987, 0.0013356033014133573, 0.013221262954175472, 0.01303668599575758, 0.003980365581810474, 0.059561289846897125, 0.2519475221633911, 0.12159903347492218, 0.11049693077802658, 0.0, 0.0, 0.0], [0.2747514843940735, 0.003939788322895765, 0.002716667018830776, 0.007781291846185923, 0.008785982616245747, 0.002978046191856265, 0.015536135993897915, 0.08220735937356949, 0.3162986934185028, 0.24450458586215973, 0.04050001502037048, 0.0, 0.0], [0.2690204083919525, 0.004165086429566145, 0.003353952197358012, 0.01063998881727457, 0.0015967084327712655, 0.003312374697998166, 0.030268505215644836, 0.0652431920170784, 0.10473087430000305, 0.2673240303993225, 0.03714161738753319, 0.2032032459974289, 0.0], [0.3344535231590271, 0.0007767912466078997, 0.0005681641050614417, 0.0004892871365882456, 0.0024756346829235554, 0.005850967951118946, 0.06229332834482193, 0.014943677932024002, 0.013178760185837746, 0.013201679103076458, 0.012189162895083427, 0.383076012134552, 0.15650306642055511]], [[1.0, 0.0, 0.0, 0.0, 0.0, 0.0, 0.0, 0.0, 0.0, 0.0, 0.0, 0.0, 0.0], [0.9736513495445251, 0.02634861133992672, 0.0, 0.0, 0.0, 0.0, 0.0, 0.0, 0.0, 0.0, 0.0, 0.0, 0.0], [0.641074001789093, 0.0693867951631546, 0.2895392179489136, 0.0, 0.0, 0.0, 0.0, 0.0, 0.0, 0.0, 0.0, 0.0, 0.0], [0.41237956285476685, 0.04338816925883293, 0.4238974452018738, 0.12033485621213913, 0.0, 0.0, 0.0, 0.0, 0.0, 0.0, 0.0, 0.0, 0.0], [0.32785800099372864, 0.01424366794526577, 0.23247727751731873, 0.3666020333766937, 0.05881904810667038, 0.0, 0.0, 0.0, 0.0, 0.0, 0.0, 0.0, 0.0], [0.3065415918827057, 0.0075112441554665565, 0.07515589892864227, 0.06321058422327042, 0.5196827054023743, 0.027897929772734642, 0.0, 0.0, 0.0, 0.0, 0.0, 0.0, 0.0], [0.21761353313922882, 0.00411679083481431, 0.036868348717689514, 0.01693522185087204, 0.574325680732727, 0.11097782105207443, 0.039162684231996536, 0.0, 0.0, 0.0, 0.0, 0.0, 0.0], [0.23765482008457184, 0.004149578977376223, 0.04699782282114029, 0.027124794200062752, 0.16896191239356995, 0.03369664028286934, 0.11913026124238968, 0.36228427290916443, 0.0, 0.0, 0.0, 0.0, 0.0], [0.30602553486824036, 0.0023001355584710836, 0.011771767400205135, 0.005720886401832104, 0.018501291051506996, 0.0013422240735962987, 0.01121235266327858, 0.6021952033042908, 0.040930598974227905, 0.0, 0.0, 0.0, 0.0], [0.2767821252346039, 0.0012515110429376364, 0.0014814231544733047, 0.007848149165511131, 0.02107188105583191, 0.003318855771794915, 0.008429327048361301, 0.54710853099823, 0.061952460557222366, 0.07075577229261398, 0.0, 0.0, 0.0], [0.35053279995918274, 0.0009977077133953571, 0.004447196610271931, 0.004907677881419659, 0.015213031321763992, 0.00045829013106413186, 0.0050928848795592785, 0.37561553716659546, 0.04290154576301575, 0.17599114775657654, 0.023842139169573784, 0.0, 0.0], [0.26655882596969604, 0.0006636379403062165, 0.0032612639479339123, 0.0030769971199333668, 0.027594534680247307, 0.0017759379697963595, 0.005088800098747015, 0.24583882093429565, 0.055942974984645844, 0.2003972828388214, 0.13716039061546326, 0.052640512585639954, 0.0], [0.32397186756134033, 0.0006519989110529423, 0.0028969093691557646, 0.0013991115847602487, 0.0055484529584646225, 0.0014061235124245286, 0.006623842287808657, 0.055465687066316605, 0.027638936415314674, 0.061747465282678604, 0.02260420098900795, 0.10114749521017075, 0.38889795541763306]], [[1.0, 0.0, 0.0, 0.0, 0.0, 0.0, 0.0, 0.0, 0.0, 0.0, 0.0, 0.0, 0.0], [0.9603825211524963, 0.039617497473955154, 0.0, 0.0, 0.0, 0.0, 0.0, 0.0, 0.0, 0.0, 0.0, 0.0, 0.0], [0.8411009311676025, 0.061776839196681976, 0.09712226688861847, 0.0, 0.0, 0.0, 0.0, 0.0, 0.0, 0.0, 0.0, 0.0, 0.0], [0.2843209207057953, 0.033971864730119705, 0.6706488728523254, 0.011058347299695015, 0.0, 0.0, 0.0, 0.0, 0.0, 0.0, 0.0, 0.0, 0.0], [0.23985695838928223, 0.05340074747800827, 0.3471333980560303, 0.3266821801662445, 0.03292661905288696, 0.0, 0.0, 0.0, 0.0, 0.0, 0.0, 0.0, 0.0], [0.3733655512332916, 0.03620261326432228, 0.18075250089168549, 0.2920292615890503, 0.10421903431415558, 0.013431014493107796, 0.0, 0.0, 0.0, 0.0, 0.0, 0.0, 0.0], [0.7792719602584839, 0.011684492230415344, 0.07064468413591385, 0.04002505540847778, 0.031915824860334396, 0.048909299075603485, 0.017548657953739166, 0.0, 0.0, 0.0, 0.0, 0.0, 0.0], [0.2562757730484009, 0.09535860270261765, 0.3978443145751953, 0.13727903366088867, 0.039132654666900635, 0.009952744469046593, 0.0009105729986913502, 0.06324627995491028, 0.0, 0.0, 0.0, 0.0, 0.0], [0.7449800372123718, 0.023403160274028778, 0.040930334478616714, 0.019947262480854988, 0.007132916245609522, 0.0006515419809147716, 0.001363651710562408, 0.07171303778886795, 0.08987803012132645, 0.0, 0.0, 0.0, 0.0], [0.6506460905075073, 0.03020097315311432, 0.008956530131399632, 0.0037702445406466722, 0.004055865574628115, 0.000560166547074914, 0.0003317756927572191, 0.06236051023006439, 0.1037101075053215, 0.1354077011346817, 0.0, 0.0, 0.0], [0.42270177602767944, 0.01013248972594738, 0.045269373804330826, 0.012783113867044449, 0.0009589360561221838, 0.0004433223220985383, 0.00014952094352338463, 0.03842068091034889, 0.2004842907190323, 0.26617759466171265, 0.0024789622984826565, 0.0, 0.0], [0.3021277189254761, 0.0035241818986833096, 0.03856349363923073, 0.015101054683327675, 0.0034504556097090244, 0.0059335315600037575, 0.0018329286249354482, 0.05358239263296127, 0.09603065997362137, 0.34986546635627747, 0.1098337471485138, 0.02015439234673977, 0.0], [0.43493449687957764, 0.016953257843852043, 0.028538836166262627, 0.007225644774734974, 0.004551063757389784, 0.0013598211808130145, 0.00032609913614578545, 0.012067755684256554, 0.1772126406431198, 0.15050837397575378, 0.011956955306231976, 0.04112178087234497, 0.1132432147860527]], [[1.0, 0.0, 0.0, 0.0, 0.0, 0.0, 0.0, 0.0, 0.0, 0.0, 0.0, 0.0, 0.0], [0.9885148406028748, 0.011485139839351177, 0.0, 0.0, 0.0, 0.0, 0.0, 0.0, 0.0, 0.0, 0.0, 0.0, 0.0], [0.9103549122810364, 0.018613513559103012, 0.07103163748979568, 0.0, 0.0, 0.0, 0.0, 0.0, 0.0, 0.0, 0.0, 0.0, 0.0], [0.8472940921783447, 0.025455044582486153, 0.03724663704633713, 0.09000419825315475, 0.0, 0.0, 0.0, 0.0, 0.0, 0.0, 0.0, 0.0, 0.0], [0.7874060869216919, 0.008024516515433788, 0.02853272296488285, 0.02631000429391861, 0.14972656965255737, 0.0, 0.0, 0.0, 0.0, 0.0, 0.0, 0.0, 0.0], [0.7853061556816101, 0.006027114111930132, 0.006054516416043043, 0.015183639712631702, 0.04958682507276535, 0.13784177601337433, 0.0, 0.0, 0.0, 0.0, 0.0, 0.0, 0.0], [0.6740029454231262, 0.007195242680609226, 0.006545912474393845, 0.012724513188004494, 0.03817741945385933, 0.1260720044374466, 0.13528206944465637, 0.0, 0.0, 0.0, 0.0, 0.0, 0.0], [0.714891791343689, 0.010742148384451866, 0.018193505704402924, 0.010207785293459892, 0.02869955077767372, 0.05579540878534317, 0.03173881396651268, 0.12973099946975708, 0.0, 0.0, 0.0, 0.0, 0.0], [0.6804032325744629, 0.01777946576476097, 0.025745298713445663, 0.01742168515920639, 0.014082157053053379, 0.05306674912571907, 0.019803790375590324, 0.07733536511659622, 0.09436231106519699, 0.0, 0.0, 0.0, 0.0], [0.6939837336540222, 0.006908931769430637, 0.030592340975999832, 0.024642864242196083, 0.013867977075278759, 0.018310680985450745, 0.010310308076441288, 0.07887972891330719, 0.04798666015267372, 0.07451684027910233, 0.0, 0.0, 0.0], [0.6813658475875854, 0.009828725829720497, 0.00782779697328806, 0.047112952917814255, 0.023086680099368095, 0.011061926372349262, 0.004858584608882666, 0.053887173533439636, 0.020040100440382957, 0.0178140327334404, 0.1231161504983902, 0.0, 0.0], [0.6527941226959229, 0.008485203608870506, 0.005236306693404913, 0.012656094506382942, 0.019735200330615044, 0.013640007004141808, 0.007894659414887428, 0.034338366240262985, 0.025868328288197517, 0.010638242587447166, 0.04943055659532547, 0.15928296744823456, 0.0], [0.5937409400939941, 0.007932033389806747, 0.005618416238576174, 0.006478303577750921, 0.019074352458119392, 0.02594401128590107, 0.009230103343725204, 0.04443800076842308, 0.053891293704509735, 0.011530358344316483, 0.039010774344205856, 0.059563543647527695, 0.12354782223701477]], [[1.0, 0.0, 0.0, 0.0, 0.0, 0.0, 0.0, 0.0, 0.0, 0.0, 0.0, 0.0, 0.0], [0.9167147278785706, 0.08328526467084885, 0.0, 0.0, 0.0, 0.0, 0.0, 0.0, 0.0, 0.0, 0.0, 0.0, 0.0], [0.5784357190132141, 0.3222222626209259, 0.09934192895889282, 0.0, 0.0, 0.0, 0.0, 0.0, 0.0, 0.0, 0.0, 0.0, 0.0], [0.2775789499282837, 0.2681957483291626, 0.2393627017736435, 0.21486259996891022, 0.0, 0.0, 0.0, 0.0, 0.0, 0.0, 0.0, 0.0, 0.0], [0.06023241952061653, 0.024906691163778305, 0.03658406063914299, 0.8543497323989868, 0.02392714098095894, 0.0, 0.0, 0.0, 0.0, 0.0, 0.0, 0.0, 0.0], [0.1692124456167221, 0.03704102709889412, 0.03348719701170921, 0.3232645094394684, 0.4132433235645294, 0.02375153824687004, 0.0, 0.0, 0.0, 0.0, 0.0, 0.0, 0.0], [0.3277735412120819, 0.020525384694337845, 0.020922794938087463, 0.05787860229611397, 0.27031734585762024, 0.2432055026292801, 0.05937681719660759, 0.0, 0.0, 0.0, 0.0, 0.0, 0.0], [0.10394620895385742, 0.03443591669201851, 0.05248705670237541, 0.3574540317058563, 0.26691770553588867, 0.11132489144802094, 0.018378689885139465, 0.05505548045039177, 0.0, 0.0, 0.0, 0.0, 0.0], [0.5960761308670044, 0.04353199154138565, 0.03048667497932911, 0.09080614894628525, 0.057145457714796066, 0.021659189835190773, 0.02569757215678692, 0.09016886353492737, 0.04442795366048813, 0.0, 0.0, 0.0, 0.0], [0.5799752473831177, 0.0884203165769577, 0.008068912662565708, 0.026807785034179688, 0.025045551359653473, 0.013311363756656647, 0.006129343993961811, 0.1062193363904953, 0.05204474925994873, 0.09397745132446289, 0.0, 0.0, 0.0], [0.2621946334838867, 0.0326935239136219, 0.015132383443415165, 0.07011909037828445, 0.02255963906645775, 0.0011723903007805347, 0.0012270959559828043, 0.10679827630519867, 0.02024869993329048, 0.12620022892951965, 0.34165409207344055, 0.0, 0.0], [0.16553398966789246, 0.004523693583905697, 0.0020797979086637497, 0.003583903657272458, 0.043109387159347534, 0.0059444657526910305, 0.0019040647894144058, 0.037374041974544525, 0.019363462924957275, 0.048662275075912476, 0.6009581089019775, 0.06696280092000961, 0.0], [0.1543322205543518, 0.0072078402154147625, 0.0058199395425617695, 0.020189067348837852, 0.011519208550453186, 0.006850250065326691, 0.0019755002576857805, 0.010837194509804249, 0.01399180293083191, 0.04893339052796364, 0.15230420231819153, 0.4329906404018402, 0.13304874300956726]]], [[[1.0, 0.0, 0.0, 0.0, 0.0, 0.0, 0.0, 0.0, 0.0, 0.0, 0.0, 0.0, 0.0], [0.9955185651779175, 0.0044813756830990314, 0.0, 0.0, 0.0, 0.0, 0.0, 0.0, 0.0, 0.0, 0.0, 0.0, 0.0], [0.9338155388832092, 0.03500803932547569, 0.031176390126347542, 0.0, 0.0, 0.0, 0.0, 0.0, 0.0, 0.0, 0.0, 0.0, 0.0], [0.6398515105247498, 0.011245368048548698, 0.30002087354660034, 0.04888226464390755, 0.0, 0.0, 0.0, 0.0, 0.0, 0.0, 0.0, 0.0, 0.0], [0.22741760313510895, 0.012661873362958431, 0.06816714257001877, 0.6757305860519409, 0.01602283865213394, 0.0, 0.0, 0.0, 0.0, 0.0, 0.0, 0.0, 0.0], [0.12646567821502686, 0.008006728254258633, 0.07528690993785858, 0.08726906776428223, 0.6902768015861511, 0.012694801203906536, 0.0, 0.0, 0.0, 0.0, 0.0, 0.0, 0.0], [0.3651682734489441, 0.004172178450971842, 0.024205897003412247, 0.04302533343434334, 0.3532123863697052, 0.11399552971124649, 0.09622051566839218, 0.0, 0.0, 0.0, 0.0, 0.0, 0.0], [0.4736793339252472, 0.005451485048979521, 0.07515192031860352, 0.057243216782808304, 0.2460530698299408, 0.04913066327571869, 0.03229104354977608, 0.0609993040561676, 0.0, 0.0, 0.0, 0.0, 0.0], [0.781223475933075, 0.0056377919390797615, 0.022160736843943596, 0.00884558167308569, 0.08972077816724777, 0.0029234797693789005, 0.002477876143530011, 0.04653909429907799, 0.04047117009758949, 0.0, 0.0, 0.0, 0.0], [0.755233645439148, 0.008487943559885025, 0.002521319780498743, 0.0006033320678398013, 0.009699370712041855, 0.004180449061095715, 0.0030252544675022364, 0.06094060093164444, 0.10076534748077393, 0.05454283580183983, 0.0, 0.0, 0.0], [0.653108537197113, 0.0009944569319486618, 0.005274954717606306, 0.008603709749877453, 0.0015432179206982255, 0.00047643310972489417, 0.0005072189960628748, 0.027432482689619064, 0.07238546758890152, 0.22042182087898254, 0.00925168115645647, 0.0, 0.0], [0.35632604360580444, 0.00044171864283271134, 0.007616531569510698, 0.014769468456506729, 0.003333620261400938, 0.007287025451660156, 0.0010533368913456798, 0.030429918318986893, 0.13523907959461212, 0.25885453820228577, 0.17165416479110718, 0.01299451757222414, 0.0], [0.7260752320289612, 0.0006412765360437334, 0.0048521943390369415, 0.00497850775718689, 0.006356423255056143, 0.0026852129958570004, 0.0010855067521333694, 0.011714421212673187, 0.017788097262382507, 0.05562681332230568, 0.05804096534848213, 0.05316658690571785, 0.05698874965310097]], [[1.0, 0.0, 0.0, 0.0, 0.0, 0.0, 0.0, 0.0, 0.0, 0.0, 0.0, 0.0, 0.0], [0.9848663210868835, 0.015133670531213284, 0.0, 0.0, 0.0, 0.0, 0.0, 0.0, 0.0, 0.0, 0.0, 0.0, 0.0], [0.8984256386756897, 0.05691501498222351, 0.0446593277156353, 0.0, 0.0, 0.0, 0.0, 0.0, 0.0, 0.0, 0.0, 0.0, 0.0], [0.8002119064331055, 0.013018358498811722, 0.15981662273406982, 0.02695310488343239, 0.0, 0.0, 0.0, 0.0, 0.0, 0.0, 0.0, 0.0, 0.0], [0.5349718332290649, 0.014156555756926537, 0.07987173646688461, 0.3053264617919922, 0.06567338109016418, 0.0, 0.0, 0.0, 0.0, 0.0, 0.0, 0.0, 0.0], [0.300913542509079, 0.04831264540553093, 0.1176282986998558, 0.15815098583698273, 0.3211859464645386, 0.05380852147936821, 0.0, 0.0, 0.0, 0.0, 0.0, 0.0, 0.0], [0.5159673094749451, 0.038025952875614166, 0.09455603361129761, 0.035538382828235626, 0.1903805434703827, 0.07655736804008484, 0.048974402248859406, 0.0, 0.0, 0.0, 0.0, 0.0, 0.0], [0.6340773701667786, 0.04354225471615791, 0.04753190651535988, 0.044639769941568375, 0.09660916775465012, 0.020162124186754227, 0.03232971206307411, 0.0811077281832695, 0.0, 0.0, 0.0, 0.0, 0.0], [0.6454920172691345, 0.010665198788046837, 0.007009592838585377, 0.005110412370413542, 0.007207472808659077, 0.003057602560147643, 0.0047811116091907024, 0.2645629942417145, 0.05211365595459938, 0.0, 0.0, 0.0, 0.0], [0.4285432994365692, 0.011491491459310055, 0.0020328809041529894, 0.010204561986029148, 0.004065907094627619, 0.002499030902981758, 0.0060228221118450165, 0.34511491656303406, 0.11616013944149017, 0.07386501133441925, 0.0, 0.0, 0.0], [0.30950501561164856, 0.0009815494995564222, 0.0034612875897437334, 0.006526789162307978, 0.006532194092869759, 0.0014777880860492587, 0.0017258847365155816, 0.3846456706523895, 0.134195476770401, 0.13448740541934967, 0.016461027786135674, 0.0, 0.0], [0.23073242604732513, 0.006651127710938454, 0.010625137016177177, 0.014381240122020245, 0.021704548969864845, 0.016473758965730667, 0.005625746212899685, 0.12139160931110382, 0.19426986575126648, 0.11301014572381973, 0.22766560316085815, 0.037468794733285904, 0.0], [0.6896378397941589, 0.004661174491047859, 0.006387130822986364, 0.003584938822314143, 0.0068824621848762035, 0.002367268316447735, 0.0021860606502741575, 0.02088472619652748, 0.046468209475278854, 0.04985006898641586, 0.044293105602264404, 0.027201669290661812, 0.09559538960456848]], [[1.0, 0.0, 0.0, 0.0, 0.0, 0.0, 0.0, 0.0, 0.0, 0.0, 0.0, 0.0, 0.0], [0.9606512784957886, 0.039348721504211426, 0.0, 0.0, 0.0, 0.0, 0.0, 0.0, 0.0, 0.0, 0.0, 0.0, 0.0], [0.8652741312980652, 0.0992295891046524, 0.03549626097083092, 0.0, 0.0, 0.0, 0.0, 0.0, 0.0, 0.0, 0.0, 0.0, 0.0], [0.9131034016609192, 0.03206581249833107, 0.03595386818051338, 0.01887688599526882, 0.0, 0.0, 0.0, 0.0, 0.0, 0.0, 0.0, 0.0, 0.0], [0.9361212849617004, 0.028009621426463127, 0.01373972650617361, 0.015760811045765877, 0.006368596106767654, 0.0, 0.0, 0.0, 0.0, 0.0, 0.0, 0.0, 0.0], [0.7980849146842957, 0.03924912214279175, 0.03219788894057274, 0.04061047360301018, 0.02344323694705963, 0.06641438603401184, 0.0, 0.0, 0.0, 0.0, 0.0, 0.0, 0.0], [0.5915705561637878, 0.17512555420398712, 0.03886136785149574, 0.00685208709910512, 0.06069768965244293, 0.09730708599090576, 0.029585720971226692, 0.0, 0.0, 0.0, 0.0, 0.0, 0.0], [0.6351518630981445, 0.06314481049776077, 0.03810543939471245, 0.028330273926258087, 0.015430186875164509, 0.12496064603328705, 0.024370070546865463, 0.07050666213035583, 0.0, 0.0, 0.0, 0.0, 0.0], [0.5956732630729675, 0.06508589535951614, 0.03432588279247284, 0.09019894152879715, 0.017645923420786858, 0.07316450029611588, 0.02065618336200714, 0.07547248899936676, 0.027776865288615227, 0.0, 0.0, 0.0, 0.0], [0.5541346669197083, 0.03037228435277939, 0.026477934792637825, 0.16239242255687714, 0.0300451572984457, 0.048724833875894547, 0.032182831317186356, 0.0641113743185997, 0.027133122086524963, 0.02442542277276516, 0.0, 0.0, 0.0], [0.6534693241119385, 0.06639648973941803, 0.01344495639204979, 0.014362199231982231, 0.018537499010562897, 0.04844945669174194, 0.04543372616171837, 0.08762697130441666, 0.0226004458963871, 0.020596424117684364, 0.00908253900706768, 0.0, 0.0], [0.5958512425422668, 0.079396553337574, 0.0276484414935112, 0.020956579595804214, 0.02445804700255394, 0.04399111494421959, 0.025685859844088554, 0.09670598804950714, 0.020654290914535522, 0.018851203843951225, 0.01964910700917244, 0.026151496917009354, 0.0], [0.5738499760627747, 0.026294587180018425, 0.024128766730427742, 0.0203913114964962, 0.008645288646221161, 0.07270051538944244, 0.02717764303088188, 0.08485525846481323, 0.01483309268951416, 0.012272709049284458, 0.009908540174365044, 0.01629817485809326, 0.10864409059286118]], [[1.0, 0.0, 0.0, 0.0, 0.0, 0.0, 0.0, 0.0, 0.0, 0.0, 0.0, 0.0, 0.0], [0.9773926138877869, 0.02260742150247097, 0.0, 0.0, 0.0, 0.0, 0.0, 0.0, 0.0, 0.0, 0.0, 0.0, 0.0], [0.5088164210319519, 0.44790777564048767, 0.04327572509646416, 0.0, 0.0, 0.0, 0.0, 0.0, 0.0, 0.0, 0.0, 0.0, 0.0], [0.2935177683830261, 0.46332159638404846, 0.23807717859745026, 0.00508341146633029, 0.0, 0.0, 0.0, 0.0, 0.0, 0.0, 0.0, 0.0, 0.0], [0.23702813684940338, 0.4536772668361664, 0.19576279819011688, 0.07063355296850204, 0.04289824143052101, 0.0, 0.0, 0.0, 0.0, 0.0, 0.0, 0.0, 0.0], [0.5783793926239014, 0.18402250111103058, 0.11408468335866928, 0.025840159505605698, 0.08270075917243958, 0.014972404576838017, 0.0, 0.0, 0.0, 0.0, 0.0, 0.0, 0.0], [0.7211219072341919, 0.020734654739499092, 0.017127566039562225, 0.0026583990547806025, 0.021656548604369164, 0.06595684587955475, 0.15074408054351807, 0.0, 0.0, 0.0, 0.0, 0.0, 0.0], [0.2072320282459259, 0.18950608372688293, 0.11640807241201401, 0.018984902650117874, 0.07215248793363571, 0.022013938054442406, 0.3491796553134918, 0.024522889405488968, 0.0, 0.0, 0.0, 0.0, 0.0], [0.44765299558639526, 0.016092944890260696, 0.025774681940674782, 0.008041750639677048, 0.044409241527318954, 0.021468406543135643, 0.3726966977119446, 0.030569467693567276, 0.033293768763542175, 0.0, 0.0, 0.0, 0.0], [0.3515438139438629, 0.00391951110213995, 0.004530070349574089, 0.004676220007240772, 0.015919597819447517, 0.02843424305319786, 0.3925440311431885, 0.03630834445357323, 0.10128746926784515, 0.06083671376109123, 0.0, 0.0, 0.0], [0.24907007813453674, 0.015494223684072495, 0.01281305868178606, 0.0036373459734022617, 0.013235285878181458, 0.04616452381014824, 0.20765255391597748, 0.016574356704950333, 0.25980082154273987, 0.17072951793670654, 0.004828300792723894, 0.0, 0.0], [0.08691416680812836, 0.018677404150366783, 0.006310911383479834, 0.0008317523170262575, 0.002329370239749551, 0.011504428461194038, 0.0782545804977417, 0.00635662442073226, 0.6052636504173279, 0.14052529633045197, 0.008064134046435356, 0.03496759757399559, 0.0], [0.5377336740493774, 0.03303524851799011, 0.01855291798710823, 0.0028046935331076384, 0.005365713033825159, 0.007380174472928047, 0.08583056926727295, 0.006790767423808575, 0.12342904508113861, 0.07573959231376648, 0.015143366530537605, 0.07369031757116318, 0.014503903687000275]], [[1.0, 0.0, 0.0, 0.0, 0.0, 0.0, 0.0, 0.0, 0.0, 0.0, 0.0, 0.0, 0.0], [0.9680187106132507, 0.03198130428791046, 0.0, 0.0, 0.0, 0.0, 0.0, 0.0, 0.0, 0.0, 0.0, 0.0, 0.0], [0.9001851081848145, 0.060627494007349014, 0.03918742015957832, 0.0, 0.0, 0.0, 0.0, 0.0, 0.0, 0.0, 0.0, 0.0, 0.0], [0.9083689451217651, 0.016472170129418373, 0.04767872765660286, 0.027480153366923332, 0.0, 0.0, 0.0, 0.0, 0.0, 0.0, 0.0, 0.0, 0.0], [0.9245403409004211, 0.013833430595695972, 0.0165617223829031, 0.031099140644073486, 0.013965308666229248, 0.0, 0.0, 0.0, 0.0, 0.0, 0.0, 0.0, 0.0], [0.7559722065925598, 0.006560344249010086, 0.006854454055428505, 0.01583491638302803, 0.02456321194767952, 0.1902148574590683, 0.0, 0.0, 0.0, 0.0, 0.0, 0.0, 0.0], [0.8867242336273193, 0.012606918811798096, 0.0031487043015658855, 0.00103372719604522, 0.0078093670308589935, 0.07451438903808594, 0.014162678271532059, 0.0, 0.0, 0.0, 0.0, 0.0, 0.0], [0.793390691280365, 0.05951818823814392, 0.03616708517074585, 0.012814137153327465, 0.008268223144114017, 0.027872540056705475, 0.021705105900764465, 0.040264006704092026, 0.0, 0.0, 0.0, 0.0, 0.0], [0.8597985506057739, 0.00761954253539443, 0.016410237178206444, 0.0039050509221851826, 0.003837462980300188, 0.03330790996551514, 0.0046770465560257435, 0.022522833198308945, 0.047921329736709595, 0.0, 0.0, 0.0, 0.0], [0.745186984539032, 0.0022891026455909014, 0.024469837546348572, 0.003020108910277486, 0.0026997674722224474, 0.017031453549861908, 0.001402934198267758, 0.02643907628953457, 0.07429917901754379, 0.10316154360771179, 0.0, 0.0, 0.0], [0.6716397404670715, 0.000581353553570807, 0.012018564157187939, 0.0014280941104516387, 0.0004419124743435532, 0.013412156142294407, 0.0011012674076482654, 0.012440532445907593, 0.05847317352890968, 0.05052674934267998, 0.17793647944927216, 0.0, 0.0], [0.3339831829071045, 0.0006488887593150139, 0.007197258528321981, 0.0005339028430171311, 0.0019755444955080748, 0.010791842825710773, 0.0010840075556188822, 0.007153334096074104, 0.041022904217243195, 0.029355363920331, 0.5299792289733887, 0.03627455607056618, 0.0], [0.6182219386100769, 0.024082070216536522, 0.022110814228653908, 0.005981022026389837, 0.0036645380314439535, 0.017365671694278717, 0.0129548329859972, 0.02505369298160076, 0.021968208253383636, 0.032786473631858826, 0.08430501073598862, 0.07646340876817703, 0.05504223331809044]], [[1.0, 0.0, 0.0, 0.0, 0.0, 0.0, 0.0, 0.0, 0.0, 0.0, 0.0, 0.0, 0.0], [0.899496853351593, 0.10050313919782639, 0.0, 0.0, 0.0, 0.0, 0.0, 0.0, 0.0, 0.0, 0.0, 0.0, 0.0], [0.6141067147254944, 0.363920122385025, 0.02197316847741604, 0.0, 0.0, 0.0, 0.0, 0.0, 0.0, 0.0, 0.0, 0.0, 0.0], [0.7976861000061035, 0.09064938127994537, 0.05065903440117836, 0.06100555509328842, 0.0, 0.0, 0.0, 0.0, 0.0, 0.0, 0.0, 0.0, 0.0], [0.5528107285499573, 0.023711247369647026, 0.0601789765059948, 0.34559166431427, 0.017707372084259987, 0.0, 0.0, 0.0, 0.0, 0.0, 0.0, 0.0, 0.0], [0.8238428831100464, 0.009006389416754246, 0.021945657208561897, 0.03946893289685249, 0.054596830159425735, 0.05113927274942398, 0.0, 0.0, 0.0, 0.0, 0.0, 0.0, 0.0], [0.7791516184806824, 0.004426336847245693, 0.0009811378549784422, 0.011517969891428947, 0.025884389877319336, 0.10946600139141083, 0.06857258826494217, 0.0, 0.0, 0.0, 0.0, 0.0, 0.0], [0.676270604133606, 0.016887258738279343, 0.024741869419813156, 0.037801593542099, 0.06801049411296844, 0.09952143579721451, 0.042995575815439224, 0.033771198242902756, 0.0, 0.0, 0.0, 0.0, 0.0], [0.9066910147666931, 0.005197383929044008, 0.0033692987635731697, 0.007149146869778633, 0.0029379825573414564, 0.007542507257312536, 0.008636788465082645, 0.035069528967142105, 0.023406390100717545, 0.0, 0.0, 0.0, 0.0], [0.7408246397972107, 0.0037211445160210133, 0.0005244440399110317, 0.00855792686343193, 0.0013805378694087267, 0.005114881321787834, 0.007002376951277256, 0.06954547762870789, 0.13810686767101288, 0.025221634656190872, 0.0, 0.0, 0.0], [0.7800940275192261, 0.0009931842796504498, 0.0006234297179616988, 0.0014776402385905385, 0.001591886393725872, 0.005253077484667301, 0.00274465698748827, 0.05280769243836403, 0.05957764759659767, 0.022081688046455383, 0.07275503873825073, 0.0, 0.0], [0.30365121364593506, 0.0009254138567484915, 0.0008686149376444519, 0.016692865639925003, 0.003928660415112972, 0.01783800683915615, 0.011129563674330711, 0.0959286168217659, 0.0767965018749237, 0.026830308139324188, 0.43040159344673157, 0.015008672140538692, 0.0], [0.7876776456832886, 0.0018395263468846679, 0.0010410366812720895, 0.001905334647744894, 0.0025413124822080135, 0.004988985601812601, 0.004226399585604668, 0.013341869227588177, 0.020500753074884415, 0.01321739237755537, 0.0819496139883995, 0.008100549690425396, 0.058669496327638626]], [[1.0, 0.0, 0.0, 0.0, 0.0, 0.0, 0.0, 0.0, 0.0, 0.0, 0.0, 0.0, 0.0], [0.973050057888031, 0.02694995515048504, 0.0, 0.0, 0.0, 0.0, 0.0, 0.0, 0.0, 0.0, 0.0, 0.0, 0.0], [0.7827020287513733, 0.15662448108196259, 0.06067350134253502, 0.0, 0.0, 0.0, 0.0, 0.0, 0.0, 0.0, 0.0, 0.0, 0.0], [0.7320581674575806, 0.144844189286232, 0.09210297465324402, 0.03099469095468521, 0.0, 0.0, 0.0, 0.0, 0.0, 0.0, 0.0, 0.0, 0.0], [0.6693501472473145, 0.08052337914705276, 0.06669189780950546, 0.15398269891738892, 0.029451925307512283, 0.0, 0.0, 0.0, 0.0, 0.0, 0.0, 0.0, 0.0], [0.5525631308555603, 0.11627253144979477, 0.09886431694030762, 0.09500158578157425, 0.09003260731697083, 0.04726579412817955, 0.0, 0.0, 0.0, 0.0, 0.0, 0.0, 0.0], [0.655684769153595, 0.09148610383272171, 0.025315087288618088, 0.0356152318418026, 0.08789139240980148, 0.0768527165055275, 0.027154680341482162, 0.0, 0.0, 0.0, 0.0, 0.0, 0.0], [0.34619930386543274, 0.07857318967580795, 0.08982634544372559, 0.06837864965200424, 0.11628403514623642, 0.07296394556760788, 0.15410219132900238, 0.07367231696844101, 0.0, 0.0, 0.0, 0.0, 0.0], [0.3228883743286133, 0.16506949067115784, 0.11418969929218292, 0.07574053853750229, 0.05946740508079529, 0.03686445951461792, 0.0796588882803917, 0.12138210237026215, 0.024739032611250877, 0.0, 0.0, 0.0, 0.0], [0.4886303246021271, 0.03986167907714844, 0.02776365540921688, 0.0547187514603138, 0.047905415296554565, 0.03307996317744255, 0.10393757373094559, 0.07357285171747208, 0.0406607910990715, 0.08986905217170715, 0.0, 0.0, 0.0], [0.6906057000160217, 0.010607266798615456, 0.013544665649533272, 0.02622291073203087, 0.02331775799393654, 0.020531851798295975, 0.024568405002355576, 0.041833359748125076, 0.029587838798761368, 0.08646038174629211, 0.032719846814870834, 0.0, 0.0], [0.48559725284576416, 0.03170004114508629, 0.02250533550977707, 0.03463931009173393, 0.029621127992868423, 0.02000671811401844, 0.027807414531707764, 0.05016656965017319, 0.052280087023973465, 0.11142604053020477, 0.08679933845996857, 0.047450799494981766, 0.0], [0.409384161233902, 0.03437903895974159, 0.035152971744537354, 0.014674117788672447, 0.01643413119018078, 0.01648993417620659, 0.02138856239616871, 0.03804393112659454, 0.07389914989471436, 0.10841669142246246, 0.06246569752693176, 0.08691458404064178, 0.08235706388950348]], [[1.0, 0.0, 0.0, 0.0, 0.0, 0.0, 0.0, 0.0, 0.0, 0.0, 0.0, 0.0, 0.0], [0.9734550714492798, 0.026544975116848946, 0.0, 0.0, 0.0, 0.0, 0.0, 0.0, 0.0, 0.0, 0.0, 0.0, 0.0], [0.6666272878646851, 0.05596240609884262, 0.27741023898124695, 0.0, 0.0, 0.0, 0.0, 0.0, 0.0, 0.0, 0.0, 0.0, 0.0], [0.750521719455719, 0.016268014907836914, 0.043251946568489075, 0.1899583339691162, 0.0, 0.0, 0.0, 0.0, 0.0, 0.0, 0.0, 0.0, 0.0], [0.3243396282196045, 0.025431951507925987, 0.05914284288883209, 0.22901713848114014, 0.3620684742927551, 0.0, 0.0, 0.0, 0.0, 0.0, 0.0, 0.0, 0.0], [0.5684930086135864, 0.005754913203418255, 0.022129124030470848, 0.04928199574351311, 0.11628778278827667, 0.23805321753025055, 0.0, 0.0, 0.0, 0.0, 0.0, 0.0, 0.0], [0.31296229362487793, 0.015136501751840115, 0.008491120301187038, 0.009576905518770218, 0.01979585736989975, 0.06910078972578049, 0.5649364590644836, 0.0, 0.0, 0.0, 0.0, 0.0, 0.0], [0.12258259207010269, 0.005846766754984856, 0.02515055239200592, 0.01932813599705696, 0.029433729127049446, 0.012123093008995056, 0.06825274229049683, 0.7172824144363403, 0.0, 0.0, 0.0, 0.0, 0.0], [0.19900280237197876, 0.004090119153261185, 0.013035055249929428, 0.002210646402090788, 0.0018170047551393509, 0.0029993222560733557, 0.002150235464796424, 0.12687237560749054, 0.6478224396705627, 0.0, 0.0, 0.0, 0.0], [0.4493792951107025, 0.008097386918962002, 0.01208015251904726, 0.0027527331840246916, 0.0010795145062729716, 0.0023424564860761166, 0.009932502172887325, 0.025505417957901955, 0.15794681012630463, 0.3308837413787842, 0.0, 0.0, 0.0], [0.5170208215713501, 0.006559045519679785, 0.006996094714850187, 0.032534923404455185, 0.002754773711785674, 0.0031021025497466326, 0.003845038590952754, 0.016413940116763115, 0.045750901103019714, 0.09035905450582504, 0.27466318011283875, 0.0, 0.0], [0.19393150508403778, 0.00863521546125412, 0.004192854277789593, 0.03339174762368202, 0.018599558621644974, 0.009595516137778759, 0.017646457999944687, 0.01896963082253933, 0.03414282202720642, 0.03596704453229904, 0.09846996515989304, 0.5264577865600586, 0.0], [0.1228102445602417, 0.002908520633354783, 0.006933472119271755, 0.004762736614793539, 0.015917854383587837, 0.008177430368959904, 0.01843230612576008, 0.0673426017165184, 0.021581489592790604, 0.016916140913963318, 0.009463092312216759, 0.08027152717113495, 0.6244825720787048]], [[1.0, 0.0, 0.0, 0.0, 0.0, 0.0, 0.0, 0.0, 0.0, 0.0, 0.0, 0.0, 0.0], [0.9823357462882996, 0.01766420342028141, 0.0, 0.0, 0.0, 0.0, 0.0, 0.0, 0.0, 0.0, 0.0, 0.0, 0.0], [0.9669655561447144, 0.019369645044207573, 0.01366488914936781, 0.0, 0.0, 0.0, 0.0, 0.0, 0.0, 0.0, 0.0, 0.0, 0.0], [0.9543560147285461, 0.016794662922620773, 0.015476735308766365, 0.01337252277880907, 0.0, 0.0, 0.0, 0.0, 0.0, 0.0, 0.0, 0.0, 0.0], [0.9727767705917358, 0.004677936900407076, 0.004413557704538107, 0.01540920976549387, 0.002722526201978326, 0.0, 0.0, 0.0, 0.0, 0.0, 0.0, 0.0, 0.0], [0.7998055219650269, 0.03588126599788666, 0.02513548545539379, 0.0794922411441803, 0.03511041775345802, 0.024575065821409225, 0.0, 0.0, 0.0, 0.0, 0.0, 0.0, 0.0], [0.8882660865783691, 0.015911834314465523, 0.030659517273306847, 0.023050857707858086, 0.01157162431627512, 0.012495786882936954, 0.01804429292678833, 0.0, 0.0, 0.0, 0.0, 0.0, 0.0], [0.6704983115196228, 0.02794811688363552, 0.025952225551009178, 0.08786263316869736, 0.02668183669447899, 0.04005791246891022, 0.0644998550415039, 0.05649902671575546, 0.0, 0.0, 0.0, 0.0, 0.0], [0.799368679523468, 0.02796812169253826, 0.01655890978872776, 0.04012955352663994, 0.02686464786529541, 0.014406045898795128, 0.017045676708221436, 0.03290389105677605, 0.024754419922828674, 0.0, 0.0, 0.0, 0.0], [0.8206297755241394, 0.024990264326334, 0.012685930356383324, 0.01897723600268364, 0.014287876896560192, 0.00863581895828247, 0.015263157896697521, 0.01903221756219864, 0.015911592170596123, 0.04958609119057655, 0.0, 0.0, 0.0], [0.7551760673522949, 0.022514156997203827, 0.015527120791375637, 0.01642884500324726, 0.03894166275858879, 0.014411219395697117, 0.01707392930984497, 0.01927124336361885, 0.017952799797058105, 0.031794287264347076, 0.05090874806046486, 0.0, 0.0], [0.516730546951294, 0.046346332877874374, 0.06467971205711365, 0.023322949185967445, 0.024717798456549644, 0.02285216934978962, 0.012684262357652187, 0.015040806494653225, 0.019122665748000145, 0.056920018047094345, 0.1450508087873459, 0.05253194272518158, 0.0], [0.4506808817386627, 0.06344509869813919, 0.07722966372966766, 0.024101782590150833, 0.01969449408352375, 0.04595241695642471, 0.045860350131988525, 0.04047153890132904, 0.02042175643146038, 0.05758676305413246, 0.07736944407224655, 0.0460912324488163, 0.03109457530081272]], [[1.0, 0.0, 0.0, 0.0, 0.0, 0.0, 0.0, 0.0, 0.0, 0.0, 0.0, 0.0, 0.0], [0.9211961030960083, 0.0788039043545723, 0.0, 0.0, 0.0, 0.0, 0.0, 0.0, 0.0, 0.0, 0.0, 0.0, 0.0], [0.7562230229377747, 0.22669421136379242, 0.017082789912819862, 0.0, 0.0, 0.0, 0.0, 0.0, 0.0, 0.0, 0.0, 0.0, 0.0], [0.6752325892448425, 0.05528447404503822, 0.2129434496164322, 0.05653949826955795, 0.0, 0.0, 0.0, 0.0, 0.0, 0.0, 0.0, 0.0, 0.0], [0.6043609976768494, 0.15307727456092834, 0.09918026626110077, 0.11733020097017288, 0.026051189750432968, 0.0, 0.0, 0.0, 0.0, 0.0, 0.0, 0.0, 0.0], [0.38608428835868835, 0.17950953543186188, 0.21162334084510803, 0.04849661886692047, 0.14089947938919067, 0.03338667377829552, 0.0, 0.0, 0.0, 0.0, 0.0, 0.0, 0.0], [0.6582090854644775, 0.03308235481381416, 0.05807900428771973, 0.031294722110033035, 0.12842687964439392, 0.06054507941007614, 0.030362967401742935, 0.0, 0.0, 0.0, 0.0, 0.0, 0.0], [0.2715302109718323, 0.08385592699050903, 0.10522838681936264, 0.21146175265312195, 0.18380925059318542, 0.07892867922782898, 0.03852526843547821, 0.026660509407520294, 0.0, 0.0, 0.0, 0.0, 0.0], [0.38070276379585266, 0.04232846200466156, 0.057433124631643295, 0.1153813824057579, 0.1961687207221985, 0.06499700248241425, 0.028946030884981155, 0.030675353482365608, 0.08336721360683441, 0.0, 0.0, 0.0, 0.0], [0.652016282081604, 0.024955442175269127, 0.009108099155128002, 0.031747717410326004, 0.04022763669490814, 0.07348141074180603, 0.036580752581357956, 0.029578963294625282, 0.06664170324802399, 0.03566206246614456, 0.0, 0.0, 0.0], [0.5761241316795349, 0.006979537196457386, 0.02553536370396614, 0.012949533760547638, 0.008604767732322216, 0.013666430488228798, 0.02462085522711277, 0.019354719668626785, 0.09591507166624069, 0.168255016207695, 0.04799452796578407, 0.0, 0.0], [0.21812017261981964, 0.005932888016104698, 0.026001503691077232, 0.006422526203095913, 0.015856415033340454, 0.016684219241142273, 0.010798565112054348, 0.013346430845558643, 0.06588556617498398, 0.1485118418931961, 0.2916196882724762, 0.18082016706466675, 0.0], [0.18419626355171204, 0.013564533554017544, 0.010282001458108425, 0.015473934821784496, 0.009156695567071438, 0.010185061022639275, 0.008262471295893192, 0.008952389471232891, 0.045158833265304565, 0.12094293534755707, 0.09828054159879684, 0.4344555139541626, 0.041088782250881195]], [[1.0, 0.0, 0.0, 0.0, 0.0, 0.0, 0.0, 0.0, 0.0, 0.0, 0.0, 0.0, 0.0], [0.9957846999168396, 0.004215280059725046, 0.0, 0.0, 0.0, 0.0, 0.0, 0.0, 0.0, 0.0, 0.0, 0.0, 0.0], [0.9632600545883179, 0.010575785301625729, 0.026164177805185318, 0.0, 0.0, 0.0, 0.0, 0.0, 0.0, 0.0, 0.0, 0.0, 0.0], [0.9793592691421509, 0.0019158205250278115, 0.015308070927858353, 0.003416754538193345, 0.0, 0.0, 0.0, 0.0, 0.0, 0.0, 0.0, 0.0, 0.0], [0.969126284122467, 0.0036921389400959015, 0.004426235798746347, 0.013910126872360706, 0.00884524267166853, 0.0, 0.0, 0.0, 0.0, 0.0, 0.0, 0.0, 0.0], [0.9194495677947998, 0.0031502919737249613, 0.006750389467924833, 0.0029952640179544687, 0.014824897050857544, 0.05282963812351227, 0.0, 0.0, 0.0, 0.0, 0.0, 0.0, 0.0], [0.9455052018165588, 0.0015272294403985143, 0.0024764640256762505, 0.002116988878697157, 0.007797892205417156, 0.018991729244589806, 0.021584464237093925, 0.0, 0.0, 0.0, 0.0, 0.0, 0.0], [0.8131686449050903, 0.005055180750787258, 0.028912851586937904, 0.008219579234719276, 0.010018622502684593, 0.05405360087752342, 0.03543044626712799, 0.0451410636305809, 0.0, 0.0, 0.0, 0.0, 0.0], [0.7822414636611938, 0.0032728714868426323, 0.027353553101420403, 0.004971119575202465, 0.014158147387206554, 0.049253370612859726, 0.008603966794908047, 0.08251363784074783, 0.027631893754005432, 0.0, 0.0, 0.0, 0.0], [0.7815666794776917, 0.003382481401786208, 0.0012435819953680038, 0.01764819398522377, 0.015183776617050171, 0.051248326897621155, 0.011690585874021053, 0.06477875262498856, 0.037668030709028244, 0.015589655376970768, 0.0, 0.0, 0.0], [0.8438068628311157, 0.003752355696633458, 0.0017295225989073515, 0.01740635558962822, 0.008412902243435383, 0.03527146577835083, 0.004980331286787987, 0.03855569660663605, 0.024514377117156982, 0.010398419573903084, 0.01117168553173542, 0.0, 0.0], [0.7865970134735107, 0.003612339496612549, 0.0014829791616648436, 0.00717107905074954, 0.008437746204435825, 0.047596972435712814, 0.06397367268800735, 0.03953735530376434, 0.012656801380217075, 0.009458343498408794, 0.009959281422197819, 0.009516376070678234, 0.0], [0.7479488253593445, 0.0035917959176003933, 0.006327656097710133, 0.003795310389250517, 0.010939560830593109, 0.07251055538654327, 0.028222428634762764, 0.050494007766246796, 0.031653083860874176, 0.013407840393483639, 0.0068809641525149345, 0.001363606657832861, 0.02286437340080738]], [[1.0, 0.0, 0.0, 0.0, 0.0, 0.0, 0.0, 0.0, 0.0, 0.0, 0.0, 0.0, 0.0], [0.9999996423721313, 3.362454492616962e-07, 0.0, 0.0, 0.0, 0.0, 0.0, 0.0, 0.0, 0.0, 0.0, 0.0, 0.0], [0.0005022339755669236, 0.9994333386421204, 6.439940625568852e-05, 0.0, 0.0, 0.0, 0.0, 0.0, 0.0, 0.0, 0.0, 0.0, 0.0], [1.8426352710321225e-07, 1.096094379704482e-07, 0.9999980926513672, 1.5642084463252104e-06, 0.0, 0.0, 0.0, 0.0, 0.0, 0.0, 0.0, 0.0, 0.0], [3.2174209962931855e-09, 2.002171095583094e-09, 1.1440230984760547e-09, 0.9999960660934448, 3.92862193621113e-06, 0.0, 0.0, 0.0, 0.0, 0.0, 0.0, 0.0, 0.0], [8.032507281541257e-08, 1.1878640127462644e-14, 1.5543325090558446e-12, 6.48753539778113e-09, 0.9999912977218628, 8.62672459334135e-06, 0.0, 0.0, 0.0, 0.0, 0.0, 0.0, 0.0], [1.4823366978333752e-09, 3.542577472689934e-13, 5.194481429805016e-16, 1.460386065549324e-12, 8.942231488617836e-08, 0.9999990463256836, 8.814251373223669e-07, 0.0, 0.0, 0.0, 0.0, 0.0, 0.0], [7.24150879705121e-07, 5.478856834884027e-08, 1.7622633907699026e-10, 1.1539410706973285e-06, 1.5266947173131484e-07, 3.59946716343984e-06, 0.9999594688415527, 3.491307870717719e-05, 0.0, 0.0, 0.0, 0.0, 0.0], [1.7465836208430119e-06, 4.213504978950455e-12, 3.0679330603744503e-11, 1.1598405612670004e-12, 1.1111699234345185e-11, 1.7706609832870979e-13, 2.4296226142084265e-10, 0.9999827146530151, 1.5551653632428497e-05, 0.0, 0.0, 0.0, 0.0], [9.084328667086083e-08, 3.050836059476092e-12, 1.375345150267382e-12, 2.1865133672822196e-13, 9.737146019225904e-15, 5.896712805542048e-12, 4.985183273131799e-12, 4.883554538537282e-07, 0.9999508857727051, 4.853482460021041e-05, 0.0, 0.0, 0.0], [6.1628938397007e-08, 6.095082222951336e-15, 1.2511696123596039e-09, 2.221532680035665e-11, 6.014300168999398e-12, 2.832647311157288e-13, 9.840548921514689e-14, 9.049438420838385e-10, 5.236391871221713e-07, 0.9999833106994629, 1.6073523511295207e-05, 0.0, 0.0], [2.160251422189674e-10, 1.2497370802135835e-15, 2.883290665684629e-14, 3.411564433730696e-12, 7.023442938347557e-11, 1.5917375195684258e-09, 1.2712996887848105e-12, 2.01965597024234e-11, 6.388804152379635e-09, 1.7504355298569862e-07, 0.9999984502792358, 1.3615884881801321e-06, 0.0], [1.0993585419782903e-06, 5.285222953732571e-11, 1.999246986494549e-13, 4.716307344665438e-09, 8.68637162199093e-09, 2.1044057163521757e-08, 1.5590384236929822e-06, 1.8390057254791259e-09, 1.0604305877848219e-08, 2.3185998954122766e-10, 8.148920642270241e-06, 0.999782145023346, 0.00020706186478491873]]], [[[1.0, 0.0, 0.0, 0.0, 0.0, 0.0, 0.0, 0.0, 0.0, 0.0, 0.0, 0.0, 0.0], [0.9958252906799316, 0.004174700006842613, 0.0, 0.0, 0.0, 0.0, 0.0, 0.0, 0.0, 0.0, 0.0, 0.0, 0.0], [0.9813820123672485, 0.006419588811695576, 0.01219842117279768, 0.0, 0.0, 0.0, 0.0, 0.0, 0.0, 0.0, 0.0, 0.0, 0.0], [0.991657018661499, 0.00025584426475688815, 0.003895717905834317, 0.004191338084638119, 0.0, 0.0, 0.0, 0.0, 0.0, 0.0, 0.0, 0.0, 0.0], [0.9335365295410156, 0.0011424403637647629, 0.007693721912801266, 0.028473535552620888, 0.029153810814023018, 0.0, 0.0, 0.0, 0.0, 0.0, 0.0, 0.0, 0.0], [0.9842930436134338, 0.0017392419977113605, 0.0016146175330504775, 0.00029063099646009505, 0.004812693223357201, 0.007249759044498205, 0.0, 0.0, 0.0, 0.0, 0.0, 0.0, 0.0], [0.9263519644737244, 0.0015965518541634083, 0.03348227217793465, 0.005859647877514362, 0.0048050847835838795, 0.018545962870121002, 0.009358540177345276, 0.0, 0.0, 0.0, 0.0, 0.0, 0.0], [0.9559415578842163, 0.000772400526329875, 0.0028845646884292364, 0.00494706304743886, 0.009457672014832497, 0.00462517561390996, 0.0016781968297436833, 0.01969345286488533, 0.0, 0.0, 0.0, 0.0, 0.0], [0.8403632044792175, 0.013443060219287872, 0.005738424602895975, 0.008577603846788406, 0.009326052851974964, 0.020191684365272522, 0.016900978982448578, 0.07076675444841385, 0.014692286029458046, 0.0, 0.0, 0.0, 0.0], [0.9740313291549683, 0.000522715738043189, 0.00042282557114958763, 0.0019541450310498476, 0.0024986853823065758, 0.00189398811198771, 0.006855028681457043, 0.009036581963300705, 0.0013541713124141097, 0.001430595526471734, 0.0, 0.0, 0.0], [0.9622854590415955, 0.0003400112618692219, 0.0002607265196274966, 0.0001261428405996412, 0.011516290716826916, 0.0030536470003426075, 0.00836129393428564, 0.007652807515114546, 0.0030270700808614492, 0.0008903713314794004, 0.0024860920384526253, 0.0, 0.0], [0.941810667514801, 0.00012091056851204485, 0.0010197808733209968, 0.00035898099304176867, 0.0007595935603603721, 0.0016527138650417328, 0.005578242242336273, 0.020821738988161087, 0.0034058436285704374, 0.0009180171764455736, 0.000507222895976156, 0.023046201094985008, 0.0], [0.7809315919876099, 0.0002341283397981897, 0.0020855735056102276, 0.0009000149439089, 0.0014584637247025967, 0.0011911242036148906, 0.0021688747219741344, 0.00877024419605732, 0.13476045429706573, 0.029008567333221436, 0.0008224312332458794, 0.003642704803496599, 0.03402581065893173]], [[1.0, 0.0, 0.0, 0.0, 0.0, 0.0, 0.0, 0.0, 0.0, 0.0, 0.0, 0.0, 0.0], [0.999994158744812, 5.881742708879756e-06, 0.0, 0.0, 0.0, 0.0, 0.0, 0.0, 0.0, 0.0, 0.0, 0.0, 0.0], [0.999906063079834, 7.3383062044740655e-06, 8.65803740452975e-05, 0.0, 0.0, 0.0, 0.0, 0.0, 0.0, 0.0, 0.0, 0.0, 0.0], [0.9997738003730774, 5.844739803251287e-07, 5.579821845458355e-06, 0.00022006906510796398, 0.0, 0.0, 0.0, 0.0, 0.0, 0.0, 0.0, 0.0, 0.0], [0.9999262094497681, 2.68221054255946e-08, 3.9583909483553725e-08, 8.276134394691326e-06, 6.545797077706084e-05, 0.0, 0.0, 0.0, 0.0, 0.0, 0.0, 0.0, 0.0], [0.9983805418014526, 7.554642138529744e-07, 4.217954696628112e-08, 1.7005451269369587e-08, 3.624024031978479e-07, 0.001618286594748497, 0.0, 0.0, 0.0, 0.0, 0.0, 0.0, 0.0], [0.9996623992919922, 8.41071710055985e-08, 2.2826329768577125e-06, 1.2160871847299859e-06, 9.255897381876821e-09, 8.977131642495806e-07, 0.000333142263116315, 0.0, 0.0, 0.0, 0.0, 0.0, 0.0], [0.9972388744354248, 6.207516207723529e-07, 4.417096988618141e-06, 1.981169407372363e-05, 1.6296483806854667e-07, 9.42145925364457e-06, 1.2505545782914851e-05, 0.0027142746839672327, 0.0, 0.0, 0.0, 0.0, 0.0], [0.9983633160591125, 4.0700091631151736e-05, 3.523137365846196e-06, 2.333619340788573e-05, 6.364349047771611e-08, 4.784513976119342e-07, 0.00013564576511271298, 0.0003288544830866158, 0.0011040609097108245, 0.0, 0.0, 0.0, 0.0], [0.9994710087776184, 7.241989692374773e-07, 9.032647962925466e-10, 2.372865128563717e-05, 9.034961223619575e-09, 4.886697979600285e-07, 2.1016845494159497e-05, 1.7813476006267592e-05, 2.814519393723458e-05, 0.000437219045124948, 0.0, 0.0, 0.0], [0.999582827091217, 2.226548076578183e-06, 1.0731709743083684e-08, 1.0947973549946255e-07, 3.200525355850914e-08, 1.5335075431721634e-07, 0.00010880863555939868, 7.246890163514763e-07, 1.4309282505564624e-06, 1.5220484783640131e-05, 0.00028843616019003093, 0.0, 0.0], [0.9987866282463074, 1.971380356735608e-07, 2.760411234703497e-06, 2.237023863926879e-07, 5.070050335120868e-08, 7.966373232193291e-06, 0.00018070342775899917, 0.0001436425227439031, 1.7686363207758404e-05, 2.581150511105079e-06, 1.3474792694978532e-06, 0.0008562813163734972, 0.0], [0.996340811252594, 4.6858681912453903e-07, 5.254606548987795e-06, 7.551483349743648e-07, 3.8904026666841673e-08, 1.3429098544293083e-06, 1.4036399079486728e-05, 1.2260173207323533e-05, 0.0021808932069689035, 2.52474765147781e-05, 7.276222504515317e-07, 4.447097671800293e-05, 0.0013735248940065503]], [[1.0, 0.0, 0.0, 0.0, 0.0, 0.0, 0.0, 0.0, 0.0, 0.0, 0.0, 0.0, 0.0], [0.9452025294303894, 0.05479754880070686, 0.0, 0.0, 0.0, 0.0, 0.0, 0.0, 0.0, 0.0, 0.0, 0.0, 0.0], [0.8640452027320862, 0.11327312141656876, 0.022681744769215584, 0.0, 0.0, 0.0, 0.0, 0.0, 0.0, 0.0, 0.0, 0.0, 0.0], [0.7009150981903076, 0.18184663355350494, 0.1137169897556305, 0.0035212859511375427, 0.0, 0.0, 0.0, 0.0, 0.0, 0.0, 0.0, 0.0, 0.0], [0.5933805108070374, 0.040236782282590866, 0.04828441143035889, 0.31256237626075745, 0.005535949021577835, 0.0, 0.0, 0.0, 0.0, 0.0, 0.0, 0.0, 0.0], [0.5206592082977295, 0.04840950295329094, 0.03787766024470329, 0.20211265981197357, 0.16032639145851135, 0.030614566057920456, 0.0, 0.0, 0.0, 0.0, 0.0, 0.0, 0.0], [0.607200562953949, 0.00463884836062789, 0.03300560265779495, 0.06452582776546478, 0.08428565412759781, 0.19253022968769073, 0.013813314028084278, 0.0, 0.0, 0.0, 0.0, 0.0, 0.0], [0.3028668761253357, 0.057093072682619095, 0.2253546416759491, 0.13017745316028595, 0.13604682683944702, 0.06034194678068161, 0.06866973638534546, 0.019449464976787567, 0.0, 0.0, 0.0, 0.0, 0.0], [0.6085111498832703, 0.012271699495613575, 0.06506314873695374, 0.09671486169099808, 0.03213809058070183, 0.03111969493329525, 0.02635672502219677, 0.11038078367710114, 0.01744391955435276, 0.0, 0.0, 0.0, 0.0], [0.7120140194892883, 0.0011710785329341888, 0.004482546355575323, 0.00690509844571352, 0.0077172862365841866, 0.06778539717197418, 0.016400335356593132, 0.1257452666759491, 0.04719097912311554, 0.010588034056127071, 0.0, 0.0, 0.0], [0.6383596658706665, 0.005374891217797995, 0.020845625549554825, 0.0048551312647759914, 0.010415082797408104, 0.030157610774040222, 0.0113059775903821, 0.07933660596609116, 0.06060343235731125, 0.1269807070493698, 0.011765345931053162, 0.0, 0.0], [0.5794884562492371, 0.0037878945004194975, 0.030271079391241074, 0.009106183424592018, 0.008876540698111057, 0.00987149402499199, 0.004519751761108637, 0.028315311297774315, 0.06543494015932083, 0.16763673722743988, 0.08262204378843307, 0.01006961427628994, 0.0], [0.46469298005104065, 0.022429516538977623, 0.0826517790555954, 0.03214891254901886, 0.008054486475884914, 0.004888439085334539, 0.006307007744908333, 0.02060483582317829, 0.10446666926145554, 0.12470851838588715, 0.06105109676718712, 0.04353152588009834, 0.02446415275335312]], [[1.0, 0.0, 0.0, 0.0, 0.0, 0.0, 0.0, 0.0, 0.0, 0.0, 0.0, 0.0, 0.0], [0.917502224445343, 0.0824977457523346, 0.0, 0.0, 0.0, 0.0, 0.0, 0.0, 0.0, 0.0, 0.0, 0.0, 0.0], [0.7471262216567993, 0.1734626740217209, 0.07941104471683502, 0.0, 0.0, 0.0, 0.0, 0.0, 0.0, 0.0, 0.0, 0.0, 0.0], [0.5678200125694275, 0.1388164609670639, 0.22125451266765594, 0.07210905849933624, 0.0, 0.0, 0.0, 0.0, 0.0, 0.0, 0.0, 0.0, 0.0], [0.5780431032180786, 0.11572553962469101, 0.16340823471546173, 0.12698805332183838, 0.015835050493478775, 0.0, 0.0, 0.0, 0.0, 0.0, 0.0, 0.0, 0.0], [0.41498836874961853, 0.10164064168930054, 0.2789510488510132, 0.10965403914451599, 0.06996948271989822, 0.024796433746814728, 0.0, 0.0, 0.0, 0.0, 0.0, 0.0, 0.0], [0.4437102675437927, 0.05506553500890732, 0.11156647652387619, 0.08935907483100891, 0.10476534813642502, 0.15400947630405426, 0.041523780673742294, 0.0, 0.0, 0.0, 0.0, 0.0, 0.0], [0.4556480348110199, 0.14068603515625, 0.12943153083324432, 0.09664587676525116, 0.04404440522193909, 0.04057895019650459, 0.03418751433491707, 0.05877768248319626, 0.0, 0.0, 0.0, 0.0, 0.0], [0.4450417459011078, 0.043439365923404694, 0.08732802420854568, 0.0941786915063858, 0.05265029892325401, 0.03700963780283928, 0.04922793060541153, 0.1025313138961792, 0.088593028485775, 0.0, 0.0, 0.0, 0.0], [0.5329182147979736, 0.03819836303591728, 0.015534700825810432, 0.04515525698661804, 0.018618091940879822, 0.030163876712322235, 0.05027010664343834, 0.1162571981549263, 0.11440854519605637, 0.03847566619515419, 0.0, 0.0, 0.0], [0.42262139916419983, 0.030983421951532364, 0.018301190808415413, 0.01304528210312128, 0.015143168158829212, 0.021568169817328453, 0.013193762861192226, 0.11313911527395248, 0.26112496852874756, 0.06984157860279083, 0.021037880331277847, 0.0, 0.0], [0.34534430503845215, 0.016965124756097794, 0.028631849214434624, 0.017581839114427567, 0.02004709467291832, 0.014503219164907932, 0.01595356874167919, 0.10292389243841171, 0.1753988116979599, 0.13032779097557068, 0.0956435278058052, 0.036678992211818695, 0.0], [0.29327628016471863, 0.07014243304729462, 0.05740150809288025, 0.016689728945493698, 0.00656222365796566, 0.00915765855461359, 0.0193791463971138, 0.042482733726501465, 0.22112327814102173, 0.07803250104188919, 0.04524369537830353, 0.07167191058397293, 0.06883683800697327]], [[1.0, 0.0, 0.0, 0.0, 0.0, 0.0, 0.0, 0.0, 0.0, 0.0, 0.0, 0.0, 0.0], [0.9693061709403992, 0.03069382905960083, 0.0, 0.0, 0.0, 0.0, 0.0, 0.0, 0.0, 0.0, 0.0, 0.0, 0.0], [0.9266896843910217, 0.04588158428668976, 0.027428673580288887, 0.0, 0.0, 0.0, 0.0, 0.0, 0.0, 0.0, 0.0, 0.0, 0.0], [0.6888942718505859, 0.06740061938762665, 0.15777729451656342, 0.08592777699232101, 0.0, 0.0, 0.0, 0.0, 0.0, 0.0, 0.0, 0.0, 0.0], [0.30192238092422485, 0.022916294634342194, 0.04077859967947006, 0.42231285572052, 0.21206986904144287, 0.0, 0.0, 0.0, 0.0, 0.0, 0.0, 0.0, 0.0], [0.09161777794361115, 0.01076898816972971, 0.059038784354925156, 0.15235047042369843, 0.6481494307518005, 0.03807453066110611, 0.0, 0.0, 0.0, 0.0, 0.0, 0.0, 0.0], [0.17125040292739868, 0.004799241200089455, 0.039951879531145096, 0.06586790084838867, 0.5408008098602295, 0.1254587322473526, 0.05187105014920235, 0.0, 0.0, 0.0, 0.0, 0.0, 0.0], [0.21326382458209991, 0.03195873647928238, 0.06546909362077713, 0.17517882585525513, 0.26262956857681274, 0.07020033895969391, 0.13764062523841858, 0.04365900903940201, 0.0, 0.0, 0.0, 0.0, 0.0], [0.39757755398750305, 0.027042658999562263, 0.07204689085483551, 0.19269470870494843, 0.1478036791086197, 0.014998044818639755, 0.034451648592948914, 0.07641088962554932, 0.03697388619184494, 0.0, 0.0, 0.0, 0.0], [0.7572868466377258, 0.006867719814181328, 0.002819487825036049, 0.02249976061284542, 0.02231106348335743, 0.010694136843085289, 0.04067286103963852, 0.09089042991399765, 0.034487321972846985, 0.011470410041511059, 0.0, 0.0, 0.0], [0.8377400636672974, 0.004447808023542166, 0.007068087812513113, 0.010960065759718418, 0.0027729731518775225, 0.004264450632035732, 0.012014133855700493, 0.02597637288272381, 0.01784776709973812, 0.05608506128191948, 0.02082323282957077, 0.0, 0.0], [0.7630500793457031, 0.0026384969241917133, 0.0068088434636592865, 0.007121462374925613, 0.021461479365825653, 0.010075166821479797, 0.009863443672657013, 0.03033081628382206, 0.019806116819381714, 0.021535852923989296, 0.07458937168121338, 0.03271888196468353, 0.0], [0.6052139401435852, 0.017360998317599297, 0.007586993742734194, 0.013723212294280529, 0.00996786542236805, 0.00829718541353941, 0.024433307349681854, 0.012376011349260807, 0.07730989903211594, 0.04060719162225723, 0.029853014275431633, 0.0941777229309082, 0.05909265577793121]], [[1.0, 0.0, 0.0, 0.0, 0.0, 0.0, 0.0, 0.0, 0.0, 0.0, 0.0, 0.0, 0.0], [0.9994981288909912, 0.0005019116797484457, 0.0, 0.0, 0.0, 0.0, 0.0, 0.0, 0.0, 0.0, 0.0, 0.0, 0.0], [0.9453173279762268, 0.013413499109447002, 0.0412692129611969, 0.0, 0.0, 0.0, 0.0, 0.0, 0.0, 0.0, 0.0, 0.0, 0.0], [0.995535135269165, 0.0017687490908429027, 0.0009680435759946704, 0.0017281221225857735, 0.0, 0.0, 0.0, 0.0, 0.0, 0.0, 0.0, 0.0, 0.0], [0.9915281534194946, 0.00023874151520431042, 7.317130803130567e-05, 0.0012839906848967075, 0.0068758344277739525, 0.0, 0.0, 0.0, 0.0, 0.0, 0.0, 0.0, 0.0], [0.9915090799331665, 0.0005407255957834423, 8.292304119095206e-05, 0.00018276738410349935, 0.00045707207755185664, 0.00722740450873971, 0.0, 0.0, 0.0, 0.0, 0.0, 0.0, 0.0], [0.994281530380249, 0.0001460355124436319, 0.00015406384773086756, 0.0014756893506273627, 9.241310181096196e-06, 0.00024955952540040016, 0.003683835733681917, 0.0, 0.0, 0.0, 0.0, 0.0, 0.0], [0.9498976469039917, 0.0007290334324352443, 0.0022429185919463634, 0.006978003308176994, 0.00035237817792221904, 0.0007958364440128207, 0.008322484791278839, 0.03068160079419613, 0.0, 0.0, 0.0, 0.0, 0.0], [0.8186233639717102, 0.004465916194021702, 0.0005210309172980487, 0.008244472555816174, 0.0004062917723786086, 0.002187359146773815, 0.04194016009569168, 0.11042123287916183, 0.013190174475312233, 0.0, 0.0, 0.0, 0.0], [0.9067438840866089, 0.0008007737924344838, 1.794227136997506e-05, 0.0020109221804887056, 0.00017056761134881526, 0.0014924792340025306, 0.03471192345023155, 0.04587810859084129, 0.0043707843869924545, 0.003802565624937415, 0.0, 0.0, 0.0], [0.899490237236023, 0.001665928983129561, 3.184321030857973e-05, 6.637258047703654e-05, 6.217456393642351e-05, 0.00031522000790573657, 0.07288628071546555, 0.0033599683083593845, 0.00577774690464139, 0.0073168775998055935, 0.009027300402522087, 0.0, 0.0], [0.9147146940231323, 0.00019777289708144963, 0.0002911304181907326, 0.00026072608307003975, 9.511621101410128e-06, 0.0014982023276388645, 0.020391862839460373, 0.026319673284888268, 0.025203518569469452, 0.0016893818974494934, 0.0007078654016368091, 0.008715699426829815, 0.0], [0.8682141900062561, 0.0004721080476883799, 0.002337035024538636, 0.0014885071432217956, 0.00013343762839213014, 0.00038696391857229173, 0.010105673223733902, 0.003827977692708373, 0.07547123730182648, 0.0037235559429973364, 0.0006805289885960519, 0.0033698990009725094, 0.029788902029395103]], [[1.0, 0.0, 0.0, 0.0, 0.0, 0.0, 0.0, 0.0, 0.0, 0.0, 0.0, 0.0, 0.0], [0.9921798706054688, 0.0078201275318861, 0.0, 0.0, 0.0, 0.0, 0.0, 0.0, 0.0, 0.0, 0.0, 0.0, 0.0], [0.8149930238723755, 0.1431495100259781, 0.041857510805130005, 0.0, 0.0, 0.0, 0.0, 0.0, 0.0, 0.0, 0.0, 0.0, 0.0], [0.5398511290550232, 0.07557233422994614, 0.3812001943588257, 0.003376350039616227, 0.0, 0.0, 0.0, 0.0, 0.0, 0.0, 0.0, 0.0, 0.0], [0.8037284016609192, 0.002506096614524722, 0.009008643217384815, 0.15159672498703003, 0.03316018357872963, 0.0, 0.0, 0.0, 0.0, 0.0, 0.0, 0.0, 0.0], [0.43602389097213745, 0.0031151166185736656, 0.005651236046105623, 0.02817370928823948, 0.5082129836082458, 0.01882309280335903, 0.0, 0.0, 0.0, 0.0, 0.0, 0.0, 0.0], [0.8242751955986023, 0.0016182531835511327, 0.0012914931867271662, 0.003423169022426009, 0.011321441270411015, 0.15354278683662415, 0.004527602344751358, 0.0, 0.0, 0.0, 0.0, 0.0, 0.0], [0.7650293707847595, 0.002433438552543521, 0.003417582716792822, 0.0012845860328525305, 0.002135144080966711, 0.001707798452116549, 0.19884565472602844, 0.025146465748548508, 0.0, 0.0, 0.0, 0.0, 0.0], [0.9262102842330933, 0.002933677053079009, 0.0015214375453069806, 0.0027442844584584236, 0.0011269042734056711, 0.00018871402426157147, 0.008521982468664646, 0.05194966495037079, 0.004803042393177748, 0.0, 0.0, 0.0, 0.0], [0.6963196396827698, 0.0014333002036437392, 0.00033392783370800316, 0.0006933684344403446, 0.00026631352375261486, 0.00046684371773153543, 0.01068258285522461, 0.016274644061923027, 0.23022885620594025, 0.04330049082636833, 0.0, 0.0, 0.0], [0.6324272751808167, 0.0005074213840998709, 0.001439724350348115, 0.00231878156773746, 0.00034317851532250643, 0.0003304365964140743, 0.002313394332304597, 0.002968111075460911, 0.12161945551633835, 0.2221817672252655, 0.013550499454140663, 0.0, 0.0], [0.6652205586433411, 0.0015373231144621968, 0.002581904409453273, 0.002400248311460018, 0.0009574375580996275, 0.0040185400284826756, 0.010049373842775822, 0.0006470850785262883, 0.021913446485996246, 0.04023629054427147, 0.19702357053756714, 0.05341428890824318, 0.0], [0.9270402193069458, 0.0011583140585571527, 0.0010768509237095714, 0.0003591377753764391, 0.0008349120034836233, 0.00045769716962240636, 0.0046403068117797375, 0.0013704855227842927, 0.004265059716999531, 0.0007588762673549354, 0.0007431486155837774, 0.03977232426404953, 0.01752268522977829]], [[1.0, 0.0, 0.0, 0.0, 0.0, 0.0, 0.0, 0.0, 0.0, 0.0, 0.0, 0.0, 0.0], [0.9661061763763428, 0.03389384225010872, 0.0, 0.0, 0.0, 0.0, 0.0, 0.0, 0.0, 0.0, 0.0, 0.0, 0.0], [0.9400973320007324, 0.036184195429086685, 0.02371847815811634, 0.0, 0.0, 0.0, 0.0, 0.0, 0.0, 0.0, 0.0, 0.0, 0.0], [0.7186483144760132, 0.02273699641227722, 0.028519004583358765, 0.23009568452835083, 0.0, 0.0, 0.0, 0.0, 0.0, 0.0, 0.0, 0.0, 0.0], [0.0894920825958252, 0.003914281725883484, 0.002640451304614544, 0.881363034248352, 0.022590208798646927, 0.0, 0.0, 0.0, 0.0, 0.0, 0.0, 0.0, 0.0], [0.15438216924667358, 0.026055818423628807, 0.03653377294540405, 0.50252366065979, 0.2634029984474182, 0.01710163988173008, 0.0, 0.0, 0.0, 0.0, 0.0, 0.0, 0.0], [0.6700803637504578, 0.01590804196894169, 0.016323808580636978, 0.1316337287425995, 0.13240422308444977, 0.021024519577622414, 0.012625349685549736, 0.0, 0.0, 0.0, 0.0, 0.0, 0.0], [0.5162565112113953, 0.08097223937511444, 0.0424593910574913, 0.1343906819820404, 0.12942387163639069, 0.040022991597652435, 0.018265992403030396, 0.03820818290114403, 0.0, 0.0, 0.0, 0.0, 0.0], [0.6130266785621643, 0.06016046553850174, 0.015843596309423447, 0.09019860625267029, 0.1327161192893982, 0.0257034320384264, 0.0075465720146894455, 0.04170805960893631, 0.01309644803404808, 0.0, 0.0, 0.0, 0.0], [0.7597817182540894, 0.017896967008709908, 0.0020569751504808664, 0.04248674958944321, 0.08437905460596085, 0.009440533816814423, 0.027934497222304344, 0.04226412996649742, 0.0068677812814712524, 0.006891606841236353, 0.0, 0.0, 0.0], [0.9490697383880615, 0.000789014738984406, 0.004756818991154432, 0.0018278222996741533, 0.027721978724002838, 0.0008456049836240709, 0.0005691933911293745, 0.001996493898332119, 0.0017774382140487432, 0.010281304828822613, 0.00036470001214183867, 0.0, 0.0], [0.6774584054946899, 0.003029431449249387, 0.0017368976259604096, 0.0027446316089481115, 0.021371111273765564, 0.0017529561882838607, 0.009601423516869545, 0.002256774576380849, 0.0011964821023866534, 0.006413817405700684, 0.005366174038499594, 0.2670719027519226, 0.0], [0.7717429995536804, 0.01373544055968523, 0.002268803073093295, 0.003281728597357869, 0.008688577450811863, 0.006655965466052294, 0.004287291318178177, 0.003671528771519661, 0.0045854211784899235, 0.0026396929752081633, 0.0015043378807604313, 0.16534152626991272, 0.011596697382628918]], [[1.0, 0.0, 0.0, 0.0, 0.0, 0.0, 0.0, 0.0, 0.0, 0.0, 0.0, 0.0, 0.0], [0.9908314347267151, 0.009168487042188644, 0.0, 0.0, 0.0, 0.0, 0.0, 0.0, 0.0, 0.0, 0.0, 0.0, 0.0], [0.9718046188354492, 0.01598808914422989, 0.012207302264869213, 0.0, 0.0, 0.0, 0.0, 0.0, 0.0, 0.0, 0.0, 0.0, 0.0], [0.9915939569473267, 0.004377803299576044, 0.0011579376878216863, 0.0028703296557068825, 0.0, 0.0, 0.0, 0.0, 0.0, 0.0, 0.0, 0.0, 0.0], [0.9825068116188049, 0.0024445054586976767, 0.002866890747100115, 0.004369130823761225, 0.007812613621354103, 0.0, 0.0, 0.0, 0.0, 0.0, 0.0, 0.0, 0.0], [0.9361929297447205, 0.010112310759723186, 0.002008775481954217, 0.0012131057446822524, 0.014293539337813854, 0.0361793152987957, 0.0, 0.0, 0.0, 0.0, 0.0, 0.0, 0.0], [0.9491310119628906, 0.0032210308127105236, 0.013248162344098091, 0.009592883288860321, 0.0013371724635362625, 0.007764328271150589, 0.015705343335866928, 0.0, 0.0, 0.0, 0.0, 0.0, 0.0], [0.8789011836051941, 0.021066417917609215, 0.017322152853012085, 0.013471902348101139, 0.0152084119617939, 0.009283200837671757, 0.012827003374695778, 0.03191974014043808, 0.0, 0.0, 0.0, 0.0, 0.0], [0.7323577404022217, 0.009851416572928429, 0.0054268925450742245, 0.0030199934262782335, 0.0021715157199651003, 0.003602684009820223, 0.0375683456659317, 0.1499386727809906, 0.056062813848257065, 0.0, 0.0, 0.0, 0.0], [0.8087962865829468, 0.0013200578978285193, 0.00014518290117848665, 0.008104206994175911, 0.007267821580171585, 0.009036957286298275, 0.05428975820541382, 0.08372368663549423, 0.01892768405377865, 0.008388262242078781, 0.0, 0.0, 0.0], [0.8244217038154602, 0.0033370694145560265, 0.0007202239357866347, 0.0015355313662439585, 0.007881013676524162, 0.0029852937441319227, 0.042358845472335815, 0.03538921847939491, 0.034723203629255295, 0.0211862213909626, 0.025461716577410698, 0.0, 0.0], [0.7623503804206848, 0.0019707209430634975, 0.0074737416580319405, 0.0009300933452323079, 0.0028448915109038353, 0.01406501792371273, 0.05673714727163315, 0.07676616311073303, 0.04324338585138321, 0.01488595362752676, 0.0015974962152540684, 0.017135001718997955, 0.0], [0.5376885533332825, 0.003351543564349413, 0.003984137438237667, 0.0008846995187923312, 0.0020334364380687475, 0.0011720447801053524, 0.004908336792141199, 0.004680410958826542, 0.36612093448638916, 0.03153369948267937, 0.0030837629456073046, 0.012941034510731697, 0.02761739492416382]], [[1.0, 0.0, 0.0, 0.0, 0.0, 0.0, 0.0, 0.0, 0.0, 0.0, 0.0, 0.0, 0.0], [0.9963058233261108, 0.0036941971629858017, 0.0, 0.0, 0.0, 0.0, 0.0, 0.0, 0.0, 0.0, 0.0, 0.0, 0.0], [0.9605210423469543, 0.022849582135677338, 0.016629362478852272, 0.0, 0.0, 0.0, 0.0, 0.0, 0.0, 0.0, 0.0, 0.0, 0.0], [0.9551050066947937, 0.01301882416009903, 0.03139224648475647, 0.0004838228633161634, 0.0, 0.0, 0.0, 0.0, 0.0, 0.0, 0.0, 0.0, 0.0], [0.9803115129470825, 0.006741229444742203, 0.006588947959244251, 0.004227322991937399, 0.002130961511284113, 0.0, 0.0, 0.0, 0.0, 0.0, 0.0, 0.0, 0.0], [0.9467840790748596, 0.011912456713616848, 0.01319814845919609, 0.00688945222645998, 0.013678692281246185, 0.007537127006798983, 0.0, 0.0, 0.0, 0.0, 0.0, 0.0, 0.0], [0.8399340510368347, 0.0406317263841629, 0.024329306557774544, 0.02562825009226799, 0.02416783571243286, 0.011642804369330406, 0.03366595879197121, 0.0, 0.0, 0.0, 0.0, 0.0, 0.0], [0.7878867387771606, 0.01361013762652874, 0.010722557082772255, 0.0082112867385149, 0.009693361818790436, 0.012836506590247154, 0.11982326209545135, 0.03721611201763153, 0.0, 0.0, 0.0, 0.0, 0.0], [0.5585777759552002, 0.041030365973711014, 0.045651525259017944, 0.03200691193342209, 0.043149035423994064, 0.03146234527230263, 0.1495380699634552, 0.09560815244913101, 0.0029758198652416468, 0.0, 0.0, 0.0, 0.0], [0.6767243146896362, 0.009976867586374283, 0.0262574665248394, 0.01658301055431366, 0.03548567369580269, 0.02258986048400402, 0.09347466379404068, 0.10502305626869202, 0.007546586915850639, 0.006338445004075766, 0.0, 0.0, 0.0], [0.7873890995979309, 0.007957699708640575, 0.013974018394947052, 0.010600167326629162, 0.03538525477051735, 0.015521028079092503, 0.01990017108619213, 0.08550908416509628, 0.009261338971555233, 0.010767116211354733, 0.0037349809426814318, 0.0, 0.0], [0.7662367224693298, 0.012542054057121277, 0.011578294448554516, 0.04315134137868881, 0.019921334460377693, 0.012550913728773594, 0.03056422807276249, 0.07718947529792786, 0.007421094458550215, 0.011743606999516487, 0.006101375911384821, 0.0009994872380048037, 0.0], [0.8114635944366455, 0.012196116149425507, 0.006902667693793774, 0.009608283638954163, 0.010735305026173592, 0.006476873066276312, 0.0440673828125, 0.04338682070374489, 0.016819696873426437, 0.013197632506489754, 0.005029679741710424, 0.004145423881709576, 0.015970569103956223]], [[1.0, 0.0, 0.0, 0.0, 0.0, 0.0, 0.0, 0.0, 0.0, 0.0, 0.0, 0.0, 0.0], [0.9554039239883423, 0.04459602013230324, 0.0, 0.0, 0.0, 0.0, 0.0, 0.0, 0.0, 0.0, 0.0, 0.0, 0.0], [0.6681343913078308, 0.23628322780132294, 0.09558242559432983, 0.0, 0.0, 0.0, 0.0, 0.0, 0.0, 0.0, 0.0, 0.0, 0.0], [0.9311758279800415, 0.02190682291984558, 0.01788022741675377, 0.02903721109032631, 0.0, 0.0, 0.0, 0.0, 0.0, 0.0, 0.0, 0.0, 0.0], [0.9094663262367249, 0.03303195536136627, 0.012009214609861374, 0.027819238603115082, 0.017673248425126076, 0.0, 0.0, 0.0, 0.0, 0.0, 0.0, 0.0, 0.0], [0.8476813435554504, 0.01300789788365364, 0.0266035757958889, 0.05345315486192703, 0.01684873178601265, 0.04240523278713226, 0.0, 0.0, 0.0, 0.0, 0.0, 0.0, 0.0], [0.38573384284973145, 0.003923922311514616, 0.017202196642756462, 0.0037715700455009937, 0.01464848592877388, 0.009218581020832062, 0.5655014514923096, 0.0, 0.0, 0.0, 0.0, 0.0, 0.0], [0.2697059214115143, 0.019301217049360275, 0.02041432447731495, 0.015449450351297855, 0.025658870115876198, 0.017667289823293686, 0.5822728276252747, 0.04953018203377724, 0.0, 0.0, 0.0, 0.0, 0.0], [0.31480464339256287, 0.0048697516322135925, 0.012336215004324913, 0.016790512949228287, 0.016226449981331825, 0.14750926196575165, 0.3183523118495941, 0.13841554522514343, 0.030695350840687752, 0.0, 0.0, 0.0, 0.0], [0.3733794689178467, 0.007369632367044687, 0.01246904768049717, 0.014784466475248337, 0.010659507475793362, 0.14292891323566437, 0.25042322278022766, 0.13596855103969574, 0.027611127123236656, 0.024406110867857933, 0.0, 0.0, 0.0], [0.5620332956314087, 0.006680789869278669, 0.015087558887898922, 0.004343247041106224, 0.0072982716374099255, 0.05205919221043587, 0.12377920001745224, 0.13646993041038513, 0.03609825670719147, 0.04829590395092964, 0.007854417897760868, 0.0, 0.0], [0.4377106726169586, 0.01928683929145336, 0.021650556474924088, 0.0009996737353503704, 0.011060751043260098, 0.02341907098889351, 0.32114487886428833, 0.045084450393915176, 0.023805292323231697, 0.022023195400834084, 0.001065746764652431, 0.07274888455867767, 0.0], [0.27749404311180115, 0.02474241517484188, 0.013217594474554062, 0.0027233033906668425, 0.007189421448856592, 0.017730524763464928, 0.5645270347595215, 0.0364656075835228, 0.00584405567497015, 0.006171254441142082, 0.0009529627859592438, 0.02655051462352276, 0.016391262412071228]], [[1.0, 0.0, 0.0, 0.0, 0.0, 0.0, 0.0, 0.0, 0.0, 0.0, 0.0, 0.0, 0.0], [0.8658303618431091, 0.13416962325572968, 0.0, 0.0, 0.0, 0.0, 0.0, 0.0, 0.0, 0.0, 0.0, 0.0, 0.0], [0.8295583128929138, 0.07875173538923264, 0.09169001877307892, 0.0, 0.0, 0.0, 0.0, 0.0, 0.0, 0.0, 0.0, 0.0, 0.0], [0.8714158535003662, 0.010482700541615486, 0.017565980553627014, 0.10053550451993942, 0.0, 0.0, 0.0, 0.0, 0.0, 0.0, 0.0, 0.0, 0.0], [0.861022412776947, 0.00907199364155531, 0.026150843128561974, 0.02738334611058235, 0.07637141644954681, 0.0, 0.0, 0.0, 0.0, 0.0, 0.0, 0.0, 0.0], [0.7623226642608643, 0.009185019880533218, 0.008947507478296757, 0.006923189852386713, 0.028880689293146133, 0.1837410181760788, 0.0, 0.0, 0.0, 0.0, 0.0, 0.0, 0.0], [0.867210328578949, 0.03213829547166824, 0.022394882515072823, 0.006412058603018522, 0.013351514004170895, 0.019056538119912148, 0.03943635895848274, 0.0, 0.0, 0.0, 0.0, 0.0, 0.0], [0.6331478953361511, 0.03728541359305382, 0.04399677738547325, 0.007600267417728901, 0.014781137928366661, 0.004878619220107794, 0.03267434611916542, 0.2256355732679367, 0.0, 0.0, 0.0, 0.0, 0.0], [0.7009198069572449, 0.011661715805530548, 0.013427301310002804, 0.00536245247349143, 0.00332976714707911, 0.00566124077886343, 0.009151228703558445, 0.0788780152797699, 0.17160849273204803, 0.0, 0.0, 0.0, 0.0], [0.7944783568382263, 0.002262983936816454, 0.013189165852963924, 0.006568883080035448, 0.0010531829902902246, 0.0018611859995871782, 0.004965555854141712, 0.025982124730944633, 0.016511788591742516, 0.13312675058841705, 0.0, 0.0, 0.0], [0.8771604299545288, 0.00043146981624886394, 0.002346170600503683, 0.0028090057894587517, 0.0005089890328235924, 0.0007804635679349303, 0.001314919558353722, 0.01197056658565998, 0.006545082200318575, 0.016773711889982224, 0.07935915142297745, 0.0, 0.0], [0.7879079580307007, 0.009965889155864716, 0.006414433475583792, 0.0021066865883767605, 0.0014782286016270518, 0.0030761221423745155, 0.012398368678987026, 0.06389822065830231, 0.03196348249912262, 0.015704186633229256, 0.022264620289206505, 0.042821820825338364, 0.0], [0.6508951783180237, 0.018874265253543854, 0.006957543082535267, 0.002143462421372533, 0.005478871054947376, 0.0026446261908859015, 0.006155115552246571, 0.07660289108753204, 0.026517560705542564, 0.007826944813132286, 0.01535323541611433, 0.009690968319773674, 0.17085933685302734]]], [[[1.0, 0.0, 0.0, 0.0, 0.0, 0.0, 0.0, 0.0, 0.0, 0.0, 0.0, 0.0, 0.0], [0.8539789319038391, 0.1460210531949997, 0.0, 0.0, 0.0, 0.0, 0.0, 0.0, 0.0, 0.0, 0.0, 0.0, 0.0], [0.46969735622406006, 0.47884151339530945, 0.0514611192047596, 0.0, 0.0, 0.0, 0.0, 0.0, 0.0, 0.0, 0.0, 0.0, 0.0], [0.2741013467311859, 0.4153333008289337, 0.28713884949684143, 0.023426435887813568, 0.0, 0.0, 0.0, 0.0, 0.0, 0.0, 0.0, 0.0, 0.0], [0.4874185025691986, 0.20857439935207367, 0.13330911099910736, 0.12111988663673401, 0.049578048288822174, 0.0, 0.0, 0.0, 0.0, 0.0, 0.0, 0.0, 0.0], [0.4056255519390106, 0.089488685131073, 0.10966207832098007, 0.12424594163894653, 0.24746568500995636, 0.023512061685323715, 0.0, 0.0, 0.0, 0.0, 0.0, 0.0, 0.0], [0.4150204062461853, 0.026939691975712776, 0.05504199489951134, 0.02967454120516777, 0.10127808153629303, 0.3071328401565552, 0.06491239368915558, 0.0, 0.0, 0.0, 0.0, 0.0, 0.0], [0.26711851358413696, 0.2722020447254181, 0.20973895490169525, 0.11983342468738556, 0.022479189559817314, 0.02192584238946438, 0.05939014256000519, 0.027311889454722404, 0.0, 0.0, 0.0, 0.0, 0.0], [0.3156090974807739, 0.019920269027352333, 0.02457977458834648, 0.032825566828250885, 0.011793479323387146, 0.0790993869304657, 0.4108520448207855, 0.07787945121526718, 0.027440903708338737, 0.0, 0.0, 0.0, 0.0], [0.2778763175010681, 0.02672780677676201, 0.013799550011754036, 0.02280721627175808, 0.016406644135713577, 0.10400046408176422, 0.2643829584121704, 0.103033646941185, 0.15161629021167755, 0.0193491131067276, 0.0, 0.0, 0.0], [0.20856249332427979, 0.01766621135175228, 0.020238906145095825, 0.012144269421696663, 0.010256074368953705, 0.08992733806371689, 0.1536565124988556, 0.04985455423593521, 0.2165077179670334, 0.17516756057739258, 0.04601839557290077, 0.0, 0.0], [0.24756641685962677, 0.018339598551392555, 0.017178745940327644, 0.010165615007281303, 0.011578857898712158, 0.07096120715141296, 0.05617562681436539, 0.02075497806072235, 0.1334293633699417, 0.16468802094459534, 0.18495787680149078, 0.06420370191335678, 0.0], [0.60014808177948, 0.07407891005277634, 0.03093792125582695, 0.013371257111430168, 0.0038944873958826065, 0.013984301127493382, 0.0450715534389019, 0.013632230460643768, 0.0357251837849617, 0.036089763045310974, 0.034655578434467316, 0.07308007776737213, 0.025330720469355583]], [[1.0, 0.0, 0.0, 0.0, 0.0, 0.0, 0.0, 0.0, 0.0, 0.0, 0.0, 0.0, 0.0], [0.9539392590522766, 0.04606068879365921, 0.0, 0.0, 0.0, 0.0, 0.0, 0.0, 0.0, 0.0, 0.0, 0.0, 0.0], [0.9264724850654602, 0.05147017538547516, 0.022057335823774338, 0.0, 0.0, 0.0, 0.0, 0.0, 0.0, 0.0, 0.0, 0.0, 0.0], [0.9824990034103394, 0.0051393830217421055, 0.004722151439636946, 0.007639416493475437, 0.0, 0.0, 0.0, 0.0, 0.0, 0.0, 0.0, 0.0, 0.0], [0.9051739573478699, 0.006854536943137646, 0.018073832616209984, 0.04655060917139053, 0.023347068578004837, 0.0, 0.0, 0.0, 0.0, 0.0, 0.0, 0.0, 0.0], [0.924053966999054, 0.00552118057385087, 0.003117460059002042, 0.007295949384570122, 0.0514669194817543, 0.008544654585421085, 0.0, 0.0, 0.0, 0.0, 0.0, 0.0, 0.0], [0.9582163095474243, 0.00917903520166874, 0.014471766538918018, 0.00562267703935504, 0.0015005642781034112, 0.0019914694130420685, 0.00901813991367817, 0.0, 0.0, 0.0, 0.0, 0.0, 0.0], [0.7686071395874023, 0.04058488458395004, 0.05593034252524376, 0.05622628703713417, 0.026749679818749428, 0.010298565961420536, 0.008462321013212204, 0.03314078971743584, 0.0, 0.0, 0.0, 0.0, 0.0], [0.8724940419197083, 0.0032815616577863693, 0.011054061353206635, 0.003216860117390752, 0.008465716615319252, 0.003261554753407836, 0.012607602402567863, 0.04804757237434387, 0.03757096081972122, 0.0, 0.0, 0.0, 0.0], [0.8566084504127502, 0.006572308484464884, 0.002687332220375538, 0.01306857168674469, 0.019471511244773865, 0.00533773098140955, 0.014430707320570946, 0.03352588787674904, 0.027352889999747276, 0.020944539457559586, 0.0, 0.0, 0.0], [0.8965151309967041, 0.0032577344682067633, 0.006714552640914917, 0.005546539556235075, 0.004271266516298056, 0.0018320913659408689, 0.005040413700044155, 0.019789941608905792, 0.018602173775434494, 0.023387527093291283, 0.015042608603835106, 0.0, 0.0], [0.8801518082618713, 0.004945077933371067, 0.005228857044130564, 0.0016029434045776725, 0.008070304989814758, 0.0016658122185617685, 0.005726268049329519, 0.02081337198615074, 0.018065474927425385, 0.013738129287958145, 0.02467527613043785, 0.015316581353545189, 0.0], [0.8080892562866211, 0.014039057306945324, 0.009573057293891907, 0.00108897197060287, 0.00040376995457336307, 0.0013078802730888128, 0.0032980870455503464, 0.006230792496353388, 0.03972696140408516, 0.057736605405807495, 0.020469415932893753, 0.022059155628085136, 0.015977028757333755]], [[1.0, 0.0, 0.0, 0.0, 0.0, 0.0, 0.0, 0.0, 0.0, 0.0, 0.0, 0.0, 0.0], [0.988086462020874, 0.01191359106451273, 0.0, 0.0, 0.0, 0.0, 0.0, 0.0, 0.0, 0.0, 0.0, 0.0, 0.0], [0.933259129524231, 0.025650059804320335, 0.04109083116054535, 0.0, 0.0, 0.0, 0.0, 0.0, 0.0, 0.0, 0.0, 0.0, 0.0], [0.8821269869804382, 0.05879173427820206, 0.04556246101856232, 0.013518820516765118, 0.0, 0.0, 0.0, 0.0, 0.0, 0.0, 0.0, 0.0, 0.0], [0.950225830078125, 0.017819134518504143, 0.012932710349559784, 0.008393513970077038, 0.010628767311573029, 0.0, 0.0, 0.0, 0.0, 0.0, 0.0, 0.0, 0.0], [0.8272379636764526, 0.028600310906767845, 0.03608178719878197, 0.01100100763142109, 0.016425147652626038, 0.08065382391214371, 0.0, 0.0, 0.0, 0.0, 0.0, 0.0, 0.0], [0.860714316368103, 0.015525972470641136, 0.019093217328190804, 0.006998775526881218, 0.013709263876080513, 0.05385332927107811, 0.03010515682399273, 0.0, 0.0, 0.0, 0.0, 0.0, 0.0], [0.7468035817146301, 0.016280435025691986, 0.017377547919750214, 0.014934126287698746, 0.018447186797857285, 0.05789540708065033, 0.04451865702867508, 0.0837431475520134, 0.0, 0.0, 0.0, 0.0, 0.0], [0.6915041208267212, 0.03025292418897152, 0.022213179618120193, 0.016877921298146248, 0.019418450072407722, 0.04040848836302757, 0.056583840399980545, 0.09890385717153549, 0.02383727952837944, 0.0, 0.0, 0.0, 0.0], [0.7807461023330688, 0.016545316204428673, 0.013038285076618195, 0.01292804442346096, 0.018389439210295677, 0.020481854677200317, 0.026505684480071068, 0.06773928552865982, 0.01985626295208931, 0.023769669234752655, 0.0, 0.0, 0.0], [0.7208517789840698, 0.028826583176851273, 0.017881279811263084, 0.012120138853788376, 0.02103644609451294, 0.02669926919043064, 0.048321861773729324, 0.06547223776578903, 0.015631375834345818, 0.03386528044939041, 0.009293661452829838, 0.0, 0.0], [0.7045844197273254, 0.01651124842464924, 0.014045031741261482, 0.010942105203866959, 0.02260931394994259, 0.03600671514868736, 0.03262300789356232, 0.0736902505159378, 0.03741949796676636, 0.021402914077043533, 0.015726635232567787, 0.014438854530453682, 0.0], [0.6360145211219788, 0.009748172014951706, 0.0121829928830266, 0.01314943190664053, 0.01327062863856554, 0.04250981658697128, 0.03719240427017212, 0.06189272925257683, 0.03788222745060921, 0.01501203328371048, 0.010040955618023872, 0.011157846078276634, 0.09994625300168991]], [[1.0, 0.0, 0.0, 0.0, 0.0, 0.0, 0.0, 0.0, 0.0, 0.0, 0.0, 0.0, 0.0], [0.9689298272132874, 0.031070131808519363, 0.0, 0.0, 0.0, 0.0, 0.0, 0.0, 0.0, 0.0, 0.0, 0.0, 0.0], [0.8674542903900146, 0.07559507340192795, 0.05695059895515442, 0.0, 0.0, 0.0, 0.0, 0.0, 0.0, 0.0, 0.0, 0.0, 0.0], [0.7967851161956787, 0.12026619166135788, 0.051330335438251495, 0.03161841630935669, 0.0, 0.0, 0.0, 0.0, 0.0, 0.0, 0.0, 0.0, 0.0], [0.9413283467292786, 0.0200602225959301, 0.008858668617904186, 0.020300500094890594, 0.009452247992157936, 0.0, 0.0, 0.0, 0.0, 0.0, 0.0, 0.0, 0.0], [0.7909002900123596, 0.02439207024872303, 0.024116357788443565, 0.0809442475438118, 0.04363933578133583, 0.03600769117474556, 0.0, 0.0, 0.0, 0.0, 0.0, 0.0, 0.0], [0.9043503999710083, 0.010064075700938702, 0.01836380921304226, 0.01885245554149151, 0.017203176394104958, 0.017597248777747154, 0.013568839058279991, 0.0, 0.0, 0.0, 0.0, 0.0, 0.0], [0.31936630606651306, 0.08478497713804245, 0.0682055875658989, 0.1357545107603073, 0.12098546326160431, 0.1519329696893692, 0.07074479758739471, 0.04822538420557976, 0.0, 0.0, 0.0, 0.0, 0.0], [0.5350242257118225, 0.03101777471601963, 0.06457354873418808, 0.10804983228445053, 0.0701972097158432, 0.07288219779729843, 0.039392389357089996, 0.05417345091700554, 0.024689454585313797, 0.0, 0.0, 0.0, 0.0], [0.648192286491394, 0.0221070796251297, 0.02889728918671608, 0.04404524341225624, 0.04759418964385986, 0.043735750019550323, 0.04539361968636513, 0.051311396062374115, 0.026726072654128075, 0.04199706017971039, 0.0, 0.0, 0.0], [0.7052565813064575, 0.024862239137291908, 0.01815905049443245, 0.02858700230717659, 0.023260580375790596, 0.03142046928405762, 0.026088397949934006, 0.06744018942117691, 0.029103906825184822, 0.021428890526294708, 0.024392588064074516, 0.0, 0.0], [0.6044583916664124, 0.028349177911877632, 0.012247253209352493, 0.02057655341923237, 0.013339180499315262, 0.04702001065015793, 0.07471061497926712, 0.0767410397529602, 0.03167309612035751, 0.015236378647387028, 0.028076080605387688, 0.04757215827703476, 0.0], [0.3496731221675873, 0.061094239354133606, 0.03064626269042492, 0.029369300231337547, 0.021888041868805885, 0.05704145133495331, 0.06288246810436249, 0.09673544764518738, 0.06588160246610641, 0.03388288989663124, 0.02495303936302662, 0.09037027508020401, 0.07558182626962662]], [[1.0, 0.0, 0.0, 0.0, 0.0, 0.0, 0.0, 0.0, 0.0, 0.0, 0.0, 0.0, 0.0], [0.8020334243774414, 0.1979665458202362, 0.0, 0.0, 0.0, 0.0, 0.0, 0.0, 0.0, 0.0, 0.0, 0.0, 0.0], [0.5876971483230591, 0.32515424489974976, 0.08714865148067474, 0.0, 0.0, 0.0, 0.0, 0.0, 0.0, 0.0, 0.0, 0.0, 0.0], [0.36679086089134216, 0.4196026921272278, 0.15756094455718994, 0.0560455247759819, 0.0, 0.0, 0.0, 0.0, 0.0, 0.0, 0.0, 0.0, 0.0], [0.8519396781921387, 0.07350781559944153, 0.030720768496394157, 0.034175701439380646, 0.00965606514364481, 0.0, 0.0, 0.0, 0.0, 0.0, 0.0, 0.0, 0.0], [0.5329720377922058, 0.20691174268722534, 0.07243883609771729, 0.050619419664144516, 0.048083700239658356, 0.08897420018911362, 0.0, 0.0, 0.0, 0.0, 0.0, 0.0, 0.0], [0.4879809319972992, 0.10905683785676956, 0.04856650158762932, 0.007352466229349375, 0.014251687563955784, 0.026058990508317947, 0.30673256516456604, 0.0, 0.0, 0.0, 0.0, 0.0, 0.0], [0.3565128743648529, 0.1898091733455658, 0.026800725609064102, 0.02688145451247692, 0.042953941971063614, 0.04518318921327591, 0.19480352103710175, 0.11705511808395386, 0.0, 0.0, 0.0, 0.0, 0.0], [0.30667078495025635, 0.13938146829605103, 0.04751863703131676, 0.028787679970264435, 0.07455865293741226, 0.04195629805326462, 0.2786881625652313, 0.07714513689279556, 0.005293055437505245, 0.0, 0.0, 0.0, 0.0], [0.45936381816864014, 0.1199268326163292, 0.022402148693799973, 0.015398680232465267, 0.038656506687402725, 0.02446274645626545, 0.19337639212608337, 0.08814764022827148, 0.010768593288958073, 0.027496665716171265, 0.0, 0.0, 0.0], [0.3824814558029175, 0.2018415480852127, 0.024041030555963516, 0.028448909521102905, 0.07231719046831131, 0.04143337160348892, 0.10939645022153854, 0.06420629471540451, 0.015440713614225388, 0.024887271225452423, 0.0355057492852211, 0.0, 0.0], [0.39545753598213196, 0.11757076531648636, 0.030468763783574104, 0.007564237341284752, 0.024012604728341103, 0.016905134543776512, 0.14071767032146454, 0.05060701072216034, 0.010367614217102528, 0.01788957603275776, 0.007214076351374388, 0.1812250167131424, 0.0], [0.2229878306388855, 0.15585744380950928, 0.023251570761203766, 0.0050827935338020325, 0.010397505946457386, 0.013882054015994072, 0.18556474149227142, 0.0553857795894146, 0.00793207436800003, 0.0064621116034686565, 0.01212194375693798, 0.1409466564655304, 0.1601274460554123]], [[1.0, 0.0, 0.0, 0.0, 0.0, 0.0, 0.0, 0.0, 0.0, 0.0, 0.0, 0.0, 0.0], [0.9707226753234863, 0.02927732840180397, 0.0, 0.0, 0.0, 0.0, 0.0, 0.0, 0.0, 0.0, 0.0, 0.0, 0.0], [0.8723442554473877, 0.07325274497270584, 0.054402925074100494, 0.0, 0.0, 0.0, 0.0, 0.0, 0.0, 0.0, 0.0, 0.0, 0.0], [0.805433988571167, 0.06096541881561279, 0.05736997351050377, 0.07623065263032913, 0.0, 0.0, 0.0, 0.0, 0.0, 0.0, 0.0, 0.0, 0.0], [0.7565863728523254, 0.044666189700365067, 0.03665417432785034, 0.06962256878614426, 0.09247078001499176, 0.0, 0.0, 0.0, 0.0, 0.0, 0.0, 0.0, 0.0], [0.5938097238540649, 0.03960976377129555, 0.05631280317902565, 0.08765923976898193, 0.14678409695625305, 0.0758243277668953, 0.0, 0.0, 0.0, 0.0, 0.0, 0.0, 0.0], [0.7461457848548889, 0.020041044801473618, 0.02637321688234806, 0.02952592819929123, 0.07936511188745499, 0.0527527891099453, 0.04579608887434006, 0.0, 0.0, 0.0, 0.0, 0.0, 0.0], [0.3390258848667145, 0.06404294818639755, 0.05043517425656319, 0.2028101682662964, 0.14849306643009186, 0.0742540955543518, 0.026914164423942566, 0.09402462095022202, 0.0, 0.0, 0.0, 0.0, 0.0], [0.4639251232147217, 0.04346473515033722, 0.037272993475198746, 0.1856936663389206, 0.11749356240034103, 0.029788274317979813, 0.0157628171145916, 0.06976939737796783, 0.03682936355471611, 0.0, 0.0, 0.0, 0.0], [0.6004307866096497, 0.031565990298986435, 0.017367921769618988, 0.10187289118766785, 0.06324834376573563, 0.024486811831593513, 0.02012885920703411, 0.06857616454362869, 0.03981075435876846, 0.032511454075574875, 0.0, 0.0, 0.0], [0.73373943567276, 0.010679378174245358, 0.010436239652335644, 0.024842586368322372, 0.03102896735072136, 0.009681024588644505, 0.0142221013084054, 0.050956033170223236, 0.028397049754858017, 0.02458777278661728, 0.061429474502801895, 0.0, 0.0], [0.6040377616882324, 0.01435810700058937, 0.009739981032907963, 0.020285848528146744, 0.03274601325392723, 0.01204922515898943, 0.010543368756771088, 0.06846264749765396, 0.045084550976753235, 0.028123803436756134, 0.111599862575531, 0.04296882823109627, 0.0], [0.4936317503452301, 0.016568955034017563, 0.01112389750778675, 0.02853403240442276, 0.021526943892240524, 0.012790902517735958, 0.009285013191401958, 0.036990176886320114, 0.06518210470676422, 0.03892927244305611, 0.09063821285963058, 0.06286022812128067, 0.11193854361772537]], [[1.0, 0.0, 0.0, 0.0, 0.0, 0.0, 0.0, 0.0, 0.0, 0.0, 0.0, 0.0, 0.0], [0.9751909375190735, 0.02480904757976532, 0.0, 0.0, 0.0, 0.0, 0.0, 0.0, 0.0, 0.0, 0.0, 0.0, 0.0], [0.9431530833244324, 0.023278409615159035, 0.033568598330020905, 0.0, 0.0, 0.0, 0.0, 0.0, 0.0, 0.0, 0.0, 0.0, 0.0], [0.9702057242393494, 0.008959450758993626, 0.010914298705756664, 0.009920613840222359, 0.0, 0.0, 0.0, 0.0, 0.0, 0.0, 0.0, 0.0, 0.0], [0.9664545655250549, 0.003718825289979577, 0.00539581710472703, 0.0028059897013008595, 0.021624857559800148, 0.0, 0.0, 0.0, 0.0, 0.0, 0.0, 0.0, 0.0], [0.8984119296073914, 0.006224221084266901, 0.007922772318124771, 0.00363533734343946, 0.006948774214833975, 0.07685697078704834, 0.0, 0.0, 0.0, 0.0, 0.0, 0.0, 0.0], [0.9020374417304993, 0.0032799418549984694, 0.004372630268335342, 0.0006825396558269858, 0.0011226817732676864, 0.011135919019579887, 0.0773688405752182, 0.0, 0.0, 0.0, 0.0, 0.0, 0.0], [0.7678939700126648, 0.02874535135924816, 0.02436811849474907, 0.009955788031220436, 0.0034771321807056665, 0.008399687707424164, 0.025461768731474876, 0.13169820606708527, 0.0, 0.0, 0.0, 0.0, 0.0], [0.8090464472770691, 0.0054939077235758305, 0.007392754778265953, 0.0025297245010733604, 0.0012599116889759898, 0.012368550524115562, 0.013865898363292217, 0.04085720703005791, 0.10718560218811035, 0.0, 0.0, 0.0, 0.0], [0.7726029753684998, 0.005967164412140846, 0.01161790918558836, 0.004610126838088036, 0.0008709236280992627, 0.00753728486597538, 0.009628554806113243, 0.023646067827939987, 0.030955404043197632, 0.13256369531154633, 0.0, 0.0, 0.0], [0.8535809516906738, 0.002364938147366047, 0.004622706212103367, 0.003508985275402665, 0.0009533941047266126, 0.004071478731930256, 0.006372332572937012, 0.023422792553901672, 0.025465326383709908, 0.030108075588941574, 0.045528948307037354, 0.0, 0.0], [0.770482063293457, 0.0027213122230023146, 0.005845008883625269, 0.0023836130276322365, 0.0015424512093886733, 0.006371230818331242, 0.017732780426740646, 0.05361257866024971, 0.043291397392749786, 0.027448588982224464, 0.013465365394949913, 0.05510362237691879, 0.0], [0.7104471325874329, 0.005594697780907154, 0.008505485020577908, 0.00370791251771152, 0.0014843387762084603, 0.0032383454963564873, 0.00964223314076662, 0.05975931137800217, 0.030168090015649796, 0.021597301587462425, 0.0053522284142673016, 0.018039679154753685, 0.1224631518125534]], [[1.0, 0.0, 0.0, 0.0, 0.0, 0.0, 0.0, 0.0, 0.0, 0.0, 0.0, 0.0, 0.0], [0.9187133312225342, 0.08128666877746582, 0.0, 0.0, 0.0, 0.0, 0.0, 0.0, 0.0, 0.0, 0.0, 0.0, 0.0], [0.9010975360870361, 0.07392130047082901, 0.02498118206858635, 0.0, 0.0, 0.0, 0.0, 0.0, 0.0, 0.0, 0.0, 0.0, 0.0], [0.9016996026039124, 0.03218892216682434, 0.04729492962360382, 0.018816540017724037, 0.0, 0.0, 0.0, 0.0, 0.0, 0.0, 0.0, 0.0, 0.0], [0.8513382077217102, 0.04031119868159294, 0.0447213388979435, 0.045143190771341324, 0.01848611794412136, 0.0, 0.0, 0.0, 0.0, 0.0, 0.0, 0.0, 0.0], [0.8001888990402222, 0.019917206838726997, 0.03162859007716179, 0.023382872343063354, 0.06773386150598526, 0.057148564606904984, 0.0, 0.0, 0.0, 0.0, 0.0, 0.0, 0.0], [0.7454013228416443, 0.006144565995782614, 0.016457905992865562, 0.016056805849075317, 0.0314156748354435, 0.06875859200954437, 0.11576508730649948, 0.0, 0.0, 0.0, 0.0, 0.0, 0.0], [0.42548099160194397, 0.02322719432413578, 0.02958587184548378, 0.08755157142877579, 0.03644588589668274, 0.14142636954784393, 0.23192480206489563, 0.024357369169592857, 0.0, 0.0, 0.0, 0.0, 0.0], [0.46548032760620117, 0.018626706674695015, 0.02470710687339306, 0.04072076454758644, 0.02391144074499607, 0.07216590642929077, 0.29961398243904114, 0.042331598699092865, 0.012442155741155148, 0.0, 0.0, 0.0, 0.0], [0.5011358857154846, 0.025893807411193848, 0.018255583941936493, 0.022113043814897537, 0.018190540373325348, 0.06089568883180618, 0.22764112055301666, 0.06489360332489014, 0.022901935502886772, 0.038078777492046356, 0.0, 0.0, 0.0], [0.5598854422569275, 0.02215725928544998, 0.022422809153795242, 0.018299801275134087, 0.01025271788239479, 0.032317280769348145, 0.18395069241523743, 0.06918300688266754, 0.021478233858942986, 0.0451212041079998, 0.014931576326489449, 0.0, 0.0], [0.3650999367237091, 0.032620396465063095, 0.037522103637456894, 0.04692330211400986, 0.032027389854192734, 0.09231118857860565, 0.16231746971607208, 0.04732793569564819, 0.034435831010341644, 0.06258154660463333, 0.02442026138305664, 0.0624125599861145, 0.0], [0.4032498002052307, 0.020936569198966026, 0.01985607109963894, 0.02748381718993187, 0.008201900869607925, 0.034335922449827194, 0.23226778209209442, 0.012547004967927933, 0.01783582754433155, 0.0378933921456337, 0.020427802577614784, 0.13891686499118805, 0.026047199964523315]], [[1.0, 0.0, 0.0, 0.0, 0.0, 0.0, 0.0, 0.0, 0.0, 0.0, 0.0, 0.0, 0.0], [0.951606810092926, 0.04839317500591278, 0.0, 0.0, 0.0, 0.0, 0.0, 0.0, 0.0, 0.0, 0.0, 0.0, 0.0], [0.5273471474647522, 0.4455910623073578, 0.027061743661761284, 0.0, 0.0, 0.0, 0.0, 0.0, 0.0, 0.0, 0.0, 0.0, 0.0], [0.3821685016155243, 0.1512354165315628, 0.4262005090713501, 0.0403955914080143, 0.0, 0.0, 0.0, 0.0, 0.0, 0.0, 0.0, 0.0, 0.0], [0.3042164742946625, 0.020284350961446762, 0.09429392963647842, 0.5581269860267639, 0.023078355938196182, 0.0, 0.0, 0.0, 0.0, 0.0, 0.0, 0.0, 0.0], [0.20857882499694824, 0.025858724489808083, 0.12183962762355804, 0.23352880775928497, 0.3856712579727173, 0.024522805586457253, 0.0, 0.0, 0.0, 0.0, 0.0, 0.0, 0.0], [0.47717106342315674, 0.009591713547706604, 0.00996583141386509, 0.026022881269454956, 0.10838349908590317, 0.3387393057346344, 0.0301258135586977, 0.0, 0.0, 0.0, 0.0, 0.0, 0.0], [0.5540297627449036, 0.10314331203699112, 0.037345968186855316, 0.07885532081127167, 0.0766187533736229, 0.04712922126054764, 0.07669777423143387, 0.026179933920502663, 0.0, 0.0, 0.0, 0.0, 0.0], [0.7553839087486267, 0.016872262582182884, 0.007801115047186613, 0.02703985944390297, 0.016454607248306274, 0.012140922248363495, 0.013610460795462132, 0.13971278071403503, 0.010984011925756931, 0.0, 0.0, 0.0, 0.0], [0.7382271885871887, 0.009129669517278671, 0.002609751420095563, 0.008727640844881535, 0.009298404678702354, 0.023648777976632118, 0.011513752862811089, 0.08085040003061295, 0.09839878231287003, 0.01759563572704792, 0.0, 0.0, 0.0], [0.4795258641242981, 0.004313771612942219, 0.021410593762993813, 0.00288561312481761, 0.008566083386540413, 0.007401769515126944, 0.003688190132379532, 0.03141532465815544, 0.06634495407342911, 0.336909681558609, 0.037538185715675354, 0.0, 0.0], [0.45515674352645874, 0.003407716518267989, 0.02140595018863678, 0.004359242506325245, 0.007992139086127281, 0.00850769318640232, 0.0018447546754032373, 0.00504185538738966, 0.14351646602153778, 0.1270209550857544, 0.1934676617383957, 0.028278835117816925, 0.0], [0.6517043113708496, 0.017621368169784546, 0.016913779079914093, 0.0071426378563046455, 0.007618351839482784, 0.0034420404117554426, 0.003637995570898056, 0.005135134793817997, 0.06567975133657455, 0.06792814284563065, 0.05003146082162857, 0.07912364602088928, 0.02402142994105816]], [[1.0, 0.0, 0.0, 0.0, 0.0, 0.0, 0.0, 0.0, 0.0, 0.0, 0.0, 0.0, 0.0], [0.9998387098312378, 0.0001612167980056256, 0.0, 0.0, 0.0, 0.0, 0.0, 0.0, 0.0, 0.0, 0.0, 0.0, 0.0], [0.9905391931533813, 0.0025892064440995455, 0.006871659774333239, 0.0, 0.0, 0.0, 0.0, 0.0, 0.0, 0.0, 0.0, 0.0, 0.0], [0.9996113181114197, 0.00011498631647555158, 0.0001000649863271974, 0.00017360610945615917, 0.0, 0.0, 0.0, 0.0, 0.0, 0.0, 0.0, 0.0, 0.0], [0.9989821314811707, 0.0001222075952682644, 2.3138391043175943e-06, 0.00012011919170618057, 0.0007731831865385175, 0.0, 0.0, 0.0, 0.0, 0.0, 0.0, 0.0, 0.0], [0.9989933371543884, 0.0007893809815868735, 4.825085397897055e-06, 1.2519227539087296e-06, 7.951914085424505e-06, 0.00020317555754445493, 0.0, 0.0, 0.0, 0.0, 0.0, 0.0, 0.0], [0.9982306361198425, 1.1627564163063653e-05, 0.0002264230279251933, 0.0004515396140050143, 3.420287839617231e-06, 6.551839032908902e-05, 0.0010107490234076977, 0.0, 0.0, 0.0, 0.0, 0.0, 0.0], [0.9854631423950195, 0.000262183602899313, 0.00029900643858127296, 0.0009024887112900615, 0.00012534773850347847, 0.0015719663351774216, 0.0007950483122840524, 0.010580776259303093, 0.0, 0.0, 0.0, 0.0, 0.0], [0.985160231590271, 0.0010244391160085797, 4.1594412323320284e-05, 0.00014779064804315567, 4.637128768081311e-06, 9.55555424297927e-06, 0.01055301446467638, 0.002332692500203848, 0.0007259866106323898, 0.0, 0.0, 0.0, 0.0], [0.9914880990982056, 0.00015707970305811614, 2.8488116186053958e-06, 0.0008373322780244052, 6.581578873010585e-06, 7.456857565557584e-05, 0.0017224936746060848, 0.0015799691900610924, 0.00027072924422100186, 0.0038602380082011223, 0.0, 0.0, 0.0], [0.9959944486618042, 0.00025351534713990986, 2.5033587007783353e-06, 5.692726972483797e-06, 1.7251879853574792e-06, 2.4511634819646133e-06, 0.0024898871779441833, 6.493128603324294e-05, 2.506235978216864e-05, 9.824118023971096e-05, 0.0010615329956635833, 0.0, 0.0], [0.9937540888786316, 1.768343099683989e-05, 8.251546387327835e-05, 2.7447154934634455e-05, 1.2849942550019477e-06, 1.3108704479236621e-05, 0.003402767004445195, 0.0007639465038664639, 0.00010101448424393311, 6.026735263731098e-06, 9.840059647103772e-06, 0.001820249017328024, 0.0], [0.9794710278511047, 0.00015670389984734356, 0.00013313729141373187, 6.802179268561304e-05, 1.0107125490321778e-05, 6.463503268605564e-06, 0.00047577894292771816, 0.000229032346396707, 0.010652614757418633, 0.0002735423331614584, 3.232500603189692e-05, 0.0005469016032293439, 0.007944277487695217]], [[1.0, 0.0, 0.0, 0.0, 0.0, 0.0, 0.0, 0.0, 0.0, 0.0, 0.0, 0.0, 0.0], [0.986488401889801, 0.013511552475392818, 0.0, 0.0, 0.0, 0.0, 0.0, 0.0, 0.0, 0.0, 0.0, 0.0, 0.0], [0.9804016947746277, 0.006306377239525318, 0.013291907496750355, 0.0, 0.0, 0.0, 0.0, 0.0, 0.0, 0.0, 0.0, 0.0, 0.0], [0.9114101529121399, 0.026814477518200874, 0.036875974386930466, 0.024899432435631752, 0.0, 0.0, 0.0, 0.0, 0.0, 0.0, 0.0, 0.0, 0.0], [0.980893611907959, 0.0031490519177168608, 0.0052351499907672405, 0.0042931875213980675, 0.0064289867877960205, 0.0, 0.0, 0.0, 0.0, 0.0, 0.0, 0.0, 0.0], [0.934306263923645, 0.009538752026855946, 0.01335447933524847, 0.013317824341356754, 0.00916389748454094, 0.020318852737545967, 0.0, 0.0, 0.0, 0.0, 0.0, 0.0, 0.0], [0.9646514654159546, 0.0037683206610381603, 0.006786665413528681, 0.00538939842954278, 0.0018477666890248656, 0.005033518187701702, 0.012522878125309944, 0.0, 0.0, 0.0, 0.0, 0.0, 0.0], [0.8990153670310974, 0.004692935384809971, 0.011290479451417923, 0.01246454007923603, 0.004864271264523268, 0.01704772561788559, 0.013929792679846287, 0.0366949737071991, 0.0, 0.0, 0.0, 0.0, 0.0], [0.9003358483314514, 0.005448193289339542, 0.0069274986162781715, 0.012022200971841812, 0.0035553202033042908, 0.009123675525188446, 0.01645585335791111, 0.03532491996884346, 0.010806486941874027, 0.0, 0.0, 0.0, 0.0], [0.9305974245071411, 0.0020927749574184418, 0.004042941611260176, 0.007805458270013332, 0.0038053032476454973, 0.006641229148954153, 0.011088662780821323, 0.02021121047437191, 0.006531763356178999, 0.007183168549090624, 0.0, 0.0, 0.0], [0.7860080003738403, 0.008029082790017128, 0.010845378041267395, 0.009151914156973362, 0.037382300943136215, 0.02595830149948597, 0.029559073969721794, 0.05359218269586563, 0.009939170442521572, 0.012351910583674908, 0.017182644456624985, 0.0, 0.0], [0.8840897083282471, 0.0030156411230564117, 0.008994854055345058, 0.0019481475464999676, 0.0042936671525239944, 0.004553538281470537, 0.009762145578861237, 0.03827180340886116, 0.0069639249704778194, 0.008611638098955154, 0.006167553830891848, 0.023327404633164406, 0.0], [0.8442826867103577, 0.0033240229822695255, 0.00728252436965704, 0.003334319218993187, 0.001395550207234919, 0.003526256652548909, 0.006034339312463999, 0.011328212916851044, 0.014072954654693604, 0.022568343207240105, 0.007587917149066925, 0.01294208038598299, 0.06232081726193428]], [[1.0, 0.0, 0.0, 0.0, 0.0, 0.0, 0.0, 0.0, 0.0, 0.0, 0.0, 0.0, 0.0], [0.905604362487793, 0.09439565986394882, 0.0, 0.0, 0.0, 0.0, 0.0, 0.0, 0.0, 0.0, 0.0, 0.0, 0.0], [0.8212637305259705, 0.14798754453659058, 0.030748635530471802, 0.0, 0.0, 0.0, 0.0, 0.0, 0.0, 0.0, 0.0, 0.0, 0.0], [0.58500736951828, 0.11453603953123093, 0.21387875080108643, 0.08657777309417725, 0.0, 0.0, 0.0, 0.0, 0.0, 0.0, 0.0, 0.0, 0.0], [0.6313790678977966, 0.05006144195795059, 0.07580885291099548, 0.21589475870132446, 0.02685593254864216, 0.0, 0.0, 0.0, 0.0, 0.0, 0.0, 0.0, 0.0], [0.12034722417593002, 0.04600782319903374, 0.2022465616464615, 0.23716045916080475, 0.37456178665161133, 0.019676072522997856, 0.0, 0.0, 0.0, 0.0, 0.0, 0.0, 0.0], [0.34846946597099304, 0.0522792711853981, 0.08504840731620789, 0.10552920401096344, 0.2372015416622162, 0.14360742270946503, 0.0278647318482399, 0.0, 0.0, 0.0, 0.0, 0.0, 0.0], [0.4279864430427551, 0.029503509402275085, 0.03805337846279144, 0.3100128769874573, 0.08246950805187225, 0.051832348108291626, 0.031426142901182175, 0.02871582843363285, 0.0, 0.0, 0.0, 0.0, 0.0], [0.4550234377384186, 0.036265186965465546, 0.022991036996245384, 0.2854902446269989, 0.049947481602430344, 0.006932077929377556, 0.019383832812309265, 0.07354554533958435, 0.05042124167084694, 0.0, 0.0, 0.0, 0.0], [0.547648549079895, 0.06376732885837555, 0.007313629146665335, 0.13539063930511475, 0.05312125012278557, 0.00911712646484375, 0.02154172956943512, 0.06162275746464729, 0.0751885324716568, 0.025288432836532593, 0.0, 0.0, 0.0], [0.5542227625846863, 0.016831887885928154, 0.02319483458995819, 0.027225174009799957, 0.030300483107566833, 0.0034608477726578712, 0.0067041837610304356, 0.0527544803917408, 0.11572092026472092, 0.15012681484222412, 0.01945764571428299, 0.0, 0.0], [0.441324383020401, 0.011485719121992588, 0.010361921973526478, 0.03554224595427513, 0.01873873546719551, 0.0075452858582139015, 0.010642808862030506, 0.026616597548127174, 0.16135932505130768, 0.11865487694740295, 0.11433051526546478, 0.04339764267206192, 0.0], [0.805604100227356, 0.00476850988343358, 0.0031811718363314867, 0.010930431075394154, 0.0029322209302335978, 0.0038278873544186354, 0.006982588209211826, 0.005834699142724276, 0.04085920378565788, 0.02119958959519863, 0.012891674414277077, 0.043861642479896545, 0.037126269191503525]]], [[[1.0, 0.0, 0.0, 0.0, 0.0, 0.0, 0.0, 0.0, 0.0, 0.0, 0.0, 0.0, 0.0], [0.9569107890129089, 0.04308921843767166, 0.0, 0.0, 0.0, 0.0, 0.0, 0.0, 0.0, 0.0, 0.0, 0.0, 0.0], [0.8786593079566956, 0.08166658133268356, 0.03967412933707237, 0.0, 0.0, 0.0, 0.0, 0.0, 0.0, 0.0, 0.0, 0.0, 0.0], [0.7237563133239746, 0.011149873957037926, 0.24965684115886688, 0.01543688029050827, 0.0, 0.0, 0.0, 0.0, 0.0, 0.0, 0.0, 0.0, 0.0], [0.8252127170562744, 0.018991462886333466, 0.06233185902237892, 0.07314769178628922, 0.020316286012530327, 0.0, 0.0, 0.0, 0.0, 0.0, 0.0, 0.0, 0.0], [0.46950387954711914, 0.007043095305562019, 0.01844136044383049, 0.015409747138619423, 0.4645828306674957, 0.025018984451889992, 0.0, 0.0, 0.0, 0.0, 0.0, 0.0, 0.0], [0.2953220009803772, 0.003508326131850481, 0.0097714988514781, 0.011365367099642754, 0.17335587739944458, 0.48856601119041443, 0.018110988661646843, 0.0, 0.0, 0.0, 0.0, 0.0, 0.0], [0.9383126497268677, 0.003818552242591977, 0.003701215609908104, 0.005295362323522568, 0.015091780573129654, 0.005016910377889872, 0.02515440247952938, 0.0036090814974159002, 0.0, 0.0, 0.0, 0.0, 0.0], [0.9100309610366821, 0.003248484106734395, 0.0022896835580468178, 0.0010172456968575716, 0.000853771751280874, 0.00047519282088615, 0.002712167100980878, 0.07159626483917236, 0.0077762724831700325, 0.0, 0.0, 0.0, 0.0], [0.7836704254150391, 0.004037322476506233, 0.0016542344819754362, 0.0010792616521939635, 0.002834462793543935, 0.0031946408562362194, 0.014606209471821785, 0.054137200117111206, 0.10985632985830307, 0.024929925799369812, 0.0, 0.0, 0.0], [0.4802282452583313, 0.001228158944286406, 0.008412673138082027, 0.0016675075748935342, 0.0024643621873110533, 0.0010441540507599711, 0.00511531438678503, 0.012388638220727444, 0.0558285228908062, 0.42042064666748047, 0.011201881803572178, 0.0, 0.0], [0.5093749165534973, 0.00043473925325088203, 0.0031105007510632277, 0.0045947302132844925, 0.009981449693441391, 0.003486776491627097, 0.0010729717323556542, 0.007741290144622326, 0.02724180743098259, 0.10272834450006485, 0.317476749420166, 0.012755661271512508, 0.0], [0.9098407626152039, 0.0007158980588428676, 0.0007218928076326847, 0.0009414197411388159, 0.0017082744743674994, 0.0005818983190692961, 0.0015657137846574187, 0.0013965179678052664, 0.010067024268209934, 0.02203051745891571, 0.004585640039294958, 0.03265192359685898, 0.013192461803555489]], [[1.0, 0.0, 0.0, 0.0, 0.0, 0.0, 0.0, 0.0, 0.0, 0.0, 0.0, 0.0, 0.0], [0.9938607215881348, 0.006139276549220085, 0.0, 0.0, 0.0, 0.0, 0.0, 0.0, 0.0, 0.0, 0.0, 0.0, 0.0], [0.9759425520896912, 0.013294314965605736, 0.010763143189251423, 0.0, 0.0, 0.0, 0.0, 0.0, 0.0, 0.0, 0.0, 0.0, 0.0], [0.9748431444168091, 0.0068182866089046, 0.0034382068552076817, 0.0149003267288208, 0.0, 0.0, 0.0, 0.0, 0.0, 0.0, 0.0, 0.0, 0.0], [0.9751505851745605, 0.005251422058790922, 0.0021449055057018995, 0.004323180299252272, 0.013130026869475842, 0.0, 0.0, 0.0, 0.0, 0.0, 0.0, 0.0, 0.0], [0.9101274013519287, 0.004837202839553356, 0.006886505521833897, 0.008476999588310719, 0.016249649226665497, 0.053422268480062485, 0.0, 0.0, 0.0, 0.0, 0.0, 0.0, 0.0], [0.8828118443489075, 0.00016722366854082793, 0.0003312857588753104, 0.00033572703250683844, 0.0008219804731197655, 0.0014602439478039742, 0.1140715628862381, 0.0, 0.0, 0.0, 0.0, 0.0, 0.0], [0.8329223990440369, 0.0026973471976816654, 0.002448113402351737, 0.006735176779329777, 0.013673552311956882, 0.022009700536727905, 0.06336582452058792, 0.056147899478673935, 0.0, 0.0, 0.0, 0.0, 0.0], [0.6414227485656738, 0.000572316232137382, 0.00047267338959500194, 0.0019576135091483593, 0.0061019533313810825, 0.012623419985175133, 0.22237583994865417, 0.05488422513008118, 0.05958930775523186, 0.0, 0.0, 0.0, 0.0], [0.6601557731628418, 0.0012941347667947412, 0.00030656892340630293, 0.0010345409391447902, 0.0033045881427824497, 0.011517290025949478, 0.20614446699619293, 0.03732921555638313, 0.04176972806453705, 0.0371437594294548, 0.0, 0.0, 0.0], [0.7894282341003418, 0.0013100942596793175, 0.0006302883266471326, 0.0012010285863652825, 0.0033823770936578512, 0.008766493760049343, 0.055706772953271866, 0.028599275276064873, 0.03916284814476967, 0.036943502724170685, 0.034869007766246796, 0.0, 0.0], [0.7664545774459839, 0.00231390749104321, 0.0037759433034807444, 0.0006994942086748779, 0.001335651963017881, 0.0024068299680948257, 0.027286523953080177, 0.026990104466676712, 0.04502322897315025, 0.03494550287723541, 0.009948575869202614, 0.07881973683834076, 0.0], [0.729098916053772, 0.001303487573750317, 0.0013795968843623996, 0.0009160612244158983, 0.0009164317161776125, 0.0022947071120142937, 0.05183686688542366, 0.018692629411816597, 0.033365629613399506, 0.018838519230484962, 0.005339921917766333, 0.031004415825009346, 0.1050129234790802]], [[1.0, 0.0, 0.0, 0.0, 0.0, 0.0, 0.0, 0.0, 0.0, 0.0, 0.0, 0.0, 0.0], [0.9989805817604065, 0.001019350835122168, 0.0, 0.0, 0.0, 0.0, 0.0, 0.0, 0.0, 0.0, 0.0, 0.0, 0.0], [0.9977315068244934, 0.0016155251068994403, 0.0006529254023917019, 0.0, 0.0, 0.0, 0.0, 0.0, 0.0, 0.0, 0.0, 0.0, 0.0], [0.9990972280502319, 8.674149285070598e-05, 6.83600374031812e-05, 0.000747651094570756, 0.0, 0.0, 0.0, 0.0, 0.0, 0.0, 0.0, 0.0, 0.0], [0.9991164803504944, 4.696422547567636e-05, 4.408507811604068e-05, 0.00018428756447974592, 0.0006081353640183806, 0.0, 0.0, 0.0, 0.0, 0.0, 0.0, 0.0, 0.0], [0.9988555908203125, 0.000386118539609015, 1.5658812117180787e-05, 8.789663297648076e-06, 7.823987834854051e-05, 0.0006555131985805929, 0.0, 0.0, 0.0, 0.0, 0.0, 0.0, 0.0], [0.996107280254364, 2.771724757621996e-05, 0.0003086527285631746, 0.00013045321975369006, 3.468610157142393e-05, 8.46139300847426e-05, 0.00330650107935071, 0.0, 0.0, 0.0, 0.0, 0.0, 0.0], [0.9945732951164246, 0.0002503336581867188, 0.00010464001388754696, 0.00015723179967608303, 0.0002149849897250533, 0.0011182239977642894, 0.0021884888410568237, 0.00139291409868747, 0.0, 0.0, 0.0, 0.0, 0.0], [0.9900410771369934, 0.00041672386578284204, 0.00014633907994721085, 0.00012584023352246732, 3.460059087956324e-05, 4.6470660890918225e-05, 0.004457160830497742, 0.003944873344153166, 0.0007869753753766418, 0.0, 0.0, 0.0, 0.0], [0.9946405291557312, 0.00012339276145212352, 1.2006105862383265e-05, 0.0008389718132093549, 1.3309942914929707e-05, 0.00019116527982987463, 0.0009256618795916438, 0.0010314664104953408, 0.00012581073679029942, 0.0020978169050067663, 0.0, 0.0, 0.0], [0.9886572957038879, 0.0002166189078707248, 4.201001502224244e-06, 7.309727516258135e-05, 8.65361562318867e-06, 2.3118645913200453e-05, 0.001706690527498722, 0.00025055441074073315, 5.544251325773075e-05, 0.0022756385151296854, 0.006728708744049072, 0.0, 0.0], [0.9946883916854858, 1.682071524555795e-05, 3.810130510828458e-05, 3.216595359845087e-05, 4.503569289227016e-05, 2.4918792405514978e-05, 0.00046113537973724306, 0.0008730292902328074, 5.606595004792325e-05, 0.00012002854782622308, 0.00016282135038636625, 0.003481466555967927, 0.0], [0.9867783784866333, 7.395690045086667e-05, 6.991502596065402e-05, 4.730253931484185e-05, 5.958095789537765e-05, 3.683082468342036e-05, 0.0003934689739253372, 0.00011001851817127317, 0.002764294855296612, 0.0005204649642109871, 0.00029313689447008073, 0.0011665485799312592, 0.007686096243560314]], [[1.0, 0.0, 0.0, 0.0, 0.0, 0.0, 0.0, 0.0, 0.0, 0.0, 0.0, 0.0, 0.0], [0.9607515335083008, 0.03924846649169922, 0.0, 0.0, 0.0, 0.0, 0.0, 0.0, 0.0, 0.0, 0.0, 0.0, 0.0], [0.805127739906311, 0.15349571406841278, 0.04137665405869484, 0.0, 0.0, 0.0, 0.0, 0.0, 0.0, 0.0, 0.0, 0.0, 0.0], [0.8615156412124634, 0.05612369254231453, 0.042552001774311066, 0.0398087240755558, 0.0, 0.0, 0.0, 0.0, 0.0, 0.0, 0.0, 0.0, 0.0], [0.704188346862793, 0.036738526076078415, 0.07117217034101486, 0.09401159733533859, 0.09388936311006546, 0.0, 0.0, 0.0, 0.0, 0.0, 0.0, 0.0, 0.0], [0.6172158718109131, 0.04082615301012993, 0.08308912068605423, 0.07955501973628998, 0.09170342236757278, 0.08761041611433029, 0.0, 0.0, 0.0, 0.0, 0.0, 0.0, 0.0], [0.7062215209007263, 0.017880627885460854, 0.0524589940905571, 0.020171882584691048, 0.047871578484773636, 0.08789341151714325, 0.06750195473432541, 0.0, 0.0, 0.0, 0.0, 0.0, 0.0], [0.6476077437400818, 0.03851110488176346, 0.04710680618882179, 0.07071548700332642, 0.08097843080759048, 0.06348923593759537, 0.031142214313149452, 0.020448949187994003, 0.0, 0.0, 0.0, 0.0, 0.0], [0.57303786277771, 0.015260972082614899, 0.02675575390458107, 0.023378781974315643, 0.09933724999427795, 0.07409225404262543, 0.08577963709831238, 0.05544105917215347, 0.046916455030441284, 0.0, 0.0, 0.0, 0.0], [0.6202528476715088, 0.017042282968759537, 0.009338166564702988, 0.022784659639000893, 0.04760254546999931, 0.07703404128551483, 0.05992348492145538, 0.04200459271669388, 0.05630526319146156, 0.04771227389574051, 0.0, 0.0, 0.0], [0.6802256107330322, 0.010684562847018242, 0.015244457870721817, 0.010258158668875694, 0.020075799897313118, 0.023622918874025345, 0.037079423666000366, 0.030992165207862854, 0.056642085313797, 0.0645669549703598, 0.0506078377366066, 0.0, 0.0], [0.6163779497146606, 0.010081101208925247, 0.021248720586299896, 0.0035861965734511614, 0.007405347190797329, 0.022266952320933342, 0.029758429154753685, 0.023974282667040825, 0.036117784678936005, 0.0713481530547142, 0.06323391944169998, 0.09460116177797318, 0.0], [0.6202450394630432, 0.03207863122224808, 0.02698240987956524, 0.014301886782050133, 0.012289383448660374, 0.010619077831506729, 0.017451172694563866, 0.008726156316697598, 0.023645861074328423, 0.05224483832716942, 0.058606311678886414, 0.060669537633657455, 0.06213982030749321]], [[1.0, 0.0, 0.0, 0.0, 0.0, 0.0, 0.0, 0.0, 0.0, 0.0, 0.0, 0.0, 0.0], [0.9477234482765198, 0.052276626229286194, 0.0, 0.0, 0.0, 0.0, 0.0, 0.0, 0.0, 0.0, 0.0, 0.0, 0.0], [0.9339975118637085, 0.05522501468658447, 0.010777457617223263, 0.0, 0.0, 0.0, 0.0, 0.0, 0.0, 0.0, 0.0, 0.0, 0.0], [0.8925619721412659, 0.03741078078746796, 0.0504528284072876, 0.019574424251914024, 0.0, 0.0, 0.0, 0.0, 0.0, 0.0, 0.0, 0.0, 0.0], [0.7573466897010803, 0.019450895488262177, 0.05689948424696922, 0.14467884600162506, 0.02162412740290165, 0.0, 0.0, 0.0, 0.0, 0.0, 0.0, 0.0, 0.0], [0.5659637451171875, 0.030033838003873825, 0.06754234433174133, 0.1204482764005661, 0.184501051902771, 0.03151071071624756, 0.0, 0.0, 0.0, 0.0, 0.0, 0.0, 0.0], [0.44586747884750366, 0.03121611848473549, 0.0717819556593895, 0.08677598088979721, 0.24044470489025116, 0.09688596427440643, 0.02702772058546543, 0.0, 0.0, 0.0, 0.0, 0.0, 0.0], [0.5774379372596741, 0.03767009451985359, 0.056515369564294815, 0.12419584393501282, 0.067624032497406, 0.0504988431930542, 0.021392816677689552, 0.06466501206159592, 0.0, 0.0, 0.0, 0.0, 0.0], [0.9302692413330078, 0.0006105347420088947, 0.0028237449005246162, 0.005572161637246609, 0.012479996308684349, 0.006906833965331316, 0.00416894257068634, 0.02291400358080864, 0.014254513196647167, 0.0, 0.0, 0.0, 0.0], [0.9226415157318115, 0.0006555882864631712, 0.0016705889720469713, 0.0024919197894632816, 0.0075466386042535305, 0.004286285024136305, 0.004320052918046713, 0.033616598695516586, 0.017814207822084427, 0.004956449847668409, 0.0, 0.0, 0.0], [0.9172195792198181, 0.0014422782696783543, 0.0049468036741018295, 0.003772271564230323, 0.005843912251293659, 0.0026884200051426888, 0.0028491795528680086, 0.015720348805189133, 0.016807110980153084, 0.019687622785568237, 0.009022354148328304, 0.0, 0.0], [0.6706414818763733, 0.0027078459970653057, 0.011080342344939709, 0.003556376788765192, 0.0050612823106348515, 0.004936523269861937, 0.003855770919471979, 0.010360593907535076, 0.07349196076393127, 0.052859365940093994, 0.12035802006721497, 0.041090406477451324, 0.0], [0.5985373854637146, 0.007970158010721207, 0.01320805586874485, 0.012385345995426178, 0.00824162270873785, 0.006011963821947575, 0.007063653320074081, 0.06833622604608536, 0.1323697566986084, 0.019397465512156487, 0.023020725697278976, 0.03540664166212082, 0.06805100291967392]], [[1.0, 0.0, 0.0, 0.0, 0.0, 0.0, 0.0, 0.0, 0.0, 0.0, 0.0, 0.0, 0.0], [0.9413172602653503, 0.058682795614004135, 0.0, 0.0, 0.0, 0.0, 0.0, 0.0, 0.0, 0.0, 0.0, 0.0, 0.0], [0.8612944483757019, 0.0672195553779602, 0.07148605585098267, 0.0, 0.0, 0.0, 0.0, 0.0, 0.0, 0.0, 0.0, 0.0, 0.0], [0.942493736743927, 0.02267102710902691, 0.028020482510328293, 0.0068146842531859875, 0.0, 0.0, 0.0, 0.0, 0.0, 0.0, 0.0, 0.0, 0.0], [0.8872972726821899, 0.032430265098810196, 0.05097956210374832, 0.022221093997359276, 0.007071731612086296, 0.0, 0.0, 0.0, 0.0, 0.0, 0.0, 0.0, 0.0], [0.9036393761634827, 0.01700851321220398, 0.01903078332543373, 0.021999992430210114, 0.021406324580311775, 0.01691502332687378, 0.0, 0.0, 0.0, 0.0, 0.0, 0.0, 0.0], [0.8375716209411621, 0.006254895124584436, 0.02346251904964447, 0.009775204584002495, 0.029914146289229393, 0.060181569308042526, 0.032840024679899216, 0.0, 0.0, 0.0, 0.0, 0.0, 0.0], [0.5104792714118958, 0.045789241790771484, 0.04853453114628792, 0.049047552049160004, 0.0930018350481987, 0.07964066416025162, 0.12667816877365112, 0.04682872071862221, 0.0, 0.0, 0.0, 0.0, 0.0], [0.3501468002796173, 0.007404261268675327, 0.03367629274725914, 0.02953815832734108, 0.07616808265447617, 0.19173845648765564, 0.18422451615333557, 0.09747423231601715, 0.029629066586494446, 0.0, 0.0, 0.0, 0.0], [0.6060003042221069, 0.016469527035951614, 0.00445469468832016, 0.008876069448888302, 0.025957437232136726, 0.09590926766395569, 0.09680380672216415, 0.057604774832725525, 0.05189075693488121, 0.03603328764438629, 0.0, 0.0, 0.0], [0.7444281578063965, 0.010067765600979328, 0.005909763742238283, 0.004574527498334646, 0.015296991914510727, 0.026027550920844078, 0.01890961267054081, 0.0655888170003891, 0.037728697061538696, 0.029684551060199738, 0.041783470660448074, 0.0, 0.0], [0.45263242721557617, 0.010534700937569141, 0.012846213765442371, 0.0035478444769978523, 0.007578359451144934, 0.00715800141915679, 0.03451911360025406, 0.07810620218515396, 0.05094905570149422, 0.12310049682855606, 0.057980045676231384, 0.1610475480556488, 0.0], [0.5367318391799927, 0.01128364261239767, 0.010453637689352036, 0.00680876336991787, 0.007785026449710131, 0.016397027298808098, 0.06409519165754318, 0.04034119471907616, 0.019024766981601715, 0.046154722571372986, 0.019363056868314743, 0.14881063997745514, 0.07275053858757019]], [[1.0, 0.0, 0.0, 0.0, 0.0, 0.0, 0.0, 0.0, 0.0, 0.0, 0.0, 0.0, 0.0], [0.945151686668396, 0.05484825745224953, 0.0, 0.0, 0.0, 0.0, 0.0, 0.0, 0.0, 0.0, 0.0, 0.0, 0.0], [0.8816450238227844, 0.06019353121519089, 0.05816149339079857, 0.0, 0.0, 0.0, 0.0, 0.0, 0.0, 0.0, 0.0, 0.0, 0.0], [0.9223110675811768, 0.023224961012601852, 0.03774265572428703, 0.01672140508890152, 0.0, 0.0, 0.0, 0.0, 0.0, 0.0, 0.0, 0.0, 0.0], [0.9590573310852051, 0.012362872250378132, 0.01217850111424923, 0.007408956531435251, 0.008992323651909828, 0.0, 0.0, 0.0, 0.0, 0.0, 0.0, 0.0, 0.0], [0.8785785436630249, 0.02320772595703602, 0.024219322949647903, 0.009502815082669258, 0.045776236802339554, 0.01871543750166893, 0.0, 0.0, 0.0, 0.0, 0.0, 0.0, 0.0], [0.869645357131958, 0.010209303349256516, 0.014135795645415783, 0.008591391146183014, 0.025253670290112495, 0.015972040593624115, 0.056192487478256226, 0.0, 0.0, 0.0, 0.0, 0.0, 0.0], [0.6435258388519287, 0.02969057485461235, 0.03617164492607117, 0.05190996825695038, 0.04134122654795647, 0.0294281505048275, 0.0722418874502182, 0.09569066017866135, 0.0, 0.0, 0.0, 0.0, 0.0], [0.7108674049377441, 0.007941950112581253, 0.01915227808058262, 0.01743384078145027, 0.0476863756775856, 0.023212403059005737, 0.08632522076368332, 0.06936968863010406, 0.018010836094617844, 0.0, 0.0, 0.0, 0.0], [0.6320660710334778, 0.010075580328702927, 0.023895155638456345, 0.016749456524848938, 0.039735499769449234, 0.025366857647895813, 0.0928618535399437, 0.09404067695140839, 0.02650662139058113, 0.03870212659239769, 0.0, 0.0, 0.0], [0.6863296627998352, 0.00555370282381773, 0.016263876110315323, 0.01783815771341324, 0.03233145922422409, 0.019238248467445374, 0.04174155369400978, 0.062317028641700745, 0.012371517717838287, 0.06870128214359283, 0.037313539534807205, 0.0, 0.0], [0.7005205750465393, 0.003862054320052266, 0.010483995079994202, 0.013932882808148861, 0.032245002686977386, 0.018983157351613045, 0.03413153812289238, 0.047185104340314865, 0.021361645311117172, 0.07544010877609253, 0.023386375978589058, 0.018467489629983902, 0.0], [0.584844172000885, 0.013856117613613605, 0.020087076351046562, 0.0242127887904644, 0.019842740148305893, 0.01677662879228592, 0.05458648502826691, 0.060154348611831665, 0.021781183779239655, 0.05981189385056496, 0.013731569051742554, 0.015431568026542664, 0.09488347917795181]], [[1.0, 0.0, 0.0, 0.0, 0.0, 0.0, 0.0, 0.0, 0.0, 0.0, 0.0, 0.0, 0.0], [0.9804577231407166, 0.01954229548573494, 0.0, 0.0, 0.0, 0.0, 0.0, 0.0, 0.0, 0.0, 0.0, 0.0, 0.0], [0.9705016016960144, 0.005971450824290514, 0.0235269945114851, 0.0, 0.0, 0.0, 0.0, 0.0, 0.0, 0.0, 0.0, 0.0, 0.0], [0.9973559379577637, 0.0007810441893525422, 0.001097833039239049, 0.0007651862106285989, 0.0, 0.0, 0.0, 0.0, 0.0, 0.0, 0.0, 0.0, 0.0], [0.9898735284805298, 0.002129416214302182, 0.002737664617598057, 0.002903108252212405, 0.0023562868591398, 0.0, 0.0, 0.0, 0.0, 0.0, 0.0, 0.0, 0.0], [0.9921425580978394, 0.001617584377527237, 0.0016275806119665504, 0.0006781731499359012, 0.0004750585067085922, 0.0034590160939842463, 0.0, 0.0, 0.0, 0.0, 0.0, 0.0, 0.0], [0.9717938303947449, 0.001753317192196846, 0.004354369826614857, 0.0035914406180381775, 0.0014932980993762612, 0.005035012029111385, 0.011978812515735626, 0.0, 0.0, 0.0, 0.0, 0.0, 0.0], [0.9378572702407837, 0.012776168063282967, 0.012210291810333729, 0.009520990774035454, 0.0031044473871588707, 0.00652663828805089, 0.0068227932788431644, 0.011181346140801907, 0.0, 0.0, 0.0, 0.0, 0.0], [0.9348034262657166, 0.0024047400802373886, 0.0015213519800454378, 0.0014116489328444004, 0.0013973198365420103, 0.0035155732184648514, 0.007045799400657415, 0.04465928301215172, 0.0032408481929451227, 0.0, 0.0, 0.0, 0.0], [0.9498479962348938, 0.0023675623815506697, 0.0008783701923675835, 0.0010070338612422347, 0.0020548829343169928, 0.0011572663206607103, 0.004933802876621485, 0.028248168528079987, 0.0028789816424250603, 0.006625899579375982, 0.0, 0.0, 0.0], [0.960383951663971, 0.0007536252378486097, 0.0006191559950821102, 0.0006085368804633617, 0.002177760936319828, 0.002175502246245742, 0.002166107529774308, 0.02557315118610859, 0.001799274468794465, 0.00202005123719573, 0.0017228795913979411, 0.0, 0.0], [0.9364067316055298, 0.002410604152828455, 0.0019665698055177927, 0.00142094143666327, 0.0002816834894474596, 0.0014080547261983156, 0.002614423632621765, 0.025852540507912636, 0.005871193949133158, 0.007446330040693283, 0.0035463133826851845, 0.010774634778499603, 0.0], [0.9091081023216248, 0.02333877794444561, 0.013904325664043427, 0.004934716038405895, 0.0005886097787879407, 0.0008821377996355295, 0.001647809986025095, 0.0022613524924963713, 0.00625216867774725, 0.016113488003611565, 0.00723827350884676, 0.0027565821073949337, 0.010973646305501461]], [[1.0, 0.0, 0.0, 0.0, 0.0, 0.0, 0.0, 0.0, 0.0, 0.0, 0.0, 0.0, 0.0], [0.9332010746002197, 0.06679888814687729, 0.0, 0.0, 0.0, 0.0, 0.0, 0.0, 0.0, 0.0, 0.0, 0.0, 0.0], [0.785048246383667, 0.16915211081504822, 0.04579972103238106, 0.0, 0.0, 0.0, 0.0, 0.0, 0.0, 0.0, 0.0, 0.0, 0.0], [0.5233995318412781, 0.05868403613567352, 0.33292338252067566, 0.08499308675527573, 0.0, 0.0, 0.0, 0.0, 0.0, 0.0, 0.0, 0.0, 0.0], [0.7713766694068909, 0.02175382897257805, 0.13999886810779572, 0.056004125624895096, 0.010866541415452957, 0.0, 0.0, 0.0, 0.0, 0.0, 0.0, 0.0, 0.0], [0.6790259480476379, 0.007085748482495546, 0.016628265380859375, 0.05293620377779007, 0.23521971702575684, 0.009104052558541298, 0.0, 0.0, 0.0, 0.0, 0.0, 0.0, 0.0], [0.8222716450691223, 0.005938733462244272, 0.014355011284351349, 0.03019331581890583, 0.06095870956778526, 0.031108921393752098, 0.03517378121614456, 0.0, 0.0, 0.0, 0.0, 0.0, 0.0], [0.6473307609558105, 0.016172688454389572, 0.03593018278479576, 0.045487456023693085, 0.060264479368925095, 0.03603571280837059, 0.1529252827167511, 0.005853410344570875, 0.0, 0.0, 0.0, 0.0, 0.0], [0.13414132595062256, 0.0011875509517267346, 0.004786987788975239, 0.007650890853255987, 0.04145251214504242, 0.07831930369138718, 0.6834679841995239, 0.02388269640505314, 0.02511068806052208, 0.0, 0.0, 0.0, 0.0], [0.17363521456718445, 0.003152035176753998, 0.002368314890190959, 0.007874828763306141, 0.028012633323669434, 0.08629710227251053, 0.49871110916137695, 0.017499323934316635, 0.15893812477588654, 0.023511333391070366, 0.0, 0.0, 0.0], [0.06095782667398453, 0.002706033643335104, 0.013237802311778069, 0.0021962691098451614, 0.013443154282867908, 0.06161966174840927, 0.3821669816970825, 0.012773564085364342, 0.1227954551577568, 0.3131546676158905, 0.01494858879595995, 0.0, 0.0], [0.28419557213783264, 0.014856420457363129, 0.028598330914974213, 0.006057428661733866, 0.01008704025298357, 0.09377633035182953, 0.09535681456327438, 0.013842236250638962, 0.1021745428442955, 0.23963557183742523, 0.0809764564037323, 0.030443310737609863, 0.0], [0.6617010831832886, 0.015524468384683132, 0.023397566750645638, 0.013819389045238495, 0.004222302697598934, 0.01029722485691309, 0.07526762783527374, 0.0016587328864261508, 0.0494968518614769, 0.039613742381334305, 0.042786359786987305, 0.057145122438669205, 0.005069544538855553]], [[1.0, 0.0, 0.0, 0.0, 0.0, 0.0, 0.0, 0.0, 0.0, 0.0, 0.0, 0.0, 0.0], [0.965430498123169, 0.03456956148147583, 0.0, 0.0, 0.0, 0.0, 0.0, 0.0, 0.0, 0.0, 0.0, 0.0, 0.0], [0.849012553691864, 0.0983111783862114, 0.052676308900117874, 0.0, 0.0, 0.0, 0.0, 0.0, 0.0, 0.0, 0.0, 0.0, 0.0], [0.8253194689750671, 0.05802800506353378, 0.07780379056930542, 0.038848694413900375, 0.0, 0.0, 0.0, 0.0, 0.0, 0.0, 0.0, 0.0, 0.0], [0.7694289088249207, 0.06413701176643372, 0.1073242649435997, 0.03920796141028404, 0.01990189217031002, 0.0, 0.0, 0.0, 0.0, 0.0, 0.0, 0.0, 0.0], [0.4876876473426819, 0.07877674698829651, 0.1063641682267189, 0.13142172992229462, 0.13490672409534454, 0.060842934995889664, 0.0, 0.0, 0.0, 0.0, 0.0, 0.0, 0.0], [0.5926117300987244, 0.013854488730430603, 0.06089629977941513, 0.044756095856428146, 0.13386264443397522, 0.09897540509700775, 0.05504339188337326, 0.0, 0.0, 0.0, 0.0, 0.0, 0.0], [0.6954558491706848, 0.08366994559764862, 0.024296727031469345, 0.017992006614804268, 0.008868088945746422, 0.04658374935388565, 0.04396423324942589, 0.07916941493749619, 0.0, 0.0, 0.0, 0.0, 0.0], [0.526604175567627, 0.018319301307201385, 0.01031239703297615, 0.024777857586741447, 0.050935957580804825, 0.04125406593084335, 0.030675265938043594, 0.21067635715007782, 0.0864446759223938, 0.0, 0.0, 0.0, 0.0], [0.4096986651420593, 0.031062768772244453, 0.005080165341496468, 0.014844459481537342, 0.029978938400745392, 0.04047746583819389, 0.017738912254571915, 0.2202833890914917, 0.19017040729522705, 0.04066476225852966, 0.0, 0.0, 0.0], [0.5793957710266113, 0.011494907550513744, 0.00617456529289484, 0.006548464763909578, 0.014134974218904972, 0.013877693563699722, 0.0069909230805933475, 0.14112211763858795, 0.11491204053163528, 0.07194465398788452, 0.033403851091861725, 0.0, 0.0], [0.3430614769458771, 0.013722696341574192, 0.011481956578791142, 0.0031090935226529837, 0.00912443082779646, 0.01564718969166279, 0.012933117337524891, 0.14877837896347046, 0.2281164973974228, 0.10101726651191711, 0.09744211286306381, 0.015565759502351284, 0.0], [0.7288732528686523, 0.03534979000687599, 0.008721278049051762, 0.0021336853969842196, 0.0010415087454020977, 0.004750777035951614, 0.013449491932988167, 0.03416954353451729, 0.03369396552443504, 0.02162398211658001, 0.024141443893313408, 0.002603353699669242, 0.08944784104824066]], [[1.0, 0.0, 0.0, 0.0, 0.0, 0.0, 0.0, 0.0, 0.0, 0.0, 0.0, 0.0, 0.0], [0.9992619156837463, 0.0007380697061307728, 0.0, 0.0, 0.0, 0.0, 0.0, 0.0, 0.0, 0.0, 0.0, 0.0, 0.0], [0.9892842173576355, 0.005562253762036562, 0.005153450183570385, 0.0, 0.0, 0.0, 0.0, 0.0, 0.0, 0.0, 0.0, 0.0, 0.0], [0.9981765747070312, 0.0005529297050088644, 0.000411681248806417, 0.00085878447862342, 0.0, 0.0, 0.0, 0.0, 0.0, 0.0, 0.0, 0.0, 0.0], [0.9894173741340637, 0.0015784123679623008, 0.0006984088686294854, 0.0006574884173460305, 0.007648366503417492, 0.0, 0.0, 0.0, 0.0, 0.0, 0.0, 0.0, 0.0], [0.9879931211471558, 0.005799189675599337, 0.0003320532850921154, 9.38982775551267e-05, 0.001220144098624587, 0.004561563953757286, 0.0, 0.0, 0.0, 0.0, 0.0, 0.0, 0.0], [0.9891876578330994, 8.647831418784335e-05, 0.00025157592608593404, 7.721967995166779e-05, 2.2215146600501612e-05, 0.00025954420561902225, 0.010115441866219044, 0.0, 0.0, 0.0, 0.0, 0.0, 0.0], [0.9580034613609314, 0.0023863972164690495, 0.0014460831880569458, 0.002015861915424466, 0.0006115725263953209, 0.01231928076595068, 0.013755915686488152, 0.009461477398872375, 0.0, 0.0, 0.0, 0.0, 0.0], [0.9461935758590698, 0.0011945964070037007, 0.0004914143355563283, 0.0001361391186947003, 0.00013337410928215832, 0.0001603245036676526, 0.00908282957971096, 0.031424060463905334, 0.011183727532625198, 0.0, 0.0, 0.0, 0.0], [0.9491623640060425, 0.0012195425806567073, 7.364907651208341e-05, 0.00468964409083128, 0.000990693224593997, 0.0015568820526823401, 0.004653408657759428, 0.02735268697142601, 0.0042764004319906235, 0.006024758797138929, 0.0, 0.0, 0.0], [0.9722349047660828, 0.0018719336949288845, 4.2900013795588166e-05, 0.00018668641860131174, 0.00019609327137004584, 6.849834608146921e-05, 0.0033433132339268923, 0.003556034527719021, 0.0004017460742034018, 0.007742698770016432, 0.010355201549828053, 0.0, 0.0], [0.9881721138954163, 7.496224861824885e-05, 0.00012412361684255302, 0.00013760999718215317, 0.00016016641166061163, 0.00042542151641100645, 0.003304565092548728, 0.0004895210731774569, 0.00036326615372672677, 0.00014906146680004895, 0.00018163914501201361, 0.006417446304112673, 0.0], [0.9873389005661011, 0.0005880165845155716, 0.0003096504369750619, 0.0004453046421986073, 9.362727723782882e-05, 0.0005760392523370683, 0.002602305030450225, 0.00030157496803440154, 0.003928072284907103, 0.0006740951794199646, 7.344174082390964e-05, 0.0006354583310894668, 0.002433495130389929]], [[1.0, 0.0, 0.0, 0.0, 0.0, 0.0, 0.0, 0.0, 0.0, 0.0, 0.0, 0.0, 0.0], [0.9937912821769714, 0.0062086754478514194, 0.0, 0.0, 0.0, 0.0, 0.0, 0.0, 0.0, 0.0, 0.0, 0.0, 0.0], [0.9724288582801819, 0.016425034031271935, 0.011146080680191517, 0.0, 0.0, 0.0, 0.0, 0.0, 0.0, 0.0, 0.0, 0.0, 0.0], [0.9864285588264465, 0.0010492833098396659, 0.00765089550986886, 0.0048713283613324165, 0.0, 0.0, 0.0, 0.0, 0.0, 0.0, 0.0, 0.0, 0.0], [0.9896451234817505, 0.00041418991168029606, 0.0024624678771942854, 0.0026832250878214836, 0.004795019514858723, 0.0, 0.0, 0.0, 0.0, 0.0, 0.0, 0.0, 0.0], [0.9768113493919373, 0.013926352374255657, 0.002098675351589918, 0.0008797096670605242, 0.004567932337522507, 0.0017160183051601052, 0.0, 0.0, 0.0, 0.0, 0.0, 0.0, 0.0], [0.9336313605308533, 0.0033736613113433123, 0.014308895915746689, 0.0023205792531371117, 0.007337932474911213, 0.003782929154112935, 0.03524455428123474, 0.0, 0.0, 0.0, 0.0, 0.0, 0.0], [0.9772023558616638, 0.001363067771308124, 0.0027033148799091578, 0.0016661249101161957, 0.0005757935578003526, 0.0009010744979605079, 0.002016508486121893, 0.01357176247984171, 0.0, 0.0, 0.0, 0.0, 0.0], [0.9591215252876282, 0.010303854942321777, 0.0044181752018630505, 0.004541855771094561, 0.00042726335232146084, 0.0007699374109506607, 0.013312813825905323, 0.004900715313851833, 0.0022037809249013662, 0.0, 0.0, 0.0, 0.0], [0.9334142804145813, 0.004620730876922607, 0.0015778773231431842, 0.011198625899851322, 0.0004074781609233469, 0.0036478799302130938, 0.004555592313408852, 0.0025950088165700436, 0.0010439192410558462, 0.036938510835170746, 0.0, 0.0, 0.0], [0.9650255441665649, 0.003371280850842595, 0.0012450232170522213, 0.002789922058582306, 0.0038671265356242657, 0.004099706187844276, 0.008235229179263115, 0.006370130926370621, 0.000497634697239846, 0.0008124713785946369, 0.0036859370302408934, 0.0, 0.0], [0.9426667094230652, 0.0006965575157664716, 0.0028571579605340958, 0.0006906618364155293, 0.008700375445187092, 0.001379472087137401, 0.002749904291704297, 0.02732669562101364, 0.0009767240844666958, 0.0020273958798497915, 0.0017870527226477861, 0.008141257800161839, 0.0], [0.9200882911682129, 0.0008797189802862704, 0.0011211930541321635, 0.0005141362780705094, 0.0007543729734607041, 0.00023195252288132906, 0.0015691714361310005, 0.015113316476345062, 0.038176000118255615, 0.0029550122562795877, 0.000882046006154269, 0.0012684648390859365, 0.01644633710384369]]], [[[1.0, 0.0, 0.0, 0.0, 0.0, 0.0, 0.0, 0.0, 0.0, 0.0, 0.0, 0.0, 0.0], [0.9885786771774292, 0.011421282775700092, 0.0, 0.0, 0.0, 0.0, 0.0, 0.0, 0.0, 0.0, 0.0, 0.0, 0.0], [0.92400723695755, 0.02634354680776596, 0.049649178981781006, 0.0, 0.0, 0.0, 0.0, 0.0, 0.0, 0.0, 0.0, 0.0, 0.0], [0.9250153303146362, 0.017101649194955826, 0.040377259254455566, 0.017505766823887825, 0.0, 0.0, 0.0, 0.0, 0.0, 0.0, 0.0, 0.0, 0.0], [0.8898260593414307, 0.006718306336551905, 0.03582780808210373, 0.020356930792331696, 0.04727092385292053, 0.0, 0.0, 0.0, 0.0, 0.0, 0.0, 0.0, 0.0], [0.8962545394897461, 0.006416809745132923, 0.015068614855408669, 0.009068559855222702, 0.020532360300421715, 0.05265912413597107, 0.0, 0.0, 0.0, 0.0, 0.0, 0.0, 0.0], [0.8389371633529663, 0.014491371810436249, 0.02012949436903, 0.006888842675834894, 0.015469592064619064, 0.03783164918422699, 0.06625191122293472, 0.0, 0.0, 0.0, 0.0, 0.0, 0.0], [0.8296396732330322, 0.003589870175346732, 0.010673732496798038, 0.012117886915802956, 0.04776976630091667, 0.02996942028403282, 0.01879173144698143, 0.04744788259267807, 0.0, 0.0, 0.0, 0.0, 0.0], [0.6965187191963196, 0.010706533677875996, 0.018139204010367393, 0.013598883524537086, 0.03921108320355415, 0.06785062700510025, 0.025125082582235336, 0.06458321213722229, 0.06426669657230377, 0.0, 0.0, 0.0, 0.0], [0.6124517917633057, 0.010309199802577496, 0.01856207847595215, 0.01563478633761406, 0.025445766746997833, 0.038709234446287155, 0.023375092074275017, 0.08459819853305817, 0.07396640628576279, 0.09694752842187881, 0.0, 0.0, 0.0], [0.6030423045158386, 0.005424593575298786, 0.02061883732676506, 0.01776900701224804, 0.020622165873646736, 0.03447621315717697, 0.02038087509572506, 0.07278597354888916, 0.049303654581308365, 0.04474780336022377, 0.11082857847213745, 0.0, 0.0], [0.7390552163124084, 0.0061617158353328705, 0.011399051174521446, 0.003637987421825528, 0.009392869658768177, 0.008820024318993092, 0.01636037789285183, 0.1343536525964737, 0.014849112369120121, 0.015176963992416859, 0.02504396066069603, 0.01574907824397087, 0.0], [0.8599955439567566, 0.002064177067950368, 0.0043462044559419155, 0.003866791957989335, 0.01046938356012106, 0.005734145175665617, 0.009194006212055683, 0.029876694083213806, 0.011466661468148232, 0.0025997960474342108, 0.006302566267549992, 0.0037123681977391243, 0.05037172511219978]], [[1.0, 0.0, 0.0, 0.0, 0.0, 0.0, 0.0, 0.0, 0.0, 0.0, 0.0, 0.0, 0.0], [0.9592180252075195, 0.04078196734189987, 0.0, 0.0, 0.0, 0.0, 0.0, 0.0, 0.0, 0.0, 0.0, 0.0, 0.0], [0.9947025179862976, 0.0034309937618672848, 0.0018664328381419182, 0.0, 0.0, 0.0, 0.0, 0.0, 0.0, 0.0, 0.0, 0.0, 0.0], [0.9978035092353821, 0.0010231976630166173, 0.0006522804033011198, 0.0005209979135543108, 0.0, 0.0, 0.0, 0.0, 0.0, 0.0, 0.0, 0.0, 0.0], [0.9902004599571228, 0.0002289611438754946, 0.00020891991152893752, 5.031950058764778e-05, 0.009311342611908913, 0.0, 0.0, 0.0, 0.0, 0.0, 0.0, 0.0, 0.0], [0.9966902732849121, 0.00047235266538336873, 5.665154094458558e-05, 1.7073683920898475e-05, 0.0022536725737154484, 0.0005099003319628537, 0.0, 0.0, 0.0, 0.0, 0.0, 0.0, 0.0], [0.978213369846344, 0.000313739845296368, 0.0009375576628372073, 0.0007213865756057203, 0.0037983907386660576, 0.0013707383768633008, 0.014644849114120007, 0.0, 0.0, 0.0, 0.0, 0.0, 0.0], [0.9482073187828064, 0.009319895878434181, 0.007313424721360207, 0.0029569233302026987, 0.012663288973271847, 0.00421042600646615, 0.010055643506348133, 0.005272995214909315, 0.0, 0.0, 0.0, 0.0, 0.0], [0.9843346476554871, 0.002122181002050638, 0.00045704946387559175, 0.00010705943714128807, 0.00024345115525647998, 0.0001019258052110672, 0.005616429261863232, 0.005013178568333387, 0.0020040678791701794, 0.0, 0.0, 0.0, 0.0], [0.985858142375946, 0.0010108085116371512, 3.793466748902574e-05, 0.0037667807191610336, 0.0013766048941761255, 0.00045318686170503497, 0.0020387049298733473, 0.002351317787542939, 0.0010994679760187864, 0.00200709979981184, 0.0, 0.0, 0.0], [0.9817578196525574, 0.0020601775031536818, 0.00023086681903805584, 0.0006959438323974609, 0.0007903460646048188, 0.00015810312470421195, 0.0012432713992893696, 0.0023152828216552734, 0.0005734340520575643, 0.0035727783106267452, 0.00660192035138607, 0.0, 0.0], [0.9759149551391602, 0.00046010431833565235, 0.0007507877890020609, 0.00019968902051914483, 0.0038829799741506577, 0.0007473837467841804, 0.0014596226392313838, 0.003932924009859562, 0.002411965513601899, 0.0022859247401356697, 0.0013564912369474769, 0.0065971072763204575, 0.0], [0.9740928411483765, 0.003057166701182723, 0.0010619723470881581, 0.0004995199269615114, 0.0015958871226757765, 0.0007876731106080115, 0.0019944177474826574, 0.001293195760808885, 0.0059209843166172504, 0.0017564187292009592, 0.0007063764496706426, 0.003774877404794097, 0.00345863145776093]], [[1.0, 0.0, 0.0, 0.0, 0.0, 0.0, 0.0, 0.0, 0.0, 0.0, 0.0, 0.0, 0.0], [0.924684464931488, 0.07531556487083435, 0.0, 0.0, 0.0, 0.0, 0.0, 0.0, 0.0, 0.0, 0.0, 0.0, 0.0], [0.8574203252792358, 0.10142684727907181, 0.04115282744169235, 0.0, 0.0, 0.0, 0.0, 0.0, 0.0, 0.0, 0.0, 0.0, 0.0], [0.9308714866638184, 0.028938136994838715, 0.012168126180768013, 0.0280222836881876, 0.0, 0.0, 0.0, 0.0, 0.0, 0.0, 0.0, 0.0, 0.0], [0.7589312195777893, 0.1041714996099472, 0.056972358375787735, 0.06101793423295021, 0.018906917423009872, 0.0, 0.0, 0.0, 0.0, 0.0, 0.0, 0.0, 0.0], [0.8369638919830322, 0.07532771676778793, 0.02021738700568676, 0.023992570117115974, 0.006078765727579594, 0.03741970285773277, 0.0, 0.0, 0.0, 0.0, 0.0, 0.0, 0.0], [0.7893775105476379, 0.07821538299322128, 0.0335736982524395, 0.018795790150761604, 0.0076536377891898155, 0.03514352813363075, 0.03724053502082825, 0.0, 0.0, 0.0, 0.0, 0.0, 0.0], [0.5627189874649048, 0.08877246826887131, 0.05088887736201286, 0.04304535314440727, 0.00572089571505785, 0.052731920033693314, 0.08838791400194168, 0.10773354768753052, 0.0, 0.0, 0.0, 0.0, 0.0], [0.622046709060669, 0.04372236505150795, 0.06446116417646408, 0.03942834958434105, 0.0024598881136626005, 0.03094196878373623, 0.07585042715072632, 0.09498520195484161, 0.026103921234607697, 0.0, 0.0, 0.0, 0.0], [0.40948790311813354, 0.06300827115774155, 0.024364477023482323, 0.08414455503225327, 0.009854372590780258, 0.027862798422574997, 0.06983225792646408, 0.17784714698791504, 0.045935843139886856, 0.08766233175992966, 0.0, 0.0, 0.0], [0.4474387764930725, 0.062277764081954956, 0.01733410358428955, 0.041531261056661606, 0.006254772190004587, 0.017565997317433357, 0.1087091714143753, 0.15616647899150848, 0.044312771409749985, 0.024169228971004486, 0.07423966377973557, 0.0, 0.0], [0.4761373996734619, 0.04431209713220596, 0.023056508973240852, 0.015453443862497807, 0.004665328189730644, 0.015495148487389088, 0.030148478224873543, 0.18958549201488495, 0.03555038943886757, 0.04352482408285141, 0.07022754102945328, 0.051843345165252686, 0.0], [0.5577200651168823, 0.06184211000800133, 0.026408055797219276, 0.019822409376502037, 0.002470992738381028, 0.02135322242975235, 0.03700677305459976, 0.03918919339776039, 0.025175897404551506, 0.04310305044054985, 0.045727819204330444, 0.019897902384400368, 0.10028250515460968]], [[1.0, 0.0, 0.0, 0.0, 0.0, 0.0, 0.0, 0.0, 0.0, 0.0, 0.0, 0.0, 0.0], [0.9391628503799438, 0.060837145894765854, 0.0, 0.0, 0.0, 0.0, 0.0, 0.0, 0.0, 0.0, 0.0, 0.0, 0.0], [0.9630717039108276, 0.012202228419482708, 0.024725954979658127, 0.0, 0.0, 0.0, 0.0, 0.0, 0.0, 0.0, 0.0, 0.0, 0.0], [0.9763436317443848, 0.003336452879011631, 0.007012100890278816, 0.013307771645486355, 0.0, 0.0, 0.0, 0.0, 0.0, 0.0, 0.0, 0.0, 0.0], [0.9408948421478271, 0.0018085286719724536, 0.0125354565680027, 0.008483893238008022, 0.03627728670835495, 0.0, 0.0, 0.0, 0.0, 0.0, 0.0, 0.0, 0.0], [0.9659820199012756, 0.0025123856030404568, 0.00962354987859726, 0.00125515169929713, 0.00597759522497654, 0.01464932132512331, 0.0, 0.0, 0.0, 0.0, 0.0, 0.0, 0.0], [0.9406356811523438, 0.002168098697438836, 0.007359649986028671, 0.0012613446451723576, 0.007850139401853085, 0.008586764335632324, 0.03213827311992645, 0.0, 0.0, 0.0, 0.0, 0.0, 0.0], [0.5284344553947449, 0.042810436338186264, 0.0592120960354805, 0.018816538155078888, 0.02697521261870861, 0.031762298196554184, 0.12065552175045013, 0.1713334619998932, 0.0, 0.0, 0.0, 0.0, 0.0], [0.7845739126205444, 0.0011804875684902072, 0.0038690902292728424, 0.0012289794394746423, 0.012044407427310944, 0.012305773794651031, 0.0651916041970253, 0.09159136563539505, 0.02801431715488434, 0.0, 0.0, 0.0, 0.0], [0.7487215995788574, 0.0018082794267684221, 0.0018288114806637168, 0.00302056223154068, 0.01193098071962595, 0.011198535561561584, 0.05022111535072327, 0.1365450620651245, 0.024259347468614578, 0.010465548373758793, 0.0, 0.0, 0.0], [0.7820584177970886, 0.002748041180893779, 0.0022359578870236874, 0.0025688440073281527, 0.013714050874114037, 0.0056917122565209866, 0.01274949312210083, 0.14218801259994507, 0.019131163135170937, 0.008369343355298042, 0.00854494422674179, 0.0, 0.0], [0.5682605504989624, 0.004522040486335754, 0.004774566739797592, 0.0010172815527766943, 0.0010591702302917838, 0.008057991974055767, 0.12184794247150421, 0.12166865915060043, 0.08429528027772903, 0.03499242663383484, 0.014522063545882702, 0.034982066601514816, 0.0], [0.5767092704772949, 0.030131475999951363, 0.021217819303274155, 0.00366265419870615, 0.004126284271478653, 0.006609393749386072, 0.03473817557096481, 0.06820421665906906, 0.03907934948801994, 0.02578212320804596, 0.01206341665238142, 0.018891476094722748, 0.15878432989120483]], [[1.0, 0.0, 0.0, 0.0, 0.0, 0.0, 0.0, 0.0, 0.0, 0.0, 0.0, 0.0, 0.0], [0.9501694440841675, 0.04983058199286461, 0.0, 0.0, 0.0, 0.0, 0.0, 0.0, 0.0, 0.0, 0.0, 0.0, 0.0], [0.8924086093902588, 0.07885703444480896, 0.028734320774674416, 0.0, 0.0, 0.0, 0.0, 0.0, 0.0, 0.0, 0.0, 0.0, 0.0], [0.8875378966331482, 0.020899860188364983, 0.07190397381782532, 0.01965823955833912, 0.0, 0.0, 0.0, 0.0, 0.0, 0.0, 0.0, 0.0, 0.0], [0.8519841432571411, 0.00955352932214737, 0.009324401617050171, 0.026968903839588165, 0.1021689847111702, 0.0, 0.0, 0.0, 0.0, 0.0, 0.0, 0.0, 0.0], [0.347232460975647, 0.00669228145852685, 0.006406736560165882, 0.024090852588415146, 0.571020781993866, 0.0445568822324276, 0.0, 0.0, 0.0, 0.0, 0.0, 0.0, 0.0], [0.3188401460647583, 0.00672090332955122, 0.009210213087499142, 0.03110847808420658, 0.4760090708732605, 0.14803196489810944, 0.010079228319227695, 0.0, 0.0, 0.0, 0.0, 0.0, 0.0], [0.8085386753082275, 0.006110604386776686, 0.005196359474211931, 0.04970359802246094, 0.02416292391717434, 0.026761438697576523, 0.03508571907877922, 0.04444063827395439, 0.0, 0.0, 0.0, 0.0, 0.0], [0.5877259969711304, 0.006687343120574951, 0.006005110219120979, 0.02561570703983307, 0.11185071617364883, 0.08256124705076218, 0.04883558675646782, 0.1037181168794632, 0.02700013853609562, 0.0, 0.0, 0.0, 0.0], [0.617685079574585, 0.00924204383045435, 0.0032820086926221848, 0.014947451651096344, 0.060073040425777435, 0.04620475694537163, 0.029927093535661697, 0.11091814190149307, 0.09903942048549652, 0.008680912666022778, 0.0, 0.0, 0.0], [0.7005060911178589, 0.005014712922275066, 0.01282185036689043, 0.01922483928501606, 0.03771360218524933, 0.010859551839530468, 0.012176105752587318, 0.04719347506761551, 0.07647165656089783, 0.04647428169846535, 0.031543854624032974, 0.0, 0.0], [0.8182991743087769, 0.007429014891386032, 0.005396735388785601, 0.005917998496443033, 0.0029839137569069862, 0.004116703290492296, 0.008602567948400974, 0.010694696567952633, 0.011008636094629765, 0.014363007619976997, 0.04231474548578262, 0.06887274980545044, 0.0], [0.8887989521026611, 0.0017369091510772705, 0.0012046918272972107, 0.006948802620172501, 0.0009707025019451976, 0.0017797282198444009, 0.004733202513307333, 0.007112368009984493, 0.005384032614529133, 0.0017693889094516635, 0.005650624632835388, 0.04696706682443619, 0.02694363333284855]], [[1.0, 0.0, 0.0, 0.0, 0.0, 0.0, 0.0, 0.0, 0.0, 0.0, 0.0, 0.0, 0.0], [0.8692957162857056, 0.13070423901081085, 0.0, 0.0, 0.0, 0.0, 0.0, 0.0, 0.0, 0.0, 0.0, 0.0, 0.0], [0.7411393523216248, 0.19387513399124146, 0.06498557329177856, 0.0, 0.0, 0.0, 0.0, 0.0, 0.0, 0.0, 0.0, 0.0, 0.0], [0.7246322631835938, 0.07857898622751236, 0.15273185074329376, 0.04405695199966431, 0.0, 0.0, 0.0, 0.0, 0.0, 0.0, 0.0, 0.0, 0.0], [0.4195988178253174, 0.10013134777545929, 0.17080502212047577, 0.262419193983078, 0.04704570397734642, 0.0, 0.0, 0.0, 0.0, 0.0, 0.0, 0.0, 0.0], [0.6563902497291565, 0.04015617072582245, 0.055368486791849136, 0.1413874626159668, 0.08523592352867126, 0.021461840718984604, 0.0, 0.0, 0.0, 0.0, 0.0, 0.0, 0.0], [0.45597130060195923, 0.045092009007930756, 0.11162293702363968, 0.10339979827404022, 0.14615251123905182, 0.08427935093641281, 0.05348214879631996, 0.0, 0.0, 0.0, 0.0, 0.0, 0.0], [0.5461072325706482, 0.041250571608543396, 0.06517516076564789, 0.07713863998651505, 0.013939136639237404, 0.04410488158464432, 0.10719109326601028, 0.10509335249662399, 0.0, 0.0, 0.0, 0.0, 0.0], [0.5044673681259155, 0.008472253568470478, 0.01631147228181362, 0.014219855889678001, 0.02556733600795269, 0.040379300713539124, 0.13961385190486908, 0.20297077298164368, 0.047997843474149704, 0.0, 0.0, 0.0, 0.0], [0.344940185546875, 0.016496501863002777, 0.00576190697029233, 0.010952400043606758, 0.012895066291093826, 0.021874353289604187, 0.06778427958488464, 0.23824524879455566, 0.23544001579284668, 0.04561007395386696, 0.0, 0.0, 0.0], [0.3022274971008301, 0.0177921112626791, 0.027394713833928108, 0.006947413086891174, 0.008219953626394272, 0.014419374987483025, 0.0497589185833931, 0.11663974076509476, 0.1493888944387436, 0.19903963804244995, 0.1081717386841774, 0.0, 0.0], [0.41409388184547424, 0.005520537495613098, 0.01596646197140217, 0.007246478460729122, 0.008354195393621922, 0.012379388324916363, 0.013162744231522083, 0.03966337442398071, 0.0712975263595581, 0.13464096188545227, 0.19856324791908264, 0.07911121100187302, 0.0], [0.552240252494812, 0.013997184112668037, 0.01563328504562378, 0.01328432559967041, 0.0012428801273927093, 0.006007290445268154, 0.03079354204237461, 0.07094696909189224, 0.013130716979503632, 0.010385474190115929, 0.020412946119904518, 0.14478448033332825, 0.10714065283536911]], [[1.0, 0.0, 0.0, 0.0, 0.0, 0.0, 0.0, 0.0, 0.0, 0.0, 0.0, 0.0, 0.0], [0.9256664514541626, 0.07433357834815979, 0.0, 0.0, 0.0, 0.0, 0.0, 0.0, 0.0, 0.0, 0.0, 0.0, 0.0], [0.9751752018928528, 0.017041979357600212, 0.007782811764627695, 0.0, 0.0, 0.0, 0.0, 0.0, 0.0, 0.0, 0.0, 0.0, 0.0], [0.9937927722930908, 0.002619847422465682, 0.0018116459250450134, 0.001775671262294054, 0.0, 0.0, 0.0, 0.0, 0.0, 0.0, 0.0, 0.0, 0.0], [0.984815239906311, 0.005661947652697563, 0.006356704514473677, 0.0020909984596073627, 0.001075172913260758, 0.0, 0.0, 0.0, 0.0, 0.0, 0.0, 0.0, 0.0], [0.9922635555267334, 0.0011595679679885507, 0.002112389076501131, 0.0005632698303088546, 0.0018503929022699594, 0.002050853567197919, 0.0, 0.0, 0.0, 0.0, 0.0, 0.0, 0.0], [0.962203860282898, 0.0019250225741416216, 0.0076536075212061405, 0.005693577695637941, 0.003721865825355053, 0.003249691566452384, 0.015552272088825703, 0.0, 0.0, 0.0, 0.0, 0.0, 0.0], [0.8652008175849915, 0.017073238268494606, 0.0222682636231184, 0.0121909873560071, 0.013591757044196129, 0.010042531415820122, 0.022056590765714645, 0.037575896829366684, 0.0, 0.0, 0.0, 0.0, 0.0], [0.7034912705421448, 0.0021147297229617834, 0.013963467441499233, 0.02291414700448513, 0.036537475883960724, 0.016828740015625954, 0.05849387124180794, 0.11937074363231659, 0.02628546766936779, 0.0, 0.0, 0.0, 0.0], [0.8835994601249695, 0.0005790165159851313, 0.00028571425355039537, 0.004327794071286917, 0.00531114311888814, 0.010752116329967976, 0.021038837730884552, 0.04161402955651283, 0.018826495856046677, 0.013665429316461086, 0.0, 0.0, 0.0], [0.9044084548950195, 0.0005036388174630702, 0.0010813275584951043, 0.0016836501890793443, 0.01005895808339119, 0.002557723317295313, 0.006593278609216213, 0.049425844103097916, 0.00995537918061018, 0.009141970425844193, 0.0045897769741714, 0.0, 0.0], [0.8972706198692322, 0.0005750427953898907, 0.0027199338655918837, 0.000654754345305264, 0.002445800695568323, 0.0011647138744592667, 0.0026500688400119543, 0.04035041108727455, 0.014551046304404736, 0.011765554547309875, 0.003181065432727337, 0.022670965641736984, 0.0], [0.6423829793930054, 0.017545044422149658, 0.029640311375260353, 0.005774297285825014, 0.008267217315733433, 0.0018437562976032495, 0.009132680483162403, 0.04317912831902504, 0.02445928193628788, 0.025885146111249924, 0.003187887603417039, 0.013885234482586384, 0.17481708526611328]], [[1.0, 0.0, 0.0, 0.0, 0.0, 0.0, 0.0, 0.0, 0.0, 0.0, 0.0, 0.0, 0.0], [0.9062650799751282, 0.09373492002487183, 0.0, 0.0, 0.0, 0.0, 0.0, 0.0, 0.0, 0.0, 0.0, 0.0, 0.0], [0.8317887783050537, 0.13253316283226013, 0.03567804396152496, 0.0, 0.0, 0.0, 0.0, 0.0, 0.0, 0.0, 0.0, 0.0, 0.0], [0.6648223996162415, 0.05283527821302414, 0.2645045518875122, 0.0178377628326416, 0.0, 0.0, 0.0, 0.0, 0.0, 0.0, 0.0, 0.0, 0.0], [0.8501617312431335, 0.008695992641150951, 0.01463739201426506, 0.06039995327591896, 0.06610491871833801, 0.0, 0.0, 0.0, 0.0, 0.0, 0.0, 0.0, 0.0], [0.13638834655284882, 0.0017889266600832343, 0.0028990423306822777, 0.0024180884938687086, 0.7817713022232056, 0.07473431527614594, 0.0, 0.0, 0.0, 0.0, 0.0, 0.0, 0.0], [0.29191580414772034, 0.005195540841668844, 0.012572762556374073, 0.007637977600097656, 0.3443402647972107, 0.30914226174354553, 0.029195372015237808, 0.0, 0.0, 0.0, 0.0, 0.0, 0.0], [0.9468523263931274, 0.011014428921043873, 0.0035732141695916653, 0.0013661464909091592, 0.001132332836277783, 0.0053857844322919846, 0.021491436287760735, 0.0091843381524086, 0.0, 0.0, 0.0, 0.0, 0.0], [0.8271299600601196, 0.0034481268376111984, 0.00404938030987978, 0.0019978994969278574, 0.013505726121366024, 0.007934758439660072, 0.02826029062271118, 0.09345322847366333, 0.02022060751914978, 0.0, 0.0, 0.0, 0.0], [0.5374895334243774, 0.00653030164539814, 0.003077601082623005, 0.0005387162091210485, 0.006796902045607567, 0.014044245705008507, 0.030868694186210632, 0.0700187012553215, 0.29820939898490906, 0.03242599591612816, 0.0, 0.0, 0.0], [0.4694666266441345, 0.004565890412777662, 0.013698987662792206, 0.0021382730919867754, 0.0072267064824700356, 0.00901019386947155, 0.04171937331557274, 0.04892192408442497, 0.17905443906784058, 0.2049202024936676, 0.019277401268482208, 0.0, 0.0], [0.5509728789329529, 0.0018367101438343525, 0.005097478628158569, 0.0024687061086297035, 0.0055989655666053295, 0.012857195921242237, 0.005256349686533213, 0.013827072456479073, 0.07059376686811447, 0.06232162564992905, 0.25669968128204346, 0.012469603680074215, 0.0], [0.9580190181732178, 0.0030330438166856766, 0.0013633794151246548, 0.0002946170570794493, 0.00020900863455608487, 0.0007781240274198353, 0.0024443790316581726, 0.0019021336920559406, 0.007042454089969397, 0.00491366209462285, 0.005263639613986015, 0.007077276241034269, 0.007659219205379486]], [[1.0, 0.0, 0.0, 0.0, 0.0, 0.0, 0.0, 0.0, 0.0, 0.0, 0.0, 0.0, 0.0], [0.9225262999534607, 0.07747373729944229, 0.0, 0.0, 0.0, 0.0, 0.0, 0.0, 0.0, 0.0, 0.0, 0.0, 0.0], [0.821069598197937, 0.09540662169456482, 0.08352376520633698, 0.0, 0.0, 0.0, 0.0, 0.0, 0.0, 0.0, 0.0, 0.0, 0.0], [0.796087920665741, 0.06024547293782234, 0.13235050439834595, 0.011316065676510334, 0.0, 0.0, 0.0, 0.0, 0.0, 0.0, 0.0, 0.0, 0.0], [0.565424382686615, 0.08815629035234451, 0.2994544208049774, 0.017755990847945213, 0.029208892956376076, 0.0, 0.0, 0.0, 0.0, 0.0, 0.0, 0.0, 0.0], [0.8109270334243774, 0.04506468400359154, 0.06448337435722351, 0.010688241571187973, 0.030937504023313522, 0.03789912536740303, 0.0, 0.0, 0.0, 0.0, 0.0, 0.0, 0.0], [0.8383238315582275, 0.013605735264718533, 0.013287510722875595, 0.014722542837262154, 0.031311117112636566, 0.025058867409825325, 0.0636904314160347, 0.0, 0.0, 0.0, 0.0, 0.0, 0.0], [0.49226388335227966, 0.03293849527835846, 0.02617798000574112, 0.014734086580574512, 0.08104626834392548, 0.02304014377295971, 0.27047550678253174, 0.05932355299592018, 0.0, 0.0, 0.0, 0.0, 0.0], [0.3023325204849243, 0.013357809744775295, 0.015053042210638523, 0.007799031678587198, 0.09020271897315979, 0.06519271433353424, 0.240982785820961, 0.20495307445526123, 0.06012631952762604, 0.0, 0.0, 0.0, 0.0], [0.3794989585876465, 0.010715425945818424, 0.014041869901120663, 0.009781578555703163, 0.0782950147986412, 0.0684313178062439, 0.1334889680147171, 0.1567375808954239, 0.09494910389184952, 0.054060198366642, 0.0, 0.0, 0.0], [0.3777739405632019, 0.01290400791913271, 0.010738128796219826, 0.0055427029728889465, 0.03555021807551384, 0.029404396191239357, 0.1940864771604538, 0.0891219824552536, 0.09754347801208496, 0.11395962536334991, 0.03337507322430611, 0.0, 0.0], [0.5344969034194946, 0.015410247258841991, 0.01676577888429165, 0.0077475798316299915, 0.029055718332529068, 0.012866764329373837, 0.14675959944725037, 0.0883844792842865, 0.04942236840724945, 0.029676662757992744, 0.03101262077689171, 0.0384012870490551, 0.0], [0.5813103914260864, 0.023337101563811302, 0.013363448902964592, 0.010917134582996368, 0.020981937646865845, 0.00520484009757638, 0.1689048558473587, 0.03445568308234215, 0.020779117941856384, 0.013546651229262352, 0.00979145709425211, 0.03026421181857586, 0.0671432763338089]], [[1.0, 0.0, 0.0, 0.0, 0.0, 0.0, 0.0, 0.0, 0.0, 0.0, 0.0, 0.0, 0.0], [0.968464732170105, 0.031535226851701736, 0.0, 0.0, 0.0, 0.0, 0.0, 0.0, 0.0, 0.0, 0.0, 0.0, 0.0], [0.9421701431274414, 0.023577164858579636, 0.034252773970365524, 0.0, 0.0, 0.0, 0.0, 0.0, 0.0, 0.0, 0.0, 0.0, 0.0], [0.9314526915550232, 0.01658894307911396, 0.031620483845472336, 0.02033792808651924, 0.0, 0.0, 0.0, 0.0, 0.0, 0.0, 0.0, 0.0, 0.0], [0.9084875583648682, 0.013341311365365982, 0.03556007519364357, 0.015092132613062859, 0.027518950402736664, 0.0, 0.0, 0.0, 0.0, 0.0, 0.0, 0.0, 0.0], [0.8783760666847229, 0.007597420830279589, 0.02991434559226036, 0.010193130932748318, 0.025319259613752365, 0.04859984666109085, 0.0, 0.0, 0.0, 0.0, 0.0, 0.0, 0.0], [0.8867046236991882, 0.0048370361328125, 0.007169492542743683, 0.005413933657109737, 0.00965953804552555, 0.011444634757936, 0.07477078586816788, 0.0, 0.0, 0.0, 0.0, 0.0, 0.0], [0.8235635757446289, 0.0076984683983027935, 0.017273901030421257, 0.006727292668074369, 0.010102806612849236, 0.02392938733100891, 0.05923452600836754, 0.05147004872560501, 0.0, 0.0, 0.0, 0.0, 0.0], [0.7764416933059692, 0.0018691365839913487, 0.010539775714278221, 0.0029553992208093405, 0.0032858254853636026, 0.010401546955108643, 0.1303430050611496, 0.0389060415327549, 0.025257494300603867, 0.0, 0.0, 0.0, 0.0], [0.7360572814941406, 0.0022446592338383198, 0.011611112393438816, 0.006126388907432556, 0.006817434448748827, 0.016841288655996323, 0.102139413356781, 0.03781333565711975, 0.0439021959900856, 0.03644692897796631, 0.0, 0.0, 0.0], [0.8384160399436951, 0.002596536185592413, 0.009160812012851238, 0.005216364283114672, 0.004945400170981884, 0.015183612704277039, 0.04214926064014435, 0.0349544957280159, 0.01682567596435547, 0.01871540956199169, 0.011836433783173561, 0.0, 0.0], [0.8410796523094177, 0.0030654852744191885, 0.011278489604592323, 0.004678478930145502, 0.0027661158237606287, 0.009700104594230652, 0.029738450422883034, 0.017865946516394615, 0.026167040690779686, 0.016884732991456985, 0.005561824422329664, 0.031213710084557533, 0.0], [0.6396452188491821, 0.01021659467369318, 0.024091113358736038, 0.005003329366445541, 0.002753231907263398, 0.005547812674194574, 0.03449993580579758, 0.04178868979215622, 0.03167642280459404, 0.023091565817594528, 0.016725916415452957, 0.03393770381808281, 0.1310224086046219]], [[1.0, 0.0, 0.0, 0.0, 0.0, 0.0, 0.0, 0.0, 0.0, 0.0, 0.0, 0.0, 0.0], [0.9188495874404907, 0.08115042746067047, 0.0, 0.0, 0.0, 0.0, 0.0, 0.0, 0.0, 0.0, 0.0, 0.0, 0.0], [0.8618863821029663, 0.07931797206401825, 0.05879567191004753, 0.0, 0.0, 0.0, 0.0, 0.0, 0.0, 0.0, 0.0, 0.0, 0.0], [0.9359116554260254, 0.030880196020007133, 0.01597917452454567, 0.017228946089744568, 0.0, 0.0, 0.0, 0.0, 0.0, 0.0, 0.0, 0.0, 0.0], [0.838512659072876, 0.02409081719815731, 0.02771827206015587, 0.020240629091858864, 0.08943765610456467, 0.0, 0.0, 0.0, 0.0, 0.0, 0.0, 0.0, 0.0], [0.8385234475135803, 0.026419730857014656, 0.02055489830672741, 0.006003401707857847, 0.06724478304386139, 0.04125375300645828, 0.0, 0.0, 0.0, 0.0, 0.0, 0.0, 0.0], [0.8231146335601807, 0.014483688399195671, 0.021541496738791466, 0.005686023738235235, 0.050412144511938095, 0.02400810457766056, 0.060754019767045975, 0.0, 0.0, 0.0, 0.0, 0.0, 0.0], [0.6058861017227173, 0.08867981284856796, 0.05720711499452591, 0.025479629635810852, 0.03177160024642944, 0.037995580583810806, 0.052753571420907974, 0.10022667795419693, 0.0, 0.0, 0.0, 0.0, 0.0], [0.7663988471031189, 0.006267569959163666, 0.013545951806008816, 0.008214578032493591, 0.02283678762614727, 0.015558632090687752, 0.04664317145943642, 0.07135436683893204, 0.049180082976818085, 0.0, 0.0, 0.0, 0.0], [0.7271854281425476, 0.00629911944270134, 0.006062687374651432, 0.013864219188690186, 0.04337729513645172, 0.015681015327572823, 0.037293046712875366, 0.05736752599477768, 0.033111464232206345, 0.05975819751620293, 0.0, 0.0, 0.0], [0.7585496306419373, 0.008678482845425606, 0.006058395374566317, 0.0068786898627877235, 0.0238255113363266, 0.008645040914416313, 0.014790241606533527, 0.05328841507434845, 0.021446730941534042, 0.02968924306333065, 0.0681496411561966, 0.0, 0.0], [0.6626562476158142, 0.010457322932779789, 0.010332243517041206, 0.0020228817593306303, 0.0072114006616175175, 0.008941990323364735, 0.03527083992958069, 0.07062830775976181, 0.052263494580984116, 0.06002701818943024, 0.03298449143767357, 0.04720371589064598, 0.0], [0.5493430495262146, 0.05262509360909462, 0.023405585438013077, 0.006813863292336464, 0.005803881678730249, 0.00821713637560606, 0.02294255420565605, 0.043347034603357315, 0.04427719861268997, 0.035598497837781906, 0.01970496028661728, 0.037201616913080215, 0.150719553232193]], [[1.0, 0.0, 0.0, 0.0, 0.0, 0.0, 0.0, 0.0, 0.0, 0.0, 0.0, 0.0, 0.0], [0.985733151435852, 0.014266829937696457, 0.0, 0.0, 0.0, 0.0, 0.0, 0.0, 0.0, 0.0, 0.0, 0.0, 0.0], [0.9742112755775452, 0.015915069729089737, 0.00987373385578394, 0.0, 0.0, 0.0, 0.0, 0.0, 0.0, 0.0, 0.0, 0.0, 0.0], [0.9915345311164856, 0.0014117315877228975, 0.0047711534425616264, 0.002282659290358424, 0.0, 0.0, 0.0, 0.0, 0.0, 0.0, 0.0, 0.0, 0.0], [0.9828544855117798, 0.0042889113537967205, 0.008014452643692493, 0.003203786676749587, 0.0016383625334128737, 0.0, 0.0, 0.0, 0.0, 0.0, 0.0, 0.0, 0.0], [0.9709398746490479, 0.008902132511138916, 0.006656842306256294, 0.004451883491128683, 0.0034463321790099144, 0.005602889694273472, 0.0, 0.0, 0.0, 0.0, 0.0, 0.0, 0.0], [0.945006787776947, 0.005378589034080505, 0.008780929259955883, 0.005364721175283194, 0.006233105435967445, 0.00466202711686492, 0.02457379177212715, 0.0, 0.0, 0.0, 0.0, 0.0, 0.0], [0.7919912338256836, 0.03364311903715134, 0.03340202197432518, 0.01408697385340929, 0.0022568614222109318, 0.008464845828711987, 0.0721544399857521, 0.04400051757693291, 0.0, 0.0, 0.0, 0.0, 0.0], [0.8805727362632751, 0.004400674253702164, 0.012042189948260784, 0.0077157048508524895, 0.004135734401643276, 0.004084079992026091, 0.042194902896881104, 0.0343218594789505, 0.010532237589359283, 0.0, 0.0, 0.0, 0.0], [0.8395534157752991, 0.017168842256069183, 0.014002781361341476, 0.018299149349331856, 0.0070227631367743015, 0.005623101256787777, 0.048978470265865326, 0.029103422537446022, 0.009939686395227909, 0.010308263823390007, 0.0, 0.0, 0.0], [0.8194762468338013, 0.024529794231057167, 0.025435935705900192, 0.028202366083860397, 0.008306467905640602, 0.0050353845581412315, 0.03217187896370888, 0.022237248718738556, 0.00844360701739788, 0.012893548235297203, 0.01326755341142416, 0.0, 0.0], [0.8529371023178101, 0.02296726405620575, 0.020572032779455185, 0.007174659054726362, 0.0033865233417600393, 0.0021573794074356556, 0.04327510669827461, 0.02349063567817211, 0.009093214757740498, 0.007841267623007298, 0.0029337697196751833, 0.004171205218881369, 0.0], [0.828140914440155, 0.02824857085943222, 0.02478284202516079, 0.004318607039749622, 0.000767888908740133, 0.002328809816390276, 0.044308338314294815, 0.016518719494342804, 0.008021428249776363, 0.008751754648983479, 0.00434128986671567, 0.0052181994542479515, 0.024252653121948242]]], [[[1.0, 0.0, 0.0, 0.0, 0.0, 0.0, 0.0, 0.0, 0.0, 0.0, 0.0, 0.0, 0.0], [0.9678808450698853, 0.03211912885308266, 0.0, 0.0, 0.0, 0.0, 0.0, 0.0, 0.0, 0.0, 0.0, 0.0, 0.0], [0.8243783116340637, 0.1447008103132248, 0.030920885503292084, 0.0, 0.0, 0.0, 0.0, 0.0, 0.0, 0.0, 0.0, 0.0, 0.0], [0.9790465831756592, 0.008483432233333588, 0.0071330745704472065, 0.005336971953511238, 0.0, 0.0, 0.0, 0.0, 0.0, 0.0, 0.0, 0.0, 0.0], [0.9788843393325806, 0.008104829117655754, 0.0037579494528472424, 0.004503919743001461, 0.004749075043946505, 0.0, 0.0, 0.0, 0.0, 0.0, 0.0, 0.0, 0.0], [0.9242315292358398, 0.03108346089720726, 0.0066627562046051025, 0.00621104147285223, 0.01594405807554722, 0.015867190435528755, 0.0, 0.0, 0.0, 0.0, 0.0, 0.0, 0.0], [0.9455938339233398, 0.004650052171200514, 0.001489070593379438, 0.0009217725018970668, 0.0014179768040776253, 0.001877608709037304, 0.04404963180422783, 0.0, 0.0, 0.0, 0.0, 0.0, 0.0], [0.690853476524353, 0.012514184229075909, 0.0033828727900981903, 0.00312252645380795, 0.002223751973360777, 0.006000807508826256, 0.26915085315704346, 0.012751545757055283, 0.0, 0.0, 0.0, 0.0, 0.0], [0.31818002462387085, 0.002887322334572673, 0.0027155550196766853, 0.0032554510980844498, 0.00624238234013319, 0.018090108409523964, 0.5988402366638184, 0.017718741670250893, 0.03207016363739967, 0.0, 0.0, 0.0, 0.0], [0.3306279480457306, 0.006106601096689701, 0.0023731484543532133, 0.0022507989779114723, 0.002736912574619055, 0.017776187509298325, 0.5325073599815369, 0.01345742680132389, 0.06246405839920044, 0.029699571430683136, 0.0, 0.0, 0.0], [0.1411595642566681, 0.010215304791927338, 0.005479214712977409, 0.004155061207711697, 0.003864930709823966, 0.02601112239062786, 0.6454566717147827, 0.023490730673074722, 0.09581512957811356, 0.04102800786495209, 0.003324324730783701, 0.0, 0.0], [0.5317900776863098, 0.014799407683312893, 0.003370541613548994, 0.0015049863141030073, 0.0013189007295295596, 0.002445771126076579, 0.3171386420726776, 0.0287059023976326, 0.03519750386476517, 0.01394791528582573, 0.0027047262992709875, 0.04707568883895874, 0.0], [0.5266793966293335, 0.007826934568583965, 0.003431257326155901, 0.0010726588079705834, 0.0006024086615070701, 0.0025849349331110716, 0.24465523660182953, 0.026461390778422356, 0.03359232097864151, 0.011610726825892925, 0.006836484652012587, 0.04593272879719734, 0.08871352672576904]], [[1.0, 0.0, 0.0, 0.0, 0.0, 0.0, 0.0, 0.0, 0.0, 0.0, 0.0, 0.0, 0.0], [0.9716541767120361, 0.028345907106995583, 0.0, 0.0, 0.0, 0.0, 0.0, 0.0, 0.0, 0.0, 0.0, 0.0, 0.0], [0.9658560156822205, 0.016541212797164917, 0.017602810636162758, 0.0, 0.0, 0.0, 0.0, 0.0, 0.0, 0.0, 0.0, 0.0, 0.0], [0.9961369633674622, 0.0005860609235242009, 0.000940261292271316, 0.0023366494569927454, 0.0, 0.0, 0.0, 0.0, 0.0, 0.0, 0.0, 0.0, 0.0], [0.9717803597450256, 0.0006381474668160081, 0.0017731288680806756, 0.0039506470784544945, 0.021857790648937225, 0.0, 0.0, 0.0, 0.0, 0.0, 0.0, 0.0, 0.0], [0.9726325869560242, 0.006556681822985411, 0.0027192323468625546, 0.0031824761535972357, 0.008725837804377079, 0.006183292251080275, 0.0, 0.0, 0.0, 0.0, 0.0, 0.0, 0.0], [0.9765830039978027, 0.002371822716668248, 0.003698620479553938, 0.004255553707480431, 0.006456358358263969, 0.004693934693932533, 0.0019406682113185525, 0.0, 0.0, 0.0, 0.0, 0.0, 0.0], [0.9039829969406128, 0.004248928744345903, 0.005844612140208483, 0.0069387066178023815, 0.013250194489955902, 0.04793117567896843, 0.005466938484460115, 0.012336383573710918, 0.0, 0.0, 0.0, 0.0, 0.0], [0.9370083808898926, 0.003908414393663406, 0.017141519114375114, 0.004388485569506884, 0.008508319966495037, 0.005837516393512487, 0.0023281045723706484, 0.013785187155008316, 0.007094097789376974, 0.0, 0.0, 0.0, 0.0], [0.9619117379188538, 0.0014638244174420834, 0.0009578933240845799, 0.007268941029906273, 0.005583642981946468, 0.003288903273642063, 0.001079260720871389, 0.009415126405656338, 0.003940538503229618, 0.005090036429464817, 0.0, 0.0, 0.0], [0.9711034297943115, 0.0015513148391619325, 0.0004366392968222499, 0.0017462574178352952, 0.002974197268486023, 0.0011452765902504325, 0.0012384483125060797, 0.001851493725553155, 0.0010534508619457483, 0.002489222213625908, 0.01441026572138071, 0.0, 0.0], [0.9376749396324158, 0.0009981178445741534, 0.0006544571369886398, 0.0015532433753833175, 0.005894277710467577, 0.0044097984209656715, 0.0008542566210962832, 0.0069033075124025345, 0.003802611492574215, 0.0029515493661165237, 0.027429472655057907, 0.006874030455946922, 0.0], [0.9282005429267883, 0.0017610059585422277, 0.0019225535215809941, 0.0013241451233625412, 0.0021482915617525578, 0.008924029767513275, 0.001419358653947711, 0.006682832725346088, 0.010919943451881409, 0.004147028550505638, 0.009963923133909702, 0.004381820559501648, 0.01820461079478264]], [[1.0, 0.0, 0.0, 0.0, 0.0, 0.0, 0.0, 0.0, 0.0, 0.0, 0.0, 0.0, 0.0], [0.9655888080596924, 0.034411173313856125, 0.0, 0.0, 0.0, 0.0, 0.0, 0.0, 0.0, 0.0, 0.0, 0.0, 0.0], [0.928037166595459, 0.04144207760691643, 0.03052070178091526, 0.0, 0.0, 0.0, 0.0, 0.0, 0.0, 0.0, 0.0, 0.0, 0.0], [0.989213764667511, 0.005459954496473074, 0.004350473638623953, 0.0009758395026437938, 0.0, 0.0, 0.0, 0.0, 0.0, 0.0, 0.0, 0.0, 0.0], [0.9474936127662659, 0.020527366548776627, 0.023018408566713333, 0.002475125016644597, 0.006485501769930124, 0.0, 0.0, 0.0, 0.0, 0.0, 0.0, 0.0, 0.0], [0.8994773626327515, 0.017052477225661278, 0.025343157351017, 0.0054512061178684235, 0.01820768229663372, 0.03446811065077782, 0.0, 0.0, 0.0, 0.0, 0.0, 0.0, 0.0], [0.9583746194839478, 0.002018987899646163, 0.0032463872339576483, 0.0027167077641934156, 0.004366548731923103, 0.005556371994316578, 0.02372043952345848, 0.0, 0.0, 0.0, 0.0, 0.0, 0.0], [0.7236324548721313, 0.022751951590180397, 0.013548276387155056, 0.0032622329890727997, 0.002948847832158208, 0.01752098836004734, 0.17675289511680603, 0.039582353085279465, 0.0, 0.0, 0.0, 0.0, 0.0], [0.6057563424110413, 0.0032172563951462507, 0.004005899652838707, 0.0015723311807960272, 0.007984362542629242, 0.02460150234401226, 0.229568213224411, 0.07574951648712158, 0.04754462465643883, 0.0, 0.0, 0.0, 0.0], [0.43467745184898376, 0.0058837211690843105, 0.0025025042705237865, 0.001276291674003005, 0.0039176843129098415, 0.01464088074862957, 0.3777056336402893, 0.07295401394367218, 0.06363151222467422, 0.022810285910964012, 0.0, 0.0, 0.0], [0.16818101704120636, 0.011747696436941624, 0.0037496613804250956, 0.002459118375554681, 0.0058576143346726894, 0.012424019165337086, 0.5634913444519043, 0.06855709105730057, 0.10742703825235367, 0.030996384099125862, 0.025109009817242622, 0.0, 0.0], [0.7843483686447144, 0.007819687016308308, 0.004097979050129652, 0.0011555663077160716, 0.002904418855905533, 0.002810184145346284, 0.1304311454296112, 0.016641890630126, 0.020285213366150856, 0.007016511633992195, 0.0032236562110483646, 0.019265465438365936, 0.0], [0.7494779825210571, 0.010141247883439064, 0.004057352431118488, 0.0011332313297316432, 0.0007561075035482645, 0.005165832582861185, 0.08596358448266983, 0.019543619826436043, 0.026627950370311737, 0.008891609497368336, 0.005316447000950575, 0.04952544718980789, 0.03339957818388939]], [[1.0, 0.0, 0.0, 0.0, 0.0, 0.0, 0.0, 0.0, 0.0, 0.0, 0.0, 0.0, 0.0], [0.8692771792411804, 0.13072289526462555, 0.0, 0.0, 0.0, 0.0, 0.0, 0.0, 0.0, 0.0, 0.0, 0.0, 0.0], [0.5923590660095215, 0.3606174886226654, 0.04702344909310341, 0.0, 0.0, 0.0, 0.0, 0.0, 0.0, 0.0, 0.0, 0.0, 0.0], [0.8031131625175476, 0.05073145031929016, 0.1320318579673767, 0.014123479835689068, 0.0, 0.0, 0.0, 0.0, 0.0, 0.0, 0.0, 0.0, 0.0], [0.4618515074253082, 0.14530329406261444, 0.1582326889038086, 0.12318719178438187, 0.11142531782388687, 0.0, 0.0, 0.0, 0.0, 0.0, 0.0, 0.0, 0.0], [0.5970758199691772, 0.11138468235731125, 0.04104999825358391, 0.026312438771128654, 0.18380360305309296, 0.04037344083189964, 0.0, 0.0, 0.0, 0.0, 0.0, 0.0, 0.0], [0.5376363396644592, 0.027894459664821625, 0.02286791428923607, 0.019835567101836205, 0.1859428584575653, 0.17044180631637573, 0.035381019115448, 0.0, 0.0, 0.0, 0.0, 0.0, 0.0], [0.5976033806800842, 0.04797114059329033, 0.026660267263650894, 0.02630988135933876, 0.010438451543450356, 0.03027380257844925, 0.126164510846138, 0.13457852602005005, 0.0, 0.0, 0.0, 0.0, 0.0], [0.3797267973423004, 0.041863664984703064, 0.016221920028328896, 0.016971560195088387, 0.023779895156621933, 0.015492337755858898, 0.13366718590259552, 0.3098415434360504, 0.06243499368429184, 0.0, 0.0, 0.0, 0.0], [0.39641210436820984, 0.03305307775735855, 0.007091018371284008, 0.020624998956918716, 0.0177509356290102, 0.018241260200738907, 0.0773526132106781, 0.1955798864364624, 0.19673100113868713, 0.03716311231255531, 0.0, 0.0, 0.0], [0.2705802619457245, 0.016192680224776268, 0.022068127989768982, 0.008809320628643036, 0.011353968642652035, 0.016668610274791718, 0.06443402171134949, 0.1199730932712555, 0.18920500576496124, 0.2325500100851059, 0.04816490784287453, 0.0, 0.0], [0.3000519275665283, 0.006870872341096401, 0.007812855765223503, 0.004706691950559616, 0.009226738475263119, 0.01676918938755989, 0.009125041775405407, 0.21342933177947998, 0.10125036537647247, 0.10013190656900406, 0.14450690150260925, 0.08611820638179779, 0.0], [0.7542008757591248, 0.009768348187208176, 0.004582229070365429, 0.003993968479335308, 0.0014505062717944384, 0.004402087070047855, 0.028276780620217323, 0.03618087247014046, 0.030492382124066353, 0.014949402771890163, 0.011740734800696373, 0.05101979896426201, 0.04894203692674637]], [[1.0, 0.0, 0.0, 0.0, 0.0, 0.0, 0.0, 0.0, 0.0, 0.0, 0.0, 0.0, 0.0], [0.943571925163269, 0.05642811954021454, 0.0, 0.0, 0.0, 0.0, 0.0, 0.0, 0.0, 0.0, 0.0, 0.0, 0.0], [0.9662497043609619, 0.024440789595246315, 0.009309460408985615, 0.0, 0.0, 0.0, 0.0, 0.0, 0.0, 0.0, 0.0, 0.0, 0.0], [0.9862810373306274, 0.003961711190640926, 0.0015310581075027585, 0.008226191624999046, 0.0, 0.0, 0.0, 0.0, 0.0, 0.0, 0.0, 0.0, 0.0], [0.9456591010093689, 0.00579672958701849, 0.01757856272161007, 0.011734706349670887, 0.019230909645557404, 0.0, 0.0, 0.0, 0.0, 0.0, 0.0, 0.0, 0.0], [0.9812532067298889, 0.0020938569214195013, 0.002916864585131407, 0.0015015813987702131, 0.005784410517662764, 0.006450130138546228, 0.0, 0.0, 0.0, 0.0, 0.0, 0.0, 0.0], [0.9698984622955322, 0.004327396862208843, 0.003370059421285987, 0.0031142611987888813, 0.007460563909262419, 0.00325318006798625, 0.008576102554798126, 0.0, 0.0, 0.0, 0.0, 0.0, 0.0], [0.7915710806846619, 0.05357756465673447, 0.028652500361204147, 0.011456972919404507, 0.01630733348429203, 0.006536903791129589, 0.03673587739467621, 0.0551617369055748, 0.0, 0.0, 0.0, 0.0, 0.0], [0.9380195736885071, 0.0033984610345214605, 0.00466366158798337, 0.0008143221493810415, 0.0030467500910162926, 0.001954153412953019, 0.016761906445026398, 0.02801668457686901, 0.003324375720694661, 0.0, 0.0, 0.0, 0.0], [0.9777891039848328, 0.0014342287322506309, 0.0004054620221722871, 0.0004511296865530312, 0.0011797660263255239, 0.0007147032301872969, 0.006381779443472624, 0.008651836775243282, 0.0014320985646918416, 0.0015599861508235335, 0.0, 0.0, 0.0], [0.9925264120101929, 0.0007143845432437956, 0.0003828032058663666, 0.0002482772688381374, 0.00044020728091709316, 0.00023357213649433106, 0.0012917390558868647, 0.0025366628542542458, 0.0007447778480127454, 0.000573361583519727, 0.00030761328525841236, 0.0, 0.0], [0.9441580176353455, 0.0018301521195098758, 0.0012041067238897085, 0.0010389169910922647, 0.0008018434164114296, 0.000652098620776087, 0.008281380869448185, 0.008132454939186573, 0.0026593662332743406, 0.0015289626317098737, 0.0016713652294129133, 0.028041299432516098, 0.0], [0.7294439077377319, 0.06549043208360672, 0.01039888709783554, 0.0034554617013782263, 0.0024051384534686804, 0.0013188326265662909, 0.011043312959372997, 0.05375484377145767, 0.0038653118535876274, 0.003145443042740226, 0.0022890493273735046, 0.00950008723884821, 0.1038893312215805]], [[1.0, 0.0, 0.0, 0.0, 0.0, 0.0, 0.0, 0.0, 0.0, 0.0, 0.0, 0.0, 0.0], [0.9335381984710693, 0.06646186858415604, 0.0, 0.0, 0.0, 0.0, 0.0, 0.0, 0.0, 0.0, 0.0, 0.0, 0.0], [0.8758270740509033, 0.09448212385177612, 0.029690749943256378, 0.0, 0.0, 0.0, 0.0, 0.0, 0.0, 0.0, 0.0, 0.0, 0.0], [0.9580013155937195, 0.009408727288246155, 0.011266261339187622, 0.021323805674910545, 0.0, 0.0, 0.0, 0.0, 0.0, 0.0, 0.0, 0.0, 0.0], [0.7643951177597046, 0.03832297399640083, 0.021693702787160873, 0.08145146071910858, 0.09413672983646393, 0.0, 0.0, 0.0, 0.0, 0.0, 0.0, 0.0, 0.0], [0.8785043358802795, 0.0213549192994833, 0.003803536994382739, 0.019002389162778854, 0.039680153131484985, 0.03765471652150154, 0.0, 0.0, 0.0, 0.0, 0.0, 0.0, 0.0], [0.884242057800293, 0.02259921282529831, 0.009016498923301697, 0.008592340163886547, 0.019455373287200928, 0.019867148250341415, 0.03622731566429138, 0.0, 0.0, 0.0, 0.0, 0.0, 0.0], [0.6443629264831543, 0.07084336131811142, 0.01777469553053379, 0.09196106344461441, 0.05144738033413887, 0.0240998025983572, 0.06655842810869217, 0.03295237198472023, 0.0, 0.0, 0.0, 0.0, 0.0], [0.7125168442726135, 0.041800446808338165, 0.013478739187121391, 0.02794869989156723, 0.0418182797729969, 0.01730685494840145, 0.0695955753326416, 0.02141963317990303, 0.054115019738674164, 0.0, 0.0, 0.0, 0.0], [0.7090048789978027, 0.025837484747171402, 0.010166224092245102, 0.020701047033071518, 0.031310904771089554, 0.01552932895720005, 0.09324947744607925, 0.02117137424647808, 0.04340222477912903, 0.02962714619934559, 0.0, 0.0, 0.0], [0.8088871836662292, 0.02861655317246914, 0.008087197318673134, 0.016967076808214188, 0.019407451152801514, 0.012155509553849697, 0.047723229974508286, 0.00606964249163866, 0.0227669570595026, 0.015520934946835041, 0.013798273168504238, 0.0, 0.0], [0.7648573517799377, 0.024382181465625763, 0.008747699670493603, 0.0038283532485365868, 0.00917492713779211, 0.00800526887178421, 0.02659178525209427, 0.03984355926513672, 0.02681039273738861, 0.011776695027947426, 0.007979795336723328, 0.0680021345615387, 0.0], [0.7881043553352356, 0.06975807994604111, 0.010619468986988068, 0.019097935408353806, 0.014190424233675003, 0.007254083175212145, 0.02227470465004444, 0.012282785028219223, 0.014083505608141422, 0.0051556797698140144, 0.003684427822008729, 0.01165017019957304, 0.021844377741217613]], [[1.0, 0.0, 0.0, 0.0, 0.0, 0.0, 0.0, 0.0, 0.0, 0.0, 0.0, 0.0, 0.0], [0.9944930076599121, 0.005507051479071379, 0.0, 0.0, 0.0, 0.0, 0.0, 0.0, 0.0, 0.0, 0.0, 0.0, 0.0], [0.9903406500816345, 0.005501504056155682, 0.0041579026728868484, 0.0, 0.0, 0.0, 0.0, 0.0, 0.0, 0.0, 0.0, 0.0, 0.0], [0.9961152076721191, 0.0019513992592692375, 0.0006478936993516982, 0.0012855023378506303, 0.0, 0.0, 0.0, 0.0, 0.0, 0.0, 0.0, 0.0, 0.0], [0.9965502023696899, 0.0013388413935899734, 0.0009215619647875428, 0.0003470018273219466, 0.0008424489060416818, 0.0, 0.0, 0.0, 0.0, 0.0, 0.0, 0.0, 0.0], [0.9914473295211792, 0.00556058157235384, 0.0005696066655218601, 0.00020316691370680928, 0.0008260236354544759, 0.0013932989677414298, 0.0, 0.0, 0.0, 0.0, 0.0, 0.0, 0.0], [0.985818088054657, 0.0016870151739567518, 0.0006543020717799664, 0.00017818149353843182, 0.000465160992462188, 0.00038302148459479213, 0.01081421971321106, 0.0, 0.0, 0.0, 0.0, 0.0, 0.0], [0.9339678883552551, 0.011630624532699585, 0.0016597831854596734, 0.0018001764547079802, 0.0006632810109294951, 0.0025939480401575565, 0.044056374579668045, 0.0036280578933656216, 0.0, 0.0, 0.0, 0.0, 0.0], [0.9777063727378845, 0.0008211293607018888, 0.000668114167638123, 0.00036089110653847456, 0.0004918844788335264, 0.0005551584763452411, 0.011457267217338085, 0.0039031310006976128, 0.0040362318977713585, 0.0, 0.0, 0.0, 0.0], [0.9709285497665405, 0.0012497358256950974, 0.000350665592122823, 0.002123128157109022, 0.0003195542376488447, 0.0008983140578493476, 0.01249350979924202, 0.0029843864031136036, 0.004395680036395788, 0.0042564161121845245, 0.0, 0.0, 0.0], [0.9758355021476746, 0.0017915935022756457, 0.0003033331304322928, 0.0015062657184898853, 0.0003523091145325452, 0.0006926119676791131, 0.005225509870797396, 0.0027567693032324314, 0.00179069594014436, 0.001836366718634963, 0.00790894590318203, 0.0, 0.0], [0.9588673710823059, 0.0024882927536964417, 0.000253174890531227, 0.00024502002634108067, 0.0005626333877444267, 0.00043688120786100626, 0.01272119116038084, 0.007126413751393557, 0.0020577427931129932, 0.001454561366699636, 0.0006285149720497429, 0.013158204965293407, 0.0], [0.9584578275680542, 0.004629365634173155, 0.000768789614085108, 0.0003874286776408553, 0.00031795792165212333, 0.0008850233862176538, 0.011970757506787777, 0.003032646607607603, 0.004514873959124088, 0.0013131153536960483, 0.001135564874857664, 0.004473825916647911, 0.008112750016152859]], [[1.0, 0.0, 0.0, 0.0, 0.0, 0.0, 0.0, 0.0, 0.0, 0.0, 0.0, 0.0, 0.0], [0.9396216869354248, 0.060378316789865494, 0.0, 0.0, 0.0, 0.0, 0.0, 0.0, 0.0, 0.0, 0.0, 0.0, 0.0], [0.8751205205917358, 0.05884600430727005, 0.06603337824344635, 0.0, 0.0, 0.0, 0.0, 0.0, 0.0, 0.0, 0.0, 0.0, 0.0], [0.9651923179626465, 0.00827456172555685, 0.01490638218820095, 0.011626807041466236, 0.0, 0.0, 0.0, 0.0, 0.0, 0.0, 0.0, 0.0, 0.0], [0.8146461248397827, 0.04661531001329422, 0.09156090021133423, 0.031541258096694946, 0.015636445954442024, 0.0, 0.0, 0.0, 0.0, 0.0, 0.0, 0.0, 0.0], [0.8848392367362976, 0.018122758716344833, 0.013731790706515312, 0.018884774297475815, 0.03293491154909134, 0.031486496329307556, 0.0, 0.0, 0.0, 0.0, 0.0, 0.0, 0.0], [0.8806023001670837, 0.025073006749153137, 0.021879134699702263, 0.020779240876436234, 0.017516212537884712, 0.010635537095367908, 0.023514553904533386, 0.0, 0.0, 0.0, 0.0, 0.0, 0.0], [0.42525455355644226, 0.092560313642025, 0.07751711457967758, 0.03066386841237545, 0.06057127192616463, 0.04883049800992012, 0.2177610844373703, 0.046841301023960114, 0.0, 0.0, 0.0, 0.0, 0.0], [0.6731550097465515, 0.03580065071582794, 0.07761659473180771, 0.011176927015185356, 0.04005398973822594, 0.023091711103916168, 0.06500457227230072, 0.06436781585216522, 0.009732725098729134, 0.0, 0.0, 0.0, 0.0], [0.8274034261703491, 0.022989269345998764, 0.018687952309846878, 0.00721074128523469, 0.014613294042646885, 0.0109687065705657, 0.04812498390674591, 0.03223470225930214, 0.005268859211355448, 0.012498143129050732, 0.0, 0.0, 0.0], [0.8698543310165405, 0.012739735655486584, 0.009783183224499226, 0.0073987022042274475, 0.009658487513661385, 0.008174767717719078, 0.03388526290655136, 0.023124990984797478, 0.00491519458591938, 0.008366663008928299, 0.012098684906959534, 0.0, 0.0], [0.7384818196296692, 0.012770229950547218, 0.013204493559896946, 0.006665464024990797, 0.023972375318408012, 0.013912959024310112, 0.034932367503643036, 0.03019503690302372, 0.008378899656236172, 0.026711860671639442, 0.02596735954284668, 0.06480715423822403, 0.0], [0.4131753444671631, 0.09250495582818985, 0.07147110253572464, 0.014536719769239426, 0.027505410835146904, 0.01908976584672928, 0.09890642762184143, 0.05969977378845215, 0.02285212092101574, 0.03835015371441841, 0.0306760985404253, 0.021814268082380295, 0.0894179493188858]], [[1.0, 0.0, 0.0, 0.0, 0.0, 0.0, 0.0, 0.0, 0.0, 0.0, 0.0, 0.0, 0.0], [0.9784320592880249, 0.021567875519394875, 0.0, 0.0, 0.0, 0.0, 0.0, 0.0, 0.0, 0.0, 0.0, 0.0, 0.0], [0.9577757716178894, 0.03074631839990616, 0.011477939784526825, 0.0, 0.0, 0.0, 0.0, 0.0, 0.0, 0.0, 0.0, 0.0, 0.0], [0.9887357354164124, 0.00544463936239481, 0.003911888692528009, 0.001907735364511609, 0.0, 0.0, 0.0, 0.0, 0.0, 0.0, 0.0, 0.0, 0.0], [0.9648343920707703, 0.015814930200576782, 0.012983364053070545, 0.004142624791711569, 0.0022246737498790026, 0.0, 0.0, 0.0, 0.0, 0.0, 0.0, 0.0, 0.0], [0.9385393857955933, 0.027969710528850555, 0.014895733445882797, 0.004251380916684866, 0.00812059547752142, 0.006223216652870178, 0.0, 0.0, 0.0, 0.0, 0.0, 0.0, 0.0], [0.9750437140464783, 0.004821842536330223, 0.003456458915024996, 0.0016808510990813375, 0.002553810365498066, 0.0012238041963428259, 0.011219602078199387, 0.0, 0.0, 0.0, 0.0, 0.0, 0.0], [0.9128875732421875, 0.025193892419338226, 0.009575828909873962, 0.0062164319679141045, 0.0010266787139698863, 0.0035739524755626917, 0.02889217995107174, 0.012633483856916428, 0.0, 0.0, 0.0, 0.0, 0.0], [0.9229670166969299, 0.012603875249624252, 0.007950617000460625, 0.00827059056609869, 0.0025859647430479527, 0.0015903895255178213, 0.016369469463825226, 0.01990429311990738, 0.007757809478789568, 0.0, 0.0, 0.0, 0.0], [0.9017344117164612, 0.018154986202716827, 0.00364514347165823, 0.014493103139102459, 0.0019505780655890703, 0.0025865097995847464, 0.029946839436888695, 0.014583437703549862, 0.008775496855378151, 0.00412948802113533, 0.0, 0.0, 0.0], [0.8890165090560913, 0.020795326679944992, 0.007625565864145756, 0.012317747808992863, 0.0022727695759385824, 0.0026155312079936266, 0.038962069898843765, 0.012413202784955502, 0.0075345151126384735, 0.005023661535233259, 0.00142320164013654, 0.0, 0.0], [0.9532148241996765, 0.007513272110372782, 0.002605970250442624, 0.0025154093746095896, 0.002909176517277956, 0.0014170346548780799, 0.012477894313633442, 0.0031381703447550535, 0.0018756778445094824, 0.0031184933613985777, 0.001830667955800891, 0.007383222691714764, 0.0], [0.8729282021522522, 0.029884105548262596, 0.014561746269464493, 0.0051370467990636826, 0.0015339700039476156, 0.004524318501353264, 0.014122319407761097, 0.005896076560020447, 0.008052258752286434, 0.005641486961394548, 0.0023850558791309595, 0.010971852578222752, 0.024361591786146164]], [[1.0, 0.0, 0.0, 0.0, 0.0, 0.0, 0.0, 0.0, 0.0, 0.0, 0.0, 0.0, 0.0], [0.9952208399772644, 0.004779201466590166, 0.0, 0.0, 0.0, 0.0, 0.0, 0.0, 0.0, 0.0, 0.0, 0.0, 0.0], [0.9928954243659973, 0.005857122130692005, 0.0012473785318434238, 0.0, 0.0, 0.0, 0.0, 0.0, 0.0, 0.0, 0.0, 0.0, 0.0], [0.9959360361099243, 0.0030296712648123503, 0.00015504704788327217, 0.0008792696171440184, 0.0, 0.0, 0.0, 0.0, 0.0, 0.0, 0.0, 0.0, 0.0], [0.9958674907684326, 0.0012110322713851929, 0.000535417755600065, 0.000463157775811851, 0.0019229542231187224, 0.0, 0.0, 0.0, 0.0, 0.0, 0.0, 0.0, 0.0], [0.9892390966415405, 0.006281704641878605, 0.00027198484167456627, 0.000324834167258814, 0.001388910342939198, 0.0024935321416705847, 0.0, 0.0, 0.0, 0.0, 0.0, 0.0, 0.0], [0.9869582056999207, 0.0008754811715334654, 0.00013436141307465732, 0.00027396317454986274, 0.0011589047499001026, 0.0003860104479826987, 0.010213005356490612, 0.0, 0.0, 0.0, 0.0, 0.0, 0.0], [0.9381218552589417, 0.005711748730391264, 0.0007580604287795722, 0.0019985674880445004, 0.0022134871687740088, 0.0063931625336408615, 0.03815238177776337, 0.006650668568909168, 0.0, 0.0, 0.0, 0.0, 0.0], [0.9850415587425232, 0.0006924570188857615, 0.0002464905264787376, 0.00043211629963479936, 0.0005677465233020484, 0.0012767646694555879, 0.0068802665919065475, 0.003136418526992202, 0.0017262438777834177, 0.0, 0.0, 0.0, 0.0], [0.9850147366523743, 0.000840990396682173, 7.962829840835184e-05, 0.0033403895795345306, 0.0006303014233708382, 0.0010934690944850445, 0.0032131564803421497, 0.002387293614447117, 0.0015925614861771464, 0.001807460910640657, 0.0, 0.0, 0.0], [0.9776039123535156, 0.0010741583537310362, 6.391892384272069e-05, 0.002605936722829938, 0.00048452787450514734, 0.0010041957721114159, 0.0037657488137483597, 0.004081982187926769, 0.0007740842993371189, 0.0009805132867768407, 0.00756106898188591, 0.0, 0.0], [0.9554048180580139, 0.000901332008652389, 0.0002271308476338163, 0.0006620829808525741, 0.0014810593565925956, 0.00045784044777974486, 0.013132908381521702, 0.0032563272397965193, 0.0012508207000792027, 0.001759449951350689, 0.0009705362026579678, 0.020495718345046043, 0.0], [0.9557274580001831, 0.0029131295159459114, 0.0004761496093124151, 0.0010735233081504703, 0.0013346128398552537, 0.0019045639783143997, 0.00996163859963417, 0.004393388982862234, 0.00254080886952579, 0.0008715559379197657, 0.0009144652867689729, 0.007416252046823502, 0.010472435504198074]], [[1.0, 0.0, 0.0, 0.0, 0.0, 0.0, 0.0, 0.0, 0.0, 0.0, 0.0, 0.0, 0.0], [0.8949419856071472, 0.10505805909633636, 0.0, 0.0, 0.0, 0.0, 0.0, 0.0, 0.0, 0.0, 0.0, 0.0, 0.0], [0.7349151372909546, 0.2111571878194809, 0.0539277084171772, 0.0, 0.0, 0.0, 0.0, 0.0, 0.0, 0.0, 0.0, 0.0, 0.0], [0.7556208372116089, 0.05943595990538597, 0.16506175696849823, 0.019881408661603928, 0.0, 0.0, 0.0, 0.0, 0.0, 0.0, 0.0, 0.0, 0.0], [0.752901017665863, 0.016136253252625465, 0.0497843436896801, 0.08803437650203705, 0.09314398467540741, 0.0, 0.0, 0.0, 0.0, 0.0, 0.0, 0.0, 0.0], [0.38525351881980896, 0.018648292869329453, 0.020523324608802795, 0.07085636258125305, 0.4613659381866455, 0.04335252195596695, 0.0, 0.0, 0.0, 0.0, 0.0, 0.0, 0.0], [0.3536537289619446, 0.03711892291903496, 0.041110292077064514, 0.054719410836696625, 0.3609759509563446, 0.11631709337234497, 0.036104608327150345, 0.0, 0.0, 0.0, 0.0, 0.0, 0.0], [0.7431507110595703, 0.013375284150242805, 0.009259284473955631, 0.033760298043489456, 0.06733563542366028, 0.026229050010442734, 0.04913235828280449, 0.05775729939341545, 0.0, 0.0, 0.0, 0.0, 0.0], [0.727374255657196, 0.008589423261582851, 0.010069207288324833, 0.007229688577353954, 0.0496751144528389, 0.015746615827083588, 0.04264611750841141, 0.10854487121105194, 0.030124766752123833, 0.0, 0.0, 0.0, 0.0], [0.5944182276725769, 0.011392439715564251, 0.0025162003003060818, 0.005638211965560913, 0.031350042670965195, 0.022503389045596123, 0.04170040786266327, 0.052295297384262085, 0.2123938500881195, 0.025791922584176064, 0.0, 0.0, 0.0], [0.5153220891952515, 0.007188889198005199, 0.016935497522354126, 0.00524373771622777, 0.01993102952837944, 0.02522205375134945, 0.05812456086277962, 0.04620945453643799, 0.0731438547372818, 0.20702238380908966, 0.025656431913375854, 0.0, 0.0], [0.6122730374336243, 0.0033138154540210962, 0.004299372434616089, 0.0037788699846714735, 0.008379696868360043, 0.0029977166559547186, 0.004128928761929274, 0.025995830073952675, 0.03146251663565636, 0.05489081144332886, 0.10649069398641586, 0.1419888585805893, 0.0], [0.8461188077926636, 0.0036651447881013155, 0.002396386582404375, 0.005153694190084934, 0.007424742449074984, 0.0031769133638590574, 0.008608249016106129, 0.013191966339945793, 0.006681354250758886, 0.00804668664932251, 0.009059133939445019, 0.054474808275699615, 0.03200215473771095]], [[1.0, 0.0, 0.0, 0.0, 0.0, 0.0, 0.0, 0.0, 0.0, 0.0, 0.0, 0.0, 0.0], [0.9919511079788208, 0.008048877120018005, 0.0, 0.0, 0.0, 0.0, 0.0, 0.0, 0.0, 0.0, 0.0, 0.0, 0.0], [0.9906541705131531, 0.006454897113144398, 0.002890917705371976, 0.0, 0.0, 0.0, 0.0, 0.0, 0.0, 0.0, 0.0, 0.0, 0.0], [0.9927398562431335, 0.0032399208284914494, 0.0024917805567383766, 0.0015285485424101353, 0.0, 0.0, 0.0, 0.0, 0.0, 0.0, 0.0, 0.0, 0.0], [0.988974928855896, 0.004775328561663628, 0.0015263158129528165, 0.0030481561552733183, 0.0016752976225689054, 0.0, 0.0, 0.0, 0.0, 0.0, 0.0, 0.0, 0.0], [0.9876986742019653, 0.005930262617766857, 0.002426797291263938, 0.0008437464712187648, 0.0008668772061355412, 0.002233672421425581, 0.0, 0.0, 0.0, 0.0, 0.0, 0.0, 0.0], [0.981509804725647, 0.0036679906770586967, 0.004389788024127483, 0.002057247329503298, 0.001967775635421276, 0.004130105953663588, 0.0022772890515625477, 0.0, 0.0, 0.0, 0.0, 0.0, 0.0], [0.9828289151191711, 0.004093884490430355, 0.0014499519020318985, 0.000464097858639434, 0.0005069018807262182, 0.0033672291319817305, 0.002252395497635007, 0.005036634858697653, 0.0, 0.0, 0.0, 0.0, 0.0], [0.9507665038108826, 0.011940640397369862, 0.012279672548174858, 0.0025179532822221518, 0.0004548444994725287, 0.001837942167185247, 0.0033177114091813564, 0.007356457412242889, 0.009528287686407566, 0.0, 0.0, 0.0, 0.0], [0.9511391520500183, 0.005779799073934555, 0.002759232884272933, 0.007522863335907459, 0.001075640320777893, 0.0027420902624726295, 0.002261362737044692, 0.009634174406528473, 0.005511357914656401, 0.01157422922551632, 0.0, 0.0, 0.0], [0.9700947403907776, 0.005956962238997221, 0.002037632744759321, 0.0026523820124566555, 0.0006331584299914539, 0.0010269401827827096, 0.0018070768564939499, 0.004553928505629301, 0.002553837839514017, 0.0037490043323487043, 0.004934255965054035, 0.0, 0.0], [0.9200228452682495, 0.001959527377039194, 0.0018759425729513168, 0.0002939824771601707, 0.0007682581781409681, 0.0017296008300036192, 0.0018255790928378701, 0.04810004681348801, 0.006326695438474417, 0.006764686666429043, 0.005876221694052219, 0.004456578753888607, 0.0], [0.9597087502479553, 0.0020311472471803427, 0.0012699611252173781, 0.000138749775942415, 0.0003734286001417786, 0.0008505021105520427, 0.0012752678012475371, 0.0041030715219676495, 0.012918474152684212, 0.003988208249211311, 0.002609329530969262, 0.0015940642915666103, 0.009138942696154118]]], [[[1.0, 0.0, 0.0, 0.0, 0.0, 0.0, 0.0, 0.0, 0.0, 0.0, 0.0, 0.0, 0.0], [0.9891959428787231, 0.010804099030792713, 0.0, 0.0, 0.0, 0.0, 0.0, 0.0, 0.0, 0.0, 0.0, 0.0, 0.0], [0.9386967420578003, 0.036801792681217194, 0.02450145222246647, 0.0, 0.0, 0.0, 0.0, 0.0, 0.0, 0.0, 0.0, 0.0, 0.0], [0.989812433719635, 0.007472938857972622, 0.0013991970336064696, 0.001315395813435316, 0.0, 0.0, 0.0, 0.0, 0.0, 0.0, 0.0, 0.0, 0.0], [0.959105372428894, 0.012048308737576008, 0.020762592554092407, 0.003362066112458706, 0.0047215186059474945, 0.0, 0.0, 0.0, 0.0, 0.0, 0.0, 0.0, 0.0], [0.9413344860076904, 0.03390701487660408, 0.012415510602295399, 0.001410451834090054, 0.005331290885806084, 0.005601200275123119, 0.0, 0.0, 0.0, 0.0, 0.0, 0.0, 0.0], [0.967492938041687, 0.002668896457180381, 0.0011817838530987501, 0.0007562236860394478, 0.001213684445247054, 0.0010272193467244506, 0.02565920352935791, 0.0, 0.0, 0.0, 0.0, 0.0, 0.0], [0.889022171497345, 0.017313653603196144, 0.007189938798546791, 0.0025532098952680826, 0.0015028275083750486, 0.004451788496226072, 0.05759613960981369, 0.02037038467824459, 0.0, 0.0, 0.0, 0.0, 0.0], [0.9844912886619568, 0.002159389201551676, 0.0007069103303365409, 0.0006212395383045077, 0.0005476794322021306, 0.0002354059979552403, 0.007386230397969484, 0.0025670749600976706, 0.001284722937270999, 0.0, 0.0, 0.0, 0.0], [0.9294266700744629, 0.014086439274251461, 0.0023107342422008514, 0.0036807942669838667, 0.0006744353449903429, 0.0011012726463377476, 0.022967437282204628, 0.01041453517973423, 0.007457313127815723, 0.00788040366023779, 0.0, 0.0, 0.0], [0.8961531519889832, 0.021533088758587837, 0.004061578307300806, 0.0042821806855499744, 0.0015229365089908242, 0.0022017776500433683, 0.022873330861330032, 0.021003538742661476, 0.007023227866739035, 0.007699351757764816, 0.011645854450762272, 0.0, 0.0], [0.9127763509750366, 0.0068842628970742226, 0.001483434927649796, 0.0004977929638698697, 0.000672139402013272, 0.0004478331538848579, 0.036683354526758194, 0.0075135366059839725, 0.003381237853318453, 0.005216310732066631, 0.001828394248150289, 0.022615449503064156, 0.0], [0.8764911890029907, 0.014796213246881962, 0.005104673560708761, 0.0013762116432189941, 0.0013563440879806876, 0.0043154810555279255, 0.03180107846856117, 0.016116101294755936, 0.007989916950464249, 0.006376259028911591, 0.0041177705861628056, 0.012007322162389755, 0.018151413649320602]], [[1.0, 0.0, 0.0, 0.0, 0.0, 0.0, 0.0, 0.0, 0.0, 0.0, 0.0, 0.0, 0.0], [0.9859593510627747, 0.014040670357644558, 0.0, 0.0, 0.0, 0.0, 0.0, 0.0, 0.0, 0.0, 0.0, 0.0, 0.0], [0.9825580716133118, 0.013214961625635624, 0.004227037541568279, 0.0, 0.0, 0.0, 0.0, 0.0, 0.0, 0.0, 0.0, 0.0, 0.0], [0.9859345555305481, 0.004339131526648998, 0.0009861700236797333, 0.00874011218547821, 0.0, 0.0, 0.0, 0.0, 0.0, 0.0, 0.0, 0.0, 0.0], [0.9866096377372742, 0.0034134576562792063, 0.0007504026289097965, 0.0037742441054433584, 0.005452344194054604, 0.0, 0.0, 0.0, 0.0, 0.0, 0.0, 0.0, 0.0], [0.9734742641448975, 0.012811657972633839, 0.001111100078560412, 0.002548913238570094, 0.00595923000946641, 0.004094742238521576, 0.0, 0.0, 0.0, 0.0, 0.0, 0.0, 0.0], [0.9752830862998962, 0.00453908508643508, 0.0008193012326955795, 0.0023454208858311176, 0.0034132637083530426, 0.0013716801768168807, 0.012228164821863174, 0.0, 0.0, 0.0, 0.0, 0.0, 0.0], [0.9154258966445923, 0.015950283035635948, 0.002691077534109354, 0.019497638568282127, 0.005201288033276796, 0.005811967886984348, 0.021129677072167397, 0.014292116276919842, 0.0, 0.0, 0.0, 0.0, 0.0], [0.9543867111206055, 0.0032064004335552454, 0.005039480980485678, 0.001782074454240501, 0.003126331837847829, 0.0015229870332404971, 0.009130039252340794, 0.009713024832308292, 0.01209294330328703, 0.0, 0.0, 0.0, 0.0], [0.9416447281837463, 0.0023918221704661846, 0.0007997432840056717, 0.02259950526058674, 0.004502126947045326, 0.0012133424170315266, 0.005717966239899397, 0.0035598420072346926, 0.0022728247568011284, 0.01529816072434187, 0.0, 0.0, 0.0], [0.9419328570365906, 0.0024885646998882294, 0.0005227794754318893, 0.013112252578139305, 0.0025315198581665754, 0.001164279761724174, 0.006482906639575958, 0.003170120995491743, 0.0018730792216956615, 0.007839452475309372, 0.01888224110007286, 0.0, 0.0], [0.9549806118011475, 0.00243952963501215, 0.0006558257737196982, 0.00281364843249321, 0.002640869002789259, 0.00029087605071254075, 0.010606802068650723, 0.0031192328315228224, 0.0015304560074582696, 0.002367819659411907, 0.0009866916807368398, 0.017567552626132965, 0.0], [0.908462643623352, 0.013295609503984451, 0.0018264768877997994, 0.008504638448357582, 0.0023949870374053717, 0.0019014690769836307, 0.011773725971579552, 0.008008251897990704, 0.003347584744915366, 0.003398928325623274, 0.0044542402029037476, 0.011788184754550457, 0.020843202248215675]], [[1.0, 0.0, 0.0, 0.0, 0.0, 0.0, 0.0, 0.0, 0.0, 0.0, 0.0, 0.0, 0.0], [0.9624925851821899, 0.03750745952129364, 0.0, 0.0, 0.0, 0.0, 0.0, 0.0, 0.0, 0.0, 0.0, 0.0, 0.0], [0.9670512676239014, 0.021220779046416283, 0.011727959848940372, 0.0, 0.0, 0.0, 0.0, 0.0, 0.0, 0.0, 0.0, 0.0, 0.0], [0.9871384501457214, 0.008055704645812511, 0.0024314955808222294, 0.0023743307683616877, 0.0, 0.0, 0.0, 0.0, 0.0, 0.0, 0.0, 0.0, 0.0], [0.9822685718536377, 0.008451717905700207, 0.004980095196515322, 0.0014711288968101144, 0.002828530967235565, 0.0, 0.0, 0.0, 0.0, 0.0, 0.0, 0.0, 0.0], [0.9296897053718567, 0.039303772151470184, 0.006177952047437429, 0.0019963327795267105, 0.014650342054665089, 0.008181908167898655, 0.0, 0.0, 0.0, 0.0, 0.0, 0.0, 0.0], [0.9356112480163574, 0.013294767588376999, 0.004657940939068794, 0.004373462870717049, 0.0073424880392849445, 0.0029953394550830126, 0.03172476589679718, 0.0, 0.0, 0.0, 0.0, 0.0, 0.0], [0.8578535914421082, 0.03726163133978844, 0.006673029623925686, 0.0034799061249941587, 0.00477414857596159, 0.006820382084697485, 0.04290248826146126, 0.04023488238453865, 0.0, 0.0, 0.0, 0.0, 0.0], [0.9513378739356995, 0.0026819617487490177, 0.004031945951282978, 0.0029084477573633194, 0.005966559983789921, 0.0030331022571772337, 0.008668689988553524, 0.014941280707716942, 0.0064302049577236176, 0.0, 0.0, 0.0, 0.0], [0.9307832717895508, 0.00356038985773921, 0.0020706551149487495, 0.00974628608673811, 0.0038077314384281635, 0.003807135857641697, 0.010045242495834827, 0.024938572198152542, 0.006968359462916851, 0.0042722090147435665, 0.0, 0.0, 0.0], [0.9204162955284119, 0.0049384827725589275, 0.0021470917854458094, 0.007790833245962858, 0.0049844905734062195, 0.0035383556969463825, 0.012289755046367645, 0.027116963639855385, 0.007046181708574295, 0.0036093720700591803, 0.006122184917330742, 0.0, 0.0], [0.8146646022796631, 0.008791252039372921, 0.00326332775875926, 0.0010002972558140755, 0.005739125888794661, 0.0008376507903449237, 0.03341300040483475, 0.08226516097784042, 0.010981898754835129, 0.005183983128517866, 0.003415855346247554, 0.030443772673606873, 0.0], [0.7843185067176819, 0.038298074156045914, 0.005167470779269934, 0.0020824905950576067, 0.0038715433329343796, 0.003432877128943801, 0.025213759392499924, 0.037565432488918304, 0.01135028526186943, 0.004020757041871548, 0.0027415468357503414, 0.003876421833410859, 0.07806076109409332]], [[1.0, 0.0, 0.0, 0.0, 0.0, 0.0, 0.0, 0.0, 0.0, 0.0, 0.0, 0.0, 0.0], [0.9638161063194275, 0.036183953285217285, 0.0, 0.0, 0.0, 0.0, 0.0, 0.0, 0.0, 0.0, 0.0, 0.0, 0.0], [0.9325851202011108, 0.03608434274792671, 0.031330496072769165, 0.0, 0.0, 0.0, 0.0, 0.0, 0.0, 0.0, 0.0, 0.0, 0.0], [0.9469873309135437, 0.015886928886175156, 0.02114793285727501, 0.015977736562490463, 0.0, 0.0, 0.0, 0.0, 0.0, 0.0, 0.0, 0.0, 0.0], [0.9393988251686096, 0.010653125122189522, 0.010136228054761887, 0.0034166942350566387, 0.03639514744281769, 0.0, 0.0, 0.0, 0.0, 0.0, 0.0, 0.0, 0.0], [0.8934755921363831, 0.02941363863646984, 0.013323408551514149, 0.00157790700905025, 0.042442627251148224, 0.01976677216589451, 0.0, 0.0, 0.0, 0.0, 0.0, 0.0, 0.0], [0.9397720098495483, 0.008451992645859718, 0.005986185744404793, 0.0020219848956912756, 0.012714313343167305, 0.01282384991645813, 0.0182296521961689, 0.0, 0.0, 0.0, 0.0, 0.0, 0.0], [0.7017660140991211, 0.01661054603755474, 0.003735883394256234, 0.00342604611068964, 0.019842321053147316, 0.08100625872612, 0.031643547117710114, 0.14196938276290894, 0.0, 0.0, 0.0, 0.0, 0.0], [0.9402161240577698, 0.003463714150711894, 0.0024245043750852346, 0.0008725041407160461, 0.007914558984339237, 0.004223445896059275, 0.007698955480009317, 0.027382129803299904, 0.005803965963423252, 0.0, 0.0, 0.0, 0.0], [0.8684143424034119, 0.008733809925615788, 0.0040793525986373425, 0.0030081539880484343, 0.009779328480362892, 0.008185616694390774, 0.007429060526192188, 0.05496760457754135, 0.010554470121860504, 0.024848243221640587, 0.0, 0.0, 0.0], [0.8651162385940552, 0.011208939366042614, 0.003762822598218918, 0.0017271749675273895, 0.008750860579311848, 0.004499273374676704, 0.006813503336161375, 0.04207611456513405, 0.006838563363999128, 0.016480669379234314, 0.03272585570812225, 0.0, 0.0], [0.5958264470100403, 0.00894213654100895, 0.0069124652072787285, 0.0019426937215030193, 0.010047128424048424, 0.024663636460900307, 0.04604830965399742, 0.19512300193309784, 0.05257580429315567, 0.024423768743872643, 0.007635969668626785, 0.025858735665678978, 0.0], [0.67729252576828, 0.018345531076192856, 0.003006579354405403, 0.0015750413294881582, 0.006959320046007633, 0.015589749440550804, 0.013161233626306057, 0.07890796661376953, 0.019223380833864212, 0.008727515116333961, 0.006783635821193457, 0.005399349611252546, 0.1450282484292984]], [[1.0, 0.0, 0.0, 0.0, 0.0, 0.0, 0.0, 0.0, 0.0, 0.0, 0.0, 0.0, 0.0], [0.9296883940696716, 0.07031164318323135, 0.0, 0.0, 0.0, 0.0, 0.0, 0.0, 0.0, 0.0, 0.0, 0.0, 0.0], [0.6974496245384216, 0.1882467269897461, 0.11430370062589645, 0.0, 0.0, 0.0, 0.0, 0.0, 0.0, 0.0, 0.0, 0.0, 0.0], [0.9111012816429138, 0.033322326838970184, 0.042862679809331894, 0.012713740579783916, 0.0, 0.0, 0.0, 0.0, 0.0, 0.0, 0.0, 0.0, 0.0], [0.8641886115074158, 0.03194284066557884, 0.016281133517622948, 0.029740840196609497, 0.05784662440419197, 0.0, 0.0, 0.0, 0.0, 0.0, 0.0, 0.0, 0.0], [0.8278048038482666, 0.039555009454488754, 0.04074377939105034, 0.007895330898463726, 0.056212492287158966, 0.02778862975537777, 0.0, 0.0, 0.0, 0.0, 0.0, 0.0, 0.0], [0.908757746219635, 0.02134568803012371, 0.020770389586687088, 0.006615408230572939, 0.025038674473762512, 0.008385524153709412, 0.009086615405976772, 0.0, 0.0, 0.0, 0.0, 0.0, 0.0], [0.718955397605896, 0.03677652031183243, 0.009571724571287632, 0.022554613649845123, 0.017875293269753456, 0.01610574871301651, 0.02655654214322567, 0.1516040861606598, 0.0, 0.0, 0.0, 0.0, 0.0], [0.63193279504776, 0.02493884786963463, 0.02155061811208725, 0.012991873547434807, 0.07257546484470367, 0.013853234238922596, 0.0582619309425354, 0.03312686085700989, 0.13076835870742798, 0.0, 0.0, 0.0, 0.0], [0.38077452778816223, 0.02506314404308796, 0.024834318086504936, 0.04197503253817558, 0.0655127540230751, 0.023642145097255707, 0.034045930951833725, 0.04958605766296387, 0.26406994462013245, 0.09049614518880844, 0.0, 0.0, 0.0], [0.38451462984085083, 0.019648142158985138, 0.03391312435269356, 0.02597479522228241, 0.03693172335624695, 0.01724276691675186, 0.10287806391716003, 0.02406364679336548, 0.19649147987365723, 0.1268831044435501, 0.031458623707294464, 0.0, 0.0], [0.7492915987968445, 0.0027320755179971457, 0.005503032822161913, 0.0012293566251173615, 0.0034152900334447622, 0.0020397440530359745, 0.015907693654298782, 0.1794625222682953, 0.016433481127023697, 0.013804192654788494, 0.0018009839113801718, 0.008380115032196045, 0.0], [0.7093930840492249, 0.005797085352241993, 0.003165972186252475, 0.0037040608003735542, 0.002802504226565361, 0.003037988441064954, 0.008104274049401283, 0.12522077560424805, 0.014615299180150032, 0.018681026995182037, 0.00404472416266799, 0.0037821142468601465, 0.09765111654996872]], [[1.0, 0.0, 0.0, 0.0, 0.0, 0.0, 0.0, 0.0, 0.0, 0.0, 0.0, 0.0, 0.0], [0.7960578799247742, 0.2039421647787094, 0.0, 0.0, 0.0, 0.0, 0.0, 0.0, 0.0, 0.0, 0.0, 0.0, 0.0], [0.9044205546379089, 0.06941234320402145, 0.026167066767811775, 0.0, 0.0, 0.0, 0.0, 0.0, 0.0, 0.0, 0.0, 0.0, 0.0], [0.8566469550132751, 0.03732488304376602, 0.07319055497646332, 0.032837677747011185, 0.0, 0.0, 0.0, 0.0, 0.0, 0.0, 0.0, 0.0, 0.0], [0.9032599925994873, 0.03139100596308708, 0.01965997740626335, 0.012671894393861294, 0.033017098903656006, 0.0, 0.0, 0.0, 0.0, 0.0, 0.0, 0.0, 0.0], [0.30685916543006897, 0.0626220554113388, 0.09424854069948196, 0.1378524899482727, 0.3138659596443176, 0.08455175906419754, 0.0, 0.0, 0.0, 0.0, 0.0, 0.0, 0.0], [0.406393826007843, 0.036121439188718796, 0.05977921932935715, 0.08163266628980637, 0.2695471942424774, 0.11571196466684341, 0.03081374801695347, 0.0, 0.0, 0.0, 0.0, 0.0, 0.0], [0.6246931552886963, 0.045167066156864166, 0.02418658323585987, 0.0231754332780838, 0.024283912032842636, 0.031916093081235886, 0.09763684868812561, 0.12894099950790405, 0.0, 0.0, 0.0, 0.0, 0.0], [0.5829461812973022, 0.028476687148213387, 0.030588939785957336, 0.006461841054260731, 0.05947306752204895, 0.027811335399746895, 0.05600522458553314, 0.15543530881404877, 0.05280143395066261, 0.0, 0.0, 0.0, 0.0], [0.6959638595581055, 0.019209351390600204, 0.002530391328036785, 0.006958284415304661, 0.04024788737297058, 0.01727977581322193, 0.03497248888015747, 0.07166574150323868, 0.08439412713050842, 0.02677805721759796, 0.0, 0.0, 0.0], [0.8908761143684387, 0.00503911729902029, 0.003446368034929037, 0.002749137580394745, 0.012282253243029118, 0.003182077081874013, 0.010928578674793243, 0.01731482706964016, 0.011782082729041576, 0.0289924219250679, 0.013407103717327118, 0.0, 0.0], [0.418014258146286, 0.010500726290047169, 0.009531360119581223, 0.006810739170759916, 0.015324065461754799, 0.009498093277215958, 0.008987972512841225, 0.026469966396689415, 0.06811457127332687, 0.07450982928276062, 0.20282982289791107, 0.14940853416919708, 0.0], [0.5054888725280762, 0.020727017894387245, 0.007442111615091562, 0.009011359885334969, 0.008045767433941364, 0.01175522617995739, 0.04581008851528168, 0.07275216281414032, 0.042629674077034, 0.0252267736941576, 0.015618039295077324, 0.07000551372766495, 0.16548749804496765]], [[1.0, 0.0, 0.0, 0.0, 0.0, 0.0, 0.0, 0.0, 0.0, 0.0, 0.0, 0.0, 0.0], [0.9759531021118164, 0.024046877399086952, 0.0, 0.0, 0.0, 0.0, 0.0, 0.0, 0.0, 0.0, 0.0, 0.0, 0.0], [0.934373676776886, 0.04988867789506912, 0.015737613663077354, 0.0, 0.0, 0.0, 0.0, 0.0, 0.0, 0.0, 0.0, 0.0, 0.0], [0.9878032803535461, 0.005160156637430191, 0.001607998856343329, 0.005428623873740435, 0.0, 0.0, 0.0, 0.0, 0.0, 0.0, 0.0, 0.0, 0.0], [0.9767059683799744, 0.007901459001004696, 0.006437427829951048, 0.004841578658670187, 0.004113605245947838, 0.0, 0.0, 0.0, 0.0, 0.0, 0.0, 0.0, 0.0], [0.9337125420570374, 0.029244303703308105, 0.01026649959385395, 0.002686572028324008, 0.011279200203716755, 0.01281078439205885, 0.0, 0.0, 0.0, 0.0, 0.0, 0.0, 0.0], [0.9256980419158936, 0.0063924589194357395, 0.002762545831501484, 0.002531433245167136, 0.003746994771063328, 0.0017434926703572273, 0.057125043123960495, 0.0, 0.0, 0.0, 0.0, 0.0, 0.0], [0.7366971969604492, 0.020776575431227684, 0.004653736483305693, 0.006051774136722088, 0.0021016199607402086, 0.004646312911063433, 0.21381402015686035, 0.011258793994784355, 0.0, 0.0, 0.0, 0.0, 0.0], [0.952491819858551, 0.0019011757103726268, 0.0009262816747650504, 0.0011732731945812702, 0.0013631671899929643, 0.0005438346415758133, 0.035764362663030624, 0.002053108299151063, 0.0037830043584108353, 0.0, 0.0, 0.0, 0.0], [0.898306667804718, 0.00551694305613637, 0.001374844228848815, 0.006391686853021383, 0.001354262582026422, 0.001571797183714807, 0.06620202213525772, 0.00479063019156456, 0.006576233077794313, 0.007914980873465538, 0.0, 0.0, 0.0], [0.881905198097229, 0.008466462604701519, 0.003268452826887369, 0.014790590852499008, 0.002709676045924425, 0.003984639421105385, 0.04337192699313164, 0.005990698002278805, 0.007400248199701309, 0.008046676404774189, 0.02006538398563862, 0.0, 0.0], [0.7679864168167114, 0.010665343143045902, 0.001704655820503831, 0.0010853136191144586, 0.001027104095555842, 0.0006609552074223757, 0.17870265245437622, 0.003945035394281149, 0.0051591843366622925, 0.006953837815672159, 0.0034700355026870966, 0.018639521673321724, 0.0], [0.7217117547988892, 0.02030598558485508, 0.004700631834566593, 0.0039027216844260693, 0.002346637425944209, 0.0039050858467817307, 0.1447053849697113, 0.01866605505347252, 0.009133833460509777, 0.009566042572259903, 0.005463895387947559, 0.018301350995898247, 0.03729062154889107]], [[1.0, 0.0, 0.0, 0.0, 0.0, 0.0, 0.0, 0.0, 0.0, 0.0, 0.0, 0.0, 0.0], [0.9639509916305542, 0.03604899346828461, 0.0, 0.0, 0.0, 0.0, 0.0, 0.0, 0.0, 0.0, 0.0, 0.0, 0.0], [0.8897197842597961, 0.05327305197715759, 0.05700722336769104, 0.0, 0.0, 0.0, 0.0, 0.0, 0.0, 0.0, 0.0, 0.0, 0.0], [0.9702433943748474, 0.008074812591075897, 0.011950084939599037, 0.009731697849929333, 0.0, 0.0, 0.0, 0.0, 0.0, 0.0, 0.0, 0.0, 0.0], [0.9539798498153687, 0.00864082109183073, 0.023426644504070282, 0.005030849017202854, 0.008921803906559944, 0.0, 0.0, 0.0, 0.0, 0.0, 0.0, 0.0, 0.0], [0.9229068756103516, 0.01073221955448389, 0.01861836388707161, 0.0018180879997089505, 0.01629704050719738, 0.02962740696966648, 0.0, 0.0, 0.0, 0.0, 0.0, 0.0, 0.0], [0.9383291006088257, 0.002932226750999689, 0.008151734247803688, 0.0025417516008019447, 0.005119659006595612, 0.006908116862177849, 0.03601750731468201, 0.0, 0.0, 0.0, 0.0, 0.0, 0.0], [0.7987246513366699, 0.01884879544377327, 0.0256898645311594, 0.005672373343259096, 0.007972042076289654, 0.03238656371831894, 0.045792073011398315, 0.06491369009017944, 0.0, 0.0, 0.0, 0.0, 0.0], [0.9335663318634033, 0.001707727089524269, 0.010493425652384758, 0.001759112928994, 0.006491692736744881, 0.0066006979905068874, 0.00787154771387577, 0.019561443477869034, 0.011948075145483017, 0.0, 0.0, 0.0, 0.0], [0.8040571212768555, 0.00532750366255641, 0.0089423768222332, 0.009194852784276009, 0.010448726825416088, 0.01733338087797165, 0.044747449457645416, 0.0345805399119854, 0.028568703681230545, 0.036799393594264984, 0.0, 0.0, 0.0], [0.7897863984107971, 0.0057379379868507385, 0.009068045765161514, 0.0027398185338824987, 0.00795289408415556, 0.010854676365852356, 0.04331247881054878, 0.03613071143627167, 0.016433442011475563, 0.02097941003739834, 0.05700413137674332, 0.0, 0.0], [0.7538639903068542, 0.0045991805382072926, 0.01609237864613533, 0.0005849695880897343, 0.003587455488741398, 0.006166977342218161, 0.016473928466439247, 0.037577901035547256, 0.04568754509091377, 0.023806346580386162, 0.011680600233376026, 0.07987871021032333, 0.0], [0.692067563533783, 0.03225649520754814, 0.02531621605157852, 0.0046700057573616505, 0.005376187153160572, 0.014428497292101383, 0.02430799789726734, 0.04122745990753174, 0.030625341460108757, 0.017057394608855247, 0.016404753550887108, 0.019071022048592567, 0.077191062271595]], [[1.0, 0.0, 0.0, 0.0, 0.0, 0.0, 0.0, 0.0, 0.0, 0.0, 0.0, 0.0, 0.0], [0.9686537981033325, 0.03134622797369957, 0.0, 0.0, 0.0, 0.0, 0.0, 0.0, 0.0, 0.0, 0.0, 0.0, 0.0], [0.9815729856491089, 0.007528658024966717, 0.010898303240537643, 0.0, 0.0, 0.0, 0.0, 0.0, 0.0, 0.0, 0.0, 0.0, 0.0], [0.9950203895568848, 0.0013640575343742967, 0.0012584840878844261, 0.0023569767363369465, 0.0, 0.0, 0.0, 0.0, 0.0, 0.0, 0.0, 0.0, 0.0], [0.9791408181190491, 0.0030375991482287645, 0.0025615741033107042, 0.0008850157610140741, 0.014375022612512112, 0.0, 0.0, 0.0, 0.0, 0.0, 0.0, 0.0, 0.0], [0.9771568179130554, 0.00728981476277113, 0.002457670634612441, 0.00042684481013566256, 0.009290210902690887, 0.0033786159474402666, 0.0, 0.0, 0.0, 0.0, 0.0, 0.0, 0.0], [0.9697790145874023, 0.003669775789603591, 0.004159539006650448, 0.0011770841665565968, 0.00805294793099165, 0.0035677433479577303, 0.00959401112049818, 0.0, 0.0, 0.0, 0.0, 0.0, 0.0], [0.9571527242660522, 0.005111658480018377, 0.0055091967806220055, 0.00046650940203107893, 0.005393761210143566, 0.008061816915869713, 0.0028355005197227, 0.015468771569430828, 0.0, 0.0, 0.0, 0.0, 0.0], [0.9558179378509521, 0.010776383802294731, 0.00796328391879797, 0.0008740611374378204, 0.002098006894811988, 0.0012657790211960673, 0.005977637600153685, 0.00927871186286211, 0.005948163103312254, 0.0, 0.0, 0.0, 0.0], [0.9496328234672546, 0.0018627754179760814, 0.001257903641089797, 0.00302481884136796, 0.005924575962126255, 0.003225301392376423, 0.001412355457432568, 0.019023725762963295, 0.0028879682067781687, 0.011747677810490131, 0.0, 0.0, 0.0], [0.9417584538459778, 0.006078089587390423, 0.0018204104853793979, 0.0008538221591152251, 0.0034570202697068453, 0.0015056971460580826, 0.0016632347833365202, 0.016755836084485054, 0.002996954834088683, 0.00680386321619153, 0.016306621953845024, 0.0, 0.0], [0.9392479062080383, 0.0009764904389157891, 0.0024042208679020405, 0.000651553797069937, 0.0036486154422163963, 0.0016830539098009467, 0.0019704008009284735, 0.032260578125715256, 0.002960363170132041, 0.008693297393620014, 0.0028933919966220856, 0.002609993563964963, 0.0], [0.9092199802398682, 0.0047158729285001755, 0.0036220289766788483, 0.00024366469006054103, 0.0027408094611018896, 0.0029974128119647503, 0.002561805536970496, 0.016416409984230995, 0.018030909821391106, 0.009169490076601505, 0.0034876021090894938, 0.0024046043399721384, 0.02438947930932045]], [[1.0, 0.0, 0.0, 0.0, 0.0, 0.0, 0.0, 0.0, 0.0, 0.0, 0.0, 0.0, 0.0], [0.8951768279075623, 0.10482320934534073, 0.0, 0.0, 0.0, 0.0, 0.0, 0.0, 0.0, 0.0, 0.0, 0.0, 0.0], [0.9224685430526733, 0.04019898921251297, 0.03733237460255623, 0.0, 0.0, 0.0, 0.0, 0.0, 0.0, 0.0, 0.0, 0.0, 0.0], [0.8686754107475281, 0.039936263114213943, 0.07306841760873795, 0.018319901078939438, 0.0, 0.0, 0.0, 0.0, 0.0, 0.0, 0.0, 0.0, 0.0], [0.8067516684532166, 0.05254163593053818, 0.06884252279996872, 0.009863104671239853, 0.062001049518585205, 0.0, 0.0, 0.0, 0.0, 0.0, 0.0, 0.0, 0.0], [0.692844033241272, 0.05446609854698181, 0.012722892686724663, 0.012879298068583012, 0.1659073382616043, 0.061180368065834045, 0.0, 0.0, 0.0, 0.0, 0.0, 0.0, 0.0], [0.435467004776001, 0.045265816152095795, 0.02917996607720852, 0.033732157200574875, 0.18352457880973816, 0.1811373084783554, 0.09169317781925201, 0.0, 0.0, 0.0, 0.0, 0.0, 0.0], [0.3341137170791626, 0.17291989922523499, 0.16382811963558197, 0.015568322502076626, 0.01667213812470436, 0.03767039254307747, 0.1382065862417221, 0.12102082371711731, 0.0, 0.0, 0.0, 0.0, 0.0], [0.8232431411743164, 0.011110194958746433, 0.016650106757879257, 0.0019939562771469355, 0.007645602338016033, 0.01175197958946228, 0.05025312677025795, 0.02433944121003151, 0.05301249399781227, 0.0, 0.0, 0.0, 0.0], [0.597549319267273, 0.044456031173467636, 0.037207286804914474, 0.0030528635252267122, 0.01115907821804285, 0.020323937758803368, 0.06132391467690468, 0.0550457201898098, 0.10164682567119598, 0.06823498010635376, 0.0, 0.0, 0.0], [0.4532231092453003, 0.017284203320741653, 0.07034742087125778, 0.004014445468783379, 0.015514262951910496, 0.009121304377913475, 0.027299048379063606, 0.04376525059342384, 0.05309835821390152, 0.23206283152103424, 0.07426972687244415, 0.0, 0.0], [0.5816939473152161, 0.033095452934503555, 0.007724082097411156, 0.0038751845713704824, 0.009343850426375866, 0.011698747053742409, 0.026166342198848724, 0.026768963783979416, 0.01676197722554207, 0.0234944187104702, 0.02673906274139881, 0.23263795673847198, 0.0], [0.34549054503440857, 0.11628421396017075, 0.057097408920526505, 0.005970984231680632, 0.006182320881634951, 0.009707638062536716, 0.041838388890028, 0.10673685371875763, 0.029663540422916412, 0.02406974695622921, 0.013074693270027637, 0.0824141725897789, 0.1614694446325302]], [[1.0, 0.0, 0.0, 0.0, 0.0, 0.0, 0.0, 0.0, 0.0, 0.0, 0.0, 0.0, 0.0], [0.9942272901535034, 0.0057727317325770855, 0.0, 0.0, 0.0, 0.0, 0.0, 0.0, 0.0, 0.0, 0.0, 0.0, 0.0], [0.988893449306488, 0.005720596760511398, 0.005385998636484146, 0.0, 0.0, 0.0, 0.0, 0.0, 0.0, 0.0, 0.0, 0.0, 0.0], [0.9933302998542786, 0.0035872366279363632, 0.0017775205196812749, 0.0013049828121438622, 0.0, 0.0, 0.0, 0.0, 0.0, 0.0, 0.0, 0.0, 0.0], [0.9926043748855591, 0.0016921740025281906, 0.0018979700980708003, 0.0007752747042104602, 0.0030300768557935953, 0.0, 0.0, 0.0, 0.0, 0.0, 0.0, 0.0, 0.0], [0.9841446876525879, 0.004513347987085581, 0.0018791669281199574, 0.0004495158209465444, 0.004185626748949289, 0.004827694967389107, 0.0, 0.0, 0.0, 0.0, 0.0, 0.0, 0.0], [0.9624744653701782, 0.0034670564346015453, 0.004041136708110571, 0.000987355480901897, 0.006447324994951487, 0.005934384651482105, 0.016648292541503906, 0.0, 0.0, 0.0, 0.0, 0.0, 0.0], [0.9501851797103882, 0.008680013008415699, 0.004690050613135099, 0.002792365849018097, 0.0014719407772645354, 0.005104122683405876, 0.02060813084244728, 0.006468215957283974, 0.0, 0.0, 0.0, 0.0, 0.0], [0.9608655571937561, 0.0017075741197913885, 0.0034144073724746704, 0.000865874404553324, 0.0068168193101882935, 0.0020365784876048565, 0.008722961880266666, 0.00404210714623332, 0.011528181843459606, 0.0, 0.0, 0.0, 0.0], [0.9681042432785034, 0.0014511490007862449, 0.0022601343225687742, 0.0019028546521440148, 0.0028698781970888376, 0.0016640790272504091, 0.005033806432038546, 0.004083027131855488, 0.005476389080286026, 0.007154467515647411, 0.0, 0.0, 0.0], [0.9489657878875732, 0.0021505579352378845, 0.0019453181885182858, 0.001644409028813243, 0.003492431715130806, 0.0025479758623987436, 0.005410218611359596, 0.0025174072943627834, 0.0056929695419967175, 0.0076669505797326565, 0.017966052517294884, 0.0, 0.0], [0.9488351345062256, 0.0023232586681842804, 0.004746865946799517, 0.0009423180017620325, 0.0028806356713175774, 0.0014279832830652595, 0.007946434430778027, 0.0042041908018291, 0.005143139977008104, 0.0054466440342366695, 0.004067293833941221, 0.012035993859171867, 0.0], [0.902073323726654, 0.011479523032903671, 0.006403560284525156, 0.0028209045995026827, 0.0016113746678456664, 0.002927877241745591, 0.015494097024202347, 0.008213071152567863, 0.00906837172806263, 0.007121383678168058, 0.008391648530960083, 0.009812328964471817, 0.014582507312297821]], [[1.0, 0.0, 0.0, 0.0, 0.0, 0.0, 0.0, 0.0, 0.0, 0.0, 0.0, 0.0, 0.0], [0.9741443395614624, 0.02585563436150551, 0.0, 0.0, 0.0, 0.0, 0.0, 0.0, 0.0, 0.0, 0.0, 0.0, 0.0], [0.9424187541007996, 0.03966212272644043, 0.017919104546308517, 0.0, 0.0, 0.0, 0.0, 0.0, 0.0, 0.0, 0.0, 0.0, 0.0], [0.9817883968353271, 0.006602808833122253, 0.009852494113147259, 0.0017563382862135768, 0.0, 0.0, 0.0, 0.0, 0.0, 0.0, 0.0, 0.0, 0.0], [0.9699363708496094, 0.006328755058348179, 0.0064169615507125854, 0.003154038917273283, 0.014163901098072529, 0.0, 0.0, 0.0, 0.0, 0.0, 0.0, 0.0, 0.0], [0.7211447954177856, 0.01369310449808836, 0.01075313426554203, 0.0032191253267228603, 0.18708622455596924, 0.06410364806652069, 0.0, 0.0, 0.0, 0.0, 0.0, 0.0, 0.0], [0.7523659467697144, 0.004585600923746824, 0.004112415015697479, 0.0048100631684064865, 0.057574447244405746, 0.14493215084075928, 0.03161938861012459, 0.0, 0.0, 0.0, 0.0, 0.0, 0.0], [0.8410851359367371, 0.038291409611701965, 0.0034542956855148077, 0.005443241912871599, 0.006033563986420631, 0.013002889230847359, 0.0753941610455513, 0.0172953512519598, 0.0, 0.0, 0.0, 0.0, 0.0], [0.9479115009307861, 0.0007215292425826192, 0.00020001099619548768, 0.0006240317015908659, 0.004249891731888056, 0.0020455738995224237, 0.014348761178553104, 0.016506921499967575, 0.013391886837780476, 0.0, 0.0, 0.0, 0.0], [0.49395933747291565, 0.0011141427094116807, 0.0005039028474129736, 0.0018958315486088395, 0.0020595891401171684, 0.007765992544591427, 0.08326492458581924, 0.027925103902816772, 0.33556997776031494, 0.04594116657972336, 0.0, 0.0, 0.0], [0.371563583612442, 0.0017768940888345242, 0.0030391437467187643, 0.0012539223534986377, 0.006177092436701059, 0.006083141081035137, 0.09414605796337128, 0.037364356219768524, 0.3358352780342102, 0.1128053367137909, 0.02995527908205986, 0.0, 0.0], [0.8128458857536316, 0.000610343471635133, 0.0013782329624518752, 0.000554584723431617, 0.0009464018512517214, 0.001411951263435185, 0.02176329307258129, 0.010692638345062733, 0.07079381495714188, 0.024414118379354477, 0.031299933791160583, 0.023288745433092117, 0.0], [0.9196695685386658, 0.016810914501547813, 0.0016157528152689338, 0.001445189118385315, 0.0024425145238637924, 0.0013464491348713636, 0.01317537296563387, 0.007413005921989679, 0.004228085745126009, 0.0030229578260332346, 0.0031418893486261368, 0.005742885172367096, 0.019945381209254265]]], [[[1.0, 0.0, 0.0, 0.0, 0.0, 0.0, 0.0, 0.0, 0.0, 0.0, 0.0, 0.0, 0.0], [0.2978302240371704, 0.7021698355674744, 0.0, 0.0, 0.0, 0.0, 0.0, 0.0, 0.0, 0.0, 0.0, 0.0, 0.0], [0.3310638666152954, 0.3611685037612915, 0.3077675700187683, 0.0, 0.0, 0.0, 0.0, 0.0, 0.0, 0.0, 0.0, 0.0, 0.0], [0.3874037265777588, 0.28742632269859314, 0.15918460488319397, 0.1659853607416153, 0.0, 0.0, 0.0, 0.0, 0.0, 0.0, 0.0, 0.0, 0.0], [0.2120305746793747, 0.28429827094078064, 0.17227298021316528, 0.08046573400497437, 0.2509324252605438, 0.0, 0.0, 0.0, 0.0, 0.0, 0.0, 0.0, 0.0], [0.22068920731544495, 0.24039581418037415, 0.11312156170606613, 0.0920049250125885, 0.16867369413375854, 0.16511482000350952, 0.0, 0.0, 0.0, 0.0, 0.0, 0.0, 0.0], [0.32047998905181885, 0.17919744551181793, 0.07905313372612, 0.07410323619842529, 0.11818331480026245, 0.1264357715845108, 0.10254714637994766, 0.0, 0.0, 0.0, 0.0, 0.0, 0.0], [0.22224420309066772, 0.16230662167072296, 0.06177930533885956, 0.05383874103426933, 0.04376900941133499, 0.08532164990901947, 0.050294846296310425, 0.32044562697410583, 0.0, 0.0, 0.0, 0.0, 0.0], [0.13286307454109192, 0.08929044753313065, 0.11093255877494812, 0.033533696085214615, 0.07052183151245117, 0.09026419371366501, 0.10399897396564484, 0.12542320787906647, 0.2431720495223999, 0.0, 0.0, 0.0, 0.0], [0.12356364727020264, 0.10923507064580917, 0.10519372671842575, 0.03317065164446831, 0.0832475945353508, 0.0919395461678505, 0.08683627098798752, 0.06282877922058105, 0.19964225590229034, 0.10434241592884064, 0.0, 0.0, 0.0], [0.17413106560707092, 0.10737617313861847, 0.09871792048215866, 0.04337771236896515, 0.06055082008242607, 0.06557152420282364, 0.1249045729637146, 0.0383102186024189, 0.1582033634185791, 0.08080445975065231, 0.04805217683315277, 0.0, 0.0], [0.0799604132771492, 0.1266041100025177, 0.06823741644620895, 0.051731646060943604, 0.1087372675538063, 0.1059904545545578, 0.029689086601138115, 0.1114620491862297, 0.17648060619831085, 0.045570582151412964, 0.03457438573241234, 0.06096196174621582, 0.0], [0.16127093136310577, 0.15549995005130768, 0.036782797425985336, 0.03320358693599701, 0.021568099036812782, 0.0625285655260086, 0.027676675468683243, 0.16401144862174988, 0.048736270517110825, 0.009778759442269802, 0.023255620151758194, 0.03392360359430313, 0.22176367044448853]], [[1.0, 0.0, 0.0, 0.0, 0.0, 0.0, 0.0, 0.0, 0.0, 0.0, 0.0, 0.0, 0.0], [0.9412450194358826, 0.05875498056411743, 0.0, 0.0, 0.0, 0.0, 0.0, 0.0, 0.0, 0.0, 0.0, 0.0, 0.0], [0.9428002834320068, 0.023220697417855263, 0.033979080617427826, 0.0, 0.0, 0.0, 0.0, 0.0, 0.0, 0.0, 0.0, 0.0, 0.0], [0.9025048017501831, 0.023922018706798553, 0.044470325112342834, 0.02910286746919155, 0.0, 0.0, 0.0, 0.0, 0.0, 0.0, 0.0, 0.0, 0.0], [0.8065890073776245, 0.06004511937499046, 0.06199832260608673, 0.017162160947918892, 0.05420535057783127, 0.0, 0.0, 0.0, 0.0, 0.0, 0.0, 0.0, 0.0], [0.8382550477981567, 0.055317219346761703, 0.0394928902387619, 0.012318325228989124, 0.03215987980365753, 0.022456642240285873, 0.0, 0.0, 0.0, 0.0, 0.0, 0.0, 0.0], [0.8725346326828003, 0.035458143800497055, 0.020809780806303024, 0.020903432741761208, 0.017680443823337555, 0.007462468463927507, 0.025151045992970467, 0.0, 0.0, 0.0, 0.0, 0.0, 0.0], [0.6069890260696411, 0.08444530516862869, 0.08202756941318512, 0.03106612153351307, 0.04310127720236778, 0.016370423138141632, 0.08912867307662964, 0.04687154293060303, 0.0, 0.0, 0.0, 0.0, 0.0], [0.8968101739883423, 0.01203408744186163, 0.0138888880610466, 0.009249025024473667, 0.010317654348909855, 0.005185821559280157, 0.022975165396928787, 0.015335860662162304, 0.01420329138636589, 0.0, 0.0, 0.0, 0.0], [0.7844358682632446, 0.015148159116506577, 0.017764493823051453, 0.019145602360367775, 0.012670769356191158, 0.007725242991000414, 0.04284616559743881, 0.04110567271709442, 0.022272169589996338, 0.0368858240544796, 0.0, 0.0, 0.0], [0.7378328442573547, 0.01585521176457405, 0.024617424234747887, 0.015791265293955803, 0.01378606352955103, 0.008068778552114964, 0.04633902385830879, 0.0433632992208004, 0.012893534265458584, 0.06103608012199402, 0.020416459068655968, 0.0, 0.0], [0.7350585460662842, 0.016475768759846687, 0.035572659224271774, 0.011028874665498734, 0.008504502475261688, 0.005233436822891235, 0.05011169984936714, 0.031141497194767, 0.018236707895994186, 0.044724736362695694, 0.017009885981678963, 0.026901736855506897, 0.0], [0.49341467022895813, 0.0915471538901329, 0.05574607476592064, 0.021178552880883217, 0.018314875662326813, 0.010156646370887756, 0.07231040298938751, 0.053003787994384766, 0.037499599158763885, 0.04196678847074509, 0.025787584483623505, 0.010099921375513077, 0.06897392123937607]], [[1.0, 0.0, 0.0, 0.0, 0.0, 0.0, 0.0, 0.0, 0.0, 0.0, 0.0, 0.0, 0.0], [0.9782966375350952, 0.021703414618968964, 0.0, 0.0, 0.0, 0.0, 0.0, 0.0, 0.0, 0.0, 0.0, 0.0, 0.0], [0.9773608446121216, 0.01184989232569933, 0.010789234191179276, 0.0, 0.0, 0.0, 0.0, 0.0, 0.0, 0.0, 0.0, 0.0, 0.0], [0.9883551597595215, 0.006416400894522667, 0.0030131961684674025, 0.002215319313108921, 0.0, 0.0, 0.0, 0.0, 0.0, 0.0, 0.0, 0.0, 0.0], [0.9627354741096497, 0.010338607244193554, 0.010603115893900394, 0.003956720232963562, 0.012366076931357384, 0.0, 0.0, 0.0, 0.0, 0.0, 0.0, 0.0, 0.0], [0.956166684627533, 0.014326396398246288, 0.004903544206172228, 0.0020231346134096384, 0.015359458513557911, 0.007220763713121414, 0.0, 0.0, 0.0, 0.0, 0.0, 0.0, 0.0], [0.9762718677520752, 0.005657180678099394, 0.002012702403590083, 0.0014210218796506524, 0.00589857017621398, 0.0021428486797958612, 0.006595817394554615, 0.0, 0.0, 0.0, 0.0, 0.0, 0.0], [0.8931335806846619, 0.015413048677146435, 0.004409002605825663, 0.0017456579953432083, 0.00617982679978013, 0.0035832358989864588, 0.009213637560606003, 0.06632203608751297, 0.0, 0.0, 0.0, 0.0, 0.0], [0.9823344945907593, 0.0022828243672847748, 0.00244861445389688, 0.0012800288386642933, 0.002849413314834237, 0.0013340502046048641, 0.0029769325628876686, 0.002700407523661852, 0.001793377916328609, 0.0, 0.0, 0.0, 0.0], [0.9558683633804321, 0.004967878106981516, 0.0031684692949056625, 0.00248232064768672, 0.004036834929138422, 0.0019835615530610085, 0.005111429374665022, 0.014936482533812523, 0.002797932829707861, 0.00464666960760951, 0.0, 0.0, 0.0], [0.9607148170471191, 0.0034892011899501085, 0.003405621973797679, 0.0022717691026628017, 0.0034455428831279278, 0.0024879660923033953, 0.0038504875265061855, 0.007490500342100859, 0.0020426532719284296, 0.005868694745004177, 0.004932794254273176, 0.0, 0.0], [0.9252936840057373, 0.00636331457644701, 0.003220554208382964, 0.0013026990927755833, 0.006225804332643747, 0.001475782599300146, 0.009897495619952679, 0.01961173303425312, 0.003751719370484352, 0.008357027545571327, 0.0032461134251207113, 0.011254043318331242, 0.0], [0.8270158767700195, 0.01319635659456253, 0.0029198776464909315, 0.001075712963938713, 0.004860465880483389, 0.0019272809149697423, 0.005793191026896238, 0.058814387768507004, 0.0048935250379145145, 0.0033933573868125677, 0.0031883844640105963, 0.004067386966198683, 0.06885425001382828]], [[1.0, 0.0, 0.0, 0.0, 0.0, 0.0, 0.0, 0.0, 0.0, 0.0, 0.0, 0.0, 0.0], [0.8897507190704346, 0.11024926602840424, 0.0, 0.0, 0.0, 0.0, 0.0, 0.0, 0.0, 0.0, 0.0, 0.0, 0.0], [0.6945515871047974, 0.187527596950531, 0.11792083829641342, 0.0, 0.0, 0.0, 0.0, 0.0, 0.0, 0.0, 0.0, 0.0, 0.0], [0.8546297550201416, 0.05659590661525726, 0.05422186478972435, 0.03455251455307007, 0.0, 0.0, 0.0, 0.0, 0.0, 0.0, 0.0, 0.0, 0.0], [0.45922139286994934, 0.12956035137176514, 0.19947215914726257, 0.036710042506456375, 0.1750359982252121, 0.0, 0.0, 0.0, 0.0, 0.0, 0.0, 0.0, 0.0], [0.4263167083263397, 0.10994313657283783, 0.060976218432188034, 0.02270275354385376, 0.1553666889667511, 0.22469459474086761, 0.0, 0.0, 0.0, 0.0, 0.0, 0.0, 0.0], [0.804335355758667, 0.019043100997805595, 0.015115240588784218, 0.03659059852361679, 0.03425240516662598, 0.055336304008960724, 0.03532697260379791, 0.0, 0.0, 0.0, 0.0, 0.0, 0.0], [0.4147059917449951, 0.04857740178704262, 0.022656017914414406, 0.012324999086558819, 0.036772411316633224, 0.03368128836154938, 0.1959322690963745, 0.23534967005252838, 0.0, 0.0, 0.0, 0.0, 0.0], [0.7839598655700684, 0.012682955712080002, 0.011548343114554882, 0.014648519456386566, 0.015110640786588192, 0.014703091233968735, 0.07550496608018875, 0.021433526650071144, 0.05040808767080307, 0.0, 0.0, 0.0, 0.0], [0.5195445418357849, 0.036767978221178055, 0.01837247982621193, 0.016178347170352936, 0.02473408170044422, 0.03976551443338394, 0.13987800478935242, 0.06296749413013458, 0.0775519534945488, 0.06423962861299515, 0.0, 0.0, 0.0], [0.36441123485565186, 0.017995374277234077, 0.0371382050216198, 0.020648688077926636, 0.027717821300029755, 0.05001332238316536, 0.15188179910182953, 0.05054118111729622, 0.09735327959060669, 0.15852633118629456, 0.023772772401571274, 0.0, 0.0], [0.25234854221343994, 0.03216932713985443, 0.03860184922814369, 0.013909921050071716, 0.01627741940319538, 0.06249991059303284, 0.16694815456867218, 0.06673962622880936, 0.13824352622032166, 0.08268022537231445, 0.049802787601947784, 0.07977871596813202, 0.0], [0.3604089021682739, 0.033570341765880585, 0.012179385870695114, 0.008394157513976097, 0.012470031157135963, 0.013652876950800419, 0.09981607645750046, 0.13807998597621918, 0.04278917610645294, 0.03364742919802666, 0.03150526061654091, 0.043425463140010834, 0.170060932636261]], [[1.0, 0.0, 0.0, 0.0, 0.0, 0.0, 0.0, 0.0, 0.0, 0.0, 0.0, 0.0, 0.0], [0.9197399616241455, 0.08025997877120972, 0.0, 0.0, 0.0, 0.0, 0.0, 0.0, 0.0, 0.0, 0.0, 0.0, 0.0], [0.8937452435493469, 0.04055796563625336, 0.06569680571556091, 0.0, 0.0, 0.0, 0.0, 0.0, 0.0, 0.0, 0.0, 0.0, 0.0], [0.8420794606208801, 0.04387938231229782, 0.0931922048330307, 0.020848961547017097, 0.0, 0.0, 0.0, 0.0, 0.0, 0.0, 0.0, 0.0, 0.0], [0.8582913279533386, 0.03396898880600929, 0.04071376100182533, 0.012120520696043968, 0.05490543320775032, 0.0, 0.0, 0.0, 0.0, 0.0, 0.0, 0.0, 0.0], [0.7607102990150452, 0.04153932258486748, 0.06372195482254028, 0.015299326740205288, 0.09268848598003387, 0.026040639728307724, 0.0, 0.0, 0.0, 0.0, 0.0, 0.0, 0.0], [0.7829779982566833, 0.04784543812274933, 0.03269786387681961, 0.011161181144416332, 0.0713626891374588, 0.013368073850870132, 0.040586769580841064, 0.0, 0.0, 0.0, 0.0, 0.0, 0.0], [0.7093849778175354, 0.04172033071517944, 0.051121339201927185, 0.01211039163172245, 0.0569341704249382, 0.014881564304232597, 0.01674744114279747, 0.09709978848695755, 0.0, 0.0, 0.0, 0.0, 0.0], [0.7254724502563477, 0.022457610815763474, 0.04566316679120064, 0.016811635345220566, 0.035480812191963196, 0.007110989652574062, 0.014149496331810951, 0.08422205597162247, 0.04863179847598076, 0.0, 0.0, 0.0, 0.0], [0.6908246874809265, 0.012462832033634186, 0.04498288407921791, 0.014838427305221558, 0.031948063522577286, 0.007158045191317797, 0.011508486233651638, 0.09066778421401978, 0.036886267364025116, 0.0587226003408432, 0.0, 0.0, 0.0], [0.6221144199371338, 0.013477951288223267, 0.059972167015075684, 0.014832712709903717, 0.048435185104608536, 0.0057279812172055244, 0.020900467410683632, 0.06366037577390671, 0.03752458095550537, 0.08487672358751297, 0.02847747504711151, 0.0, 0.0], [0.6409510970115662, 0.015426174737513065, 0.035065021365880966, 0.007787032052874565, 0.025815367698669434, 0.004314705729484558, 0.013008582405745983, 0.12065056711435318, 0.04117199033498764, 0.03446575254201889, 0.015332289040088654, 0.04601136967539787, 0.0], [0.6020887494087219, 0.03683063015341759, 0.038016557693481445, 0.009396616369485855, 0.03627823293209076, 0.010187516920268536, 0.010033093392848969, 0.07814422249794006, 0.03263222426176071, 0.021695762872695923, 0.018233027309179306, 0.012947479262948036, 0.09351588040590286]], [[1.0, 0.0, 0.0, 0.0, 0.0, 0.0, 0.0, 0.0, 0.0, 0.0, 0.0, 0.0, 0.0], [0.9622896313667297, 0.037710387259721756, 0.0, 0.0, 0.0, 0.0, 0.0, 0.0, 0.0, 0.0, 0.0, 0.0, 0.0], [0.9798583984375, 0.014731083996593952, 0.005410527810454369, 0.0, 0.0, 0.0, 0.0, 0.0, 0.0, 0.0, 0.0, 0.0, 0.0], [0.9805918335914612, 0.00484065106138587, 0.0028237809892743826, 0.01174377091228962, 0.0, 0.0, 0.0, 0.0, 0.0, 0.0, 0.0, 0.0, 0.0], [0.9442656636238098, 0.009035634808242321, 0.012334180995821953, 0.017728082835674286, 0.016636407002806664, 0.0, 0.0, 0.0, 0.0, 0.0, 0.0, 0.0, 0.0], [0.9403189420700073, 0.01632050611078739, 0.0041596475057303905, 0.009439793415367603, 0.013171864673495293, 0.016589179635047913, 0.0, 0.0, 0.0, 0.0, 0.0, 0.0, 0.0], [0.9518300890922546, 0.005248684901744127, 0.00410178117454052, 0.006707410793751478, 0.008092256262898445, 0.007225840352475643, 0.016794005408883095, 0.0, 0.0, 0.0, 0.0, 0.0, 0.0], [0.7230057716369629, 0.013686534017324448, 0.02022787183523178, 0.01223919726908207, 0.020747661590576172, 0.01905371993780136, 0.03460316359996796, 0.15643608570098877, 0.0, 0.0, 0.0, 0.0, 0.0], [0.9230810403823853, 0.003208140842616558, 0.004888841416686773, 0.001690693898126483, 0.011589529924094677, 0.009621518664062023, 0.012703747488558292, 0.016381775960326195, 0.01683461107313633, 0.0, 0.0, 0.0, 0.0], [0.9132431745529175, 0.00327298603951931, 0.0016471447888761759, 0.0320182666182518, 0.007037475239485502, 0.005958041176199913, 0.00934622809290886, 0.008900929242372513, 0.00981698278337717, 0.008758672513067722, 0.0, 0.0, 0.0], [0.9193391799926758, 0.003846731036901474, 0.002246685093268752, 0.019122811034321785, 0.004114880692213774, 0.004797489382326603, 0.011130886152386665, 0.008015690371394157, 0.004304935224354267, 0.00944304745644331, 0.013637619093060493, 0.0, 0.0], [0.8467994332313538, 0.0067156339064240456, 0.011831847950816154, 0.011281940154731274, 0.01393164787441492, 0.011953196488320827, 0.015120130032300949, 0.024248991161584854, 0.016203492879867554, 0.011932922527194023, 0.005621724762022495, 0.024359080940485, 0.0], [0.5368968844413757, 0.01169770210981369, 0.01560189388692379, 0.008347813040018082, 0.01325509138405323, 0.00866775307804346, 0.019990896806120872, 0.1490466296672821, 0.01748513989150524, 0.008949356153607368, 0.0061902678571641445, 0.00930100493133068, 0.19456957280635834]], [[1.0, 0.0, 0.0, 0.0, 0.0, 0.0, 0.0, 0.0, 0.0, 0.0, 0.0, 0.0, 0.0], [0.9728018045425415, 0.027198150753974915, 0.0, 0.0, 0.0, 0.0, 0.0, 0.0, 0.0, 0.0, 0.0, 0.0, 0.0], [0.9839372038841248, 0.008597932755947113, 0.007464811205863953, 0.0, 0.0, 0.0, 0.0, 0.0, 0.0, 0.0, 0.0, 0.0, 0.0], [0.9868263006210327, 0.004992233589291573, 0.0039145625196397305, 0.0042668599635362625, 0.0, 0.0, 0.0, 0.0, 0.0, 0.0, 0.0, 0.0, 0.0], [0.9710634350776672, 0.0063700140453875065, 0.009632423520088196, 0.004424998536705971, 0.008509107865393162, 0.0, 0.0, 0.0, 0.0, 0.0, 0.0, 0.0, 0.0], [0.9504157304763794, 0.013962873257696629, 0.009262891486287117, 0.006001518107950687, 0.014514957554638386, 0.0058419047854840755, 0.0, 0.0, 0.0, 0.0, 0.0, 0.0, 0.0], [0.9386012554168701, 0.009299625642597675, 0.007060364820063114, 0.0086580915376544, 0.009095053188502789, 0.0032452938612550497, 0.02404024638235569, 0.0, 0.0, 0.0, 0.0, 0.0, 0.0], [0.9090986847877502, 0.01422323752194643, 0.012835606932640076, 0.009846100583672523, 0.007923630066215992, 0.007288139779120684, 0.01489056646823883, 0.02389415167272091, 0.0, 0.0, 0.0, 0.0, 0.0], [0.9734309315681458, 0.002944576321169734, 0.003743516281247139, 0.0027796856593340635, 0.005891529377549887, 0.0016154949553310871, 0.0045192972756922245, 0.0021681985817849636, 0.002906844252720475, 0.0, 0.0, 0.0, 0.0], [0.9389112591743469, 0.004377557896077633, 0.00549671333283186, 0.008768247440457344, 0.0059346104972064495, 0.004293314181268215, 0.0063239457085728645, 0.009396430104970932, 0.005438018590211868, 0.011060050688683987, 0.0, 0.0, 0.0], [0.9336133003234863, 0.0031011695973575115, 0.0033171907998621464, 0.006405590567737818, 0.004313101060688496, 0.0035684984177351, 0.006443522404879332, 0.005870106630027294, 0.003429563483223319, 0.008045129477977753, 0.021892791613936424, 0.0, 0.0], [0.9259798526763916, 0.004263591021299362, 0.004612748045474291, 0.0037088128738105297, 0.005811188369989395, 0.00197007367387414, 0.015197359956800938, 0.004546629264950752, 0.004325191956013441, 0.00515301339328289, 0.007281502243131399, 0.017150022089481354, 0.0], [0.8587539792060852, 0.01819990947842598, 0.010654393583536148, 0.006826710421591997, 0.0059889028780162334, 0.005093738436698914, 0.013665634207427502, 0.018762027844786644, 0.005729073192924261, 0.005652257241308689, 0.01105648186057806, 0.017409754917025566, 0.02220701240003109]], [[1.0, 0.0, 0.0, 0.0, 0.0, 0.0, 0.0, 0.0, 0.0, 0.0, 0.0, 0.0, 0.0], [0.9611679911613464, 0.03883201256394386, 0.0, 0.0, 0.0, 0.0, 0.0, 0.0, 0.0, 0.0, 0.0, 0.0, 0.0], [0.9590157866477966, 0.02387070097029209, 0.017113521695137024, 0.0, 0.0, 0.0, 0.0, 0.0, 0.0, 0.0, 0.0, 0.0, 0.0], [0.9096598029136658, 0.047307275235652924, 0.027860650792717934, 0.015172176994383335, 0.0, 0.0, 0.0, 0.0, 0.0, 0.0, 0.0, 0.0, 0.0], [0.796460747718811, 0.052751604467630386, 0.09793046861886978, 0.007361366413533688, 0.04549584165215492, 0.0, 0.0, 0.0, 0.0, 0.0, 0.0, 0.0, 0.0], [0.9015490412712097, 0.03209533542394638, 0.016476746648550034, 0.003914968576282263, 0.02359604276716709, 0.022367866709828377, 0.0, 0.0, 0.0, 0.0, 0.0, 0.0, 0.0], [0.8845906853675842, 0.016078373417258263, 0.024468889459967613, 0.006543137598782778, 0.030209708958864212, 0.012749729678034782, 0.02535940706729889, 0.0, 0.0, 0.0, 0.0, 0.0, 0.0], [0.5502341389656067, 0.08356049656867981, 0.1194467693567276, 0.010122544132173061, 0.050056926906108856, 0.03907547518610954, 0.04628116637468338, 0.10122249275445938, 0.0, 0.0, 0.0, 0.0, 0.0], [0.9568244218826294, 0.004560602363198996, 0.004246862605214119, 0.0019127856940031052, 0.0049080802127718925, 0.0038663882296532393, 0.008030599914491177, 0.013464411720633507, 0.0021857295650988817, 0.0, 0.0, 0.0, 0.0], [0.7759135961532593, 0.04770603030920029, 0.030785247683525085, 0.009798789396882057, 0.02037210762500763, 0.013472924940288067, 0.023892611265182495, 0.03822119161486626, 0.012946132570505142, 0.02689140848815441, 0.0, 0.0, 0.0], [0.8350625038146973, 0.025701260194182396, 0.0117315873503685, 0.006451600696891546, 0.016786670312285423, 0.014347970485687256, 0.03029779903590679, 0.016942158341407776, 0.006950218230485916, 0.01581815630197525, 0.019910037517547607, 0.0, 0.0], [0.5033804178237915, 0.010895094834268093, 0.016112107783555984, 0.002871735952794552, 0.007815013639628887, 0.005469773430377245, 0.03737594187259674, 0.3359889090061188, 0.00590860890224576, 0.011175330728292465, 0.004045986104756594, 0.058961041271686554, 0.0], [0.3813527226448059, 0.07465342432260513, 0.07155397534370422, 0.0032613256480544806, 0.022453725337982178, 0.018631678074598312, 0.03757794201374054, 0.13122335076332092, 0.02655046619474888, 0.014686889946460724, 0.0098479725420475, 0.03382280841469765, 0.17438369989395142]], [[1.0, 0.0, 0.0, 0.0, 0.0, 0.0, 0.0, 0.0, 0.0, 0.0, 0.0, 0.0, 0.0], [5.846750354976393e-06, 0.999994158744812, 0.0, 0.0, 0.0, 0.0, 0.0, 0.0, 0.0, 0.0, 0.0, 0.0, 0.0], [0.00019480635819491, 0.2625461220741272, 0.7372589707374573, 0.0, 0.0, 0.0, 0.0, 0.0, 0.0, 0.0, 0.0, 0.0, 0.0], [9.667698031989858e-05, 0.3616432845592499, 0.4774652421474457, 0.1607946902513504, 0.0, 0.0, 0.0, 0.0, 0.0, 0.0, 0.0, 0.0, 0.0], [3.824683153652586e-05, 0.25006893277168274, 0.42668893933296204, 0.04715947434306145, 0.27604442834854126, 0.0, 0.0, 0.0, 0.0, 0.0, 0.0, 0.0, 0.0], [1.2085232810932212e-05, 0.24687480926513672, 0.12538275122642517, 0.26469507813453674, 0.2065306305885315, 0.15650467574596405, 0.0, 0.0, 0.0, 0.0, 0.0, 0.0, 0.0], [2.145106736861635e-05, 0.11532280594110489, 0.1449732929468155, 0.18556226789951324, 0.18677069246768951, 0.2767711579799652, 0.0905783548951149, 0.0, 0.0, 0.0, 0.0, 0.0, 0.0], [6.199493509484455e-05, 0.07588006556034088, 0.08526955544948578, 0.008670267648994923, 0.033918555825948715, 0.023481683805584908, 0.04007329046726227, 0.7326444983482361, 0.0, 0.0, 0.0, 0.0, 0.0], [5.001954923500307e-05, 0.12403717637062073, 0.2888809144496918, 0.02058948203921318, 0.10206975787878036, 0.048812784254550934, 0.04838073253631592, 0.17345869541168213, 0.19372040033340454, 0.0, 0.0, 0.0, 0.0], [0.00013397652946878225, 0.031089846044778824, 0.08572176843881607, 0.0066320812329649925, 0.03509822115302086, 0.021172665059566498, 0.05119689926505089, 0.29855433106422424, 0.24106191098690033, 0.22933825850486755, 0.0, 0.0, 0.0], [0.00037197727942839265, 0.027027616277337074, 0.1384521722793579, 0.006662748754024506, 0.04110373184084892, 0.015677867457270622, 0.03411459922790527, 0.10787393152713776, 0.13466544449329376, 0.3643730580806732, 0.12967686355113983, 0.0, 0.0], [1.3978967217553873e-05, 0.03554897755384445, 0.0363183319568634, 0.03371844440698624, 0.027616074308753014, 0.08162498474121094, 0.12554048001766205, 0.26498672366142273, 0.10837879776954651, 0.09126681834459305, 0.08038724958896637, 0.11459916085004807, 0.0], [4.2948937334585935e-05, 0.03572402149438858, 0.017850486561655998, 0.0028355722315609455, 0.005827156826853752, 0.008343013003468513, 0.01316417008638382, 0.42154037952423096, 0.03135944530367851, 0.020393721759319305, 0.019470445811748505, 0.00795552134513855, 0.41549307107925415]], [[1.0, 0.0, 0.0, 0.0, 0.0, 0.0, 0.0, 0.0, 0.0, 0.0, 0.0, 0.0, 0.0], [0.9848741888999939, 0.015125732868909836, 0.0, 0.0, 0.0, 0.0, 0.0, 0.0, 0.0, 0.0, 0.0, 0.0, 0.0], [0.9758172631263733, 0.014680357649922371, 0.00950239971280098, 0.0, 0.0, 0.0, 0.0, 0.0, 0.0, 0.0, 0.0, 0.0, 0.0], [0.9705830812454224, 0.012677563354372978, 0.0021917119156569242, 0.014547552913427353, 0.0, 0.0, 0.0, 0.0, 0.0, 0.0, 0.0, 0.0, 0.0], [0.9722138047218323, 0.009880618192255497, 0.002636721357703209, 0.004150719381868839, 0.011118149384856224, 0.0, 0.0, 0.0, 0.0, 0.0, 0.0, 0.0, 0.0], [0.9085182547569275, 0.026047058403491974, 0.009748046286404133, 0.006888991221785545, 0.025932855904102325, 0.022864848375320435, 0.0, 0.0, 0.0, 0.0, 0.0, 0.0, 0.0], [0.942101240158081, 0.009112507104873657, 0.0036002376582473516, 0.00523671880364418, 0.026262251660227776, 0.007071478758007288, 0.006615591701120138, 0.0, 0.0, 0.0, 0.0, 0.0, 0.0], [0.9210973978042603, 0.016032863408327103, 0.0029062414541840553, 0.011181513778865337, 0.012533632107079029, 0.009014727547764778, 0.006720674689859152, 0.020513009279966354, 0.0, 0.0, 0.0, 0.0, 0.0], [0.9264519214630127, 0.0032551060430705547, 0.003062295727431774, 0.0035795632284134626, 0.03262949362397194, 0.008558005094528198, 0.0031324175652116537, 0.011592577211558819, 0.007738749962300062, 0.0, 0.0, 0.0, 0.0], [0.9533289074897766, 0.002430145861580968, 0.0012300038943067193, 0.010576033964753151, 0.008371914736926556, 0.00253226887434721, 0.0023727132938802242, 0.006676709279417992, 0.004456731490790844, 0.008024542592465878, 0.0, 0.0, 0.0], [0.9441908597946167, 0.002966836327686906, 0.0012453094823285937, 0.008237636648118496, 0.010091284289956093, 0.006341576110571623, 0.001948962570168078, 0.006554995663464069, 0.005030919797718525, 0.006598174571990967, 0.006793529726564884, 0.0, 0.0], [0.9280779361724854, 0.008702398277819157, 0.0027080331929028034, 0.0074716913513839245, 0.012178894132375717, 0.0034252717159688473, 0.0061996132135391235, 0.006181597709655762, 0.005130184348672628, 0.005977561231702566, 0.0013026039814576507, 0.01264427974820137, 0.0], [0.8815767168998718, 0.012201043777167797, 0.0025665622670203447, 0.00895716156810522, 0.012492307461798191, 0.005236330907791853, 0.0035212740767747164, 0.02494380809366703, 0.006991369184106588, 0.0043161967769265175, 0.0029493486508727074, 0.007614229805767536, 0.026633676141500473]], [[1.0, 0.0, 0.0, 0.0, 0.0, 0.0, 0.0, 0.0, 0.0, 0.0, 0.0, 0.0, 0.0], [0.8709335327148438, 0.12906643748283386, 0.0, 0.0, 0.0, 0.0, 0.0, 0.0, 0.0, 0.0, 0.0, 0.0, 0.0], [0.8793514966964722, 0.06401687115430832, 0.05663170665502548, 0.0, 0.0, 0.0, 0.0, 0.0, 0.0, 0.0, 0.0, 0.0, 0.0], [0.848102331161499, 0.043416429311037064, 0.07038822770118713, 0.03809307515621185, 0.0, 0.0, 0.0, 0.0, 0.0, 0.0, 0.0, 0.0, 0.0], [0.7906057834625244, 0.04143882170319557, 0.07475724071264267, 0.019026098772883415, 0.07417209446430206, 0.0, 0.0, 0.0, 0.0, 0.0, 0.0, 0.0, 0.0], [0.676510214805603, 0.05358540639281273, 0.05003530532121658, 0.023877838626503944, 0.12883883714675903, 0.06715241819620132, 0.0, 0.0, 0.0, 0.0, 0.0, 0.0, 0.0], [0.786542534828186, 0.03259476646780968, 0.015573645941913128, 0.0099125225096941, 0.04900357872247696, 0.06691817194223404, 0.0394548662006855, 0.0, 0.0, 0.0, 0.0, 0.0, 0.0], [0.5714249014854431, 0.06423034518957138, 0.027819618582725525, 0.00923848245292902, 0.03138428181409836, 0.017770055681467056, 0.029215993359684944, 0.2489163726568222, 0.0, 0.0, 0.0, 0.0, 0.0], [0.7074100375175476, 0.015200307592749596, 0.0182715505361557, 0.005720640532672405, 0.022236766293644905, 0.02064436487853527, 0.048336293548345566, 0.03910592570900917, 0.12307407706975937, 0.0, 0.0, 0.0, 0.0], [0.6960641741752625, 0.014140655286610126, 0.010153242386877537, 0.005605468992143869, 0.017221806570887566, 0.0183914415538311, 0.051846131682395935, 0.04829715937376022, 0.04183614253997803, 0.0964437872171402, 0.0, 0.0, 0.0], [0.3465343117713928, 0.0071281204000115395, 0.02598060853779316, 0.011721341870725155, 0.015366259030997753, 0.019062597304582596, 0.0406607948243618, 0.01670677214860916, 0.03356541320681572, 0.4194660484790802, 0.0638076514005661, 0.0, 0.0], [0.702580988407135, 0.018039703369140625, 0.013967251405119896, 0.006009524688124657, 0.012736489064991474, 0.013749377802014351, 0.02049575187265873, 0.05902478098869324, 0.02173699624836445, 0.0384838804602623, 0.009814275428652763, 0.08336101472377777, 0.0], [0.5130557417869568, 0.0538560226559639, 0.01890605315566063, 0.006382296327501535, 0.014300021342933178, 0.012356812134385109, 0.010356856510043144, 0.16915827989578247, 0.013011024333536625, 0.01702488586306572, 0.015220040455460548, 0.01678316667675972, 0.13958881795406342]], [[1.0, 0.0, 0.0, 0.0, 0.0, 0.0, 0.0, 0.0, 0.0, 0.0, 0.0, 0.0, 0.0], [0.9337282180786133, 0.06627172976732254, 0.0, 0.0, 0.0, 0.0, 0.0, 0.0, 0.0, 0.0, 0.0, 0.0, 0.0], [0.8877817392349243, 0.06043475121259689, 0.05178346484899521, 0.0, 0.0, 0.0, 0.0, 0.0, 0.0, 0.0, 0.0, 0.0, 0.0], [0.89837646484375, 0.030537033453583717, 0.043364010751247406, 0.027722498401999474, 0.0, 0.0, 0.0, 0.0, 0.0, 0.0, 0.0, 0.0, 0.0], [0.8921017646789551, 0.022358817979693413, 0.03499000519514084, 0.02014000527560711, 0.03040938451886177, 0.0, 0.0, 0.0, 0.0, 0.0, 0.0, 0.0, 0.0], [0.7990765571594238, 0.03278416767716408, 0.018304944038391113, 0.015316303819417953, 0.08809559047222137, 0.04642239585518837, 0.0, 0.0, 0.0, 0.0, 0.0, 0.0, 0.0], [0.7498539686203003, 0.024488281458616257, 0.01251537911593914, 0.03989729657769203, 0.06819646805524826, 0.06768160313367844, 0.03736701235175133, 0.0, 0.0, 0.0, 0.0, 0.0, 0.0], [0.8043720126152039, 0.046553224325180054, 0.01901664212346077, 0.011860771104693413, 0.03972599282860756, 0.014250364154577255, 0.03559872508049011, 0.028622305020689964, 0.0, 0.0, 0.0, 0.0, 0.0], [0.77784264087677, 0.015712795779109, 0.014451800845563412, 0.009017935954034328, 0.021709632128477097, 0.03276414796710014, 0.030534900724887848, 0.05492313951253891, 0.04304294288158417, 0.0, 0.0, 0.0, 0.0], [0.5655999779701233, 0.02034922130405903, 0.01622605510056019, 0.008259481750428677, 0.01751948520541191, 0.023164784535765648, 0.13457544147968292, 0.013636347837746143, 0.11620909720659256, 0.08446009457111359, 0.0, 0.0, 0.0], [0.3201608955860138, 0.009511075913906097, 0.021348880603909492, 0.00472031207755208, 0.013046205043792725, 0.034501828253269196, 0.1396925449371338, 0.008988793939352036, 0.0944296345114708, 0.3206515610218048, 0.032948218286037445, 0.0, 0.0], [0.40046414732933044, 0.02574903331696987, 0.028219250962138176, 0.0058824908919632435, 0.01294322032481432, 0.015641601756215096, 0.08395539969205856, 0.21688930690288544, 0.054344292730093, 0.05227847024798393, 0.04368341341614723, 0.059949394315481186, 0.0], [0.6322535276412964, 0.0624263733625412, 0.025440137833356857, 0.009289518930017948, 0.019578587263822556, 0.01033412292599678, 0.030978480353951454, 0.07678210735321045, 0.019628334790468216, 0.018525969237089157, 0.01749289222061634, 0.023062553256750107, 0.054207317531108856]]]], \"left_text\": [\"My\", \" friend\", \" was\", \" right\", \" about\", \" this\", \" class\", \".\", \" It\", \" is\", \" so\", \" fun\", \"!\"], \"right_text\": [\"My\", \" friend\", \" was\", \" right\", \" about\", \" this\", \" class\", \".\", \" It\", \" is\", \" so\", \" fun\", \"!\"]}], \"default_filter\": \"0\", \"display_mode\": \"dark\", \"root_div_id\": \"bertviz-e03eb1f01ea246b6bb38607ababf177c\", \"include_layers\": [0, 1, 2, 3, 4, 5, 6, 7, 8, 9, 10, 11], \"include_heads\": [0, 1, 2, 3, 4, 5, 6, 7, 8, 9, 10, 11], \"total_heads\": 12} is a template marker that is replaced by actual params.\n",
              "        const config = {};\n",
              "\n",
              "        const MIN_X = 0;\n",
              "        const MIN_Y = 0;\n",
              "        const DIV_WIDTH = 970;\n",
              "        const THUMBNAIL_PADDING = 5;\n",
              "        const DETAIL_WIDTH = 300;\n",
              "        const DETAIL_ATTENTION_WIDTH = 140;\n",
              "        const DETAIL_BOX_WIDTH = 80;\n",
              "        const DETAIL_BOX_HEIGHT = 18;\n",
              "        const DETAIL_PADDING = 15;\n",
              "        const ATTN_PADDING = 0;\n",
              "        const DETAIL_HEADING_HEIGHT = 25;\n",
              "        const HEADING_TEXT_SIZE = 15;\n",
              "        const HEADING_PADDING = 5;\n",
              "        const TEXT_SIZE = 13;\n",
              "        const TEXT_PADDING = 5;\n",
              "        const LAYER_COLORS = d3.schemeCategory10;\n",
              "        const PALETTE = {\n",
              "            'light': {\n",
              "                'text': 'black',\n",
              "                'background': 'white',\n",
              "                'highlight': '#F5F5F5'\n",
              "            },\n",
              "            'dark': {\n",
              "                'text': '#ccc',\n",
              "                'background': 'black',\n",
              "                'highlight': '#222'\n",
              "            }\n",
              "        }\n",
              "\n",
              "        function render() {\n",
              "\n",
              "            // Set global state variables\n",
              "\n",
              "            var attData = config.attention[config.filter];\n",
              "            config.leftText = attData.left_text;\n",
              "            config.rightText = attData.right_text;\n",
              "            config.attn = attData.attn;\n",
              "            config.numLayers = config.attn.length;\n",
              "            config.numHeads = config.attn[0].length;\n",
              "            config.thumbnailBoxHeight = 7 * (12 / config.totalHeads);\n",
              "            const axisSize = HEADING_TEXT_SIZE + HEADING_PADDING + TEXT_SIZE + TEXT_PADDING;\n",
              "            config.thumbnailHeight = Math.max(config.leftText.length, config.rightText.length) * config.thumbnailBoxHeight + 2 * THUMBNAIL_PADDING;\n",
              "            config.thumbnailWidth = (DIV_WIDTH - axisSize) / config.totalHeads;\n",
              "            config.detailHeight = Math.max(config.leftText.length, config.rightText.length) * DETAIL_BOX_HEIGHT + 2 * DETAIL_PADDING + DETAIL_HEADING_HEIGHT;\n",
              "            config.divHeight = Math.max(config.numLayers * config.thumbnailHeight + axisSize, config.detailHeight);\n",
              "\n",
              "            const vis = $(`#${config.rootDivId} #vis`)\n",
              "            vis.empty();\n",
              "            vis.attr(\"height\", config.divHeight);\n",
              "            config.svg = d3.select(`#${config.rootDivId} #vis`)\n",
              "                .append('svg')\n",
              "                .attr(\"width\", DIV_WIDTH)\n",
              "                .attr(\"height\", config.divHeight)\n",
              "                .attr(\"fill\", getBackgroundColor());\n",
              "\n",
              "            renderAxisLabels();\n",
              "\n",
              "            var i;\n",
              "            var j;\n",
              "            for (i = 0; i < config.numLayers; i++) {\n",
              "                for (j = 0; j < config.numHeads; j++) {\n",
              "                    renderThumbnail(i, j);\n",
              "                }\n",
              "            }\n",
              "        }\n",
              "\n",
              "        function renderAxisLabels() {\n",
              "            const axisSize = HEADING_TEXT_SIZE + HEADING_PADDING + TEXT_SIZE + TEXT_PADDING;\n",
              "            const tableWidth = config.thumbnailWidth * config.heads.length;\n",
              "            config.svg.append(\"text\")\n",
              "                .text(\"Heads\")\n",
              "                .attr(\"fill\", \"black\")\n",
              "                .attr(\"font-weight\", \"bold\")\n",
              "                .attr(\"font-size\", HEADING_TEXT_SIZE + \"px\")\n",
              "                .attr(\"x\", axisSize + tableWidth / 2)\n",
              "                .attr(\"text-anchor\", \"middle\")\n",
              "                .attr(\"y\", 0)\n",
              "                .attr(\"dy\", HEADING_TEXT_SIZE);\n",
              "            for (let i = 0; i < config.numHeads; i++) {\n",
              "                config.svg.append(\"text\")\n",
              "                    .text(config.heads[i])\n",
              "                    .attr(\"fill\", \"black\")\n",
              "                    .attr(\"font-size\", TEXT_SIZE + \"px\")\n",
              "                    .attr(\"x\", axisSize + (i + .5) * config.thumbnailWidth)\n",
              "                    .attr(\"text-anchor\", \"middle\")\n",
              "                    .attr(\"y\", HEADING_TEXT_SIZE + HEADING_PADDING)\n",
              "                    .attr(\"dy\", TEXT_SIZE);\n",
              "            }\n",
              "            let x = 0;\n",
              "            let y = axisSize + config.thumbnailHeight * config.layers.length / 2;\n",
              "            console.log(\"x\", x, y)\n",
              "            config.svg.append(\"text\")\n",
              "                .text(\"Layers\")\n",
              "                .attr(\"fill\", \"black\")\n",
              "                .attr(\"font-weight\", \"bold\")\n",
              "                .attr(\"transform\", \"rotate(270, \" + x  + \", \" + y + \")\")\n",
              "                .attr(\"font-size\", HEADING_TEXT_SIZE + \"px\")\n",
              "                .attr(\"x\", x)\n",
              "                .attr(\"text-anchor\", \"middle\")\n",
              "                .attr(\"y\", y)\n",
              "                .attr(\"dy\", HEADING_TEXT_SIZE);\n",
              "            for (let i = 0; i < config.numLayers; i++) {\n",
              "                x = HEADING_TEXT_SIZE + HEADING_PADDING + TEXT_SIZE; // HACK\n",
              "                y = axisSize + (i + .5) * config.thumbnailHeight;\n",
              "                config.svg.append(\"text\")\n",
              "                    .text(config.layers[i])\n",
              "                    .attr(\"fill\", \"black\")\n",
              "                    .attr(\"font-size\", TEXT_SIZE + \"px\")\n",
              "                    .attr(\"x\", x)\n",
              "                    .attr(\"text-anchor\", \"end\")\n",
              "                    .attr(\"y\", y)\n",
              "                    .attr(\"dy\", TEXT_SIZE / 2);\n",
              "            }\n",
              "        }\n",
              "\n",
              "\n",
              "        function renderThumbnail(layerIndex, headIndex) {\n",
              "            const axisSize = HEADING_TEXT_SIZE + HEADING_PADDING + TEXT_SIZE + TEXT_PADDING\n",
              "            const x = headIndex * config.thumbnailWidth + axisSize;\n",
              "            const y = layerIndex * config.thumbnailHeight + axisSize;\n",
              "            renderThumbnailAttn(x, y, config.attn[layerIndex][headIndex], layerIndex, headIndex);\n",
              "        }\n",
              "\n",
              "        function renderDetail(att, layerIndex, headIndex) {\n",
              "            const axisSize = TEXT_SIZE + HEADING_PADDING + TEXT_SIZE + TEXT_PADDING;\n",
              "            var xOffset = .8 * config.thumbnailWidth;\n",
              "            var maxX = DIV_WIDTH;\n",
              "            var maxY = config.divHeight - 3;\n",
              "            var leftPos = axisSize + headIndex * config.thumbnailWidth;\n",
              "            var x = leftPos + THUMBNAIL_PADDING + xOffset;\n",
              "            if (x < MIN_X) {\n",
              "                x = MIN_X;\n",
              "            } else if (x + DETAIL_WIDTH > maxX) {\n",
              "                x = leftPos + THUMBNAIL_PADDING - DETAIL_WIDTH + 8;\n",
              "            }\n",
              "            var posLeftText = x;\n",
              "            var posAttention = posLeftText + DETAIL_BOX_WIDTH;\n",
              "            var posRightText = posAttention + DETAIL_ATTENTION_WIDTH;\n",
              "            var thumbnailHeight = Math.max(config.leftText.length, config.rightText.length) * config.thumbnailBoxHeight + 2 * THUMBNAIL_PADDING;\n",
              "            var yOffset = 20;\n",
              "            var y = layerIndex * thumbnailHeight + THUMBNAIL_PADDING + yOffset;\n",
              "            if (y < MIN_Y) {\n",
              "                y = MIN_Y;\n",
              "            } else if (y + config.detailHeight > maxY) {\n",
              "                y = maxY - config.detailHeight;\n",
              "            }\n",
              "            renderDetailFrame(x, y, layerIndex);\n",
              "            y = y + DETAIL_PADDING;\n",
              "            renderDetailHeading(x, y, layerIndex, headIndex);\n",
              "            y = y + DETAIL_HEADING_HEIGHT;\n",
              "            renderDetailText(config.leftText, \"leftText\", posLeftText, y , layerIndex);\n",
              "            renderDetailAttn(posAttention, y, att, layerIndex, headIndex);\n",
              "            renderDetailText(config.rightText, \"rightText\", posRightText, y, layerIndex);\n",
              "        }\n",
              "\n",
              "        function renderDetailHeading(x, y, layerIndex, headIndex) {\n",
              "            var fillColor = getTextColor();\n",
              "            config.svg.append(\"text\")\n",
              "                .classed(\"detail\", true)\n",
              "                .text('Layer ' + config.layers[layerIndex] + \", Head \" + config.heads[headIndex])\n",
              "                .attr(\"font-size\", TEXT_SIZE + \"px\")\n",
              "                .attr(\"font-weight\", \"bold\")\n",
              "                .style(\"cursor\", \"default\")\n",
              "                .style(\"-webkit-user-select\", \"none\")\n",
              "                .attr(\"fill\", fillColor)\n",
              "                .attr(\"x\", x + DETAIL_WIDTH / 2)\n",
              "                .attr(\"text-anchor\", \"middle\")\n",
              "                .attr(\"y\", y)\n",
              "                .attr(\"height\", DETAIL_HEADING_HEIGHT)\n",
              "                .attr(\"width\", DETAIL_WIDTH)\n",
              "                .attr(\"dy\", HEADING_TEXT_SIZE);\n",
              "        }\n",
              "\n",
              "        function renderDetailText(text, id, x, y, layerIndex) {\n",
              "            var tokenContainer = config.svg.append(\"svg:g\")\n",
              "                .classed(\"detail\", true)\n",
              "                .selectAll(\"g\")\n",
              "                .data(text)\n",
              "                .enter()\n",
              "                .append(\"g\");\n",
              "\n",
              "            var fillColor = getTextColor();\n",
              "\n",
              "            tokenContainer.append(\"rect\")\n",
              "                .classed(\"highlight\", true)\n",
              "                .attr(\"fill\", fillColor)\n",
              "                .style(\"opacity\", 0.0)\n",
              "                .attr(\"height\", DETAIL_BOX_HEIGHT)\n",
              "                .attr(\"width\", DETAIL_BOX_WIDTH)\n",
              "                .attr(\"x\", x)\n",
              "                .attr(\"y\", function (d, i) {\n",
              "                    return y + i * DETAIL_BOX_HEIGHT;\n",
              "                });\n",
              "\n",
              "            var textContainer = tokenContainer.append(\"text\")\n",
              "                .classed(\"token\", true)\n",
              "                .text(function (d) {\n",
              "                    return d;\n",
              "                })\n",
              "                .attr(\"font-size\", TEXT_SIZE + \"px\")\n",
              "                .style(\"cursor\", \"default\")\n",
              "                .style(\"-webkit-user-select\", \"none\")\n",
              "                .attr(\"fill\", fillColor)\n",
              "                .attr(\"x\", x)\n",
              "                .attr(\"y\", function (d, i) {\n",
              "                    return i * DETAIL_BOX_HEIGHT + y;\n",
              "                })\n",
              "                .attr(\"height\", DETAIL_BOX_HEIGHT)\n",
              "                .attr(\"width\", DETAIL_BOX_WIDTH)\n",
              "                .attr(\"dy\", TEXT_SIZE);\n",
              "\n",
              "            if (id == \"leftText\") {\n",
              "                textContainer.style(\"text-anchor\", \"end\")\n",
              "                    .attr(\"dx\", DETAIL_BOX_WIDTH - 2);\n",
              "                tokenContainer.on(\"mouseover\", function (d, index) {\n",
              "                    highlightSelection(index);\n",
              "                });\n",
              "                tokenContainer.on(\"mouseleave\", function () {\n",
              "                    unhighlightSelection();\n",
              "                });\n",
              "            }\n",
              "        }\n",
              "\n",
              "        function highlightSelection(index) {\n",
              "            config.svg.select(\"#leftText\")\n",
              "                .selectAll(\".highlight\")\n",
              "                .style(\"opacity\", function (d, i) {\n",
              "                    return i == index ? 1.0 : 0.0;\n",
              "                });\n",
              "            config.svg.selectAll(\".attn-line-group\")\n",
              "                .style(\"opacity\", function (d, i) {\n",
              "                    return i == index ? 1.0 : 0.0;\n",
              "                });\n",
              "        }\n",
              "\n",
              "        function unhighlightSelection() {\n",
              "            config.svg.select(\"#leftText\")\n",
              "                .selectAll(\".highlight\")\n",
              "                .style(\"opacity\", 0.0);\n",
              "            config.svg.selectAll(\".attn-line-group\")\n",
              "                .style(\"opacity\", 1);\n",
              "        }\n",
              "\n",
              "        function renderThumbnailAttn(x, y, att, layerIndex, headIndex) {\n",
              "\n",
              "            var attnContainer = config.svg.append(\"svg:g\");\n",
              "\n",
              "            var attnBackground = attnContainer.append(\"rect\")\n",
              "                .attr(\"id\", 'attn_background_' + layerIndex + \"_\" + headIndex)\n",
              "                .classed(\"attn_background\", true)\n",
              "                .attr(\"x\", x)\n",
              "                .attr(\"y\", y)\n",
              "                .attr(\"height\", config.thumbnailHeight)\n",
              "                .attr(\"width\", config.thumbnailWidth)\n",
              "                .attr(\"stroke-width\", 2)\n",
              "                .attr(\"stroke\", getLayerColor(layerIndex))\n",
              "                .attr(\"stroke-opacity\", 0)\n",
              "                .attr(\"fill\", getBackgroundColor());\n",
              "            var x1 = x + THUMBNAIL_PADDING;\n",
              "            var x2 = x1 + config.thumbnailWidth - 14;\n",
              "            var y1 = y + THUMBNAIL_PADDING;\n",
              "\n",
              "            attnContainer.selectAll(\"g\")\n",
              "                .data(att)\n",
              "                .enter()\n",
              "                .append(\"g\") // Add group for each source token\n",
              "                .attr(\"source-index\", function (d, i) { // Save index of source token\n",
              "                    return i;\n",
              "                })\n",
              "                .selectAll(\"line\")\n",
              "                .data(function (d) { // Loop over all target tokens\n",
              "                    return d;\n",
              "                })\n",
              "                .enter() // When entering\n",
              "                .append(\"line\")\n",
              "                .attr(\"x1\", x1)\n",
              "                .attr(\"y1\", function (d) {\n",
              "                    var sourceIndex = +this.parentNode.getAttribute(\"source-index\");\n",
              "                    return y1 + (sourceIndex + .5) * config.thumbnailBoxHeight;\n",
              "                })\n",
              "                .attr(\"x2\", x2)\n",
              "                .attr(\"y2\", function (d, targetIndex) {\n",
              "                    return y1 + (targetIndex + .5) * config.thumbnailBoxHeight;\n",
              "                })\n",
              "                .attr(\"stroke-width\", 2.2)\n",
              "                .attr(\"stroke\", getLayerColor(layerIndex))\n",
              "                .attr(\"stroke-opacity\", function (d) {\n",
              "                    return d;\n",
              "                });\n",
              "\n",
              "            var clickRegion = attnContainer.append(\"rect\")\n",
              "                .attr(\"x\", x)\n",
              "                .attr(\"y\", y)\n",
              "                .attr(\"height\", config.thumbnailHeight)\n",
              "                .attr(\"width\", config.thumbnailWidth)\n",
              "                .style(\"opacity\", 0);\n",
              "\n",
              "            clickRegion.on(\"click\", function (d, index) {\n",
              "                var attnBackgroundOther = config.svg.selectAll(\".attn_background\");\n",
              "                attnBackgroundOther.attr(\"fill\", getBackgroundColor());\n",
              "                attnBackgroundOther.attr(\"stroke-opacity\", 0);\n",
              "\n",
              "                config.svg.selectAll(\".detail\").remove();\n",
              "                if (config.detail_layer != layerIndex || config.detail_head != headIndex) {\n",
              "                    renderDetail(att, layerIndex, headIndex);\n",
              "                    config.detail_layer = layerIndex;\n",
              "                    config.detail_head = headIndex;\n",
              "                    attnBackground.attr(\"fill\", getHighlightColor());\n",
              "                    attnBackground.attr(\"stroke-opacity\", .8);\n",
              "                } else {\n",
              "                    config.detail_layer = null;\n",
              "                    config.detail_head = null;\n",
              "                    attnBackground.attr(\"fill\", getBackgroundColor());\n",
              "                    attnBackground.attr(\"stroke-opacity\", 0);\n",
              "                }\n",
              "            });\n",
              "\n",
              "            clickRegion.on(\"mouseover\", function (d) {\n",
              "                d3.select(this).style(\"cursor\", \"pointer\");\n",
              "            });\n",
              "        }\n",
              "\n",
              "        function renderDetailFrame(x, y, layerIndex) {\n",
              "            var detailFrame = config.svg.append(\"rect\")\n",
              "                .classed(\"detail\", true)\n",
              "                .attr(\"x\", x)\n",
              "                .attr(\"y\", y)\n",
              "                .attr(\"height\", config.detailHeight)\n",
              "                .attr(\"width\", DETAIL_WIDTH)\n",
              "                .style(\"opacity\", 1)\n",
              "                .attr(\"stroke-width\", 1.5)\n",
              "                .attr(\"stroke-opacity\", 0.7)\n",
              "                .attr(\"stroke\", getLayerColor(layerIndex));\n",
              "        }\n",
              "\n",
              "        function renderDetailAttn(x, y, att, layerIndex) {\n",
              "            var attnContainer = config.svg.append(\"svg:g\")\n",
              "                .classed(\"detail\", true)\n",
              "                .attr(\"pointer-events\", \"none\");\n",
              "            attnContainer.selectAll(\"g\")\n",
              "                .data(att)\n",
              "                .enter()\n",
              "                .append(\"g\") // Add group for each source token\n",
              "                .classed('attn-line-group', true)\n",
              "                .attr(\"source-index\", function (d, i) { // Save index of source token\n",
              "                    return i;\n",
              "                })\n",
              "                .selectAll(\"line\")\n",
              "                .data(function (d) { // Loop over all target tokens\n",
              "                    return d;\n",
              "                })\n",
              "                .enter()\n",
              "                .append(\"line\")\n",
              "                .attr(\"x1\", x + ATTN_PADDING)\n",
              "                .attr(\"y1\", function (d) {\n",
              "                    var sourceIndex = +this.parentNode.getAttribute(\"source-index\");\n",
              "                    return y + (sourceIndex + .5) * DETAIL_BOX_HEIGHT;\n",
              "                })\n",
              "                .attr(\"x2\", x + DETAIL_ATTENTION_WIDTH - ATTN_PADDING)\n",
              "                .attr(\"y2\", function (d, targetIndex) {\n",
              "                    return y + (targetIndex + .5) * DETAIL_BOX_HEIGHT;\n",
              "                })\n",
              "                .attr(\"stroke-width\", 2.2)\n",
              "                .attr(\"stroke\", getLayerColor(layerIndex))\n",
              "                .attr(\"stroke-opacity\", function (d) {\n",
              "                    return d;\n",
              "                });\n",
              "        }\n",
              "\n",
              "        function getLayerColor(layer) {\n",
              "          return LAYER_COLORS[config.layers[layer] % 10];\n",
              "        }\n",
              "\n",
              "        function getTextColor() {\n",
              "            return PALETTE[config.mode]['text']\n",
              "        }\n",
              "\n",
              "        function getBackgroundColor() {\n",
              "           return PALETTE[config.mode]['background']\n",
              "        }\n",
              "\n",
              "        function getHighlightColor() {\n",
              "           return PALETTE[config.mode]['highlight']\n",
              "        }\n",
              "\n",
              "        function initialize() {\n",
              "            config.attention = params['attention'];\n",
              "            config.filter = params['default_filter'];\n",
              "            config.mode = params['display_mode'];\n",
              "            config.layers = params['include_layers']\n",
              "            config.heads = params['include_heads']\n",
              "            config.totalHeads = params['total_heads']\n",
              "            config.rootDivId = params['root_div_id'];\n",
              "            $(`#${config.rootDivId} #filter`).on('change', function (e) {\n",
              "                config.filter = e.currentTarget.value;\n",
              "                render();\n",
              "            });\n",
              "        }\n",
              "\n",
              "        initialize();\n",
              "        render();\n",
              "\n",
              "    });"
            ]
          },
          "metadata": {}
        }
      ],
      "source": [
        "tokens = tokenizer.convert_ids_to_tokens(encoded_phrase['input_ids'][0])\n",
        "model_view(response.attentions, tokens)"
      ]
    },
    {
      "cell_type": "code",
      "execution_count": null,
      "id": "77a281d7",
      "metadata": {
        "id": "77a281d7",
        "colab": {
          "base_uri": "https://localhost:8080/"
        },
        "outputId": "61732141-adb4-4611-cf26-114c5adc1ee9"
      },
      "outputs": [
        {
          "output_type": "execute_result",
          "data": {
            "text/plain": [
              "['My',\n",
              " 'Ġfriend',\n",
              " 'Ġwas',\n",
              " 'Ġright',\n",
              " 'Ġabout',\n",
              " 'Ġthis',\n",
              " 'Ġclass',\n",
              " '.',\n",
              " 'ĠIt',\n",
              " 'Ġis',\n",
              " 'Ġso',\n",
              " 'Ġfun',\n",
              " '!']"
            ]
          },
          "metadata": {},
          "execution_count": 36
        }
      ],
      "source": [
        "tokens"
      ]
    },
    {
      "cell_type": "code",
      "execution_count": null,
      "id": "b82dc780",
      "metadata": {
        "colab": {
          "base_uri": "https://localhost:8080/"
        },
        "id": "b82dc780",
        "outputId": "26f09273-5596-43fd-be88-6b0da30e9386"
      },
      "outputs": [
        {
          "output_type": "execute_result",
          "data": {
            "text/plain": [
              "torch.Size([1, 13, 768])"
            ]
          },
          "metadata": {},
          "execution_count": 37
        }
      ],
      "source": [
        "response.hidden_states[-1].shape"
      ]
    },
    {
      "cell_type": "code",
      "execution_count": null,
      "id": "3e06305a",
      "metadata": {
        "colab": {
          "base_uri": "https://localhost:8080/"
        },
        "id": "3e06305a",
        "outputId": "5faf1d83-8229-45f6-cfcd-b2bcb612444d"
      },
      "outputs": [
        {
          "output_type": "execute_result",
          "data": {
            "text/plain": [
              "torch.Size([1, 13, 50257])"
            ]
          },
          "metadata": {},
          "execution_count": 38
        }
      ],
      "source": [
        "response.logits.shape"
      ]
    },
    {
      "cell_type": "code",
      "execution_count": null,
      "id": "170c473e",
      "metadata": {
        "colab": {
          "base_uri": "https://localhost:8080/",
          "height": 457
        },
        "id": "170c473e",
        "outputId": "d7001f39-3a28-47fb-e877-f43eb51a0f57"
      },
      "outputs": [
        {
          "output_type": "execute_result",
          "data": {
            "text/plain": [
              "   Sequence up until Next token with highest probability\n",
              "0                 My                                   Ċ\n",
              "1            Ġfriend                                   ,\n",
              "2               Ġwas                                  Ġa\n",
              "3             Ġright                                   .\n",
              "4             Ġabout                               Ġthat\n",
              "5              Ġthis                                   .\n",
              "6             Ġclass                                   .\n",
              "7                  .                                  ĠI\n",
              "8                ĠIt                                  's\n",
              "9                Ġis                                  Ġa\n",
              "10               Ġso                          Ġimportant\n",
              "11              Ġfun                                 Ġto\n",
              "12                 !                                  ĠI"
            ],
            "text/html": [
              "\n",
              "  <div id=\"df-12638b30-2e88-4ebe-b66d-96784ba7d394\" class=\"colab-df-container\">\n",
              "    <div>\n",
              "<style scoped>\n",
              "    .dataframe tbody tr th:only-of-type {\n",
              "        vertical-align: middle;\n",
              "    }\n",
              "\n",
              "    .dataframe tbody tr th {\n",
              "        vertical-align: top;\n",
              "    }\n",
              "\n",
              "    .dataframe thead th {\n",
              "        text-align: right;\n",
              "    }\n",
              "</style>\n",
              "<table border=\"1\" class=\"dataframe\">\n",
              "  <thead>\n",
              "    <tr style=\"text-align: right;\">\n",
              "      <th></th>\n",
              "      <th>Sequence up until</th>\n",
              "      <th>Next token with highest probability</th>\n",
              "    </tr>\n",
              "  </thead>\n",
              "  <tbody>\n",
              "    <tr>\n",
              "      <th>0</th>\n",
              "      <td>My</td>\n",
              "      <td>Ċ</td>\n",
              "    </tr>\n",
              "    <tr>\n",
              "      <th>1</th>\n",
              "      <td>Ġfriend</td>\n",
              "      <td>,</td>\n",
              "    </tr>\n",
              "    <tr>\n",
              "      <th>2</th>\n",
              "      <td>Ġwas</td>\n",
              "      <td>Ġa</td>\n",
              "    </tr>\n",
              "    <tr>\n",
              "      <th>3</th>\n",
              "      <td>Ġright</td>\n",
              "      <td>.</td>\n",
              "    </tr>\n",
              "    <tr>\n",
              "      <th>4</th>\n",
              "      <td>Ġabout</td>\n",
              "      <td>Ġthat</td>\n",
              "    </tr>\n",
              "    <tr>\n",
              "      <th>5</th>\n",
              "      <td>Ġthis</td>\n",
              "      <td>.</td>\n",
              "    </tr>\n",
              "    <tr>\n",
              "      <th>6</th>\n",
              "      <td>Ġclass</td>\n",
              "      <td>.</td>\n",
              "    </tr>\n",
              "    <tr>\n",
              "      <th>7</th>\n",
              "      <td>.</td>\n",
              "      <td>ĠI</td>\n",
              "    </tr>\n",
              "    <tr>\n",
              "      <th>8</th>\n",
              "      <td>ĠIt</td>\n",
              "      <td>'s</td>\n",
              "    </tr>\n",
              "    <tr>\n",
              "      <th>9</th>\n",
              "      <td>Ġis</td>\n",
              "      <td>Ġa</td>\n",
              "    </tr>\n",
              "    <tr>\n",
              "      <th>10</th>\n",
              "      <td>Ġso</td>\n",
              "      <td>Ġimportant</td>\n",
              "    </tr>\n",
              "    <tr>\n",
              "      <th>11</th>\n",
              "      <td>Ġfun</td>\n",
              "      <td>Ġto</td>\n",
              "    </tr>\n",
              "    <tr>\n",
              "      <th>12</th>\n",
              "      <td>!</td>\n",
              "      <td>ĠI</td>\n",
              "    </tr>\n",
              "  </tbody>\n",
              "</table>\n",
              "</div>\n",
              "    <div class=\"colab-df-buttons\">\n",
              "\n",
              "  <div class=\"colab-df-container\">\n",
              "    <button class=\"colab-df-convert\" onclick=\"convertToInteractive('df-12638b30-2e88-4ebe-b66d-96784ba7d394')\"\n",
              "            title=\"Convert this dataframe to an interactive table.\"\n",
              "            style=\"display:none;\">\n",
              "\n",
              "  <svg xmlns=\"http://www.w3.org/2000/svg\" height=\"24px\" viewBox=\"0 -960 960 960\">\n",
              "    <path d=\"M120-120v-720h720v720H120Zm60-500h600v-160H180v160Zm220 220h160v-160H400v160Zm0 220h160v-160H400v160ZM180-400h160v-160H180v160Zm440 0h160v-160H620v160ZM180-180h160v-160H180v160Zm440 0h160v-160H620v160Z\"/>\n",
              "  </svg>\n",
              "    </button>\n",
              "\n",
              "  <style>\n",
              "    .colab-df-container {\n",
              "      display:flex;\n",
              "      gap: 12px;\n",
              "    }\n",
              "\n",
              "    .colab-df-convert {\n",
              "      background-color: #E8F0FE;\n",
              "      border: none;\n",
              "      border-radius: 50%;\n",
              "      cursor: pointer;\n",
              "      display: none;\n",
              "      fill: #1967D2;\n",
              "      height: 32px;\n",
              "      padding: 0 0 0 0;\n",
              "      width: 32px;\n",
              "    }\n",
              "\n",
              "    .colab-df-convert:hover {\n",
              "      background-color: #E2EBFA;\n",
              "      box-shadow: 0px 1px 2px rgba(60, 64, 67, 0.3), 0px 1px 3px 1px rgba(60, 64, 67, 0.15);\n",
              "      fill: #174EA6;\n",
              "    }\n",
              "\n",
              "    .colab-df-buttons div {\n",
              "      margin-bottom: 4px;\n",
              "    }\n",
              "\n",
              "    [theme=dark] .colab-df-convert {\n",
              "      background-color: #3B4455;\n",
              "      fill: #D2E3FC;\n",
              "    }\n",
              "\n",
              "    [theme=dark] .colab-df-convert:hover {\n",
              "      background-color: #434B5C;\n",
              "      box-shadow: 0px 1px 3px 1px rgba(0, 0, 0, 0.15);\n",
              "      filter: drop-shadow(0px 1px 2px rgba(0, 0, 0, 0.3));\n",
              "      fill: #FFFFFF;\n",
              "    }\n",
              "  </style>\n",
              "\n",
              "    <script>\n",
              "      const buttonEl =\n",
              "        document.querySelector('#df-12638b30-2e88-4ebe-b66d-96784ba7d394 button.colab-df-convert');\n",
              "      buttonEl.style.display =\n",
              "        google.colab.kernel.accessAllowed ? 'block' : 'none';\n",
              "\n",
              "      async function convertToInteractive(key) {\n",
              "        const element = document.querySelector('#df-12638b30-2e88-4ebe-b66d-96784ba7d394');\n",
              "        const dataTable =\n",
              "          await google.colab.kernel.invokeFunction('convertToInteractive',\n",
              "                                                    [key], {});\n",
              "        if (!dataTable) return;\n",
              "\n",
              "        const docLinkHtml = 'Like what you see? Visit the ' +\n",
              "          '<a target=\"_blank\" href=https://colab.research.google.com/notebooks/data_table.ipynb>data table notebook</a>'\n",
              "          + ' to learn more about interactive tables.';\n",
              "        element.innerHTML = '';\n",
              "        dataTable['output_type'] = 'display_data';\n",
              "        await google.colab.output.renderOutput(dataTable, element);\n",
              "        const docLink = document.createElement('div');\n",
              "        docLink.innerHTML = docLinkHtml;\n",
              "        element.appendChild(docLink);\n",
              "      }\n",
              "    </script>\n",
              "  </div>\n",
              "\n",
              "\n",
              "<div id=\"df-f8430311-f2f5-4e9b-9bc1-bdf6cc536e0a\">\n",
              "  <button class=\"colab-df-quickchart\" onclick=\"quickchart('df-f8430311-f2f5-4e9b-9bc1-bdf6cc536e0a')\"\n",
              "            title=\"Suggest charts\"\n",
              "            style=\"display:none;\">\n",
              "\n",
              "<svg xmlns=\"http://www.w3.org/2000/svg\" height=\"24px\"viewBox=\"0 0 24 24\"\n",
              "     width=\"24px\">\n",
              "    <g>\n",
              "        <path d=\"M19 3H5c-1.1 0-2 .9-2 2v14c0 1.1.9 2 2 2h14c1.1 0 2-.9 2-2V5c0-1.1-.9-2-2-2zM9 17H7v-7h2v7zm4 0h-2V7h2v10zm4 0h-2v-4h2v4z\"/>\n",
              "    </g>\n",
              "</svg>\n",
              "  </button>\n",
              "\n",
              "<style>\n",
              "  .colab-df-quickchart {\n",
              "      --bg-color: #E8F0FE;\n",
              "      --fill-color: #1967D2;\n",
              "      --hover-bg-color: #E2EBFA;\n",
              "      --hover-fill-color: #174EA6;\n",
              "      --disabled-fill-color: #AAA;\n",
              "      --disabled-bg-color: #DDD;\n",
              "  }\n",
              "\n",
              "  [theme=dark] .colab-df-quickchart {\n",
              "      --bg-color: #3B4455;\n",
              "      --fill-color: #D2E3FC;\n",
              "      --hover-bg-color: #434B5C;\n",
              "      --hover-fill-color: #FFFFFF;\n",
              "      --disabled-bg-color: #3B4455;\n",
              "      --disabled-fill-color: #666;\n",
              "  }\n",
              "\n",
              "  .colab-df-quickchart {\n",
              "    background-color: var(--bg-color);\n",
              "    border: none;\n",
              "    border-radius: 50%;\n",
              "    cursor: pointer;\n",
              "    display: none;\n",
              "    fill: var(--fill-color);\n",
              "    height: 32px;\n",
              "    padding: 0;\n",
              "    width: 32px;\n",
              "  }\n",
              "\n",
              "  .colab-df-quickchart:hover {\n",
              "    background-color: var(--hover-bg-color);\n",
              "    box-shadow: 0 1px 2px rgba(60, 64, 67, 0.3), 0 1px 3px 1px rgba(60, 64, 67, 0.15);\n",
              "    fill: var(--button-hover-fill-color);\n",
              "  }\n",
              "\n",
              "  .colab-df-quickchart-complete:disabled,\n",
              "  .colab-df-quickchart-complete:disabled:hover {\n",
              "    background-color: var(--disabled-bg-color);\n",
              "    fill: var(--disabled-fill-color);\n",
              "    box-shadow: none;\n",
              "  }\n",
              "\n",
              "  .colab-df-spinner {\n",
              "    border: 2px solid var(--fill-color);\n",
              "    border-color: transparent;\n",
              "    border-bottom-color: var(--fill-color);\n",
              "    animation:\n",
              "      spin 1s steps(1) infinite;\n",
              "  }\n",
              "\n",
              "  @keyframes spin {\n",
              "    0% {\n",
              "      border-color: transparent;\n",
              "      border-bottom-color: var(--fill-color);\n",
              "      border-left-color: var(--fill-color);\n",
              "    }\n",
              "    20% {\n",
              "      border-color: transparent;\n",
              "      border-left-color: var(--fill-color);\n",
              "      border-top-color: var(--fill-color);\n",
              "    }\n",
              "    30% {\n",
              "      border-color: transparent;\n",
              "      border-left-color: var(--fill-color);\n",
              "      border-top-color: var(--fill-color);\n",
              "      border-right-color: var(--fill-color);\n",
              "    }\n",
              "    40% {\n",
              "      border-color: transparent;\n",
              "      border-right-color: var(--fill-color);\n",
              "      border-top-color: var(--fill-color);\n",
              "    }\n",
              "    60% {\n",
              "      border-color: transparent;\n",
              "      border-right-color: var(--fill-color);\n",
              "    }\n",
              "    80% {\n",
              "      border-color: transparent;\n",
              "      border-right-color: var(--fill-color);\n",
              "      border-bottom-color: var(--fill-color);\n",
              "    }\n",
              "    90% {\n",
              "      border-color: transparent;\n",
              "      border-bottom-color: var(--fill-color);\n",
              "    }\n",
              "  }\n",
              "</style>\n",
              "\n",
              "  <script>\n",
              "    async function quickchart(key) {\n",
              "      const quickchartButtonEl =\n",
              "        document.querySelector('#' + key + ' button');\n",
              "      quickchartButtonEl.disabled = true;  // To prevent multiple clicks.\n",
              "      quickchartButtonEl.classList.add('colab-df-spinner');\n",
              "      try {\n",
              "        const charts = await google.colab.kernel.invokeFunction(\n",
              "            'suggestCharts', [key], {});\n",
              "      } catch (error) {\n",
              "        console.error('Error during call to suggestCharts:', error);\n",
              "      }\n",
              "      quickchartButtonEl.classList.remove('colab-df-spinner');\n",
              "      quickchartButtonEl.classList.add('colab-df-quickchart-complete');\n",
              "    }\n",
              "    (() => {\n",
              "      let quickchartButtonEl =\n",
              "        document.querySelector('#df-f8430311-f2f5-4e9b-9bc1-bdf6cc536e0a button');\n",
              "      quickchartButtonEl.style.display =\n",
              "        google.colab.kernel.accessAllowed ? 'block' : 'none';\n",
              "    })();\n",
              "  </script>\n",
              "</div>\n",
              "    </div>\n",
              "  </div>\n"
            ]
          },
          "metadata": {},
          "execution_count": 47
        }
      ],
      "source": [
        "pd.DataFrame( ###\n",
        "    zip(tokens, tokenizer.convert_ids_to_tokens(response.logits.argmax(2)[0])),\n",
        "    columns=['Sequence up until', 'Next token with highest probability']\n",
        ")"
      ]
    },
    {
      "cell_type": "code",
      "execution_count": null,
      "id": "8cd539ad",
      "metadata": {
        "id": "8cd539ad"
      },
      "outputs": [],
      "source": []
    },
    {
      "cell_type": "code",
      "execution_count": null,
      "id": "8e6e8b03",
      "metadata": {
        "colab": {
          "base_uri": "https://localhost:8080/"
        },
        "id": "8e6e8b03",
        "outputId": "ea62066e-6e22-4f28-840a-5ebf00f51392"
      },
      "outputs": [
        {
          "output_type": "stream",
          "name": "stderr",
          "text": [
            "Setting `pad_token_id` to `eos_token_id`:50256 for open-end generation.\n"
          ]
        },
        {
          "output_type": "execute_result",
          "data": {
            "text/plain": [
              "[{'generated_text': 'My friend was right about this class. It is so fun! I love it! I love the'}]"
            ]
          },
          "metadata": {},
          "execution_count": 35
        }
      ],
      "source": [
        "generator(phrase, max_length=20, num_return_sequences=1, do_sample=False)  # greedy search"
      ]
    },
    {
      "cell_type": "code",
      "execution_count": null,
      "id": "2fa15fa7",
      "metadata": {
        "colab": {
          "base_uri": "https://localhost:8080/"
        },
        "id": "2fa15fa7",
        "outputId": "b9d9ada1-2690-47cb-f69e-5eaf16bb69a0"
      },
      "outputs": [
        {
          "output_type": "stream",
          "name": "stderr",
          "text": [
            "Setting `pad_token_id` to `eos_token_id`:50256 for open-end generation.\n"
          ]
        },
        {
          "output_type": "execute_result",
          "data": {
            "text/plain": [
              "[{'generated_text': 'My friend was right about this class. It is so fun! Everyone is so open and you have'}]"
            ]
          },
          "metadata": {},
          "execution_count": 36
        }
      ],
      "source": [
        "generator(phrase, max_length=20, num_return_sequences=1, do_sample=True)  # greedy search with sampling"
      ]
    },
    {
      "cell_type": "code",
      "execution_count": null,
      "id": "ff934358",
      "metadata": {
        "id": "ff934358"
      },
      "outputs": [],
      "source": []
    },
    {
      "cell_type": "code",
      "execution_count": null,
      "id": "1643fc51",
      "metadata": {
        "id": "1643fc51"
      },
      "outputs": [],
      "source": []
    },
    {
      "cell_type": "markdown",
      "id": "f4616e0f",
      "metadata": {
        "id": "f4616e0f"
      },
      "source": [
        "## 7.3 Pre-training GPT"
      ]
    },
    {
      "cell_type": "code",
      "execution_count": null,
      "id": "9eee5b6a",
      "metadata": {
        "id": "9eee5b6a"
      },
      "outputs": [],
      "source": [
        "from transformers import pipeline, set_seed\n",
        "from torch import tensor\n",
        "\n",
        "generator = pipeline('text-generation', model='gpt2', tokenizer=tokenizer)\n",
        "set_seed(0)"
      ]
    },
    {
      "cell_type": "code",
      "execution_count": null,
      "id": "7768633e",
      "metadata": {
        "id": "7768633e"
      },
      "outputs": [],
      "source": []
    },
    {
      "cell_type": "code",
      "execution_count": null,
      "id": "9982bb3f",
      "metadata": {
        "colab": {
          "base_uri": "https://localhost:8080/"
        },
        "id": "9982bb3f",
        "outputId": "1cfde1ef-9b5f-4646-a1a6-5ae964530b45"
      },
      "outputs": [
        {
          "output_type": "stream",
          "name": "stderr",
          "text": [
            "Setting `pad_token_id` to `eos_token_id`:50256 for open-end generation.\n"
          ]
        },
        {
          "output_type": "execute_result",
          "data": {
            "text/plain": [
              "[{'generated_text': 'The earth is a living, breathing thing, and'},\n",
              " {'generated_text': 'The earth is a living, breathing organism. It'}]"
            ]
          },
          "metadata": {},
          "execution_count": 40
        }
      ],
      "source": [
        "# Bias\n",
        "generator(\"The earth is\", max_length=10, num_return_sequences=2, num_beams=2, temperature=0.8)"
      ]
    },
    {
      "cell_type": "code",
      "execution_count": null,
      "id": "b93acda7",
      "metadata": {
        "id": "b93acda7"
      },
      "outputs": [],
      "source": []
    },
    {
      "cell_type": "markdown",
      "id": "1ec88e66",
      "metadata": {
        "id": "1ec88e66"
      },
      "source": [
        "## 7.4 Few-shot learning"
      ]
    },
    {
      "cell_type": "code",
      "execution_count": null,
      "id": "60177cf7",
      "metadata": {
        "id": "60177cf7",
        "colab": {
          "base_uri": "https://localhost:8080/"
        },
        "outputId": "6ef2de3f-747b-448a-c97f-b816a8a4a68e"
      },
      "outputs": [
        {
          "output_type": "stream",
          "name": "stderr",
          "text": [
            "Setting `pad_token_id` to `eos_token_id`:50256 for open-end generation.\n"
          ]
        },
        {
          "output_type": "stream",
          "name": "stdout",
          "text": [
            "Sentiment Analysis\n",
            "Text: I hate it when my phone battery dies.\n",
            "Sentiment: Negative\n",
            "###\n",
            "Text: My day has been really great!\n",
            "Sentiment: Positive\n",
            "###\n",
            "Text: Not a fan when it is cloudy\n",
            "Sentiment: Negative\n",
            "\n"
          ]
        }
      ],
      "source": [
        "print(generator(\"\"\"Sentiment Analysis\n",
        "Text: I hate it when my phone battery dies.\n",
        "Sentiment: Negative\n",
        "###\n",
        "Text: My day has been really great!\n",
        "Sentiment: Positive\n",
        "###\n",
        "Text: Not a fan when it is cloudy\n",
        "Sentiment:\"\"\", top_k=2, temperature=0.1,  num_beams=2, max_length=55)[0]['generated_text'])"
      ]
    },
    {
      "cell_type": "code",
      "execution_count": null,
      "id": "d239b93a",
      "metadata": {
        "id": "d239b93a",
        "colab": {
          "base_uri": "https://localhost:8080/"
        },
        "outputId": "011aebe5-cff2-4ad6-e9a9-14c9dec506df"
      },
      "outputs": [
        {
          "output_type": "stream",
          "name": "stderr",
          "text": [
            "Setting `pad_token_id` to `eos_token_id`:50256 for open-end generation.\n"
          ]
        },
        {
          "output_type": "stream",
          "name": "stdout",
          "text": [
            "Question/Answering\n",
            "C: Google was founded in 1998 by Larry Page and Sergey Brin while they were Ph.D. students at Stanford University in California. Together they own about 14 percent of its shares and control 56 percent of the stockholder voting power through supervoting stock.\n",
            "Q: When was Google founded?\n",
            "A: 1998\n",
            "###\n",
            "C: Hugging Face is a company which develops social AI-run chatbot applications. It was established in 2016 by Clement Delangue and Julien Chaumond. The company is based in Brooklyn, New York, United States.\n",
            "Q: What does Hugging Face develop?\n",
            "A: social AI-run chatbot applications\n",
            "###\n",
            "C: The New York Jets are a professional American football team based in the New York metropolitan area. The Jets compete in the National Football League (NFL) as a member club of the league's American Football Conference (AFC) East division.\n",
            "Q: What division do the Jets play in?\n",
            "A: The AFC East\n",
            "###\n",
            "C:\n"
          ]
        }
      ],
      "source": [
        "print(generator(\"\"\"Question/Answering\n",
        "C: Google was founded in 1998 by Larry Page and Sergey Brin while they were Ph.D. students at Stanford University in California. Together they own about 14 percent of its shares and control 56 percent of the stockholder voting power through supervoting stock.\n",
        "Q: When was Google founded?\n",
        "A: 1998\n",
        "###\n",
        "C: Hugging Face is a company which develops social AI-run chatbot applications. It was established in 2016 by Clement Delangue and Julien Chaumond. The company is based in Brooklyn, New York, United States.\n",
        "Q: What does Hugging Face develop?\n",
        "A: social AI-run chatbot applications\n",
        "###\n",
        "C: The New York Jets are a professional American football team based in the New York metropolitan area. The Jets compete in the National Football League (NFL) as a member club of the league's American Football Conference (AFC) East division.\n",
        "Q: What division do the Jets play in?\n",
        "A:\"\"\", top_k=2,  max_length=215,  num_beams=2, temperature=0.5)[0]['generated_text'])\n"
      ]
    },
    {
      "cell_type": "code",
      "execution_count": null,
      "id": "982e0492",
      "metadata": {
        "id": "982e0492"
      },
      "outputs": [],
      "source": [
        "## Zero Shot Learning"
      ]
    },
    {
      "cell_type": "code",
      "execution_count": null,
      "id": "11c405c8",
      "metadata": {
        "id": "11c405c8",
        "colab": {
          "base_uri": "https://localhost:8080/"
        },
        "outputId": "cf89ff1b-7881-417f-a80e-c475a038b475"
      },
      "outputs": [
        {
          "output_type": "stream",
          "name": "stderr",
          "text": [
            "Setting `pad_token_id` to `eos_token_id`:50256 for open-end generation.\n"
          ]
        },
        {
          "output_type": "stream",
          "name": "stdout",
          "text": [
            "Question/Answering\n",
            "C: The New York Jets are a professional American football team based in the New York metropolitan area. The Jets compete in the National Football League (NFL) as a member club of the league's American Football Conference (AFC) East division.\n",
            "Q: What division do the Jets play in?\n",
            "A: The Jets play in the AFC East, which is the\n"
          ]
        }
      ],
      "source": [
        "# Same question as before, with no previous examples ie Zero-shot learning. Still works\n",
        "print(generator(\n",
        "    '''Question/Answering\n",
        "C: The New York Jets are a professional American football team based in the New York metropolitan area. The Jets compete in the National Football League (NFL) as a member club of the league's American Football Conference (AFC) East division.\n",
        "Q: What division do the Jets play in?\n",
        "A:''',\n",
        "    top_k=2, max_length=80,  num_beams=2, temperature=0.5)[0]['generated_text']\n",
        ")"
      ]
    },
    {
      "cell_type": "code",
      "execution_count": null,
      "id": "4338c6e2",
      "metadata": {
        "id": "4338c6e2",
        "colab": {
          "base_uri": "https://localhost:8080/"
        },
        "outputId": "8c2228a3-6931-4d38-ab47-5685ee869b06"
      },
      "outputs": [
        {
          "output_type": "stream",
          "name": "stderr",
          "text": [
            "Setting `pad_token_id` to `eos_token_id`:50256 for open-end generation.\n"
          ]
        },
        {
          "output_type": "stream",
          "name": "stdout",
          "text": [
            "Sentiment Analysis\n",
            "Text: This new music video was so good\n",
            "Sentiment: I'm so glad you liked it\n",
            "Sentiment: I'm so glad you liked it\n",
            "Sentiment: I'm so glad you liked it\n",
            "Sentiment: I'm so glad you\n"
          ]
        }
      ],
      "source": [
        "# Zero-shot doesn't work as much with the sentiment analysis example\n",
        "print(generator(\"\"\"Sentiment Analysis\n",
        "Text: This new music video was so good\n",
        "Sentiment:\"\"\", top_k=2, temperature=0.1,  num_beams=2, max_length=55)[0]['generated_text'])"
      ]
    },
    {
      "cell_type": "code",
      "execution_count": null,
      "id": "2749594b",
      "metadata": {
        "id": "2749594b"
      },
      "outputs": [],
      "source": []
    },
    {
      "cell_type": "code",
      "execution_count": null,
      "id": "7f678731",
      "metadata": {
        "id": "7f678731"
      },
      "outputs": [],
      "source": [
        "# Zero-shot abstractive summarization"
      ]
    },
    {
      "cell_type": "code",
      "execution_count": null,
      "id": "2090aa0e",
      "metadata": {
        "id": "2090aa0e"
      },
      "outputs": [],
      "source": [
        "to_summarize = \"\"\"This training will focus on how the GPT family of models are used for NLP tasks including abstractive text summarization and natural language generation. The training will begin with an introduction to necessary concepts including masked self attention, language models, and transformers and then build on those concepts to introduce the GPT architecture. We will then move into how GPT is used for multiple natural language processing tasks with hands-on examples of using pre-trained GPT-2 models as well as fine-tuning these models on custom corpora.\n",
        "\n",
        "GPT models are some of the most relevant NLP architectures today and it is closely related to other important NLP deep learning models like BERT. Both of these models are derived from the newly invented transformer architecture and represent an inflection point in how machines process language and context.\n",
        "\n",
        "The Natural Language Processing with Next-Generation Transformer Architectures series of online trainings provides a comprehensive overview of state-of-the-art natural language processing (NLP) models including GPT and BERT which are derived from the modern attention-driven transformer architecture and the applications these models are used to solve today. All of the trainings in the series blend theory and application through the combination of visual mathematical explanations, straightforward applicable Python examples within hands-on Jupyter notebook demos, and comprehensive case studies featuring modern problems solvable by NLP models. (Note that at any given time, only a subset of these classes will be scheduled and open for registration.)\"\"\""
      ]
    },
    {
      "cell_type": "code",
      "execution_count": null,
      "id": "f76b05b1",
      "metadata": {
        "id": "f76b05b1",
        "colab": {
          "base_uri": "https://localhost:8080/"
        },
        "outputId": "93c55843-86c8-4472-934c-f8f625da4bad"
      },
      "outputs": [
        {
          "output_type": "stream",
          "name": "stderr",
          "text": [
            "Setting `pad_token_id` to `eos_token_id`:50256 for open-end generation.\n"
          ]
        },
        {
          "output_type": "stream",
          "name": "stdout",
          "text": [
            "Summarization Task:\n",
            "This training will focus on how the GPT family of models are used for NLP tasks including abstractive text summarization and natural language generation. The training will begin with an introduction to necessary concepts including masked self attention, language models, and transformers and then build on those concepts to introduce the GPT architecture. We will then move into how GPT is used for multiple natural language processing tasks with hands-on examples of using pre-trained GPT-2 models as well as fine-tuning these models on custom corpora.\n",
            "\n",
            "GPT models are some of the most relevant NLP architectures today and it is closely related to other important NLP deep learning models like BERT. Both of these models are derived from the newly invented transformer architecture and represent an inflection point in how machines process language and context.\n",
            "\n",
            "The Natural Language Processing with Next-Generation Transformer Architectures series of online trainings provides a comprehensive overview of state-of-the-art natural language processing (NLP) models including GPT and BERT which are derived from the modern attention-driven transformer architecture and the applications these models are used to solve today. All of the trainings in the series blend theory and application through the combination of visual mathematical explanations, straightforward applicable Python examples within hands-on Jupyter notebook demos, and comprehensive case studies featuring modern problems solvable by NLP models. (Note that at any given time, only a subset of these classes will be scheduled and open for registration.)\n",
            "TL;DR: The trainers will learn how to use a basic NPP architecture to create a model of a language, a context, or a data set. Each trainee will also learn the basic concepts of NPT, BPT/GTP, GTP-1, NTP/NTP2, PPT1/PTP3, RPT2/RPT3 and RTP4. These trainees will have a solid grounding in NPS architecture, which is a key part of GPP and NPL.\n"
          ]
        }
      ],
      "source": [
        "print(generator(\n",
        "    f\"\"\"Summarization Task:\\n{to_summarize}\\nTL;DR:\"\"\",\n",
        "    max_length=512, top_k=5, temperature=0.5, no_repeat_ngram_size=2\n",
        ")[0]['generated_text'])\n"
      ]
    },
    {
      "cell_type": "code",
      "execution_count": null,
      "id": "dfa3f4cf",
      "metadata": {
        "id": "dfa3f4cf"
      },
      "outputs": [],
      "source": []
    }
  ],
  "metadata": {
    "kernelspec": {
      "display_name": "Python 3",
      "name": "python3"
    },
    "language_info": {
      "codemirror_mode": {
        "name": "ipython",
        "version": 3
      },
      "file_extension": ".py",
      "mimetype": "text/x-python",
      "name": "python",
      "nbconvert_exporter": "python",
      "pygments_lexer": "ipython3",
      "version": "3.9.10"
    },
    "colab": {
      "provenance": [],
      "collapsed_sections": [
        "f4616e0f",
        "1ec88e66"
      ],
      "include_colab_link": true
    },
    "widgets": {
      "application/vnd.jupyter.widget-state+json": {
        "78fc6192cda84c20afb11833e777fed9": {
          "model_module": "@jupyter-widgets/controls",
          "model_name": "HBoxModel",
          "model_module_version": "1.5.0",
          "state": {
            "_dom_classes": [],
            "_model_module": "@jupyter-widgets/controls",
            "_model_module_version": "1.5.0",
            "_model_name": "HBoxModel",
            "_view_count": null,
            "_view_module": "@jupyter-widgets/controls",
            "_view_module_version": "1.5.0",
            "_view_name": "HBoxView",
            "box_style": "",
            "children": [
              "IPY_MODEL_734a582b72994f1986b1d3a4fca36ebf",
              "IPY_MODEL_3228556d4cbc4156abb49f638ea96ea9",
              "IPY_MODEL_de75bf7763e948178be5b817caf263e1"
            ],
            "layout": "IPY_MODEL_9c9301327c3b414fb8aed837c7188bda"
          }
        },
        "734a582b72994f1986b1d3a4fca36ebf": {
          "model_module": "@jupyter-widgets/controls",
          "model_name": "HTMLModel",
          "model_module_version": "1.5.0",
          "state": {
            "_dom_classes": [],
            "_model_module": "@jupyter-widgets/controls",
            "_model_module_version": "1.5.0",
            "_model_name": "HTMLModel",
            "_view_count": null,
            "_view_module": "@jupyter-widgets/controls",
            "_view_module_version": "1.5.0",
            "_view_name": "HTMLView",
            "description": "",
            "description_tooltip": null,
            "layout": "IPY_MODEL_256a6cafed89421f903e3eec3e5111f4",
            "placeholder": "​",
            "style": "IPY_MODEL_aa28fbd5804b4dffa63ef87e5fcd03b7",
            "value": "Downloading (…)lve/main/config.json: 100%"
          }
        },
        "3228556d4cbc4156abb49f638ea96ea9": {
          "model_module": "@jupyter-widgets/controls",
          "model_name": "FloatProgressModel",
          "model_module_version": "1.5.0",
          "state": {
            "_dom_classes": [],
            "_model_module": "@jupyter-widgets/controls",
            "_model_module_version": "1.5.0",
            "_model_name": "FloatProgressModel",
            "_view_count": null,
            "_view_module": "@jupyter-widgets/controls",
            "_view_module_version": "1.5.0",
            "_view_name": "ProgressView",
            "bar_style": "success",
            "description": "",
            "description_tooltip": null,
            "layout": "IPY_MODEL_116741c7eae74b6486d0cf15b050c6aa",
            "max": 665,
            "min": 0,
            "orientation": "horizontal",
            "style": "IPY_MODEL_998471ad42d14db1b152e067e8f6773b",
            "value": 665
          }
        },
        "de75bf7763e948178be5b817caf263e1": {
          "model_module": "@jupyter-widgets/controls",
          "model_name": "HTMLModel",
          "model_module_version": "1.5.0",
          "state": {
            "_dom_classes": [],
            "_model_module": "@jupyter-widgets/controls",
            "_model_module_version": "1.5.0",
            "_model_name": "HTMLModel",
            "_view_count": null,
            "_view_module": "@jupyter-widgets/controls",
            "_view_module_version": "1.5.0",
            "_view_name": "HTMLView",
            "description": "",
            "description_tooltip": null,
            "layout": "IPY_MODEL_b0ea6cf946d747f5a89726ac6966febe",
            "placeholder": "​",
            "style": "IPY_MODEL_6b4954a45b204989ac52e5a5ce092f35",
            "value": " 665/665 [00:00&lt;00:00, 36.6kB/s]"
          }
        },
        "9c9301327c3b414fb8aed837c7188bda": {
          "model_module": "@jupyter-widgets/base",
          "model_name": "LayoutModel",
          "model_module_version": "1.2.0",
          "state": {
            "_model_module": "@jupyter-widgets/base",
            "_model_module_version": "1.2.0",
            "_model_name": "LayoutModel",
            "_view_count": null,
            "_view_module": "@jupyter-widgets/base",
            "_view_module_version": "1.2.0",
            "_view_name": "LayoutView",
            "align_content": null,
            "align_items": null,
            "align_self": null,
            "border": null,
            "bottom": null,
            "display": null,
            "flex": null,
            "flex_flow": null,
            "grid_area": null,
            "grid_auto_columns": null,
            "grid_auto_flow": null,
            "grid_auto_rows": null,
            "grid_column": null,
            "grid_gap": null,
            "grid_row": null,
            "grid_template_areas": null,
            "grid_template_columns": null,
            "grid_template_rows": null,
            "height": null,
            "justify_content": null,
            "justify_items": null,
            "left": null,
            "margin": null,
            "max_height": null,
            "max_width": null,
            "min_height": null,
            "min_width": null,
            "object_fit": null,
            "object_position": null,
            "order": null,
            "overflow": null,
            "overflow_x": null,
            "overflow_y": null,
            "padding": null,
            "right": null,
            "top": null,
            "visibility": null,
            "width": null
          }
        },
        "256a6cafed89421f903e3eec3e5111f4": {
          "model_module": "@jupyter-widgets/base",
          "model_name": "LayoutModel",
          "model_module_version": "1.2.0",
          "state": {
            "_model_module": "@jupyter-widgets/base",
            "_model_module_version": "1.2.0",
            "_model_name": "LayoutModel",
            "_view_count": null,
            "_view_module": "@jupyter-widgets/base",
            "_view_module_version": "1.2.0",
            "_view_name": "LayoutView",
            "align_content": null,
            "align_items": null,
            "align_self": null,
            "border": null,
            "bottom": null,
            "display": null,
            "flex": null,
            "flex_flow": null,
            "grid_area": null,
            "grid_auto_columns": null,
            "grid_auto_flow": null,
            "grid_auto_rows": null,
            "grid_column": null,
            "grid_gap": null,
            "grid_row": null,
            "grid_template_areas": null,
            "grid_template_columns": null,
            "grid_template_rows": null,
            "height": null,
            "justify_content": null,
            "justify_items": null,
            "left": null,
            "margin": null,
            "max_height": null,
            "max_width": null,
            "min_height": null,
            "min_width": null,
            "object_fit": null,
            "object_position": null,
            "order": null,
            "overflow": null,
            "overflow_x": null,
            "overflow_y": null,
            "padding": null,
            "right": null,
            "top": null,
            "visibility": null,
            "width": null
          }
        },
        "aa28fbd5804b4dffa63ef87e5fcd03b7": {
          "model_module": "@jupyter-widgets/controls",
          "model_name": "DescriptionStyleModel",
          "model_module_version": "1.5.0",
          "state": {
            "_model_module": "@jupyter-widgets/controls",
            "_model_module_version": "1.5.0",
            "_model_name": "DescriptionStyleModel",
            "_view_count": null,
            "_view_module": "@jupyter-widgets/base",
            "_view_module_version": "1.2.0",
            "_view_name": "StyleView",
            "description_width": ""
          }
        },
        "116741c7eae74b6486d0cf15b050c6aa": {
          "model_module": "@jupyter-widgets/base",
          "model_name": "LayoutModel",
          "model_module_version": "1.2.0",
          "state": {
            "_model_module": "@jupyter-widgets/base",
            "_model_module_version": "1.2.0",
            "_model_name": "LayoutModel",
            "_view_count": null,
            "_view_module": "@jupyter-widgets/base",
            "_view_module_version": "1.2.0",
            "_view_name": "LayoutView",
            "align_content": null,
            "align_items": null,
            "align_self": null,
            "border": null,
            "bottom": null,
            "display": null,
            "flex": null,
            "flex_flow": null,
            "grid_area": null,
            "grid_auto_columns": null,
            "grid_auto_flow": null,
            "grid_auto_rows": null,
            "grid_column": null,
            "grid_gap": null,
            "grid_row": null,
            "grid_template_areas": null,
            "grid_template_columns": null,
            "grid_template_rows": null,
            "height": null,
            "justify_content": null,
            "justify_items": null,
            "left": null,
            "margin": null,
            "max_height": null,
            "max_width": null,
            "min_height": null,
            "min_width": null,
            "object_fit": null,
            "object_position": null,
            "order": null,
            "overflow": null,
            "overflow_x": null,
            "overflow_y": null,
            "padding": null,
            "right": null,
            "top": null,
            "visibility": null,
            "width": null
          }
        },
        "998471ad42d14db1b152e067e8f6773b": {
          "model_module": "@jupyter-widgets/controls",
          "model_name": "ProgressStyleModel",
          "model_module_version": "1.5.0",
          "state": {
            "_model_module": "@jupyter-widgets/controls",
            "_model_module_version": "1.5.0",
            "_model_name": "ProgressStyleModel",
            "_view_count": null,
            "_view_module": "@jupyter-widgets/base",
            "_view_module_version": "1.2.0",
            "_view_name": "StyleView",
            "bar_color": null,
            "description_width": ""
          }
        },
        "b0ea6cf946d747f5a89726ac6966febe": {
          "model_module": "@jupyter-widgets/base",
          "model_name": "LayoutModel",
          "model_module_version": "1.2.0",
          "state": {
            "_model_module": "@jupyter-widgets/base",
            "_model_module_version": "1.2.0",
            "_model_name": "LayoutModel",
            "_view_count": null,
            "_view_module": "@jupyter-widgets/base",
            "_view_module_version": "1.2.0",
            "_view_name": "LayoutView",
            "align_content": null,
            "align_items": null,
            "align_self": null,
            "border": null,
            "bottom": null,
            "display": null,
            "flex": null,
            "flex_flow": null,
            "grid_area": null,
            "grid_auto_columns": null,
            "grid_auto_flow": null,
            "grid_auto_rows": null,
            "grid_column": null,
            "grid_gap": null,
            "grid_row": null,
            "grid_template_areas": null,
            "grid_template_columns": null,
            "grid_template_rows": null,
            "height": null,
            "justify_content": null,
            "justify_items": null,
            "left": null,
            "margin": null,
            "max_height": null,
            "max_width": null,
            "min_height": null,
            "min_width": null,
            "object_fit": null,
            "object_position": null,
            "order": null,
            "overflow": null,
            "overflow_x": null,
            "overflow_y": null,
            "padding": null,
            "right": null,
            "top": null,
            "visibility": null,
            "width": null
          }
        },
        "6b4954a45b204989ac52e5a5ce092f35": {
          "model_module": "@jupyter-widgets/controls",
          "model_name": "DescriptionStyleModel",
          "model_module_version": "1.5.0",
          "state": {
            "_model_module": "@jupyter-widgets/controls",
            "_model_module_version": "1.5.0",
            "_model_name": "DescriptionStyleModel",
            "_view_count": null,
            "_view_module": "@jupyter-widgets/base",
            "_view_module_version": "1.2.0",
            "_view_name": "StyleView",
            "description_width": ""
          }
        },
        "d28b14576c4c4bd2967cd1ea7476b0d8": {
          "model_module": "@jupyter-widgets/controls",
          "model_name": "HBoxModel",
          "model_module_version": "1.5.0",
          "state": {
            "_dom_classes": [],
            "_model_module": "@jupyter-widgets/controls",
            "_model_module_version": "1.5.0",
            "_model_name": "HBoxModel",
            "_view_count": null,
            "_view_module": "@jupyter-widgets/controls",
            "_view_module_version": "1.5.0",
            "_view_name": "HBoxView",
            "box_style": "",
            "children": [
              "IPY_MODEL_7484386577334529a2da30c18dd1a272",
              "IPY_MODEL_dff0bd2f1cb04efcbc69958d39d8c616",
              "IPY_MODEL_9fe7509a04f6402daa96f5fafca6f171"
            ],
            "layout": "IPY_MODEL_09f41a2ccb734021a00fbd71b7963c3e"
          }
        },
        "7484386577334529a2da30c18dd1a272": {
          "model_module": "@jupyter-widgets/controls",
          "model_name": "HTMLModel",
          "model_module_version": "1.5.0",
          "state": {
            "_dom_classes": [],
            "_model_module": "@jupyter-widgets/controls",
            "_model_module_version": "1.5.0",
            "_model_name": "HTMLModel",
            "_view_count": null,
            "_view_module": "@jupyter-widgets/controls",
            "_view_module_version": "1.5.0",
            "_view_name": "HTMLView",
            "description": "",
            "description_tooltip": null,
            "layout": "IPY_MODEL_ca435a6d820f480b9ce705d057865254",
            "placeholder": "​",
            "style": "IPY_MODEL_23e551fd53114345bb4f7a850b677c0d",
            "value": "Downloading model.safetensors: 100%"
          }
        },
        "dff0bd2f1cb04efcbc69958d39d8c616": {
          "model_module": "@jupyter-widgets/controls",
          "model_name": "FloatProgressModel",
          "model_module_version": "1.5.0",
          "state": {
            "_dom_classes": [],
            "_model_module": "@jupyter-widgets/controls",
            "_model_module_version": "1.5.0",
            "_model_name": "FloatProgressModel",
            "_view_count": null,
            "_view_module": "@jupyter-widgets/controls",
            "_view_module_version": "1.5.0",
            "_view_name": "ProgressView",
            "bar_style": "success",
            "description": "",
            "description_tooltip": null,
            "layout": "IPY_MODEL_98736f97f7e44f7e87f2e065b4a769bc",
            "max": 548105171,
            "min": 0,
            "orientation": "horizontal",
            "style": "IPY_MODEL_bb5546a2327a40fdb653304afa13e820",
            "value": 548105171
          }
        },
        "9fe7509a04f6402daa96f5fafca6f171": {
          "model_module": "@jupyter-widgets/controls",
          "model_name": "HTMLModel",
          "model_module_version": "1.5.0",
          "state": {
            "_dom_classes": [],
            "_model_module": "@jupyter-widgets/controls",
            "_model_module_version": "1.5.0",
            "_model_name": "HTMLModel",
            "_view_count": null,
            "_view_module": "@jupyter-widgets/controls",
            "_view_module_version": "1.5.0",
            "_view_name": "HTMLView",
            "description": "",
            "description_tooltip": null,
            "layout": "IPY_MODEL_ae15cf952a5e47219276237455be59e2",
            "placeholder": "​",
            "style": "IPY_MODEL_0e0fcc75d9fb4f62980a846fa5eeef84",
            "value": " 548M/548M [00:05&lt;00:00, 107MB/s]"
          }
        },
        "09f41a2ccb734021a00fbd71b7963c3e": {
          "model_module": "@jupyter-widgets/base",
          "model_name": "LayoutModel",
          "model_module_version": "1.2.0",
          "state": {
            "_model_module": "@jupyter-widgets/base",
            "_model_module_version": "1.2.0",
            "_model_name": "LayoutModel",
            "_view_count": null,
            "_view_module": "@jupyter-widgets/base",
            "_view_module_version": "1.2.0",
            "_view_name": "LayoutView",
            "align_content": null,
            "align_items": null,
            "align_self": null,
            "border": null,
            "bottom": null,
            "display": null,
            "flex": null,
            "flex_flow": null,
            "grid_area": null,
            "grid_auto_columns": null,
            "grid_auto_flow": null,
            "grid_auto_rows": null,
            "grid_column": null,
            "grid_gap": null,
            "grid_row": null,
            "grid_template_areas": null,
            "grid_template_columns": null,
            "grid_template_rows": null,
            "height": null,
            "justify_content": null,
            "justify_items": null,
            "left": null,
            "margin": null,
            "max_height": null,
            "max_width": null,
            "min_height": null,
            "min_width": null,
            "object_fit": null,
            "object_position": null,
            "order": null,
            "overflow": null,
            "overflow_x": null,
            "overflow_y": null,
            "padding": null,
            "right": null,
            "top": null,
            "visibility": null,
            "width": null
          }
        },
        "ca435a6d820f480b9ce705d057865254": {
          "model_module": "@jupyter-widgets/base",
          "model_name": "LayoutModel",
          "model_module_version": "1.2.0",
          "state": {
            "_model_module": "@jupyter-widgets/base",
            "_model_module_version": "1.2.0",
            "_model_name": "LayoutModel",
            "_view_count": null,
            "_view_module": "@jupyter-widgets/base",
            "_view_module_version": "1.2.0",
            "_view_name": "LayoutView",
            "align_content": null,
            "align_items": null,
            "align_self": null,
            "border": null,
            "bottom": null,
            "display": null,
            "flex": null,
            "flex_flow": null,
            "grid_area": null,
            "grid_auto_columns": null,
            "grid_auto_flow": null,
            "grid_auto_rows": null,
            "grid_column": null,
            "grid_gap": null,
            "grid_row": null,
            "grid_template_areas": null,
            "grid_template_columns": null,
            "grid_template_rows": null,
            "height": null,
            "justify_content": null,
            "justify_items": null,
            "left": null,
            "margin": null,
            "max_height": null,
            "max_width": null,
            "min_height": null,
            "min_width": null,
            "object_fit": null,
            "object_position": null,
            "order": null,
            "overflow": null,
            "overflow_x": null,
            "overflow_y": null,
            "padding": null,
            "right": null,
            "top": null,
            "visibility": null,
            "width": null
          }
        },
        "23e551fd53114345bb4f7a850b677c0d": {
          "model_module": "@jupyter-widgets/controls",
          "model_name": "DescriptionStyleModel",
          "model_module_version": "1.5.0",
          "state": {
            "_model_module": "@jupyter-widgets/controls",
            "_model_module_version": "1.5.0",
            "_model_name": "DescriptionStyleModel",
            "_view_count": null,
            "_view_module": "@jupyter-widgets/base",
            "_view_module_version": "1.2.0",
            "_view_name": "StyleView",
            "description_width": ""
          }
        },
        "98736f97f7e44f7e87f2e065b4a769bc": {
          "model_module": "@jupyter-widgets/base",
          "model_name": "LayoutModel",
          "model_module_version": "1.2.0",
          "state": {
            "_model_module": "@jupyter-widgets/base",
            "_model_module_version": "1.2.0",
            "_model_name": "LayoutModel",
            "_view_count": null,
            "_view_module": "@jupyter-widgets/base",
            "_view_module_version": "1.2.0",
            "_view_name": "LayoutView",
            "align_content": null,
            "align_items": null,
            "align_self": null,
            "border": null,
            "bottom": null,
            "display": null,
            "flex": null,
            "flex_flow": null,
            "grid_area": null,
            "grid_auto_columns": null,
            "grid_auto_flow": null,
            "grid_auto_rows": null,
            "grid_column": null,
            "grid_gap": null,
            "grid_row": null,
            "grid_template_areas": null,
            "grid_template_columns": null,
            "grid_template_rows": null,
            "height": null,
            "justify_content": null,
            "justify_items": null,
            "left": null,
            "margin": null,
            "max_height": null,
            "max_width": null,
            "min_height": null,
            "min_width": null,
            "object_fit": null,
            "object_position": null,
            "order": null,
            "overflow": null,
            "overflow_x": null,
            "overflow_y": null,
            "padding": null,
            "right": null,
            "top": null,
            "visibility": null,
            "width": null
          }
        },
        "bb5546a2327a40fdb653304afa13e820": {
          "model_module": "@jupyter-widgets/controls",
          "model_name": "ProgressStyleModel",
          "model_module_version": "1.5.0",
          "state": {
            "_model_module": "@jupyter-widgets/controls",
            "_model_module_version": "1.5.0",
            "_model_name": "ProgressStyleModel",
            "_view_count": null,
            "_view_module": "@jupyter-widgets/base",
            "_view_module_version": "1.2.0",
            "_view_name": "StyleView",
            "bar_color": null,
            "description_width": ""
          }
        },
        "ae15cf952a5e47219276237455be59e2": {
          "model_module": "@jupyter-widgets/base",
          "model_name": "LayoutModel",
          "model_module_version": "1.2.0",
          "state": {
            "_model_module": "@jupyter-widgets/base",
            "_model_module_version": "1.2.0",
            "_model_name": "LayoutModel",
            "_view_count": null,
            "_view_module": "@jupyter-widgets/base",
            "_view_module_version": "1.2.0",
            "_view_name": "LayoutView",
            "align_content": null,
            "align_items": null,
            "align_self": null,
            "border": null,
            "bottom": null,
            "display": null,
            "flex": null,
            "flex_flow": null,
            "grid_area": null,
            "grid_auto_columns": null,
            "grid_auto_flow": null,
            "grid_auto_rows": null,
            "grid_column": null,
            "grid_gap": null,
            "grid_row": null,
            "grid_template_areas": null,
            "grid_template_columns": null,
            "grid_template_rows": null,
            "height": null,
            "justify_content": null,
            "justify_items": null,
            "left": null,
            "margin": null,
            "max_height": null,
            "max_width": null,
            "min_height": null,
            "min_width": null,
            "object_fit": null,
            "object_position": null,
            "order": null,
            "overflow": null,
            "overflow_x": null,
            "overflow_y": null,
            "padding": null,
            "right": null,
            "top": null,
            "visibility": null,
            "width": null
          }
        },
        "0e0fcc75d9fb4f62980a846fa5eeef84": {
          "model_module": "@jupyter-widgets/controls",
          "model_name": "DescriptionStyleModel",
          "model_module_version": "1.5.0",
          "state": {
            "_model_module": "@jupyter-widgets/controls",
            "_model_module_version": "1.5.0",
            "_model_name": "DescriptionStyleModel",
            "_view_count": null,
            "_view_module": "@jupyter-widgets/base",
            "_view_module_version": "1.2.0",
            "_view_name": "StyleView",
            "description_width": ""
          }
        },
        "6281b92eccaf440f81aac19c24764441": {
          "model_module": "@jupyter-widgets/controls",
          "model_name": "HBoxModel",
          "model_module_version": "1.5.0",
          "state": {
            "_dom_classes": [],
            "_model_module": "@jupyter-widgets/controls",
            "_model_module_version": "1.5.0",
            "_model_name": "HBoxModel",
            "_view_count": null,
            "_view_module": "@jupyter-widgets/controls",
            "_view_module_version": "1.5.0",
            "_view_name": "HBoxView",
            "box_style": "",
            "children": [
              "IPY_MODEL_caacc86303f64916bc6a31740e7afd55",
              "IPY_MODEL_0e48d4391a684009886fe89a75dc290e",
              "IPY_MODEL_00c4437568e34ad1a2f0fdcb542c4a0a"
            ],
            "layout": "IPY_MODEL_66bde2c7e08642a499bfc859e3ca67b3"
          }
        },
        "caacc86303f64916bc6a31740e7afd55": {
          "model_module": "@jupyter-widgets/controls",
          "model_name": "HTMLModel",
          "model_module_version": "1.5.0",
          "state": {
            "_dom_classes": [],
            "_model_module": "@jupyter-widgets/controls",
            "_model_module_version": "1.5.0",
            "_model_name": "HTMLModel",
            "_view_count": null,
            "_view_module": "@jupyter-widgets/controls",
            "_view_module_version": "1.5.0",
            "_view_name": "HTMLView",
            "description": "",
            "description_tooltip": null,
            "layout": "IPY_MODEL_28026fa3aea44f3ca58cb1426d610692",
            "placeholder": "​",
            "style": "IPY_MODEL_4b12ade972ab46f2b17135d805b0cd08",
            "value": "Downloading (…)neration_config.json: 100%"
          }
        },
        "0e48d4391a684009886fe89a75dc290e": {
          "model_module": "@jupyter-widgets/controls",
          "model_name": "FloatProgressModel",
          "model_module_version": "1.5.0",
          "state": {
            "_dom_classes": [],
            "_model_module": "@jupyter-widgets/controls",
            "_model_module_version": "1.5.0",
            "_model_name": "FloatProgressModel",
            "_view_count": null,
            "_view_module": "@jupyter-widgets/controls",
            "_view_module_version": "1.5.0",
            "_view_name": "ProgressView",
            "bar_style": "success",
            "description": "",
            "description_tooltip": null,
            "layout": "IPY_MODEL_006d2697b70a40bd8fc8f1c6520555ec",
            "max": 124,
            "min": 0,
            "orientation": "horizontal",
            "style": "IPY_MODEL_720525df1fb54a828262439169c73021",
            "value": 124
          }
        },
        "00c4437568e34ad1a2f0fdcb542c4a0a": {
          "model_module": "@jupyter-widgets/controls",
          "model_name": "HTMLModel",
          "model_module_version": "1.5.0",
          "state": {
            "_dom_classes": [],
            "_model_module": "@jupyter-widgets/controls",
            "_model_module_version": "1.5.0",
            "_model_name": "HTMLModel",
            "_view_count": null,
            "_view_module": "@jupyter-widgets/controls",
            "_view_module_version": "1.5.0",
            "_view_name": "HTMLView",
            "description": "",
            "description_tooltip": null,
            "layout": "IPY_MODEL_3b3d202f1fbe4518991f4eecdb554971",
            "placeholder": "​",
            "style": "IPY_MODEL_78ac7af189544cbc9d8c0b164ff09e27",
            "value": " 124/124 [00:00&lt;00:00, 2.19kB/s]"
          }
        },
        "66bde2c7e08642a499bfc859e3ca67b3": {
          "model_module": "@jupyter-widgets/base",
          "model_name": "LayoutModel",
          "model_module_version": "1.2.0",
          "state": {
            "_model_module": "@jupyter-widgets/base",
            "_model_module_version": "1.2.0",
            "_model_name": "LayoutModel",
            "_view_count": null,
            "_view_module": "@jupyter-widgets/base",
            "_view_module_version": "1.2.0",
            "_view_name": "LayoutView",
            "align_content": null,
            "align_items": null,
            "align_self": null,
            "border": null,
            "bottom": null,
            "display": null,
            "flex": null,
            "flex_flow": null,
            "grid_area": null,
            "grid_auto_columns": null,
            "grid_auto_flow": null,
            "grid_auto_rows": null,
            "grid_column": null,
            "grid_gap": null,
            "grid_row": null,
            "grid_template_areas": null,
            "grid_template_columns": null,
            "grid_template_rows": null,
            "height": null,
            "justify_content": null,
            "justify_items": null,
            "left": null,
            "margin": null,
            "max_height": null,
            "max_width": null,
            "min_height": null,
            "min_width": null,
            "object_fit": null,
            "object_position": null,
            "order": null,
            "overflow": null,
            "overflow_x": null,
            "overflow_y": null,
            "padding": null,
            "right": null,
            "top": null,
            "visibility": null,
            "width": null
          }
        },
        "28026fa3aea44f3ca58cb1426d610692": {
          "model_module": "@jupyter-widgets/base",
          "model_name": "LayoutModel",
          "model_module_version": "1.2.0",
          "state": {
            "_model_module": "@jupyter-widgets/base",
            "_model_module_version": "1.2.0",
            "_model_name": "LayoutModel",
            "_view_count": null,
            "_view_module": "@jupyter-widgets/base",
            "_view_module_version": "1.2.0",
            "_view_name": "LayoutView",
            "align_content": null,
            "align_items": null,
            "align_self": null,
            "border": null,
            "bottom": null,
            "display": null,
            "flex": null,
            "flex_flow": null,
            "grid_area": null,
            "grid_auto_columns": null,
            "grid_auto_flow": null,
            "grid_auto_rows": null,
            "grid_column": null,
            "grid_gap": null,
            "grid_row": null,
            "grid_template_areas": null,
            "grid_template_columns": null,
            "grid_template_rows": null,
            "height": null,
            "justify_content": null,
            "justify_items": null,
            "left": null,
            "margin": null,
            "max_height": null,
            "max_width": null,
            "min_height": null,
            "min_width": null,
            "object_fit": null,
            "object_position": null,
            "order": null,
            "overflow": null,
            "overflow_x": null,
            "overflow_y": null,
            "padding": null,
            "right": null,
            "top": null,
            "visibility": null,
            "width": null
          }
        },
        "4b12ade972ab46f2b17135d805b0cd08": {
          "model_module": "@jupyter-widgets/controls",
          "model_name": "DescriptionStyleModel",
          "model_module_version": "1.5.0",
          "state": {
            "_model_module": "@jupyter-widgets/controls",
            "_model_module_version": "1.5.0",
            "_model_name": "DescriptionStyleModel",
            "_view_count": null,
            "_view_module": "@jupyter-widgets/base",
            "_view_module_version": "1.2.0",
            "_view_name": "StyleView",
            "description_width": ""
          }
        },
        "006d2697b70a40bd8fc8f1c6520555ec": {
          "model_module": "@jupyter-widgets/base",
          "model_name": "LayoutModel",
          "model_module_version": "1.2.0",
          "state": {
            "_model_module": "@jupyter-widgets/base",
            "_model_module_version": "1.2.0",
            "_model_name": "LayoutModel",
            "_view_count": null,
            "_view_module": "@jupyter-widgets/base",
            "_view_module_version": "1.2.0",
            "_view_name": "LayoutView",
            "align_content": null,
            "align_items": null,
            "align_self": null,
            "border": null,
            "bottom": null,
            "display": null,
            "flex": null,
            "flex_flow": null,
            "grid_area": null,
            "grid_auto_columns": null,
            "grid_auto_flow": null,
            "grid_auto_rows": null,
            "grid_column": null,
            "grid_gap": null,
            "grid_row": null,
            "grid_template_areas": null,
            "grid_template_columns": null,
            "grid_template_rows": null,
            "height": null,
            "justify_content": null,
            "justify_items": null,
            "left": null,
            "margin": null,
            "max_height": null,
            "max_width": null,
            "min_height": null,
            "min_width": null,
            "object_fit": null,
            "object_position": null,
            "order": null,
            "overflow": null,
            "overflow_x": null,
            "overflow_y": null,
            "padding": null,
            "right": null,
            "top": null,
            "visibility": null,
            "width": null
          }
        },
        "720525df1fb54a828262439169c73021": {
          "model_module": "@jupyter-widgets/controls",
          "model_name": "ProgressStyleModel",
          "model_module_version": "1.5.0",
          "state": {
            "_model_module": "@jupyter-widgets/controls",
            "_model_module_version": "1.5.0",
            "_model_name": "ProgressStyleModel",
            "_view_count": null,
            "_view_module": "@jupyter-widgets/base",
            "_view_module_version": "1.2.0",
            "_view_name": "StyleView",
            "bar_color": null,
            "description_width": ""
          }
        },
        "3b3d202f1fbe4518991f4eecdb554971": {
          "model_module": "@jupyter-widgets/base",
          "model_name": "LayoutModel",
          "model_module_version": "1.2.0",
          "state": {
            "_model_module": "@jupyter-widgets/base",
            "_model_module_version": "1.2.0",
            "_model_name": "LayoutModel",
            "_view_count": null,
            "_view_module": "@jupyter-widgets/base",
            "_view_module_version": "1.2.0",
            "_view_name": "LayoutView",
            "align_content": null,
            "align_items": null,
            "align_self": null,
            "border": null,
            "bottom": null,
            "display": null,
            "flex": null,
            "flex_flow": null,
            "grid_area": null,
            "grid_auto_columns": null,
            "grid_auto_flow": null,
            "grid_auto_rows": null,
            "grid_column": null,
            "grid_gap": null,
            "grid_row": null,
            "grid_template_areas": null,
            "grid_template_columns": null,
            "grid_template_rows": null,
            "height": null,
            "justify_content": null,
            "justify_items": null,
            "left": null,
            "margin": null,
            "max_height": null,
            "max_width": null,
            "min_height": null,
            "min_width": null,
            "object_fit": null,
            "object_position": null,
            "order": null,
            "overflow": null,
            "overflow_x": null,
            "overflow_y": null,
            "padding": null,
            "right": null,
            "top": null,
            "visibility": null,
            "width": null
          }
        },
        "78ac7af189544cbc9d8c0b164ff09e27": {
          "model_module": "@jupyter-widgets/controls",
          "model_name": "DescriptionStyleModel",
          "model_module_version": "1.5.0",
          "state": {
            "_model_module": "@jupyter-widgets/controls",
            "_model_module_version": "1.5.0",
            "_model_name": "DescriptionStyleModel",
            "_view_count": null,
            "_view_module": "@jupyter-widgets/base",
            "_view_module_version": "1.2.0",
            "_view_name": "StyleView",
            "description_width": ""
          }
        },
        "650f68480b6c414e84f49e07ab7824bf": {
          "model_module": "@jupyter-widgets/controls",
          "model_name": "HBoxModel",
          "model_module_version": "1.5.0",
          "state": {
            "_dom_classes": [],
            "_model_module": "@jupyter-widgets/controls",
            "_model_module_version": "1.5.0",
            "_model_name": "HBoxModel",
            "_view_count": null,
            "_view_module": "@jupyter-widgets/controls",
            "_view_module_version": "1.5.0",
            "_view_name": "HBoxView",
            "box_style": "",
            "children": [
              "IPY_MODEL_ca8db43be15c4f7da770f870e3a03d97",
              "IPY_MODEL_54cd03c23e934472b315eab4ed035d12",
              "IPY_MODEL_24fd640f73274e2c95040e430f16989b"
            ],
            "layout": "IPY_MODEL_3949506089484fabab4a496139f32936"
          }
        },
        "ca8db43be15c4f7da770f870e3a03d97": {
          "model_module": "@jupyter-widgets/controls",
          "model_name": "HTMLModel",
          "model_module_version": "1.5.0",
          "state": {
            "_dom_classes": [],
            "_model_module": "@jupyter-widgets/controls",
            "_model_module_version": "1.5.0",
            "_model_name": "HTMLModel",
            "_view_count": null,
            "_view_module": "@jupyter-widgets/controls",
            "_view_module_version": "1.5.0",
            "_view_name": "HTMLView",
            "description": "",
            "description_tooltip": null,
            "layout": "IPY_MODEL_78956e5212a140d484e975f645691f94",
            "placeholder": "​",
            "style": "IPY_MODEL_d254d8b264c149c3addb524c5e27e97e",
            "value": "Downloading (…)olve/main/vocab.json: 100%"
          }
        },
        "54cd03c23e934472b315eab4ed035d12": {
          "model_module": "@jupyter-widgets/controls",
          "model_name": "FloatProgressModel",
          "model_module_version": "1.5.0",
          "state": {
            "_dom_classes": [],
            "_model_module": "@jupyter-widgets/controls",
            "_model_module_version": "1.5.0",
            "_model_name": "FloatProgressModel",
            "_view_count": null,
            "_view_module": "@jupyter-widgets/controls",
            "_view_module_version": "1.5.0",
            "_view_name": "ProgressView",
            "bar_style": "success",
            "description": "",
            "description_tooltip": null,
            "layout": "IPY_MODEL_f4bd697d0aec41d58a09efbfbbb35768",
            "max": 1042301,
            "min": 0,
            "orientation": "horizontal",
            "style": "IPY_MODEL_e424454aa89f471280f8d81b1a778d35",
            "value": 1042301
          }
        },
        "24fd640f73274e2c95040e430f16989b": {
          "model_module": "@jupyter-widgets/controls",
          "model_name": "HTMLModel",
          "model_module_version": "1.5.0",
          "state": {
            "_dom_classes": [],
            "_model_module": "@jupyter-widgets/controls",
            "_model_module_version": "1.5.0",
            "_model_name": "HTMLModel",
            "_view_count": null,
            "_view_module": "@jupyter-widgets/controls",
            "_view_module_version": "1.5.0",
            "_view_name": "HTMLView",
            "description": "",
            "description_tooltip": null,
            "layout": "IPY_MODEL_e28f291df49f4351a16d827e2d575d32",
            "placeholder": "​",
            "style": "IPY_MODEL_d14e3b56bfe9415ab3d3f8ddd82330e9",
            "value": " 1.04M/1.04M [00:00&lt;00:00, 3.07MB/s]"
          }
        },
        "3949506089484fabab4a496139f32936": {
          "model_module": "@jupyter-widgets/base",
          "model_name": "LayoutModel",
          "model_module_version": "1.2.0",
          "state": {
            "_model_module": "@jupyter-widgets/base",
            "_model_module_version": "1.2.0",
            "_model_name": "LayoutModel",
            "_view_count": null,
            "_view_module": "@jupyter-widgets/base",
            "_view_module_version": "1.2.0",
            "_view_name": "LayoutView",
            "align_content": null,
            "align_items": null,
            "align_self": null,
            "border": null,
            "bottom": null,
            "display": null,
            "flex": null,
            "flex_flow": null,
            "grid_area": null,
            "grid_auto_columns": null,
            "grid_auto_flow": null,
            "grid_auto_rows": null,
            "grid_column": null,
            "grid_gap": null,
            "grid_row": null,
            "grid_template_areas": null,
            "grid_template_columns": null,
            "grid_template_rows": null,
            "height": null,
            "justify_content": null,
            "justify_items": null,
            "left": null,
            "margin": null,
            "max_height": null,
            "max_width": null,
            "min_height": null,
            "min_width": null,
            "object_fit": null,
            "object_position": null,
            "order": null,
            "overflow": null,
            "overflow_x": null,
            "overflow_y": null,
            "padding": null,
            "right": null,
            "top": null,
            "visibility": null,
            "width": null
          }
        },
        "78956e5212a140d484e975f645691f94": {
          "model_module": "@jupyter-widgets/base",
          "model_name": "LayoutModel",
          "model_module_version": "1.2.0",
          "state": {
            "_model_module": "@jupyter-widgets/base",
            "_model_module_version": "1.2.0",
            "_model_name": "LayoutModel",
            "_view_count": null,
            "_view_module": "@jupyter-widgets/base",
            "_view_module_version": "1.2.0",
            "_view_name": "LayoutView",
            "align_content": null,
            "align_items": null,
            "align_self": null,
            "border": null,
            "bottom": null,
            "display": null,
            "flex": null,
            "flex_flow": null,
            "grid_area": null,
            "grid_auto_columns": null,
            "grid_auto_flow": null,
            "grid_auto_rows": null,
            "grid_column": null,
            "grid_gap": null,
            "grid_row": null,
            "grid_template_areas": null,
            "grid_template_columns": null,
            "grid_template_rows": null,
            "height": null,
            "justify_content": null,
            "justify_items": null,
            "left": null,
            "margin": null,
            "max_height": null,
            "max_width": null,
            "min_height": null,
            "min_width": null,
            "object_fit": null,
            "object_position": null,
            "order": null,
            "overflow": null,
            "overflow_x": null,
            "overflow_y": null,
            "padding": null,
            "right": null,
            "top": null,
            "visibility": null,
            "width": null
          }
        },
        "d254d8b264c149c3addb524c5e27e97e": {
          "model_module": "@jupyter-widgets/controls",
          "model_name": "DescriptionStyleModel",
          "model_module_version": "1.5.0",
          "state": {
            "_model_module": "@jupyter-widgets/controls",
            "_model_module_version": "1.5.0",
            "_model_name": "DescriptionStyleModel",
            "_view_count": null,
            "_view_module": "@jupyter-widgets/base",
            "_view_module_version": "1.2.0",
            "_view_name": "StyleView",
            "description_width": ""
          }
        },
        "f4bd697d0aec41d58a09efbfbbb35768": {
          "model_module": "@jupyter-widgets/base",
          "model_name": "LayoutModel",
          "model_module_version": "1.2.0",
          "state": {
            "_model_module": "@jupyter-widgets/base",
            "_model_module_version": "1.2.0",
            "_model_name": "LayoutModel",
            "_view_count": null,
            "_view_module": "@jupyter-widgets/base",
            "_view_module_version": "1.2.0",
            "_view_name": "LayoutView",
            "align_content": null,
            "align_items": null,
            "align_self": null,
            "border": null,
            "bottom": null,
            "display": null,
            "flex": null,
            "flex_flow": null,
            "grid_area": null,
            "grid_auto_columns": null,
            "grid_auto_flow": null,
            "grid_auto_rows": null,
            "grid_column": null,
            "grid_gap": null,
            "grid_row": null,
            "grid_template_areas": null,
            "grid_template_columns": null,
            "grid_template_rows": null,
            "height": null,
            "justify_content": null,
            "justify_items": null,
            "left": null,
            "margin": null,
            "max_height": null,
            "max_width": null,
            "min_height": null,
            "min_width": null,
            "object_fit": null,
            "object_position": null,
            "order": null,
            "overflow": null,
            "overflow_x": null,
            "overflow_y": null,
            "padding": null,
            "right": null,
            "top": null,
            "visibility": null,
            "width": null
          }
        },
        "e424454aa89f471280f8d81b1a778d35": {
          "model_module": "@jupyter-widgets/controls",
          "model_name": "ProgressStyleModel",
          "model_module_version": "1.5.0",
          "state": {
            "_model_module": "@jupyter-widgets/controls",
            "_model_module_version": "1.5.0",
            "_model_name": "ProgressStyleModel",
            "_view_count": null,
            "_view_module": "@jupyter-widgets/base",
            "_view_module_version": "1.2.0",
            "_view_name": "StyleView",
            "bar_color": null,
            "description_width": ""
          }
        },
        "e28f291df49f4351a16d827e2d575d32": {
          "model_module": "@jupyter-widgets/base",
          "model_name": "LayoutModel",
          "model_module_version": "1.2.0",
          "state": {
            "_model_module": "@jupyter-widgets/base",
            "_model_module_version": "1.2.0",
            "_model_name": "LayoutModel",
            "_view_count": null,
            "_view_module": "@jupyter-widgets/base",
            "_view_module_version": "1.2.0",
            "_view_name": "LayoutView",
            "align_content": null,
            "align_items": null,
            "align_self": null,
            "border": null,
            "bottom": null,
            "display": null,
            "flex": null,
            "flex_flow": null,
            "grid_area": null,
            "grid_auto_columns": null,
            "grid_auto_flow": null,
            "grid_auto_rows": null,
            "grid_column": null,
            "grid_gap": null,
            "grid_row": null,
            "grid_template_areas": null,
            "grid_template_columns": null,
            "grid_template_rows": null,
            "height": null,
            "justify_content": null,
            "justify_items": null,
            "left": null,
            "margin": null,
            "max_height": null,
            "max_width": null,
            "min_height": null,
            "min_width": null,
            "object_fit": null,
            "object_position": null,
            "order": null,
            "overflow": null,
            "overflow_x": null,
            "overflow_y": null,
            "padding": null,
            "right": null,
            "top": null,
            "visibility": null,
            "width": null
          }
        },
        "d14e3b56bfe9415ab3d3f8ddd82330e9": {
          "model_module": "@jupyter-widgets/controls",
          "model_name": "DescriptionStyleModel",
          "model_module_version": "1.5.0",
          "state": {
            "_model_module": "@jupyter-widgets/controls",
            "_model_module_version": "1.5.0",
            "_model_name": "DescriptionStyleModel",
            "_view_count": null,
            "_view_module": "@jupyter-widgets/base",
            "_view_module_version": "1.2.0",
            "_view_name": "StyleView",
            "description_width": ""
          }
        },
        "23a4132255ac472d9d21d2cd822f6fd4": {
          "model_module": "@jupyter-widgets/controls",
          "model_name": "HBoxModel",
          "model_module_version": "1.5.0",
          "state": {
            "_dom_classes": [],
            "_model_module": "@jupyter-widgets/controls",
            "_model_module_version": "1.5.0",
            "_model_name": "HBoxModel",
            "_view_count": null,
            "_view_module": "@jupyter-widgets/controls",
            "_view_module_version": "1.5.0",
            "_view_name": "HBoxView",
            "box_style": "",
            "children": [
              "IPY_MODEL_45a362b999b941c18a64c33a4fcc9ee8",
              "IPY_MODEL_6c55de071a71439790de1cd4a3b89128",
              "IPY_MODEL_719fc9a5329b42fe8e0ae37e626ac577"
            ],
            "layout": "IPY_MODEL_31f08f463d124f0da5de15d7a5a69ea4"
          }
        },
        "45a362b999b941c18a64c33a4fcc9ee8": {
          "model_module": "@jupyter-widgets/controls",
          "model_name": "HTMLModel",
          "model_module_version": "1.5.0",
          "state": {
            "_dom_classes": [],
            "_model_module": "@jupyter-widgets/controls",
            "_model_module_version": "1.5.0",
            "_model_name": "HTMLModel",
            "_view_count": null,
            "_view_module": "@jupyter-widgets/controls",
            "_view_module_version": "1.5.0",
            "_view_name": "HTMLView",
            "description": "",
            "description_tooltip": null,
            "layout": "IPY_MODEL_6016ee6f7cba454a860035975c9c92c0",
            "placeholder": "​",
            "style": "IPY_MODEL_18c4b389e92b47cea95b2e8b0381a2b7",
            "value": "Downloading (…)olve/main/merges.txt: 100%"
          }
        },
        "6c55de071a71439790de1cd4a3b89128": {
          "model_module": "@jupyter-widgets/controls",
          "model_name": "FloatProgressModel",
          "model_module_version": "1.5.0",
          "state": {
            "_dom_classes": [],
            "_model_module": "@jupyter-widgets/controls",
            "_model_module_version": "1.5.0",
            "_model_name": "FloatProgressModel",
            "_view_count": null,
            "_view_module": "@jupyter-widgets/controls",
            "_view_module_version": "1.5.0",
            "_view_name": "ProgressView",
            "bar_style": "success",
            "description": "",
            "description_tooltip": null,
            "layout": "IPY_MODEL_b97451e2e6284b6a819e121fc16b255a",
            "max": 456318,
            "min": 0,
            "orientation": "horizontal",
            "style": "IPY_MODEL_5545143bac4048f0aab9e52fad09bdf8",
            "value": 456318
          }
        },
        "719fc9a5329b42fe8e0ae37e626ac577": {
          "model_module": "@jupyter-widgets/controls",
          "model_name": "HTMLModel",
          "model_module_version": "1.5.0",
          "state": {
            "_dom_classes": [],
            "_model_module": "@jupyter-widgets/controls",
            "_model_module_version": "1.5.0",
            "_model_name": "HTMLModel",
            "_view_count": null,
            "_view_module": "@jupyter-widgets/controls",
            "_view_module_version": "1.5.0",
            "_view_name": "HTMLView",
            "description": "",
            "description_tooltip": null,
            "layout": "IPY_MODEL_01f754a5d84941b29cd61f9c26050702",
            "placeholder": "​",
            "style": "IPY_MODEL_95f27dc37b01478f86eb95b7c3cdcf94",
            "value": " 456k/456k [00:00&lt;00:00, 6.08MB/s]"
          }
        },
        "31f08f463d124f0da5de15d7a5a69ea4": {
          "model_module": "@jupyter-widgets/base",
          "model_name": "LayoutModel",
          "model_module_version": "1.2.0",
          "state": {
            "_model_module": "@jupyter-widgets/base",
            "_model_module_version": "1.2.0",
            "_model_name": "LayoutModel",
            "_view_count": null,
            "_view_module": "@jupyter-widgets/base",
            "_view_module_version": "1.2.0",
            "_view_name": "LayoutView",
            "align_content": null,
            "align_items": null,
            "align_self": null,
            "border": null,
            "bottom": null,
            "display": null,
            "flex": null,
            "flex_flow": null,
            "grid_area": null,
            "grid_auto_columns": null,
            "grid_auto_flow": null,
            "grid_auto_rows": null,
            "grid_column": null,
            "grid_gap": null,
            "grid_row": null,
            "grid_template_areas": null,
            "grid_template_columns": null,
            "grid_template_rows": null,
            "height": null,
            "justify_content": null,
            "justify_items": null,
            "left": null,
            "margin": null,
            "max_height": null,
            "max_width": null,
            "min_height": null,
            "min_width": null,
            "object_fit": null,
            "object_position": null,
            "order": null,
            "overflow": null,
            "overflow_x": null,
            "overflow_y": null,
            "padding": null,
            "right": null,
            "top": null,
            "visibility": null,
            "width": null
          }
        },
        "6016ee6f7cba454a860035975c9c92c0": {
          "model_module": "@jupyter-widgets/base",
          "model_name": "LayoutModel",
          "model_module_version": "1.2.0",
          "state": {
            "_model_module": "@jupyter-widgets/base",
            "_model_module_version": "1.2.0",
            "_model_name": "LayoutModel",
            "_view_count": null,
            "_view_module": "@jupyter-widgets/base",
            "_view_module_version": "1.2.0",
            "_view_name": "LayoutView",
            "align_content": null,
            "align_items": null,
            "align_self": null,
            "border": null,
            "bottom": null,
            "display": null,
            "flex": null,
            "flex_flow": null,
            "grid_area": null,
            "grid_auto_columns": null,
            "grid_auto_flow": null,
            "grid_auto_rows": null,
            "grid_column": null,
            "grid_gap": null,
            "grid_row": null,
            "grid_template_areas": null,
            "grid_template_columns": null,
            "grid_template_rows": null,
            "height": null,
            "justify_content": null,
            "justify_items": null,
            "left": null,
            "margin": null,
            "max_height": null,
            "max_width": null,
            "min_height": null,
            "min_width": null,
            "object_fit": null,
            "object_position": null,
            "order": null,
            "overflow": null,
            "overflow_x": null,
            "overflow_y": null,
            "padding": null,
            "right": null,
            "top": null,
            "visibility": null,
            "width": null
          }
        },
        "18c4b389e92b47cea95b2e8b0381a2b7": {
          "model_module": "@jupyter-widgets/controls",
          "model_name": "DescriptionStyleModel",
          "model_module_version": "1.5.0",
          "state": {
            "_model_module": "@jupyter-widgets/controls",
            "_model_module_version": "1.5.0",
            "_model_name": "DescriptionStyleModel",
            "_view_count": null,
            "_view_module": "@jupyter-widgets/base",
            "_view_module_version": "1.2.0",
            "_view_name": "StyleView",
            "description_width": ""
          }
        },
        "b97451e2e6284b6a819e121fc16b255a": {
          "model_module": "@jupyter-widgets/base",
          "model_name": "LayoutModel",
          "model_module_version": "1.2.0",
          "state": {
            "_model_module": "@jupyter-widgets/base",
            "_model_module_version": "1.2.0",
            "_model_name": "LayoutModel",
            "_view_count": null,
            "_view_module": "@jupyter-widgets/base",
            "_view_module_version": "1.2.0",
            "_view_name": "LayoutView",
            "align_content": null,
            "align_items": null,
            "align_self": null,
            "border": null,
            "bottom": null,
            "display": null,
            "flex": null,
            "flex_flow": null,
            "grid_area": null,
            "grid_auto_columns": null,
            "grid_auto_flow": null,
            "grid_auto_rows": null,
            "grid_column": null,
            "grid_gap": null,
            "grid_row": null,
            "grid_template_areas": null,
            "grid_template_columns": null,
            "grid_template_rows": null,
            "height": null,
            "justify_content": null,
            "justify_items": null,
            "left": null,
            "margin": null,
            "max_height": null,
            "max_width": null,
            "min_height": null,
            "min_width": null,
            "object_fit": null,
            "object_position": null,
            "order": null,
            "overflow": null,
            "overflow_x": null,
            "overflow_y": null,
            "padding": null,
            "right": null,
            "top": null,
            "visibility": null,
            "width": null
          }
        },
        "5545143bac4048f0aab9e52fad09bdf8": {
          "model_module": "@jupyter-widgets/controls",
          "model_name": "ProgressStyleModel",
          "model_module_version": "1.5.0",
          "state": {
            "_model_module": "@jupyter-widgets/controls",
            "_model_module_version": "1.5.0",
            "_model_name": "ProgressStyleModel",
            "_view_count": null,
            "_view_module": "@jupyter-widgets/base",
            "_view_module_version": "1.2.0",
            "_view_name": "StyleView",
            "bar_color": null,
            "description_width": ""
          }
        },
        "01f754a5d84941b29cd61f9c26050702": {
          "model_module": "@jupyter-widgets/base",
          "model_name": "LayoutModel",
          "model_module_version": "1.2.0",
          "state": {
            "_model_module": "@jupyter-widgets/base",
            "_model_module_version": "1.2.0",
            "_model_name": "LayoutModel",
            "_view_count": null,
            "_view_module": "@jupyter-widgets/base",
            "_view_module_version": "1.2.0",
            "_view_name": "LayoutView",
            "align_content": null,
            "align_items": null,
            "align_self": null,
            "border": null,
            "bottom": null,
            "display": null,
            "flex": null,
            "flex_flow": null,
            "grid_area": null,
            "grid_auto_columns": null,
            "grid_auto_flow": null,
            "grid_auto_rows": null,
            "grid_column": null,
            "grid_gap": null,
            "grid_row": null,
            "grid_template_areas": null,
            "grid_template_columns": null,
            "grid_template_rows": null,
            "height": null,
            "justify_content": null,
            "justify_items": null,
            "left": null,
            "margin": null,
            "max_height": null,
            "max_width": null,
            "min_height": null,
            "min_width": null,
            "object_fit": null,
            "object_position": null,
            "order": null,
            "overflow": null,
            "overflow_x": null,
            "overflow_y": null,
            "padding": null,
            "right": null,
            "top": null,
            "visibility": null,
            "width": null
          }
        },
        "95f27dc37b01478f86eb95b7c3cdcf94": {
          "model_module": "@jupyter-widgets/controls",
          "model_name": "DescriptionStyleModel",
          "model_module_version": "1.5.0",
          "state": {
            "_model_module": "@jupyter-widgets/controls",
            "_model_module_version": "1.5.0",
            "_model_name": "DescriptionStyleModel",
            "_view_count": null,
            "_view_module": "@jupyter-widgets/base",
            "_view_module_version": "1.2.0",
            "_view_name": "StyleView",
            "description_width": ""
          }
        },
        "958d8359360747a38c0966457dc49e7b": {
          "model_module": "@jupyter-widgets/controls",
          "model_name": "HBoxModel",
          "model_module_version": "1.5.0",
          "state": {
            "_dom_classes": [],
            "_model_module": "@jupyter-widgets/controls",
            "_model_module_version": "1.5.0",
            "_model_name": "HBoxModel",
            "_view_count": null,
            "_view_module": "@jupyter-widgets/controls",
            "_view_module_version": "1.5.0",
            "_view_name": "HBoxView",
            "box_style": "",
            "children": [
              "IPY_MODEL_b5d93183922c4c8c8334bd764e16e8bb",
              "IPY_MODEL_0efc916a3c684777a7a9724fe7d352f7",
              "IPY_MODEL_7a6bdb60c1b5488ebb490a8dda087b1c"
            ],
            "layout": "IPY_MODEL_9425e3d4fea84bc6a766cb8436d91838"
          }
        },
        "b5d93183922c4c8c8334bd764e16e8bb": {
          "model_module": "@jupyter-widgets/controls",
          "model_name": "HTMLModel",
          "model_module_version": "1.5.0",
          "state": {
            "_dom_classes": [],
            "_model_module": "@jupyter-widgets/controls",
            "_model_module_version": "1.5.0",
            "_model_name": "HTMLModel",
            "_view_count": null,
            "_view_module": "@jupyter-widgets/controls",
            "_view_module_version": "1.5.0",
            "_view_name": "HTMLView",
            "description": "",
            "description_tooltip": null,
            "layout": "IPY_MODEL_4b03a6c9ffd34c9cb1c71212bc40ed9c",
            "placeholder": "​",
            "style": "IPY_MODEL_4c2b047f12f24d83b83fbb37dcc47466",
            "value": "Downloading (…)/main/tokenizer.json: 100%"
          }
        },
        "0efc916a3c684777a7a9724fe7d352f7": {
          "model_module": "@jupyter-widgets/controls",
          "model_name": "FloatProgressModel",
          "model_module_version": "1.5.0",
          "state": {
            "_dom_classes": [],
            "_model_module": "@jupyter-widgets/controls",
            "_model_module_version": "1.5.0",
            "_model_name": "FloatProgressModel",
            "_view_count": null,
            "_view_module": "@jupyter-widgets/controls",
            "_view_module_version": "1.5.0",
            "_view_name": "ProgressView",
            "bar_style": "success",
            "description": "",
            "description_tooltip": null,
            "layout": "IPY_MODEL_25ce6caca1ce43dcb49a5ba916099716",
            "max": 1355256,
            "min": 0,
            "orientation": "horizontal",
            "style": "IPY_MODEL_46f90aa682474f9cad5970d32002f2a3",
            "value": 1355256
          }
        },
        "7a6bdb60c1b5488ebb490a8dda087b1c": {
          "model_module": "@jupyter-widgets/controls",
          "model_name": "HTMLModel",
          "model_module_version": "1.5.0",
          "state": {
            "_dom_classes": [],
            "_model_module": "@jupyter-widgets/controls",
            "_model_module_version": "1.5.0",
            "_model_name": "HTMLModel",
            "_view_count": null,
            "_view_module": "@jupyter-widgets/controls",
            "_view_module_version": "1.5.0",
            "_view_name": "HTMLView",
            "description": "",
            "description_tooltip": null,
            "layout": "IPY_MODEL_6a4e56acb2434c3c9fb9ea30c83e1396",
            "placeholder": "​",
            "style": "IPY_MODEL_12338ebf847b47f0906f22d7876de529",
            "value": " 1.36M/1.36M [00:00&lt;00:00, 8.26MB/s]"
          }
        },
        "9425e3d4fea84bc6a766cb8436d91838": {
          "model_module": "@jupyter-widgets/base",
          "model_name": "LayoutModel",
          "model_module_version": "1.2.0",
          "state": {
            "_model_module": "@jupyter-widgets/base",
            "_model_module_version": "1.2.0",
            "_model_name": "LayoutModel",
            "_view_count": null,
            "_view_module": "@jupyter-widgets/base",
            "_view_module_version": "1.2.0",
            "_view_name": "LayoutView",
            "align_content": null,
            "align_items": null,
            "align_self": null,
            "border": null,
            "bottom": null,
            "display": null,
            "flex": null,
            "flex_flow": null,
            "grid_area": null,
            "grid_auto_columns": null,
            "grid_auto_flow": null,
            "grid_auto_rows": null,
            "grid_column": null,
            "grid_gap": null,
            "grid_row": null,
            "grid_template_areas": null,
            "grid_template_columns": null,
            "grid_template_rows": null,
            "height": null,
            "justify_content": null,
            "justify_items": null,
            "left": null,
            "margin": null,
            "max_height": null,
            "max_width": null,
            "min_height": null,
            "min_width": null,
            "object_fit": null,
            "object_position": null,
            "order": null,
            "overflow": null,
            "overflow_x": null,
            "overflow_y": null,
            "padding": null,
            "right": null,
            "top": null,
            "visibility": null,
            "width": null
          }
        },
        "4b03a6c9ffd34c9cb1c71212bc40ed9c": {
          "model_module": "@jupyter-widgets/base",
          "model_name": "LayoutModel",
          "model_module_version": "1.2.0",
          "state": {
            "_model_module": "@jupyter-widgets/base",
            "_model_module_version": "1.2.0",
            "_model_name": "LayoutModel",
            "_view_count": null,
            "_view_module": "@jupyter-widgets/base",
            "_view_module_version": "1.2.0",
            "_view_name": "LayoutView",
            "align_content": null,
            "align_items": null,
            "align_self": null,
            "border": null,
            "bottom": null,
            "display": null,
            "flex": null,
            "flex_flow": null,
            "grid_area": null,
            "grid_auto_columns": null,
            "grid_auto_flow": null,
            "grid_auto_rows": null,
            "grid_column": null,
            "grid_gap": null,
            "grid_row": null,
            "grid_template_areas": null,
            "grid_template_columns": null,
            "grid_template_rows": null,
            "height": null,
            "justify_content": null,
            "justify_items": null,
            "left": null,
            "margin": null,
            "max_height": null,
            "max_width": null,
            "min_height": null,
            "min_width": null,
            "object_fit": null,
            "object_position": null,
            "order": null,
            "overflow": null,
            "overflow_x": null,
            "overflow_y": null,
            "padding": null,
            "right": null,
            "top": null,
            "visibility": null,
            "width": null
          }
        },
        "4c2b047f12f24d83b83fbb37dcc47466": {
          "model_module": "@jupyter-widgets/controls",
          "model_name": "DescriptionStyleModel",
          "model_module_version": "1.5.0",
          "state": {
            "_model_module": "@jupyter-widgets/controls",
            "_model_module_version": "1.5.0",
            "_model_name": "DescriptionStyleModel",
            "_view_count": null,
            "_view_module": "@jupyter-widgets/base",
            "_view_module_version": "1.2.0",
            "_view_name": "StyleView",
            "description_width": ""
          }
        },
        "25ce6caca1ce43dcb49a5ba916099716": {
          "model_module": "@jupyter-widgets/base",
          "model_name": "LayoutModel",
          "model_module_version": "1.2.0",
          "state": {
            "_model_module": "@jupyter-widgets/base",
            "_model_module_version": "1.2.0",
            "_model_name": "LayoutModel",
            "_view_count": null,
            "_view_module": "@jupyter-widgets/base",
            "_view_module_version": "1.2.0",
            "_view_name": "LayoutView",
            "align_content": null,
            "align_items": null,
            "align_self": null,
            "border": null,
            "bottom": null,
            "display": null,
            "flex": null,
            "flex_flow": null,
            "grid_area": null,
            "grid_auto_columns": null,
            "grid_auto_flow": null,
            "grid_auto_rows": null,
            "grid_column": null,
            "grid_gap": null,
            "grid_row": null,
            "grid_template_areas": null,
            "grid_template_columns": null,
            "grid_template_rows": null,
            "height": null,
            "justify_content": null,
            "justify_items": null,
            "left": null,
            "margin": null,
            "max_height": null,
            "max_width": null,
            "min_height": null,
            "min_width": null,
            "object_fit": null,
            "object_position": null,
            "order": null,
            "overflow": null,
            "overflow_x": null,
            "overflow_y": null,
            "padding": null,
            "right": null,
            "top": null,
            "visibility": null,
            "width": null
          }
        },
        "46f90aa682474f9cad5970d32002f2a3": {
          "model_module": "@jupyter-widgets/controls",
          "model_name": "ProgressStyleModel",
          "model_module_version": "1.5.0",
          "state": {
            "_model_module": "@jupyter-widgets/controls",
            "_model_module_version": "1.5.0",
            "_model_name": "ProgressStyleModel",
            "_view_count": null,
            "_view_module": "@jupyter-widgets/base",
            "_view_module_version": "1.2.0",
            "_view_name": "StyleView",
            "bar_color": null,
            "description_width": ""
          }
        },
        "6a4e56acb2434c3c9fb9ea30c83e1396": {
          "model_module": "@jupyter-widgets/base",
          "model_name": "LayoutModel",
          "model_module_version": "1.2.0",
          "state": {
            "_model_module": "@jupyter-widgets/base",
            "_model_module_version": "1.2.0",
            "_model_name": "LayoutModel",
            "_view_count": null,
            "_view_module": "@jupyter-widgets/base",
            "_view_module_version": "1.2.0",
            "_view_name": "LayoutView",
            "align_content": null,
            "align_items": null,
            "align_self": null,
            "border": null,
            "bottom": null,
            "display": null,
            "flex": null,
            "flex_flow": null,
            "grid_area": null,
            "grid_auto_columns": null,
            "grid_auto_flow": null,
            "grid_auto_rows": null,
            "grid_column": null,
            "grid_gap": null,
            "grid_row": null,
            "grid_template_areas": null,
            "grid_template_columns": null,
            "grid_template_rows": null,
            "height": null,
            "justify_content": null,
            "justify_items": null,
            "left": null,
            "margin": null,
            "max_height": null,
            "max_width": null,
            "min_height": null,
            "min_width": null,
            "object_fit": null,
            "object_position": null,
            "order": null,
            "overflow": null,
            "overflow_x": null,
            "overflow_y": null,
            "padding": null,
            "right": null,
            "top": null,
            "visibility": null,
            "width": null
          }
        },
        "12338ebf847b47f0906f22d7876de529": {
          "model_module": "@jupyter-widgets/controls",
          "model_name": "DescriptionStyleModel",
          "model_module_version": "1.5.0",
          "state": {
            "_model_module": "@jupyter-widgets/controls",
            "_model_module_version": "1.5.0",
            "_model_name": "DescriptionStyleModel",
            "_view_count": null,
            "_view_module": "@jupyter-widgets/base",
            "_view_module_version": "1.2.0",
            "_view_name": "StyleView",
            "description_width": ""
          }
        }
      }
    }
  },
  "nbformat": 4,
  "nbformat_minor": 5
}